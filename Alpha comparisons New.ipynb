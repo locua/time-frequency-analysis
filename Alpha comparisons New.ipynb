{
 "cells": [
  {
   "cell_type": "code",
   "execution_count": 42,
   "metadata": {},
   "outputs": [],
   "source": [
    "import re\n",
    "import os\n",
    "import mne\n",
    "import math\n",
    "import scipy.stats\n",
    "import numpy as np\n",
    "import pandas as pd\n",
    "import seaborn as sns\n",
    "import scipy.stats as stats\n",
    "import matplotlib.colors as mc\n",
    "import matplotlib.pyplot as plt\n",
    "\n",
    "import pingouin as pg\n",
    "\n",
    "# Global variables\n",
    "tab10 = list(mc.TABLEAU_COLORS.values())\n",
    "\n",
    "event_map = {'Comment/101':101, \n",
    "             'Comment/109':109,\n",
    "             'Comment/30':30,\n",
    "             'Comment/40':40,\n",
    "             'Comment/50':50,\n",
    "             'Comment/51':51,\n",
    "             'Comment/52':52,\n",
    "             'Comment/60':60,\n",
    "             'Comment/70':70,\n",
    "             'Comment/80':80,\n",
    "             'New Segment/':99999}\n",
    "\n",
    "montage = mne.channels.read_custom_montage('./BC-MR3-64.bvef')"
   ]
  },
  {
   "cell_type": "code",
   "execution_count": 3,
   "metadata": {},
   "outputs": [],
   "source": [
    "# Get active and sham groups from main csv\n",
    "df = pd.read_csv('../joint/msc_collated_data_20230709.csv')\n",
    "df = df[[\"participant_number\", \"session_type\"]].drop_duplicates()\n",
    "\n",
    "def remove_doubles(x):\n",
    "    if(x.nunique()==2):\n",
    "        return 'sham group'\n",
    "    elif(x.nunique()==1):\n",
    "        return 'active group'\n",
    "\n",
    "df[\"condition\"] = df.groupby('participant_number')['session_type'].transform(remove_doubles)\n",
    "df = df.drop(columns=\"session_type\").drop_duplicates()\n",
    "df['participant_number'] = df['participant_number'].replace(r'sub-', r'm_', regex=True)\n",
    "\n",
    "active_ids = df[df.condition=='active group'].participant_number.to_list()\n",
    "sham_ids = df[df.condition=='sham group'].participant_number.to_list()\n",
    "# active_ids, sham_ids"
   ]
  },
  {
   "cell_type": "code",
   "execution_count": 4,
   "metadata": {},
   "outputs": [],
   "source": [
    "# Get list of filenames for each group:\n",
    "cleaned_dir = './ica_notebooks/cleaned'\n",
    "\n",
    "active_eeg_files = []\n",
    "sham_eeg_files = []\n",
    "\n",
    "for root, dirs, files in os.walk(cleaned_dir):\n",
    "    for file in files:\n",
    "        # Actives\n",
    "        if file.endswith('.vhdr') and any(id in file for id in active_ids):\n",
    "            active_eeg_files.append(os.path.join(root, file))\n",
    "        # Sham \n",
    "        elif file.endswith('.vhdr') and any(id in file for id in sham_ids):\n",
    "            sham_eeg_files.append(os.path.join(root, file))\n",
    "\n",
    "active2bs = []\n",
    "active2as = []\n",
    "active1as = []\n",
    "active1bs = []\n",
    "sham2bs = []\n",
    "sham2as = []\n",
    "sham1as = []\n",
    "sham1bs = []\n",
    "\n",
    "# Just look at Posner 2b\n",
    "for x in active_eeg_files:\n",
    "    if 'pos2b' in x:\n",
    "        active2bs.append(x)\n",
    "    if 'pos1a' in x:\n",
    "        active1as.append(x)\n",
    "    if 'pos1b' in x:\n",
    "        active1bs.append(x)\n",
    "    if 'pos2a' in x:\n",
    "        active2as.append(x)\n",
    "for x in sham_eeg_files:\n",
    "    if 'pos2b' in x:\n",
    "        sham2bs.append(x)\n",
    "    if 'pos1a' in x:\n",
    "        sham1as.append(x)\n",
    "    if 'pos1b' in x:\n",
    "        sham1bs.append(x)\n",
    "    if 'pos2a' in x:\n",
    "        sham2as.append(x)"
   ]
  },
  {
   "cell_type": "code",
   "execution_count": 5,
   "metadata": {},
   "outputs": [],
   "source": [
    "# All Posners tasks over all groups and sessions\n",
    "all_pos = active2bs+active1as+active2as+active1bs+sham2as+sham2bs+sham1as+sham2bs\n",
    "\n",
    "# Posners by condition\n",
    "actives = active2as + active2bs + active1as + active1bs\n",
    "shams = sham1as + sham1bs + sham2as +sham2bs\n",
    "\n",
    "# Session only Posner tasks\n",
    "all2s = active2bs+sham2bs+active2as+sham2as\n",
    "all1s = active1as+active1bs+sham1as+sham1bs\n",
    "\n",
    "# First or second only Posner\n",
    "allbs = active2bs + active1bs + sham2bs + sham1bs\n",
    "allas = active2as + active1as + sham2as + sham1as\n",
    "\n",
    "all2bs = active2bs+sham2bs"
   ]
  },
  {
   "cell_type": "code",
   "execution_count": 6,
   "metadata": {},
   "outputs": [],
   "source": [
    "import tqdm\n",
    "def gather_epochs(file_names, event_ids=event_map):\n",
    "    epochs_list = []\n",
    "    for file in tqdm.tqdm(file_names):\n",
    "        # Load raw\n",
    "        raw = mne.io.read_raw(file, preload=True)\n",
    "        print('dropping channel');raw.drop_channels('ECG')\n",
    "        # Filter ?\n",
    "        filt_raw = raw.copy().filter(l_freq=3, h_freq=30)\n",
    "        # Events\n",
    "        events, event_id = mne.events_from_annotations(raw, event_map) # get events\n",
    "        # Re-reference\n",
    "        avg_ref = filt_raw.copy().set_eeg_reference(ref_channels=\"average\")\n",
    "        # Epoch rejection rule\n",
    "        reject_criteria=dict(eeg=800e6)\n",
    "        # Get epochs\n",
    "        epochs = mne.Epochs(raw=avg_ref, \n",
    "                            events=events, \n",
    "                            event_id=event_ids, \n",
    "                            reject=reject_criteria,\n",
    "                            detrend=0, \n",
    "                            tmin=-0.5, \n",
    "                            tmax=2, \n",
    "                            # baseline=(-0.5, 0),\n",
    "                            baseline=(0, None),\n",
    "                            preload=True,\n",
    "                            # picks=picks,\n",
    "                            event_repeated='drop')\n",
    "\n",
    "        epochs.set_montage(montage)\n",
    "        epochs_list.append([epochs, file])\n",
    "        del raw\n",
    "        del filt_raw\n",
    "        del avg_ref\n",
    "        del epochs\n",
    "        # del filt_raw\n",
    "    return epochs_list"
   ]
  },
  {
   "cell_type": "code",
   "execution_count": 7,
   "metadata": {},
   "outputs": [
    {
     "data": {
      "text/html": [
       "<div>\n",
       "<style scoped>\n",
       "    .dataframe tbody tr th:only-of-type {\n",
       "        vertical-align: middle;\n",
       "    }\n",
       "\n",
       "    .dataframe tbody tr th {\n",
       "        vertical-align: top;\n",
       "    }\n",
       "\n",
       "    .dataframe thead th {\n",
       "        text-align: right;\n",
       "    }\n",
       "</style>\n",
       "<table border=\"1\" class=\"dataframe\">\n",
       "  <thead>\n",
       "    <tr style=\"text-align: right;\">\n",
       "      <th></th>\n",
       "      <th>IAF</th>\n",
       "      <th>Participant</th>\n",
       "      <th>Session</th>\n",
       "    </tr>\n",
       "  </thead>\n",
       "  <tbody>\n",
       "    <tr>\n",
       "      <th>0</th>\n",
       "      <td>10.50</td>\n",
       "      <td>0</td>\n",
       "      <td>2</td>\n",
       "    </tr>\n",
       "    <tr>\n",
       "      <th>1</th>\n",
       "      <td>9.25</td>\n",
       "      <td>1</td>\n",
       "      <td>2</td>\n",
       "    </tr>\n",
       "    <tr>\n",
       "      <th>2</th>\n",
       "      <td>9.75</td>\n",
       "      <td>2</td>\n",
       "      <td>2</td>\n",
       "    </tr>\n",
       "    <tr>\n",
       "      <th>3</th>\n",
       "      <td>10.00</td>\n",
       "      <td>3</td>\n",
       "      <td>2</td>\n",
       "    </tr>\n",
       "    <tr>\n",
       "      <th>4</th>\n",
       "      <td>9.50</td>\n",
       "      <td>4</td>\n",
       "      <td>2</td>\n",
       "    </tr>\n",
       "  </tbody>\n",
       "</table>\n",
       "</div>"
      ],
      "text/plain": [
       "     IAF  Participant  Session\n",
       "0  10.50            0        2\n",
       "1   9.25            1        2\n",
       "2   9.75            2        2\n",
       "3  10.00            3        2\n",
       "4   9.50            4        2"
      ]
     },
     "execution_count": 7,
     "metadata": {},
     "output_type": "execute_result"
    }
   ],
   "source": [
    "# Import indivual alpha frequencies\n",
    "df_iaf = pd.read_csv('./participant_IAF_frequencies.csv')\n",
    "# Create a new DataFrame for iaf_2 values with session = 2\n",
    "df_iaf_2 = df_iaf[['IAF_2', 'participant_id']].rename(columns={'IAF_2': 'IAF', 'participant_id': 'Participant'})\n",
    "df_iaf_2['Session'] = 2\n",
    "\n",
    "# Create a new DataFrame for iaf_1 values with session = 1\n",
    "df_iaf_1 = df_iaf[['IAF_1', 'participant_id']].rename(columns={'IAF_1': 'IAF', 'participant_id': 'Participant'})\n",
    "df_iaf_1['Session'] = 1\n",
    "df_iaf = pd.concat([df_iaf_2, df_iaf_1], ignore_index=True)\n",
    "df_iaf.head()"
   ]
  },
  {
   "cell_type": "code",
   "execution_count": 8,
   "metadata": {},
   "outputs": [
    {
     "name": "stderr",
     "output_type": "stream",
     "text": [
      "/var/folders/2b/4tnqzv_x3x17pf4q1_n7m8h40000gn/T/ipykernel_2666/1506380376.py:4: SettingWithCopyWarning: \n",
      "A value is trying to be set on a copy of a slice from a DataFrame.\n",
      "Try using .loc[row_indexer,col_indexer] = value instead\n",
      "\n",
      "See the caveats in the documentation: https://pandas.pydata.org/pandas-docs/stable/user_guide/indexing.html#returning-a-view-versus-a-copy\n",
      "  base_ec_powers['participant'] = base_ec_powers['participant'].astype(int)\n",
      "/var/folders/2b/4tnqzv_x3x17pf4q1_n7m8h40000gn/T/ipykernel_2666/1506380376.py:5: SettingWithCopyWarning: \n",
      "A value is trying to be set on a copy of a slice from a DataFrame.\n",
      "Try using .loc[row_indexer,col_indexer] = value instead\n",
      "\n",
      "See the caveats in the documentation: https://pandas.pydata.org/pandas-docs/stable/user_guide/indexing.html#returning-a-view-versus-a-copy\n",
      "  base_ec_powers['session'] = base_ec_powers['session'].astype(int)\n"
     ]
    },
    {
     "data": {
      "text/html": [
       "<div>\n",
       "<style scoped>\n",
       "    .dataframe tbody tr th:only-of-type {\n",
       "        vertical-align: middle;\n",
       "    }\n",
       "\n",
       "    .dataframe tbody tr th {\n",
       "        vertical-align: top;\n",
       "    }\n",
       "\n",
       "    .dataframe thead th {\n",
       "        text-align: right;\n",
       "    }\n",
       "</style>\n",
       "<table border=\"1\" class=\"dataframe\">\n",
       "  <thead>\n",
       "    <tr style=\"text-align: right;\">\n",
       "      <th></th>\n",
       "      <th>Participant</th>\n",
       "      <th>Session</th>\n",
       "      <th>ROI</th>\n",
       "      <th>baseline_power</th>\n",
       "    </tr>\n",
       "  </thead>\n",
       "  <tbody>\n",
       "    <tr>\n",
       "      <th>4</th>\n",
       "      <td>0</td>\n",
       "      <td>1</td>\n",
       "      <td>left nfb aai</td>\n",
       "      <td>0.041840</td>\n",
       "    </tr>\n",
       "    <tr>\n",
       "      <th>5</th>\n",
       "      <td>0</td>\n",
       "      <td>1</td>\n",
       "      <td>right nfb aai</td>\n",
       "      <td>0.035796</td>\n",
       "    </tr>\n",
       "    <tr>\n",
       "      <th>6</th>\n",
       "      <td>0</td>\n",
       "      <td>1</td>\n",
       "      <td>left hemisphere</td>\n",
       "      <td>0.040214</td>\n",
       "    </tr>\n",
       "    <tr>\n",
       "      <th>7</th>\n",
       "      <td>0</td>\n",
       "      <td>1</td>\n",
       "      <td>right hemisphere</td>\n",
       "      <td>0.033678</td>\n",
       "    </tr>\n",
       "    <tr>\n",
       "      <th>12</th>\n",
       "      <td>0</td>\n",
       "      <td>2</td>\n",
       "      <td>left nfb aai</td>\n",
       "      <td>0.036333</td>\n",
       "    </tr>\n",
       "    <tr>\n",
       "      <th>...</th>\n",
       "      <td>...</td>\n",
       "      <td>...</td>\n",
       "      <td>...</td>\n",
       "      <td>...</td>\n",
       "    </tr>\n",
       "    <tr>\n",
       "      <th>327</th>\n",
       "      <td>20</td>\n",
       "      <td>1</td>\n",
       "      <td>right hemisphere</td>\n",
       "      <td>0.213273</td>\n",
       "    </tr>\n",
       "    <tr>\n",
       "      <th>332</th>\n",
       "      <td>20</td>\n",
       "      <td>2</td>\n",
       "      <td>left nfb aai</td>\n",
       "      <td>0.039979</td>\n",
       "    </tr>\n",
       "    <tr>\n",
       "      <th>333</th>\n",
       "      <td>20</td>\n",
       "      <td>2</td>\n",
       "      <td>right nfb aai</td>\n",
       "      <td>0.043475</td>\n",
       "    </tr>\n",
       "    <tr>\n",
       "      <th>334</th>\n",
       "      <td>20</td>\n",
       "      <td>2</td>\n",
       "      <td>left hemisphere</td>\n",
       "      <td>0.041839</td>\n",
       "    </tr>\n",
       "    <tr>\n",
       "      <th>335</th>\n",
       "      <td>20</td>\n",
       "      <td>2</td>\n",
       "      <td>right hemisphere</td>\n",
       "      <td>0.044128</td>\n",
       "    </tr>\n",
       "  </tbody>\n",
       "</table>\n",
       "<p>168 rows × 4 columns</p>\n",
       "</div>"
      ],
      "text/plain": [
       "     Participant  Session               ROI  baseline_power\n",
       "4              0        1      left nfb aai        0.041840\n",
       "5              0        1     right nfb aai        0.035796\n",
       "6              0        1   left hemisphere        0.040214\n",
       "7              0        1  right hemisphere        0.033678\n",
       "12             0        2      left nfb aai        0.036333\n",
       "..           ...      ...               ...             ...\n",
       "327           20        1  right hemisphere        0.213273\n",
       "332           20        2      left nfb aai        0.039979\n",
       "333           20        2     right nfb aai        0.043475\n",
       "334           20        2   left hemisphere        0.041839\n",
       "335           20        2  right hemisphere        0.044128\n",
       "\n",
       "[168 rows x 4 columns]"
      ]
     },
     "execution_count": 8,
     "metadata": {},
     "output_type": "execute_result"
    }
   ],
   "source": [
    "# Import baseline alpha data\n",
    "baseline_powers = pd.read_csv('./baseline_powers.csv')\n",
    "base_ec_powers = baseline_powers[baseline_powers['baseline type']=='baseline_ec']\n",
    "base_ec_powers['participant'] = base_ec_powers['participant'].astype(int)\n",
    "base_ec_powers['session'] = base_ec_powers['session'].astype(int)\n",
    "base_ec_powers = base_ec_powers.drop(columns=['code', 'baseline', 'baseline type', 'time'])\n",
    "base_ec_powers.rename(columns={'power': 'baseline_power', 'participant':'Participant', 'session':'Session'}, inplace=True)\n",
    "base_ec_powers"
   ]
  },
  {
   "cell_type": "code",
   "execution_count": 9,
   "metadata": {},
   "outputs": [
    {
     "name": "stderr",
     "output_type": "stream",
     "text": [
      "  0%|          | 0/79 [00:00<?, ?it/s]"
     ]
    },
    {
     "name": "stdout",
     "output_type": "stream",
     "text": [
      "Extracting parameters from ./ica_notebooks/cleaned/m_09_02/m_09_02_pos2b.vhdr...\n",
      "Setting channel info structure...\n"
     ]
    },
    {
     "name": "stdout",
     "output_type": "stream",
     "text": [
      "Reading 0 ... 516619  =      0.000 ...   516.619 secs...\n",
      "dropping channel\n",
      "Filtering raw data in 1 contiguous segment\n",
      "Setting up band-pass filter from 3 - 30 Hz\n",
      "\n",
      "FIR filter parameters\n",
      "---------------------\n",
      "Designing a one-pass, zero-phase, non-causal bandpass filter:\n",
      "- Windowed time-domain design (firwin) method\n",
      "- Hamming window with 0.0194 passband ripple and 53 dB stopband attenuation\n",
      "- Lower passband edge: 3.00\n",
      "- Lower transition bandwidth: 2.00 Hz (-6 dB cutoff frequency: 2.00 Hz)\n",
      "- Upper passband edge: 30.00 Hz\n",
      "- Upper transition bandwidth: 7.50 Hz (-6 dB cutoff frequency: 33.75 Hz)\n",
      "- Filter length: 1651 samples (1.651 s)\n",
      "\n"
     ]
    },
    {
     "name": "stderr",
     "output_type": "stream",
     "text": [
      "[Parallel(n_jobs=1)]: Using backend SequentialBackend with 1 concurrent workers.\n",
      "[Parallel(n_jobs=1)]: Done   1 out of   1 | elapsed:    0.0s remaining:    0.0s\n",
      "[Parallel(n_jobs=1)]: Done   2 out of   2 | elapsed:    0.0s remaining:    0.0s\n",
      "[Parallel(n_jobs=1)]: Done   3 out of   3 | elapsed:    0.0s remaining:    0.0s\n",
      "[Parallel(n_jobs=1)]: Done   4 out of   4 | elapsed:    0.0s remaining:    0.0s\n"
     ]
    },
    {
     "name": "stdout",
     "output_type": "stream",
     "text": [
      "Used Annotations descriptions: ['Comment/101', 'Comment/109', 'Comment/30', 'Comment/40', 'Comment/50', 'Comment/51', 'Comment/52', 'Comment/60', 'Comment/70', 'Comment/80', 'New Segment/']\n",
      "EEG channel type selected for re-referencing\n",
      "Applying average reference.\n",
      "Applying a custom ('EEG',) reference.\n",
      "Multiple event values for single event times found. Keeping the first occurrence and dropping all others.\n",
      "Not setting metadata\n",
      "308 matching events found\n",
      "Setting baseline interval to [0.0, 2.0] s\n",
      "Applying baseline correction (mode: mean)\n",
      "0 projection items activated\n",
      "Using data from preloaded Raw for 308 events and 2501 original time points ...\n"
     ]
    },
    {
     "name": "stderr",
     "output_type": "stream",
     "text": [
      "[Parallel(n_jobs=1)]: Done  63 out of  63 | elapsed:    0.4s finished\n"
     ]
    },
    {
     "name": "stdout",
     "output_type": "stream",
     "text": [
      "2 bad epochs dropped\n"
     ]
    },
    {
     "name": "stderr",
     "output_type": "stream",
     "text": [
      "/var/folders/2b/4tnqzv_x3x17pf4q1_n7m8h40000gn/T/ipykernel_2666/3240740927.py:30: RuntimeWarning: Fiducial point nasion not found, assuming identity unknown to head transformation\n",
      "  epochs.set_montage(montage)\n",
      "  1%|▏         | 1/79 [00:01<01:56,  1.49s/it]"
     ]
    },
    {
     "name": "stdout",
     "output_type": "stream",
     "text": [
      "Extracting parameters from ./ica_notebooks/cleaned/m_19_02/m_19_02_pos2b.vhdr...\n",
      "Setting channel info structure...\n",
      "Reading 0 ... 686119  =      0.000 ...   686.119 secs...\n",
      "dropping channel\n",
      "Filtering raw data in 1 contiguous segment\n",
      "Setting up band-pass filter from 3 - 30 Hz\n",
      "\n",
      "FIR filter parameters\n",
      "---------------------\n",
      "Designing a one-pass, zero-phase, non-causal bandpass filter:\n",
      "- Windowed time-domain design (firwin) method\n",
      "- Hamming window with 0.0194 passband ripple and 53 dB stopband attenuation\n",
      "- Lower passband edge: 3.00\n",
      "- Lower transition bandwidth: 2.00 Hz (-6 dB cutoff frequency: 2.00 Hz)\n",
      "- Upper passband edge: 30.00 Hz\n",
      "- Upper transition bandwidth: 7.50 Hz (-6 dB cutoff frequency: 33.75 Hz)\n",
      "- Filter length: 1651 samples (1.651 s)\n",
      "\n"
     ]
    },
    {
     "name": "stderr",
     "output_type": "stream",
     "text": [
      "[Parallel(n_jobs=1)]: Using backend SequentialBackend with 1 concurrent workers.\n",
      "[Parallel(n_jobs=1)]: Done   1 out of   1 | elapsed:    0.0s remaining:    0.0s\n",
      "[Parallel(n_jobs=1)]: Done   2 out of   2 | elapsed:    0.0s remaining:    0.0s\n",
      "[Parallel(n_jobs=1)]: Done   3 out of   3 | elapsed:    0.0s remaining:    0.0s\n",
      "[Parallel(n_jobs=1)]: Done   4 out of   4 | elapsed:    0.0s remaining:    0.0s\n"
     ]
    },
    {
     "name": "stdout",
     "output_type": "stream",
     "text": [
      "Used Annotations descriptions: ['Comment/101', 'Comment/109', 'Comment/30', 'Comment/40', 'Comment/50', 'Comment/51', 'Comment/52', 'Comment/60', 'Comment/70', 'Comment/80', 'New Segment/']\n",
      "EEG channel type selected for re-referencing\n",
      "Applying average reference.\n",
      "Applying a custom ('EEG',) reference.\n",
      "Multiple event values for single event times found. Keeping the first occurrence and dropping all others.\n",
      "Not setting metadata\n",
      "410 matching events found\n"
     ]
    },
    {
     "name": "stderr",
     "output_type": "stream",
     "text": [
      "[Parallel(n_jobs=1)]: Done  63 out of  63 | elapsed:    0.6s finished\n"
     ]
    },
    {
     "name": "stdout",
     "output_type": "stream",
     "text": [
      "Setting baseline interval to [0.0, 2.0] s\n",
      "Applying baseline correction (mode: mean)\n",
      "0 projection items activated\n",
      "Using data from preloaded Raw for 410 events and 2501 original time points ...\n",
      "3 bad epochs dropped\n"
     ]
    },
    {
     "name": "stderr",
     "output_type": "stream",
     "text": [
      "/var/folders/2b/4tnqzv_x3x17pf4q1_n7m8h40000gn/T/ipykernel_2666/3240740927.py:30: RuntimeWarning: Fiducial point nasion not found, assuming identity unknown to head transformation\n",
      "  epochs.set_montage(montage)\n",
      "  3%|▎         | 2/79 [00:03<02:02,  1.59s/it]"
     ]
    },
    {
     "name": "stdout",
     "output_type": "stream",
     "text": [
      "Extracting parameters from ./ica_notebooks/cleaned/m_07_02/m_07_02_pos2b.vhdr...\n",
      "Setting channel info structure...\n",
      "Reading 0 ... 678635  =      0.000 ...   678.635 secs...\n",
      "dropping channel\n",
      "Filtering raw data in 1 contiguous segment\n",
      "Setting up band-pass filter from 3 - 30 Hz\n",
      "\n",
      "FIR filter parameters\n",
      "---------------------\n",
      "Designing a one-pass, zero-phase, non-causal bandpass filter:\n",
      "- Windowed time-domain design (firwin) method\n",
      "- Hamming window with 0.0194 passband ripple and 53 dB stopband attenuation\n",
      "- Lower passband edge: 3.00\n",
      "- Lower transition bandwidth: 2.00 Hz (-6 dB cutoff frequency: 2.00 Hz)\n",
      "- Upper passband edge: 30.00 Hz\n",
      "- Upper transition bandwidth: 7.50 Hz (-6 dB cutoff frequency: 33.75 Hz)\n",
      "- Filter length: 1651 samples (1.651 s)\n",
      "\n"
     ]
    },
    {
     "name": "stderr",
     "output_type": "stream",
     "text": [
      "[Parallel(n_jobs=1)]: Using backend SequentialBackend with 1 concurrent workers.\n",
      "[Parallel(n_jobs=1)]: Done   1 out of   1 | elapsed:    0.0s remaining:    0.0s\n",
      "[Parallel(n_jobs=1)]: Done   2 out of   2 | elapsed:    0.0s remaining:    0.0s\n",
      "[Parallel(n_jobs=1)]: Done   3 out of   3 | elapsed:    0.0s remaining:    0.0s\n",
      "[Parallel(n_jobs=1)]: Done   4 out of   4 | elapsed:    0.1s remaining:    0.0s\n"
     ]
    },
    {
     "name": "stdout",
     "output_type": "stream",
     "text": [
      "Used Annotations descriptions: ['Comment/101', 'Comment/109', 'Comment/30', 'Comment/40', 'Comment/50', 'Comment/51', 'Comment/52', 'Comment/60', 'Comment/70', 'Comment/80', 'New Segment/']\n",
      "EEG channel type selected for re-referencing\n",
      "Applying average reference.\n",
      "Applying a custom ('EEG',) reference.\n",
      "Multiple event values for single event times found. Keeping the first occurrence and dropping all others.\n",
      "Not setting metadata\n",
      "410 matching events found\n",
      "Setting baseline interval to [0.0, 2.0] s\n",
      "Applying baseline correction (mode: mean)\n",
      "0 projection items activated\n",
      "Using data from preloaded Raw for 410 events and 2501 original time points ...\n"
     ]
    },
    {
     "name": "stderr",
     "output_type": "stream",
     "text": [
      "[Parallel(n_jobs=1)]: Done  63 out of  63 | elapsed:    0.7s finished\n"
     ]
    },
    {
     "name": "stdout",
     "output_type": "stream",
     "text": [
      "2 bad epochs dropped\n"
     ]
    },
    {
     "name": "stderr",
     "output_type": "stream",
     "text": [
      "/var/folders/2b/4tnqzv_x3x17pf4q1_n7m8h40000gn/T/ipykernel_2666/3240740927.py:30: RuntimeWarning: Fiducial point nasion not found, assuming identity unknown to head transformation\n",
      "  epochs.set_montage(montage)\n",
      "  4%|▍         | 3/79 [00:04<02:06,  1.67s/it]"
     ]
    },
    {
     "name": "stdout",
     "output_type": "stream",
     "text": [
      "Extracting parameters from ./ica_notebooks/cleaned/m_03_02/m_03_02_pos2b.vhdr...\n",
      "Setting channel info structure...\n",
      "Reading 0 ... 696262  =      0.000 ...   696.262 secs...\n",
      "dropping channel\n",
      "Filtering raw data in 1 contiguous segment\n",
      "Setting up band-pass filter from 3 - 30 Hz\n",
      "\n",
      "FIR filter parameters\n",
      "---------------------\n",
      "Designing a one-pass, zero-phase, non-causal bandpass filter:\n",
      "- Windowed time-domain design (firwin) method\n",
      "- Hamming window with 0.0194 passband ripple and 53 dB stopband attenuation\n",
      "- Lower passband edge: 3.00\n",
      "- Lower transition bandwidth: 2.00 Hz (-6 dB cutoff frequency: 2.00 Hz)\n",
      "- Upper passband edge: 30.00 Hz\n",
      "- Upper transition bandwidth: 7.50 Hz (-6 dB cutoff frequency: 33.75 Hz)\n",
      "- Filter length: 1651 samples (1.651 s)\n",
      "\n"
     ]
    },
    {
     "name": "stderr",
     "output_type": "stream",
     "text": [
      "[Parallel(n_jobs=1)]: Using backend SequentialBackend with 1 concurrent workers.\n",
      "[Parallel(n_jobs=1)]: Done   1 out of   1 | elapsed:    0.0s remaining:    0.0s\n",
      "[Parallel(n_jobs=1)]: Done   2 out of   2 | elapsed:    0.0s remaining:    0.0s\n",
      "[Parallel(n_jobs=1)]: Done   3 out of   3 | elapsed:    0.0s remaining:    0.0s\n",
      "[Parallel(n_jobs=1)]: Done   4 out of   4 | elapsed:    0.0s remaining:    0.0s\n"
     ]
    },
    {
     "name": "stdout",
     "output_type": "stream",
     "text": [
      "Used Annotations descriptions: ['Comment/101', 'Comment/109', 'Comment/30', 'Comment/40', 'Comment/50', 'Comment/51', 'Comment/52', 'Comment/60', 'Comment/70', 'Comment/80', 'New Segment/']\n",
      "EEG channel type selected for re-referencing\n",
      "Applying average reference.\n",
      "Applying a custom ('EEG',) reference.\n",
      "Multiple event values for single event times found. Keeping the first occurrence and dropping all others.\n",
      "Not setting metadata\n",
      "411 matching events found\n",
      "Setting baseline interval to [0.0, 2.0] s\n",
      "Applying baseline correction (mode: mean)\n",
      "0 projection items activated\n",
      "Using data from preloaded Raw for 411 events and 2501 original time points ...\n"
     ]
    },
    {
     "name": "stderr",
     "output_type": "stream",
     "text": [
      "[Parallel(n_jobs=1)]: Done  63 out of  63 | elapsed:    0.6s finished\n"
     ]
    },
    {
     "name": "stdout",
     "output_type": "stream",
     "text": [
      "2 bad epochs dropped\n"
     ]
    },
    {
     "name": "stderr",
     "output_type": "stream",
     "text": [
      "/var/folders/2b/4tnqzv_x3x17pf4q1_n7m8h40000gn/T/ipykernel_2666/3240740927.py:30: RuntimeWarning: Fiducial point nasion not found, assuming identity unknown to head transformation\n",
      "  epochs.set_montage(montage)\n",
      "  5%|▌         | 4/79 [00:06<02:06,  1.68s/it]"
     ]
    },
    {
     "name": "stdout",
     "output_type": "stream",
     "text": [
      "Extracting parameters from ./ica_notebooks/cleaned/m_16_02/m_16_02_pos2b.vhdr...\n",
      "Setting channel info structure...\n",
      "Reading 0 ... 700376  =      0.000 ...   700.376 secs...\n",
      "dropping channel\n",
      "Filtering raw data in 1 contiguous segment\n",
      "Setting up band-pass filter from 3 - 30 Hz\n",
      "\n",
      "FIR filter parameters\n",
      "---------------------\n",
      "Designing a one-pass, zero-phase, non-causal bandpass filter:\n",
      "- Windowed time-domain design (firwin) method\n",
      "- Hamming window with 0.0194 passband ripple and 53 dB stopband attenuation\n",
      "- Lower passband edge: 3.00\n",
      "- Lower transition bandwidth: 2.00 Hz (-6 dB cutoff frequency: 2.00 Hz)\n",
      "- Upper passband edge: 30.00 Hz\n",
      "- Upper transition bandwidth: 7.50 Hz (-6 dB cutoff frequency: 33.75 Hz)\n",
      "- Filter length: 1651 samples (1.651 s)\n",
      "\n"
     ]
    },
    {
     "name": "stderr",
     "output_type": "stream",
     "text": [
      "[Parallel(n_jobs=1)]: Using backend SequentialBackend with 1 concurrent workers.\n",
      "[Parallel(n_jobs=1)]: Done   1 out of   1 | elapsed:    0.0s remaining:    0.0s\n",
      "[Parallel(n_jobs=1)]: Done   2 out of   2 | elapsed:    0.0s remaining:    0.0s\n",
      "[Parallel(n_jobs=1)]: Done   3 out of   3 | elapsed:    0.0s remaining:    0.0s\n",
      "[Parallel(n_jobs=1)]: Done   4 out of   4 | elapsed:    0.0s remaining:    0.0s\n"
     ]
    },
    {
     "name": "stdout",
     "output_type": "stream",
     "text": [
      "Used Annotations descriptions: ['Comment/101', 'Comment/109', 'Comment/30', 'Comment/40', 'Comment/50', 'Comment/51', 'Comment/52', 'Comment/60', 'Comment/70', 'Comment/80', 'New Segment/']\n",
      "EEG channel type selected for re-referencing\n",
      "Applying average reference.\n",
      "Applying a custom ('EEG',) reference.\n"
     ]
    },
    {
     "name": "stderr",
     "output_type": "stream",
     "text": [
      "[Parallel(n_jobs=1)]: Done  63 out of  63 | elapsed:    0.6s finished\n"
     ]
    },
    {
     "name": "stdout",
     "output_type": "stream",
     "text": [
      "Multiple event values for single event times found. Keeping the first occurrence and dropping all others.\n",
      "Not setting metadata\n",
      "410 matching events found\n",
      "Setting baseline interval to [0.0, 2.0] s\n",
      "Applying baseline correction (mode: mean)\n",
      "0 projection items activated\n",
      "Using data from preloaded Raw for 410 events and 2501 original time points ...\n",
      "2 bad epochs dropped\n"
     ]
    },
    {
     "name": "stderr",
     "output_type": "stream",
     "text": [
      "/var/folders/2b/4tnqzv_x3x17pf4q1_n7m8h40000gn/T/ipykernel_2666/3240740927.py:30: RuntimeWarning: Fiducial point nasion not found, assuming identity unknown to head transformation\n",
      "  epochs.set_montage(montage)\n",
      "  6%|▋         | 5/79 [00:08<02:08,  1.74s/it]"
     ]
    },
    {
     "name": "stdout",
     "output_type": "stream",
     "text": [
      "Extracting parameters from ./ica_notebooks/cleaned/m_15_02/m_15_02_pos2b.vhdr...\n",
      "Setting channel info structure...\n",
      "Reading 0 ... 687590  =      0.000 ...   687.590 secs...\n",
      "dropping channel\n",
      "Filtering raw data in 1 contiguous segment\n",
      "Setting up band-pass filter from 3 - 30 Hz\n",
      "\n",
      "FIR filter parameters\n",
      "---------------------\n",
      "Designing a one-pass, zero-phase, non-causal bandpass filter:\n",
      "- Windowed time-domain design (firwin) method\n",
      "- Hamming window with 0.0194 passband ripple and 53 dB stopband attenuation\n",
      "- Lower passband edge: 3.00\n",
      "- Lower transition bandwidth: 2.00 Hz (-6 dB cutoff frequency: 2.00 Hz)\n",
      "- Upper passband edge: 30.00 Hz\n",
      "- Upper transition bandwidth: 7.50 Hz (-6 dB cutoff frequency: 33.75 Hz)\n",
      "- Filter length: 1651 samples (1.651 s)\n",
      "\n"
     ]
    },
    {
     "name": "stderr",
     "output_type": "stream",
     "text": [
      "[Parallel(n_jobs=1)]: Using backend SequentialBackend with 1 concurrent workers.\n",
      "[Parallel(n_jobs=1)]: Done   1 out of   1 | elapsed:    0.0s remaining:    0.0s\n",
      "[Parallel(n_jobs=1)]: Done   2 out of   2 | elapsed:    0.0s remaining:    0.0s\n",
      "[Parallel(n_jobs=1)]: Done   3 out of   3 | elapsed:    0.1s remaining:    0.0s\n",
      "[Parallel(n_jobs=1)]: Done   4 out of   4 | elapsed:    0.1s remaining:    0.0s\n"
     ]
    },
    {
     "name": "stdout",
     "output_type": "stream",
     "text": [
      "Used Annotations descriptions: ['Comment/101', 'Comment/109', 'Comment/30', 'Comment/40', 'Comment/50', 'Comment/51', 'Comment/52', 'Comment/60', 'Comment/70', 'Comment/80', 'New Segment/']\n",
      "EEG channel type selected for re-referencing\n",
      "Applying average reference.\n",
      "Applying a custom ('EEG',) reference.\n",
      "Multiple event values for single event times found. Keeping the first occurrence and dropping all others.\n",
      "Not setting metadata\n",
      "409 matching events found\n",
      "Setting baseline interval to [0.0, 2.0] s\n",
      "Applying baseline correction (mode: mean)\n",
      "0 projection items activated\n",
      "Using data from preloaded Raw for 409 events and 2501 original time points ...\n"
     ]
    },
    {
     "name": "stderr",
     "output_type": "stream",
     "text": [
      "[Parallel(n_jobs=1)]: Done  63 out of  63 | elapsed:    0.8s finished\n"
     ]
    },
    {
     "name": "stdout",
     "output_type": "stream",
     "text": [
      "3 bad epochs dropped\n"
     ]
    },
    {
     "name": "stderr",
     "output_type": "stream",
     "text": [
      "/var/folders/2b/4tnqzv_x3x17pf4q1_n7m8h40000gn/T/ipykernel_2666/3240740927.py:30: RuntimeWarning: Fiducial point nasion not found, assuming identity unknown to head transformation\n",
      "  epochs.set_montage(montage)\n",
      "  8%|▊         | 6/79 [00:10<02:13,  1.83s/it]"
     ]
    },
    {
     "name": "stdout",
     "output_type": "stream",
     "text": [
      "Extracting parameters from ./ica_notebooks/cleaned/m_20_02/m_20_02_pos2b.vhdr...\n",
      "Setting channel info structure...\n",
      "Reading 0 ... 507628  =      0.000 ...   507.628 secs...\n",
      "dropping channel\n",
      "Filtering raw data in 1 contiguous segment\n",
      "Setting up band-pass filter from 3 - 30 Hz\n",
      "\n",
      "FIR filter parameters\n",
      "---------------------\n",
      "Designing a one-pass, zero-phase, non-causal bandpass filter:\n",
      "- Windowed time-domain design (firwin) method\n",
      "- Hamming window with 0.0194 passband ripple and 53 dB stopband attenuation\n",
      "- Lower passband edge: 3.00\n",
      "- Lower transition bandwidth: 2.00 Hz (-6 dB cutoff frequency: 2.00 Hz)\n",
      "- Upper passband edge: 30.00 Hz\n",
      "- Upper transition bandwidth: 7.50 Hz (-6 dB cutoff frequency: 33.75 Hz)\n",
      "- Filter length: 1651 samples (1.651 s)\n",
      "\n"
     ]
    },
    {
     "name": "stderr",
     "output_type": "stream",
     "text": [
      "[Parallel(n_jobs=1)]: Using backend SequentialBackend with 1 concurrent workers.\n",
      "[Parallel(n_jobs=1)]: Done   1 out of   1 | elapsed:    0.0s remaining:    0.0s\n",
      "[Parallel(n_jobs=1)]: Done   2 out of   2 | elapsed:    0.0s remaining:    0.0s\n",
      "[Parallel(n_jobs=1)]: Done   3 out of   3 | elapsed:    0.1s remaining:    0.0s\n",
      "[Parallel(n_jobs=1)]: Done   4 out of   4 | elapsed:    0.1s remaining:    0.0s\n"
     ]
    },
    {
     "name": "stdout",
     "output_type": "stream",
     "text": [
      "Used Annotations descriptions: ['Comment/101', 'Comment/109', 'Comment/30', 'Comment/40', 'Comment/50', 'Comment/51', 'Comment/52', 'Comment/60', 'Comment/70', 'Comment/80', 'New Segment/']\n",
      "EEG channel type selected for re-referencing\n",
      "Applying average reference.\n",
      "Applying a custom ('EEG',) reference.\n",
      "Multiple event values for single event times found. Keeping the first occurrence and dropping all others.\n",
      "Not setting metadata\n",
      "308 matching events found\n",
      "Setting baseline interval to [0.0, 2.0] s\n",
      "Applying baseline correction (mode: mean)\n",
      "0 projection items activated\n",
      "Using data from preloaded Raw for 308 events and 2501 original time points ...\n"
     ]
    },
    {
     "name": "stderr",
     "output_type": "stream",
     "text": [
      "[Parallel(n_jobs=1)]: Done  63 out of  63 | elapsed:    0.7s finished\n"
     ]
    },
    {
     "name": "stdout",
     "output_type": "stream",
     "text": [
      "2 bad epochs dropped\n"
     ]
    },
    {
     "name": "stderr",
     "output_type": "stream",
     "text": [
      "/var/folders/2b/4tnqzv_x3x17pf4q1_n7m8h40000gn/T/ipykernel_2666/3240740927.py:30: RuntimeWarning: Fiducial point nasion not found, assuming identity unknown to head transformation\n",
      "  epochs.set_montage(montage)\n",
      "  9%|▉         | 7/79 [00:11<02:04,  1.72s/it]"
     ]
    },
    {
     "name": "stdout",
     "output_type": "stream",
     "text": [
      "Extracting parameters from ./ica_notebooks/cleaned/m_14_02/m_14_02_pos2b.vhdr...\n",
      "Setting channel info structure...\n",
      "Reading 0 ... 667933  =      0.000 ...   667.933 secs...\n",
      "dropping channel\n",
      "Filtering raw data in 1 contiguous segment\n",
      "Setting up band-pass filter from 3 - 30 Hz\n",
      "\n",
      "FIR filter parameters\n",
      "---------------------\n",
      "Designing a one-pass, zero-phase, non-causal bandpass filter:\n",
      "- Windowed time-domain design (firwin) method\n",
      "- Hamming window with 0.0194 passband ripple and 53 dB stopband attenuation\n",
      "- Lower passband edge: 3.00\n",
      "- Lower transition bandwidth: 2.00 Hz (-6 dB cutoff frequency: 2.00 Hz)\n",
      "- Upper passband edge: 30.00 Hz\n",
      "- Upper transition bandwidth: 7.50 Hz (-6 dB cutoff frequency: 33.75 Hz)\n",
      "- Filter length: 1651 samples (1.651 s)\n",
      "\n"
     ]
    },
    {
     "name": "stderr",
     "output_type": "stream",
     "text": [
      "[Parallel(n_jobs=1)]: Using backend SequentialBackend with 1 concurrent workers.\n",
      "[Parallel(n_jobs=1)]: Done   1 out of   1 | elapsed:    0.0s remaining:    0.0s\n",
      "[Parallel(n_jobs=1)]: Done   2 out of   2 | elapsed:    0.0s remaining:    0.0s\n",
      "[Parallel(n_jobs=1)]: Done   3 out of   3 | elapsed:    0.0s remaining:    0.0s\n",
      "[Parallel(n_jobs=1)]: Done   4 out of   4 | elapsed:    0.1s remaining:    0.0s\n"
     ]
    },
    {
     "name": "stdout",
     "output_type": "stream",
     "text": [
      "Used Annotations descriptions: ['Comment/101', 'Comment/109', 'Comment/30', 'Comment/40', 'Comment/50', 'Comment/51', 'Comment/52', 'Comment/60', 'Comment/70', 'Comment/80', 'New Segment/']\n",
      "EEG channel type selected for re-referencing\n",
      "Applying average reference.\n",
      "Applying a custom ('EEG',) reference.\n",
      "Multiple event values for single event times found. Keeping the first occurrence and dropping all others.\n",
      "Not setting metadata\n",
      "410 matching events found\n",
      "Setting baseline interval to [0.0, 2.0] s\n",
      "Applying baseline correction (mode: mean)\n",
      "0 projection items activated\n",
      "Using data from preloaded Raw for 410 events and 2501 original time points ...\n"
     ]
    },
    {
     "name": "stderr",
     "output_type": "stream",
     "text": [
      "[Parallel(n_jobs=1)]: Done  63 out of  63 | elapsed:    0.7s finished\n"
     ]
    },
    {
     "name": "stdout",
     "output_type": "stream",
     "text": [
      "2 bad epochs dropped\n"
     ]
    },
    {
     "name": "stderr",
     "output_type": "stream",
     "text": [
      "/var/folders/2b/4tnqzv_x3x17pf4q1_n7m8h40000gn/T/ipykernel_2666/3240740927.py:30: RuntimeWarning: Fiducial point nasion not found, assuming identity unknown to head transformation\n",
      "  epochs.set_montage(montage)\n",
      " 10%|█         | 8/79 [00:13<02:05,  1.77s/it]"
     ]
    },
    {
     "name": "stdout",
     "output_type": "stream",
     "text": [
      "Extracting parameters from ./ica_notebooks/cleaned/m_00_02/m_00_02_pos2b.vhdr...\n",
      "Setting channel info structure...\n",
      "Reading 0 ... 679689  =      0.000 ...   679.689 secs...\n",
      "dropping channel\n",
      "Filtering raw data in 1 contiguous segment\n",
      "Setting up band-pass filter from 3 - 30 Hz\n",
      "\n",
      "FIR filter parameters\n",
      "---------------------\n",
      "Designing a one-pass, zero-phase, non-causal bandpass filter:\n",
      "- Windowed time-domain design (firwin) method\n",
      "- Hamming window with 0.0194 passband ripple and 53 dB stopband attenuation\n",
      "- Lower passband edge: 3.00\n",
      "- Lower transition bandwidth: 2.00 Hz (-6 dB cutoff frequency: 2.00 Hz)\n",
      "- Upper passband edge: 30.00 Hz\n",
      "- Upper transition bandwidth: 7.50 Hz (-6 dB cutoff frequency: 33.75 Hz)\n",
      "- Filter length: 1651 samples (1.651 s)\n",
      "\n"
     ]
    },
    {
     "name": "stderr",
     "output_type": "stream",
     "text": [
      "[Parallel(n_jobs=1)]: Using backend SequentialBackend with 1 concurrent workers.\n",
      "[Parallel(n_jobs=1)]: Done   1 out of   1 | elapsed:    0.0s remaining:    0.0s\n",
      "[Parallel(n_jobs=1)]: Done   2 out of   2 | elapsed:    0.0s remaining:    0.0s\n",
      "[Parallel(n_jobs=1)]: Done   3 out of   3 | elapsed:    0.0s remaining:    0.0s\n",
      "[Parallel(n_jobs=1)]: Done   4 out of   4 | elapsed:    0.0s remaining:    0.0s\n"
     ]
    },
    {
     "name": "stdout",
     "output_type": "stream",
     "text": [
      "Used Annotations descriptions: ['Comment/101', 'Comment/109', 'Comment/30', 'Comment/40', 'Comment/50', 'Comment/51', 'Comment/52', 'Comment/60', 'Comment/70', 'Comment/80', 'New Segment/']\n",
      "EEG channel type selected for re-referencing\n",
      "Applying average reference.\n",
      "Applying a custom ('EEG',) reference.\n",
      "Multiple event values for single event times found. Keeping the first occurrence and dropping all others.\n",
      "Not setting metadata\n",
      "411 matching events found\n",
      "Setting baseline interval to [0.0, 2.0] s\n",
      "Applying baseline correction (mode: mean)\n",
      "0 projection items activated\n",
      "Using data from preloaded Raw for 411 events and 2501 original time points ...\n"
     ]
    },
    {
     "name": "stderr",
     "output_type": "stream",
     "text": [
      "[Parallel(n_jobs=1)]: Done  63 out of  63 | elapsed:    0.8s finished\n"
     ]
    },
    {
     "name": "stdout",
     "output_type": "stream",
     "text": [
      "2 bad epochs dropped\n"
     ]
    },
    {
     "name": "stderr",
     "output_type": "stream",
     "text": [
      "/var/folders/2b/4tnqzv_x3x17pf4q1_n7m8h40000gn/T/ipykernel_2666/3240740927.py:30: RuntimeWarning: Fiducial point nasion not found, assuming identity unknown to head transformation\n",
      "  epochs.set_montage(montage)\n",
      " 11%|█▏        | 9/79 [00:15<02:07,  1.82s/it]"
     ]
    },
    {
     "name": "stdout",
     "output_type": "stream",
     "text": [
      "Extracting parameters from ./ica_notebooks/cleaned/m_10_02/m_10_02_pos2b.vhdr...\n",
      "Setting channel info structure...\n",
      "Reading 0 ... 668899  =      0.000 ...   668.899 secs...\n",
      "dropping channel\n",
      "Filtering raw data in 1 contiguous segment\n",
      "Setting up band-pass filter from 3 - 30 Hz\n",
      "\n",
      "FIR filter parameters\n",
      "---------------------\n",
      "Designing a one-pass, zero-phase, non-causal bandpass filter:\n",
      "- Windowed time-domain design (firwin) method\n",
      "- Hamming window with 0.0194 passband ripple and 53 dB stopband attenuation\n",
      "- Lower passband edge: 3.00\n",
      "- Lower transition bandwidth: 2.00 Hz (-6 dB cutoff frequency: 2.00 Hz)\n",
      "- Upper passband edge: 30.00 Hz\n",
      "- Upper transition bandwidth: 7.50 Hz (-6 dB cutoff frequency: 33.75 Hz)\n",
      "- Filter length: 1651 samples (1.651 s)\n",
      "\n"
     ]
    },
    {
     "name": "stderr",
     "output_type": "stream",
     "text": [
      "[Parallel(n_jobs=1)]: Using backend SequentialBackend with 1 concurrent workers.\n",
      "[Parallel(n_jobs=1)]: Done   1 out of   1 | elapsed:    0.0s remaining:    0.0s\n",
      "[Parallel(n_jobs=1)]: Done   2 out of   2 | elapsed:    0.0s remaining:    0.0s\n",
      "[Parallel(n_jobs=1)]: Done   3 out of   3 | elapsed:    0.0s remaining:    0.0s\n",
      "[Parallel(n_jobs=1)]: Done   4 out of   4 | elapsed:    0.0s remaining:    0.0s\n"
     ]
    },
    {
     "name": "stdout",
     "output_type": "stream",
     "text": [
      "Used Annotations descriptions: ['Comment/101', 'Comment/109', 'Comment/30', 'Comment/40', 'Comment/50', 'Comment/51', 'Comment/52', 'Comment/60', 'Comment/70', 'Comment/80', 'New Segment/']\n",
      "EEG channel type selected for re-referencing\n",
      "Applying average reference.\n",
      "Applying a custom ('EEG',) reference.\n",
      "Multiple event values for single event times found. Keeping the first occurrence and dropping all others.\n",
      "Not setting metadata\n",
      "409 matching events found\n",
      "Setting baseline interval to [0.0, 2.0] s\n",
      "Applying baseline correction (mode: mean)\n",
      "0 projection items activated\n",
      "Using data from preloaded Raw for 409 events and 2501 original time points ...\n"
     ]
    },
    {
     "name": "stderr",
     "output_type": "stream",
     "text": [
      "[Parallel(n_jobs=1)]: Done  63 out of  63 | elapsed:    0.8s finished\n"
     ]
    },
    {
     "name": "stdout",
     "output_type": "stream",
     "text": [
      "2 bad epochs dropped\n"
     ]
    },
    {
     "name": "stderr",
     "output_type": "stream",
     "text": [
      "/var/folders/2b/4tnqzv_x3x17pf4q1_n7m8h40000gn/T/ipykernel_2666/3240740927.py:30: RuntimeWarning: Fiducial point nasion not found, assuming identity unknown to head transformation\n",
      "  epochs.set_montage(montage)\n",
      " 13%|█▎        | 10/79 [00:17<02:07,  1.85s/it]"
     ]
    },
    {
     "name": "stdout",
     "output_type": "stream",
     "text": [
      "Extracting parameters from ./ica_notebooks/cleaned/m_11_01/m_11_01_pos1a.vhdr...\n",
      "Setting channel info structure...\n",
      "Reading 0 ... 675030  =      0.000 ...   675.030 secs...\n",
      "dropping channel\n",
      "Filtering raw data in 1 contiguous segment\n",
      "Setting up band-pass filter from 3 - 30 Hz\n",
      "\n",
      "FIR filter parameters\n",
      "---------------------\n",
      "Designing a one-pass, zero-phase, non-causal bandpass filter:\n",
      "- Windowed time-domain design (firwin) method\n",
      "- Hamming window with 0.0194 passband ripple and 53 dB stopband attenuation\n",
      "- Lower passband edge: 3.00\n",
      "- Lower transition bandwidth: 2.00 Hz (-6 dB cutoff frequency: 2.00 Hz)\n",
      "- Upper passband edge: 30.00 Hz\n",
      "- Upper transition bandwidth: 7.50 Hz (-6 dB cutoff frequency: 33.75 Hz)\n",
      "- Filter length: 1651 samples (1.651 s)\n",
      "\n"
     ]
    },
    {
     "name": "stderr",
     "output_type": "stream",
     "text": [
      "[Parallel(n_jobs=1)]: Using backend SequentialBackend with 1 concurrent workers.\n",
      "[Parallel(n_jobs=1)]: Done   1 out of   1 | elapsed:    0.0s remaining:    0.0s\n",
      "[Parallel(n_jobs=1)]: Done   2 out of   2 | elapsed:    0.0s remaining:    0.0s\n",
      "[Parallel(n_jobs=1)]: Done   3 out of   3 | elapsed:    0.0s remaining:    0.0s\n",
      "[Parallel(n_jobs=1)]: Done   4 out of   4 | elapsed:    0.0s remaining:    0.0s\n"
     ]
    },
    {
     "name": "stdout",
     "output_type": "stream",
     "text": [
      "Used Annotations descriptions: ['Comment/101', 'Comment/109', 'Comment/30', 'Comment/40', 'Comment/50', 'Comment/51', 'Comment/52', 'Comment/60', 'Comment/70', 'Comment/80', 'New Segment/']\n",
      "EEG channel type selected for re-referencing\n",
      "Applying average reference.\n",
      "Applying a custom ('EEG',) reference.\n"
     ]
    },
    {
     "name": "stderr",
     "output_type": "stream",
     "text": [
      "[Parallel(n_jobs=1)]: Done  63 out of  63 | elapsed:    0.7s finished\n"
     ]
    },
    {
     "name": "stdout",
     "output_type": "stream",
     "text": [
      "Multiple event values for single event times found. Keeping the first occurrence and dropping all others.\n",
      "Not setting metadata\n",
      "411 matching events found\n",
      "Setting baseline interval to [0.0, 2.0] s\n",
      "Applying baseline correction (mode: mean)\n",
      "0 projection items activated\n",
      "Using data from preloaded Raw for 411 events and 2501 original time points ...\n",
      "2 bad epochs dropped\n"
     ]
    },
    {
     "name": "stderr",
     "output_type": "stream",
     "text": [
      "/var/folders/2b/4tnqzv_x3x17pf4q1_n7m8h40000gn/T/ipykernel_2666/3240740927.py:30: RuntimeWarning: Fiducial point nasion not found, assuming identity unknown to head transformation\n",
      "  epochs.set_montage(montage)\n",
      " 14%|█▍        | 11/79 [00:19<02:08,  1.89s/it]"
     ]
    },
    {
     "name": "stdout",
     "output_type": "stream",
     "text": [
      "Extracting parameters from ./ica_notebooks/cleaned/m_15_01/m_15_01_pos1a.vhdr...\n",
      "Setting channel info structure...\n",
      "Reading 0 ... 703100  =      0.000 ...   703.100 secs...\n",
      "dropping channel\n",
      "Filtering raw data in 1 contiguous segment\n",
      "Setting up band-pass filter from 3 - 30 Hz\n",
      "\n",
      "FIR filter parameters\n",
      "---------------------\n",
      "Designing a one-pass, zero-phase, non-causal bandpass filter:\n",
      "- Windowed time-domain design (firwin) method\n",
      "- Hamming window with 0.0194 passband ripple and 53 dB stopband attenuation\n",
      "- Lower passband edge: 3.00\n",
      "- Lower transition bandwidth: 2.00 Hz (-6 dB cutoff frequency: 2.00 Hz)\n",
      "- Upper passband edge: 30.00 Hz\n",
      "- Upper transition bandwidth: 7.50 Hz (-6 dB cutoff frequency: 33.75 Hz)\n",
      "- Filter length: 1651 samples (1.651 s)\n",
      "\n"
     ]
    },
    {
     "name": "stderr",
     "output_type": "stream",
     "text": [
      "[Parallel(n_jobs=1)]: Using backend SequentialBackend with 1 concurrent workers.\n",
      "[Parallel(n_jobs=1)]: Done   1 out of   1 | elapsed:    0.0s remaining:    0.0s\n",
      "[Parallel(n_jobs=1)]: Done   2 out of   2 | elapsed:    0.0s remaining:    0.0s\n",
      "[Parallel(n_jobs=1)]: Done   3 out of   3 | elapsed:    0.0s remaining:    0.0s\n",
      "[Parallel(n_jobs=1)]: Done   4 out of   4 | elapsed:    0.0s remaining:    0.0s\n"
     ]
    },
    {
     "name": "stdout",
     "output_type": "stream",
     "text": [
      "Used Annotations descriptions: ['Comment/101', 'Comment/109', 'Comment/30', 'Comment/40', 'Comment/50', 'Comment/51', 'Comment/52', 'Comment/60', 'Comment/70', 'Comment/80', 'New Segment/']\n",
      "EEG channel type selected for re-referencing\n",
      "Applying average reference.\n",
      "Applying a custom ('EEG',) reference.\n"
     ]
    },
    {
     "name": "stderr",
     "output_type": "stream",
     "text": [
      "[Parallel(n_jobs=1)]: Done  63 out of  63 | elapsed:    0.9s finished\n"
     ]
    },
    {
     "name": "stdout",
     "output_type": "stream",
     "text": [
      "Multiple event values for single event times found. Keeping the first occurrence and dropping all others.\n",
      "Not setting metadata\n",
      "411 matching events found\n",
      "Setting baseline interval to [0.0, 2.0] s\n",
      "Applying baseline correction (mode: mean)\n",
      "0 projection items activated\n",
      "Using data from preloaded Raw for 411 events and 2501 original time points ...\n",
      "2 bad epochs dropped\n"
     ]
    },
    {
     "name": "stderr",
     "output_type": "stream",
     "text": [
      "/var/folders/2b/4tnqzv_x3x17pf4q1_n7m8h40000gn/T/ipykernel_2666/3240740927.py:30: RuntimeWarning: Fiducial point nasion not found, assuming identity unknown to head transformation\n",
      "  epochs.set_montage(montage)\n",
      " 15%|█▌        | 12/79 [00:21<02:11,  1.96s/it]"
     ]
    },
    {
     "name": "stdout",
     "output_type": "stream",
     "text": [
      "Extracting parameters from ./ica_notebooks/cleaned/m_14_01/m_14_01_pos1a.vhdr...\n",
      "Setting channel info structure...\n",
      "Reading 0 ... 687981  =      0.000 ...   687.981 secs...\n",
      "dropping channel\n",
      "Filtering raw data in 1 contiguous segment\n",
      "Setting up band-pass filter from 3 - 30 Hz\n",
      "\n",
      "FIR filter parameters\n",
      "---------------------\n",
      "Designing a one-pass, zero-phase, non-causal bandpass filter:\n",
      "- Windowed time-domain design (firwin) method\n",
      "- Hamming window with 0.0194 passband ripple and 53 dB stopband attenuation\n",
      "- Lower passband edge: 3.00\n",
      "- Lower transition bandwidth: 2.00 Hz (-6 dB cutoff frequency: 2.00 Hz)\n",
      "- Upper passband edge: 30.00 Hz\n",
      "- Upper transition bandwidth: 7.50 Hz (-6 dB cutoff frequency: 33.75 Hz)\n",
      "- Filter length: 1651 samples (1.651 s)\n",
      "\n"
     ]
    },
    {
     "name": "stderr",
     "output_type": "stream",
     "text": [
      "[Parallel(n_jobs=1)]: Using backend SequentialBackend with 1 concurrent workers.\n",
      "[Parallel(n_jobs=1)]: Done   1 out of   1 | elapsed:    0.0s remaining:    0.0s\n",
      "[Parallel(n_jobs=1)]: Done   2 out of   2 | elapsed:    0.1s remaining:    0.0s\n",
      "[Parallel(n_jobs=1)]: Done   3 out of   3 | elapsed:    0.1s remaining:    0.0s\n",
      "[Parallel(n_jobs=1)]: Done   4 out of   4 | elapsed:    0.1s remaining:    0.0s\n"
     ]
    },
    {
     "name": "stdout",
     "output_type": "stream",
     "text": [
      "Used Annotations descriptions: ['Comment/101', 'Comment/109', 'Comment/30', 'Comment/40', 'Comment/50', 'Comment/51', 'Comment/52', 'Comment/60', 'Comment/70', 'Comment/80', 'New Segment/']\n",
      "EEG channel type selected for re-referencing\n",
      "Applying average reference.\n",
      "Applying a custom ('EEG',) reference.\n"
     ]
    },
    {
     "name": "stderr",
     "output_type": "stream",
     "text": [
      "[Parallel(n_jobs=1)]: Done  63 out of  63 | elapsed:    0.9s finished\n"
     ]
    },
    {
     "name": "stdout",
     "output_type": "stream",
     "text": [
      "Multiple event values for single event times found. Keeping the first occurrence and dropping all others.\n",
      "Not setting metadata\n",
      "409 matching events found\n",
      "Setting baseline interval to [0.0, 2.0] s\n",
      "Applying baseline correction (mode: mean)\n",
      "0 projection items activated\n",
      "Using data from preloaded Raw for 409 events and 2501 original time points ...\n",
      "2 bad epochs dropped\n"
     ]
    },
    {
     "name": "stderr",
     "output_type": "stream",
     "text": [
      "/var/folders/2b/4tnqzv_x3x17pf4q1_n7m8h40000gn/T/ipykernel_2666/3240740927.py:30: RuntimeWarning: Fiducial point nasion not found, assuming identity unknown to head transformation\n",
      "  epochs.set_montage(montage)\n",
      " 16%|█▋        | 13/79 [00:23<02:12,  2.00s/it]"
     ]
    },
    {
     "name": "stdout",
     "output_type": "stream",
     "text": [
      "Extracting parameters from ./ica_notebooks/cleaned/m_20_01/m_20_01_pos1a.vhdr...\n",
      "Setting channel info structure...\n",
      "Reading 0 ... 498570  =      0.000 ...   498.570 secs...\n",
      "dropping channel\n",
      "Filtering raw data in 1 contiguous segment\n",
      "Setting up band-pass filter from 3 - 30 Hz\n",
      "\n",
      "FIR filter parameters\n",
      "---------------------\n",
      "Designing a one-pass, zero-phase, non-causal bandpass filter:\n",
      "- Windowed time-domain design (firwin) method\n",
      "- Hamming window with 0.0194 passband ripple and 53 dB stopband attenuation\n",
      "- Lower passband edge: 3.00\n",
      "- Lower transition bandwidth: 2.00 Hz (-6 dB cutoff frequency: 2.00 Hz)\n",
      "- Upper passband edge: 30.00 Hz\n",
      "- Upper transition bandwidth: 7.50 Hz (-6 dB cutoff frequency: 33.75 Hz)\n",
      "- Filter length: 1651 samples (1.651 s)\n",
      "\n"
     ]
    },
    {
     "name": "stderr",
     "output_type": "stream",
     "text": [
      "[Parallel(n_jobs=1)]: Using backend SequentialBackend with 1 concurrent workers.\n",
      "[Parallel(n_jobs=1)]: Done   1 out of   1 | elapsed:    0.0s remaining:    0.0s\n",
      "[Parallel(n_jobs=1)]: Done   2 out of   2 | elapsed:    0.0s remaining:    0.0s\n",
      "[Parallel(n_jobs=1)]: Done   3 out of   3 | elapsed:    0.0s remaining:    0.0s\n",
      "[Parallel(n_jobs=1)]: Done   4 out of   4 | elapsed:    0.1s remaining:    0.0s\n"
     ]
    },
    {
     "name": "stdout",
     "output_type": "stream",
     "text": [
      "Used Annotations descriptions: ['Comment/101', 'Comment/109', 'Comment/30', 'Comment/40', 'Comment/50', 'Comment/51', 'Comment/52', 'Comment/60', 'Comment/70', 'Comment/80', 'New Segment/']\n",
      "EEG channel type selected for re-referencing\n",
      "Applying average reference.\n",
      "Applying a custom ('EEG',) reference.\n",
      "Multiple event values for single event times found. Keeping the first occurrence and dropping all others.\n",
      "Not setting metadata\n",
      "307 matching events found\n",
      "Setting baseline interval to [0.0, 2.0] s\n",
      "Applying baseline correction (mode: mean)\n",
      "0 projection items activated\n",
      "Using data from preloaded Raw for 307 events and 2501 original time points ...\n"
     ]
    },
    {
     "name": "stderr",
     "output_type": "stream",
     "text": [
      "[Parallel(n_jobs=1)]: Done  63 out of  63 | elapsed:    0.8s finished\n"
     ]
    },
    {
     "name": "stdout",
     "output_type": "stream",
     "text": [
      "3 bad epochs dropped\n"
     ]
    },
    {
     "name": "stderr",
     "output_type": "stream",
     "text": [
      "/var/folders/2b/4tnqzv_x3x17pf4q1_n7m8h40000gn/T/ipykernel_2666/3240740927.py:30: RuntimeWarning: Fiducial point nasion not found, assuming identity unknown to head transformation\n",
      "  epochs.set_montage(montage)\n",
      " 18%|█▊        | 14/79 [00:25<02:06,  1.95s/it]"
     ]
    },
    {
     "name": "stdout",
     "output_type": "stream",
     "text": [
      "Extracting parameters from ./ica_notebooks/cleaned/m_10_01/m_10_01_pos1a.vhdr...\n",
      "Setting channel info structure...\n",
      "Reading 0 ... 665561  =      0.000 ...   665.561 secs...\n",
      "dropping channel\n",
      "Filtering raw data in 1 contiguous segment\n",
      "Setting up band-pass filter from 3 - 30 Hz\n",
      "\n",
      "FIR filter parameters\n",
      "---------------------\n",
      "Designing a one-pass, zero-phase, non-causal bandpass filter:\n",
      "- Windowed time-domain design (firwin) method\n",
      "- Hamming window with 0.0194 passband ripple and 53 dB stopband attenuation\n",
      "- Lower passband edge: 3.00\n",
      "- Lower transition bandwidth: 2.00 Hz (-6 dB cutoff frequency: 2.00 Hz)\n",
      "- Upper passband edge: 30.00 Hz\n",
      "- Upper transition bandwidth: 7.50 Hz (-6 dB cutoff frequency: 33.75 Hz)\n",
      "- Filter length: 1651 samples (1.651 s)\n",
      "\n"
     ]
    },
    {
     "name": "stderr",
     "output_type": "stream",
     "text": [
      "[Parallel(n_jobs=1)]: Using backend SequentialBackend with 1 concurrent workers.\n",
      "[Parallel(n_jobs=1)]: Done   1 out of   1 | elapsed:    0.0s remaining:    0.0s\n",
      "[Parallel(n_jobs=1)]: Done   2 out of   2 | elapsed:    0.0s remaining:    0.0s\n",
      "[Parallel(n_jobs=1)]: Done   3 out of   3 | elapsed:    0.0s remaining:    0.0s\n",
      "[Parallel(n_jobs=1)]: Done   4 out of   4 | elapsed:    0.0s remaining:    0.0s\n"
     ]
    },
    {
     "name": "stdout",
     "output_type": "stream",
     "text": [
      "Used Annotations descriptions: ['Comment/101', 'Comment/109', 'Comment/30', 'Comment/40', 'Comment/50', 'Comment/51', 'Comment/52', 'Comment/60', 'Comment/70', 'Comment/80', 'New Segment/']\n",
      "EEG channel type selected for re-referencing\n",
      "Applying average reference.\n",
      "Applying a custom ('EEG',) reference.\n"
     ]
    },
    {
     "name": "stderr",
     "output_type": "stream",
     "text": [
      "[Parallel(n_jobs=1)]: Done  63 out of  63 | elapsed:    0.8s finished\n"
     ]
    },
    {
     "name": "stdout",
     "output_type": "stream",
     "text": [
      "Multiple event values for single event times found. Keeping the first occurrence and dropping all others.\n",
      "Not setting metadata\n",
      "411 matching events found\n",
      "Setting baseline interval to [0.0, 2.0] s\n",
      "Applying baseline correction (mode: mean)\n",
      "0 projection items activated\n",
      "Using data from preloaded Raw for 411 events and 2501 original time points ...\n",
      "2 bad epochs dropped\n"
     ]
    },
    {
     "name": "stderr",
     "output_type": "stream",
     "text": [
      "/var/folders/2b/4tnqzv_x3x17pf4q1_n7m8h40000gn/T/ipykernel_2666/3240740927.py:30: RuntimeWarning: Fiducial point nasion not found, assuming identity unknown to head transformation\n",
      "  epochs.set_montage(montage)\n",
      " 19%|█▉        | 15/79 [00:27<02:08,  2.00s/it]"
     ]
    },
    {
     "name": "stdout",
     "output_type": "stream",
     "text": [
      "Extracting parameters from ./ica_notebooks/cleaned/m_00_01/m_00_01_pos1a.vhdr...\n",
      "Setting channel info structure...\n",
      "Reading 0 ... 685731  =      0.000 ...   685.731 secs...\n",
      "dropping channel\n",
      "Filtering raw data in 1 contiguous segment\n",
      "Setting up band-pass filter from 3 - 30 Hz\n",
      "\n",
      "FIR filter parameters\n",
      "---------------------\n",
      "Designing a one-pass, zero-phase, non-causal bandpass filter:\n",
      "- Windowed time-domain design (firwin) method\n",
      "- Hamming window with 0.0194 passband ripple and 53 dB stopband attenuation\n",
      "- Lower passband edge: 3.00\n",
      "- Lower transition bandwidth: 2.00 Hz (-6 dB cutoff frequency: 2.00 Hz)\n",
      "- Upper passband edge: 30.00 Hz\n",
      "- Upper transition bandwidth: 7.50 Hz (-6 dB cutoff frequency: 33.75 Hz)\n",
      "- Filter length: 1651 samples (1.651 s)\n",
      "\n"
     ]
    },
    {
     "name": "stderr",
     "output_type": "stream",
     "text": [
      "[Parallel(n_jobs=1)]: Using backend SequentialBackend with 1 concurrent workers.\n",
      "[Parallel(n_jobs=1)]: Done   1 out of   1 | elapsed:    0.0s remaining:    0.0s\n",
      "[Parallel(n_jobs=1)]: Done   2 out of   2 | elapsed:    0.0s remaining:    0.0s\n",
      "[Parallel(n_jobs=1)]: Done   3 out of   3 | elapsed:    0.1s remaining:    0.0s\n",
      "[Parallel(n_jobs=1)]: Done   4 out of   4 | elapsed:    0.2s remaining:    0.0s\n"
     ]
    },
    {
     "name": "stdout",
     "output_type": "stream",
     "text": [
      "Used Annotations descriptions: ['Comment/101', 'Comment/109', 'Comment/30', 'Comment/40', 'Comment/50', 'Comment/51', 'Comment/52', 'Comment/60', 'Comment/70', 'Comment/80', 'New Segment/']\n"
     ]
    },
    {
     "name": "stderr",
     "output_type": "stream",
     "text": [
      "[Parallel(n_jobs=1)]: Done  63 out of  63 | elapsed:    1.0s finished\n"
     ]
    },
    {
     "name": "stdout",
     "output_type": "stream",
     "text": [
      "EEG channel type selected for re-referencing\n",
      "Applying average reference.\n",
      "Applying a custom ('EEG',) reference.\n",
      "Multiple event values for single event times found. Keeping the first occurrence and dropping all others.\n",
      "Not setting metadata\n",
      "409 matching events found\n",
      "Setting baseline interval to [0.0, 2.0] s\n",
      "Applying baseline correction (mode: mean)\n",
      "0 projection items activated\n",
      "Using data from preloaded Raw for 409 events and 2501 original time points ...\n",
      "2 bad epochs dropped\n"
     ]
    },
    {
     "name": "stderr",
     "output_type": "stream",
     "text": [
      "/var/folders/2b/4tnqzv_x3x17pf4q1_n7m8h40000gn/T/ipykernel_2666/3240740927.py:30: RuntimeWarning: Fiducial point nasion not found, assuming identity unknown to head transformation\n",
      "  epochs.set_montage(montage)\n",
      " 20%|██        | 16/79 [00:31<02:29,  2.37s/it]"
     ]
    },
    {
     "name": "stdout",
     "output_type": "stream",
     "text": [
      "Extracting parameters from ./ica_notebooks/cleaned/m_19_01/m_19_01_pos1a.vhdr...\n",
      "Setting channel info structure...\n",
      "Reading 0 ... 605579  =      0.000 ...   605.579 secs...\n",
      "dropping channel\n",
      "Filtering raw data in 1 contiguous segment\n",
      "Setting up band-pass filter from 3 - 30 Hz\n",
      "\n",
      "FIR filter parameters\n",
      "---------------------\n",
      "Designing a one-pass, zero-phase, non-causal bandpass filter:\n",
      "- Windowed time-domain design (firwin) method\n",
      "- Hamming window with 0.0194 passband ripple and 53 dB stopband attenuation\n",
      "- Lower passband edge: 3.00\n",
      "- Lower transition bandwidth: 2.00 Hz (-6 dB cutoff frequency: 2.00 Hz)\n",
      "- Upper passband edge: 30.00 Hz\n",
      "- Upper transition bandwidth: 7.50 Hz (-6 dB cutoff frequency: 33.75 Hz)\n",
      "- Filter length: 1651 samples (1.651 s)\n",
      "\n"
     ]
    },
    {
     "name": "stderr",
     "output_type": "stream",
     "text": [
      "[Parallel(n_jobs=1)]: Using backend SequentialBackend with 1 concurrent workers.\n",
      "[Parallel(n_jobs=1)]: Done   1 out of   1 | elapsed:    0.0s remaining:    0.0s\n",
      "[Parallel(n_jobs=1)]: Done   2 out of   2 | elapsed:    0.0s remaining:    0.0s\n",
      "[Parallel(n_jobs=1)]: Done   3 out of   3 | elapsed:    0.0s remaining:    0.0s\n",
      "[Parallel(n_jobs=1)]: Done   4 out of   4 | elapsed:    0.0s remaining:    0.0s\n"
     ]
    },
    {
     "name": "stdout",
     "output_type": "stream",
     "text": [
      "Used Annotations descriptions: ['Comment/101', 'Comment/109', 'Comment/30', 'Comment/40', 'Comment/50', 'Comment/51', 'Comment/52', 'Comment/60', 'Comment/70', 'Comment/80', 'New Segment/']\n",
      "EEG channel type selected for re-referencing\n",
      "Applying average reference.\n",
      "Applying a custom ('EEG',) reference.\n"
     ]
    },
    {
     "name": "stderr",
     "output_type": "stream",
     "text": [
      "[Parallel(n_jobs=1)]: Done  63 out of  63 | elapsed:    0.6s finished\n"
     ]
    },
    {
     "name": "stdout",
     "output_type": "stream",
     "text": [
      "Multiple event values for single event times found. Keeping the first occurrence and dropping all others.\n",
      "Not setting metadata\n",
      "306 matching events found\n",
      "Setting baseline interval to [0.0, 2.0] s\n",
      "Applying baseline correction (mode: mean)\n",
      "0 projection items activated\n",
      "Using data from preloaded Raw for 306 events and 2501 original time points ...\n",
      "2 bad epochs dropped\n"
     ]
    },
    {
     "name": "stderr",
     "output_type": "stream",
     "text": [
      "/var/folders/2b/4tnqzv_x3x17pf4q1_n7m8h40000gn/T/ipykernel_2666/3240740927.py:30: RuntimeWarning: Fiducial point nasion not found, assuming identity unknown to head transformation\n",
      "  epochs.set_montage(montage)\n",
      " 22%|██▏       | 17/79 [00:32<02:12,  2.13s/it]"
     ]
    },
    {
     "name": "stdout",
     "output_type": "stream",
     "text": [
      "Extracting parameters from ./ica_notebooks/cleaned/m_09_01/m_09_01_pos1a.vhdr...\n",
      "Setting channel info structure...\n",
      "Reading 0 ... 699340  =      0.000 ...   699.340 secs...\n",
      "dropping channel\n",
      "Filtering raw data in 1 contiguous segment\n",
      "Setting up band-pass filter from 3 - 30 Hz\n",
      "\n",
      "FIR filter parameters\n",
      "---------------------\n",
      "Designing a one-pass, zero-phase, non-causal bandpass filter:\n",
      "- Windowed time-domain design (firwin) method\n",
      "- Hamming window with 0.0194 passband ripple and 53 dB stopband attenuation\n",
      "- Lower passband edge: 3.00\n",
      "- Lower transition bandwidth: 2.00 Hz (-6 dB cutoff frequency: 2.00 Hz)\n",
      "- Upper passband edge: 30.00 Hz\n",
      "- Upper transition bandwidth: 7.50 Hz (-6 dB cutoff frequency: 33.75 Hz)\n",
      "- Filter length: 1651 samples (1.651 s)\n",
      "\n"
     ]
    },
    {
     "name": "stderr",
     "output_type": "stream",
     "text": [
      "[Parallel(n_jobs=1)]: Using backend SequentialBackend with 1 concurrent workers.\n",
      "[Parallel(n_jobs=1)]: Done   1 out of   1 | elapsed:    0.0s remaining:    0.0s\n",
      "[Parallel(n_jobs=1)]: Done   2 out of   2 | elapsed:    0.0s remaining:    0.0s\n",
      "[Parallel(n_jobs=1)]: Done   3 out of   3 | elapsed:    0.0s remaining:    0.0s\n",
      "[Parallel(n_jobs=1)]: Done   4 out of   4 | elapsed:    0.0s remaining:    0.0s\n"
     ]
    },
    {
     "name": "stdout",
     "output_type": "stream",
     "text": [
      "Used Annotations descriptions: ['Comment/101', 'Comment/109', 'Comment/30', 'Comment/40', 'Comment/50', 'Comment/51', 'Comment/52', 'Comment/60', 'Comment/70', 'Comment/80', 'New Segment/']\n",
      "EEG channel type selected for re-referencing\n",
      "Applying average reference.\n",
      "Applying a custom ('EEG',) reference.\n"
     ]
    },
    {
     "name": "stderr",
     "output_type": "stream",
     "text": [
      "[Parallel(n_jobs=1)]: Done  63 out of  63 | elapsed:    0.7s finished\n"
     ]
    },
    {
     "name": "stdout",
     "output_type": "stream",
     "text": [
      "Multiple event values for single event times found. Keeping the first occurrence and dropping all others.\n",
      "Not setting metadata\n",
      "410 matching events found\n",
      "Setting baseline interval to [0.0, 2.0] s\n",
      "Applying baseline correction (mode: mean)\n",
      "0 projection items activated\n",
      "Using data from preloaded Raw for 410 events and 2501 original time points ...\n",
      "2 bad epochs dropped\n"
     ]
    },
    {
     "name": "stderr",
     "output_type": "stream",
     "text": [
      "/var/folders/2b/4tnqzv_x3x17pf4q1_n7m8h40000gn/T/ipykernel_2666/3240740927.py:30: RuntimeWarning: Fiducial point nasion not found, assuming identity unknown to head transformation\n",
      "  epochs.set_montage(montage)\n",
      " 23%|██▎       | 18/79 [00:34<02:04,  2.05s/it]"
     ]
    },
    {
     "name": "stdout",
     "output_type": "stream",
     "text": [
      "Extracting parameters from ./ica_notebooks/cleaned/m_07_01/m_07_01_pos1a.vhdr...\n",
      "Setting channel info structure...\n",
      "Reading 0 ... 686560  =      0.000 ...   686.560 secs...\n",
      "dropping channel\n",
      "Filtering raw data in 1 contiguous segment\n",
      "Setting up band-pass filter from 3 - 30 Hz\n",
      "\n",
      "FIR filter parameters\n",
      "---------------------\n",
      "Designing a one-pass, zero-phase, non-causal bandpass filter:\n",
      "- Windowed time-domain design (firwin) method\n",
      "- Hamming window with 0.0194 passband ripple and 53 dB stopband attenuation\n",
      "- Lower passband edge: 3.00\n",
      "- Lower transition bandwidth: 2.00 Hz (-6 dB cutoff frequency: 2.00 Hz)\n",
      "- Upper passband edge: 30.00 Hz\n",
      "- Upper transition bandwidth: 7.50 Hz (-6 dB cutoff frequency: 33.75 Hz)\n",
      "- Filter length: 1651 samples (1.651 s)\n",
      "\n"
     ]
    },
    {
     "name": "stderr",
     "output_type": "stream",
     "text": [
      "[Parallel(n_jobs=1)]: Using backend SequentialBackend with 1 concurrent workers.\n",
      "[Parallel(n_jobs=1)]: Done   1 out of   1 | elapsed:    0.0s remaining:    0.0s\n",
      "[Parallel(n_jobs=1)]: Done   2 out of   2 | elapsed:    0.0s remaining:    0.0s\n",
      "[Parallel(n_jobs=1)]: Done   3 out of   3 | elapsed:    0.0s remaining:    0.0s\n",
      "[Parallel(n_jobs=1)]: Done   4 out of   4 | elapsed:    0.0s remaining:    0.0s\n"
     ]
    },
    {
     "name": "stdout",
     "output_type": "stream",
     "text": [
      "Used Annotations descriptions: ['Comment/101', 'Comment/109', 'Comment/30', 'Comment/40', 'Comment/50', 'Comment/51', 'Comment/52', 'Comment/60', 'Comment/70', 'Comment/80', 'New Segment/']\n"
     ]
    },
    {
     "name": "stderr",
     "output_type": "stream",
     "text": [
      "[Parallel(n_jobs=1)]: Done  63 out of  63 | elapsed:    0.6s finished\n"
     ]
    },
    {
     "name": "stdout",
     "output_type": "stream",
     "text": [
      "EEG channel type selected for re-referencing\n",
      "Applying average reference.\n",
      "Applying a custom ('EEG',) reference.\n",
      "Multiple event values for single event times found. Keeping the first occurrence and dropping all others.\n",
      "Not setting metadata\n",
      "410 matching events found\n",
      "Setting baseline interval to [0.0, 2.0] s\n",
      "Applying baseline correction (mode: mean)\n",
      "0 projection items activated\n",
      "Using data from preloaded Raw for 410 events and 2501 original time points ...\n",
      "2 bad epochs dropped\n"
     ]
    },
    {
     "name": "stderr",
     "output_type": "stream",
     "text": [
      "/var/folders/2b/4tnqzv_x3x17pf4q1_n7m8h40000gn/T/ipykernel_2666/3240740927.py:30: RuntimeWarning: Fiducial point nasion not found, assuming identity unknown to head transformation\n",
      "  epochs.set_montage(montage)\n",
      " 24%|██▍       | 19/79 [00:36<02:04,  2.08s/it]"
     ]
    },
    {
     "name": "stdout",
     "output_type": "stream",
     "text": [
      "Extracting parameters from ./ica_notebooks/cleaned/m_03_01/m_03_01_pos1a.vhdr...\n",
      "Setting channel info structure...\n",
      "Reading 0 ... 667374  =      0.000 ...   667.374 secs...\n",
      "dropping channel\n",
      "Filtering raw data in 1 contiguous segment\n",
      "Setting up band-pass filter from 3 - 30 Hz\n",
      "\n",
      "FIR filter parameters\n",
      "---------------------\n",
      "Designing a one-pass, zero-phase, non-causal bandpass filter:\n",
      "- Windowed time-domain design (firwin) method\n",
      "- Hamming window with 0.0194 passband ripple and 53 dB stopband attenuation\n",
      "- Lower passband edge: 3.00\n",
      "- Lower transition bandwidth: 2.00 Hz (-6 dB cutoff frequency: 2.00 Hz)\n",
      "- Upper passband edge: 30.00 Hz\n",
      "- Upper transition bandwidth: 7.50 Hz (-6 dB cutoff frequency: 33.75 Hz)\n",
      "- Filter length: 1651 samples (1.651 s)\n",
      "\n"
     ]
    },
    {
     "name": "stderr",
     "output_type": "stream",
     "text": [
      "[Parallel(n_jobs=1)]: Using backend SequentialBackend with 1 concurrent workers.\n",
      "[Parallel(n_jobs=1)]: Done   1 out of   1 | elapsed:    0.0s remaining:    0.0s\n",
      "[Parallel(n_jobs=1)]: Done   2 out of   2 | elapsed:    0.0s remaining:    0.0s\n",
      "[Parallel(n_jobs=1)]: Done   3 out of   3 | elapsed:    0.0s remaining:    0.0s\n",
      "[Parallel(n_jobs=1)]: Done   4 out of   4 | elapsed:    0.1s remaining:    0.0s\n"
     ]
    },
    {
     "name": "stdout",
     "output_type": "stream",
     "text": [
      "Used Annotations descriptions: ['Comment/101', 'Comment/109', 'Comment/30', 'Comment/40', 'Comment/50', 'Comment/51', 'Comment/52', 'Comment/60', 'Comment/70', 'Comment/80', 'New Segment/']\n",
      "EEG channel type selected for re-referencing\n",
      "Applying average reference.\n",
      "Applying a custom ('EEG',) reference.\n"
     ]
    },
    {
     "name": "stderr",
     "output_type": "stream",
     "text": [
      "[Parallel(n_jobs=1)]: Done  63 out of  63 | elapsed:    0.7s finished\n"
     ]
    },
    {
     "name": "stdout",
     "output_type": "stream",
     "text": [
      "Multiple event values for single event times found. Keeping the first occurrence and dropping all others.\n",
      "Not setting metadata\n",
      "409 matching events found\n",
      "Setting baseline interval to [0.0, 2.0] s\n",
      "Applying baseline correction (mode: mean)\n",
      "0 projection items activated\n",
      "Using data from preloaded Raw for 409 events and 2501 original time points ...\n",
      "2 bad epochs dropped\n"
     ]
    },
    {
     "name": "stderr",
     "output_type": "stream",
     "text": [
      "/var/folders/2b/4tnqzv_x3x17pf4q1_n7m8h40000gn/T/ipykernel_2666/3240740927.py:30: RuntimeWarning: Fiducial point nasion not found, assuming identity unknown to head transformation\n",
      "  epochs.set_montage(montage)\n",
      " 25%|██▌       | 20/79 [00:38<02:02,  2.08s/it]"
     ]
    },
    {
     "name": "stdout",
     "output_type": "stream",
     "text": [
      "Extracting parameters from ./ica_notebooks/cleaned/m_16_01/m_16_01_pos1a.vhdr...\n",
      "Setting channel info structure...\n",
      "Reading 0 ... 676029  =      0.000 ...   676.029 secs...\n",
      "dropping channel\n",
      "Filtering raw data in 1 contiguous segment\n",
      "Setting up band-pass filter from 3 - 30 Hz\n",
      "\n",
      "FIR filter parameters\n",
      "---------------------\n",
      "Designing a one-pass, zero-phase, non-causal bandpass filter:\n",
      "- Windowed time-domain design (firwin) method\n",
      "- Hamming window with 0.0194 passband ripple and 53 dB stopband attenuation\n",
      "- Lower passband edge: 3.00\n",
      "- Lower transition bandwidth: 2.00 Hz (-6 dB cutoff frequency: 2.00 Hz)\n",
      "- Upper passband edge: 30.00 Hz\n",
      "- Upper transition bandwidth: 7.50 Hz (-6 dB cutoff frequency: 33.75 Hz)\n",
      "- Filter length: 1651 samples (1.651 s)\n",
      "\n"
     ]
    },
    {
     "name": "stderr",
     "output_type": "stream",
     "text": [
      "[Parallel(n_jobs=1)]: Using backend SequentialBackend with 1 concurrent workers.\n",
      "[Parallel(n_jobs=1)]: Done   1 out of   1 | elapsed:    0.0s remaining:    0.0s\n",
      "[Parallel(n_jobs=1)]: Done   2 out of   2 | elapsed:    0.0s remaining:    0.0s\n",
      "[Parallel(n_jobs=1)]: Done   3 out of   3 | elapsed:    0.0s remaining:    0.0s\n",
      "[Parallel(n_jobs=1)]: Done   4 out of   4 | elapsed:    0.1s remaining:    0.0s\n"
     ]
    },
    {
     "name": "stdout",
     "output_type": "stream",
     "text": [
      "Used Annotations descriptions: ['Comment/101', 'Comment/109', 'Comment/30', 'Comment/40', 'Comment/50', 'Comment/51', 'Comment/52', 'Comment/60', 'Comment/70', 'Comment/80', 'New Segment/']\n",
      "EEG channel type selected for re-referencing\n",
      "Applying average reference.\n",
      "Applying a custom ('EEG',) reference.\n"
     ]
    },
    {
     "name": "stderr",
     "output_type": "stream",
     "text": [
      "[Parallel(n_jobs=1)]: Done  63 out of  63 | elapsed:    0.7s finished\n"
     ]
    },
    {
     "name": "stdout",
     "output_type": "stream",
     "text": [
      "Multiple event values for single event times found. Keeping the first occurrence and dropping all others.\n",
      "Not setting metadata\n",
      "411 matching events found\n",
      "Setting baseline interval to [0.0, 2.0] s\n",
      "Applying baseline correction (mode: mean)\n",
      "0 projection items activated\n",
      "Using data from preloaded Raw for 411 events and 2501 original time points ...\n",
      "2 bad epochs dropped\n"
     ]
    },
    {
     "name": "stderr",
     "output_type": "stream",
     "text": [
      "/var/folders/2b/4tnqzv_x3x17pf4q1_n7m8h40000gn/T/ipykernel_2666/3240740927.py:30: RuntimeWarning: Fiducial point nasion not found, assuming identity unknown to head transformation\n",
      "  epochs.set_montage(montage)\n",
      " 27%|██▋       | 21/79 [00:40<01:56,  2.01s/it]"
     ]
    },
    {
     "name": "stdout",
     "output_type": "stream",
     "text": [
      "Extracting parameters from ./ica_notebooks/cleaned/m_09_02/m_09_02_pos2a.vhdr...\n",
      "Setting channel info structure...\n",
      "Reading 0 ... 516738  =      0.000 ...   516.738 secs...\n",
      "dropping channel\n",
      "Filtering raw data in 1 contiguous segment\n",
      "Setting up band-pass filter from 3 - 30 Hz\n",
      "\n",
      "FIR filter parameters\n",
      "---------------------\n",
      "Designing a one-pass, zero-phase, non-causal bandpass filter:\n",
      "- Windowed time-domain design (firwin) method\n",
      "- Hamming window with 0.0194 passband ripple and 53 dB stopband attenuation\n",
      "- Lower passband edge: 3.00\n",
      "- Lower transition bandwidth: 2.00 Hz (-6 dB cutoff frequency: 2.00 Hz)\n",
      "- Upper passband edge: 30.00 Hz\n",
      "- Upper transition bandwidth: 7.50 Hz (-6 dB cutoff frequency: 33.75 Hz)\n",
      "- Filter length: 1651 samples (1.651 s)\n",
      "\n"
     ]
    },
    {
     "name": "stderr",
     "output_type": "stream",
     "text": [
      "[Parallel(n_jobs=1)]: Using backend SequentialBackend with 1 concurrent workers.\n",
      "[Parallel(n_jobs=1)]: Done   1 out of   1 | elapsed:    0.0s remaining:    0.0s\n",
      "[Parallel(n_jobs=1)]: Done   2 out of   2 | elapsed:    0.0s remaining:    0.0s\n",
      "[Parallel(n_jobs=1)]: Done   3 out of   3 | elapsed:    0.0s remaining:    0.0s\n",
      "[Parallel(n_jobs=1)]: Done   4 out of   4 | elapsed:    0.1s remaining:    0.0s\n"
     ]
    },
    {
     "name": "stdout",
     "output_type": "stream",
     "text": [
      "Used Annotations descriptions: ['Comment/101', 'Comment/109', 'Comment/30', 'Comment/40', 'Comment/50', 'Comment/51', 'Comment/52', 'Comment/60', 'Comment/70', 'Comment/80', 'New Segment/']\n",
      "EEG channel type selected for re-referencing\n",
      "Applying average reference.\n",
      "Applying a custom ('EEG',) reference.\n",
      "Multiple event values for single event times found. Keeping the first occurrence and dropping all others.\n",
      "Not setting metadata\n",
      "307 matching events found\n",
      "Setting baseline interval to [0.0, 2.0] s\n",
      "Applying baseline correction (mode: mean)\n",
      "0 projection items activated\n",
      "Using data from preloaded Raw for 307 events and 2501 original time points ...\n"
     ]
    },
    {
     "name": "stderr",
     "output_type": "stream",
     "text": [
      "[Parallel(n_jobs=1)]: Done  63 out of  63 | elapsed:    0.6s finished\n"
     ]
    },
    {
     "name": "stdout",
     "output_type": "stream",
     "text": [
      "2 bad epochs dropped\n"
     ]
    },
    {
     "name": "stderr",
     "output_type": "stream",
     "text": [
      "/var/folders/2b/4tnqzv_x3x17pf4q1_n7m8h40000gn/T/ipykernel_2666/3240740927.py:30: RuntimeWarning: Fiducial point nasion not found, assuming identity unknown to head transformation\n",
      "  epochs.set_montage(montage)\n",
      " 28%|██▊       | 22/79 [00:42<01:45,  1.85s/it]"
     ]
    },
    {
     "name": "stdout",
     "output_type": "stream",
     "text": [
      "Extracting parameters from ./ica_notebooks/cleaned/m_07_02/m_07_02_pos2a.vhdr...\n",
      "Setting channel info structure...\n",
      "Reading 0 ... 703313  =      0.000 ...   703.313 secs...\n",
      "dropping channel\n",
      "Filtering raw data in 1 contiguous segment\n",
      "Setting up band-pass filter from 3 - 30 Hz\n",
      "\n",
      "FIR filter parameters\n",
      "---------------------\n",
      "Designing a one-pass, zero-phase, non-causal bandpass filter:\n",
      "- Windowed time-domain design (firwin) method\n",
      "- Hamming window with 0.0194 passband ripple and 53 dB stopband attenuation\n",
      "- Lower passband edge: 3.00\n",
      "- Lower transition bandwidth: 2.00 Hz (-6 dB cutoff frequency: 2.00 Hz)\n",
      "- Upper passband edge: 30.00 Hz\n",
      "- Upper transition bandwidth: 7.50 Hz (-6 dB cutoff frequency: 33.75 Hz)\n",
      "- Filter length: 1651 samples (1.651 s)\n",
      "\n"
     ]
    },
    {
     "name": "stderr",
     "output_type": "stream",
     "text": [
      "[Parallel(n_jobs=1)]: Using backend SequentialBackend with 1 concurrent workers.\n",
      "[Parallel(n_jobs=1)]: Done   1 out of   1 | elapsed:    0.0s remaining:    0.0s\n",
      "[Parallel(n_jobs=1)]: Done   2 out of   2 | elapsed:    0.0s remaining:    0.0s\n",
      "[Parallel(n_jobs=1)]: Done   3 out of   3 | elapsed:    0.0s remaining:    0.0s\n",
      "[Parallel(n_jobs=1)]: Done   4 out of   4 | elapsed:    0.0s remaining:    0.0s\n"
     ]
    },
    {
     "name": "stdout",
     "output_type": "stream",
     "text": [
      "Used Annotations descriptions: ['Comment/101', 'Comment/109', 'Comment/30', 'Comment/40', 'Comment/50', 'Comment/51', 'Comment/52', 'Comment/60', 'Comment/70', 'Comment/80', 'New Segment/']\n",
      "EEG channel type selected for re-referencing\n",
      "Applying average reference.\n",
      "Applying a custom ('EEG',) reference.\n"
     ]
    },
    {
     "name": "stderr",
     "output_type": "stream",
     "text": [
      "[Parallel(n_jobs=1)]: Done  63 out of  63 | elapsed:    0.6s finished\n"
     ]
    },
    {
     "name": "stdout",
     "output_type": "stream",
     "text": [
      "Multiple event values for single event times found. Keeping the first occurrence and dropping all others.\n",
      "Not setting metadata\n",
      "411 matching events found\n",
      "Setting baseline interval to [0.0, 2.0] s\n",
      "Applying baseline correction (mode: mean)\n",
      "0 projection items activated\n",
      "Using data from preloaded Raw for 411 events and 2501 original time points ...\n",
      "2 bad epochs dropped\n"
     ]
    },
    {
     "name": "stderr",
     "output_type": "stream",
     "text": [
      "/var/folders/2b/4tnqzv_x3x17pf4q1_n7m8h40000gn/T/ipykernel_2666/3240740927.py:30: RuntimeWarning: Fiducial point nasion not found, assuming identity unknown to head transformation\n",
      "  epochs.set_montage(montage)\n",
      " 29%|██▉       | 23/79 [00:44<01:45,  1.89s/it]"
     ]
    },
    {
     "name": "stdout",
     "output_type": "stream",
     "text": [
      "Extracting parameters from ./ica_notebooks/cleaned/m_03_02/m_03_02_pos2a.vhdr...\n",
      "Setting channel info structure...\n",
      "Reading 0 ... 667497  =      0.000 ...   667.497 secs...\n",
      "dropping channel\n",
      "Filtering raw data in 1 contiguous segment\n",
      "Setting up band-pass filter from 3 - 30 Hz\n",
      "\n",
      "FIR filter parameters\n",
      "---------------------\n",
      "Designing a one-pass, zero-phase, non-causal bandpass filter:\n",
      "- Windowed time-domain design (firwin) method\n",
      "- Hamming window with 0.0194 passband ripple and 53 dB stopband attenuation\n",
      "- Lower passband edge: 3.00\n",
      "- Lower transition bandwidth: 2.00 Hz (-6 dB cutoff frequency: 2.00 Hz)\n",
      "- Upper passband edge: 30.00 Hz\n",
      "- Upper transition bandwidth: 7.50 Hz (-6 dB cutoff frequency: 33.75 Hz)\n",
      "- Filter length: 1651 samples (1.651 s)\n",
      "\n"
     ]
    },
    {
     "name": "stderr",
     "output_type": "stream",
     "text": [
      "[Parallel(n_jobs=1)]: Using backend SequentialBackend with 1 concurrent workers.\n",
      "[Parallel(n_jobs=1)]: Done   1 out of   1 | elapsed:    0.0s remaining:    0.0s\n",
      "[Parallel(n_jobs=1)]: Done   2 out of   2 | elapsed:    0.0s remaining:    0.0s\n",
      "[Parallel(n_jobs=1)]: Done   3 out of   3 | elapsed:    0.0s remaining:    0.0s\n",
      "[Parallel(n_jobs=1)]: Done   4 out of   4 | elapsed:    0.0s remaining:    0.0s\n"
     ]
    },
    {
     "name": "stdout",
     "output_type": "stream",
     "text": [
      "Used Annotations descriptions: ['Comment/101', 'Comment/109', 'Comment/30', 'Comment/40', 'Comment/50', 'Comment/51', 'Comment/52', 'Comment/60', 'Comment/70', 'Comment/80', 'New Segment/']\n",
      "EEG channel type selected for re-referencing\n",
      "Applying average reference.\n",
      "Applying a custom ('EEG',) reference.\n"
     ]
    },
    {
     "name": "stderr",
     "output_type": "stream",
     "text": [
      "[Parallel(n_jobs=1)]: Done  63 out of  63 | elapsed:    0.6s finished\n"
     ]
    },
    {
     "name": "stdout",
     "output_type": "stream",
     "text": [
      "Multiple event values for single event times found. Keeping the first occurrence and dropping all others.\n",
      "Not setting metadata\n",
      "410 matching events found\n",
      "Setting baseline interval to [0.0, 2.0] s\n",
      "Applying baseline correction (mode: mean)\n",
      "0 projection items activated\n",
      "Using data from preloaded Raw for 410 events and 2501 original time points ...\n",
      "2 bad epochs dropped\n"
     ]
    },
    {
     "name": "stderr",
     "output_type": "stream",
     "text": [
      "/var/folders/2b/4tnqzv_x3x17pf4q1_n7m8h40000gn/T/ipykernel_2666/3240740927.py:30: RuntimeWarning: Fiducial point nasion not found, assuming identity unknown to head transformation\n",
      "  epochs.set_montage(montage)\n",
      " 30%|███       | 24/79 [00:45<01:41,  1.85s/it]"
     ]
    },
    {
     "name": "stdout",
     "output_type": "stream",
     "text": [
      "Extracting parameters from ./ica_notebooks/cleaned/m_11_02/m_11_02_pos2a.vhdr...\n",
      "Setting channel info structure...\n",
      "Reading 0 ... 675340  =      0.000 ...   675.340 secs...\n",
      "dropping channel\n",
      "Filtering raw data in 1 contiguous segment\n",
      "Setting up band-pass filter from 3 - 30 Hz\n",
      "\n",
      "FIR filter parameters\n",
      "---------------------\n",
      "Designing a one-pass, zero-phase, non-causal bandpass filter:\n",
      "- Windowed time-domain design (firwin) method\n",
      "- Hamming window with 0.0194 passband ripple and 53 dB stopband attenuation\n",
      "- Lower passband edge: 3.00\n",
      "- Lower transition bandwidth: 2.00 Hz (-6 dB cutoff frequency: 2.00 Hz)\n",
      "- Upper passband edge: 30.00 Hz\n",
      "- Upper transition bandwidth: 7.50 Hz (-6 dB cutoff frequency: 33.75 Hz)\n",
      "- Filter length: 1651 samples (1.651 s)\n",
      "\n"
     ]
    },
    {
     "name": "stderr",
     "output_type": "stream",
     "text": [
      "[Parallel(n_jobs=1)]: Using backend SequentialBackend with 1 concurrent workers.\n",
      "[Parallel(n_jobs=1)]: Done   1 out of   1 | elapsed:    0.0s remaining:    0.0s\n",
      "[Parallel(n_jobs=1)]: Done   2 out of   2 | elapsed:    0.0s remaining:    0.0s\n",
      "[Parallel(n_jobs=1)]: Done   3 out of   3 | elapsed:    0.0s remaining:    0.0s\n",
      "[Parallel(n_jobs=1)]: Done   4 out of   4 | elapsed:    0.0s remaining:    0.0s\n"
     ]
    },
    {
     "name": "stdout",
     "output_type": "stream",
     "text": [
      "Used Annotations descriptions: ['Comment/101', 'Comment/109', 'Comment/30', 'Comment/40', 'Comment/50', 'Comment/51', 'Comment/52', 'Comment/60', 'Comment/70', 'Comment/80', 'New Segment/']\n",
      "EEG channel type selected for re-referencing\n",
      "Applying average reference.\n",
      "Applying a custom ('EEG',) reference.\n"
     ]
    },
    {
     "name": "stderr",
     "output_type": "stream",
     "text": [
      "[Parallel(n_jobs=1)]: Done  63 out of  63 | elapsed:    0.6s finished\n"
     ]
    },
    {
     "name": "stdout",
     "output_type": "stream",
     "text": [
      "Multiple event values for single event times found. Keeping the first occurrence and dropping all others.\n",
      "Not setting metadata\n",
      "411 matching events found\n",
      "Setting baseline interval to [0.0, 2.0] s\n",
      "Applying baseline correction (mode: mean)\n",
      "0 projection items activated\n",
      "Using data from preloaded Raw for 411 events and 2501 original time points ...\n",
      "2 bad epochs dropped\n"
     ]
    },
    {
     "name": "stderr",
     "output_type": "stream",
     "text": [
      "/var/folders/2b/4tnqzv_x3x17pf4q1_n7m8h40000gn/T/ipykernel_2666/3240740927.py:30: RuntimeWarning: Fiducial point nasion not found, assuming identity unknown to head transformation\n",
      "  epochs.set_montage(montage)\n",
      " 32%|███▏      | 25/79 [00:47<01:40,  1.85s/it]"
     ]
    },
    {
     "name": "stdout",
     "output_type": "stream",
     "text": [
      "Extracting parameters from ./ica_notebooks/cleaned/m_15_02/m_15_02_pos2a.vhdr...\n",
      "Setting channel info structure...\n",
      "Reading 0 ... 663436  =      0.000 ...   663.436 secs...\n",
      "dropping channel\n",
      "Filtering raw data in 1 contiguous segment\n",
      "Setting up band-pass filter from 3 - 30 Hz\n",
      "\n",
      "FIR filter parameters\n",
      "---------------------\n",
      "Designing a one-pass, zero-phase, non-causal bandpass filter:\n",
      "- Windowed time-domain design (firwin) method\n",
      "- Hamming window with 0.0194 passband ripple and 53 dB stopband attenuation\n",
      "- Lower passband edge: 3.00\n",
      "- Lower transition bandwidth: 2.00 Hz (-6 dB cutoff frequency: 2.00 Hz)\n",
      "- Upper passband edge: 30.00 Hz\n",
      "- Upper transition bandwidth: 7.50 Hz (-6 dB cutoff frequency: 33.75 Hz)\n",
      "- Filter length: 1651 samples (1.651 s)\n",
      "\n"
     ]
    },
    {
     "name": "stderr",
     "output_type": "stream",
     "text": [
      "[Parallel(n_jobs=1)]: Using backend SequentialBackend with 1 concurrent workers.\n",
      "[Parallel(n_jobs=1)]: Done   1 out of   1 | elapsed:    0.0s remaining:    0.0s\n",
      "[Parallel(n_jobs=1)]: Done   2 out of   2 | elapsed:    0.0s remaining:    0.0s\n",
      "[Parallel(n_jobs=1)]: Done   3 out of   3 | elapsed:    0.0s remaining:    0.0s\n",
      "[Parallel(n_jobs=1)]: Done   4 out of   4 | elapsed:    0.0s remaining:    0.0s\n"
     ]
    },
    {
     "name": "stdout",
     "output_type": "stream",
     "text": [
      "Used Annotations descriptions: ['Comment/101', 'Comment/109', 'Comment/30', 'Comment/40', 'Comment/50', 'Comment/51', 'Comment/52', 'Comment/60', 'Comment/70', 'Comment/80', 'New Segment/']\n",
      "EEG channel type selected for re-referencing\n",
      "Applying average reference.\n",
      "Applying a custom ('EEG',) reference.\n"
     ]
    },
    {
     "name": "stderr",
     "output_type": "stream",
     "text": [
      "[Parallel(n_jobs=1)]: Done  63 out of  63 | elapsed:    0.7s finished\n"
     ]
    },
    {
     "name": "stdout",
     "output_type": "stream",
     "text": [
      "Multiple event values for single event times found. Keeping the first occurrence and dropping all others.\n",
      "Not setting metadata\n",
      "410 matching events found\n",
      "Setting baseline interval to [0.0, 2.0] s\n",
      "Applying baseline correction (mode: mean)\n",
      "0 projection items activated\n",
      "Using data from preloaded Raw for 410 events and 2501 original time points ...\n",
      "3 bad epochs dropped\n"
     ]
    },
    {
     "name": "stderr",
     "output_type": "stream",
     "text": [
      "/var/folders/2b/4tnqzv_x3x17pf4q1_n7m8h40000gn/T/ipykernel_2666/3240740927.py:30: RuntimeWarning: Fiducial point nasion not found, assuming identity unknown to head transformation\n",
      "  epochs.set_montage(montage)\n",
      " 33%|███▎      | 26/79 [00:49<01:40,  1.89s/it]"
     ]
    },
    {
     "name": "stdout",
     "output_type": "stream",
     "text": [
      "Extracting parameters from ./ica_notebooks/cleaned/m_20_02/m_20_02_pos2a.vhdr...\n",
      "Setting channel info structure...\n",
      "Reading 0 ... 500248  =      0.000 ...   500.248 secs...\n",
      "dropping channel\n",
      "Filtering raw data in 1 contiguous segment\n",
      "Setting up band-pass filter from 3 - 30 Hz\n",
      "\n",
      "FIR filter parameters\n",
      "---------------------\n",
      "Designing a one-pass, zero-phase, non-causal bandpass filter:\n",
      "- Windowed time-domain design (firwin) method\n",
      "- Hamming window with 0.0194 passband ripple and 53 dB stopband attenuation\n",
      "- Lower passband edge: 3.00\n",
      "- Lower transition bandwidth: 2.00 Hz (-6 dB cutoff frequency: 2.00 Hz)\n",
      "- Upper passband edge: 30.00 Hz\n",
      "- Upper transition bandwidth: 7.50 Hz (-6 dB cutoff frequency: 33.75 Hz)\n",
      "- Filter length: 1651 samples (1.651 s)\n",
      "\n"
     ]
    },
    {
     "name": "stderr",
     "output_type": "stream",
     "text": [
      "[Parallel(n_jobs=1)]: Using backend SequentialBackend with 1 concurrent workers.\n",
      "[Parallel(n_jobs=1)]: Done   1 out of   1 | elapsed:    0.0s remaining:    0.0s\n",
      "[Parallel(n_jobs=1)]: Done   2 out of   2 | elapsed:    0.0s remaining:    0.0s\n",
      "[Parallel(n_jobs=1)]: Done   3 out of   3 | elapsed:    0.0s remaining:    0.0s\n",
      "[Parallel(n_jobs=1)]: Done   4 out of   4 | elapsed:    0.0s remaining:    0.0s\n"
     ]
    },
    {
     "name": "stdout",
     "output_type": "stream",
     "text": [
      "Used Annotations descriptions: ['Comment/101', 'Comment/109', 'Comment/30', 'Comment/40', 'Comment/50', 'Comment/51', 'Comment/52', 'Comment/60', 'Comment/70', 'Comment/80', 'New Segment/']\n",
      "EEG channel type selected for re-referencing\n",
      "Applying average reference.\n",
      "Applying a custom ('EEG',) reference.\n",
      "Multiple event values for single event times found. Keeping the first occurrence and dropping all others.\n",
      "Not setting metadata\n",
      "307 matching events found\n",
      "Setting baseline interval to [0.0, 2.0] s\n",
      "Applying baseline correction (mode: mean)\n",
      "0 projection items activated\n",
      "Using data from preloaded Raw for 307 events and 2501 original time points ...\n"
     ]
    },
    {
     "name": "stderr",
     "output_type": "stream",
     "text": [
      "[Parallel(n_jobs=1)]: Done  63 out of  63 | elapsed:    0.5s finished\n"
     ]
    },
    {
     "name": "stdout",
     "output_type": "stream",
     "text": [
      "2 bad epochs dropped\n"
     ]
    },
    {
     "name": "stderr",
     "output_type": "stream",
     "text": [
      "/var/folders/2b/4tnqzv_x3x17pf4q1_n7m8h40000gn/T/ipykernel_2666/3240740927.py:30: RuntimeWarning: Fiducial point nasion not found, assuming identity unknown to head transformation\n",
      "  epochs.set_montage(montage)\n",
      " 34%|███▍      | 27/79 [00:50<01:29,  1.72s/it]"
     ]
    },
    {
     "name": "stdout",
     "output_type": "stream",
     "text": [
      "Extracting parameters from ./ica_notebooks/cleaned/m_14_02/m_14_02_pos2a.vhdr...\n",
      "Setting channel info structure...\n",
      "Reading 0 ... 516705  =      0.000 ...   516.705 secs...\n",
      "dropping channel\n",
      "Filtering raw data in 1 contiguous segment\n",
      "Setting up band-pass filter from 3 - 30 Hz\n",
      "\n",
      "FIR filter parameters\n",
      "---------------------\n",
      "Designing a one-pass, zero-phase, non-causal bandpass filter:\n",
      "- Windowed time-domain design (firwin) method\n",
      "- Hamming window with 0.0194 passband ripple and 53 dB stopband attenuation\n",
      "- Lower passband edge: 3.00\n",
      "- Lower transition bandwidth: 2.00 Hz (-6 dB cutoff frequency: 2.00 Hz)\n",
      "- Upper passband edge: 30.00 Hz\n",
      "- Upper transition bandwidth: 7.50 Hz (-6 dB cutoff frequency: 33.75 Hz)\n",
      "- Filter length: 1651 samples (1.651 s)\n",
      "\n"
     ]
    },
    {
     "name": "stderr",
     "output_type": "stream",
     "text": [
      "[Parallel(n_jobs=1)]: Using backend SequentialBackend with 1 concurrent workers.\n",
      "[Parallel(n_jobs=1)]: Done   1 out of   1 | elapsed:    0.0s remaining:    0.0s\n",
      "[Parallel(n_jobs=1)]: Done   2 out of   2 | elapsed:    0.0s remaining:    0.0s\n",
      "[Parallel(n_jobs=1)]: Done   3 out of   3 | elapsed:    0.0s remaining:    0.0s\n",
      "[Parallel(n_jobs=1)]: Done   4 out of   4 | elapsed:    0.0s remaining:    0.0s\n"
     ]
    },
    {
     "name": "stdout",
     "output_type": "stream",
     "text": [
      "Used Annotations descriptions: ['Comment/101', 'Comment/109', 'Comment/30', 'Comment/40', 'Comment/50', 'Comment/51', 'Comment/52', 'Comment/60', 'Comment/70', 'Comment/80', 'New Segment/']\n",
      "EEG channel type selected for re-referencing\n",
      "Applying average reference.\n",
      "Applying a custom ('EEG',) reference.\n"
     ]
    },
    {
     "name": "stderr",
     "output_type": "stream",
     "text": [
      "[Parallel(n_jobs=1)]: Done  63 out of  63 | elapsed:    0.5s finished\n"
     ]
    },
    {
     "name": "stdout",
     "output_type": "stream",
     "text": [
      "Multiple event values for single event times found. Keeping the first occurrence and dropping all others.\n",
      "Not setting metadata\n",
      "306 matching events found\n",
      "Setting baseline interval to [0.0, 2.0] s\n",
      "Applying baseline correction (mode: mean)\n",
      "0 projection items activated\n",
      "Using data from preloaded Raw for 306 events and 2501 original time points ...\n",
      "2 bad epochs dropped\n"
     ]
    },
    {
     "name": "stderr",
     "output_type": "stream",
     "text": [
      "/var/folders/2b/4tnqzv_x3x17pf4q1_n7m8h40000gn/T/ipykernel_2666/3240740927.py:30: RuntimeWarning: Fiducial point nasion not found, assuming identity unknown to head transformation\n",
      "  epochs.set_montage(montage)\n",
      " 35%|███▌      | 28/79 [00:52<01:23,  1.64s/it]"
     ]
    },
    {
     "name": "stdout",
     "output_type": "stream",
     "text": [
      "Extracting parameters from ./ica_notebooks/cleaned/m_00_02/m_00_02_pos2a.vhdr...\n",
      "Setting channel info structure...\n",
      "Reading 0 ... 675588  =      0.000 ...   675.588 secs...\n",
      "dropping channel\n",
      "Filtering raw data in 1 contiguous segment\n",
      "Setting up band-pass filter from 3 - 30 Hz\n",
      "\n",
      "FIR filter parameters\n",
      "---------------------\n",
      "Designing a one-pass, zero-phase, non-causal bandpass filter:\n",
      "- Windowed time-domain design (firwin) method\n",
      "- Hamming window with 0.0194 passband ripple and 53 dB stopband attenuation\n",
      "- Lower passband edge: 3.00\n",
      "- Lower transition bandwidth: 2.00 Hz (-6 dB cutoff frequency: 2.00 Hz)\n",
      "- Upper passband edge: 30.00 Hz\n",
      "- Upper transition bandwidth: 7.50 Hz (-6 dB cutoff frequency: 33.75 Hz)\n",
      "- Filter length: 1651 samples (1.651 s)\n",
      "\n"
     ]
    },
    {
     "name": "stderr",
     "output_type": "stream",
     "text": [
      "[Parallel(n_jobs=1)]: Using backend SequentialBackend with 1 concurrent workers.\n",
      "[Parallel(n_jobs=1)]: Done   1 out of   1 | elapsed:    0.0s remaining:    0.0s\n",
      "[Parallel(n_jobs=1)]: Done   2 out of   2 | elapsed:    0.0s remaining:    0.0s\n",
      "[Parallel(n_jobs=1)]: Done   3 out of   3 | elapsed:    0.1s remaining:    0.0s\n",
      "[Parallel(n_jobs=1)]: Done   4 out of   4 | elapsed:    0.1s remaining:    0.0s\n"
     ]
    },
    {
     "name": "stdout",
     "output_type": "stream",
     "text": [
      "Used Annotations descriptions: ['Comment/101', 'Comment/109', 'Comment/30', 'Comment/40', 'Comment/50', 'Comment/51', 'Comment/52', 'Comment/60', 'Comment/70', 'Comment/80', 'New Segment/']\n",
      "EEG channel type selected for re-referencing\n",
      "Applying average reference.\n",
      "Applying a custom ('EEG',) reference.\n"
     ]
    },
    {
     "name": "stderr",
     "output_type": "stream",
     "text": [
      "[Parallel(n_jobs=1)]: Done  63 out of  63 | elapsed:    0.8s finished\n"
     ]
    },
    {
     "name": "stdout",
     "output_type": "stream",
     "text": [
      "Multiple event values for single event times found. Keeping the first occurrence and dropping all others.\n",
      "Not setting metadata\n",
      "410 matching events found\n",
      "Setting baseline interval to [0.0, 2.0] s\n",
      "Applying baseline correction (mode: mean)\n",
      "0 projection items activated\n",
      "Using data from preloaded Raw for 410 events and 2501 original time points ...\n",
      "2 bad epochs dropped\n"
     ]
    },
    {
     "name": "stderr",
     "output_type": "stream",
     "text": [
      "/var/folders/2b/4tnqzv_x3x17pf4q1_n7m8h40000gn/T/ipykernel_2666/3240740927.py:30: RuntimeWarning: Fiducial point nasion not found, assuming identity unknown to head transformation\n",
      "  epochs.set_montage(montage)\n",
      " 37%|███▋      | 29/79 [00:54<01:28,  1.76s/it]"
     ]
    },
    {
     "name": "stdout",
     "output_type": "stream",
     "text": [
      "Extracting parameters from ./ica_notebooks/cleaned/m_10_02/m_10_02_pos2a.vhdr...\n",
      "Setting channel info structure...\n",
      "Reading 0 ... 667992  =      0.000 ...   667.992 secs...\n",
      "dropping channel\n",
      "Filtering raw data in 1 contiguous segment\n",
      "Setting up band-pass filter from 3 - 30 Hz\n",
      "\n",
      "FIR filter parameters\n",
      "---------------------\n",
      "Designing a one-pass, zero-phase, non-causal bandpass filter:\n",
      "- Windowed time-domain design (firwin) method\n",
      "- Hamming window with 0.0194 passband ripple and 53 dB stopband attenuation\n",
      "- Lower passband edge: 3.00\n",
      "- Lower transition bandwidth: 2.00 Hz (-6 dB cutoff frequency: 2.00 Hz)\n",
      "- Upper passband edge: 30.00 Hz\n",
      "- Upper transition bandwidth: 7.50 Hz (-6 dB cutoff frequency: 33.75 Hz)\n",
      "- Filter length: 1651 samples (1.651 s)\n",
      "\n"
     ]
    },
    {
     "name": "stderr",
     "output_type": "stream",
     "text": [
      "[Parallel(n_jobs=1)]: Using backend SequentialBackend with 1 concurrent workers.\n",
      "[Parallel(n_jobs=1)]: Done   1 out of   1 | elapsed:    0.0s remaining:    0.0s\n",
      "[Parallel(n_jobs=1)]: Done   2 out of   2 | elapsed:    0.0s remaining:    0.0s\n",
      "[Parallel(n_jobs=1)]: Done   3 out of   3 | elapsed:    0.0s remaining:    0.0s\n",
      "[Parallel(n_jobs=1)]: Done   4 out of   4 | elapsed:    0.0s remaining:    0.0s\n"
     ]
    },
    {
     "name": "stdout",
     "output_type": "stream",
     "text": [
      "Used Annotations descriptions: ['Comment/101', 'Comment/109', 'Comment/30', 'Comment/40', 'Comment/50', 'Comment/51', 'Comment/52', 'Comment/60', 'Comment/70', 'Comment/80', 'New Segment/']\n",
      "EEG channel type selected for re-referencing\n",
      "Applying average reference.\n",
      "Applying a custom ('EEG',) reference.\n"
     ]
    },
    {
     "name": "stderr",
     "output_type": "stream",
     "text": [
      "[Parallel(n_jobs=1)]: Done  63 out of  63 | elapsed:    0.6s finished\n"
     ]
    },
    {
     "name": "stdout",
     "output_type": "stream",
     "text": [
      "Multiple event values for single event times found. Keeping the first occurrence and dropping all others.\n",
      "Not setting metadata\n",
      "411 matching events found\n",
      "Setting baseline interval to [0.0, 2.0] s\n",
      "Applying baseline correction (mode: mean)\n",
      "0 projection items activated\n",
      "Using data from preloaded Raw for 411 events and 2501 original time points ...\n",
      "2 bad epochs dropped\n"
     ]
    },
    {
     "name": "stderr",
     "output_type": "stream",
     "text": [
      "/var/folders/2b/4tnqzv_x3x17pf4q1_n7m8h40000gn/T/ipykernel_2666/3240740927.py:30: RuntimeWarning: Fiducial point nasion not found, assuming identity unknown to head transformation\n",
      "  epochs.set_montage(montage)\n",
      " 38%|███▊      | 30/79 [00:56<01:25,  1.75s/it]"
     ]
    },
    {
     "name": "stdout",
     "output_type": "stream",
     "text": [
      "Extracting parameters from ./ica_notebooks/cleaned/m_11_01/m_11_01_pos1b.vhdr...\n",
      "Setting channel info structure...\n",
      "Reading 0 ... 685241  =      0.000 ...   685.241 secs...\n",
      "dropping channel\n",
      "Filtering raw data in 1 contiguous segment\n",
      "Setting up band-pass filter from 3 - 30 Hz\n",
      "\n",
      "FIR filter parameters\n",
      "---------------------\n",
      "Designing a one-pass, zero-phase, non-causal bandpass filter:\n",
      "- Windowed time-domain design (firwin) method\n",
      "- Hamming window with 0.0194 passband ripple and 53 dB stopband attenuation\n",
      "- Lower passband edge: 3.00\n",
      "- Lower transition bandwidth: 2.00 Hz (-6 dB cutoff frequency: 2.00 Hz)\n",
      "- Upper passband edge: 30.00 Hz\n",
      "- Upper transition bandwidth: 7.50 Hz (-6 dB cutoff frequency: 33.75 Hz)\n",
      "- Filter length: 1651 samples (1.651 s)\n",
      "\n"
     ]
    },
    {
     "name": "stderr",
     "output_type": "stream",
     "text": [
      "[Parallel(n_jobs=1)]: Using backend SequentialBackend with 1 concurrent workers.\n",
      "[Parallel(n_jobs=1)]: Done   1 out of   1 | elapsed:    0.0s remaining:    0.0s\n",
      "[Parallel(n_jobs=1)]: Done   2 out of   2 | elapsed:    0.0s remaining:    0.0s\n",
      "[Parallel(n_jobs=1)]: Done   3 out of   3 | elapsed:    0.0s remaining:    0.0s\n",
      "[Parallel(n_jobs=1)]: Done   4 out of   4 | elapsed:    0.0s remaining:    0.0s\n"
     ]
    },
    {
     "name": "stdout",
     "output_type": "stream",
     "text": [
      "Used Annotations descriptions: ['Comment/101', 'Comment/109', 'Comment/30', 'Comment/40', 'Comment/50', 'Comment/51', 'Comment/52', 'Comment/60', 'Comment/70', 'Comment/80', 'New Segment/']\n",
      "EEG channel type selected for re-referencing\n",
      "Applying average reference.\n",
      "Applying a custom ('EEG',) reference.\n"
     ]
    },
    {
     "name": "stderr",
     "output_type": "stream",
     "text": [
      "[Parallel(n_jobs=1)]: Done  63 out of  63 | elapsed:    0.6s finished\n"
     ]
    },
    {
     "name": "stdout",
     "output_type": "stream",
     "text": [
      "Multiple event values for single event times found. Keeping the first occurrence and dropping all others.\n",
      "Not setting metadata\n",
      "411 matching events found\n",
      "Setting baseline interval to [0.0, 2.0] s\n",
      "Applying baseline correction (mode: mean)\n",
      "0 projection items activated\n",
      "Using data from preloaded Raw for 411 events and 2501 original time points ...\n",
      "2 bad epochs dropped\n"
     ]
    },
    {
     "name": "stderr",
     "output_type": "stream",
     "text": [
      "/var/folders/2b/4tnqzv_x3x17pf4q1_n7m8h40000gn/T/ipykernel_2666/3240740927.py:30: RuntimeWarning: Fiducial point nasion not found, assuming identity unknown to head transformation\n",
      "  epochs.set_montage(montage)\n",
      " 39%|███▉      | 31/79 [00:58<01:26,  1.80s/it]"
     ]
    },
    {
     "name": "stdout",
     "output_type": "stream",
     "text": [
      "Extracting parameters from ./ica_notebooks/cleaned/m_15_01/m_15_01_pos1b.vhdr...\n",
      "Setting channel info structure...\n",
      "Reading 0 ... 665711  =      0.000 ...   665.711 secs...\n",
      "dropping channel\n",
      "Filtering raw data in 1 contiguous segment\n",
      "Setting up band-pass filter from 3 - 30 Hz\n",
      "\n",
      "FIR filter parameters\n",
      "---------------------\n",
      "Designing a one-pass, zero-phase, non-causal bandpass filter:\n",
      "- Windowed time-domain design (firwin) method\n",
      "- Hamming window with 0.0194 passband ripple and 53 dB stopband attenuation\n",
      "- Lower passband edge: 3.00\n",
      "- Lower transition bandwidth: 2.00 Hz (-6 dB cutoff frequency: 2.00 Hz)\n",
      "- Upper passband edge: 30.00 Hz\n",
      "- Upper transition bandwidth: 7.50 Hz (-6 dB cutoff frequency: 33.75 Hz)\n",
      "- Filter length: 1651 samples (1.651 s)\n",
      "\n"
     ]
    },
    {
     "name": "stderr",
     "output_type": "stream",
     "text": [
      "[Parallel(n_jobs=1)]: Using backend SequentialBackend with 1 concurrent workers.\n",
      "[Parallel(n_jobs=1)]: Done   1 out of   1 | elapsed:    0.0s remaining:    0.0s\n",
      "[Parallel(n_jobs=1)]: Done   2 out of   2 | elapsed:    0.0s remaining:    0.0s\n",
      "[Parallel(n_jobs=1)]: Done   3 out of   3 | elapsed:    0.0s remaining:    0.0s\n",
      "[Parallel(n_jobs=1)]: Done   4 out of   4 | elapsed:    0.0s remaining:    0.0s\n"
     ]
    },
    {
     "name": "stdout",
     "output_type": "stream",
     "text": [
      "Used Annotations descriptions: ['Comment/101', 'Comment/109', 'Comment/30', 'Comment/40', 'Comment/50', 'Comment/51', 'Comment/52', 'Comment/60', 'Comment/70', 'Comment/80', 'New Segment/']\n",
      "EEG channel type selected for re-referencing\n",
      "Applying average reference.\n",
      "Applying a custom ('EEG',) reference.\n"
     ]
    },
    {
     "name": "stderr",
     "output_type": "stream",
     "text": [
      "[Parallel(n_jobs=1)]: Done  63 out of  63 | elapsed:    0.6s finished\n"
     ]
    },
    {
     "name": "stdout",
     "output_type": "stream",
     "text": [
      "Multiple event values for single event times found. Keeping the first occurrence and dropping all others.\n",
      "Not setting metadata\n",
      "411 matching events found\n",
      "Setting baseline interval to [0.0, 2.0] s\n",
      "Applying baseline correction (mode: mean)\n",
      "0 projection items activated\n",
      "Using data from preloaded Raw for 411 events and 2501 original time points ...\n",
      "2 bad epochs dropped\n"
     ]
    },
    {
     "name": "stderr",
     "output_type": "stream",
     "text": [
      "/var/folders/2b/4tnqzv_x3x17pf4q1_n7m8h40000gn/T/ipykernel_2666/3240740927.py:30: RuntimeWarning: Fiducial point nasion not found, assuming identity unknown to head transformation\n",
      "  epochs.set_montage(montage)\n",
      " 41%|████      | 32/79 [00:59<01:25,  1.81s/it]"
     ]
    },
    {
     "name": "stdout",
     "output_type": "stream",
     "text": [
      "Extracting parameters from ./ica_notebooks/cleaned/m_14_01/m_14_01_pos1b.vhdr...\n",
      "Setting channel info structure...\n",
      "Reading 0 ... 686370  =      0.000 ...   686.370 secs...\n",
      "dropping channel\n",
      "Filtering raw data in 1 contiguous segment\n",
      "Setting up band-pass filter from 3 - 30 Hz\n",
      "\n",
      "FIR filter parameters\n",
      "---------------------\n",
      "Designing a one-pass, zero-phase, non-causal bandpass filter:\n",
      "- Windowed time-domain design (firwin) method\n",
      "- Hamming window with 0.0194 passband ripple and 53 dB stopband attenuation\n",
      "- Lower passband edge: 3.00\n",
      "- Lower transition bandwidth: 2.00 Hz (-6 dB cutoff frequency: 2.00 Hz)\n",
      "- Upper passband edge: 30.00 Hz\n",
      "- Upper transition bandwidth: 7.50 Hz (-6 dB cutoff frequency: 33.75 Hz)\n",
      "- Filter length: 1651 samples (1.651 s)\n",
      "\n"
     ]
    },
    {
     "name": "stderr",
     "output_type": "stream",
     "text": [
      "[Parallel(n_jobs=1)]: Using backend SequentialBackend with 1 concurrent workers.\n",
      "[Parallel(n_jobs=1)]: Done   1 out of   1 | elapsed:    0.0s remaining:    0.0s\n",
      "[Parallel(n_jobs=1)]: Done   2 out of   2 | elapsed:    0.0s remaining:    0.0s\n",
      "[Parallel(n_jobs=1)]: Done   3 out of   3 | elapsed:    0.1s remaining:    0.0s\n",
      "[Parallel(n_jobs=1)]: Done   4 out of   4 | elapsed:    0.1s remaining:    0.0s\n"
     ]
    },
    {
     "name": "stdout",
     "output_type": "stream",
     "text": [
      "Used Annotations descriptions: ['Comment/101', 'Comment/109', 'Comment/30', 'Comment/40', 'Comment/50', 'Comment/51', 'Comment/52', 'Comment/60', 'Comment/70', 'Comment/80', 'New Segment/']\n",
      "EEG channel type selected for re-referencing\n",
      "Applying average reference.\n",
      "Applying a custom ('EEG',) reference.\n"
     ]
    },
    {
     "name": "stderr",
     "output_type": "stream",
     "text": [
      "[Parallel(n_jobs=1)]: Done  63 out of  63 | elapsed:    1.0s finished\n"
     ]
    },
    {
     "name": "stdout",
     "output_type": "stream",
     "text": [
      "Multiple event values for single event times found. Keeping the first occurrence and dropping all others.\n",
      "Not setting metadata\n",
      "409 matching events found\n",
      "Setting baseline interval to [0.0, 2.0] s\n",
      "Applying baseline correction (mode: mean)\n",
      "0 projection items activated\n",
      "Using data from preloaded Raw for 409 events and 2501 original time points ...\n",
      "2 bad epochs dropped\n"
     ]
    },
    {
     "name": "stderr",
     "output_type": "stream",
     "text": [
      "/var/folders/2b/4tnqzv_x3x17pf4q1_n7m8h40000gn/T/ipykernel_2666/3240740927.py:30: RuntimeWarning: Fiducial point nasion not found, assuming identity unknown to head transformation\n",
      "  epochs.set_montage(montage)\n",
      " 42%|████▏     | 33/79 [01:02<01:29,  1.95s/it]"
     ]
    },
    {
     "name": "stdout",
     "output_type": "stream",
     "text": [
      "Extracting parameters from ./ica_notebooks/cleaned/m_20_01/m_20_01_pos1b.vhdr...\n",
      "Setting channel info structure...\n",
      "Reading 0 ... 498009  =      0.000 ...   498.009 secs...\n",
      "dropping channel\n",
      "Filtering raw data in 1 contiguous segment\n",
      "Setting up band-pass filter from 3 - 30 Hz\n",
      "\n",
      "FIR filter parameters\n",
      "---------------------\n",
      "Designing a one-pass, zero-phase, non-causal bandpass filter:\n",
      "- Windowed time-domain design (firwin) method\n",
      "- Hamming window with 0.0194 passband ripple and 53 dB stopband attenuation\n",
      "- Lower passband edge: 3.00\n",
      "- Lower transition bandwidth: 2.00 Hz (-6 dB cutoff frequency: 2.00 Hz)\n",
      "- Upper passband edge: 30.00 Hz\n",
      "- Upper transition bandwidth: 7.50 Hz (-6 dB cutoff frequency: 33.75 Hz)\n",
      "- Filter length: 1651 samples (1.651 s)\n",
      "\n"
     ]
    },
    {
     "name": "stderr",
     "output_type": "stream",
     "text": [
      "[Parallel(n_jobs=1)]: Using backend SequentialBackend with 1 concurrent workers.\n",
      "[Parallel(n_jobs=1)]: Done   1 out of   1 | elapsed:    0.0s remaining:    0.0s\n",
      "[Parallel(n_jobs=1)]: Done   2 out of   2 | elapsed:    0.0s remaining:    0.0s\n",
      "[Parallel(n_jobs=1)]: Done   3 out of   3 | elapsed:    0.0s remaining:    0.0s\n",
      "[Parallel(n_jobs=1)]: Done   4 out of   4 | elapsed:    0.0s remaining:    0.0s\n"
     ]
    },
    {
     "name": "stdout",
     "output_type": "stream",
     "text": [
      "Used Annotations descriptions: ['Comment/101', 'Comment/109', 'Comment/30', 'Comment/40', 'Comment/50', 'Comment/51', 'Comment/52', 'Comment/60', 'Comment/70', 'Comment/80', 'New Segment/']\n",
      "EEG channel type selected for re-referencing\n",
      "Applying average reference.\n",
      "Applying a custom ('EEG',) reference.\n"
     ]
    },
    {
     "name": "stderr",
     "output_type": "stream",
     "text": [
      "[Parallel(n_jobs=1)]: Done  63 out of  63 | elapsed:    0.6s finished\n"
     ]
    },
    {
     "name": "stdout",
     "output_type": "stream",
     "text": [
      "Multiple event values for single event times found. Keeping the first occurrence and dropping all others.\n",
      "Not setting metadata\n",
      "307 matching events found\n",
      "Setting baseline interval to [0.0, 2.0] s\n",
      "Applying baseline correction (mode: mean)\n",
      "0 projection items activated\n",
      "Using data from preloaded Raw for 307 events and 2501 original time points ...\n",
      "2 bad epochs dropped\n"
     ]
    },
    {
     "name": "stderr",
     "output_type": "stream",
     "text": [
      "/var/folders/2b/4tnqzv_x3x17pf4q1_n7m8h40000gn/T/ipykernel_2666/3240740927.py:30: RuntimeWarning: Fiducial point nasion not found, assuming identity unknown to head transformation\n",
      "  epochs.set_montage(montage)\n",
      " 43%|████▎     | 34/79 [01:03<01:23,  1.85s/it]"
     ]
    },
    {
     "name": "stdout",
     "output_type": "stream",
     "text": [
      "Extracting parameters from ./ica_notebooks/cleaned/m_10_01/m_10_01_pos1b.vhdr...\n",
      "Setting channel info structure...\n",
      "Reading 0 ... 667363  =      0.000 ...   667.363 secs...\n",
      "dropping channel\n",
      "Filtering raw data in 1 contiguous segment\n",
      "Setting up band-pass filter from 3 - 30 Hz\n",
      "\n",
      "FIR filter parameters\n",
      "---------------------\n",
      "Designing a one-pass, zero-phase, non-causal bandpass filter:\n",
      "- Windowed time-domain design (firwin) method\n",
      "- Hamming window with 0.0194 passband ripple and 53 dB stopband attenuation\n",
      "- Lower passband edge: 3.00\n",
      "- Lower transition bandwidth: 2.00 Hz (-6 dB cutoff frequency: 2.00 Hz)\n",
      "- Upper passband edge: 30.00 Hz\n",
      "- Upper transition bandwidth: 7.50 Hz (-6 dB cutoff frequency: 33.75 Hz)\n",
      "- Filter length: 1651 samples (1.651 s)\n",
      "\n"
     ]
    },
    {
     "name": "stderr",
     "output_type": "stream",
     "text": [
      "[Parallel(n_jobs=1)]: Using backend SequentialBackend with 1 concurrent workers.\n",
      "[Parallel(n_jobs=1)]: Done   1 out of   1 | elapsed:    0.0s remaining:    0.0s\n",
      "[Parallel(n_jobs=1)]: Done   2 out of   2 | elapsed:    0.0s remaining:    0.0s\n",
      "[Parallel(n_jobs=1)]: Done   3 out of   3 | elapsed:    0.1s remaining:    0.0s\n",
      "[Parallel(n_jobs=1)]: Done   4 out of   4 | elapsed:    0.1s remaining:    0.0s\n"
     ]
    },
    {
     "name": "stdout",
     "output_type": "stream",
     "text": [
      "Used Annotations descriptions: ['Comment/101', 'Comment/109', 'Comment/30', 'Comment/40', 'Comment/50', 'Comment/51', 'Comment/52', 'Comment/60', 'Comment/70', 'Comment/80', 'New Segment/']\n",
      "EEG channel type selected for re-referencing\n",
      "Applying average reference.\n",
      "Applying a custom ('EEG',) reference.\n"
     ]
    },
    {
     "name": "stderr",
     "output_type": "stream",
     "text": [
      "[Parallel(n_jobs=1)]: Done  63 out of  63 | elapsed:    0.7s finished\n"
     ]
    },
    {
     "name": "stdout",
     "output_type": "stream",
     "text": [
      "Multiple event values for single event times found. Keeping the first occurrence and dropping all others.\n",
      "Not setting metadata\n",
      "410 matching events found\n",
      "Setting baseline interval to [0.0, 2.0] s\n",
      "Applying baseline correction (mode: mean)\n",
      "0 projection items activated\n",
      "Using data from preloaded Raw for 410 events and 2501 original time points ...\n",
      "2 bad epochs dropped\n"
     ]
    },
    {
     "name": "stderr",
     "output_type": "stream",
     "text": [
      "/var/folders/2b/4tnqzv_x3x17pf4q1_n7m8h40000gn/T/ipykernel_2666/3240740927.py:30: RuntimeWarning: Fiducial point nasion not found, assuming identity unknown to head transformation\n",
      "  epochs.set_montage(montage)\n",
      " 44%|████▍     | 35/79 [01:05<01:23,  1.89s/it]"
     ]
    },
    {
     "name": "stdout",
     "output_type": "stream",
     "text": [
      "Extracting parameters from ./ica_notebooks/cleaned/m_00_01/m_00_01_pos1b.vhdr...\n",
      "Setting channel info structure...\n",
      "Reading 0 ... 680309  =      0.000 ...   680.309 secs...\n",
      "dropping channel\n",
      "Filtering raw data in 1 contiguous segment\n",
      "Setting up band-pass filter from 3 - 30 Hz\n",
      "\n",
      "FIR filter parameters\n",
      "---------------------\n",
      "Designing a one-pass, zero-phase, non-causal bandpass filter:\n",
      "- Windowed time-domain design (firwin) method\n",
      "- Hamming window with 0.0194 passband ripple and 53 dB stopband attenuation\n",
      "- Lower passband edge: 3.00\n",
      "- Lower transition bandwidth: 2.00 Hz (-6 dB cutoff frequency: 2.00 Hz)\n",
      "- Upper passband edge: 30.00 Hz\n",
      "- Upper transition bandwidth: 7.50 Hz (-6 dB cutoff frequency: 33.75 Hz)\n",
      "- Filter length: 1651 samples (1.651 s)\n",
      "\n"
     ]
    },
    {
     "name": "stderr",
     "output_type": "stream",
     "text": [
      "[Parallel(n_jobs=1)]: Using backend SequentialBackend with 1 concurrent workers.\n",
      "[Parallel(n_jobs=1)]: Done   1 out of   1 | elapsed:    0.0s remaining:    0.0s\n",
      "[Parallel(n_jobs=1)]: Done   2 out of   2 | elapsed:    0.0s remaining:    0.0s\n",
      "[Parallel(n_jobs=1)]: Done   3 out of   3 | elapsed:    0.0s remaining:    0.0s\n",
      "[Parallel(n_jobs=1)]: Done   4 out of   4 | elapsed:    0.0s remaining:    0.0s\n"
     ]
    },
    {
     "name": "stdout",
     "output_type": "stream",
     "text": [
      "Used Annotations descriptions: ['Comment/101', 'Comment/109', 'Comment/30', 'Comment/40', 'Comment/50', 'Comment/51', 'Comment/52', 'Comment/60', 'Comment/70', 'Comment/80', 'New Segment/']\n",
      "EEG channel type selected for re-referencing\n",
      "Applying average reference.\n",
      "Applying a custom ('EEG',) reference.\n"
     ]
    },
    {
     "name": "stderr",
     "output_type": "stream",
     "text": [
      "[Parallel(n_jobs=1)]: Done  63 out of  63 | elapsed:    0.6s finished\n"
     ]
    },
    {
     "name": "stdout",
     "output_type": "stream",
     "text": [
      "Multiple event values for single event times found. Keeping the first occurrence and dropping all others.\n",
      "Not setting metadata\n",
      "411 matching events found\n",
      "Setting baseline interval to [0.0, 2.0] s\n",
      "Applying baseline correction (mode: mean)\n",
      "0 projection items activated\n",
      "Using data from preloaded Raw for 411 events and 2501 original time points ...\n",
      "2 bad epochs dropped\n"
     ]
    },
    {
     "name": "stderr",
     "output_type": "stream",
     "text": [
      "/var/folders/2b/4tnqzv_x3x17pf4q1_n7m8h40000gn/T/ipykernel_2666/3240740927.py:30: RuntimeWarning: Fiducial point nasion not found, assuming identity unknown to head transformation\n",
      "  epochs.set_montage(montage)\n",
      " 46%|████▌     | 36/79 [01:07<01:23,  1.95s/it]"
     ]
    },
    {
     "name": "stdout",
     "output_type": "stream",
     "text": [
      "Extracting parameters from ./ica_notebooks/cleaned/m_19_01/m_19_01_pos1b.vhdr...\n",
      "Setting channel info structure...\n",
      "Reading 0 ... 736370  =      0.000 ...   736.370 secs...\n",
      "dropping channel\n",
      "Filtering raw data in 1 contiguous segment\n",
      "Setting up band-pass filter from 3 - 30 Hz\n",
      "\n",
      "FIR filter parameters\n",
      "---------------------\n",
      "Designing a one-pass, zero-phase, non-causal bandpass filter:\n",
      "- Windowed time-domain design (firwin) method\n",
      "- Hamming window with 0.0194 passband ripple and 53 dB stopband attenuation\n",
      "- Lower passband edge: 3.00\n",
      "- Lower transition bandwidth: 2.00 Hz (-6 dB cutoff frequency: 2.00 Hz)\n",
      "- Upper passband edge: 30.00 Hz\n",
      "- Upper transition bandwidth: 7.50 Hz (-6 dB cutoff frequency: 33.75 Hz)\n",
      "- Filter length: 1651 samples (1.651 s)\n",
      "\n"
     ]
    },
    {
     "name": "stderr",
     "output_type": "stream",
     "text": [
      "[Parallel(n_jobs=1)]: Using backend SequentialBackend with 1 concurrent workers.\n",
      "[Parallel(n_jobs=1)]: Done   1 out of   1 | elapsed:    0.0s remaining:    0.0s\n",
      "[Parallel(n_jobs=1)]: Done   2 out of   2 | elapsed:    0.0s remaining:    0.0s\n",
      "[Parallel(n_jobs=1)]: Done   3 out of   3 | elapsed:    0.0s remaining:    0.0s\n",
      "[Parallel(n_jobs=1)]: Done   4 out of   4 | elapsed:    0.0s remaining:    0.0s\n"
     ]
    },
    {
     "name": "stdout",
     "output_type": "stream",
     "text": [
      "Used Annotations descriptions: ['Comment/101', 'Comment/109', 'Comment/30', 'Comment/40', 'Comment/50', 'Comment/51', 'Comment/52', 'Comment/60', 'Comment/70', 'Comment/80', 'New Segment/']\n",
      "EEG channel type selected for re-referencing\n",
      "Applying average reference.\n",
      "Applying a custom ('EEG',) reference.\n"
     ]
    },
    {
     "name": "stderr",
     "output_type": "stream",
     "text": [
      "[Parallel(n_jobs=1)]: Done  63 out of  63 | elapsed:    0.7s finished\n"
     ]
    },
    {
     "name": "stdout",
     "output_type": "stream",
     "text": [
      "Multiple event values for single event times found. Keeping the first occurrence and dropping all others.\n",
      "Not setting metadata\n",
      "410 matching events found\n",
      "Setting baseline interval to [0.0, 2.0] s\n",
      "Applying baseline correction (mode: mean)\n",
      "0 projection items activated\n",
      "Using data from preloaded Raw for 410 events and 2501 original time points ...\n",
      "2 bad epochs dropped\n"
     ]
    },
    {
     "name": "stderr",
     "output_type": "stream",
     "text": [
      "/var/folders/2b/4tnqzv_x3x17pf4q1_n7m8h40000gn/T/ipykernel_2666/3240740927.py:30: RuntimeWarning: Fiducial point nasion not found, assuming identity unknown to head transformation\n",
      "  epochs.set_montage(montage)\n",
      " 47%|████▋     | 37/79 [01:09<01:20,  1.92s/it]"
     ]
    },
    {
     "name": "stdout",
     "output_type": "stream",
     "text": [
      "Extracting parameters from ./ica_notebooks/cleaned/m_09_01/m_09_01_pos1b.vhdr...\n",
      "Setting channel info structure...\n",
      "Reading 0 ... 535139  =      0.000 ...   535.139 secs...\n",
      "dropping channel\n",
      "Filtering raw data in 1 contiguous segment\n",
      "Setting up band-pass filter from 3 - 30 Hz\n",
      "\n",
      "FIR filter parameters\n",
      "---------------------\n",
      "Designing a one-pass, zero-phase, non-causal bandpass filter:\n",
      "- Windowed time-domain design (firwin) method\n",
      "- Hamming window with 0.0194 passband ripple and 53 dB stopband attenuation\n",
      "- Lower passband edge: 3.00\n",
      "- Lower transition bandwidth: 2.00 Hz (-6 dB cutoff frequency: 2.00 Hz)\n",
      "- Upper passband edge: 30.00 Hz\n",
      "- Upper transition bandwidth: 7.50 Hz (-6 dB cutoff frequency: 33.75 Hz)\n",
      "- Filter length: 1651 samples (1.651 s)\n",
      "\n"
     ]
    },
    {
     "name": "stderr",
     "output_type": "stream",
     "text": [
      "[Parallel(n_jobs=1)]: Using backend SequentialBackend with 1 concurrent workers.\n",
      "[Parallel(n_jobs=1)]: Done   1 out of   1 | elapsed:    0.0s remaining:    0.0s\n",
      "[Parallel(n_jobs=1)]: Done   2 out of   2 | elapsed:    0.0s remaining:    0.0s\n",
      "[Parallel(n_jobs=1)]: Done   3 out of   3 | elapsed:    0.1s remaining:    0.0s\n",
      "[Parallel(n_jobs=1)]: Done   4 out of   4 | elapsed:    0.1s remaining:    0.0s\n"
     ]
    },
    {
     "name": "stdout",
     "output_type": "stream",
     "text": [
      "Used Annotations descriptions: ['Comment/101', 'Comment/109', 'Comment/30', 'Comment/40', 'Comment/50', 'Comment/51', 'Comment/52', 'Comment/60', 'Comment/70', 'Comment/80', 'New Segment/']\n",
      "EEG channel type selected for re-referencing\n",
      "Applying average reference.\n",
      "Applying a custom ('EEG',) reference.\n"
     ]
    },
    {
     "name": "stderr",
     "output_type": "stream",
     "text": [
      "[Parallel(n_jobs=1)]: Done  63 out of  63 | elapsed:    0.6s finished\n"
     ]
    },
    {
     "name": "stdout",
     "output_type": "stream",
     "text": [
      "Multiple event values for single event times found. Keeping the first occurrence and dropping all others.\n",
      "Not setting metadata\n",
      "308 matching events found\n",
      "Setting baseline interval to [0.0, 2.0] s\n",
      "Applying baseline correction (mode: mean)\n",
      "0 projection items activated\n",
      "Using data from preloaded Raw for 308 events and 2501 original time points ...\n",
      "2 bad epochs dropped\n"
     ]
    },
    {
     "name": "stderr",
     "output_type": "stream",
     "text": [
      "/var/folders/2b/4tnqzv_x3x17pf4q1_n7m8h40000gn/T/ipykernel_2666/3240740927.py:30: RuntimeWarning: Fiducial point nasion not found, assuming identity unknown to head transformation\n",
      "  epochs.set_montage(montage)\n",
      " 48%|████▊     | 38/79 [01:11<01:13,  1.79s/it]"
     ]
    },
    {
     "name": "stdout",
     "output_type": "stream",
     "text": [
      "Extracting parameters from ./ica_notebooks/cleaned/m_07_01/m_07_01_pos1b.vhdr...\n",
      "Setting channel info structure...\n",
      "Reading 0 ... 669191  =      0.000 ...   669.191 secs...\n",
      "dropping channel\n",
      "Filtering raw data in 1 contiguous segment\n",
      "Setting up band-pass filter from 3 - 30 Hz\n",
      "\n",
      "FIR filter parameters\n",
      "---------------------\n",
      "Designing a one-pass, zero-phase, non-causal bandpass filter:\n",
      "- Windowed time-domain design (firwin) method\n",
      "- Hamming window with 0.0194 passband ripple and 53 dB stopband attenuation\n",
      "- Lower passband edge: 3.00\n",
      "- Lower transition bandwidth: 2.00 Hz (-6 dB cutoff frequency: 2.00 Hz)\n",
      "- Upper passband edge: 30.00 Hz\n",
      "- Upper transition bandwidth: 7.50 Hz (-6 dB cutoff frequency: 33.75 Hz)\n",
      "- Filter length: 1651 samples (1.651 s)\n",
      "\n"
     ]
    },
    {
     "name": "stderr",
     "output_type": "stream",
     "text": [
      "[Parallel(n_jobs=1)]: Using backend SequentialBackend with 1 concurrent workers.\n",
      "[Parallel(n_jobs=1)]: Done   1 out of   1 | elapsed:    0.0s remaining:    0.0s\n",
      "[Parallel(n_jobs=1)]: Done   2 out of   2 | elapsed:    0.0s remaining:    0.0s\n",
      "[Parallel(n_jobs=1)]: Done   3 out of   3 | elapsed:    0.0s remaining:    0.0s\n",
      "[Parallel(n_jobs=1)]: Done   4 out of   4 | elapsed:    0.0s remaining:    0.0s\n"
     ]
    },
    {
     "name": "stdout",
     "output_type": "stream",
     "text": [
      "Used Annotations descriptions: ['Comment/101', 'Comment/109', 'Comment/30', 'Comment/40', 'Comment/50', 'Comment/51', 'Comment/52', 'Comment/60', 'Comment/70', 'Comment/80', 'New Segment/']\n",
      "EEG channel type selected for re-referencing\n",
      "Applying average reference.\n",
      "Applying a custom ('EEG',) reference.\n"
     ]
    },
    {
     "name": "stderr",
     "output_type": "stream",
     "text": [
      "[Parallel(n_jobs=1)]: Done  63 out of  63 | elapsed:    0.7s finished\n"
     ]
    },
    {
     "name": "stdout",
     "output_type": "stream",
     "text": [
      "Multiple event values for single event times found. Keeping the first occurrence and dropping all others.\n",
      "Not setting metadata\n",
      "409 matching events found\n",
      "Setting baseline interval to [0.0, 2.0] s\n",
      "Applying baseline correction (mode: mean)\n",
      "0 projection items activated\n",
      "Using data from preloaded Raw for 409 events and 2501 original time points ...\n",
      "2 bad epochs dropped\n"
     ]
    },
    {
     "name": "stderr",
     "output_type": "stream",
     "text": [
      "/var/folders/2b/4tnqzv_x3x17pf4q1_n7m8h40000gn/T/ipykernel_2666/3240740927.py:30: RuntimeWarning: Fiducial point nasion not found, assuming identity unknown to head transformation\n",
      "  epochs.set_montage(montage)\n",
      " 49%|████▉     | 39/79 [01:13<01:13,  1.83s/it]"
     ]
    },
    {
     "name": "stdout",
     "output_type": "stream",
     "text": [
      "Extracting parameters from ./ica_notebooks/cleaned/m_03_01/m_03_01_pos1b.vhdr...\n",
      "Setting channel info structure...\n",
      "Reading 0 ... 673432  =      0.000 ...   673.432 secs...\n",
      "dropping channel\n",
      "Filtering raw data in 1 contiguous segment\n",
      "Setting up band-pass filter from 3 - 30 Hz\n",
      "\n",
      "FIR filter parameters\n",
      "---------------------\n",
      "Designing a one-pass, zero-phase, non-causal bandpass filter:\n",
      "- Windowed time-domain design (firwin) method\n",
      "- Hamming window with 0.0194 passband ripple and 53 dB stopband attenuation\n",
      "- Lower passband edge: 3.00\n",
      "- Lower transition bandwidth: 2.00 Hz (-6 dB cutoff frequency: 2.00 Hz)\n",
      "- Upper passband edge: 30.00 Hz\n",
      "- Upper transition bandwidth: 7.50 Hz (-6 dB cutoff frequency: 33.75 Hz)\n",
      "- Filter length: 1651 samples (1.651 s)\n",
      "\n"
     ]
    },
    {
     "name": "stderr",
     "output_type": "stream",
     "text": [
      "[Parallel(n_jobs=1)]: Using backend SequentialBackend with 1 concurrent workers.\n",
      "[Parallel(n_jobs=1)]: Done   1 out of   1 | elapsed:    0.0s remaining:    0.0s\n",
      "[Parallel(n_jobs=1)]: Done   2 out of   2 | elapsed:    0.0s remaining:    0.0s\n",
      "[Parallel(n_jobs=1)]: Done   3 out of   3 | elapsed:    0.0s remaining:    0.0s\n",
      "[Parallel(n_jobs=1)]: Done   4 out of   4 | elapsed:    0.1s remaining:    0.0s\n"
     ]
    },
    {
     "name": "stdout",
     "output_type": "stream",
     "text": [
      "Used Annotations descriptions: ['Comment/101', 'Comment/109', 'Comment/30', 'Comment/40', 'Comment/50', 'Comment/51', 'Comment/52', 'Comment/60', 'Comment/70', 'Comment/80', 'New Segment/']\n",
      "EEG channel type selected for re-referencing\n",
      "Applying average reference.\n",
      "Applying a custom ('EEG',) reference.\n"
     ]
    },
    {
     "name": "stderr",
     "output_type": "stream",
     "text": [
      "[Parallel(n_jobs=1)]: Done  63 out of  63 | elapsed:    0.6s finished\n"
     ]
    },
    {
     "name": "stdout",
     "output_type": "stream",
     "text": [
      "Multiple event values for single event times found. Keeping the first occurrence and dropping all others.\n",
      "Not setting metadata\n",
      "409 matching events found\n",
      "Setting baseline interval to [0.0, 2.0] s\n",
      "Applying baseline correction (mode: mean)\n",
      "0 projection items activated\n",
      "Using data from preloaded Raw for 409 events and 2501 original time points ...\n",
      "2 bad epochs dropped\n"
     ]
    },
    {
     "name": "stderr",
     "output_type": "stream",
     "text": [
      "/var/folders/2b/4tnqzv_x3x17pf4q1_n7m8h40000gn/T/ipykernel_2666/3240740927.py:30: RuntimeWarning: Fiducial point nasion not found, assuming identity unknown to head transformation\n",
      "  epochs.set_montage(montage)\n",
      " 51%|█████     | 40/79 [01:15<01:11,  1.84s/it]"
     ]
    },
    {
     "name": "stdout",
     "output_type": "stream",
     "text": [
      "Extracting parameters from ./ica_notebooks/cleaned/m_16_01/m_16_01_pos1b.vhdr...\n",
      "Setting channel info structure...\n",
      "Reading 0 ... 667352  =      0.000 ...   667.352 secs...\n",
      "dropping channel\n",
      "Filtering raw data in 1 contiguous segment\n",
      "Setting up band-pass filter from 3 - 30 Hz\n",
      "\n",
      "FIR filter parameters\n",
      "---------------------\n",
      "Designing a one-pass, zero-phase, non-causal bandpass filter:\n",
      "- Windowed time-domain design (firwin) method\n",
      "- Hamming window with 0.0194 passband ripple and 53 dB stopband attenuation\n",
      "- Lower passband edge: 3.00\n",
      "- Lower transition bandwidth: 2.00 Hz (-6 dB cutoff frequency: 2.00 Hz)\n",
      "- Upper passband edge: 30.00 Hz\n",
      "- Upper transition bandwidth: 7.50 Hz (-6 dB cutoff frequency: 33.75 Hz)\n",
      "- Filter length: 1651 samples (1.651 s)\n",
      "\n"
     ]
    },
    {
     "name": "stderr",
     "output_type": "stream",
     "text": [
      "[Parallel(n_jobs=1)]: Using backend SequentialBackend with 1 concurrent workers.\n",
      "[Parallel(n_jobs=1)]: Done   1 out of   1 | elapsed:    0.0s remaining:    0.0s\n",
      "[Parallel(n_jobs=1)]: Done   2 out of   2 | elapsed:    0.0s remaining:    0.0s\n",
      "[Parallel(n_jobs=1)]: Done   3 out of   3 | elapsed:    0.0s remaining:    0.0s\n",
      "[Parallel(n_jobs=1)]: Done   4 out of   4 | elapsed:    0.1s remaining:    0.0s\n"
     ]
    },
    {
     "name": "stdout",
     "output_type": "stream",
     "text": [
      "Used Annotations descriptions: ['Comment/101', 'Comment/109', 'Comment/30', 'Comment/40', 'Comment/50', 'Comment/51', 'Comment/52', 'Comment/60', 'Comment/70', 'Comment/80', 'New Segment/']\n",
      "EEG channel type selected for re-referencing\n",
      "Applying average reference.\n",
      "Applying a custom ('EEG',) reference.\n"
     ]
    },
    {
     "name": "stderr",
     "output_type": "stream",
     "text": [
      "[Parallel(n_jobs=1)]: Done  63 out of  63 | elapsed:    0.7s finished\n"
     ]
    },
    {
     "name": "stdout",
     "output_type": "stream",
     "text": [
      "Multiple event values for single event times found. Keeping the first occurrence and dropping all others.\n",
      "Not setting metadata\n",
      "410 matching events found\n",
      "Setting baseline interval to [0.0, 2.0] s\n",
      "Applying baseline correction (mode: mean)\n",
      "0 projection items activated\n",
      "Using data from preloaded Raw for 410 events and 2501 original time points ...\n",
      "3 bad epochs dropped\n"
     ]
    },
    {
     "name": "stderr",
     "output_type": "stream",
     "text": [
      "/var/folders/2b/4tnqzv_x3x17pf4q1_n7m8h40000gn/T/ipykernel_2666/3240740927.py:30: RuntimeWarning: Fiducial point nasion not found, assuming identity unknown to head transformation\n",
      "  epochs.set_montage(montage)\n",
      " 52%|█████▏    | 41/79 [01:16<01:10,  1.86s/it]"
     ]
    },
    {
     "name": "stdout",
     "output_type": "stream",
     "text": [
      "Extracting parameters from ./ica_notebooks/cleaned/m_08_02/m_08_02_pos2a.vhdr...\n",
      "Setting channel info structure...\n",
      "Reading 0 ... 728771  =      0.000 ...   728.771 secs...\n",
      "dropping channel\n",
      "Filtering raw data in 1 contiguous segment\n",
      "Setting up band-pass filter from 3 - 30 Hz\n",
      "\n",
      "FIR filter parameters\n",
      "---------------------\n",
      "Designing a one-pass, zero-phase, non-causal bandpass filter:\n",
      "- Windowed time-domain design (firwin) method\n",
      "- Hamming window with 0.0194 passband ripple and 53 dB stopband attenuation\n",
      "- Lower passband edge: 3.00\n",
      "- Lower transition bandwidth: 2.00 Hz (-6 dB cutoff frequency: 2.00 Hz)\n",
      "- Upper passband edge: 30.00 Hz\n",
      "- Upper transition bandwidth: 7.50 Hz (-6 dB cutoff frequency: 33.75 Hz)\n",
      "- Filter length: 1651 samples (1.651 s)\n",
      "\n"
     ]
    },
    {
     "name": "stderr",
     "output_type": "stream",
     "text": [
      "[Parallel(n_jobs=1)]: Using backend SequentialBackend with 1 concurrent workers.\n",
      "[Parallel(n_jobs=1)]: Done   1 out of   1 | elapsed:    0.0s remaining:    0.0s\n",
      "[Parallel(n_jobs=1)]: Done   2 out of   2 | elapsed:    0.0s remaining:    0.0s\n",
      "[Parallel(n_jobs=1)]: Done   3 out of   3 | elapsed:    0.0s remaining:    0.0s\n",
      "[Parallel(n_jobs=1)]: Done   4 out of   4 | elapsed:    0.1s remaining:    0.0s\n"
     ]
    },
    {
     "name": "stdout",
     "output_type": "stream",
     "text": [
      "Used Annotations descriptions: ['Comment/101', 'Comment/109', 'Comment/30', 'Comment/40', 'Comment/50', 'Comment/51', 'Comment/52', 'Comment/60', 'Comment/70', 'Comment/80', 'New Segment/']\n",
      "EEG channel type selected for re-referencing\n",
      "Applying average reference.\n",
      "Applying a custom ('EEG',) reference.\n"
     ]
    },
    {
     "name": "stderr",
     "output_type": "stream",
     "text": [
      "[Parallel(n_jobs=1)]: Done  63 out of  63 | elapsed:    0.7s finished\n"
     ]
    },
    {
     "name": "stdout",
     "output_type": "stream",
     "text": [
      "Multiple event values for single event times found. Keeping the first occurrence and dropping all others.\n",
      "Not setting metadata\n",
      "410 matching events found\n",
      "Setting baseline interval to [0.0, 2.0] s\n",
      "Applying baseline correction (mode: mean)\n",
      "0 projection items activated\n",
      "Using data from preloaded Raw for 410 events and 2501 original time points ...\n",
      "2 bad epochs dropped\n"
     ]
    },
    {
     "name": "stderr",
     "output_type": "stream",
     "text": [
      "/var/folders/2b/4tnqzv_x3x17pf4q1_n7m8h40000gn/T/ipykernel_2666/3240740927.py:30: RuntimeWarning: Fiducial point nasion not found, assuming identity unknown to head transformation\n",
      "  epochs.set_montage(montage)\n",
      " 53%|█████▎    | 42/79 [01:18<01:10,  1.91s/it]"
     ]
    },
    {
     "name": "stdout",
     "output_type": "stream",
     "text": [
      "Extracting parameters from ./ica_notebooks/cleaned/m_18_02/m_18_02_pos2a.vhdr...\n",
      "Setting channel info structure...\n",
      "Reading 0 ... 668340  =      0.000 ...   668.340 secs...\n",
      "dropping channel\n",
      "Filtering raw data in 1 contiguous segment\n",
      "Setting up band-pass filter from 3 - 30 Hz\n",
      "\n",
      "FIR filter parameters\n",
      "---------------------\n",
      "Designing a one-pass, zero-phase, non-causal bandpass filter:\n",
      "- Windowed time-domain design (firwin) method\n",
      "- Hamming window with 0.0194 passband ripple and 53 dB stopband attenuation\n",
      "- Lower passband edge: 3.00\n",
      "- Lower transition bandwidth: 2.00 Hz (-6 dB cutoff frequency: 2.00 Hz)\n",
      "- Upper passband edge: 30.00 Hz\n",
      "- Upper transition bandwidth: 7.50 Hz (-6 dB cutoff frequency: 33.75 Hz)\n",
      "- Filter length: 1651 samples (1.651 s)\n",
      "\n"
     ]
    },
    {
     "name": "stderr",
     "output_type": "stream",
     "text": [
      "[Parallel(n_jobs=1)]: Using backend SequentialBackend with 1 concurrent workers.\n",
      "[Parallel(n_jobs=1)]: Done   1 out of   1 | elapsed:    0.0s remaining:    0.0s\n",
      "[Parallel(n_jobs=1)]: Done   2 out of   2 | elapsed:    0.0s remaining:    0.0s\n",
      "[Parallel(n_jobs=1)]: Done   3 out of   3 | elapsed:    0.0s remaining:    0.0s\n",
      "[Parallel(n_jobs=1)]: Done   4 out of   4 | elapsed:    0.1s remaining:    0.0s\n"
     ]
    },
    {
     "name": "stdout",
     "output_type": "stream",
     "text": [
      "Used Annotations descriptions: ['Comment/101', 'Comment/109', 'Comment/30', 'Comment/40', 'Comment/50', 'Comment/51', 'Comment/52', 'Comment/60', 'Comment/70', 'Comment/80', 'New Segment/']\n",
      "EEG channel type selected for re-referencing\n",
      "Applying average reference.\n",
      "Applying a custom ('EEG',) reference.\n"
     ]
    },
    {
     "name": "stderr",
     "output_type": "stream",
     "text": [
      "[Parallel(n_jobs=1)]: Done  63 out of  63 | elapsed:    0.6s finished\n"
     ]
    },
    {
     "name": "stdout",
     "output_type": "stream",
     "text": [
      "Multiple event values for single event times found. Keeping the first occurrence and dropping all others.\n",
      "Not setting metadata\n",
      "409 matching events found\n",
      "Setting baseline interval to [0.0, 2.0] s\n",
      "Applying baseline correction (mode: mean)\n",
      "0 projection items activated\n",
      "Using data from preloaded Raw for 409 events and 2501 original time points ...\n",
      "3 bad epochs dropped\n"
     ]
    },
    {
     "name": "stderr",
     "output_type": "stream",
     "text": [
      "/var/folders/2b/4tnqzv_x3x17pf4q1_n7m8h40000gn/T/ipykernel_2666/3240740927.py:30: RuntimeWarning: Fiducial point nasion not found, assuming identity unknown to head transformation\n",
      "  epochs.set_montage(montage)\n",
      " 54%|█████▍    | 43/79 [01:20<01:07,  1.89s/it]"
     ]
    },
    {
     "name": "stdout",
     "output_type": "stream",
     "text": [
      "Extracting parameters from ./ica_notebooks/cleaned/m_17_02/m_17_02_pos2a.vhdr...\n",
      "Setting channel info structure...\n",
      "Reading 0 ... 675771  =      0.000 ...   675.771 secs...\n",
      "dropping channel\n",
      "Filtering raw data in 1 contiguous segment\n",
      "Setting up band-pass filter from 3 - 30 Hz\n",
      "\n",
      "FIR filter parameters\n",
      "---------------------\n",
      "Designing a one-pass, zero-phase, non-causal bandpass filter:\n",
      "- Windowed time-domain design (firwin) method\n",
      "- Hamming window with 0.0194 passband ripple and 53 dB stopband attenuation\n",
      "- Lower passband edge: 3.00\n",
      "- Lower transition bandwidth: 2.00 Hz (-6 dB cutoff frequency: 2.00 Hz)\n",
      "- Upper passband edge: 30.00 Hz\n",
      "- Upper transition bandwidth: 7.50 Hz (-6 dB cutoff frequency: 33.75 Hz)\n",
      "- Filter length: 1651 samples (1.651 s)\n",
      "\n"
     ]
    },
    {
     "name": "stderr",
     "output_type": "stream",
     "text": [
      "[Parallel(n_jobs=1)]: Using backend SequentialBackend with 1 concurrent workers.\n",
      "[Parallel(n_jobs=1)]: Done   1 out of   1 | elapsed:    0.0s remaining:    0.0s\n",
      "[Parallel(n_jobs=1)]: Done   2 out of   2 | elapsed:    0.0s remaining:    0.0s\n",
      "[Parallel(n_jobs=1)]: Done   3 out of   3 | elapsed:    0.0s remaining:    0.0s\n",
      "[Parallel(n_jobs=1)]: Done   4 out of   4 | elapsed:    0.0s remaining:    0.0s\n"
     ]
    },
    {
     "name": "stdout",
     "output_type": "stream",
     "text": [
      "Used Annotations descriptions: ['Comment/101', 'Comment/109', 'Comment/30', 'Comment/40', 'Comment/50', 'Comment/51', 'Comment/52', 'Comment/60', 'Comment/70', 'Comment/80', 'New Segment/']\n",
      "EEG channel type selected for re-referencing\n",
      "Applying average reference.\n",
      "Applying a custom ('EEG',) reference.\n"
     ]
    },
    {
     "name": "stderr",
     "output_type": "stream",
     "text": [
      "[Parallel(n_jobs=1)]: Done  63 out of  63 | elapsed:    0.6s finished\n"
     ]
    },
    {
     "name": "stdout",
     "output_type": "stream",
     "text": [
      "Multiple event values for single event times found. Keeping the first occurrence and dropping all others.\n",
      "Not setting metadata\n",
      "413 matching events found\n",
      "Setting baseline interval to [0.0, 2.0] s\n",
      "Applying baseline correction (mode: mean)\n",
      "0 projection items activated\n",
      "Using data from preloaded Raw for 413 events and 2501 original time points ...\n",
      "2 bad epochs dropped\n"
     ]
    },
    {
     "name": "stderr",
     "output_type": "stream",
     "text": [
      "/var/folders/2b/4tnqzv_x3x17pf4q1_n7m8h40000gn/T/ipykernel_2666/3240740927.py:30: RuntimeWarning: Fiducial point nasion not found, assuming identity unknown to head transformation\n",
      "  epochs.set_montage(montage)\n",
      " 56%|█████▌    | 44/79 [01:22<01:05,  1.86s/it]"
     ]
    },
    {
     "name": "stdout",
     "output_type": "stream",
     "text": [
      "Extracting parameters from ./ica_notebooks/cleaned/m_13_02/m_13_02_pos2a.vhdr...\n",
      "Setting channel info structure...\n",
      "Reading 0 ... 675770  =      0.000 ...   675.770 secs...\n",
      "dropping channel\n",
      "Filtering raw data in 1 contiguous segment\n",
      "Setting up band-pass filter from 3 - 30 Hz\n",
      "\n",
      "FIR filter parameters\n",
      "---------------------\n",
      "Designing a one-pass, zero-phase, non-causal bandpass filter:\n",
      "- Windowed time-domain design (firwin) method\n",
      "- Hamming window with 0.0194 passband ripple and 53 dB stopband attenuation\n",
      "- Lower passband edge: 3.00\n",
      "- Lower transition bandwidth: 2.00 Hz (-6 dB cutoff frequency: 2.00 Hz)\n",
      "- Upper passband edge: 30.00 Hz\n",
      "- Upper transition bandwidth: 7.50 Hz (-6 dB cutoff frequency: 33.75 Hz)\n",
      "- Filter length: 1651 samples (1.651 s)\n",
      "\n"
     ]
    },
    {
     "name": "stderr",
     "output_type": "stream",
     "text": [
      "[Parallel(n_jobs=1)]: Using backend SequentialBackend with 1 concurrent workers.\n",
      "[Parallel(n_jobs=1)]: Done   1 out of   1 | elapsed:    0.0s remaining:    0.0s\n",
      "[Parallel(n_jobs=1)]: Done   2 out of   2 | elapsed:    0.0s remaining:    0.0s\n",
      "[Parallel(n_jobs=1)]: Done   3 out of   3 | elapsed:    0.0s remaining:    0.0s\n",
      "[Parallel(n_jobs=1)]: Done   4 out of   4 | elapsed:    0.1s remaining:    0.0s\n"
     ]
    },
    {
     "name": "stdout",
     "output_type": "stream",
     "text": [
      "Used Annotations descriptions: ['Comment/101', 'Comment/109', 'Comment/30', 'Comment/40', 'Comment/50', 'Comment/51', 'Comment/52', 'Comment/60', 'Comment/70', 'Comment/80', 'New Segment/']\n",
      "EEG channel type selected for re-referencing\n",
      "Applying average reference.\n",
      "Applying a custom ('EEG',) reference.\n"
     ]
    },
    {
     "name": "stderr",
     "output_type": "stream",
     "text": [
      "[Parallel(n_jobs=1)]: Done  63 out of  63 | elapsed:    0.7s finished\n"
     ]
    },
    {
     "name": "stdout",
     "output_type": "stream",
     "text": [
      "Multiple event values for single event times found. Keeping the first occurrence and dropping all others.\n",
      "Not setting metadata\n",
      "410 matching events found\n",
      "Setting baseline interval to [0.0, 2.0] s\n",
      "Applying baseline correction (mode: mean)\n",
      "0 projection items activated\n",
      "Using data from preloaded Raw for 410 events and 2501 original time points ...\n",
      "2 bad epochs dropped\n"
     ]
    },
    {
     "name": "stderr",
     "output_type": "stream",
     "text": [
      "/var/folders/2b/4tnqzv_x3x17pf4q1_n7m8h40000gn/T/ipykernel_2666/3240740927.py:30: RuntimeWarning: Fiducial point nasion not found, assuming identity unknown to head transformation\n",
      "  epochs.set_montage(montage)\n",
      " 57%|█████▋    | 45/79 [01:24<01:02,  1.84s/it]"
     ]
    },
    {
     "name": "stdout",
     "output_type": "stream",
     "text": [
      "Extracting parameters from ./ica_notebooks/cleaned/m_02_02/m_02_02_pos2a.vhdr...\n",
      "Setting channel info structure...\n",
      "Reading 0 ... 700777  =      0.000 ...   700.777 secs...\n",
      "dropping channel\n",
      "Filtering raw data in 1 contiguous segment\n",
      "Setting up band-pass filter from 3 - 30 Hz\n",
      "\n",
      "FIR filter parameters\n",
      "---------------------\n",
      "Designing a one-pass, zero-phase, non-causal bandpass filter:\n",
      "- Windowed time-domain design (firwin) method\n",
      "- Hamming window with 0.0194 passband ripple and 53 dB stopband attenuation\n",
      "- Lower passband edge: 3.00\n",
      "- Lower transition bandwidth: 2.00 Hz (-6 dB cutoff frequency: 2.00 Hz)\n",
      "- Upper passband edge: 30.00 Hz\n",
      "- Upper transition bandwidth: 7.50 Hz (-6 dB cutoff frequency: 33.75 Hz)\n",
      "- Filter length: 1651 samples (1.651 s)\n",
      "\n"
     ]
    },
    {
     "name": "stderr",
     "output_type": "stream",
     "text": [
      "[Parallel(n_jobs=1)]: Using backend SequentialBackend with 1 concurrent workers.\n",
      "[Parallel(n_jobs=1)]: Done   1 out of   1 | elapsed:    0.0s remaining:    0.0s\n",
      "[Parallel(n_jobs=1)]: Done   2 out of   2 | elapsed:    0.0s remaining:    0.0s\n",
      "[Parallel(n_jobs=1)]: Done   3 out of   3 | elapsed:    0.0s remaining:    0.0s\n",
      "[Parallel(n_jobs=1)]: Done   4 out of   4 | elapsed:    0.0s remaining:    0.0s\n"
     ]
    },
    {
     "name": "stdout",
     "output_type": "stream",
     "text": [
      "Used Annotations descriptions: ['Comment/101', 'Comment/109', 'Comment/30', 'Comment/40', 'Comment/50', 'Comment/51', 'Comment/52', 'Comment/60', 'Comment/70', 'Comment/80', 'New Segment/']\n",
      "EEG channel type selected for re-referencing\n",
      "Applying average reference.\n",
      "Applying a custom ('EEG',) reference.\n"
     ]
    },
    {
     "name": "stderr",
     "output_type": "stream",
     "text": [
      "[Parallel(n_jobs=1)]: Done  63 out of  63 | elapsed:    0.7s finished\n"
     ]
    },
    {
     "name": "stdout",
     "output_type": "stream",
     "text": [
      "Multiple event values for single event times found. Keeping the first occurrence and dropping all others.\n",
      "Not setting metadata\n",
      "410 matching events found\n",
      "Setting baseline interval to [0.0, 2.0] s\n",
      "Applying baseline correction (mode: mean)\n",
      "0 projection items activated\n",
      "Using data from preloaded Raw for 410 events and 2501 original time points ...\n",
      "2 bad epochs dropped\n"
     ]
    },
    {
     "name": "stderr",
     "output_type": "stream",
     "text": [
      "/var/folders/2b/4tnqzv_x3x17pf4q1_n7m8h40000gn/T/ipykernel_2666/3240740927.py:30: RuntimeWarning: Fiducial point nasion not found, assuming identity unknown to head transformation\n",
      "  epochs.set_montage(montage)\n",
      " 58%|█████▊    | 46/79 [01:26<01:01,  1.87s/it]"
     ]
    },
    {
     "name": "stdout",
     "output_type": "stream",
     "text": [
      "Extracting parameters from ./ica_notebooks/cleaned/m_12_02/m_12_02_pos2a.vhdr...\n",
      "Setting channel info structure...\n",
      "Reading 0 ... 674207  =      0.000 ...   674.207 secs...\n",
      "dropping channel\n",
      "Filtering raw data in 1 contiguous segment\n",
      "Setting up band-pass filter from 3 - 30 Hz\n",
      "\n",
      "FIR filter parameters\n",
      "---------------------\n",
      "Designing a one-pass, zero-phase, non-causal bandpass filter:\n",
      "- Windowed time-domain design (firwin) method\n",
      "- Hamming window with 0.0194 passband ripple and 53 dB stopband attenuation\n",
      "- Lower passband edge: 3.00\n",
      "- Lower transition bandwidth: 2.00 Hz (-6 dB cutoff frequency: 2.00 Hz)\n",
      "- Upper passband edge: 30.00 Hz\n",
      "- Upper transition bandwidth: 7.50 Hz (-6 dB cutoff frequency: 33.75 Hz)\n",
      "- Filter length: 1651 samples (1.651 s)\n",
      "\n"
     ]
    },
    {
     "name": "stderr",
     "output_type": "stream",
     "text": [
      "[Parallel(n_jobs=1)]: Using backend SequentialBackend with 1 concurrent workers.\n",
      "[Parallel(n_jobs=1)]: Done   1 out of   1 | elapsed:    0.0s remaining:    0.0s\n",
      "[Parallel(n_jobs=1)]: Done   2 out of   2 | elapsed:    0.0s remaining:    0.0s\n",
      "[Parallel(n_jobs=1)]: Done   3 out of   3 | elapsed:    0.0s remaining:    0.0s\n",
      "[Parallel(n_jobs=1)]: Done   4 out of   4 | elapsed:    0.1s remaining:    0.0s\n"
     ]
    },
    {
     "name": "stdout",
     "output_type": "stream",
     "text": [
      "Used Annotations descriptions: ['Comment/101', 'Comment/109', 'Comment/30', 'Comment/40', 'Comment/50', 'Comment/51', 'Comment/52', 'Comment/60', 'Comment/70', 'Comment/80', 'New Segment/']\n",
      "EEG channel type selected for re-referencing\n",
      "Applying average reference.\n",
      "Applying a custom ('EEG',) reference.\n"
     ]
    },
    {
     "name": "stderr",
     "output_type": "stream",
     "text": [
      "[Parallel(n_jobs=1)]: Done  63 out of  63 | elapsed:    0.6s finished\n"
     ]
    },
    {
     "name": "stdout",
     "output_type": "stream",
     "text": [
      "Multiple event values for single event times found. Keeping the first occurrence and dropping all others.\n",
      "Not setting metadata\n",
      "410 matching events found\n",
      "Setting baseline interval to [0.0, 2.0] s\n",
      "Applying baseline correction (mode: mean)\n",
      "0 projection items activated\n",
      "Using data from preloaded Raw for 410 events and 2501 original time points ...\n",
      "2 bad epochs dropped\n"
     ]
    },
    {
     "name": "stderr",
     "output_type": "stream",
     "text": [
      "/var/folders/2b/4tnqzv_x3x17pf4q1_n7m8h40000gn/T/ipykernel_2666/3240740927.py:30: RuntimeWarning: Fiducial point nasion not found, assuming identity unknown to head transformation\n",
      "  epochs.set_montage(montage)\n",
      " 59%|█████▉    | 47/79 [01:28<00:59,  1.85s/it]"
     ]
    },
    {
     "name": "stdout",
     "output_type": "stream",
     "text": [
      "Extracting parameters from ./ica_notebooks/cleaned/m_06_02/m_06_02_pos2a.vhdr...\n",
      "Setting channel info structure...\n",
      "Reading 0 ... 690202  =      0.000 ...   690.202 secs...\n",
      "dropping channel\n",
      "Filtering raw data in 1 contiguous segment\n",
      "Setting up band-pass filter from 3 - 30 Hz\n",
      "\n",
      "FIR filter parameters\n",
      "---------------------\n",
      "Designing a one-pass, zero-phase, non-causal bandpass filter:\n",
      "- Windowed time-domain design (firwin) method\n",
      "- Hamming window with 0.0194 passband ripple and 53 dB stopband attenuation\n",
      "- Lower passband edge: 3.00\n",
      "- Lower transition bandwidth: 2.00 Hz (-6 dB cutoff frequency: 2.00 Hz)\n",
      "- Upper passband edge: 30.00 Hz\n",
      "- Upper transition bandwidth: 7.50 Hz (-6 dB cutoff frequency: 33.75 Hz)\n",
      "- Filter length: 1651 samples (1.651 s)\n",
      "\n"
     ]
    },
    {
     "name": "stderr",
     "output_type": "stream",
     "text": [
      "[Parallel(n_jobs=1)]: Using backend SequentialBackend with 1 concurrent workers.\n",
      "[Parallel(n_jobs=1)]: Done   1 out of   1 | elapsed:    0.0s remaining:    0.0s\n",
      "[Parallel(n_jobs=1)]: Done   2 out of   2 | elapsed:    0.0s remaining:    0.0s\n",
      "[Parallel(n_jobs=1)]: Done   3 out of   3 | elapsed:    0.0s remaining:    0.0s\n",
      "[Parallel(n_jobs=1)]: Done   4 out of   4 | elapsed:    0.0s remaining:    0.0s\n"
     ]
    },
    {
     "name": "stdout",
     "output_type": "stream",
     "text": [
      "Used Annotations descriptions: ['Comment/101', 'Comment/109', 'Comment/30', 'Comment/40', 'Comment/50', 'Comment/51', 'Comment/52', 'Comment/60', 'Comment/70', 'Comment/80', 'New Segment/']\n",
      "EEG channel type selected for re-referencing\n",
      "Applying average reference.\n",
      "Applying a custom ('EEG',) reference.\n"
     ]
    },
    {
     "name": "stderr",
     "output_type": "stream",
     "text": [
      "[Parallel(n_jobs=1)]: Done  63 out of  63 | elapsed:    0.6s finished\n"
     ]
    },
    {
     "name": "stdout",
     "output_type": "stream",
     "text": [
      "Multiple event values for single event times found. Keeping the first occurrence and dropping all others.\n",
      "Not setting metadata\n",
      "410 matching events found\n",
      "Setting baseline interval to [0.0, 2.0] s\n",
      "Applying baseline correction (mode: mean)\n",
      "0 projection items activated\n",
      "Using data from preloaded Raw for 410 events and 2501 original time points ...\n",
      "2 bad epochs dropped\n"
     ]
    },
    {
     "name": "stderr",
     "output_type": "stream",
     "text": [
      "/var/folders/2b/4tnqzv_x3x17pf4q1_n7m8h40000gn/T/ipykernel_2666/3240740927.py:30: RuntimeWarning: Fiducial point nasion not found, assuming identity unknown to head transformation\n",
      "  epochs.set_montage(montage)\n",
      " 61%|██████    | 48/79 [01:30<00:57,  1.86s/it]"
     ]
    },
    {
     "name": "stdout",
     "output_type": "stream",
     "text": [
      "Extracting parameters from ./ica_notebooks/cleaned/m_01_02/m_01_02_pos2a.vhdr...\n",
      "Setting channel info structure...\n",
      "Reading 0 ... 687606  =      0.000 ...   687.606 secs...\n",
      "dropping channel\n",
      "Filtering raw data in 1 contiguous segment\n",
      "Setting up band-pass filter from 3 - 30 Hz\n",
      "\n",
      "FIR filter parameters\n",
      "---------------------\n",
      "Designing a one-pass, zero-phase, non-causal bandpass filter:\n",
      "- Windowed time-domain design (firwin) method\n",
      "- Hamming window with 0.0194 passband ripple and 53 dB stopband attenuation\n",
      "- Lower passband edge: 3.00\n",
      "- Lower transition bandwidth: 2.00 Hz (-6 dB cutoff frequency: 2.00 Hz)\n",
      "- Upper passband edge: 30.00 Hz\n",
      "- Upper transition bandwidth: 7.50 Hz (-6 dB cutoff frequency: 33.75 Hz)\n",
      "- Filter length: 1651 samples (1.651 s)\n",
      "\n"
     ]
    },
    {
     "name": "stderr",
     "output_type": "stream",
     "text": [
      "[Parallel(n_jobs=1)]: Using backend SequentialBackend with 1 concurrent workers.\n",
      "[Parallel(n_jobs=1)]: Done   1 out of   1 | elapsed:    0.0s remaining:    0.0s\n",
      "[Parallel(n_jobs=1)]: Done   2 out of   2 | elapsed:    0.0s remaining:    0.0s\n",
      "[Parallel(n_jobs=1)]: Done   3 out of   3 | elapsed:    0.0s remaining:    0.0s\n",
      "[Parallel(n_jobs=1)]: Done   4 out of   4 | elapsed:    0.0s remaining:    0.0s\n"
     ]
    },
    {
     "name": "stdout",
     "output_type": "stream",
     "text": [
      "Used Annotations descriptions: ['Comment/101', 'Comment/109', 'Comment/30', 'Comment/40', 'Comment/50', 'Comment/51', 'Comment/52', 'Comment/60', 'Comment/70', 'Comment/80', 'New Segment/']\n",
      "EEG channel type selected for re-referencing\n",
      "Applying average reference.\n",
      "Applying a custom ('EEG',) reference.\n"
     ]
    },
    {
     "name": "stderr",
     "output_type": "stream",
     "text": [
      "[Parallel(n_jobs=1)]: Done  63 out of  63 | elapsed:    0.6s finished\n"
     ]
    },
    {
     "name": "stdout",
     "output_type": "stream",
     "text": [
      "Multiple event values for single event times found. Keeping the first occurrence and dropping all others.\n",
      "Not setting metadata\n",
      "411 matching events found\n",
      "Setting baseline interval to [0.0, 2.0] s\n",
      "Applying baseline correction (mode: mean)\n",
      "0 projection items activated\n",
      "Using data from preloaded Raw for 411 events and 2501 original time points ...\n",
      "2 bad epochs dropped\n"
     ]
    },
    {
     "name": "stderr",
     "output_type": "stream",
     "text": [
      "/var/folders/2b/4tnqzv_x3x17pf4q1_n7m8h40000gn/T/ipykernel_2666/3240740927.py:30: RuntimeWarning: Fiducial point nasion not found, assuming identity unknown to head transformation\n",
      "  epochs.set_montage(montage)\n",
      " 62%|██████▏   | 49/79 [01:31<00:55,  1.86s/it]"
     ]
    },
    {
     "name": "stdout",
     "output_type": "stream",
     "text": [
      "Extracting parameters from ./ica_notebooks/cleaned/m_05_02/m_05_02_pos2a.vhdr...\n",
      "Setting channel info structure...\n",
      "Reading 0 ... 681642  =      0.000 ...   681.642 secs...\n",
      "dropping channel\n",
      "Filtering raw data in 1 contiguous segment\n",
      "Setting up band-pass filter from 3 - 30 Hz\n",
      "\n",
      "FIR filter parameters\n",
      "---------------------\n",
      "Designing a one-pass, zero-phase, non-causal bandpass filter:\n",
      "- Windowed time-domain design (firwin) method\n",
      "- Hamming window with 0.0194 passband ripple and 53 dB stopband attenuation\n",
      "- Lower passband edge: 3.00\n",
      "- Lower transition bandwidth: 2.00 Hz (-6 dB cutoff frequency: 2.00 Hz)\n",
      "- Upper passband edge: 30.00 Hz\n",
      "- Upper transition bandwidth: 7.50 Hz (-6 dB cutoff frequency: 33.75 Hz)\n",
      "- Filter length: 1651 samples (1.651 s)\n",
      "\n"
     ]
    },
    {
     "name": "stderr",
     "output_type": "stream",
     "text": [
      "[Parallel(n_jobs=1)]: Using backend SequentialBackend with 1 concurrent workers.\n",
      "[Parallel(n_jobs=1)]: Done   1 out of   1 | elapsed:    0.0s remaining:    0.0s\n",
      "[Parallel(n_jobs=1)]: Done   2 out of   2 | elapsed:    0.0s remaining:    0.0s\n",
      "[Parallel(n_jobs=1)]: Done   3 out of   3 | elapsed:    0.0s remaining:    0.0s\n",
      "[Parallel(n_jobs=1)]: Done   4 out of   4 | elapsed:    0.0s remaining:    0.0s\n"
     ]
    },
    {
     "name": "stdout",
     "output_type": "stream",
     "text": [
      "Used Annotations descriptions: ['Comment/101', 'Comment/109', 'Comment/30', 'Comment/40', 'Comment/50', 'Comment/51', 'Comment/52', 'Comment/60', 'Comment/70', 'Comment/80', 'New Segment/']\n",
      "EEG channel type selected for re-referencing\n",
      "Applying average reference.\n",
      "Applying a custom ('EEG',) reference.\n"
     ]
    },
    {
     "name": "stderr",
     "output_type": "stream",
     "text": [
      "[Parallel(n_jobs=1)]: Done  63 out of  63 | elapsed:    0.8s finished\n"
     ]
    },
    {
     "name": "stdout",
     "output_type": "stream",
     "text": [
      "Multiple event values for single event times found. Keeping the first occurrence and dropping all others.\n",
      "Not setting metadata\n",
      "410 matching events found\n",
      "Setting baseline interval to [0.0, 2.0] s\n",
      "Applying baseline correction (mode: mean)\n",
      "0 projection items activated\n",
      "Using data from preloaded Raw for 410 events and 2501 original time points ...\n",
      "2 bad epochs dropped\n"
     ]
    },
    {
     "name": "stderr",
     "output_type": "stream",
     "text": [
      "/var/folders/2b/4tnqzv_x3x17pf4q1_n7m8h40000gn/T/ipykernel_2666/3240740927.py:30: RuntimeWarning: Fiducial point nasion not found, assuming identity unknown to head transformation\n",
      "  epochs.set_montage(montage)\n",
      " 63%|██████▎   | 50/79 [01:33<00:54,  1.89s/it]"
     ]
    },
    {
     "name": "stdout",
     "output_type": "stream",
     "text": [
      "Extracting parameters from ./ica_notebooks/cleaned/m_04_02/m_04_02_pos2a.vhdr...\n",
      "Setting channel info structure...\n",
      "Reading 0 ... 679230  =      0.000 ...   679.230 secs...\n",
      "dropping channel\n",
      "Filtering raw data in 1 contiguous segment\n",
      "Setting up band-pass filter from 3 - 30 Hz\n",
      "\n",
      "FIR filter parameters\n",
      "---------------------\n",
      "Designing a one-pass, zero-phase, non-causal bandpass filter:\n",
      "- Windowed time-domain design (firwin) method\n",
      "- Hamming window with 0.0194 passband ripple and 53 dB stopband attenuation\n",
      "- Lower passband edge: 3.00\n",
      "- Lower transition bandwidth: 2.00 Hz (-6 dB cutoff frequency: 2.00 Hz)\n",
      "- Upper passband edge: 30.00 Hz\n",
      "- Upper transition bandwidth: 7.50 Hz (-6 dB cutoff frequency: 33.75 Hz)\n",
      "- Filter length: 1651 samples (1.651 s)\n",
      "\n"
     ]
    },
    {
     "name": "stderr",
     "output_type": "stream",
     "text": [
      "[Parallel(n_jobs=1)]: Using backend SequentialBackend with 1 concurrent workers.\n",
      "[Parallel(n_jobs=1)]: Done   1 out of   1 | elapsed:    0.0s remaining:    0.0s\n",
      "[Parallel(n_jobs=1)]: Done   2 out of   2 | elapsed:    0.0s remaining:    0.0s\n",
      "[Parallel(n_jobs=1)]: Done   3 out of   3 | elapsed:    0.0s remaining:    0.0s\n",
      "[Parallel(n_jobs=1)]: Done   4 out of   4 | elapsed:    0.0s remaining:    0.0s\n"
     ]
    },
    {
     "name": "stdout",
     "output_type": "stream",
     "text": [
      "Used Annotations descriptions: ['Comment/101', 'Comment/109', 'Comment/30', 'Comment/40', 'Comment/50', 'Comment/51', 'Comment/52', 'Comment/60', 'Comment/70', 'Comment/80', 'New Segment/']\n",
      "EEG channel type selected for re-referencing\n",
      "Applying average reference.\n",
      "Applying a custom ('EEG',) reference.\n"
     ]
    },
    {
     "name": "stderr",
     "output_type": "stream",
     "text": [
      "[Parallel(n_jobs=1)]: Done  63 out of  63 | elapsed:    0.6s finished\n"
     ]
    },
    {
     "name": "stdout",
     "output_type": "stream",
     "text": [
      "Multiple event values for single event times found. Keeping the first occurrence and dropping all others.\n",
      "Not setting metadata\n",
      "410 matching events found\n",
      "Setting baseline interval to [0.0, 2.0] s\n",
      "Applying baseline correction (mode: mean)\n",
      "0 projection items activated\n",
      "Using data from preloaded Raw for 410 events and 2501 original time points ...\n",
      "3 bad epochs dropped\n"
     ]
    },
    {
     "name": "stderr",
     "output_type": "stream",
     "text": [
      "/var/folders/2b/4tnqzv_x3x17pf4q1_n7m8h40000gn/T/ipykernel_2666/3240740927.py:30: RuntimeWarning: Fiducial point nasion not found, assuming identity unknown to head transformation\n",
      "  epochs.set_montage(montage)\n",
      " 65%|██████▍   | 51/79 [01:35<00:52,  1.88s/it]"
     ]
    },
    {
     "name": "stdout",
     "output_type": "stream",
     "text": [
      "Extracting parameters from ./ica_notebooks/cleaned/m_08_02/m_08_02_pos2b.vhdr...\n",
      "Setting channel info structure...\n",
      "Reading 0 ... 508821  =      0.000 ...   508.821 secs...\n",
      "dropping channel\n",
      "Filtering raw data in 1 contiguous segment\n",
      "Setting up band-pass filter from 3 - 30 Hz\n",
      "\n",
      "FIR filter parameters\n",
      "---------------------\n",
      "Designing a one-pass, zero-phase, non-causal bandpass filter:\n",
      "- Windowed time-domain design (firwin) method\n",
      "- Hamming window with 0.0194 passband ripple and 53 dB stopband attenuation\n",
      "- Lower passband edge: 3.00\n",
      "- Lower transition bandwidth: 2.00 Hz (-6 dB cutoff frequency: 2.00 Hz)\n",
      "- Upper passband edge: 30.00 Hz\n",
      "- Upper transition bandwidth: 7.50 Hz (-6 dB cutoff frequency: 33.75 Hz)\n",
      "- Filter length: 1651 samples (1.651 s)\n",
      "\n"
     ]
    },
    {
     "name": "stderr",
     "output_type": "stream",
     "text": [
      "[Parallel(n_jobs=1)]: Using backend SequentialBackend with 1 concurrent workers.\n",
      "[Parallel(n_jobs=1)]: Done   1 out of   1 | elapsed:    0.0s remaining:    0.0s\n",
      "[Parallel(n_jobs=1)]: Done   2 out of   2 | elapsed:    0.0s remaining:    0.0s\n",
      "[Parallel(n_jobs=1)]: Done   3 out of   3 | elapsed:    0.0s remaining:    0.0s\n",
      "[Parallel(n_jobs=1)]: Done   4 out of   4 | elapsed:    0.1s remaining:    0.0s\n"
     ]
    },
    {
     "name": "stdout",
     "output_type": "stream",
     "text": [
      "Used Annotations descriptions: ['Comment/101', 'Comment/109', 'Comment/30', 'Comment/40', 'Comment/50', 'Comment/51', 'Comment/52', 'Comment/60', 'Comment/70', 'Comment/80', 'New Segment/']\n",
      "EEG channel type selected for re-referencing\n",
      "Applying average reference.\n",
      "Applying a custom ('EEG',) reference.\n",
      "Multiple event values for single event times found. Keeping the first occurrence and dropping all others.\n",
      "Not setting metadata\n",
      "308 matching events found\n",
      "Setting baseline interval to [0.0, 2.0] s\n",
      "Applying baseline correction (mode: mean)\n",
      "0 projection items activated\n",
      "Using data from preloaded Raw for 308 events and 2501 original time points ...\n"
     ]
    },
    {
     "name": "stderr",
     "output_type": "stream",
     "text": [
      "[Parallel(n_jobs=1)]: Done  63 out of  63 | elapsed:    0.5s finished\n"
     ]
    },
    {
     "name": "stdout",
     "output_type": "stream",
     "text": [
      "2 bad epochs dropped\n"
     ]
    },
    {
     "name": "stderr",
     "output_type": "stream",
     "text": [
      "/var/folders/2b/4tnqzv_x3x17pf4q1_n7m8h40000gn/T/ipykernel_2666/3240740927.py:30: RuntimeWarning: Fiducial point nasion not found, assuming identity unknown to head transformation\n",
      "  epochs.set_montage(montage)\n",
      " 66%|██████▌   | 52/79 [01:37<00:47,  1.74s/it]"
     ]
    },
    {
     "name": "stdout",
     "output_type": "stream",
     "text": [
      "Extracting parameters from ./ica_notebooks/cleaned/m_18_02/m_18_02_pos2b.vhdr...\n",
      "Setting channel info structure...\n",
      "Reading 0 ... 660150  =      0.000 ...   660.150 secs...\n",
      "dropping channel\n",
      "Filtering raw data in 1 contiguous segment\n",
      "Setting up band-pass filter from 3 - 30 Hz\n",
      "\n",
      "FIR filter parameters\n",
      "---------------------\n",
      "Designing a one-pass, zero-phase, non-causal bandpass filter:\n",
      "- Windowed time-domain design (firwin) method\n",
      "- Hamming window with 0.0194 passband ripple and 53 dB stopband attenuation\n",
      "- Lower passband edge: 3.00\n",
      "- Lower transition bandwidth: 2.00 Hz (-6 dB cutoff frequency: 2.00 Hz)\n",
      "- Upper passband edge: 30.00 Hz\n",
      "- Upper transition bandwidth: 7.50 Hz (-6 dB cutoff frequency: 33.75 Hz)\n",
      "- Filter length: 1651 samples (1.651 s)\n",
      "\n"
     ]
    },
    {
     "name": "stderr",
     "output_type": "stream",
     "text": [
      "[Parallel(n_jobs=1)]: Using backend SequentialBackend with 1 concurrent workers.\n",
      "[Parallel(n_jobs=1)]: Done   1 out of   1 | elapsed:    0.0s remaining:    0.0s\n",
      "[Parallel(n_jobs=1)]: Done   2 out of   2 | elapsed:    0.0s remaining:    0.0s\n",
      "[Parallel(n_jobs=1)]: Done   3 out of   3 | elapsed:    0.0s remaining:    0.0s\n",
      "[Parallel(n_jobs=1)]: Done   4 out of   4 | elapsed:    0.1s remaining:    0.0s\n"
     ]
    },
    {
     "name": "stdout",
     "output_type": "stream",
     "text": [
      "Used Annotations descriptions: ['Comment/101', 'Comment/109', 'Comment/30', 'Comment/40', 'Comment/50', 'Comment/51', 'Comment/52', 'Comment/60', 'Comment/70', 'Comment/80', 'New Segment/']\n",
      "EEG channel type selected for re-referencing\n",
      "Applying average reference.\n",
      "Applying a custom ('EEG',) reference.\n"
     ]
    },
    {
     "name": "stderr",
     "output_type": "stream",
     "text": [
      "[Parallel(n_jobs=1)]: Done  63 out of  63 | elapsed:    0.7s finished\n"
     ]
    },
    {
     "name": "stdout",
     "output_type": "stream",
     "text": [
      "Multiple event values for single event times found. Keeping the first occurrence and dropping all others.\n",
      "Not setting metadata\n",
      "411 matching events found\n",
      "Setting baseline interval to [0.0, 2.0] s\n",
      "Applying baseline correction (mode: mean)\n",
      "0 projection items activated\n",
      "Using data from preloaded Raw for 411 events and 2501 original time points ...\n",
      "3 bad epochs dropped\n"
     ]
    },
    {
     "name": "stderr",
     "output_type": "stream",
     "text": [
      "/var/folders/2b/4tnqzv_x3x17pf4q1_n7m8h40000gn/T/ipykernel_2666/3240740927.py:30: RuntimeWarning: Fiducial point nasion not found, assuming identity unknown to head transformation\n",
      "  epochs.set_montage(montage)\n",
      " 67%|██████▋   | 53/79 [01:39<00:46,  1.80s/it]"
     ]
    },
    {
     "name": "stdout",
     "output_type": "stream",
     "text": [
      "Extracting parameters from ./ica_notebooks/cleaned/m_17_02/m_17_02_pos2b.vhdr...\n",
      "Setting channel info structure...\n",
      "Reading 0 ... 699563  =      0.000 ...   699.563 secs...\n",
      "dropping channel\n",
      "Filtering raw data in 1 contiguous segment\n",
      "Setting up band-pass filter from 3 - 30 Hz\n",
      "\n",
      "FIR filter parameters\n",
      "---------------------\n",
      "Designing a one-pass, zero-phase, non-causal bandpass filter:\n",
      "- Windowed time-domain design (firwin) method\n",
      "- Hamming window with 0.0194 passband ripple and 53 dB stopband attenuation\n",
      "- Lower passband edge: 3.00\n",
      "- Lower transition bandwidth: 2.00 Hz (-6 dB cutoff frequency: 2.00 Hz)\n",
      "- Upper passband edge: 30.00 Hz\n",
      "- Upper transition bandwidth: 7.50 Hz (-6 dB cutoff frequency: 33.75 Hz)\n",
      "- Filter length: 1651 samples (1.651 s)\n",
      "\n"
     ]
    },
    {
     "name": "stderr",
     "output_type": "stream",
     "text": [
      "[Parallel(n_jobs=1)]: Using backend SequentialBackend with 1 concurrent workers.\n",
      "[Parallel(n_jobs=1)]: Done   1 out of   1 | elapsed:    0.0s remaining:    0.0s\n",
      "[Parallel(n_jobs=1)]: Done   2 out of   2 | elapsed:    0.0s remaining:    0.0s\n",
      "[Parallel(n_jobs=1)]: Done   3 out of   3 | elapsed:    0.0s remaining:    0.0s\n",
      "[Parallel(n_jobs=1)]: Done   4 out of   4 | elapsed:    0.0s remaining:    0.0s\n"
     ]
    },
    {
     "name": "stdout",
     "output_type": "stream",
     "text": [
      "Used Annotations descriptions: ['Comment/101', 'Comment/109', 'Comment/30', 'Comment/40', 'Comment/50', 'Comment/51', 'Comment/52', 'Comment/60', 'Comment/70', 'Comment/80', 'New Segment/']\n",
      "EEG channel type selected for re-referencing\n",
      "Applying average reference.\n",
      "Applying a custom ('EEG',) reference.\n"
     ]
    },
    {
     "name": "stderr",
     "output_type": "stream",
     "text": [
      "[Parallel(n_jobs=1)]: Done  63 out of  63 | elapsed:    0.7s finished\n"
     ]
    },
    {
     "name": "stdout",
     "output_type": "stream",
     "text": [
      "Multiple event values for single event times found. Keeping the first occurrence and dropping all others.\n",
      "Not setting metadata\n",
      "411 matching events found\n",
      "Setting baseline interval to [0.0, 2.0] s\n",
      "Applying baseline correction (mode: mean)\n",
      "0 projection items activated\n",
      "Using data from preloaded Raw for 411 events and 2501 original time points ...\n",
      "2 bad epochs dropped\n"
     ]
    },
    {
     "name": "stderr",
     "output_type": "stream",
     "text": [
      "/var/folders/2b/4tnqzv_x3x17pf4q1_n7m8h40000gn/T/ipykernel_2666/3240740927.py:30: RuntimeWarning: Fiducial point nasion not found, assuming identity unknown to head transformation\n",
      "  epochs.set_montage(montage)\n",
      " 68%|██████▊   | 54/79 [01:40<00:45,  1.83s/it]"
     ]
    },
    {
     "name": "stdout",
     "output_type": "stream",
     "text": [
      "Extracting parameters from ./ica_notebooks/cleaned/m_13_02/m_13_02_pos2b.vhdr...\n",
      "Setting channel info structure...\n",
      "Reading 0 ... 668631  =      0.000 ...   668.631 secs...\n",
      "dropping channel\n",
      "Filtering raw data in 1 contiguous segment\n",
      "Setting up band-pass filter from 3 - 30 Hz\n",
      "\n",
      "FIR filter parameters\n",
      "---------------------\n",
      "Designing a one-pass, zero-phase, non-causal bandpass filter:\n",
      "- Windowed time-domain design (firwin) method\n",
      "- Hamming window with 0.0194 passband ripple and 53 dB stopband attenuation\n",
      "- Lower passband edge: 3.00\n",
      "- Lower transition bandwidth: 2.00 Hz (-6 dB cutoff frequency: 2.00 Hz)\n",
      "- Upper passband edge: 30.00 Hz\n",
      "- Upper transition bandwidth: 7.50 Hz (-6 dB cutoff frequency: 33.75 Hz)\n",
      "- Filter length: 1651 samples (1.651 s)\n",
      "\n"
     ]
    },
    {
     "name": "stderr",
     "output_type": "stream",
     "text": [
      "[Parallel(n_jobs=1)]: Using backend SequentialBackend with 1 concurrent workers.\n",
      "[Parallel(n_jobs=1)]: Done   1 out of   1 | elapsed:    0.0s remaining:    0.0s\n",
      "[Parallel(n_jobs=1)]: Done   2 out of   2 | elapsed:    0.0s remaining:    0.0s\n",
      "[Parallel(n_jobs=1)]: Done   3 out of   3 | elapsed:    0.0s remaining:    0.0s\n",
      "[Parallel(n_jobs=1)]: Done   4 out of   4 | elapsed:    0.0s remaining:    0.0s\n"
     ]
    },
    {
     "name": "stdout",
     "output_type": "stream",
     "text": [
      "Used Annotations descriptions: ['Comment/101', 'Comment/109', 'Comment/30', 'Comment/40', 'Comment/50', 'Comment/51', 'Comment/52', 'Comment/60', 'Comment/70', 'Comment/80', 'New Segment/']\n",
      "EEG channel type selected for re-referencing\n",
      "Applying average reference.\n",
      "Applying a custom ('EEG',) reference.\n"
     ]
    },
    {
     "name": "stderr",
     "output_type": "stream",
     "text": [
      "[Parallel(n_jobs=1)]: Done  63 out of  63 | elapsed:    0.6s finished\n"
     ]
    },
    {
     "name": "stdout",
     "output_type": "stream",
     "text": [
      "Multiple event values for single event times found. Keeping the first occurrence and dropping all others.\n",
      "Not setting metadata\n",
      "410 matching events found\n",
      "Setting baseline interval to [0.0, 2.0] s\n",
      "Applying baseline correction (mode: mean)\n",
      "0 projection items activated\n",
      "Using data from preloaded Raw for 410 events and 2501 original time points ...\n",
      "2 bad epochs dropped\n"
     ]
    },
    {
     "name": "stderr",
     "output_type": "stream",
     "text": [
      "/var/folders/2b/4tnqzv_x3x17pf4q1_n7m8h40000gn/T/ipykernel_2666/3240740927.py:30: RuntimeWarning: Fiducial point nasion not found, assuming identity unknown to head transformation\n",
      "  epochs.set_montage(montage)\n",
      " 70%|██████▉   | 55/79 [01:42<00:44,  1.85s/it]"
     ]
    },
    {
     "name": "stdout",
     "output_type": "stream",
     "text": [
      "Extracting parameters from ./ica_notebooks/cleaned/m_02_02/m_02_02_pos2b.vhdr...\n",
      "Setting channel info structure...\n",
      "Reading 0 ... 667422  =      0.000 ...   667.422 secs...\n",
      "dropping channel\n",
      "Filtering raw data in 1 contiguous segment\n",
      "Setting up band-pass filter from 3 - 30 Hz\n",
      "\n",
      "FIR filter parameters\n",
      "---------------------\n",
      "Designing a one-pass, zero-phase, non-causal bandpass filter:\n",
      "- Windowed time-domain design (firwin) method\n",
      "- Hamming window with 0.0194 passband ripple and 53 dB stopband attenuation\n",
      "- Lower passband edge: 3.00\n",
      "- Lower transition bandwidth: 2.00 Hz (-6 dB cutoff frequency: 2.00 Hz)\n",
      "- Upper passband edge: 30.00 Hz\n",
      "- Upper transition bandwidth: 7.50 Hz (-6 dB cutoff frequency: 33.75 Hz)\n",
      "- Filter length: 1651 samples (1.651 s)\n",
      "\n"
     ]
    },
    {
     "name": "stderr",
     "output_type": "stream",
     "text": [
      "[Parallel(n_jobs=1)]: Using backend SequentialBackend with 1 concurrent workers.\n",
      "[Parallel(n_jobs=1)]: Done   1 out of   1 | elapsed:    0.0s remaining:    0.0s\n",
      "[Parallel(n_jobs=1)]: Done   2 out of   2 | elapsed:    0.0s remaining:    0.0s\n",
      "[Parallel(n_jobs=1)]: Done   3 out of   3 | elapsed:    0.0s remaining:    0.0s\n",
      "[Parallel(n_jobs=1)]: Done   4 out of   4 | elapsed:    0.1s remaining:    0.0s\n"
     ]
    },
    {
     "name": "stdout",
     "output_type": "stream",
     "text": [
      "Used Annotations descriptions: ['Comment/101', 'Comment/109', 'Comment/30', 'Comment/40', 'Comment/50', 'Comment/51', 'Comment/52', 'Comment/60', 'Comment/70', 'Comment/80', 'New Segment/']\n",
      "EEG channel type selected for re-referencing\n",
      "Applying average reference.\n",
      "Applying a custom ('EEG',) reference.\n"
     ]
    },
    {
     "name": "stderr",
     "output_type": "stream",
     "text": [
      "[Parallel(n_jobs=1)]: Done  63 out of  63 | elapsed:    0.6s finished\n"
     ]
    },
    {
     "name": "stdout",
     "output_type": "stream",
     "text": [
      "Multiple event values for single event times found. Keeping the first occurrence and dropping all others.\n",
      "Not setting metadata\n",
      "411 matching events found\n",
      "Setting baseline interval to [0.0, 2.0] s\n",
      "Applying baseline correction (mode: mean)\n",
      "0 projection items activated\n",
      "Using data from preloaded Raw for 411 events and 2501 original time points ...\n",
      "2 bad epochs dropped\n"
     ]
    },
    {
     "name": "stderr",
     "output_type": "stream",
     "text": [
      "/var/folders/2b/4tnqzv_x3x17pf4q1_n7m8h40000gn/T/ipykernel_2666/3240740927.py:30: RuntimeWarning: Fiducial point nasion not found, assuming identity unknown to head transformation\n",
      "  epochs.set_montage(montage)\n",
      " 71%|███████   | 56/79 [01:44<00:42,  1.85s/it]"
     ]
    },
    {
     "name": "stdout",
     "output_type": "stream",
     "text": [
      "Extracting parameters from ./ica_notebooks/cleaned/m_12_02/m_12_02_pos2b.vhdr...\n",
      "Setting channel info structure...\n",
      "Reading 0 ... 675910  =      0.000 ...   675.910 secs...\n",
      "dropping channel\n",
      "Filtering raw data in 1 contiguous segment\n",
      "Setting up band-pass filter from 3 - 30 Hz\n",
      "\n",
      "FIR filter parameters\n",
      "---------------------\n",
      "Designing a one-pass, zero-phase, non-causal bandpass filter:\n",
      "- Windowed time-domain design (firwin) method\n",
      "- Hamming window with 0.0194 passband ripple and 53 dB stopband attenuation\n",
      "- Lower passband edge: 3.00\n",
      "- Lower transition bandwidth: 2.00 Hz (-6 dB cutoff frequency: 2.00 Hz)\n",
      "- Upper passband edge: 30.00 Hz\n",
      "- Upper transition bandwidth: 7.50 Hz (-6 dB cutoff frequency: 33.75 Hz)\n",
      "- Filter length: 1651 samples (1.651 s)\n",
      "\n"
     ]
    },
    {
     "name": "stderr",
     "output_type": "stream",
     "text": [
      "[Parallel(n_jobs=1)]: Using backend SequentialBackend with 1 concurrent workers.\n",
      "[Parallel(n_jobs=1)]: Done   1 out of   1 | elapsed:    0.0s remaining:    0.0s\n",
      "[Parallel(n_jobs=1)]: Done   2 out of   2 | elapsed:    0.0s remaining:    0.0s\n",
      "[Parallel(n_jobs=1)]: Done   3 out of   3 | elapsed:    0.0s remaining:    0.0s\n",
      "[Parallel(n_jobs=1)]: Done   4 out of   4 | elapsed:    0.1s remaining:    0.0s\n"
     ]
    },
    {
     "name": "stdout",
     "output_type": "stream",
     "text": [
      "Used Annotations descriptions: ['Comment/101', 'Comment/109', 'Comment/30', 'Comment/40', 'Comment/50', 'Comment/51', 'Comment/52', 'Comment/60', 'Comment/70', 'Comment/80', 'New Segment/']\n",
      "EEG channel type selected for re-referencing\n",
      "Applying average reference.\n",
      "Applying a custom ('EEG',) reference.\n"
     ]
    },
    {
     "name": "stderr",
     "output_type": "stream",
     "text": [
      "[Parallel(n_jobs=1)]: Done  63 out of  63 | elapsed:    0.8s finished\n"
     ]
    },
    {
     "name": "stdout",
     "output_type": "stream",
     "text": [
      "Multiple event values for single event times found. Keeping the first occurrence and dropping all others.\n",
      "Not setting metadata\n",
      "413 matching events found\n",
      "Setting baseline interval to [0.0, 2.0] s\n",
      "Applying baseline correction (mode: mean)\n",
      "0 projection items activated\n",
      "Using data from preloaded Raw for 413 events and 2501 original time points ...\n",
      "2 bad epochs dropped\n"
     ]
    },
    {
     "name": "stderr",
     "output_type": "stream",
     "text": [
      "/var/folders/2b/4tnqzv_x3x17pf4q1_n7m8h40000gn/T/ipykernel_2666/3240740927.py:30: RuntimeWarning: Fiducial point nasion not found, assuming identity unknown to head transformation\n",
      "  epochs.set_montage(montage)\n",
      " 72%|███████▏  | 57/79 [01:46<00:42,  1.94s/it]"
     ]
    },
    {
     "name": "stdout",
     "output_type": "stream",
     "text": [
      "Extracting parameters from ./ica_notebooks/cleaned/m_01_02/m_01_02_pos2b.vhdr...\n",
      "Setting channel info structure...\n",
      "Reading 0 ... 690070  =      0.000 ...   690.070 secs...\n",
      "dropping channel\n",
      "Filtering raw data in 1 contiguous segment\n",
      "Setting up band-pass filter from 3 - 30 Hz\n",
      "\n",
      "FIR filter parameters\n",
      "---------------------\n",
      "Designing a one-pass, zero-phase, non-causal bandpass filter:\n",
      "- Windowed time-domain design (firwin) method\n",
      "- Hamming window with 0.0194 passband ripple and 53 dB stopband attenuation\n",
      "- Lower passband edge: 3.00\n",
      "- Lower transition bandwidth: 2.00 Hz (-6 dB cutoff frequency: 2.00 Hz)\n",
      "- Upper passband edge: 30.00 Hz\n",
      "- Upper transition bandwidth: 7.50 Hz (-6 dB cutoff frequency: 33.75 Hz)\n",
      "- Filter length: 1651 samples (1.651 s)\n",
      "\n"
     ]
    },
    {
     "name": "stderr",
     "output_type": "stream",
     "text": [
      "[Parallel(n_jobs=1)]: Using backend SequentialBackend with 1 concurrent workers.\n",
      "[Parallel(n_jobs=1)]: Done   1 out of   1 | elapsed:    0.0s remaining:    0.0s\n",
      "[Parallel(n_jobs=1)]: Done   2 out of   2 | elapsed:    0.0s remaining:    0.0s\n",
      "[Parallel(n_jobs=1)]: Done   3 out of   3 | elapsed:    0.0s remaining:    0.0s\n",
      "[Parallel(n_jobs=1)]: Done   4 out of   4 | elapsed:    0.0s remaining:    0.0s\n"
     ]
    },
    {
     "name": "stdout",
     "output_type": "stream",
     "text": [
      "Used Annotations descriptions: ['Comment/101', 'Comment/109', 'Comment/30', 'Comment/40', 'Comment/50', 'Comment/51', 'Comment/52', 'Comment/60', 'Comment/70', 'Comment/80', 'New Segment/']\n",
      "EEG channel type selected for re-referencing\n",
      "Applying average reference.\n",
      "Applying a custom ('EEG',) reference.\n"
     ]
    },
    {
     "name": "stderr",
     "output_type": "stream",
     "text": [
      "[Parallel(n_jobs=1)]: Done  63 out of  63 | elapsed:    0.6s finished\n"
     ]
    },
    {
     "name": "stdout",
     "output_type": "stream",
     "text": [
      "Multiple event values for single event times found. Keeping the first occurrence and dropping all others.\n",
      "Not setting metadata\n",
      "409 matching events found\n",
      "Setting baseline interval to [0.0, 2.0] s\n",
      "Applying baseline correction (mode: mean)\n",
      "0 projection items activated\n",
      "Using data from preloaded Raw for 409 events and 2501 original time points ...\n",
      "3 bad epochs dropped\n"
     ]
    },
    {
     "name": "stderr",
     "output_type": "stream",
     "text": [
      "/var/folders/2b/4tnqzv_x3x17pf4q1_n7m8h40000gn/T/ipykernel_2666/3240740927.py:30: RuntimeWarning: Fiducial point nasion not found, assuming identity unknown to head transformation\n",
      "  epochs.set_montage(montage)\n",
      " 73%|███████▎  | 58/79 [01:48<00:40,  1.95s/it]"
     ]
    },
    {
     "name": "stdout",
     "output_type": "stream",
     "text": [
      "Extracting parameters from ./ica_notebooks/cleaned/m_05_02/m_05_02_pos2b.vhdr...\n",
      "Setting channel info structure...\n",
      "Reading 0 ... 706851  =      0.000 ...   706.851 secs...\n",
      "dropping channel\n",
      "Filtering raw data in 1 contiguous segment\n",
      "Setting up band-pass filter from 3 - 30 Hz\n",
      "\n",
      "FIR filter parameters\n",
      "---------------------\n",
      "Designing a one-pass, zero-phase, non-causal bandpass filter:\n",
      "- Windowed time-domain design (firwin) method\n",
      "- Hamming window with 0.0194 passband ripple and 53 dB stopband attenuation\n",
      "- Lower passband edge: 3.00\n",
      "- Lower transition bandwidth: 2.00 Hz (-6 dB cutoff frequency: 2.00 Hz)\n",
      "- Upper passband edge: 30.00 Hz\n",
      "- Upper transition bandwidth: 7.50 Hz (-6 dB cutoff frequency: 33.75 Hz)\n",
      "- Filter length: 1651 samples (1.651 s)\n",
      "\n"
     ]
    },
    {
     "name": "stderr",
     "output_type": "stream",
     "text": [
      "[Parallel(n_jobs=1)]: Using backend SequentialBackend with 1 concurrent workers.\n",
      "[Parallel(n_jobs=1)]: Done   1 out of   1 | elapsed:    0.0s remaining:    0.0s\n",
      "[Parallel(n_jobs=1)]: Done   2 out of   2 | elapsed:    0.0s remaining:    0.0s\n",
      "[Parallel(n_jobs=1)]: Done   3 out of   3 | elapsed:    0.0s remaining:    0.0s\n",
      "[Parallel(n_jobs=1)]: Done   4 out of   4 | elapsed:    0.1s remaining:    0.0s\n"
     ]
    },
    {
     "name": "stdout",
     "output_type": "stream",
     "text": [
      "Used Annotations descriptions: ['Comment/101', 'Comment/109', 'Comment/30', 'Comment/40', 'Comment/50', 'Comment/51', 'Comment/52', 'Comment/60', 'Comment/70', 'Comment/80', 'New Segment/']\n",
      "EEG channel type selected for re-referencing\n",
      "Applying average reference.\n",
      "Applying a custom ('EEG',) reference.\n"
     ]
    },
    {
     "name": "stderr",
     "output_type": "stream",
     "text": [
      "[Parallel(n_jobs=1)]: Done  63 out of  63 | elapsed:    0.9s finished\n"
     ]
    },
    {
     "name": "stdout",
     "output_type": "stream",
     "text": [
      "Multiple event values for single event times found. Keeping the first occurrence and dropping all others.\n",
      "Not setting metadata\n",
      "410 matching events found\n",
      "Setting baseline interval to [0.0, 2.0] s\n",
      "Applying baseline correction (mode: mean)\n",
      "0 projection items activated\n",
      "Using data from preloaded Raw for 410 events and 2501 original time points ...\n",
      "2 bad epochs dropped\n"
     ]
    },
    {
     "name": "stderr",
     "output_type": "stream",
     "text": [
      "/var/folders/2b/4tnqzv_x3x17pf4q1_n7m8h40000gn/T/ipykernel_2666/3240740927.py:30: RuntimeWarning: Fiducial point nasion not found, assuming identity unknown to head transformation\n",
      "  epochs.set_montage(montage)\n",
      " 75%|███████▍  | 59/79 [01:51<00:43,  2.16s/it]"
     ]
    },
    {
     "name": "stdout",
     "output_type": "stream",
     "text": [
      "Extracting parameters from ./ica_notebooks/cleaned/m_04_02/m_04_02_pos2b.vhdr...\n",
      "Setting channel info structure...\n",
      "Reading 0 ... 683430  =      0.000 ...   683.430 secs...\n",
      "dropping channel\n",
      "Filtering raw data in 1 contiguous segment\n",
      "Setting up band-pass filter from 3 - 30 Hz\n",
      "\n",
      "FIR filter parameters\n",
      "---------------------\n",
      "Designing a one-pass, zero-phase, non-causal bandpass filter:\n",
      "- Windowed time-domain design (firwin) method\n",
      "- Hamming window with 0.0194 passband ripple and 53 dB stopband attenuation\n",
      "- Lower passband edge: 3.00\n",
      "- Lower transition bandwidth: 2.00 Hz (-6 dB cutoff frequency: 2.00 Hz)\n",
      "- Upper passband edge: 30.00 Hz\n",
      "- Upper transition bandwidth: 7.50 Hz (-6 dB cutoff frequency: 33.75 Hz)\n",
      "- Filter length: 1651 samples (1.651 s)\n",
      "\n"
     ]
    },
    {
     "name": "stderr",
     "output_type": "stream",
     "text": [
      "[Parallel(n_jobs=1)]: Using backend SequentialBackend with 1 concurrent workers.\n",
      "[Parallel(n_jobs=1)]: Done   1 out of   1 | elapsed:    0.0s remaining:    0.0s\n",
      "[Parallel(n_jobs=1)]: Done   2 out of   2 | elapsed:    0.0s remaining:    0.0s\n",
      "[Parallel(n_jobs=1)]: Done   3 out of   3 | elapsed:    0.0s remaining:    0.0s\n",
      "[Parallel(n_jobs=1)]: Done   4 out of   4 | elapsed:    0.0s remaining:    0.0s\n"
     ]
    },
    {
     "name": "stdout",
     "output_type": "stream",
     "text": [
      "Used Annotations descriptions: ['Comment/101', 'Comment/109', 'Comment/30', 'Comment/40', 'Comment/50', 'Comment/51', 'Comment/52', 'Comment/60', 'Comment/70', 'Comment/80', 'New Segment/']\n",
      "EEG channel type selected for re-referencing\n",
      "Applying average reference.\n",
      "Applying a custom ('EEG',) reference.\n"
     ]
    },
    {
     "name": "stderr",
     "output_type": "stream",
     "text": [
      "[Parallel(n_jobs=1)]: Done  63 out of  63 | elapsed:    1.0s finished\n"
     ]
    },
    {
     "name": "stdout",
     "output_type": "stream",
     "text": [
      "Multiple event values for single event times found. Keeping the first occurrence and dropping all others.\n",
      "Not setting metadata\n",
      "410 matching events found\n",
      "Setting baseline interval to [0.0, 2.0] s\n",
      "Applying baseline correction (mode: mean)\n",
      "0 projection items activated\n",
      "Using data from preloaded Raw for 410 events and 2501 original time points ...\n",
      "2 bad epochs dropped\n"
     ]
    },
    {
     "name": "stderr",
     "output_type": "stream",
     "text": [
      "/var/folders/2b/4tnqzv_x3x17pf4q1_n7m8h40000gn/T/ipykernel_2666/3240740927.py:30: RuntimeWarning: Fiducial point nasion not found, assuming identity unknown to head transformation\n",
      "  epochs.set_montage(montage)\n",
      " 76%|███████▌  | 60/79 [01:54<00:44,  2.35s/it]"
     ]
    },
    {
     "name": "stdout",
     "output_type": "stream",
     "text": [
      "Extracting parameters from ./ica_notebooks/cleaned/m_01_01/m_01_01_pos1a.vhdr...\n",
      "Setting channel info structure...\n",
      "Reading 0 ... 691051  =      0.000 ...   691.051 secs...\n",
      "dropping channel\n",
      "Filtering raw data in 1 contiguous segment\n",
      "Setting up band-pass filter from 3 - 30 Hz\n",
      "\n",
      "FIR filter parameters\n",
      "---------------------\n",
      "Designing a one-pass, zero-phase, non-causal bandpass filter:\n",
      "- Windowed time-domain design (firwin) method\n",
      "- Hamming window with 0.0194 passband ripple and 53 dB stopband attenuation\n",
      "- Lower passband edge: 3.00\n",
      "- Lower transition bandwidth: 2.00 Hz (-6 dB cutoff frequency: 2.00 Hz)\n",
      "- Upper passband edge: 30.00 Hz\n",
      "- Upper transition bandwidth: 7.50 Hz (-6 dB cutoff frequency: 33.75 Hz)\n",
      "- Filter length: 1651 samples (1.651 s)\n",
      "\n"
     ]
    },
    {
     "name": "stderr",
     "output_type": "stream",
     "text": [
      "[Parallel(n_jobs=1)]: Using backend SequentialBackend with 1 concurrent workers.\n",
      "[Parallel(n_jobs=1)]: Done   1 out of   1 | elapsed:    0.0s remaining:    0.0s\n",
      "[Parallel(n_jobs=1)]: Done   2 out of   2 | elapsed:    0.0s remaining:    0.0s\n",
      "[Parallel(n_jobs=1)]: Done   3 out of   3 | elapsed:    0.0s remaining:    0.0s\n",
      "[Parallel(n_jobs=1)]: Done   4 out of   4 | elapsed:    0.1s remaining:    0.0s\n"
     ]
    },
    {
     "name": "stdout",
     "output_type": "stream",
     "text": [
      "Used Annotations descriptions: ['Comment/101', 'Comment/109', 'Comment/30', 'Comment/40', 'Comment/50', 'Comment/51', 'Comment/52', 'Comment/60', 'Comment/70', 'Comment/80', 'New Segment/']\n",
      "EEG channel type selected for re-referencing\n",
      "Applying average reference.\n",
      "Applying a custom ('EEG',) reference.\n"
     ]
    },
    {
     "name": "stderr",
     "output_type": "stream",
     "text": [
      "[Parallel(n_jobs=1)]: Done  63 out of  63 | elapsed:    1.1s finished\n"
     ]
    },
    {
     "name": "stdout",
     "output_type": "stream",
     "text": [
      "Multiple event values for single event times found. Keeping the first occurrence and dropping all others.\n",
      "Not setting metadata\n",
      "411 matching events found\n",
      "Setting baseline interval to [0.0, 2.0] s\n",
      "Applying baseline correction (mode: mean)\n",
      "0 projection items activated\n",
      "Using data from preloaded Raw for 411 events and 2501 original time points ...\n",
      "2 bad epochs dropped\n"
     ]
    },
    {
     "name": "stderr",
     "output_type": "stream",
     "text": [
      "/var/folders/2b/4tnqzv_x3x17pf4q1_n7m8h40000gn/T/ipykernel_2666/3240740927.py:30: RuntimeWarning: Fiducial point nasion not found, assuming identity unknown to head transformation\n",
      "  epochs.set_montage(montage)\n",
      " 77%|███████▋  | 61/79 [01:57<00:46,  2.59s/it]"
     ]
    },
    {
     "name": "stdout",
     "output_type": "stream",
     "text": [
      "Extracting parameters from ./ica_notebooks/cleaned/m_05_01/m_05_01_pos1a.vhdr...\n",
      "Setting channel info structure...\n",
      "Reading 0 ... 689190  =      0.000 ...   689.190 secs...\n",
      "dropping channel\n",
      "Filtering raw data in 1 contiguous segment\n",
      "Setting up band-pass filter from 3 - 30 Hz\n",
      "\n",
      "FIR filter parameters\n",
      "---------------------\n",
      "Designing a one-pass, zero-phase, non-causal bandpass filter:\n",
      "- Windowed time-domain design (firwin) method\n",
      "- Hamming window with 0.0194 passband ripple and 53 dB stopband attenuation\n",
      "- Lower passband edge: 3.00\n",
      "- Lower transition bandwidth: 2.00 Hz (-6 dB cutoff frequency: 2.00 Hz)\n",
      "- Upper passband edge: 30.00 Hz\n",
      "- Upper transition bandwidth: 7.50 Hz (-6 dB cutoff frequency: 33.75 Hz)\n",
      "- Filter length: 1651 samples (1.651 s)\n",
      "\n"
     ]
    },
    {
     "name": "stderr",
     "output_type": "stream",
     "text": [
      "[Parallel(n_jobs=1)]: Using backend SequentialBackend with 1 concurrent workers.\n",
      "[Parallel(n_jobs=1)]: Done   1 out of   1 | elapsed:    0.0s remaining:    0.0s\n",
      "[Parallel(n_jobs=1)]: Done   2 out of   2 | elapsed:    0.0s remaining:    0.0s\n",
      "[Parallel(n_jobs=1)]: Done   3 out of   3 | elapsed:    0.1s remaining:    0.0s\n",
      "[Parallel(n_jobs=1)]: Done   4 out of   4 | elapsed:    0.1s remaining:    0.0s\n"
     ]
    },
    {
     "name": "stdout",
     "output_type": "stream",
     "text": [
      "Used Annotations descriptions: ['Comment/101', 'Comment/109', 'Comment/30', 'Comment/40', 'Comment/50', 'Comment/51', 'Comment/52', 'Comment/60', 'Comment/70', 'Comment/80', 'New Segment/']\n",
      "EEG channel type selected for re-referencing\n",
      "Applying average reference.\n",
      "Applying a custom ('EEG',) reference.\n"
     ]
    },
    {
     "name": "stderr",
     "output_type": "stream",
     "text": [
      "[Parallel(n_jobs=1)]: Done  63 out of  63 | elapsed:    0.9s finished\n"
     ]
    },
    {
     "name": "stdout",
     "output_type": "stream",
     "text": [
      "Multiple event values for single event times found. Keeping the first occurrence and dropping all others.\n",
      "Not setting metadata\n",
      "411 matching events found\n",
      "Setting baseline interval to [0.0, 2.0] s\n",
      "Applying baseline correction (mode: mean)\n",
      "0 projection items activated\n",
      "Using data from preloaded Raw for 411 events and 2501 original time points ...\n",
      "2 bad epochs dropped\n"
     ]
    },
    {
     "name": "stderr",
     "output_type": "stream",
     "text": [
      "/var/folders/2b/4tnqzv_x3x17pf4q1_n7m8h40000gn/T/ipykernel_2666/3240740927.py:30: RuntimeWarning: Fiducial point nasion not found, assuming identity unknown to head transformation\n",
      "  epochs.set_montage(montage)\n",
      " 78%|███████▊  | 62/79 [02:00<00:45,  2.66s/it]"
     ]
    },
    {
     "name": "stdout",
     "output_type": "stream",
     "text": [
      "Extracting parameters from ./ica_notebooks/cleaned/m_04_01/m_04_01_pos1a.vhdr...\n",
      "Setting channel info structure...\n",
      "Reading 0 ... 670980  =      0.000 ...   670.980 secs...\n",
      "dropping channel\n",
      "Filtering raw data in 1 contiguous segment\n",
      "Setting up band-pass filter from 3 - 30 Hz\n",
      "\n",
      "FIR filter parameters\n",
      "---------------------\n",
      "Designing a one-pass, zero-phase, non-causal bandpass filter:\n",
      "- Windowed time-domain design (firwin) method\n",
      "- Hamming window with 0.0194 passband ripple and 53 dB stopband attenuation\n",
      "- Lower passband edge: 3.00\n",
      "- Lower transition bandwidth: 2.00 Hz (-6 dB cutoff frequency: 2.00 Hz)\n",
      "- Upper passband edge: 30.00 Hz\n",
      "- Upper transition bandwidth: 7.50 Hz (-6 dB cutoff frequency: 33.75 Hz)\n",
      "- Filter length: 1651 samples (1.651 s)\n",
      "\n"
     ]
    },
    {
     "name": "stderr",
     "output_type": "stream",
     "text": [
      "[Parallel(n_jobs=1)]: Using backend SequentialBackend with 1 concurrent workers.\n",
      "[Parallel(n_jobs=1)]: Done   1 out of   1 | elapsed:    0.0s remaining:    0.0s\n",
      "[Parallel(n_jobs=1)]: Done   2 out of   2 | elapsed:    0.0s remaining:    0.0s\n",
      "[Parallel(n_jobs=1)]: Done   3 out of   3 | elapsed:    0.0s remaining:    0.0s\n",
      "[Parallel(n_jobs=1)]: Done   4 out of   4 | elapsed:    0.0s remaining:    0.0s\n"
     ]
    },
    {
     "name": "stdout",
     "output_type": "stream",
     "text": [
      "Used Annotations descriptions: ['Comment/101', 'Comment/109', 'Comment/30', 'Comment/40', 'Comment/50', 'Comment/51', 'Comment/52', 'Comment/60', 'Comment/70', 'Comment/80', 'New Segment/']\n",
      "EEG channel type selected for re-referencing\n",
      "Applying average reference.\n",
      "Applying a custom ('EEG',) reference.\n",
      "Multiple event values for single event times found. Keeping the first occurrence and dropping all others.\n",
      "Not setting metadata\n",
      "410 matching events found\n",
      "Setting baseline interval to [0.0, 2.0] s\n",
      "Applying baseline correction (mode: mean)\n",
      "0 projection items activated\n",
      "Using data from preloaded Raw for 410 events and 2501 original time points ...\n"
     ]
    },
    {
     "name": "stderr",
     "output_type": "stream",
     "text": [
      "[Parallel(n_jobs=1)]: Done  63 out of  63 | elapsed:    0.6s finished\n"
     ]
    },
    {
     "name": "stdout",
     "output_type": "stream",
     "text": [
      "2 bad epochs dropped\n"
     ]
    },
    {
     "name": "stderr",
     "output_type": "stream",
     "text": [
      "/var/folders/2b/4tnqzv_x3x17pf4q1_n7m8h40000gn/T/ipykernel_2666/3240740927.py:30: RuntimeWarning: Fiducial point nasion not found, assuming identity unknown to head transformation\n",
      "  epochs.set_montage(montage)\n",
      " 80%|███████▉  | 63/79 [02:02<00:38,  2.39s/it]"
     ]
    },
    {
     "name": "stdout",
     "output_type": "stream",
     "text": [
      "Extracting parameters from ./ica_notebooks/cleaned/m_18_01/m_18_01_pos1a.vhdr...\n",
      "Setting channel info structure...\n",
      "Reading 0 ... 663110  =      0.000 ...   663.110 secs...\n",
      "dropping channel\n",
      "Filtering raw data in 1 contiguous segment\n",
      "Setting up band-pass filter from 3 - 30 Hz\n",
      "\n",
      "FIR filter parameters\n",
      "---------------------\n",
      "Designing a one-pass, zero-phase, non-causal bandpass filter:\n",
      "- Windowed time-domain design (firwin) method\n",
      "- Hamming window with 0.0194 passband ripple and 53 dB stopband attenuation\n",
      "- Lower passband edge: 3.00\n",
      "- Lower transition bandwidth: 2.00 Hz (-6 dB cutoff frequency: 2.00 Hz)\n",
      "- Upper passband edge: 30.00 Hz\n",
      "- Upper transition bandwidth: 7.50 Hz (-6 dB cutoff frequency: 33.75 Hz)\n",
      "- Filter length: 1651 samples (1.651 s)\n",
      "\n"
     ]
    },
    {
     "name": "stderr",
     "output_type": "stream",
     "text": [
      "[Parallel(n_jobs=1)]: Using backend SequentialBackend with 1 concurrent workers.\n",
      "[Parallel(n_jobs=1)]: Done   1 out of   1 | elapsed:    0.0s remaining:    0.0s\n",
      "[Parallel(n_jobs=1)]: Done   2 out of   2 | elapsed:    0.0s remaining:    0.0s\n",
      "[Parallel(n_jobs=1)]: Done   3 out of   3 | elapsed:    0.0s remaining:    0.0s\n",
      "[Parallel(n_jobs=1)]: Done   4 out of   4 | elapsed:    0.1s remaining:    0.0s\n"
     ]
    },
    {
     "name": "stdout",
     "output_type": "stream",
     "text": [
      "Used Annotations descriptions: ['Comment/101', 'Comment/109', 'Comment/30', 'Comment/40', 'Comment/50', 'Comment/51', 'Comment/52', 'Comment/60', 'Comment/70', 'Comment/80', 'New Segment/']\n",
      "EEG channel type selected for re-referencing\n",
      "Applying average reference.\n",
      "Applying a custom ('EEG',) reference.\n"
     ]
    },
    {
     "name": "stderr",
     "output_type": "stream",
     "text": [
      "[Parallel(n_jobs=1)]: Done  63 out of  63 | elapsed:    0.8s finished\n"
     ]
    },
    {
     "name": "stdout",
     "output_type": "stream",
     "text": [
      "Multiple event values for single event times found. Keeping the first occurrence and dropping all others.\n",
      "Not setting metadata\n",
      "410 matching events found\n",
      "Setting baseline interval to [0.0, 2.0] s\n",
      "Applying baseline correction (mode: mean)\n",
      "0 projection items activated\n",
      "Using data from preloaded Raw for 410 events and 2501 original time points ...\n",
      "3 bad epochs dropped\n"
     ]
    },
    {
     "name": "stderr",
     "output_type": "stream",
     "text": [
      "/var/folders/2b/4tnqzv_x3x17pf4q1_n7m8h40000gn/T/ipykernel_2666/3240740927.py:30: RuntimeWarning: Fiducial point nasion not found, assuming identity unknown to head transformation\n",
      "  epochs.set_montage(montage)\n",
      " 81%|████████  | 64/79 [02:04<00:34,  2.30s/it]"
     ]
    },
    {
     "name": "stdout",
     "output_type": "stream",
     "text": [
      "Extracting parameters from ./ica_notebooks/cleaned/m_08_01/m_08_01_pos1a.vhdr...\n",
      "Setting channel info structure...\n",
      "Reading 0 ... 699450  =      0.000 ...   699.450 secs...\n",
      "dropping channel\n",
      "Filtering raw data in 1 contiguous segment\n",
      "Setting up band-pass filter from 3 - 30 Hz\n",
      "\n",
      "FIR filter parameters\n",
      "---------------------\n",
      "Designing a one-pass, zero-phase, non-causal bandpass filter:\n",
      "- Windowed time-domain design (firwin) method\n",
      "- Hamming window with 0.0194 passband ripple and 53 dB stopband attenuation\n",
      "- Lower passband edge: 3.00\n",
      "- Lower transition bandwidth: 2.00 Hz (-6 dB cutoff frequency: 2.00 Hz)\n",
      "- Upper passband edge: 30.00 Hz\n",
      "- Upper transition bandwidth: 7.50 Hz (-6 dB cutoff frequency: 33.75 Hz)\n",
      "- Filter length: 1651 samples (1.651 s)\n",
      "\n"
     ]
    },
    {
     "name": "stderr",
     "output_type": "stream",
     "text": [
      "[Parallel(n_jobs=1)]: Using backend SequentialBackend with 1 concurrent workers.\n",
      "[Parallel(n_jobs=1)]: Done   1 out of   1 | elapsed:    0.0s remaining:    0.0s\n",
      "[Parallel(n_jobs=1)]: Done   2 out of   2 | elapsed:    0.0s remaining:    0.0s\n",
      "[Parallel(n_jobs=1)]: Done   3 out of   3 | elapsed:    0.0s remaining:    0.0s\n",
      "[Parallel(n_jobs=1)]: Done   4 out of   4 | elapsed:    0.0s remaining:    0.0s\n"
     ]
    },
    {
     "name": "stdout",
     "output_type": "stream",
     "text": [
      "Used Annotations descriptions: ['Comment/101', 'Comment/109', 'Comment/30', 'Comment/40', 'Comment/50', 'Comment/51', 'Comment/52', 'Comment/60', 'Comment/70', 'Comment/80', 'New Segment/']\n",
      "EEG channel type selected for re-referencing\n",
      "Applying average reference.\n",
      "Applying a custom ('EEG',) reference.\n"
     ]
    },
    {
     "name": "stderr",
     "output_type": "stream",
     "text": [
      "[Parallel(n_jobs=1)]: Done  63 out of  63 | elapsed:    0.7s finished\n"
     ]
    },
    {
     "name": "stdout",
     "output_type": "stream",
     "text": [
      "Multiple event values for single event times found. Keeping the first occurrence and dropping all others.\n",
      "Not setting metadata\n",
      "411 matching events found\n",
      "Setting baseline interval to [0.0, 2.0] s\n",
      "Applying baseline correction (mode: mean)\n",
      "0 projection items activated\n",
      "Using data from preloaded Raw for 411 events and 2501 original time points ...\n",
      "2 bad epochs dropped\n"
     ]
    },
    {
     "name": "stderr",
     "output_type": "stream",
     "text": [
      "/var/folders/2b/4tnqzv_x3x17pf4q1_n7m8h40000gn/T/ipykernel_2666/3240740927.py:30: RuntimeWarning: Fiducial point nasion not found, assuming identity unknown to head transformation\n",
      "  epochs.set_montage(montage)\n",
      " 82%|████████▏ | 65/79 [02:06<00:32,  2.31s/it]"
     ]
    },
    {
     "name": "stdout",
     "output_type": "stream",
     "text": [
      "Extracting parameters from ./ica_notebooks/cleaned/m_17_01/m_17_01_pos1a.vhdr...\n",
      "Setting channel info structure...\n",
      "Reading 0 ... 671811  =      0.000 ...   671.811 secs...\n",
      "dropping channel\n",
      "Filtering raw data in 1 contiguous segment\n",
      "Setting up band-pass filter from 3 - 30 Hz\n",
      "\n",
      "FIR filter parameters\n",
      "---------------------\n",
      "Designing a one-pass, zero-phase, non-causal bandpass filter:\n",
      "- Windowed time-domain design (firwin) method\n",
      "- Hamming window with 0.0194 passband ripple and 53 dB stopband attenuation\n",
      "- Lower passband edge: 3.00\n",
      "- Lower transition bandwidth: 2.00 Hz (-6 dB cutoff frequency: 2.00 Hz)\n",
      "- Upper passband edge: 30.00 Hz\n",
      "- Upper transition bandwidth: 7.50 Hz (-6 dB cutoff frequency: 33.75 Hz)\n",
      "- Filter length: 1651 samples (1.651 s)\n",
      "\n"
     ]
    },
    {
     "name": "stderr",
     "output_type": "stream",
     "text": [
      "[Parallel(n_jobs=1)]: Using backend SequentialBackend with 1 concurrent workers.\n",
      "[Parallel(n_jobs=1)]: Done   1 out of   1 | elapsed:    0.0s remaining:    0.0s\n",
      "[Parallel(n_jobs=1)]: Done   2 out of   2 | elapsed:    0.0s remaining:    0.0s\n",
      "[Parallel(n_jobs=1)]: Done   3 out of   3 | elapsed:    0.0s remaining:    0.0s\n",
      "[Parallel(n_jobs=1)]: Done   4 out of   4 | elapsed:    0.1s remaining:    0.0s\n"
     ]
    },
    {
     "name": "stdout",
     "output_type": "stream",
     "text": [
      "Used Annotations descriptions: ['Comment/101', 'Comment/109', 'Comment/30', 'Comment/40', 'Comment/50', 'Comment/51', 'Comment/52', 'Comment/60', 'Comment/70', 'Comment/80', 'New Segment/']\n",
      "EEG channel type selected for re-referencing\n",
      "Applying average reference.\n",
      "Applying a custom ('EEG',) reference.\n"
     ]
    },
    {
     "name": "stderr",
     "output_type": "stream",
     "text": [
      "[Parallel(n_jobs=1)]: Done  62 out of  62 | elapsed:    0.7s finished\n"
     ]
    },
    {
     "name": "stdout",
     "output_type": "stream",
     "text": [
      "Multiple event values for single event times found. Keeping the first occurrence and dropping all others.\n",
      "Not setting metadata\n",
      "413 matching events found\n",
      "Setting baseline interval to [0.0, 2.0] s\n",
      "Applying baseline correction (mode: mean)\n",
      "0 projection items activated\n",
      "Using data from preloaded Raw for 413 events and 2501 original time points ...\n",
      "2 bad epochs dropped\n"
     ]
    },
    {
     "name": "stderr",
     "output_type": "stream",
     "text": [
      "/var/folders/2b/4tnqzv_x3x17pf4q1_n7m8h40000gn/T/ipykernel_2666/3240740927.py:30: RuntimeWarning: Fiducial point nasion not found, assuming identity unknown to head transformation\n",
      "  epochs.set_montage(montage)\n",
      " 84%|████████▎ | 66/79 [02:08<00:28,  2.20s/it]"
     ]
    },
    {
     "name": "stdout",
     "output_type": "stream",
     "text": [
      "Extracting parameters from ./ica_notebooks/cleaned/m_13_01/m_13_01_pos1a.vhdr...\n",
      "Setting channel info structure...\n",
      "Reading 0 ... 665210  =      0.000 ...   665.210 secs...\n",
      "dropping channel\n",
      "Filtering raw data in 1 contiguous segment\n",
      "Setting up band-pass filter from 3 - 30 Hz\n",
      "\n",
      "FIR filter parameters\n",
      "---------------------\n",
      "Designing a one-pass, zero-phase, non-causal bandpass filter:\n",
      "- Windowed time-domain design (firwin) method\n",
      "- Hamming window with 0.0194 passband ripple and 53 dB stopband attenuation\n",
      "- Lower passband edge: 3.00\n",
      "- Lower transition bandwidth: 2.00 Hz (-6 dB cutoff frequency: 2.00 Hz)\n",
      "- Upper passband edge: 30.00 Hz\n",
      "- Upper transition bandwidth: 7.50 Hz (-6 dB cutoff frequency: 33.75 Hz)\n",
      "- Filter length: 1651 samples (1.651 s)\n",
      "\n"
     ]
    },
    {
     "name": "stderr",
     "output_type": "stream",
     "text": [
      "[Parallel(n_jobs=1)]: Using backend SequentialBackend with 1 concurrent workers.\n",
      "[Parallel(n_jobs=1)]: Done   1 out of   1 | elapsed:    0.0s remaining:    0.0s\n",
      "[Parallel(n_jobs=1)]: Done   2 out of   2 | elapsed:    0.0s remaining:    0.0s\n",
      "[Parallel(n_jobs=1)]: Done   3 out of   3 | elapsed:    0.0s remaining:    0.0s\n",
      "[Parallel(n_jobs=1)]: Done   4 out of   4 | elapsed:    0.1s remaining:    0.0s\n"
     ]
    },
    {
     "name": "stdout",
     "output_type": "stream",
     "text": [
      "Used Annotations descriptions: ['Comment/101', 'Comment/109', 'Comment/30', 'Comment/40', 'Comment/50', 'Comment/51', 'Comment/52', 'Comment/60', 'Comment/70', 'Comment/80', 'New Segment/']\n",
      "EEG channel type selected for re-referencing\n",
      "Applying average reference.\n",
      "Applying a custom ('EEG',) reference.\n"
     ]
    },
    {
     "name": "stderr",
     "output_type": "stream",
     "text": [
      "[Parallel(n_jobs=1)]: Done  63 out of  63 | elapsed:    0.7s finished\n"
     ]
    },
    {
     "name": "stdout",
     "output_type": "stream",
     "text": [
      "Multiple event values for single event times found. Keeping the first occurrence and dropping all others.\n",
      "Not setting metadata\n",
      "410 matching events found\n",
      "Setting baseline interval to [0.0, 2.0] s\n",
      "Applying baseline correction (mode: mean)\n",
      "0 projection items activated\n",
      "Using data from preloaded Raw for 410 events and 2501 original time points ...\n",
      "2 bad epochs dropped\n"
     ]
    },
    {
     "name": "stderr",
     "output_type": "stream",
     "text": [
      "/var/folders/2b/4tnqzv_x3x17pf4q1_n7m8h40000gn/T/ipykernel_2666/3240740927.py:30: RuntimeWarning: Fiducial point nasion not found, assuming identity unknown to head transformation\n",
      "  epochs.set_montage(montage)\n",
      " 85%|████████▍ | 67/79 [02:10<00:25,  2.16s/it]"
     ]
    },
    {
     "name": "stdout",
     "output_type": "stream",
     "text": [
      "Extracting parameters from ./ica_notebooks/cleaned/m_12_01/m_12_01_pos1a.vhdr...\n",
      "Setting channel info structure...\n",
      "Reading 0 ... 686230  =      0.000 ...   686.230 secs...\n",
      "dropping channel\n",
      "Filtering raw data in 1 contiguous segment\n",
      "Setting up band-pass filter from 3 - 30 Hz\n",
      "\n",
      "FIR filter parameters\n",
      "---------------------\n",
      "Designing a one-pass, zero-phase, non-causal bandpass filter:\n",
      "- Windowed time-domain design (firwin) method\n",
      "- Hamming window with 0.0194 passband ripple and 53 dB stopband attenuation\n",
      "- Lower passband edge: 3.00\n",
      "- Lower transition bandwidth: 2.00 Hz (-6 dB cutoff frequency: 2.00 Hz)\n",
      "- Upper passband edge: 30.00 Hz\n",
      "- Upper transition bandwidth: 7.50 Hz (-6 dB cutoff frequency: 33.75 Hz)\n",
      "- Filter length: 1651 samples (1.651 s)\n",
      "\n"
     ]
    },
    {
     "name": "stderr",
     "output_type": "stream",
     "text": [
      "[Parallel(n_jobs=1)]: Using backend SequentialBackend with 1 concurrent workers.\n",
      "[Parallel(n_jobs=1)]: Done   1 out of   1 | elapsed:    0.0s remaining:    0.0s\n",
      "[Parallel(n_jobs=1)]: Done   2 out of   2 | elapsed:    0.0s remaining:    0.0s\n",
      "[Parallel(n_jobs=1)]: Done   3 out of   3 | elapsed:    0.0s remaining:    0.0s\n",
      "[Parallel(n_jobs=1)]: Done   4 out of   4 | elapsed:    0.0s remaining:    0.0s\n"
     ]
    },
    {
     "name": "stdout",
     "output_type": "stream",
     "text": [
      "Used Annotations descriptions: ['Comment/101', 'Comment/109', 'Comment/30', 'Comment/40', 'Comment/50', 'Comment/51', 'Comment/52', 'Comment/60', 'Comment/70', 'Comment/80', 'New Segment/']\n",
      "EEG channel type selected for re-referencing\n",
      "Applying average reference.\n",
      "Applying a custom ('EEG',) reference.\n"
     ]
    },
    {
     "name": "stderr",
     "output_type": "stream",
     "text": [
      "[Parallel(n_jobs=1)]: Done  63 out of  63 | elapsed:    0.7s finished\n"
     ]
    },
    {
     "name": "stdout",
     "output_type": "stream",
     "text": [
      "Multiple event values for single event times found. Keeping the first occurrence and dropping all others.\n",
      "Not setting metadata\n",
      "410 matching events found\n",
      "Setting baseline interval to [0.0, 2.0] s\n",
      "Applying baseline correction (mode: mean)\n",
      "0 projection items activated\n",
      "Using data from preloaded Raw for 410 events and 2501 original time points ...\n",
      "2 bad epochs dropped\n"
     ]
    },
    {
     "name": "stderr",
     "output_type": "stream",
     "text": [
      "/var/folders/2b/4tnqzv_x3x17pf4q1_n7m8h40000gn/T/ipykernel_2666/3240740927.py:30: RuntimeWarning: Fiducial point nasion not found, assuming identity unknown to head transformation\n",
      "  epochs.set_montage(montage)\n",
      " 86%|████████▌ | 68/79 [02:12<00:23,  2.13s/it]"
     ]
    },
    {
     "name": "stdout",
     "output_type": "stream",
     "text": [
      "Extracting parameters from ./ica_notebooks/cleaned/m_02_01/m_02_01_pos1a.vhdr...\n",
      "Setting channel info structure...\n",
      "Reading 0 ... 680040  =      0.000 ...   680.040 secs...\n",
      "dropping channel\n",
      "Filtering raw data in 1 contiguous segment\n",
      "Setting up band-pass filter from 3 - 30 Hz\n",
      "\n",
      "FIR filter parameters\n",
      "---------------------\n",
      "Designing a one-pass, zero-phase, non-causal bandpass filter:\n",
      "- Windowed time-domain design (firwin) method\n",
      "- Hamming window with 0.0194 passband ripple and 53 dB stopband attenuation\n",
      "- Lower passband edge: 3.00\n",
      "- Lower transition bandwidth: 2.00 Hz (-6 dB cutoff frequency: 2.00 Hz)\n",
      "- Upper passband edge: 30.00 Hz\n",
      "- Upper transition bandwidth: 7.50 Hz (-6 dB cutoff frequency: 33.75 Hz)\n",
      "- Filter length: 1651 samples (1.651 s)\n",
      "\n"
     ]
    },
    {
     "name": "stderr",
     "output_type": "stream",
     "text": [
      "[Parallel(n_jobs=1)]: Using backend SequentialBackend with 1 concurrent workers.\n",
      "[Parallel(n_jobs=1)]: Done   1 out of   1 | elapsed:    0.0s remaining:    0.0s\n",
      "[Parallel(n_jobs=1)]: Done   2 out of   2 | elapsed:    0.0s remaining:    0.0s\n",
      "[Parallel(n_jobs=1)]: Done   3 out of   3 | elapsed:    0.0s remaining:    0.0s\n",
      "[Parallel(n_jobs=1)]: Done   4 out of   4 | elapsed:    0.1s remaining:    0.0s\n"
     ]
    },
    {
     "name": "stdout",
     "output_type": "stream",
     "text": [
      "Used Annotations descriptions: ['Comment/101', 'Comment/109', 'Comment/30', 'Comment/40', 'Comment/50', 'Comment/51', 'Comment/52', 'Comment/60', 'Comment/70', 'Comment/80', 'New Segment/']\n",
      "EEG channel type selected for re-referencing\n",
      "Applying average reference.\n",
      "Applying a custom ('EEG',) reference.\n"
     ]
    },
    {
     "name": "stderr",
     "output_type": "stream",
     "text": [
      "[Parallel(n_jobs=1)]: Done  63 out of  63 | elapsed:    0.7s finished\n"
     ]
    },
    {
     "name": "stdout",
     "output_type": "stream",
     "text": [
      "Multiple event values for single event times found. Keeping the first occurrence and dropping all others.\n",
      "Not setting metadata\n",
      "411 matching events found\n",
      "Setting baseline interval to [0.0, 2.0] s\n",
      "Applying baseline correction (mode: mean)\n",
      "0 projection items activated\n",
      "Using data from preloaded Raw for 411 events and 2501 original time points ...\n",
      "2 bad epochs dropped\n"
     ]
    },
    {
     "name": "stderr",
     "output_type": "stream",
     "text": [
      "/var/folders/2b/4tnqzv_x3x17pf4q1_n7m8h40000gn/T/ipykernel_2666/3240740927.py:30: RuntimeWarning: Fiducial point nasion not found, assuming identity unknown to head transformation\n",
      "  epochs.set_montage(montage)\n",
      " 87%|████████▋ | 69/79 [02:14<00:21,  2.10s/it]"
     ]
    },
    {
     "name": "stdout",
     "output_type": "stream",
     "text": [
      "Extracting parameters from ./ica_notebooks/cleaned/m_06_01/m_06_01_pos1a.vhdr...\n",
      "Setting channel info structure...\n",
      "Reading 0 ... 689061  =      0.000 ...   689.061 secs...\n",
      "dropping channel\n",
      "Filtering raw data in 1 contiguous segment\n",
      "Setting up band-pass filter from 3 - 30 Hz\n",
      "\n",
      "FIR filter parameters\n",
      "---------------------\n",
      "Designing a one-pass, zero-phase, non-causal bandpass filter:\n",
      "- Windowed time-domain design (firwin) method\n",
      "- Hamming window with 0.0194 passband ripple and 53 dB stopband attenuation\n",
      "- Lower passband edge: 3.00\n",
      "- Lower transition bandwidth: 2.00 Hz (-6 dB cutoff frequency: 2.00 Hz)\n",
      "- Upper passband edge: 30.00 Hz\n",
      "- Upper transition bandwidth: 7.50 Hz (-6 dB cutoff frequency: 33.75 Hz)\n",
      "- Filter length: 1651 samples (1.651 s)\n",
      "\n"
     ]
    },
    {
     "name": "stderr",
     "output_type": "stream",
     "text": [
      "[Parallel(n_jobs=1)]: Using backend SequentialBackend with 1 concurrent workers.\n",
      "[Parallel(n_jobs=1)]: Done   1 out of   1 | elapsed:    0.0s remaining:    0.0s\n",
      "[Parallel(n_jobs=1)]: Done   2 out of   2 | elapsed:    0.0s remaining:    0.0s\n",
      "[Parallel(n_jobs=1)]: Done   3 out of   3 | elapsed:    0.0s remaining:    0.0s\n",
      "[Parallel(n_jobs=1)]: Done   4 out of   4 | elapsed:    0.0s remaining:    0.0s\n"
     ]
    },
    {
     "name": "stdout",
     "output_type": "stream",
     "text": [
      "Used Annotations descriptions: ['Comment/101', 'Comment/109', 'Comment/30', 'Comment/40', 'Comment/50', 'Comment/51', 'Comment/52', 'Comment/60', 'Comment/70', 'Comment/80', 'New Segment/']\n",
      "EEG channel type selected for re-referencing\n",
      "Applying average reference.\n",
      "Applying a custom ('EEG',) reference.\n"
     ]
    },
    {
     "name": "stderr",
     "output_type": "stream",
     "text": [
      "[Parallel(n_jobs=1)]: Done  63 out of  63 | elapsed:    0.7s finished\n"
     ]
    },
    {
     "name": "stdout",
     "output_type": "stream",
     "text": [
      "Multiple event values for single event times found. Keeping the first occurrence and dropping all others.\n",
      "Not setting metadata\n",
      "409 matching events found\n",
      "Setting baseline interval to [0.0, 2.0] s\n",
      "Applying baseline correction (mode: mean)\n",
      "0 projection items activated\n",
      "Using data from preloaded Raw for 409 events and 2501 original time points ...\n",
      "2 bad epochs dropped\n"
     ]
    },
    {
     "name": "stderr",
     "output_type": "stream",
     "text": [
      "/var/folders/2b/4tnqzv_x3x17pf4q1_n7m8h40000gn/T/ipykernel_2666/3240740927.py:30: RuntimeWarning: Fiducial point nasion not found, assuming identity unknown to head transformation\n",
      "  epochs.set_montage(montage)\n",
      " 89%|████████▊ | 70/79 [02:16<00:18,  2.08s/it]"
     ]
    },
    {
     "name": "stdout",
     "output_type": "stream",
     "text": [
      "Extracting parameters from ./ica_notebooks/cleaned/m_08_02/m_08_02_pos2b.vhdr...\n",
      "Setting channel info structure...\n",
      "Reading 0 ... 508821  =      0.000 ...   508.821 secs...\n",
      "dropping channel\n",
      "Filtering raw data in 1 contiguous segment\n",
      "Setting up band-pass filter from 3 - 30 Hz\n",
      "\n",
      "FIR filter parameters\n",
      "---------------------\n",
      "Designing a one-pass, zero-phase, non-causal bandpass filter:\n",
      "- Windowed time-domain design (firwin) method\n",
      "- Hamming window with 0.0194 passband ripple and 53 dB stopband attenuation\n",
      "- Lower passband edge: 3.00\n",
      "- Lower transition bandwidth: 2.00 Hz (-6 dB cutoff frequency: 2.00 Hz)\n",
      "- Upper passband edge: 30.00 Hz\n",
      "- Upper transition bandwidth: 7.50 Hz (-6 dB cutoff frequency: 33.75 Hz)\n",
      "- Filter length: 1651 samples (1.651 s)\n",
      "\n"
     ]
    },
    {
     "name": "stderr",
     "output_type": "stream",
     "text": [
      "[Parallel(n_jobs=1)]: Using backend SequentialBackend with 1 concurrent workers.\n",
      "[Parallel(n_jobs=1)]: Done   1 out of   1 | elapsed:    0.0s remaining:    0.0s\n",
      "[Parallel(n_jobs=1)]: Done   2 out of   2 | elapsed:    0.0s remaining:    0.0s\n",
      "[Parallel(n_jobs=1)]: Done   3 out of   3 | elapsed:    0.0s remaining:    0.0s\n",
      "[Parallel(n_jobs=1)]: Done   4 out of   4 | elapsed:    0.0s remaining:    0.0s\n"
     ]
    },
    {
     "name": "stdout",
     "output_type": "stream",
     "text": [
      "Used Annotations descriptions: ['Comment/101', 'Comment/109', 'Comment/30', 'Comment/40', 'Comment/50', 'Comment/51', 'Comment/52', 'Comment/60', 'Comment/70', 'Comment/80', 'New Segment/']\n",
      "EEG channel type selected for re-referencing\n",
      "Applying average reference.\n",
      "Applying a custom ('EEG',) reference.\n"
     ]
    },
    {
     "name": "stderr",
     "output_type": "stream",
     "text": [
      "[Parallel(n_jobs=1)]: Done  63 out of  63 | elapsed:    0.5s finished\n"
     ]
    },
    {
     "name": "stdout",
     "output_type": "stream",
     "text": [
      "Multiple event values for single event times found. Keeping the first occurrence and dropping all others.\n",
      "Not setting metadata\n",
      "308 matching events found\n",
      "Setting baseline interval to [0.0, 2.0] s\n",
      "Applying baseline correction (mode: mean)\n",
      "0 projection items activated\n",
      "Using data from preloaded Raw for 308 events and 2501 original time points ...\n",
      "2 bad epochs dropped\n"
     ]
    },
    {
     "name": "stderr",
     "output_type": "stream",
     "text": [
      "/var/folders/2b/4tnqzv_x3x17pf4q1_n7m8h40000gn/T/ipykernel_2666/3240740927.py:30: RuntimeWarning: Fiducial point nasion not found, assuming identity unknown to head transformation\n",
      "  epochs.set_montage(montage)\n",
      " 90%|████████▉ | 71/79 [02:18<00:15,  1.93s/it]"
     ]
    },
    {
     "name": "stdout",
     "output_type": "stream",
     "text": [
      "Extracting parameters from ./ica_notebooks/cleaned/m_18_02/m_18_02_pos2b.vhdr...\n",
      "Setting channel info structure...\n",
      "Reading 0 ... 660150  =      0.000 ...   660.150 secs...\n",
      "dropping channel\n",
      "Filtering raw data in 1 contiguous segment\n",
      "Setting up band-pass filter from 3 - 30 Hz\n",
      "\n",
      "FIR filter parameters\n",
      "---------------------\n",
      "Designing a one-pass, zero-phase, non-causal bandpass filter:\n",
      "- Windowed time-domain design (firwin) method\n",
      "- Hamming window with 0.0194 passband ripple and 53 dB stopband attenuation\n",
      "- Lower passband edge: 3.00\n",
      "- Lower transition bandwidth: 2.00 Hz (-6 dB cutoff frequency: 2.00 Hz)\n",
      "- Upper passband edge: 30.00 Hz\n",
      "- Upper transition bandwidth: 7.50 Hz (-6 dB cutoff frequency: 33.75 Hz)\n",
      "- Filter length: 1651 samples (1.651 s)\n",
      "\n"
     ]
    },
    {
     "name": "stderr",
     "output_type": "stream",
     "text": [
      "[Parallel(n_jobs=1)]: Using backend SequentialBackend with 1 concurrent workers.\n",
      "[Parallel(n_jobs=1)]: Done   1 out of   1 | elapsed:    0.0s remaining:    0.0s\n",
      "[Parallel(n_jobs=1)]: Done   2 out of   2 | elapsed:    0.0s remaining:    0.0s\n",
      "[Parallel(n_jobs=1)]: Done   3 out of   3 | elapsed:    0.0s remaining:    0.0s\n",
      "[Parallel(n_jobs=1)]: Done   4 out of   4 | elapsed:    0.1s remaining:    0.0s\n"
     ]
    },
    {
     "name": "stdout",
     "output_type": "stream",
     "text": [
      "Used Annotations descriptions: ['Comment/101', 'Comment/109', 'Comment/30', 'Comment/40', 'Comment/50', 'Comment/51', 'Comment/52', 'Comment/60', 'Comment/70', 'Comment/80', 'New Segment/']\n",
      "EEG channel type selected for re-referencing\n",
      "Applying average reference.\n",
      "Applying a custom ('EEG',) reference.\n"
     ]
    },
    {
     "name": "stderr",
     "output_type": "stream",
     "text": [
      "[Parallel(n_jobs=1)]: Done  63 out of  63 | elapsed:    0.7s finished\n"
     ]
    },
    {
     "name": "stdout",
     "output_type": "stream",
     "text": [
      "Multiple event values for single event times found. Keeping the first occurrence and dropping all others.\n",
      "Not setting metadata\n",
      "411 matching events found\n",
      "Setting baseline interval to [0.0, 2.0] s\n",
      "Applying baseline correction (mode: mean)\n",
      "0 projection items activated\n",
      "Using data from preloaded Raw for 411 events and 2501 original time points ...\n",
      "3 bad epochs dropped\n"
     ]
    },
    {
     "name": "stderr",
     "output_type": "stream",
     "text": [
      "/var/folders/2b/4tnqzv_x3x17pf4q1_n7m8h40000gn/T/ipykernel_2666/3240740927.py:30: RuntimeWarning: Fiducial point nasion not found, assuming identity unknown to head transformation\n",
      "  epochs.set_montage(montage)\n",
      " 91%|█████████ | 72/79 [02:20<00:13,  1.96s/it]"
     ]
    },
    {
     "name": "stdout",
     "output_type": "stream",
     "text": [
      "Extracting parameters from ./ica_notebooks/cleaned/m_17_02/m_17_02_pos2b.vhdr...\n",
      "Setting channel info structure...\n",
      "Reading 0 ... 699563  =      0.000 ...   699.563 secs...\n",
      "dropping channel\n",
      "Filtering raw data in 1 contiguous segment\n",
      "Setting up band-pass filter from 3 - 30 Hz\n",
      "\n",
      "FIR filter parameters\n",
      "---------------------\n",
      "Designing a one-pass, zero-phase, non-causal bandpass filter:\n",
      "- Windowed time-domain design (firwin) method\n",
      "- Hamming window with 0.0194 passband ripple and 53 dB stopband attenuation\n",
      "- Lower passband edge: 3.00\n",
      "- Lower transition bandwidth: 2.00 Hz (-6 dB cutoff frequency: 2.00 Hz)\n",
      "- Upper passband edge: 30.00 Hz\n",
      "- Upper transition bandwidth: 7.50 Hz (-6 dB cutoff frequency: 33.75 Hz)\n",
      "- Filter length: 1651 samples (1.651 s)\n",
      "\n"
     ]
    },
    {
     "name": "stderr",
     "output_type": "stream",
     "text": [
      "[Parallel(n_jobs=1)]: Using backend SequentialBackend with 1 concurrent workers.\n",
      "[Parallel(n_jobs=1)]: Done   1 out of   1 | elapsed:    0.0s remaining:    0.0s\n",
      "[Parallel(n_jobs=1)]: Done   2 out of   2 | elapsed:    0.0s remaining:    0.0s\n",
      "[Parallel(n_jobs=1)]: Done   3 out of   3 | elapsed:    0.0s remaining:    0.0s\n",
      "[Parallel(n_jobs=1)]: Done   4 out of   4 | elapsed:    0.0s remaining:    0.0s\n"
     ]
    },
    {
     "name": "stdout",
     "output_type": "stream",
     "text": [
      "Used Annotations descriptions: ['Comment/101', 'Comment/109', 'Comment/30', 'Comment/40', 'Comment/50', 'Comment/51', 'Comment/52', 'Comment/60', 'Comment/70', 'Comment/80', 'New Segment/']\n",
      "EEG channel type selected for re-referencing\n",
      "Applying average reference.\n",
      "Applying a custom ('EEG',) reference.\n"
     ]
    },
    {
     "name": "stderr",
     "output_type": "stream",
     "text": [
      "[Parallel(n_jobs=1)]: Done  63 out of  63 | elapsed:    0.7s finished\n"
     ]
    },
    {
     "name": "stdout",
     "output_type": "stream",
     "text": [
      "Multiple event values for single event times found. Keeping the first occurrence and dropping all others.\n",
      "Not setting metadata\n",
      "411 matching events found\n",
      "Setting baseline interval to [0.0, 2.0] s\n",
      "Applying baseline correction (mode: mean)\n",
      "0 projection items activated\n",
      "Using data from preloaded Raw for 411 events and 2501 original time points ...\n",
      "2 bad epochs dropped\n"
     ]
    },
    {
     "name": "stderr",
     "output_type": "stream",
     "text": [
      "/var/folders/2b/4tnqzv_x3x17pf4q1_n7m8h40000gn/T/ipykernel_2666/3240740927.py:30: RuntimeWarning: Fiducial point nasion not found, assuming identity unknown to head transformation\n",
      "  epochs.set_montage(montage)\n",
      " 92%|█████████▏| 73/79 [02:22<00:11,  1.97s/it]"
     ]
    },
    {
     "name": "stdout",
     "output_type": "stream",
     "text": [
      "Extracting parameters from ./ica_notebooks/cleaned/m_13_02/m_13_02_pos2b.vhdr...\n",
      "Setting channel info structure...\n",
      "Reading 0 ... 668631  =      0.000 ...   668.631 secs...\n",
      "dropping channel\n",
      "Filtering raw data in 1 contiguous segment\n",
      "Setting up band-pass filter from 3 - 30 Hz\n",
      "\n",
      "FIR filter parameters\n",
      "---------------------\n",
      "Designing a one-pass, zero-phase, non-causal bandpass filter:\n",
      "- Windowed time-domain design (firwin) method\n",
      "- Hamming window with 0.0194 passband ripple and 53 dB stopband attenuation\n",
      "- Lower passband edge: 3.00\n",
      "- Lower transition bandwidth: 2.00 Hz (-6 dB cutoff frequency: 2.00 Hz)\n",
      "- Upper passband edge: 30.00 Hz\n",
      "- Upper transition bandwidth: 7.50 Hz (-6 dB cutoff frequency: 33.75 Hz)\n",
      "- Filter length: 1651 samples (1.651 s)\n",
      "\n"
     ]
    },
    {
     "name": "stderr",
     "output_type": "stream",
     "text": [
      "[Parallel(n_jobs=1)]: Using backend SequentialBackend with 1 concurrent workers.\n",
      "[Parallel(n_jobs=1)]: Done   1 out of   1 | elapsed:    0.0s remaining:    0.0s\n",
      "[Parallel(n_jobs=1)]: Done   2 out of   2 | elapsed:    0.0s remaining:    0.0s\n",
      "[Parallel(n_jobs=1)]: Done   3 out of   3 | elapsed:    0.0s remaining:    0.0s\n",
      "[Parallel(n_jobs=1)]: Done   4 out of   4 | elapsed:    0.0s remaining:    0.0s\n"
     ]
    },
    {
     "name": "stdout",
     "output_type": "stream",
     "text": [
      "Used Annotations descriptions: ['Comment/101', 'Comment/109', 'Comment/30', 'Comment/40', 'Comment/50', 'Comment/51', 'Comment/52', 'Comment/60', 'Comment/70', 'Comment/80', 'New Segment/']\n",
      "EEG channel type selected for re-referencing\n",
      "Applying average reference.\n",
      "Applying a custom ('EEG',) reference.\n"
     ]
    },
    {
     "name": "stderr",
     "output_type": "stream",
     "text": [
      "[Parallel(n_jobs=1)]: Done  63 out of  63 | elapsed:    0.7s finished\n"
     ]
    },
    {
     "name": "stdout",
     "output_type": "stream",
     "text": [
      "Multiple event values for single event times found. Keeping the first occurrence and dropping all others.\n",
      "Not setting metadata\n",
      "410 matching events found\n",
      "Setting baseline interval to [0.0, 2.0] s\n",
      "Applying baseline correction (mode: mean)\n",
      "0 projection items activated\n",
      "Using data from preloaded Raw for 410 events and 2501 original time points ...\n",
      "2 bad epochs dropped\n"
     ]
    },
    {
     "name": "stderr",
     "output_type": "stream",
     "text": [
      "/var/folders/2b/4tnqzv_x3x17pf4q1_n7m8h40000gn/T/ipykernel_2666/3240740927.py:30: RuntimeWarning: Fiducial point nasion not found, assuming identity unknown to head transformation\n",
      "  epochs.set_montage(montage)\n",
      " 94%|█████████▎| 74/79 [02:24<00:09,  1.98s/it]"
     ]
    },
    {
     "name": "stdout",
     "output_type": "stream",
     "text": [
      "Extracting parameters from ./ica_notebooks/cleaned/m_02_02/m_02_02_pos2b.vhdr...\n",
      "Setting channel info structure...\n",
      "Reading 0 ... 667422  =      0.000 ...   667.422 secs...\n",
      "dropping channel\n",
      "Filtering raw data in 1 contiguous segment\n",
      "Setting up band-pass filter from 3 - 30 Hz\n",
      "\n",
      "FIR filter parameters\n",
      "---------------------\n",
      "Designing a one-pass, zero-phase, non-causal bandpass filter:\n",
      "- Windowed time-domain design (firwin) method\n",
      "- Hamming window with 0.0194 passband ripple and 53 dB stopband attenuation\n",
      "- Lower passband edge: 3.00\n",
      "- Lower transition bandwidth: 2.00 Hz (-6 dB cutoff frequency: 2.00 Hz)\n",
      "- Upper passband edge: 30.00 Hz\n",
      "- Upper transition bandwidth: 7.50 Hz (-6 dB cutoff frequency: 33.75 Hz)\n",
      "- Filter length: 1651 samples (1.651 s)\n",
      "\n"
     ]
    },
    {
     "name": "stderr",
     "output_type": "stream",
     "text": [
      "[Parallel(n_jobs=1)]: Using backend SequentialBackend with 1 concurrent workers.\n",
      "[Parallel(n_jobs=1)]: Done   1 out of   1 | elapsed:    0.0s remaining:    0.0s\n",
      "[Parallel(n_jobs=1)]: Done   2 out of   2 | elapsed:    0.0s remaining:    0.0s\n",
      "[Parallel(n_jobs=1)]: Done   3 out of   3 | elapsed:    0.1s remaining:    0.0s\n",
      "[Parallel(n_jobs=1)]: Done   4 out of   4 | elapsed:    0.1s remaining:    0.0s\n"
     ]
    },
    {
     "name": "stdout",
     "output_type": "stream",
     "text": [
      "Used Annotations descriptions: ['Comment/101', 'Comment/109', 'Comment/30', 'Comment/40', 'Comment/50', 'Comment/51', 'Comment/52', 'Comment/60', 'Comment/70', 'Comment/80', 'New Segment/']\n"
     ]
    },
    {
     "name": "stderr",
     "output_type": "stream",
     "text": [
      "[Parallel(n_jobs=1)]: Done  63 out of  63 | elapsed:    0.6s finished\n"
     ]
    },
    {
     "name": "stdout",
     "output_type": "stream",
     "text": [
      "EEG channel type selected for re-referencing\n",
      "Applying average reference.\n",
      "Applying a custom ('EEG',) reference.\n",
      "Multiple event values for single event times found. Keeping the first occurrence and dropping all others.\n",
      "Not setting metadata\n",
      "411 matching events found\n",
      "Setting baseline interval to [0.0, 2.0] s\n",
      "Applying baseline correction (mode: mean)\n",
      "0 projection items activated\n",
      "Using data from preloaded Raw for 411 events and 2501 original time points ...\n",
      "2 bad epochs dropped\n"
     ]
    },
    {
     "name": "stderr",
     "output_type": "stream",
     "text": [
      "/var/folders/2b/4tnqzv_x3x17pf4q1_n7m8h40000gn/T/ipykernel_2666/3240740927.py:30: RuntimeWarning: Fiducial point nasion not found, assuming identity unknown to head transformation\n",
      "  epochs.set_montage(montage)\n",
      " 95%|█████████▍| 75/79 [02:26<00:08,  2.00s/it]"
     ]
    },
    {
     "name": "stdout",
     "output_type": "stream",
     "text": [
      "Extracting parameters from ./ica_notebooks/cleaned/m_12_02/m_12_02_pos2b.vhdr...\n",
      "Setting channel info structure...\n",
      "Reading 0 ... 675910  =      0.000 ...   675.910 secs...\n",
      "dropping channel\n",
      "Filtering raw data in 1 contiguous segment\n",
      "Setting up band-pass filter from 3 - 30 Hz\n",
      "\n",
      "FIR filter parameters\n",
      "---------------------\n",
      "Designing a one-pass, zero-phase, non-causal bandpass filter:\n",
      "- Windowed time-domain design (firwin) method\n",
      "- Hamming window with 0.0194 passband ripple and 53 dB stopband attenuation\n",
      "- Lower passband edge: 3.00\n",
      "- Lower transition bandwidth: 2.00 Hz (-6 dB cutoff frequency: 2.00 Hz)\n",
      "- Upper passband edge: 30.00 Hz\n",
      "- Upper transition bandwidth: 7.50 Hz (-6 dB cutoff frequency: 33.75 Hz)\n",
      "- Filter length: 1651 samples (1.651 s)\n",
      "\n"
     ]
    },
    {
     "name": "stderr",
     "output_type": "stream",
     "text": [
      "[Parallel(n_jobs=1)]: Using backend SequentialBackend with 1 concurrent workers.\n",
      "[Parallel(n_jobs=1)]: Done   1 out of   1 | elapsed:    0.0s remaining:    0.0s\n",
      "[Parallel(n_jobs=1)]: Done   2 out of   2 | elapsed:    0.0s remaining:    0.0s\n",
      "[Parallel(n_jobs=1)]: Done   3 out of   3 | elapsed:    0.0s remaining:    0.0s\n",
      "[Parallel(n_jobs=1)]: Done   4 out of   4 | elapsed:    0.0s remaining:    0.0s\n"
     ]
    },
    {
     "name": "stdout",
     "output_type": "stream",
     "text": [
      "Used Annotations descriptions: ['Comment/101', 'Comment/109', 'Comment/30', 'Comment/40', 'Comment/50', 'Comment/51', 'Comment/52', 'Comment/60', 'Comment/70', 'Comment/80', 'New Segment/']\n",
      "EEG channel type selected for re-referencing\n",
      "Applying average reference.\n",
      "Applying a custom ('EEG',) reference.\n"
     ]
    },
    {
     "name": "stderr",
     "output_type": "stream",
     "text": [
      "[Parallel(n_jobs=1)]: Done  63 out of  63 | elapsed:    0.6s finished\n"
     ]
    },
    {
     "name": "stdout",
     "output_type": "stream",
     "text": [
      "Multiple event values for single event times found. Keeping the first occurrence and dropping all others.\n",
      "Not setting metadata\n",
      "413 matching events found\n",
      "Setting baseline interval to [0.0, 2.0] s\n",
      "Applying baseline correction (mode: mean)\n",
      "0 projection items activated\n",
      "Using data from preloaded Raw for 413 events and 2501 original time points ...\n",
      "2 bad epochs dropped\n"
     ]
    },
    {
     "name": "stderr",
     "output_type": "stream",
     "text": [
      "/var/folders/2b/4tnqzv_x3x17pf4q1_n7m8h40000gn/T/ipykernel_2666/3240740927.py:30: RuntimeWarning: Fiducial point nasion not found, assuming identity unknown to head transformation\n",
      "  epochs.set_montage(montage)\n",
      " 96%|█████████▌| 76/79 [02:28<00:05,  1.96s/it]"
     ]
    },
    {
     "name": "stdout",
     "output_type": "stream",
     "text": [
      "Extracting parameters from ./ica_notebooks/cleaned/m_01_02/m_01_02_pos2b.vhdr...\n",
      "Setting channel info structure...\n",
      "Reading 0 ... 690070  =      0.000 ...   690.070 secs...\n",
      "dropping channel\n",
      "Filtering raw data in 1 contiguous segment\n",
      "Setting up band-pass filter from 3 - 30 Hz\n",
      "\n",
      "FIR filter parameters\n",
      "---------------------\n",
      "Designing a one-pass, zero-phase, non-causal bandpass filter:\n",
      "- Windowed time-domain design (firwin) method\n",
      "- Hamming window with 0.0194 passband ripple and 53 dB stopband attenuation\n",
      "- Lower passband edge: 3.00\n",
      "- Lower transition bandwidth: 2.00 Hz (-6 dB cutoff frequency: 2.00 Hz)\n",
      "- Upper passband edge: 30.00 Hz\n",
      "- Upper transition bandwidth: 7.50 Hz (-6 dB cutoff frequency: 33.75 Hz)\n",
      "- Filter length: 1651 samples (1.651 s)\n",
      "\n"
     ]
    },
    {
     "name": "stderr",
     "output_type": "stream",
     "text": [
      "[Parallel(n_jobs=1)]: Using backend SequentialBackend with 1 concurrent workers.\n",
      "[Parallel(n_jobs=1)]: Done   1 out of   1 | elapsed:    0.0s remaining:    0.0s\n",
      "[Parallel(n_jobs=1)]: Done   2 out of   2 | elapsed:    0.0s remaining:    0.0s\n",
      "[Parallel(n_jobs=1)]: Done   3 out of   3 | elapsed:    0.0s remaining:    0.0s\n",
      "[Parallel(n_jobs=1)]: Done   4 out of   4 | elapsed:    0.0s remaining:    0.0s\n"
     ]
    },
    {
     "name": "stdout",
     "output_type": "stream",
     "text": [
      "Used Annotations descriptions: ['Comment/101', 'Comment/109', 'Comment/30', 'Comment/40', 'Comment/50', 'Comment/51', 'Comment/52', 'Comment/60', 'Comment/70', 'Comment/80', 'New Segment/']\n",
      "EEG channel type selected for re-referencing\n",
      "Applying average reference.\n",
      "Applying a custom ('EEG',) reference.\n"
     ]
    },
    {
     "name": "stderr",
     "output_type": "stream",
     "text": [
      "[Parallel(n_jobs=1)]: Done  63 out of  63 | elapsed:    0.6s finished\n"
     ]
    },
    {
     "name": "stdout",
     "output_type": "stream",
     "text": [
      "Multiple event values for single event times found. Keeping the first occurrence and dropping all others.\n",
      "Not setting metadata\n",
      "409 matching events found\n",
      "Setting baseline interval to [0.0, 2.0] s\n",
      "Applying baseline correction (mode: mean)\n",
      "0 projection items activated\n",
      "Using data from preloaded Raw for 409 events and 2501 original time points ...\n",
      "3 bad epochs dropped\n"
     ]
    },
    {
     "name": "stderr",
     "output_type": "stream",
     "text": [
      "/var/folders/2b/4tnqzv_x3x17pf4q1_n7m8h40000gn/T/ipykernel_2666/3240740927.py:30: RuntimeWarning: Fiducial point nasion not found, assuming identity unknown to head transformation\n",
      "  epochs.set_montage(montage)\n",
      " 97%|█████████▋| 77/79 [02:30<00:03,  1.97s/it]"
     ]
    },
    {
     "name": "stdout",
     "output_type": "stream",
     "text": [
      "Extracting parameters from ./ica_notebooks/cleaned/m_05_02/m_05_02_pos2b.vhdr...\n",
      "Setting channel info structure...\n",
      "Reading 0 ... 706851  =      0.000 ...   706.851 secs...\n",
      "dropping channel\n",
      "Filtering raw data in 1 contiguous segment\n",
      "Setting up band-pass filter from 3 - 30 Hz\n",
      "\n",
      "FIR filter parameters\n",
      "---------------------\n",
      "Designing a one-pass, zero-phase, non-causal bandpass filter:\n",
      "- Windowed time-domain design (firwin) method\n",
      "- Hamming window with 0.0194 passband ripple and 53 dB stopband attenuation\n",
      "- Lower passband edge: 3.00\n",
      "- Lower transition bandwidth: 2.00 Hz (-6 dB cutoff frequency: 2.00 Hz)\n",
      "- Upper passband edge: 30.00 Hz\n",
      "- Upper transition bandwidth: 7.50 Hz (-6 dB cutoff frequency: 33.75 Hz)\n",
      "- Filter length: 1651 samples (1.651 s)\n",
      "\n"
     ]
    },
    {
     "name": "stderr",
     "output_type": "stream",
     "text": [
      "[Parallel(n_jobs=1)]: Using backend SequentialBackend with 1 concurrent workers.\n",
      "[Parallel(n_jobs=1)]: Done   1 out of   1 | elapsed:    0.0s remaining:    0.0s\n",
      "[Parallel(n_jobs=1)]: Done   2 out of   2 | elapsed:    0.0s remaining:    0.0s\n",
      "[Parallel(n_jobs=1)]: Done   3 out of   3 | elapsed:    0.0s remaining:    0.0s\n",
      "[Parallel(n_jobs=1)]: Done   4 out of   4 | elapsed:    0.0s remaining:    0.0s\n"
     ]
    },
    {
     "name": "stdout",
     "output_type": "stream",
     "text": [
      "Used Annotations descriptions: ['Comment/101', 'Comment/109', 'Comment/30', 'Comment/40', 'Comment/50', 'Comment/51', 'Comment/52', 'Comment/60', 'Comment/70', 'Comment/80', 'New Segment/']\n",
      "EEG channel type selected for re-referencing\n",
      "Applying average reference.\n",
      "Applying a custom ('EEG',) reference.\n"
     ]
    },
    {
     "name": "stderr",
     "output_type": "stream",
     "text": [
      "[Parallel(n_jobs=1)]: Done  63 out of  63 | elapsed:    0.6s finished\n"
     ]
    },
    {
     "name": "stdout",
     "output_type": "stream",
     "text": [
      "Multiple event values for single event times found. Keeping the first occurrence and dropping all others.\n",
      "Not setting metadata\n",
      "410 matching events found\n",
      "Setting baseline interval to [0.0, 2.0] s\n",
      "Applying baseline correction (mode: mean)\n",
      "0 projection items activated\n",
      "Using data from preloaded Raw for 410 events and 2501 original time points ...\n",
      "2 bad epochs dropped\n"
     ]
    },
    {
     "name": "stderr",
     "output_type": "stream",
     "text": [
      "/var/folders/2b/4tnqzv_x3x17pf4q1_n7m8h40000gn/T/ipykernel_2666/3240740927.py:30: RuntimeWarning: Fiducial point nasion not found, assuming identity unknown to head transformation\n",
      "  epochs.set_montage(montage)\n",
      " 99%|█████████▊| 78/79 [02:31<00:01,  1.92s/it]"
     ]
    },
    {
     "name": "stdout",
     "output_type": "stream",
     "text": [
      "Extracting parameters from ./ica_notebooks/cleaned/m_04_02/m_04_02_pos2b.vhdr...\n",
      "Setting channel info structure...\n",
      "Reading 0 ... 683430  =      0.000 ...   683.430 secs...\n",
      "dropping channel\n",
      "Filtering raw data in 1 contiguous segment\n",
      "Setting up band-pass filter from 3 - 30 Hz\n",
      "\n",
      "FIR filter parameters\n",
      "---------------------\n",
      "Designing a one-pass, zero-phase, non-causal bandpass filter:\n",
      "- Windowed time-domain design (firwin) method\n",
      "- Hamming window with 0.0194 passband ripple and 53 dB stopband attenuation\n",
      "- Lower passband edge: 3.00\n",
      "- Lower transition bandwidth: 2.00 Hz (-6 dB cutoff frequency: 2.00 Hz)\n",
      "- Upper passband edge: 30.00 Hz\n",
      "- Upper transition bandwidth: 7.50 Hz (-6 dB cutoff frequency: 33.75 Hz)\n",
      "- Filter length: 1651 samples (1.651 s)\n",
      "\n"
     ]
    },
    {
     "name": "stderr",
     "output_type": "stream",
     "text": [
      "[Parallel(n_jobs=1)]: Using backend SequentialBackend with 1 concurrent workers.\n",
      "[Parallel(n_jobs=1)]: Done   1 out of   1 | elapsed:    0.0s remaining:    0.0s\n",
      "[Parallel(n_jobs=1)]: Done   2 out of   2 | elapsed:    0.0s remaining:    0.0s\n",
      "[Parallel(n_jobs=1)]: Done   3 out of   3 | elapsed:    0.0s remaining:    0.0s\n",
      "[Parallel(n_jobs=1)]: Done   4 out of   4 | elapsed:    0.0s remaining:    0.0s\n"
     ]
    },
    {
     "name": "stdout",
     "output_type": "stream",
     "text": [
      "Used Annotations descriptions: ['Comment/101', 'Comment/109', 'Comment/30', 'Comment/40', 'Comment/50', 'Comment/51', 'Comment/52', 'Comment/60', 'Comment/70', 'Comment/80', 'New Segment/']\n",
      "EEG channel type selected for re-referencing\n",
      "Applying average reference.\n",
      "Applying a custom ('EEG',) reference.\n"
     ]
    },
    {
     "name": "stderr",
     "output_type": "stream",
     "text": [
      "[Parallel(n_jobs=1)]: Done  63 out of  63 | elapsed:    0.6s finished\n"
     ]
    },
    {
     "name": "stdout",
     "output_type": "stream",
     "text": [
      "Multiple event values for single event times found. Keeping the first occurrence and dropping all others.\n",
      "Not setting metadata\n",
      "410 matching events found\n",
      "Setting baseline interval to [0.0, 2.0] s\n",
      "Applying baseline correction (mode: mean)\n",
      "0 projection items activated\n",
      "Using data from preloaded Raw for 410 events and 2501 original time points ...\n",
      "2 bad epochs dropped\n"
     ]
    },
    {
     "name": "stderr",
     "output_type": "stream",
     "text": [
      "/var/folders/2b/4tnqzv_x3x17pf4q1_n7m8h40000gn/T/ipykernel_2666/3240740927.py:30: RuntimeWarning: Fiducial point nasion not found, assuming identity unknown to head transformation\n",
      "  epochs.set_montage(montage)\n",
      "100%|██████████| 79/79 [02:33<00:00,  1.95s/it]\n"
     ]
    }
   ],
   "source": [
    "# Gather up all the epochs for the relevant tasks and groups\n",
    "all_pos_epochs = gather_epochs(all_pos)"
   ]
  },
  {
   "cell_type": "code",
   "execution_count": 10,
   "metadata": {},
   "outputs": [],
   "source": [
    "# Create power table and helpers\n",
    "def get_psd_power_norm(ep, roi, freq_range):\n",
    "    evoked = ep.average()\n",
    "    spectrum = evoked.compute_psd('welch', fmin=3, fmax=30, tmin=0, tmax=1, picks=roi)\n",
    "    psds, freqs = spectrum.get_data(return_freqs=True)\n",
    "    psds_band = psds[:, (freqs >= freq_range[0]) & (freqs < freq_range[1])].mean(axis=-1)\n",
    "    psds /= np.sum(psds,axis=-1, keepdims=True) # Normalise\n",
    "    psds_band_norm = psds[:, (freqs >= freq_range[0]) & (freqs < freq_range[1])].mean(axis=-1)\n",
    "    return psds_band.mean(), psds_band_norm.mean()\n",
    "\n",
    "# NOT USED\n",
    "def create_power_table(epoch_set, iaf_data):\n",
    "    \"\"\"Create a table of powers for each eeg file in the list supplied.\n",
    "    \"\"\"\n",
    "    return 0\n",
    "    output = {\n",
    "        'Participant':[],\n",
    "        'ROI':[],\n",
    "        'Cue':[],\n",
    "        'Session':[],\n",
    "        'Power':[],\n",
    "        'Normalised Power':[]\n",
    "    }\n",
    "\n",
    "    regions = {\n",
    "        'left central, occipital parietal' : [\"P7\", \"P5\", \"P3\", \"P1\", \"PO7\", \"PO3\", \"O1\", \"CP5\", \"CP3\", \"CP1\"],\n",
    "        'right central, occipital parietal' : [\"P2\", \"P4\", \"P6\", \"P8\", \"PO8\", \"PO4\", \"O2\", \"CP6\", \"CP4\", \"CP2\"],\n",
    "        'left hemisphere':[\"P7\", \"P5\", \"P3\", \"P1\", \"PO7\", \"PO3\", \"O1\"],\n",
    "        'right hemisphere':[\"P2\", \"P4\", \"P6\", \"P8\", \"PO8\", \"PO4\", \"O2\"]\n",
    "    }\n",
    "\n",
    "    cue_key = [\n",
    "        ['left','Comment/60'],\n",
    "        ['right','Comment/70'],\n",
    "    ]\n",
    "\n",
    "    for i in range(len(cue_key)):\n",
    "        # cue_epochs = gather_epochs(, cue_key[i][1])\n",
    "        cue_id = cue_key[i][1]\n",
    "        for key, value in regions.items():\n",
    "            for sub_epochs in epoch_set:\n",
    "                epochs = sub_epochs[0][cue_id]\n",
    "                sub_id=sub_epochs[1].strip('/ica_notebooks/cleaned/')\n",
    "                sub_id=re.search(r\"/([^/]*)$\", sub_id).group(1)\n",
    "                sub_id=re.findall(r'm_([^_]*)', sub_id)[0]\n",
    "                session=re.search(r\".*pos(\\d)\\D.*\", sub_epochs[1]).group(1)\n",
    "\n",
    "                ### USE individualised alpha range ###\n",
    "                # Get iaf and alpha range for subject\n",
    "                iaf = iaf_data[(iaf_data['Participant']==int(sub_id)) & (iaf_data['Session']==int(session))].IAF.iloc[0]\n",
    "                print('iaf', iaf)\n",
    "                a_min = math.floor(iaf - 1)\n",
    "                a_max = math.ceil(iaf + 1) \n",
    "                freq_range = (a_min, a_max)\n",
    "                ###\n",
    "\n",
    "                epochs=sub_epochs[0]\n",
    "                # mean_alpha_o, normed_mean_alpha_o = get_psd_power_normed(epochs, value, freq_range)\n",
    "                mean_alpha, normed_mean_alpha = get_psd_power_norm(epochs, value, freq_range)\n",
    "\n",
    "                output['Participant'].append(sub_id)\n",
    "                output['ROI'].append(key)\n",
    "                output['Power'].append(mean_alpha)\n",
    "                output['Normalised Power'].append(normed_mean_alpha)\n",
    "                output['Cue'].append(cue_key[i][0])\n",
    "                output['Session'].append(session)\n",
    "    return pd.DataFrame(output)"
   ]
  },
  {
   "cell_type": "code",
   "execution_count": 11,
   "metadata": {},
   "outputs": [],
   "source": [
    "# Custom function to determine the 'hemisphere' value\n",
    "def determine_hemisphere(roi):\n",
    "    if 'left' in roi:\n",
    "        return 'left'\n",
    "    elif 'right' in roi:\n",
    "        return 'right'\n",
    "    else:\n",
    "        return 'unknown'"
   ]
  },
  {
   "cell_type": "markdown",
   "metadata": {},
   "source": [
    "# Compare alpha power from different regions"
   ]
  },
  {
   "cell_type": "code",
   "execution_count": 12,
   "metadata": {},
   "outputs": [
    {
     "name": "stdout",
     "output_type": "stream",
     "text": [
      "iaf 9.75\n",
      "NOTE: pick_channels() is a legacy function. New code should use inst.pick(...).\n",
      "Effective window size : 1.001 (s)\n",
      "iaf 10.5\n",
      "NOTE: pick_channels() is a legacy function. New code should use inst.pick(...).\n",
      "Effective window size : 1.001 (s)\n",
      "iaf 9.0\n",
      "NOTE: pick_channels() is a legacy function. New code should use inst.pick(...).\n",
      "Effective window size : 1.001 (s)\n",
      "iaf 10.0\n",
      "NOTE: pick_channels() is a legacy function. New code should use inst.pick(...).\n",
      "Effective window size : 1.001 (s)\n",
      "iaf 10.5\n",
      "NOTE: pick_channels() is a legacy function. New code should use inst.pick(...).\n",
      "Effective window size : 1.001 (s)\n",
      "iaf 10.5\n",
      "NOTE: pick_channels() is a legacy function. New code should use inst.pick(...).\n",
      "Effective window size : 1.001 (s)\n",
      "iaf 11.0\n",
      "NOTE: pick_channels() is a legacy function. New code should use inst.pick(...).\n",
      "Effective window size : 1.001 (s)\n",
      "iaf 8.75\n",
      "NOTE: pick_channels() is a legacy function. New code should use inst.pick(...).\n",
      "Effective window size : 1.001 (s)\n",
      "iaf 10.5\n",
      "NOTE: pick_channels() is a legacy function. New code should use inst.pick(...).\n",
      "Effective window size : 1.001 (s)\n",
      "iaf 10.75\n",
      "NOTE: pick_channels() is a legacy function. New code should use inst.pick(...).\n",
      "Effective window size : 1.001 (s)\n",
      "iaf 10.25\n",
      "NOTE: pick_channels() is a legacy function. New code should use inst.pick(...).\n",
      "Effective window size : 1.001 (s)\n",
      "iaf 10.75\n",
      "NOTE: pick_channels() is a legacy function. New code should use inst.pick(...).\n",
      "Effective window size : 1.001 (s)\n",
      "iaf 8.5\n",
      "NOTE: pick_channels() is a legacy function. New code should use inst.pick(...).\n",
      "Effective window size : 1.001 (s)\n",
      "iaf 11.0\n",
      "NOTE: pick_channels() is a legacy function. New code should use inst.pick(...).\n",
      "Effective window size : 1.001 (s)\n",
      "iaf 10.25\n",
      "NOTE: pick_channels() is a legacy function. New code should use inst.pick(...).\n",
      "Effective window size : 1.001 (s)\n",
      "iaf 11.0\n",
      "NOTE: pick_channels() is a legacy function. New code should use inst.pick(...).\n",
      "Effective window size : 1.001 (s)\n",
      "iaf 10.5\n",
      "NOTE: pick_channels() is a legacy function. New code should use inst.pick(...).\n",
      "Effective window size : 1.001 (s)\n",
      "iaf 9.75\n",
      "NOTE: pick_channels() is a legacy function. New code should use inst.pick(...).\n",
      "Effective window size : 1.001 (s)\n",
      "iaf 9.75\n",
      "NOTE: pick_channels() is a legacy function. New code should use inst.pick(...).\n",
      "Effective window size : 1.001 (s)\n",
      "iaf 9.75\n",
      "NOTE: pick_channels() is a legacy function. New code should use inst.pick(...).\n",
      "Effective window size : 1.001 (s)\n",
      "iaf 10.5\n",
      "NOTE: pick_channels() is a legacy function. New code should use inst.pick(...).\n",
      "Effective window size : 1.001 (s)\n",
      "iaf 9.75\n",
      "NOTE: pick_channels() is a legacy function. New code should use inst.pick(...).\n",
      "Effective window size : 1.001 (s)\n",
      "iaf 9.0\n",
      "NOTE: pick_channels() is a legacy function. New code should use inst.pick(...).\n",
      "Effective window size : 1.001 (s)\n",
      "iaf 10.0\n",
      "NOTE: pick_channels() is a legacy function. New code should use inst.pick(...).\n",
      "Effective window size : 1.001 (s)\n",
      "iaf 10.75\n",
      "NOTE: pick_channels() is a legacy function. New code should use inst.pick(...).\n",
      "Effective window size : 1.001 (s)\n",
      "iaf 10.5\n",
      "NOTE: pick_channels() is a legacy function. New code should use inst.pick(...).\n",
      "Effective window size : 1.001 (s)\n",
      "iaf 11.0\n",
      "NOTE: pick_channels() is a legacy function. New code should use inst.pick(...).\n",
      "Effective window size : 1.001 (s)\n",
      "iaf 8.75\n",
      "NOTE: pick_channels() is a legacy function. New code should use inst.pick(...).\n",
      "Effective window size : 1.001 (s)\n",
      "iaf 10.5\n",
      "NOTE: pick_channels() is a legacy function. New code should use inst.pick(...).\n",
      "Effective window size : 1.001 (s)\n",
      "iaf 10.75\n",
      "NOTE: pick_channels() is a legacy function. New code should use inst.pick(...).\n",
      "Effective window size : 1.001 (s)\n",
      "iaf 10.25\n",
      "NOTE: pick_channels() is a legacy function. New code should use inst.pick(...).\n",
      "Effective window size : 1.001 (s)\n",
      "iaf 10.75\n",
      "NOTE: pick_channels() is a legacy function. New code should use inst.pick(...).\n",
      "Effective window size : 1.001 (s)\n",
      "iaf 8.5\n",
      "NOTE: pick_channels() is a legacy function. New code should use inst.pick(...).\n",
      "Effective window size : 1.001 (s)\n",
      "iaf 11.0\n",
      "NOTE: pick_channels() is a legacy function. New code should use inst.pick(...).\n",
      "Effective window size : 1.001 (s)\n",
      "iaf 10.25\n",
      "NOTE: pick_channels() is a legacy function. New code should use inst.pick(...).\n",
      "Effective window size : 1.001 (s)\n",
      "iaf 11.0\n",
      "NOTE: pick_channels() is a legacy function. New code should use inst.pick(...).\n",
      "Effective window size : 1.001 (s)\n",
      "iaf 10.5\n",
      "NOTE: pick_channels() is a legacy function. New code should use inst.pick(...).\n",
      "Effective window size : 1.001 (s)\n",
      "iaf 9.75\n",
      "NOTE: pick_channels() is a legacy function. New code should use inst.pick(...).\n",
      "Effective window size : 1.001 (s)\n",
      "iaf 9.75\n",
      "NOTE: pick_channels() is a legacy function. New code should use inst.pick(...).\n",
      "Effective window size : 1.001 (s)\n",
      "iaf 9.75\n",
      "NOTE: pick_channels() is a legacy function. New code should use inst.pick(...).\n",
      "Effective window size : 1.001 (s)\n",
      "iaf 10.5\n",
      "NOTE: pick_channels() is a legacy function. New code should use inst.pick(...).\n",
      "Effective window size : 1.001 (s)\n",
      "iaf 10.0\n",
      "NOTE: pick_channels() is a legacy function. New code should use inst.pick(...).\n",
      "Effective window size : 1.001 (s)\n",
      "iaf 10.5\n",
      "NOTE: pick_channels() is a legacy function. New code should use inst.pick(...).\n",
      "Effective window size : 1.001 (s)\n",
      "iaf 10.0\n",
      "NOTE: pick_channels() is a legacy function. New code should use inst.pick(...).\n",
      "Effective window size : 1.001 (s)\n",
      "iaf 10.0\n",
      "NOTE: pick_channels() is a legacy function. New code should use inst.pick(...).\n",
      "Effective window size : 1.001 (s)\n",
      "iaf 9.75\n",
      "NOTE: pick_channels() is a legacy function. New code should use inst.pick(...).\n",
      "Effective window size : 1.001 (s)\n",
      "iaf 10.0\n",
      "NOTE: pick_channels() is a legacy function. New code should use inst.pick(...).\n",
      "Effective window size : 1.001 (s)\n",
      "iaf 10.25\n",
      "NOTE: pick_channels() is a legacy function. New code should use inst.pick(...).\n",
      "Effective window size : 1.001 (s)\n",
      "iaf 9.25\n",
      "NOTE: pick_channels() is a legacy function. New code should use inst.pick(...).\n",
      "Effective window size : 1.001 (s)\n",
      "iaf 9.75\n",
      "NOTE: pick_channels() is a legacy function. New code should use inst.pick(...).\n",
      "Effective window size : 1.001 (s)\n",
      "iaf 9.5\n",
      "NOTE: pick_channels() is a legacy function. New code should use inst.pick(...).\n",
      "Effective window size : 1.001 (s)\n",
      "iaf 10.0\n",
      "NOTE: pick_channels() is a legacy function. New code should use inst.pick(...).\n",
      "Effective window size : 1.001 (s)\n",
      "iaf 10.5\n",
      "NOTE: pick_channels() is a legacy function. New code should use inst.pick(...).\n",
      "Effective window size : 1.001 (s)\n",
      "iaf 10.0\n",
      "NOTE: pick_channels() is a legacy function. New code should use inst.pick(...).\n",
      "Effective window size : 1.001 (s)\n",
      "iaf 10.0\n",
      "NOTE: pick_channels() is a legacy function. New code should use inst.pick(...).\n",
      "Effective window size : 1.001 (s)\n",
      "iaf 9.75\n",
      "NOTE: pick_channels() is a legacy function. New code should use inst.pick(...).\n",
      "Effective window size : 1.001 (s)\n",
      "iaf 10.0\n",
      "NOTE: pick_channels() is a legacy function. New code should use inst.pick(...).\n",
      "Effective window size : 1.001 (s)\n",
      "iaf 9.25\n",
      "NOTE: pick_channels() is a legacy function. New code should use inst.pick(...).\n",
      "Effective window size : 1.001 (s)\n",
      "iaf 9.75\n",
      "NOTE: pick_channels() is a legacy function. New code should use inst.pick(...).\n",
      "Effective window size : 1.001 (s)\n",
      "iaf 9.5\n",
      "NOTE: pick_channels() is a legacy function. New code should use inst.pick(...).\n",
      "Effective window size : 1.001 (s)\n",
      "iaf 9.75\n",
      "NOTE: pick_channels() is a legacy function. New code should use inst.pick(...).\n",
      "Effective window size : 1.001 (s)\n",
      "iaf 10.0\n",
      "NOTE: pick_channels() is a legacy function. New code should use inst.pick(...).\n",
      "Effective window size : 1.001 (s)\n",
      "iaf 10.25\n",
      "NOTE: pick_channels() is a legacy function. New code should use inst.pick(...).\n",
      "Effective window size : 1.001 (s)\n",
      "iaf 10.0\n",
      "NOTE: pick_channels() is a legacy function. New code should use inst.pick(...).\n",
      "Effective window size : 1.001 (s)\n",
      "iaf 10.25\n",
      "NOTE: pick_channels() is a legacy function. New code should use inst.pick(...).\n",
      "Effective window size : 1.001 (s)\n",
      "iaf 10.0\n",
      "NOTE: pick_channels() is a legacy function. New code should use inst.pick(...).\n",
      "Effective window size : 1.001 (s)\n",
      "iaf 9.75\n",
      "NOTE: pick_channels() is a legacy function. New code should use inst.pick(...).\n",
      "Effective window size : 1.001 (s)\n",
      "iaf 10.25\n",
      "NOTE: pick_channels() is a legacy function. New code should use inst.pick(...).\n",
      "Effective window size : 1.001 (s)\n",
      "iaf 10.0\n",
      "NOTE: pick_channels() is a legacy function. New code should use inst.pick(...).\n",
      "Effective window size : 1.001 (s)\n",
      "iaf 10.25\n",
      "NOTE: pick_channels() is a legacy function. New code should use inst.pick(...).\n",
      "Effective window size : 1.001 (s)\n",
      "iaf 10.0\n",
      "NOTE: pick_channels() is a legacy function. New code should use inst.pick(...).\n",
      "Effective window size : 1.001 (s)\n",
      "iaf 10.5\n",
      "NOTE: pick_channels() is a legacy function. New code should use inst.pick(...).\n",
      "Effective window size : 1.001 (s)\n",
      "iaf 10.0\n",
      "NOTE: pick_channels() is a legacy function. New code should use inst.pick(...).\n",
      "Effective window size : 1.001 (s)\n",
      "iaf 10.0\n",
      "NOTE: pick_channels() is a legacy function. New code should use inst.pick(...).\n",
      "Effective window size : 1.001 (s)\n",
      "iaf 9.75\n",
      "NOTE: pick_channels() is a legacy function. New code should use inst.pick(...).\n",
      "Effective window size : 1.001 (s)\n",
      "iaf 10.0\n",
      "NOTE: pick_channels() is a legacy function. New code should use inst.pick(...).\n",
      "Effective window size : 1.001 (s)\n",
      "iaf 9.25\n",
      "NOTE: pick_channels() is a legacy function. New code should use inst.pick(...).\n",
      "Effective window size : 1.001 (s)\n",
      "iaf 9.75\n",
      "NOTE: pick_channels() is a legacy function. New code should use inst.pick(...).\n",
      "Effective window size : 1.001 (s)\n",
      "iaf 9.5\n",
      "NOTE: pick_channels() is a legacy function. New code should use inst.pick(...).\n",
      "Effective window size : 1.001 (s)\n",
      "iaf 9.75\n",
      "NOTE: pick_channels() is a legacy function. New code should use inst.pick(...).\n",
      "Effective window size : 1.001 (s)\n",
      "iaf 10.5\n",
      "NOTE: pick_channels() is a legacy function. New code should use inst.pick(...).\n",
      "Effective window size : 1.001 (s)\n",
      "iaf 9.0\n",
      "NOTE: pick_channels() is a legacy function. New code should use inst.pick(...).\n",
      "Effective window size : 1.001 (s)\n",
      "iaf 10.0\n",
      "NOTE: pick_channels() is a legacy function. New code should use inst.pick(...).\n",
      "Effective window size : 1.001 (s)\n",
      "iaf 10.5\n",
      "NOTE: pick_channels() is a legacy function. New code should use inst.pick(...).\n",
      "Effective window size : 1.001 (s)\n",
      "iaf 10.5\n",
      "NOTE: pick_channels() is a legacy function. New code should use inst.pick(...).\n",
      "Effective window size : 1.001 (s)\n",
      "iaf 11.0\n",
      "NOTE: pick_channels() is a legacy function. New code should use inst.pick(...).\n",
      "Effective window size : 1.001 (s)\n",
      "iaf 8.75\n",
      "NOTE: pick_channels() is a legacy function. New code should use inst.pick(...).\n",
      "Effective window size : 1.001 (s)\n",
      "iaf 10.5\n",
      "NOTE: pick_channels() is a legacy function. New code should use inst.pick(...).\n",
      "Effective window size : 1.001 (s)\n",
      "iaf 10.75\n",
      "NOTE: pick_channels() is a legacy function. New code should use inst.pick(...).\n",
      "Effective window size : 1.001 (s)\n",
      "iaf 10.25\n",
      "NOTE: pick_channels() is a legacy function. New code should use inst.pick(...).\n",
      "Effective window size : 1.001 (s)\n",
      "iaf 10.75\n",
      "NOTE: pick_channels() is a legacy function. New code should use inst.pick(...).\n",
      "Effective window size : 1.001 (s)\n",
      "iaf 8.5\n",
      "NOTE: pick_channels() is a legacy function. New code should use inst.pick(...).\n",
      "Effective window size : 1.001 (s)\n",
      "iaf 11.0\n",
      "NOTE: pick_channels() is a legacy function. New code should use inst.pick(...).\n",
      "Effective window size : 1.001 (s)\n",
      "iaf 10.25\n",
      "NOTE: pick_channels() is a legacy function. New code should use inst.pick(...).\n",
      "Effective window size : 1.001 (s)\n",
      "iaf 11.0\n",
      "NOTE: pick_channels() is a legacy function. New code should use inst.pick(...).\n",
      "Effective window size : 1.001 (s)\n",
      "iaf 10.5\n",
      "NOTE: pick_channels() is a legacy function. New code should use inst.pick(...).\n",
      "Effective window size : 1.001 (s)\n",
      "iaf 9.75\n",
      "NOTE: pick_channels() is a legacy function. New code should use inst.pick(...).\n",
      "Effective window size : 1.001 (s)\n",
      "iaf 9.75\n",
      "NOTE: pick_channels() is a legacy function. New code should use inst.pick(...).\n",
      "Effective window size : 1.001 (s)\n",
      "iaf 9.75\n",
      "NOTE: pick_channels() is a legacy function. New code should use inst.pick(...).\n",
      "Effective window size : 1.001 (s)\n",
      "iaf 10.5\n",
      "NOTE: pick_channels() is a legacy function. New code should use inst.pick(...).\n",
      "Effective window size : 1.001 (s)\n",
      "iaf 9.75\n",
      "NOTE: pick_channels() is a legacy function. New code should use inst.pick(...).\n",
      "Effective window size : 1.001 (s)\n",
      "iaf 9.0\n",
      "NOTE: pick_channels() is a legacy function. New code should use inst.pick(...).\n",
      "Effective window size : 1.001 (s)\n",
      "iaf 10.0\n",
      "NOTE: pick_channels() is a legacy function. New code should use inst.pick(...).\n",
      "Effective window size : 1.001 (s)\n",
      "iaf 10.75\n",
      "NOTE: pick_channels() is a legacy function. New code should use inst.pick(...).\n",
      "Effective window size : 1.001 (s)\n",
      "iaf 10.5\n",
      "NOTE: pick_channels() is a legacy function. New code should use inst.pick(...).\n",
      "Effective window size : 1.001 (s)\n",
      "iaf 11.0\n",
      "NOTE: pick_channels() is a legacy function. New code should use inst.pick(...).\n",
      "Effective window size : 1.001 (s)\n",
      "iaf 8.75\n",
      "NOTE: pick_channels() is a legacy function. New code should use inst.pick(...).\n",
      "Effective window size : 1.001 (s)\n",
      "iaf 10.5\n",
      "NOTE: pick_channels() is a legacy function. New code should use inst.pick(...).\n",
      "Effective window size : 1.001 (s)\n",
      "iaf 10.75\n",
      "NOTE: pick_channels() is a legacy function. New code should use inst.pick(...).\n",
      "Effective window size : 1.001 (s)\n",
      "iaf 10.25\n",
      "NOTE: pick_channels() is a legacy function. New code should use inst.pick(...).\n",
      "Effective window size : 1.001 (s)\n",
      "iaf 10.75\n",
      "NOTE: pick_channels() is a legacy function. New code should use inst.pick(...).\n",
      "Effective window size : 1.001 (s)\n",
      "iaf 8.5\n",
      "NOTE: pick_channels() is a legacy function. New code should use inst.pick(...).\n",
      "Effective window size : 1.001 (s)\n",
      "iaf 11.0\n",
      "NOTE: pick_channels() is a legacy function. New code should use inst.pick(...).\n",
      "Effective window size : 1.001 (s)\n",
      "iaf 10.25\n",
      "NOTE: pick_channels() is a legacy function. New code should use inst.pick(...).\n",
      "Effective window size : 1.001 (s)\n",
      "iaf 11.0\n",
      "NOTE: pick_channels() is a legacy function. New code should use inst.pick(...).\n",
      "Effective window size : 1.001 (s)\n",
      "iaf 10.5\n",
      "NOTE: pick_channels() is a legacy function. New code should use inst.pick(...).\n",
      "Effective window size : 1.001 (s)\n",
      "iaf 9.75\n",
      "NOTE: pick_channels() is a legacy function. New code should use inst.pick(...).\n",
      "Effective window size : 1.001 (s)\n",
      "iaf 9.75\n",
      "NOTE: pick_channels() is a legacy function. New code should use inst.pick(...).\n",
      "Effective window size : 1.001 (s)\n",
      "iaf 9.75\n",
      "NOTE: pick_channels() is a legacy function. New code should use inst.pick(...).\n",
      "Effective window size : 1.001 (s)\n",
      "iaf 10.5\n",
      "NOTE: pick_channels() is a legacy function. New code should use inst.pick(...).\n",
      "Effective window size : 1.001 (s)\n",
      "iaf 10.0\n",
      "NOTE: pick_channels() is a legacy function. New code should use inst.pick(...).\n",
      "Effective window size : 1.001 (s)\n",
      "iaf 10.5\n",
      "NOTE: pick_channels() is a legacy function. New code should use inst.pick(...).\n",
      "Effective window size : 1.001 (s)\n",
      "iaf 10.0\n",
      "NOTE: pick_channels() is a legacy function. New code should use inst.pick(...).\n",
      "Effective window size : 1.001 (s)\n",
      "iaf 10.0\n",
      "NOTE: pick_channels() is a legacy function. New code should use inst.pick(...).\n",
      "Effective window size : 1.001 (s)\n",
      "iaf 9.75\n",
      "NOTE: pick_channels() is a legacy function. New code should use inst.pick(...).\n",
      "Effective window size : 1.001 (s)\n",
      "iaf 10.0\n",
      "NOTE: pick_channels() is a legacy function. New code should use inst.pick(...).\n",
      "Effective window size : 1.001 (s)\n",
      "iaf 10.25\n",
      "NOTE: pick_channels() is a legacy function. New code should use inst.pick(...).\n",
      "Effective window size : 1.001 (s)\n",
      "iaf 9.25\n",
      "NOTE: pick_channels() is a legacy function. New code should use inst.pick(...).\n",
      "Effective window size : 1.001 (s)\n",
      "iaf 9.75\n",
      "NOTE: pick_channels() is a legacy function. New code should use inst.pick(...).\n",
      "Effective window size : 1.001 (s)\n",
      "iaf 9.5\n",
      "NOTE: pick_channels() is a legacy function. New code should use inst.pick(...).\n",
      "Effective window size : 1.001 (s)\n",
      "iaf 10.0\n",
      "NOTE: pick_channels() is a legacy function. New code should use inst.pick(...).\n",
      "Effective window size : 1.001 (s)\n",
      "iaf 10.5\n",
      "NOTE: pick_channels() is a legacy function. New code should use inst.pick(...).\n",
      "Effective window size : 1.001 (s)\n",
      "iaf 10.0\n",
      "NOTE: pick_channels() is a legacy function. New code should use inst.pick(...).\n",
      "Effective window size : 1.001 (s)\n",
      "iaf 10.0\n",
      "NOTE: pick_channels() is a legacy function. New code should use inst.pick(...).\n",
      "Effective window size : 1.001 (s)\n",
      "iaf 9.75\n",
      "NOTE: pick_channels() is a legacy function. New code should use inst.pick(...).\n",
      "Effective window size : 1.001 (s)\n",
      "iaf 10.0\n",
      "NOTE: pick_channels() is a legacy function. New code should use inst.pick(...).\n",
      "Effective window size : 1.001 (s)\n",
      "iaf 9.25\n",
      "NOTE: pick_channels() is a legacy function. New code should use inst.pick(...).\n",
      "Effective window size : 1.001 (s)\n",
      "iaf 9.75\n",
      "NOTE: pick_channels() is a legacy function. New code should use inst.pick(...).\n",
      "Effective window size : 1.001 (s)\n",
      "iaf 9.5\n",
      "NOTE: pick_channels() is a legacy function. New code should use inst.pick(...).\n",
      "Effective window size : 1.001 (s)\n",
      "iaf 9.75\n",
      "NOTE: pick_channels() is a legacy function. New code should use inst.pick(...).\n",
      "Effective window size : 1.001 (s)\n",
      "iaf 10.0\n",
      "NOTE: pick_channels() is a legacy function. New code should use inst.pick(...).\n",
      "Effective window size : 1.001 (s)\n",
      "iaf 10.25\n",
      "NOTE: pick_channels() is a legacy function. New code should use inst.pick(...).\n",
      "Effective window size : 1.001 (s)\n",
      "iaf 10.0\n",
      "NOTE: pick_channels() is a legacy function. New code should use inst.pick(...).\n",
      "Effective window size : 1.001 (s)\n",
      "iaf 10.25\n",
      "NOTE: pick_channels() is a legacy function. New code should use inst.pick(...).\n",
      "Effective window size : 1.001 (s)\n",
      "iaf 10.0\n",
      "NOTE: pick_channels() is a legacy function. New code should use inst.pick(...).\n",
      "Effective window size : 1.001 (s)\n",
      "iaf 9.75\n",
      "NOTE: pick_channels() is a legacy function. New code should use inst.pick(...).\n",
      "Effective window size : 1.001 (s)\n",
      "iaf 10.25\n",
      "NOTE: pick_channels() is a legacy function. New code should use inst.pick(...).\n",
      "Effective window size : 1.001 (s)\n",
      "iaf 10.0\n",
      "NOTE: pick_channels() is a legacy function. New code should use inst.pick(...).\n",
      "Effective window size : 1.001 (s)\n",
      "iaf 10.25\n",
      "NOTE: pick_channels() is a legacy function. New code should use inst.pick(...).\n",
      "Effective window size : 1.001 (s)\n",
      "iaf 10.0\n",
      "NOTE: pick_channels() is a legacy function. New code should use inst.pick(...).\n",
      "Effective window size : 1.001 (s)\n",
      "iaf 10.5\n",
      "NOTE: pick_channels() is a legacy function. New code should use inst.pick(...).\n",
      "Effective window size : 1.001 (s)\n",
      "iaf 10.0\n",
      "NOTE: pick_channels() is a legacy function. New code should use inst.pick(...).\n",
      "Effective window size : 1.001 (s)\n",
      "iaf 10.0\n",
      "NOTE: pick_channels() is a legacy function. New code should use inst.pick(...).\n",
      "Effective window size : 1.001 (s)\n",
      "iaf 9.75\n",
      "NOTE: pick_channels() is a legacy function. New code should use inst.pick(...).\n",
      "Effective window size : 1.001 (s)\n",
      "iaf 10.0\n",
      "NOTE: pick_channels() is a legacy function. New code should use inst.pick(...).\n",
      "Effective window size : 1.001 (s)\n",
      "iaf 9.25\n",
      "NOTE: pick_channels() is a legacy function. New code should use inst.pick(...).\n",
      "Effective window size : 1.001 (s)\n",
      "iaf 9.75\n",
      "NOTE: pick_channels() is a legacy function. New code should use inst.pick(...).\n",
      "Effective window size : 1.001 (s)\n",
      "iaf 9.5\n",
      "NOTE: pick_channels() is a legacy function. New code should use inst.pick(...).\n",
      "Effective window size : 1.001 (s)\n",
      "iaf 9.75\n",
      "NOTE: pick_channels() is a legacy function. New code should use inst.pick(...).\n",
      "Effective window size : 1.001 (s)\n",
      "iaf 10.5\n",
      "NOTE: pick_channels() is a legacy function. New code should use inst.pick(...).\n",
      "Effective window size : 1.001 (s)\n",
      "iaf 9.0\n",
      "NOTE: pick_channels() is a legacy function. New code should use inst.pick(...).\n",
      "Effective window size : 1.001 (s)\n",
      "iaf 10.0\n",
      "NOTE: pick_channels() is a legacy function. New code should use inst.pick(...).\n",
      "Effective window size : 1.001 (s)\n",
      "iaf 10.5\n",
      "NOTE: pick_channels() is a legacy function. New code should use inst.pick(...).\n",
      "Effective window size : 1.001 (s)\n",
      "iaf 10.5\n",
      "NOTE: pick_channels() is a legacy function. New code should use inst.pick(...).\n",
      "Effective window size : 1.001 (s)\n",
      "iaf 11.0\n",
      "NOTE: pick_channels() is a legacy function. New code should use inst.pick(...).\n",
      "Effective window size : 1.001 (s)\n",
      "iaf 8.75\n",
      "NOTE: pick_channels() is a legacy function. New code should use inst.pick(...).\n",
      "Effective window size : 1.001 (s)\n",
      "iaf 10.5\n",
      "NOTE: pick_channels() is a legacy function. New code should use inst.pick(...).\n",
      "Effective window size : 1.001 (s)\n",
      "iaf 10.75\n",
      "NOTE: pick_channels() is a legacy function. New code should use inst.pick(...).\n",
      "Effective window size : 1.001 (s)\n",
      "iaf 10.25\n",
      "NOTE: pick_channels() is a legacy function. New code should use inst.pick(...).\n",
      "Effective window size : 1.001 (s)\n",
      "iaf 10.75\n",
      "NOTE: pick_channels() is a legacy function. New code should use inst.pick(...).\n",
      "Effective window size : 1.001 (s)\n",
      "iaf 8.5\n",
      "NOTE: pick_channels() is a legacy function. New code should use inst.pick(...).\n",
      "Effective window size : 1.001 (s)\n",
      "iaf 11.0\n",
      "NOTE: pick_channels() is a legacy function. New code should use inst.pick(...).\n",
      "Effective window size : 1.001 (s)\n",
      "iaf 10.25\n",
      "NOTE: pick_channels() is a legacy function. New code should use inst.pick(...).\n",
      "Effective window size : 1.001 (s)\n",
      "iaf 11.0\n",
      "NOTE: pick_channels() is a legacy function. New code should use inst.pick(...).\n",
      "Effective window size : 1.001 (s)\n",
      "iaf 10.5\n",
      "NOTE: pick_channels() is a legacy function. New code should use inst.pick(...).\n",
      "Effective window size : 1.001 (s)\n",
      "iaf 9.75\n",
      "NOTE: pick_channels() is a legacy function. New code should use inst.pick(...).\n",
      "Effective window size : 1.001 (s)\n",
      "iaf 9.75\n",
      "NOTE: pick_channels() is a legacy function. New code should use inst.pick(...).\n",
      "Effective window size : 1.001 (s)\n",
      "iaf 9.75\n",
      "NOTE: pick_channels() is a legacy function. New code should use inst.pick(...).\n",
      "Effective window size : 1.001 (s)\n",
      "iaf 10.5\n",
      "NOTE: pick_channels() is a legacy function. New code should use inst.pick(...).\n",
      "Effective window size : 1.001 (s)\n",
      "iaf 9.75\n",
      "NOTE: pick_channels() is a legacy function. New code should use inst.pick(...).\n",
      "Effective window size : 1.001 (s)\n",
      "iaf 9.0\n",
      "NOTE: pick_channels() is a legacy function. New code should use inst.pick(...).\n",
      "Effective window size : 1.001 (s)\n",
      "iaf 10.0\n",
      "NOTE: pick_channels() is a legacy function. New code should use inst.pick(...).\n",
      "Effective window size : 1.001 (s)\n",
      "iaf 10.75\n",
      "NOTE: pick_channels() is a legacy function. New code should use inst.pick(...).\n",
      "Effective window size : 1.001 (s)\n",
      "iaf 10.5\n",
      "NOTE: pick_channels() is a legacy function. New code should use inst.pick(...).\n",
      "Effective window size : 1.001 (s)\n",
      "iaf 11.0\n",
      "NOTE: pick_channels() is a legacy function. New code should use inst.pick(...).\n",
      "Effective window size : 1.001 (s)\n",
      "iaf 8.75\n",
      "NOTE: pick_channels() is a legacy function. New code should use inst.pick(...).\n",
      "Effective window size : 1.001 (s)\n",
      "iaf 10.5\n",
      "NOTE: pick_channels() is a legacy function. New code should use inst.pick(...).\n",
      "Effective window size : 1.001 (s)\n",
      "iaf 10.75\n",
      "NOTE: pick_channels() is a legacy function. New code should use inst.pick(...).\n",
      "Effective window size : 1.001 (s)\n",
      "iaf 10.25\n",
      "NOTE: pick_channels() is a legacy function. New code should use inst.pick(...).\n",
      "Effective window size : 1.001 (s)\n",
      "iaf 10.75\n",
      "NOTE: pick_channels() is a legacy function. New code should use inst.pick(...).\n",
      "Effective window size : 1.001 (s)\n",
      "iaf 8.5\n",
      "NOTE: pick_channels() is a legacy function. New code should use inst.pick(...).\n",
      "Effective window size : 1.001 (s)\n",
      "iaf 11.0\n",
      "NOTE: pick_channels() is a legacy function. New code should use inst.pick(...).\n",
      "Effective window size : 1.001 (s)\n",
      "iaf 10.25\n",
      "NOTE: pick_channels() is a legacy function. New code should use inst.pick(...).\n",
      "Effective window size : 1.001 (s)\n",
      "iaf 11.0\n",
      "NOTE: pick_channels() is a legacy function. New code should use inst.pick(...).\n",
      "Effective window size : 1.001 (s)\n",
      "iaf 10.5\n",
      "NOTE: pick_channels() is a legacy function. New code should use inst.pick(...).\n",
      "Effective window size : 1.001 (s)\n",
      "iaf 9.75\n",
      "NOTE: pick_channels() is a legacy function. New code should use inst.pick(...).\n",
      "Effective window size : 1.001 (s)\n",
      "iaf 9.75\n",
      "NOTE: pick_channels() is a legacy function. New code should use inst.pick(...).\n",
      "Effective window size : 1.001 (s)\n",
      "iaf 9.75\n",
      "NOTE: pick_channels() is a legacy function. New code should use inst.pick(...).\n",
      "Effective window size : 1.001 (s)\n",
      "iaf 10.5\n",
      "NOTE: pick_channels() is a legacy function. New code should use inst.pick(...).\n",
      "Effective window size : 1.001 (s)\n",
      "iaf 10.0\n",
      "NOTE: pick_channels() is a legacy function. New code should use inst.pick(...).\n",
      "Effective window size : 1.001 (s)\n",
      "iaf 10.5\n",
      "NOTE: pick_channels() is a legacy function. New code should use inst.pick(...).\n",
      "Effective window size : 1.001 (s)\n",
      "iaf 10.0\n",
      "NOTE: pick_channels() is a legacy function. New code should use inst.pick(...).\n",
      "Effective window size : 1.001 (s)\n",
      "iaf 10.0\n",
      "NOTE: pick_channels() is a legacy function. New code should use inst.pick(...).\n",
      "Effective window size : 1.001 (s)\n",
      "iaf 9.75\n",
      "NOTE: pick_channels() is a legacy function. New code should use inst.pick(...).\n",
      "Effective window size : 1.001 (s)\n",
      "iaf 10.0\n",
      "NOTE: pick_channels() is a legacy function. New code should use inst.pick(...).\n",
      "Effective window size : 1.001 (s)\n",
      "iaf 10.25\n",
      "NOTE: pick_channels() is a legacy function. New code should use inst.pick(...).\n",
      "Effective window size : 1.001 (s)\n",
      "iaf 9.25\n",
      "NOTE: pick_channels() is a legacy function. New code should use inst.pick(...).\n",
      "Effective window size : 1.001 (s)\n",
      "iaf 9.75\n",
      "NOTE: pick_channels() is a legacy function. New code should use inst.pick(...).\n",
      "Effective window size : 1.001 (s)\n",
      "iaf 9.5\n",
      "NOTE: pick_channels() is a legacy function. New code should use inst.pick(...).\n",
      "Effective window size : 1.001 (s)\n",
      "iaf 10.0\n",
      "NOTE: pick_channels() is a legacy function. New code should use inst.pick(...).\n",
      "Effective window size : 1.001 (s)\n",
      "iaf 10.5\n",
      "NOTE: pick_channels() is a legacy function. New code should use inst.pick(...).\n",
      "Effective window size : 1.001 (s)\n",
      "iaf 10.0\n",
      "NOTE: pick_channels() is a legacy function. New code should use inst.pick(...).\n",
      "Effective window size : 1.001 (s)\n",
      "iaf 10.0\n",
      "NOTE: pick_channels() is a legacy function. New code should use inst.pick(...).\n",
      "Effective window size : 1.001 (s)\n",
      "iaf 9.75\n",
      "NOTE: pick_channels() is a legacy function. New code should use inst.pick(...).\n",
      "Effective window size : 1.001 (s)\n",
      "iaf 10.0\n",
      "NOTE: pick_channels() is a legacy function. New code should use inst.pick(...).\n",
      "Effective window size : 1.001 (s)\n",
      "iaf 9.25\n",
      "NOTE: pick_channels() is a legacy function. New code should use inst.pick(...).\n",
      "Effective window size : 1.001 (s)\n",
      "iaf 9.75\n",
      "NOTE: pick_channels() is a legacy function. New code should use inst.pick(...).\n",
      "Effective window size : 1.001 (s)\n",
      "iaf 9.5\n",
      "NOTE: pick_channels() is a legacy function. New code should use inst.pick(...).\n",
      "Effective window size : 1.001 (s)\n",
      "iaf 9.75\n",
      "NOTE: pick_channels() is a legacy function. New code should use inst.pick(...).\n",
      "Effective window size : 1.001 (s)\n",
      "iaf 10.0\n",
      "NOTE: pick_channels() is a legacy function. New code should use inst.pick(...).\n",
      "Effective window size : 1.001 (s)\n",
      "iaf 10.25\n",
      "NOTE: pick_channels() is a legacy function. New code should use inst.pick(...).\n",
      "Effective window size : 1.001 (s)\n",
      "iaf 10.0\n",
      "NOTE: pick_channels() is a legacy function. New code should use inst.pick(...).\n",
      "Effective window size : 1.001 (s)\n",
      "iaf 10.25\n",
      "NOTE: pick_channels() is a legacy function. New code should use inst.pick(...).\n",
      "Effective window size : 1.001 (s)\n",
      "iaf 10.0\n",
      "NOTE: pick_channels() is a legacy function. New code should use inst.pick(...).\n",
      "Effective window size : 1.001 (s)\n",
      "iaf 9.75\n",
      "NOTE: pick_channels() is a legacy function. New code should use inst.pick(...).\n",
      "Effective window size : 1.001 (s)\n",
      "iaf 10.25\n",
      "NOTE: pick_channels() is a legacy function. New code should use inst.pick(...).\n",
      "Effective window size : 1.001 (s)\n",
      "iaf 10.0\n",
      "NOTE: pick_channels() is a legacy function. New code should use inst.pick(...).\n",
      "Effective window size : 1.001 (s)\n",
      "iaf 10.25\n",
      "NOTE: pick_channels() is a legacy function. New code should use inst.pick(...).\n",
      "Effective window size : 1.001 (s)\n",
      "iaf 10.0\n",
      "NOTE: pick_channels() is a legacy function. New code should use inst.pick(...).\n",
      "Effective window size : 1.001 (s)\n",
      "iaf 10.5\n",
      "NOTE: pick_channels() is a legacy function. New code should use inst.pick(...).\n",
      "Effective window size : 1.001 (s)\n",
      "iaf 10.0\n",
      "NOTE: pick_channels() is a legacy function. New code should use inst.pick(...).\n",
      "Effective window size : 1.001 (s)\n",
      "iaf 10.0\n",
      "NOTE: pick_channels() is a legacy function. New code should use inst.pick(...).\n",
      "Effective window size : 1.001 (s)\n",
      "iaf 9.75\n",
      "NOTE: pick_channels() is a legacy function. New code should use inst.pick(...).\n",
      "Effective window size : 1.001 (s)\n",
      "iaf 10.0\n",
      "NOTE: pick_channels() is a legacy function. New code should use inst.pick(...).\n",
      "Effective window size : 1.001 (s)\n",
      "iaf 9.25\n",
      "NOTE: pick_channels() is a legacy function. New code should use inst.pick(...).\n",
      "Effective window size : 1.001 (s)\n",
      "iaf 9.75\n",
      "NOTE: pick_channels() is a legacy function. New code should use inst.pick(...).\n",
      "Effective window size : 1.001 (s)\n",
      "iaf 9.5\n",
      "NOTE: pick_channels() is a legacy function. New code should use inst.pick(...).\n",
      "Effective window size : 1.001 (s)\n",
      "iaf 9.75\n",
      "NOTE: pick_channels() is a legacy function. New code should use inst.pick(...).\n",
      "Effective window size : 1.001 (s)\n",
      "iaf 10.5\n",
      "NOTE: pick_channels() is a legacy function. New code should use inst.pick(...).\n",
      "Effective window size : 1.001 (s)\n",
      "iaf 9.0\n",
      "NOTE: pick_channels() is a legacy function. New code should use inst.pick(...).\n",
      "Effective window size : 1.001 (s)\n",
      "iaf 10.0\n",
      "NOTE: pick_channels() is a legacy function. New code should use inst.pick(...).\n",
      "Effective window size : 1.001 (s)\n",
      "iaf 10.5\n",
      "NOTE: pick_channels() is a legacy function. New code should use inst.pick(...).\n",
      "Effective window size : 1.001 (s)\n",
      "iaf 10.5\n",
      "NOTE: pick_channels() is a legacy function. New code should use inst.pick(...).\n",
      "Effective window size : 1.001 (s)\n",
      "iaf 11.0\n",
      "NOTE: pick_channels() is a legacy function. New code should use inst.pick(...).\n",
      "Effective window size : 1.001 (s)\n",
      "iaf 8.75\n",
      "NOTE: pick_channels() is a legacy function. New code should use inst.pick(...).\n",
      "Effective window size : 1.001 (s)\n",
      "iaf 10.5\n",
      "NOTE: pick_channels() is a legacy function. New code should use inst.pick(...).\n",
      "Effective window size : 1.001 (s)\n",
      "iaf 10.75\n",
      "NOTE: pick_channels() is a legacy function. New code should use inst.pick(...).\n",
      "Effective window size : 1.001 (s)\n",
      "iaf 10.25\n",
      "NOTE: pick_channels() is a legacy function. New code should use inst.pick(...).\n",
      "Effective window size : 1.001 (s)\n",
      "iaf 10.75\n",
      "NOTE: pick_channels() is a legacy function. New code should use inst.pick(...).\n",
      "Effective window size : 1.001 (s)\n",
      "iaf 8.5\n",
      "NOTE: pick_channels() is a legacy function. New code should use inst.pick(...).\n",
      "Effective window size : 1.001 (s)\n",
      "iaf 11.0\n",
      "NOTE: pick_channels() is a legacy function. New code should use inst.pick(...).\n",
      "Effective window size : 1.001 (s)\n",
      "iaf 10.25\n",
      "NOTE: pick_channels() is a legacy function. New code should use inst.pick(...).\n",
      "Effective window size : 1.001 (s)\n",
      "iaf 11.0\n",
      "NOTE: pick_channels() is a legacy function. New code should use inst.pick(...).\n",
      "Effective window size : 1.001 (s)\n",
      "iaf 10.5\n",
      "NOTE: pick_channels() is a legacy function. New code should use inst.pick(...).\n",
      "Effective window size : 1.001 (s)\n",
      "iaf 9.75\n",
      "NOTE: pick_channels() is a legacy function. New code should use inst.pick(...).\n",
      "Effective window size : 1.001 (s)\n",
      "iaf 9.75\n",
      "NOTE: pick_channels() is a legacy function. New code should use inst.pick(...).\n",
      "Effective window size : 1.001 (s)\n",
      "iaf 9.75\n",
      "NOTE: pick_channels() is a legacy function. New code should use inst.pick(...).\n",
      "Effective window size : 1.001 (s)\n",
      "iaf 10.5\n",
      "NOTE: pick_channels() is a legacy function. New code should use inst.pick(...).\n",
      "Effective window size : 1.001 (s)\n",
      "iaf 9.75\n",
      "NOTE: pick_channels() is a legacy function. New code should use inst.pick(...).\n",
      "Effective window size : 1.001 (s)\n",
      "iaf 9.0\n",
      "NOTE: pick_channels() is a legacy function. New code should use inst.pick(...).\n",
      "Effective window size : 1.001 (s)\n",
      "iaf 10.0\n",
      "NOTE: pick_channels() is a legacy function. New code should use inst.pick(...).\n",
      "Effective window size : 1.001 (s)\n",
      "iaf 10.75\n",
      "NOTE: pick_channels() is a legacy function. New code should use inst.pick(...).\n",
      "Effective window size : 1.001 (s)\n",
      "iaf 10.5\n",
      "NOTE: pick_channels() is a legacy function. New code should use inst.pick(...).\n",
      "Effective window size : 1.001 (s)\n",
      "iaf 11.0\n",
      "NOTE: pick_channels() is a legacy function. New code should use inst.pick(...).\n",
      "Effective window size : 1.001 (s)\n",
      "iaf 8.75\n",
      "NOTE: pick_channels() is a legacy function. New code should use inst.pick(...).\n",
      "Effective window size : 1.001 (s)\n",
      "iaf 10.5\n",
      "NOTE: pick_channels() is a legacy function. New code should use inst.pick(...).\n",
      "Effective window size : 1.001 (s)\n",
      "iaf 10.75\n",
      "NOTE: pick_channels() is a legacy function. New code should use inst.pick(...).\n",
      "Effective window size : 1.001 (s)\n",
      "iaf 10.25\n",
      "NOTE: pick_channels() is a legacy function. New code should use inst.pick(...).\n",
      "Effective window size : 1.001 (s)\n",
      "iaf 10.75\n",
      "NOTE: pick_channels() is a legacy function. New code should use inst.pick(...).\n",
      "Effective window size : 1.001 (s)\n",
      "iaf 8.5\n",
      "NOTE: pick_channels() is a legacy function. New code should use inst.pick(...).\n",
      "Effective window size : 1.001 (s)\n",
      "iaf 11.0\n",
      "NOTE: pick_channels() is a legacy function. New code should use inst.pick(...).\n",
      "Effective window size : 1.001 (s)\n",
      "iaf 10.25\n",
      "NOTE: pick_channels() is a legacy function. New code should use inst.pick(...).\n",
      "Effective window size : 1.001 (s)\n",
      "iaf 11.0\n",
      "NOTE: pick_channels() is a legacy function. New code should use inst.pick(...).\n",
      "Effective window size : 1.001 (s)\n",
      "iaf 10.5\n",
      "NOTE: pick_channels() is a legacy function. New code should use inst.pick(...).\n",
      "Effective window size : 1.001 (s)\n",
      "iaf 9.75\n",
      "NOTE: pick_channels() is a legacy function. New code should use inst.pick(...).\n",
      "Effective window size : 1.001 (s)\n",
      "iaf 9.75\n",
      "NOTE: pick_channels() is a legacy function. New code should use inst.pick(...).\n",
      "Effective window size : 1.001 (s)\n",
      "iaf 9.75\n",
      "NOTE: pick_channels() is a legacy function. New code should use inst.pick(...).\n",
      "Effective window size : 1.001 (s)\n",
      "iaf 10.5\n",
      "NOTE: pick_channels() is a legacy function. New code should use inst.pick(...).\n",
      "Effective window size : 1.001 (s)\n",
      "iaf 10.0\n",
      "NOTE: pick_channels() is a legacy function. New code should use inst.pick(...).\n",
      "Effective window size : 1.001 (s)\n",
      "iaf 10.5\n",
      "NOTE: pick_channels() is a legacy function. New code should use inst.pick(...).\n",
      "Effective window size : 1.001 (s)\n",
      "iaf 10.0\n",
      "NOTE: pick_channels() is a legacy function. New code should use inst.pick(...).\n",
      "Effective window size : 1.001 (s)\n",
      "iaf 10.0\n",
      "NOTE: pick_channels() is a legacy function. New code should use inst.pick(...).\n",
      "Effective window size : 1.001 (s)\n",
      "iaf 9.75\n",
      "NOTE: pick_channels() is a legacy function. New code should use inst.pick(...).\n",
      "Effective window size : 1.001 (s)\n",
      "iaf 10.0\n",
      "NOTE: pick_channels() is a legacy function. New code should use inst.pick(...).\n",
      "Effective window size : 1.001 (s)\n",
      "iaf 10.25\n",
      "NOTE: pick_channels() is a legacy function. New code should use inst.pick(...).\n",
      "Effective window size : 1.001 (s)\n",
      "iaf 9.25\n",
      "NOTE: pick_channels() is a legacy function. New code should use inst.pick(...).\n",
      "Effective window size : 1.001 (s)\n",
      "iaf 9.75\n",
      "NOTE: pick_channels() is a legacy function. New code should use inst.pick(...).\n",
      "Effective window size : 1.001 (s)\n",
      "iaf 9.5\n",
      "NOTE: pick_channels() is a legacy function. New code should use inst.pick(...).\n",
      "Effective window size : 1.001 (s)\n",
      "iaf 10.0\n",
      "NOTE: pick_channels() is a legacy function. New code should use inst.pick(...).\n",
      "Effective window size : 1.001 (s)\n",
      "iaf 10.5\n",
      "NOTE: pick_channels() is a legacy function. New code should use inst.pick(...).\n",
      "Effective window size : 1.001 (s)\n",
      "iaf 10.0\n",
      "NOTE: pick_channels() is a legacy function. New code should use inst.pick(...).\n",
      "Effective window size : 1.001 (s)\n",
      "iaf 10.0\n",
      "NOTE: pick_channels() is a legacy function. New code should use inst.pick(...).\n",
      "Effective window size : 1.001 (s)\n",
      "iaf 9.75\n",
      "NOTE: pick_channels() is a legacy function. New code should use inst.pick(...).\n",
      "Effective window size : 1.001 (s)\n",
      "iaf 10.0\n",
      "NOTE: pick_channels() is a legacy function. New code should use inst.pick(...).\n",
      "Effective window size : 1.001 (s)\n",
      "iaf 9.25\n",
      "NOTE: pick_channels() is a legacy function. New code should use inst.pick(...).\n",
      "Effective window size : 1.001 (s)\n",
      "iaf 9.75\n",
      "NOTE: pick_channels() is a legacy function. New code should use inst.pick(...).\n",
      "Effective window size : 1.001 (s)\n",
      "iaf 9.5\n",
      "NOTE: pick_channels() is a legacy function. New code should use inst.pick(...).\n",
      "Effective window size : 1.001 (s)\n",
      "iaf 9.75\n",
      "NOTE: pick_channels() is a legacy function. New code should use inst.pick(...).\n",
      "Effective window size : 1.001 (s)\n",
      "iaf 10.0\n",
      "NOTE: pick_channels() is a legacy function. New code should use inst.pick(...).\n",
      "Effective window size : 1.001 (s)\n",
      "iaf 10.25\n",
      "NOTE: pick_channels() is a legacy function. New code should use inst.pick(...).\n",
      "Effective window size : 1.001 (s)\n",
      "iaf 10.0\n",
      "NOTE: pick_channels() is a legacy function. New code should use inst.pick(...).\n",
      "Effective window size : 1.001 (s)\n",
      "iaf 10.25\n",
      "NOTE: pick_channels() is a legacy function. New code should use inst.pick(...).\n",
      "Effective window size : 1.001 (s)\n",
      "iaf 10.0\n",
      "NOTE: pick_channels() is a legacy function. New code should use inst.pick(...).\n",
      "Effective window size : 1.001 (s)\n",
      "iaf 9.75\n",
      "NOTE: pick_channels() is a legacy function. New code should use inst.pick(...).\n",
      "Effective window size : 1.001 (s)\n",
      "iaf 10.25\n",
      "NOTE: pick_channels() is a legacy function. New code should use inst.pick(...).\n",
      "Effective window size : 1.001 (s)\n",
      "iaf 10.0\n",
      "NOTE: pick_channels() is a legacy function. New code should use inst.pick(...).\n",
      "Effective window size : 1.001 (s)\n",
      "iaf 10.25\n",
      "NOTE: pick_channels() is a legacy function. New code should use inst.pick(...).\n",
      "Effective window size : 1.001 (s)\n",
      "iaf 10.0\n",
      "NOTE: pick_channels() is a legacy function. New code should use inst.pick(...).\n",
      "Effective window size : 1.001 (s)\n",
      "iaf 10.5\n",
      "NOTE: pick_channels() is a legacy function. New code should use inst.pick(...).\n",
      "Effective window size : 1.001 (s)\n",
      "iaf 10.0\n",
      "NOTE: pick_channels() is a legacy function. New code should use inst.pick(...).\n",
      "Effective window size : 1.001 (s)\n",
      "iaf 10.0\n",
      "NOTE: pick_channels() is a legacy function. New code should use inst.pick(...).\n",
      "Effective window size : 1.001 (s)\n",
      "iaf 9.75\n",
      "NOTE: pick_channels() is a legacy function. New code should use inst.pick(...).\n",
      "Effective window size : 1.001 (s)\n",
      "iaf 10.0\n",
      "NOTE: pick_channels() is a legacy function. New code should use inst.pick(...).\n",
      "Effective window size : 1.001 (s)\n",
      "iaf 9.25\n",
      "NOTE: pick_channels() is a legacy function. New code should use inst.pick(...).\n",
      "Effective window size : 1.001 (s)\n",
      "iaf 9.75\n",
      "NOTE: pick_channels() is a legacy function. New code should use inst.pick(...).\n",
      "Effective window size : 1.001 (s)\n",
      "iaf 9.5\n",
      "NOTE: pick_channels() is a legacy function. New code should use inst.pick(...).\n",
      "Effective window size : 1.001 (s)\n",
      "iaf 9.75\n",
      "NOTE: pick_channels() is a legacy function. New code should use inst.pick(...).\n",
      "Effective window size : 1.001 (s)\n",
      "iaf 10.5\n",
      "NOTE: pick_channels() is a legacy function. New code should use inst.pick(...).\n",
      "Effective window size : 1.001 (s)\n",
      "iaf 9.0\n",
      "NOTE: pick_channels() is a legacy function. New code should use inst.pick(...).\n",
      "Effective window size : 1.001 (s)\n",
      "iaf 10.0\n",
      "NOTE: pick_channels() is a legacy function. New code should use inst.pick(...).\n",
      "Effective window size : 1.001 (s)\n",
      "iaf 10.5\n",
      "NOTE: pick_channels() is a legacy function. New code should use inst.pick(...).\n",
      "Effective window size : 1.001 (s)\n",
      "iaf 10.5\n",
      "NOTE: pick_channels() is a legacy function. New code should use inst.pick(...).\n",
      "Effective window size : 1.001 (s)\n",
      "iaf 11.0\n",
      "NOTE: pick_channels() is a legacy function. New code should use inst.pick(...).\n",
      "Effective window size : 1.001 (s)\n",
      "iaf 8.75\n",
      "NOTE: pick_channels() is a legacy function. New code should use inst.pick(...).\n",
      "Effective window size : 1.001 (s)\n",
      "iaf 10.5\n",
      "NOTE: pick_channels() is a legacy function. New code should use inst.pick(...).\n",
      "Effective window size : 1.001 (s)\n",
      "iaf 10.75\n",
      "NOTE: pick_channels() is a legacy function. New code should use inst.pick(...).\n",
      "Effective window size : 1.001 (s)\n",
      "iaf 10.25\n",
      "NOTE: pick_channels() is a legacy function. New code should use inst.pick(...).\n",
      "Effective window size : 1.001 (s)\n",
      "iaf 10.75\n",
      "NOTE: pick_channels() is a legacy function. New code should use inst.pick(...).\n",
      "Effective window size : 1.001 (s)\n",
      "iaf 8.5\n",
      "NOTE: pick_channels() is a legacy function. New code should use inst.pick(...).\n",
      "Effective window size : 1.001 (s)\n",
      "iaf 11.0\n",
      "NOTE: pick_channels() is a legacy function. New code should use inst.pick(...).\n",
      "Effective window size : 1.001 (s)\n",
      "iaf 10.25\n",
      "NOTE: pick_channels() is a legacy function. New code should use inst.pick(...).\n",
      "Effective window size : 1.001 (s)\n",
      "iaf 11.0\n",
      "NOTE: pick_channels() is a legacy function. New code should use inst.pick(...).\n",
      "Effective window size : 1.001 (s)\n",
      "iaf 10.5\n",
      "NOTE: pick_channels() is a legacy function. New code should use inst.pick(...).\n",
      "Effective window size : 1.001 (s)\n",
      "iaf 9.75\n",
      "NOTE: pick_channels() is a legacy function. New code should use inst.pick(...).\n",
      "Effective window size : 1.001 (s)\n",
      "iaf 9.75\n",
      "NOTE: pick_channels() is a legacy function. New code should use inst.pick(...).\n",
      "Effective window size : 1.001 (s)\n",
      "iaf 9.75\n",
      "NOTE: pick_channels() is a legacy function. New code should use inst.pick(...).\n",
      "Effective window size : 1.001 (s)\n",
      "iaf 10.5\n",
      "NOTE: pick_channels() is a legacy function. New code should use inst.pick(...).\n",
      "Effective window size : 1.001 (s)\n",
      "iaf 9.75\n",
      "NOTE: pick_channels() is a legacy function. New code should use inst.pick(...).\n",
      "Effective window size : 1.001 (s)\n",
      "iaf 9.0\n",
      "NOTE: pick_channels() is a legacy function. New code should use inst.pick(...).\n",
      "Effective window size : 1.001 (s)\n",
      "iaf 10.0\n",
      "NOTE: pick_channels() is a legacy function. New code should use inst.pick(...).\n",
      "Effective window size : 1.001 (s)\n",
      "iaf 10.75\n",
      "NOTE: pick_channels() is a legacy function. New code should use inst.pick(...).\n",
      "Effective window size : 1.001 (s)\n",
      "iaf 10.5\n",
      "NOTE: pick_channels() is a legacy function. New code should use inst.pick(...).\n",
      "Effective window size : 1.001 (s)\n",
      "iaf 11.0\n",
      "NOTE: pick_channels() is a legacy function. New code should use inst.pick(...).\n",
      "Effective window size : 1.001 (s)\n",
      "iaf 8.75\n",
      "NOTE: pick_channels() is a legacy function. New code should use inst.pick(...).\n",
      "Effective window size : 1.001 (s)\n",
      "iaf 10.5\n",
      "NOTE: pick_channels() is a legacy function. New code should use inst.pick(...).\n",
      "Effective window size : 1.001 (s)\n",
      "iaf 10.75\n",
      "NOTE: pick_channels() is a legacy function. New code should use inst.pick(...).\n",
      "Effective window size : 1.001 (s)\n",
      "iaf 10.25\n",
      "NOTE: pick_channels() is a legacy function. New code should use inst.pick(...).\n",
      "Effective window size : 1.001 (s)\n",
      "iaf 10.75\n",
      "NOTE: pick_channels() is a legacy function. New code should use inst.pick(...).\n",
      "Effective window size : 1.001 (s)\n",
      "iaf 8.5\n",
      "NOTE: pick_channels() is a legacy function. New code should use inst.pick(...).\n",
      "Effective window size : 1.001 (s)\n",
      "iaf 11.0\n",
      "NOTE: pick_channels() is a legacy function. New code should use inst.pick(...).\n",
      "Effective window size : 1.001 (s)\n",
      "iaf 10.25\n",
      "NOTE: pick_channels() is a legacy function. New code should use inst.pick(...).\n",
      "Effective window size : 1.001 (s)\n",
      "iaf 11.0\n",
      "NOTE: pick_channels() is a legacy function. New code should use inst.pick(...).\n",
      "Effective window size : 1.001 (s)\n",
      "iaf 10.5\n",
      "NOTE: pick_channels() is a legacy function. New code should use inst.pick(...).\n",
      "Effective window size : 1.001 (s)\n",
      "iaf 9.75\n",
      "NOTE: pick_channels() is a legacy function. New code should use inst.pick(...).\n",
      "Effective window size : 1.001 (s)\n",
      "iaf 9.75\n",
      "NOTE: pick_channels() is a legacy function. New code should use inst.pick(...).\n",
      "Effective window size : 1.001 (s)\n",
      "iaf 9.75\n",
      "NOTE: pick_channels() is a legacy function. New code should use inst.pick(...).\n",
      "Effective window size : 1.001 (s)\n",
      "iaf 10.5\n",
      "NOTE: pick_channels() is a legacy function. New code should use inst.pick(...).\n",
      "Effective window size : 1.001 (s)\n",
      "iaf 10.0\n",
      "NOTE: pick_channels() is a legacy function. New code should use inst.pick(...).\n",
      "Effective window size : 1.001 (s)\n",
      "iaf 10.5\n",
      "NOTE: pick_channels() is a legacy function. New code should use inst.pick(...).\n",
      "Effective window size : 1.001 (s)\n",
      "iaf 10.0\n",
      "NOTE: pick_channels() is a legacy function. New code should use inst.pick(...).\n",
      "Effective window size : 1.001 (s)\n",
      "iaf 10.0\n",
      "NOTE: pick_channels() is a legacy function. New code should use inst.pick(...).\n",
      "Effective window size : 1.001 (s)\n",
      "iaf 9.75\n",
      "NOTE: pick_channels() is a legacy function. New code should use inst.pick(...).\n",
      "Effective window size : 1.001 (s)\n",
      "iaf 10.0\n",
      "NOTE: pick_channels() is a legacy function. New code should use inst.pick(...).\n",
      "Effective window size : 1.001 (s)\n",
      "iaf 10.25\n",
      "NOTE: pick_channels() is a legacy function. New code should use inst.pick(...).\n",
      "Effective window size : 1.001 (s)\n",
      "iaf 9.25\n",
      "NOTE: pick_channels() is a legacy function. New code should use inst.pick(...).\n",
      "Effective window size : 1.001 (s)\n",
      "iaf 9.75\n",
      "NOTE: pick_channels() is a legacy function. New code should use inst.pick(...).\n",
      "Effective window size : 1.001 (s)\n",
      "iaf 9.5\n",
      "NOTE: pick_channels() is a legacy function. New code should use inst.pick(...).\n",
      "Effective window size : 1.001 (s)\n",
      "iaf 10.0\n",
      "NOTE: pick_channels() is a legacy function. New code should use inst.pick(...).\n",
      "Effective window size : 1.001 (s)\n",
      "iaf 10.5\n",
      "NOTE: pick_channels() is a legacy function. New code should use inst.pick(...).\n",
      "Effective window size : 1.001 (s)\n",
      "iaf 10.0\n",
      "NOTE: pick_channels() is a legacy function. New code should use inst.pick(...).\n",
      "Effective window size : 1.001 (s)\n",
      "iaf 10.0\n",
      "NOTE: pick_channels() is a legacy function. New code should use inst.pick(...).\n",
      "Effective window size : 1.001 (s)\n",
      "iaf 9.75\n",
      "NOTE: pick_channels() is a legacy function. New code should use inst.pick(...).\n",
      "Effective window size : 1.001 (s)\n",
      "iaf 10.0\n",
      "NOTE: pick_channels() is a legacy function. New code should use inst.pick(...).\n",
      "Effective window size : 1.001 (s)\n",
      "iaf 9.25\n",
      "NOTE: pick_channels() is a legacy function. New code should use inst.pick(...).\n",
      "Effective window size : 1.001 (s)\n",
      "iaf 9.75\n",
      "NOTE: pick_channels() is a legacy function. New code should use inst.pick(...).\n",
      "Effective window size : 1.001 (s)\n",
      "iaf 9.5\n",
      "NOTE: pick_channels() is a legacy function. New code should use inst.pick(...).\n",
      "Effective window size : 1.001 (s)\n",
      "iaf 9.75\n",
      "NOTE: pick_channels() is a legacy function. New code should use inst.pick(...).\n",
      "Effective window size : 1.001 (s)\n",
      "iaf 10.0\n",
      "NOTE: pick_channels() is a legacy function. New code should use inst.pick(...).\n",
      "Effective window size : 1.001 (s)\n",
      "iaf 10.25\n",
      "NOTE: pick_channels() is a legacy function. New code should use inst.pick(...).\n",
      "Effective window size : 1.001 (s)\n",
      "iaf 10.0\n",
      "NOTE: pick_channels() is a legacy function. New code should use inst.pick(...).\n",
      "Effective window size : 1.001 (s)\n",
      "iaf 10.25\n",
      "NOTE: pick_channels() is a legacy function. New code should use inst.pick(...).\n",
      "Effective window size : 1.001 (s)\n",
      "iaf 10.0\n",
      "NOTE: pick_channels() is a legacy function. New code should use inst.pick(...).\n",
      "Effective window size : 1.001 (s)\n",
      "iaf 9.75\n",
      "NOTE: pick_channels() is a legacy function. New code should use inst.pick(...).\n",
      "Effective window size : 1.001 (s)\n",
      "iaf 10.25\n",
      "NOTE: pick_channels() is a legacy function. New code should use inst.pick(...).\n",
      "Effective window size : 1.001 (s)\n",
      "iaf 10.0\n",
      "NOTE: pick_channels() is a legacy function. New code should use inst.pick(...).\n",
      "Effective window size : 1.001 (s)\n",
      "iaf 10.25\n",
      "NOTE: pick_channels() is a legacy function. New code should use inst.pick(...).\n",
      "Effective window size : 1.001 (s)\n",
      "iaf 10.0\n",
      "NOTE: pick_channels() is a legacy function. New code should use inst.pick(...).\n",
      "Effective window size : 1.001 (s)\n",
      "iaf 10.5\n",
      "NOTE: pick_channels() is a legacy function. New code should use inst.pick(...).\n",
      "Effective window size : 1.001 (s)\n",
      "iaf 10.0\n",
      "NOTE: pick_channels() is a legacy function. New code should use inst.pick(...).\n",
      "Effective window size : 1.001 (s)\n",
      "iaf 10.0\n",
      "NOTE: pick_channels() is a legacy function. New code should use inst.pick(...).\n",
      "Effective window size : 1.001 (s)\n",
      "iaf 9.75\n",
      "NOTE: pick_channels() is a legacy function. New code should use inst.pick(...).\n",
      "Effective window size : 1.001 (s)\n",
      "iaf 10.0\n",
      "NOTE: pick_channels() is a legacy function. New code should use inst.pick(...).\n",
      "Effective window size : 1.001 (s)\n",
      "iaf 9.25\n",
      "NOTE: pick_channels() is a legacy function. New code should use inst.pick(...).\n",
      "Effective window size : 1.001 (s)\n",
      "iaf 9.75\n",
      "NOTE: pick_channels() is a legacy function. New code should use inst.pick(...).\n",
      "Effective window size : 1.001 (s)\n",
      "iaf 9.5\n",
      "NOTE: pick_channels() is a legacy function. New code should use inst.pick(...).\n",
      "Effective window size : 1.001 (s)\n",
      "iaf 9.75\n",
      "NOTE: pick_channels() is a legacy function. New code should use inst.pick(...).\n",
      "Effective window size : 1.001 (s)\n",
      "iaf 10.5\n",
      "NOTE: pick_channels() is a legacy function. New code should use inst.pick(...).\n",
      "Effective window size : 1.001 (s)\n",
      "iaf 9.0\n",
      "NOTE: pick_channels() is a legacy function. New code should use inst.pick(...).\n",
      "Effective window size : 1.001 (s)\n",
      "iaf 10.0\n",
      "NOTE: pick_channels() is a legacy function. New code should use inst.pick(...).\n",
      "Effective window size : 1.001 (s)\n",
      "iaf 10.5\n",
      "NOTE: pick_channels() is a legacy function. New code should use inst.pick(...).\n",
      "Effective window size : 1.001 (s)\n",
      "iaf 10.5\n",
      "NOTE: pick_channels() is a legacy function. New code should use inst.pick(...).\n",
      "Effective window size : 1.001 (s)\n",
      "iaf 11.0\n",
      "NOTE: pick_channels() is a legacy function. New code should use inst.pick(...).\n",
      "Effective window size : 1.001 (s)\n",
      "iaf 8.75\n",
      "NOTE: pick_channels() is a legacy function. New code should use inst.pick(...).\n",
      "Effective window size : 1.001 (s)\n",
      "iaf 10.5\n",
      "NOTE: pick_channels() is a legacy function. New code should use inst.pick(...).\n",
      "Effective window size : 1.001 (s)\n",
      "iaf 10.75\n",
      "NOTE: pick_channels() is a legacy function. New code should use inst.pick(...).\n",
      "Effective window size : 1.001 (s)\n",
      "iaf 10.25\n",
      "NOTE: pick_channels() is a legacy function. New code should use inst.pick(...).\n",
      "Effective window size : 1.001 (s)\n",
      "iaf 10.75\n",
      "NOTE: pick_channels() is a legacy function. New code should use inst.pick(...).\n",
      "Effective window size : 1.001 (s)\n",
      "iaf 8.5\n",
      "NOTE: pick_channels() is a legacy function. New code should use inst.pick(...).\n",
      "Effective window size : 1.001 (s)\n",
      "iaf 11.0\n",
      "NOTE: pick_channels() is a legacy function. New code should use inst.pick(...).\n",
      "Effective window size : 1.001 (s)\n",
      "iaf 10.25\n",
      "NOTE: pick_channels() is a legacy function. New code should use inst.pick(...).\n",
      "Effective window size : 1.001 (s)\n",
      "iaf 11.0\n",
      "NOTE: pick_channels() is a legacy function. New code should use inst.pick(...).\n",
      "Effective window size : 1.001 (s)\n",
      "iaf 10.5\n",
      "NOTE: pick_channels() is a legacy function. New code should use inst.pick(...).\n",
      "Effective window size : 1.001 (s)\n",
      "iaf 9.75\n",
      "NOTE: pick_channels() is a legacy function. New code should use inst.pick(...).\n",
      "Effective window size : 1.001 (s)\n",
      "iaf 9.75\n",
      "NOTE: pick_channels() is a legacy function. New code should use inst.pick(...).\n",
      "Effective window size : 1.001 (s)\n",
      "iaf 9.75\n",
      "NOTE: pick_channels() is a legacy function. New code should use inst.pick(...).\n",
      "Effective window size : 1.001 (s)\n",
      "iaf 10.5\n",
      "NOTE: pick_channels() is a legacy function. New code should use inst.pick(...).\n",
      "Effective window size : 1.001 (s)\n",
      "iaf 9.75\n",
      "NOTE: pick_channels() is a legacy function. New code should use inst.pick(...).\n",
      "Effective window size : 1.001 (s)\n",
      "iaf 9.0\n",
      "NOTE: pick_channels() is a legacy function. New code should use inst.pick(...).\n",
      "Effective window size : 1.001 (s)\n",
      "iaf 10.0\n",
      "NOTE: pick_channels() is a legacy function. New code should use inst.pick(...).\n",
      "Effective window size : 1.001 (s)\n",
      "iaf 10.75\n",
      "NOTE: pick_channels() is a legacy function. New code should use inst.pick(...).\n",
      "Effective window size : 1.001 (s)\n",
      "iaf 10.5\n",
      "NOTE: pick_channels() is a legacy function. New code should use inst.pick(...).\n",
      "Effective window size : 1.001 (s)\n",
      "iaf 11.0\n",
      "NOTE: pick_channels() is a legacy function. New code should use inst.pick(...).\n",
      "Effective window size : 1.001 (s)\n",
      "iaf 8.75\n",
      "NOTE: pick_channels() is a legacy function. New code should use inst.pick(...).\n",
      "Effective window size : 1.001 (s)\n",
      "iaf 10.5\n",
      "NOTE: pick_channels() is a legacy function. New code should use inst.pick(...).\n",
      "Effective window size : 1.001 (s)\n",
      "iaf 10.75\n",
      "NOTE: pick_channels() is a legacy function. New code should use inst.pick(...).\n",
      "Effective window size : 1.001 (s)\n",
      "iaf 10.25\n",
      "NOTE: pick_channels() is a legacy function. New code should use inst.pick(...).\n",
      "Effective window size : 1.001 (s)\n",
      "iaf 10.75\n",
      "NOTE: pick_channels() is a legacy function. New code should use inst.pick(...).\n",
      "Effective window size : 1.001 (s)\n",
      "iaf 8.5\n",
      "NOTE: pick_channels() is a legacy function. New code should use inst.pick(...).\n",
      "Effective window size : 1.001 (s)\n",
      "iaf 11.0\n",
      "NOTE: pick_channels() is a legacy function. New code should use inst.pick(...).\n",
      "Effective window size : 1.001 (s)\n",
      "iaf 10.25\n",
      "NOTE: pick_channels() is a legacy function. New code should use inst.pick(...).\n",
      "Effective window size : 1.001 (s)\n",
      "iaf 11.0\n",
      "NOTE: pick_channels() is a legacy function. New code should use inst.pick(...).\n",
      "Effective window size : 1.001 (s)\n",
      "iaf 10.5\n",
      "NOTE: pick_channels() is a legacy function. New code should use inst.pick(...).\n",
      "Effective window size : 1.001 (s)\n",
      "iaf 9.75\n",
      "NOTE: pick_channels() is a legacy function. New code should use inst.pick(...).\n",
      "Effective window size : 1.001 (s)\n",
      "iaf 9.75\n",
      "NOTE: pick_channels() is a legacy function. New code should use inst.pick(...).\n",
      "Effective window size : 1.001 (s)\n",
      "iaf 9.75\n",
      "NOTE: pick_channels() is a legacy function. New code should use inst.pick(...).\n",
      "Effective window size : 1.001 (s)\n",
      "iaf 10.5\n",
      "NOTE: pick_channels() is a legacy function. New code should use inst.pick(...).\n",
      "Effective window size : 1.001 (s)\n",
      "iaf 10.0\n",
      "NOTE: pick_channels() is a legacy function. New code should use inst.pick(...).\n",
      "Effective window size : 1.001 (s)\n",
      "iaf 10.5\n",
      "NOTE: pick_channels() is a legacy function. New code should use inst.pick(...).\n",
      "Effective window size : 1.001 (s)\n",
      "iaf 10.0\n",
      "NOTE: pick_channels() is a legacy function. New code should use inst.pick(...).\n",
      "Effective window size : 1.001 (s)\n",
      "iaf 10.0\n",
      "NOTE: pick_channels() is a legacy function. New code should use inst.pick(...).\n",
      "Effective window size : 1.001 (s)\n",
      "iaf 9.75\n",
      "NOTE: pick_channels() is a legacy function. New code should use inst.pick(...).\n",
      "Effective window size : 1.001 (s)\n",
      "iaf 10.0\n",
      "NOTE: pick_channels() is a legacy function. New code should use inst.pick(...).\n",
      "Effective window size : 1.001 (s)\n",
      "iaf 10.25\n",
      "NOTE: pick_channels() is a legacy function. New code should use inst.pick(...).\n",
      "Effective window size : 1.001 (s)\n",
      "iaf 9.25\n",
      "NOTE: pick_channels() is a legacy function. New code should use inst.pick(...).\n",
      "Effective window size : 1.001 (s)\n",
      "iaf 9.75\n",
      "NOTE: pick_channels() is a legacy function. New code should use inst.pick(...).\n",
      "Effective window size : 1.001 (s)\n",
      "iaf 9.5\n",
      "NOTE: pick_channels() is a legacy function. New code should use inst.pick(...).\n",
      "Effective window size : 1.001 (s)\n",
      "iaf 10.0\n",
      "NOTE: pick_channels() is a legacy function. New code should use inst.pick(...).\n",
      "Effective window size : 1.001 (s)\n",
      "iaf 10.5\n",
      "NOTE: pick_channels() is a legacy function. New code should use inst.pick(...).\n",
      "Effective window size : 1.001 (s)\n",
      "iaf 10.0\n",
      "NOTE: pick_channels() is a legacy function. New code should use inst.pick(...).\n",
      "Effective window size : 1.001 (s)\n",
      "iaf 10.0\n",
      "NOTE: pick_channels() is a legacy function. New code should use inst.pick(...).\n",
      "Effective window size : 1.001 (s)\n",
      "iaf 9.75\n",
      "NOTE: pick_channels() is a legacy function. New code should use inst.pick(...).\n",
      "Effective window size : 1.001 (s)\n",
      "iaf 10.0\n",
      "NOTE: pick_channels() is a legacy function. New code should use inst.pick(...).\n",
      "Effective window size : 1.001 (s)\n",
      "iaf 9.25\n",
      "NOTE: pick_channels() is a legacy function. New code should use inst.pick(...).\n",
      "Effective window size : 1.001 (s)\n",
      "iaf 9.75\n",
      "NOTE: pick_channels() is a legacy function. New code should use inst.pick(...).\n",
      "Effective window size : 1.001 (s)\n",
      "iaf 9.5\n",
      "NOTE: pick_channels() is a legacy function. New code should use inst.pick(...).\n",
      "Effective window size : 1.001 (s)\n",
      "iaf 9.75\n",
      "NOTE: pick_channels() is a legacy function. New code should use inst.pick(...).\n",
      "Effective window size : 1.001 (s)\n",
      "iaf 10.0\n",
      "NOTE: pick_channels() is a legacy function. New code should use inst.pick(...).\n",
      "Effective window size : 1.001 (s)\n",
      "iaf 10.25\n",
      "NOTE: pick_channels() is a legacy function. New code should use inst.pick(...).\n",
      "Effective window size : 1.001 (s)\n",
      "iaf 10.0\n",
      "NOTE: pick_channels() is a legacy function. New code should use inst.pick(...).\n",
      "Effective window size : 1.001 (s)\n",
      "iaf 10.25\n",
      "NOTE: pick_channels() is a legacy function. New code should use inst.pick(...).\n",
      "Effective window size : 1.001 (s)\n",
      "iaf 10.0\n",
      "NOTE: pick_channels() is a legacy function. New code should use inst.pick(...).\n",
      "Effective window size : 1.001 (s)\n",
      "iaf 9.75\n",
      "NOTE: pick_channels() is a legacy function. New code should use inst.pick(...).\n",
      "Effective window size : 1.001 (s)\n",
      "iaf 10.25\n",
      "NOTE: pick_channels() is a legacy function. New code should use inst.pick(...).\n",
      "Effective window size : 1.001 (s)\n",
      "iaf 10.0\n",
      "NOTE: pick_channels() is a legacy function. New code should use inst.pick(...).\n",
      "Effective window size : 1.001 (s)\n",
      "iaf 10.25\n",
      "NOTE: pick_channels() is a legacy function. New code should use inst.pick(...).\n",
      "Effective window size : 1.001 (s)\n",
      "iaf 10.0\n",
      "NOTE: pick_channels() is a legacy function. New code should use inst.pick(...).\n",
      "Effective window size : 1.001 (s)\n",
      "iaf 10.5\n",
      "NOTE: pick_channels() is a legacy function. New code should use inst.pick(...).\n",
      "Effective window size : 1.001 (s)\n",
      "iaf 10.0\n",
      "NOTE: pick_channels() is a legacy function. New code should use inst.pick(...).\n",
      "Effective window size : 1.001 (s)\n",
      "iaf 10.0\n",
      "NOTE: pick_channels() is a legacy function. New code should use inst.pick(...).\n",
      "Effective window size : 1.001 (s)\n",
      "iaf 9.75\n",
      "NOTE: pick_channels() is a legacy function. New code should use inst.pick(...).\n",
      "Effective window size : 1.001 (s)\n",
      "iaf 10.0\n",
      "NOTE: pick_channels() is a legacy function. New code should use inst.pick(...).\n",
      "Effective window size : 1.001 (s)\n",
      "iaf 9.25\n",
      "NOTE: pick_channels() is a legacy function. New code should use inst.pick(...).\n",
      "Effective window size : 1.001 (s)\n",
      "iaf 9.75\n",
      "NOTE: pick_channels() is a legacy function. New code should use inst.pick(...).\n",
      "Effective window size : 1.001 (s)\n",
      "iaf 9.5\n",
      "NOTE: pick_channels() is a legacy function. New code should use inst.pick(...).\n",
      "Effective window size : 1.001 (s)\n",
      "iaf 9.75\n",
      "NOTE: pick_channels() is a legacy function. New code should use inst.pick(...).\n",
      "Effective window size : 1.001 (s)\n",
      "iaf 10.5\n",
      "NOTE: pick_channels() is a legacy function. New code should use inst.pick(...).\n",
      "Effective window size : 1.001 (s)\n",
      "iaf 9.0\n",
      "NOTE: pick_channels() is a legacy function. New code should use inst.pick(...).\n",
      "Effective window size : 1.001 (s)\n",
      "iaf 10.0\n",
      "NOTE: pick_channels() is a legacy function. New code should use inst.pick(...).\n",
      "Effective window size : 1.001 (s)\n",
      "iaf 10.5\n",
      "NOTE: pick_channels() is a legacy function. New code should use inst.pick(...).\n",
      "Effective window size : 1.001 (s)\n",
      "iaf 10.5\n",
      "NOTE: pick_channels() is a legacy function. New code should use inst.pick(...).\n",
      "Effective window size : 1.001 (s)\n",
      "iaf 11.0\n",
      "NOTE: pick_channels() is a legacy function. New code should use inst.pick(...).\n",
      "Effective window size : 1.001 (s)\n",
      "iaf 8.75\n",
      "NOTE: pick_channels() is a legacy function. New code should use inst.pick(...).\n",
      "Effective window size : 1.001 (s)\n",
      "iaf 10.5\n",
      "NOTE: pick_channels() is a legacy function. New code should use inst.pick(...).\n",
      "Effective window size : 1.001 (s)\n",
      "iaf 10.75\n",
      "NOTE: pick_channels() is a legacy function. New code should use inst.pick(...).\n",
      "Effective window size : 1.001 (s)\n",
      "iaf 10.25\n",
      "NOTE: pick_channels() is a legacy function. New code should use inst.pick(...).\n",
      "Effective window size : 1.001 (s)\n",
      "iaf 10.75\n",
      "NOTE: pick_channels() is a legacy function. New code should use inst.pick(...).\n",
      "Effective window size : 1.001 (s)\n",
      "iaf 8.5\n",
      "NOTE: pick_channels() is a legacy function. New code should use inst.pick(...).\n",
      "Effective window size : 1.001 (s)\n",
      "iaf 11.0\n",
      "NOTE: pick_channels() is a legacy function. New code should use inst.pick(...).\n",
      "Effective window size : 1.001 (s)\n",
      "iaf 10.25\n",
      "NOTE: pick_channels() is a legacy function. New code should use inst.pick(...).\n",
      "Effective window size : 1.001 (s)\n",
      "iaf 11.0\n",
      "NOTE: pick_channels() is a legacy function. New code should use inst.pick(...).\n",
      "Effective window size : 1.001 (s)\n",
      "iaf 10.5\n",
      "NOTE: pick_channels() is a legacy function. New code should use inst.pick(...).\n",
      "Effective window size : 1.001 (s)\n",
      "iaf 9.75\n",
      "NOTE: pick_channels() is a legacy function. New code should use inst.pick(...).\n",
      "Effective window size : 1.001 (s)\n",
      "iaf 9.75\n",
      "NOTE: pick_channels() is a legacy function. New code should use inst.pick(...).\n",
      "Effective window size : 1.001 (s)\n",
      "iaf 9.75\n",
      "NOTE: pick_channels() is a legacy function. New code should use inst.pick(...).\n",
      "Effective window size : 1.001 (s)\n",
      "iaf 10.5\n",
      "NOTE: pick_channels() is a legacy function. New code should use inst.pick(...).\n",
      "Effective window size : 1.001 (s)\n",
      "iaf 9.75\n",
      "NOTE: pick_channels() is a legacy function. New code should use inst.pick(...).\n",
      "Effective window size : 1.001 (s)\n",
      "iaf 9.0\n",
      "NOTE: pick_channels() is a legacy function. New code should use inst.pick(...).\n",
      "Effective window size : 1.001 (s)\n",
      "iaf 10.0\n",
      "NOTE: pick_channels() is a legacy function. New code should use inst.pick(...).\n",
      "Effective window size : 1.001 (s)\n",
      "iaf 10.75\n",
      "NOTE: pick_channels() is a legacy function. New code should use inst.pick(...).\n",
      "Effective window size : 1.001 (s)\n",
      "iaf 10.5\n",
      "NOTE: pick_channels() is a legacy function. New code should use inst.pick(...).\n",
      "Effective window size : 1.001 (s)\n",
      "iaf 11.0\n",
      "NOTE: pick_channels() is a legacy function. New code should use inst.pick(...).\n",
      "Effective window size : 1.001 (s)\n",
      "iaf 8.75\n",
      "NOTE: pick_channels() is a legacy function. New code should use inst.pick(...).\n",
      "Effective window size : 1.001 (s)\n",
      "iaf 10.5\n",
      "NOTE: pick_channels() is a legacy function. New code should use inst.pick(...).\n",
      "Effective window size : 1.001 (s)\n",
      "iaf 10.75\n",
      "NOTE: pick_channels() is a legacy function. New code should use inst.pick(...).\n",
      "Effective window size : 1.001 (s)\n",
      "iaf 10.25\n",
      "NOTE: pick_channels() is a legacy function. New code should use inst.pick(...).\n",
      "Effective window size : 1.001 (s)\n",
      "iaf 10.75\n",
      "NOTE: pick_channels() is a legacy function. New code should use inst.pick(...).\n",
      "Effective window size : 1.001 (s)\n",
      "iaf 8.5\n",
      "NOTE: pick_channels() is a legacy function. New code should use inst.pick(...).\n",
      "Effective window size : 1.001 (s)\n",
      "iaf 11.0\n",
      "NOTE: pick_channels() is a legacy function. New code should use inst.pick(...).\n",
      "Effective window size : 1.001 (s)\n",
      "iaf 10.25\n",
      "NOTE: pick_channels() is a legacy function. New code should use inst.pick(...).\n",
      "Effective window size : 1.001 (s)\n",
      "iaf 11.0\n",
      "NOTE: pick_channels() is a legacy function. New code should use inst.pick(...).\n",
      "Effective window size : 1.001 (s)\n",
      "iaf 10.5\n",
      "NOTE: pick_channels() is a legacy function. New code should use inst.pick(...).\n",
      "Effective window size : 1.001 (s)\n",
      "iaf 9.75\n",
      "NOTE: pick_channels() is a legacy function. New code should use inst.pick(...).\n",
      "Effective window size : 1.001 (s)\n",
      "iaf 9.75\n",
      "NOTE: pick_channels() is a legacy function. New code should use inst.pick(...).\n",
      "Effective window size : 1.001 (s)\n",
      "iaf 9.75\n",
      "NOTE: pick_channels() is a legacy function. New code should use inst.pick(...).\n",
      "Effective window size : 1.001 (s)\n",
      "iaf 10.5\n",
      "NOTE: pick_channels() is a legacy function. New code should use inst.pick(...).\n",
      "Effective window size : 1.001 (s)\n",
      "iaf 10.0\n",
      "NOTE: pick_channels() is a legacy function. New code should use inst.pick(...).\n",
      "Effective window size : 1.001 (s)\n",
      "iaf 10.5\n",
      "NOTE: pick_channels() is a legacy function. New code should use inst.pick(...).\n",
      "Effective window size : 1.001 (s)\n",
      "iaf 10.0\n",
      "NOTE: pick_channels() is a legacy function. New code should use inst.pick(...).\n",
      "Effective window size : 1.001 (s)\n",
      "iaf 10.0\n",
      "NOTE: pick_channels() is a legacy function. New code should use inst.pick(...).\n",
      "Effective window size : 1.001 (s)\n",
      "iaf 9.75\n",
      "NOTE: pick_channels() is a legacy function. New code should use inst.pick(...).\n",
      "Effective window size : 1.001 (s)\n",
      "iaf 10.0\n",
      "NOTE: pick_channels() is a legacy function. New code should use inst.pick(...).\n",
      "Effective window size : 1.001 (s)\n",
      "iaf 10.25\n",
      "NOTE: pick_channels() is a legacy function. New code should use inst.pick(...).\n",
      "Effective window size : 1.001 (s)\n",
      "iaf 9.25\n",
      "NOTE: pick_channels() is a legacy function. New code should use inst.pick(...).\n",
      "Effective window size : 1.001 (s)\n",
      "iaf 9.75\n",
      "NOTE: pick_channels() is a legacy function. New code should use inst.pick(...).\n",
      "Effective window size : 1.001 (s)\n",
      "iaf 9.5\n",
      "NOTE: pick_channels() is a legacy function. New code should use inst.pick(...).\n",
      "Effective window size : 1.001 (s)\n",
      "iaf 10.0\n",
      "NOTE: pick_channels() is a legacy function. New code should use inst.pick(...).\n",
      "Effective window size : 1.001 (s)\n",
      "iaf 10.5\n",
      "NOTE: pick_channels() is a legacy function. New code should use inst.pick(...).\n",
      "Effective window size : 1.001 (s)\n",
      "iaf 10.0\n",
      "NOTE: pick_channels() is a legacy function. New code should use inst.pick(...).\n",
      "Effective window size : 1.001 (s)\n",
      "iaf 10.0\n",
      "NOTE: pick_channels() is a legacy function. New code should use inst.pick(...).\n",
      "Effective window size : 1.001 (s)\n",
      "iaf 9.75\n",
      "NOTE: pick_channels() is a legacy function. New code should use inst.pick(...).\n",
      "Effective window size : 1.001 (s)\n",
      "iaf 10.0\n",
      "NOTE: pick_channels() is a legacy function. New code should use inst.pick(...).\n",
      "Effective window size : 1.001 (s)\n",
      "iaf 9.25\n",
      "NOTE: pick_channels() is a legacy function. New code should use inst.pick(...).\n",
      "Effective window size : 1.001 (s)\n",
      "iaf 9.75\n",
      "NOTE: pick_channels() is a legacy function. New code should use inst.pick(...).\n",
      "Effective window size : 1.001 (s)\n",
      "iaf 9.5\n",
      "NOTE: pick_channels() is a legacy function. New code should use inst.pick(...).\n",
      "Effective window size : 1.001 (s)\n",
      "iaf 9.75\n",
      "NOTE: pick_channels() is a legacy function. New code should use inst.pick(...).\n",
      "Effective window size : 1.001 (s)\n",
      "iaf 10.0\n",
      "NOTE: pick_channels() is a legacy function. New code should use inst.pick(...).\n",
      "Effective window size : 1.001 (s)\n",
      "iaf 10.25\n",
      "NOTE: pick_channels() is a legacy function. New code should use inst.pick(...).\n",
      "Effective window size : 1.001 (s)\n",
      "iaf 10.0\n",
      "NOTE: pick_channels() is a legacy function. New code should use inst.pick(...).\n",
      "Effective window size : 1.001 (s)\n",
      "iaf 10.25\n",
      "NOTE: pick_channels() is a legacy function. New code should use inst.pick(...).\n",
      "Effective window size : 1.001 (s)\n",
      "iaf 10.0\n",
      "NOTE: pick_channels() is a legacy function. New code should use inst.pick(...).\n",
      "Effective window size : 1.001 (s)\n",
      "iaf 9.75\n",
      "NOTE: pick_channels() is a legacy function. New code should use inst.pick(...).\n",
      "Effective window size : 1.001 (s)\n",
      "iaf 10.25\n",
      "NOTE: pick_channels() is a legacy function. New code should use inst.pick(...).\n",
      "Effective window size : 1.001 (s)\n",
      "iaf 10.0\n",
      "NOTE: pick_channels() is a legacy function. New code should use inst.pick(...).\n",
      "Effective window size : 1.001 (s)\n",
      "iaf 10.25\n",
      "NOTE: pick_channels() is a legacy function. New code should use inst.pick(...).\n",
      "Effective window size : 1.001 (s)\n",
      "iaf 10.0\n",
      "NOTE: pick_channels() is a legacy function. New code should use inst.pick(...).\n",
      "Effective window size : 1.001 (s)\n",
      "iaf 10.5\n",
      "NOTE: pick_channels() is a legacy function. New code should use inst.pick(...).\n",
      "Effective window size : 1.001 (s)\n",
      "iaf 10.0\n",
      "NOTE: pick_channels() is a legacy function. New code should use inst.pick(...).\n",
      "Effective window size : 1.001 (s)\n",
      "iaf 10.0\n",
      "NOTE: pick_channels() is a legacy function. New code should use inst.pick(...).\n",
      "Effective window size : 1.001 (s)\n",
      "iaf 9.75\n",
      "NOTE: pick_channels() is a legacy function. New code should use inst.pick(...).\n",
      "Effective window size : 1.001 (s)\n",
      "iaf 10.0\n",
      "NOTE: pick_channels() is a legacy function. New code should use inst.pick(...).\n",
      "Effective window size : 1.001 (s)\n",
      "iaf 9.25\n",
      "NOTE: pick_channels() is a legacy function. New code should use inst.pick(...).\n",
      "Effective window size : 1.001 (s)\n",
      "iaf 9.75\n",
      "NOTE: pick_channels() is a legacy function. New code should use inst.pick(...).\n",
      "Effective window size : 1.001 (s)\n",
      "iaf 9.5\n",
      "NOTE: pick_channels() is a legacy function. New code should use inst.pick(...).\n",
      "Effective window size : 1.001 (s)\n",
      "iaf 9.75\n",
      "NOTE: pick_channels() is a legacy function. New code should use inst.pick(...).\n",
      "Effective window size : 1.001 (s)\n",
      "iaf 10.5\n",
      "NOTE: pick_channels() is a legacy function. New code should use inst.pick(...).\n",
      "Effective window size : 1.001 (s)\n",
      "iaf 9.0\n",
      "NOTE: pick_channels() is a legacy function. New code should use inst.pick(...).\n",
      "Effective window size : 1.001 (s)\n",
      "iaf 10.0\n",
      "NOTE: pick_channels() is a legacy function. New code should use inst.pick(...).\n",
      "Effective window size : 1.001 (s)\n",
      "iaf 10.5\n",
      "NOTE: pick_channels() is a legacy function. New code should use inst.pick(...).\n",
      "Effective window size : 1.001 (s)\n",
      "iaf 10.5\n",
      "NOTE: pick_channels() is a legacy function. New code should use inst.pick(...).\n",
      "Effective window size : 1.001 (s)\n",
      "iaf 11.0\n",
      "NOTE: pick_channels() is a legacy function. New code should use inst.pick(...).\n",
      "Effective window size : 1.001 (s)\n",
      "iaf 8.75\n",
      "NOTE: pick_channels() is a legacy function. New code should use inst.pick(...).\n",
      "Effective window size : 1.001 (s)\n",
      "iaf 10.5\n",
      "NOTE: pick_channels() is a legacy function. New code should use inst.pick(...).\n",
      "Effective window size : 1.001 (s)\n",
      "iaf 10.75\n",
      "NOTE: pick_channels() is a legacy function. New code should use inst.pick(...).\n",
      "Effective window size : 1.001 (s)\n",
      "iaf 10.25\n",
      "NOTE: pick_channels() is a legacy function. New code should use inst.pick(...).\n",
      "Effective window size : 1.001 (s)\n",
      "iaf 10.75\n",
      "NOTE: pick_channels() is a legacy function. New code should use inst.pick(...).\n",
      "Effective window size : 1.001 (s)\n",
      "iaf 8.5\n",
      "NOTE: pick_channels() is a legacy function. New code should use inst.pick(...).\n",
      "Effective window size : 1.001 (s)\n",
      "iaf 11.0\n",
      "NOTE: pick_channels() is a legacy function. New code should use inst.pick(...).\n",
      "Effective window size : 1.001 (s)\n",
      "iaf 10.25\n",
      "NOTE: pick_channels() is a legacy function. New code should use inst.pick(...).\n",
      "Effective window size : 1.001 (s)\n",
      "iaf 11.0\n",
      "NOTE: pick_channels() is a legacy function. New code should use inst.pick(...).\n",
      "Effective window size : 1.001 (s)\n",
      "iaf 10.5\n",
      "NOTE: pick_channels() is a legacy function. New code should use inst.pick(...).\n",
      "Effective window size : 1.001 (s)\n",
      "iaf 9.75\n",
      "NOTE: pick_channels() is a legacy function. New code should use inst.pick(...).\n",
      "Effective window size : 1.001 (s)\n",
      "iaf 9.75\n",
      "NOTE: pick_channels() is a legacy function. New code should use inst.pick(...).\n",
      "Effective window size : 1.001 (s)\n",
      "iaf 9.75\n",
      "NOTE: pick_channels() is a legacy function. New code should use inst.pick(...).\n",
      "Effective window size : 1.001 (s)\n",
      "iaf 10.5\n",
      "NOTE: pick_channels() is a legacy function. New code should use inst.pick(...).\n",
      "Effective window size : 1.001 (s)\n",
      "iaf 9.75\n",
      "NOTE: pick_channels() is a legacy function. New code should use inst.pick(...).\n",
      "Effective window size : 1.001 (s)\n",
      "iaf 9.0\n",
      "NOTE: pick_channels() is a legacy function. New code should use inst.pick(...).\n",
      "Effective window size : 1.001 (s)\n",
      "iaf 10.0\n",
      "NOTE: pick_channels() is a legacy function. New code should use inst.pick(...).\n",
      "Effective window size : 1.001 (s)\n",
      "iaf 10.75\n",
      "NOTE: pick_channels() is a legacy function. New code should use inst.pick(...).\n",
      "Effective window size : 1.001 (s)\n",
      "iaf 10.5\n",
      "NOTE: pick_channels() is a legacy function. New code should use inst.pick(...).\n",
      "Effective window size : 1.001 (s)\n",
      "iaf 11.0\n",
      "NOTE: pick_channels() is a legacy function. New code should use inst.pick(...).\n",
      "Effective window size : 1.001 (s)\n",
      "iaf 8.75\n",
      "NOTE: pick_channels() is a legacy function. New code should use inst.pick(...).\n",
      "Effective window size : 1.001 (s)\n",
      "iaf 10.5\n",
      "NOTE: pick_channels() is a legacy function. New code should use inst.pick(...).\n",
      "Effective window size : 1.001 (s)\n",
      "iaf 10.75\n",
      "NOTE: pick_channels() is a legacy function. New code should use inst.pick(...).\n",
      "Effective window size : 1.001 (s)\n",
      "iaf 10.25\n",
      "NOTE: pick_channels() is a legacy function. New code should use inst.pick(...).\n",
      "Effective window size : 1.001 (s)\n",
      "iaf 10.75\n",
      "NOTE: pick_channels() is a legacy function. New code should use inst.pick(...).\n",
      "Effective window size : 1.001 (s)\n",
      "iaf 8.5\n",
      "NOTE: pick_channels() is a legacy function. New code should use inst.pick(...).\n",
      "Effective window size : 1.001 (s)\n",
      "iaf 11.0\n",
      "NOTE: pick_channels() is a legacy function. New code should use inst.pick(...).\n",
      "Effective window size : 1.001 (s)\n",
      "iaf 10.25\n",
      "NOTE: pick_channels() is a legacy function. New code should use inst.pick(...).\n",
      "Effective window size : 1.001 (s)\n",
      "iaf 11.0\n",
      "NOTE: pick_channels() is a legacy function. New code should use inst.pick(...).\n",
      "Effective window size : 1.001 (s)\n",
      "iaf 10.5\n",
      "NOTE: pick_channels() is a legacy function. New code should use inst.pick(...).\n",
      "Effective window size : 1.001 (s)\n",
      "iaf 9.75\n",
      "NOTE: pick_channels() is a legacy function. New code should use inst.pick(...).\n",
      "Effective window size : 1.001 (s)\n",
      "iaf 9.75\n",
      "NOTE: pick_channels() is a legacy function. New code should use inst.pick(...).\n",
      "Effective window size : 1.001 (s)\n",
      "iaf 9.75\n",
      "NOTE: pick_channels() is a legacy function. New code should use inst.pick(...).\n",
      "Effective window size : 1.001 (s)\n",
      "iaf 10.5\n",
      "NOTE: pick_channels() is a legacy function. New code should use inst.pick(...).\n",
      "Effective window size : 1.001 (s)\n",
      "iaf 10.0\n",
      "NOTE: pick_channels() is a legacy function. New code should use inst.pick(...).\n",
      "Effective window size : 1.001 (s)\n",
      "iaf 10.5\n",
      "NOTE: pick_channels() is a legacy function. New code should use inst.pick(...).\n",
      "Effective window size : 1.001 (s)\n",
      "iaf 10.0\n",
      "NOTE: pick_channels() is a legacy function. New code should use inst.pick(...).\n",
      "Effective window size : 1.001 (s)\n",
      "iaf 10.0\n",
      "NOTE: pick_channels() is a legacy function. New code should use inst.pick(...).\n",
      "Effective window size : 1.001 (s)\n",
      "iaf 9.75\n",
      "NOTE: pick_channels() is a legacy function. New code should use inst.pick(...).\n",
      "Effective window size : 1.001 (s)\n",
      "iaf 10.0\n",
      "NOTE: pick_channels() is a legacy function. New code should use inst.pick(...).\n",
      "Effective window size : 1.001 (s)\n",
      "iaf 10.25\n",
      "NOTE: pick_channels() is a legacy function. New code should use inst.pick(...).\n",
      "Effective window size : 1.001 (s)\n",
      "iaf 9.25\n",
      "NOTE: pick_channels() is a legacy function. New code should use inst.pick(...).\n",
      "Effective window size : 1.001 (s)\n",
      "iaf 9.75\n",
      "NOTE: pick_channels() is a legacy function. New code should use inst.pick(...).\n",
      "Effective window size : 1.001 (s)\n",
      "iaf 9.5\n",
      "NOTE: pick_channels() is a legacy function. New code should use inst.pick(...).\n",
      "Effective window size : 1.001 (s)\n",
      "iaf 10.0\n",
      "NOTE: pick_channels() is a legacy function. New code should use inst.pick(...).\n",
      "Effective window size : 1.001 (s)\n",
      "iaf 10.5\n",
      "NOTE: pick_channels() is a legacy function. New code should use inst.pick(...).\n",
      "Effective window size : 1.001 (s)\n",
      "iaf 10.0\n",
      "NOTE: pick_channels() is a legacy function. New code should use inst.pick(...).\n",
      "Effective window size : 1.001 (s)\n",
      "iaf 10.0\n",
      "NOTE: pick_channels() is a legacy function. New code should use inst.pick(...).\n",
      "Effective window size : 1.001 (s)\n",
      "iaf 9.75\n",
      "NOTE: pick_channels() is a legacy function. New code should use inst.pick(...).\n",
      "Effective window size : 1.001 (s)\n",
      "iaf 10.0\n",
      "NOTE: pick_channels() is a legacy function. New code should use inst.pick(...).\n",
      "Effective window size : 1.001 (s)\n",
      "iaf 9.25\n",
      "NOTE: pick_channels() is a legacy function. New code should use inst.pick(...).\n",
      "Effective window size : 1.001 (s)\n",
      "iaf 9.75\n",
      "NOTE: pick_channels() is a legacy function. New code should use inst.pick(...).\n",
      "Effective window size : 1.001 (s)\n",
      "iaf 9.5\n",
      "NOTE: pick_channels() is a legacy function. New code should use inst.pick(...).\n",
      "Effective window size : 1.001 (s)\n",
      "iaf 9.75\n",
      "NOTE: pick_channels() is a legacy function. New code should use inst.pick(...).\n",
      "Effective window size : 1.001 (s)\n",
      "iaf 10.0\n",
      "NOTE: pick_channels() is a legacy function. New code should use inst.pick(...).\n",
      "Effective window size : 1.001 (s)\n",
      "iaf 10.25\n",
      "NOTE: pick_channels() is a legacy function. New code should use inst.pick(...).\n",
      "Effective window size : 1.001 (s)\n",
      "iaf 10.0\n",
      "NOTE: pick_channels() is a legacy function. New code should use inst.pick(...).\n",
      "Effective window size : 1.001 (s)\n",
      "iaf 10.25\n",
      "NOTE: pick_channels() is a legacy function. New code should use inst.pick(...).\n",
      "Effective window size : 1.001 (s)\n",
      "iaf 10.0\n",
      "NOTE: pick_channels() is a legacy function. New code should use inst.pick(...).\n",
      "Effective window size : 1.001 (s)\n",
      "iaf 9.75\n",
      "NOTE: pick_channels() is a legacy function. New code should use inst.pick(...).\n",
      "Effective window size : 1.001 (s)\n",
      "iaf 10.25\n",
      "NOTE: pick_channels() is a legacy function. New code should use inst.pick(...).\n",
      "Effective window size : 1.001 (s)\n",
      "iaf 10.0\n",
      "NOTE: pick_channels() is a legacy function. New code should use inst.pick(...).\n",
      "Effective window size : 1.001 (s)\n",
      "iaf 10.25\n",
      "NOTE: pick_channels() is a legacy function. New code should use inst.pick(...).\n",
      "Effective window size : 1.001 (s)\n",
      "iaf 10.0\n",
      "NOTE: pick_channels() is a legacy function. New code should use inst.pick(...).\n",
      "Effective window size : 1.001 (s)\n",
      "iaf 10.5\n",
      "NOTE: pick_channels() is a legacy function. New code should use inst.pick(...).\n",
      "Effective window size : 1.001 (s)\n",
      "iaf 10.0\n",
      "NOTE: pick_channels() is a legacy function. New code should use inst.pick(...).\n",
      "Effective window size : 1.001 (s)\n",
      "iaf 10.0\n",
      "NOTE: pick_channels() is a legacy function. New code should use inst.pick(...).\n",
      "Effective window size : 1.001 (s)\n",
      "iaf 9.75\n",
      "NOTE: pick_channels() is a legacy function. New code should use inst.pick(...).\n",
      "Effective window size : 1.001 (s)\n",
      "iaf 10.0\n",
      "NOTE: pick_channels() is a legacy function. New code should use inst.pick(...).\n",
      "Effective window size : 1.001 (s)\n",
      "iaf 9.25\n",
      "NOTE: pick_channels() is a legacy function. New code should use inst.pick(...).\n",
      "Effective window size : 1.001 (s)\n",
      "iaf 9.75\n",
      "NOTE: pick_channels() is a legacy function. New code should use inst.pick(...).\n",
      "Effective window size : 1.001 (s)\n",
      "iaf 9.5\n",
      "NOTE: pick_channels() is a legacy function. New code should use inst.pick(...).\n",
      "Effective window size : 1.001 (s)\n"
     ]
    }
   ],
   "source": [
    "# Calculate powers\n",
    "iaf_data = df_iaf\n",
    "cue_key = [\n",
    "        ['left','Comment/60'],\n",
    "        ['right','Comment/70'],\n",
    "        # ['central','Comment/80'],\n",
    "        # ['fixation','Comment/40'],\n",
    "]\n",
    "output = {\n",
    "        'Participant':[],\n",
    "        'ROI':[],\n",
    "        'Cue':[],\n",
    "        'Session':[],\n",
    "        'Power':[],\n",
    "        'Normalised Power':[]\n",
    "    }\n",
    "regions = {\n",
    "        # 'left central, occipital parietal' : [\"P7\", \"P5\", \"P3\", \"P1\", \"PO7\", \"PO3\", \"O1\", \"CP5\", \"CP3\", \"CP1\"],\n",
    "        # 'right central, occipital parietal' : [\"P2\", \"P4\", \"P6\", \"P8\", \"PO8\", \"PO4\", \"O2\", \"CP6\", \"CP4\", \"CP2\"],\n",
    "        'left nfb aai':['P7', 'O1', 'P3'],\n",
    "        'right nfb aai':['P8', 'O2', 'P4'],\n",
    "        'left hemisphere':[\"P7\", \"P5\", \"P3\", \"P1\", \"PO7\", \"PO3\", \"O1\"],\n",
    "        'right hemisphere':[\"P2\", \"P4\", \"P6\", \"P8\", \"PO8\", \"PO4\", \"O2\"]\n",
    "}\n",
    "for k in range(len(cue_key)): \n",
    "    cue_id = cue_key[k][1]\n",
    "    for key, value in regions.items():\n",
    "        for e in all_pos_epochs:\n",
    "            sub_id=e[1].strip('/ica_notebooks/cleaned/')\n",
    "            sub_id=re.search(r\"/([^/]*)$\", sub_id).group(1)\n",
    "            sub_id=re.findall(r'm_([^_]*)', sub_id)[0]\n",
    "            session=re.search(r\".*pos(\\d)\\D.*\", e[1]).group(1)\n",
    "            ## USE individualised alpha range ###\n",
    "            # Get iaf and alpha range for subject\n",
    "            iaf = iaf_data[(iaf_data['Participant']==int(sub_id)) & (iaf_data['Session']==int(session))].IAF.iloc[0]\n",
    "            print('iaf', iaf)\n",
    "            a_min = iaf - 0.5\n",
    "            a_max = iaf + 0.5\n",
    "            freq_range = (a_min, a_max)\n",
    "            # freq_range = (8, 12)\n",
    "            ###\n",
    "            a, na = get_psd_power_norm(e[0][cue_id], value, freq_range)\n",
    "            output['Participant'].append(sub_id)\n",
    "            output['ROI'].append(key)\n",
    "            output['Power'].append(a)\n",
    "            output['Normalised Power'].append(na)\n",
    "            output['Cue'].append(cue_key[k][0])\n",
    "            output['Session'].append(session)\n",
    "\n",
    "powers_all = pd.DataFrame(output)"
   ]
  },
  {
   "cell_type": "code",
   "execution_count": 13,
   "metadata": {},
   "outputs": [
    {
     "data": {
      "text/plain": [
       "array(['left NFB roi', 'right NFB roi', 'left hemisphere',\n",
       "       'right hemisphere'], dtype=object)"
      ]
     },
     "execution_count": 13,
     "metadata": {},
     "output_type": "execute_result"
    }
   ],
   "source": [
    "powers_all['Participant'] = powers_all['Participant'].astype(int)\n",
    "powers_all['Session'] = powers_all['Session'].astype(int)\n",
    "powers_baselines = pd.merge(powers_all, base_ec_powers, on=['Participant', 'ROI', 'Session'])\n",
    "powers_baselines['Baselined Power'] = powers_baselines['Normalised Power'] - powers_baselines['baseline_power']\n",
    "powers_baselines['hemisphere'] = powers_baselines['ROI'].apply(determine_hemisphere)\n",
    "powers_baselines['ROI'] = powers_baselines['ROI'].replace({'left nfb aai': 'left NFB roi', 'right nfb aai' : 'right NFB roi'})\n",
    "# powers_baselines = powers_baselines[powers_baselines['ROI'].isin(['left hemisphere', 'right hemisphere'])]\n",
    "powers_baselines.ROI.unique()"
   ]
  },
  {
   "cell_type": "code",
   "execution_count": 14,
   "metadata": {},
   "outputs": [
    {
     "data": {
      "text/html": [
       "<div>\n",
       "<style scoped>\n",
       "    .dataframe tbody tr th:only-of-type {\n",
       "        vertical-align: middle;\n",
       "    }\n",
       "\n",
       "    .dataframe tbody tr th {\n",
       "        vertical-align: top;\n",
       "    }\n",
       "\n",
       "    .dataframe thead th {\n",
       "        text-align: right;\n",
       "    }\n",
       "</style>\n",
       "<table border=\"1\" class=\"dataframe\">\n",
       "  <thead>\n",
       "    <tr style=\"text-align: right;\">\n",
       "      <th></th>\n",
       "      <th>Participant</th>\n",
       "      <th>ROI</th>\n",
       "      <th>Cue</th>\n",
       "      <th>Session</th>\n",
       "      <th>Power</th>\n",
       "      <th>Normalised Power</th>\n",
       "      <th>baseline_power</th>\n",
       "      <th>Baselined Power</th>\n",
       "      <th>hemisphere</th>\n",
       "    </tr>\n",
       "  </thead>\n",
       "  <tbody>\n",
       "    <tr>\n",
       "      <th>0</th>\n",
       "      <td>9</td>\n",
       "      <td>left NFB roi</td>\n",
       "      <td>left</td>\n",
       "      <td>2</td>\n",
       "      <td>7.144799e-14</td>\n",
       "      <td>0.101715</td>\n",
       "      <td>0.193357</td>\n",
       "      <td>-0.091641</td>\n",
       "      <td>left</td>\n",
       "    </tr>\n",
       "    <tr>\n",
       "      <th>1</th>\n",
       "      <td>9</td>\n",
       "      <td>left NFB roi</td>\n",
       "      <td>left</td>\n",
       "      <td>2</td>\n",
       "      <td>1.764336e-14</td>\n",
       "      <td>0.028998</td>\n",
       "      <td>0.193357</td>\n",
       "      <td>-0.164358</td>\n",
       "      <td>left</td>\n",
       "    </tr>\n",
       "    <tr>\n",
       "      <th>2</th>\n",
       "      <td>9</td>\n",
       "      <td>left NFB roi</td>\n",
       "      <td>right</td>\n",
       "      <td>2</td>\n",
       "      <td>1.298988e-13</td>\n",
       "      <td>0.203227</td>\n",
       "      <td>0.193357</td>\n",
       "      <td>0.009870</td>\n",
       "      <td>left</td>\n",
       "    </tr>\n",
       "    <tr>\n",
       "      <th>3</th>\n",
       "      <td>9</td>\n",
       "      <td>left NFB roi</td>\n",
       "      <td>right</td>\n",
       "      <td>2</td>\n",
       "      <td>5.801267e-14</td>\n",
       "      <td>0.143170</td>\n",
       "      <td>0.193357</td>\n",
       "      <td>-0.050187</td>\n",
       "      <td>left</td>\n",
       "    </tr>\n",
       "    <tr>\n",
       "      <th>4</th>\n",
       "      <td>19</td>\n",
       "      <td>left NFB roi</td>\n",
       "      <td>left</td>\n",
       "      <td>2</td>\n",
       "      <td>9.557330e-13</td>\n",
       "      <td>0.356121</td>\n",
       "      <td>0.037969</td>\n",
       "      <td>0.318152</td>\n",
       "      <td>left</td>\n",
       "    </tr>\n",
       "    <tr>\n",
       "      <th>...</th>\n",
       "      <td>...</td>\n",
       "      <td>...</td>\n",
       "      <td>...</td>\n",
       "      <td>...</td>\n",
       "      <td>...</td>\n",
       "      <td>...</td>\n",
       "      <td>...</td>\n",
       "      <td>...</td>\n",
       "      <td>...</td>\n",
       "    </tr>\n",
       "    <tr>\n",
       "      <th>627</th>\n",
       "      <td>12</td>\n",
       "      <td>right hemisphere</td>\n",
       "      <td>right</td>\n",
       "      <td>1</td>\n",
       "      <td>9.433614e-15</td>\n",
       "      <td>0.012454</td>\n",
       "      <td>0.128212</td>\n",
       "      <td>-0.115758</td>\n",
       "      <td>right</td>\n",
       "    </tr>\n",
       "    <tr>\n",
       "      <th>628</th>\n",
       "      <td>2</td>\n",
       "      <td>right hemisphere</td>\n",
       "      <td>left</td>\n",
       "      <td>1</td>\n",
       "      <td>7.794539e-14</td>\n",
       "      <td>0.099859</td>\n",
       "      <td>0.095191</td>\n",
       "      <td>0.004668</td>\n",
       "      <td>right</td>\n",
       "    </tr>\n",
       "    <tr>\n",
       "      <th>629</th>\n",
       "      <td>2</td>\n",
       "      <td>right hemisphere</td>\n",
       "      <td>right</td>\n",
       "      <td>1</td>\n",
       "      <td>1.977569e-13</td>\n",
       "      <td>0.177158</td>\n",
       "      <td>0.095191</td>\n",
       "      <td>0.081967</td>\n",
       "      <td>right</td>\n",
       "    </tr>\n",
       "    <tr>\n",
       "      <th>630</th>\n",
       "      <td>6</td>\n",
       "      <td>right hemisphere</td>\n",
       "      <td>left</td>\n",
       "      <td>1</td>\n",
       "      <td>1.455034e-14</td>\n",
       "      <td>0.049292</td>\n",
       "      <td>0.025646</td>\n",
       "      <td>0.023646</td>\n",
       "      <td>right</td>\n",
       "    </tr>\n",
       "    <tr>\n",
       "      <th>631</th>\n",
       "      <td>6</td>\n",
       "      <td>right hemisphere</td>\n",
       "      <td>right</td>\n",
       "      <td>1</td>\n",
       "      <td>1.602704e-14</td>\n",
       "      <td>0.056154</td>\n",
       "      <td>0.025646</td>\n",
       "      <td>0.030507</td>\n",
       "      <td>right</td>\n",
       "    </tr>\n",
       "  </tbody>\n",
       "</table>\n",
       "<p>632 rows × 9 columns</p>\n",
       "</div>"
      ],
      "text/plain": [
       "     Participant               ROI    Cue  Session         Power  \\\n",
       "0              9      left NFB roi   left        2  7.144799e-14   \n",
       "1              9      left NFB roi   left        2  1.764336e-14   \n",
       "2              9      left NFB roi  right        2  1.298988e-13   \n",
       "3              9      left NFB roi  right        2  5.801267e-14   \n",
       "4             19      left NFB roi   left        2  9.557330e-13   \n",
       "..           ...               ...    ...      ...           ...   \n",
       "627           12  right hemisphere  right        1  9.433614e-15   \n",
       "628            2  right hemisphere   left        1  7.794539e-14   \n",
       "629            2  right hemisphere  right        1  1.977569e-13   \n",
       "630            6  right hemisphere   left        1  1.455034e-14   \n",
       "631            6  right hemisphere  right        1  1.602704e-14   \n",
       "\n",
       "     Normalised Power  baseline_power  Baselined Power hemisphere  \n",
       "0            0.101715        0.193357        -0.091641       left  \n",
       "1            0.028998        0.193357        -0.164358       left  \n",
       "2            0.203227        0.193357         0.009870       left  \n",
       "3            0.143170        0.193357        -0.050187       left  \n",
       "4            0.356121        0.037969         0.318152       left  \n",
       "..                ...             ...              ...        ...  \n",
       "627          0.012454        0.128212        -0.115758      right  \n",
       "628          0.099859        0.095191         0.004668      right  \n",
       "629          0.177158        0.095191         0.081967      right  \n",
       "630          0.049292        0.025646         0.023646      right  \n",
       "631          0.056154        0.025646         0.030507      right  \n",
       "\n",
       "[632 rows x 9 columns]"
      ]
     },
     "execution_count": 14,
     "metadata": {},
     "output_type": "execute_result"
    }
   ],
   "source": [
    "powers_baselines"
   ]
  },
  {
   "cell_type": "markdown",
   "metadata": {},
   "source": [
    "### Normalised Power"
   ]
  },
  {
   "cell_type": "code",
   "execution_count": 41,
   "metadata": {},
   "outputs": [
    {
     "data": {
      "image/png": "[encoded data removed]",
      "text/plain": [
       "<Figure size 1000x400 with 2 Axes>"
      ]
     },
     "metadata": {},
     "output_type": "display_data"
    },
    {
     "name": "stdout",
     "output_type": "stream",
     "text": [
      "Larger hemisphere ROI\n"
     ]
    },
    {
     "data": {
      "text/html": [
       "<div>\n",
       "<style scoped>\n",
       "    .dataframe tbody tr th:only-of-type {\n",
       "        vertical-align: middle;\n",
       "    }\n",
       "\n",
       "    .dataframe tbody tr th {\n",
       "        vertical-align: top;\n",
       "    }\n",
       "\n",
       "    .dataframe thead th {\n",
       "        text-align: right;\n",
       "    }\n",
       "</style>\n",
       "<table border=\"1\" class=\"dataframe\">\n",
       "  <thead>\n",
       "    <tr style=\"text-align: right;\">\n",
       "      <th></th>\n",
       "      <th>Source</th>\n",
       "      <th>SS</th>\n",
       "      <th>ddof1</th>\n",
       "      <th>ddof2</th>\n",
       "      <th>MS</th>\n",
       "      <th>F</th>\n",
       "      <th>p-unc</th>\n",
       "      <th>p-GG-corr</th>\n",
       "      <th>n2</th>\n",
       "      <th>eps</th>\n",
       "    </tr>\n",
       "  </thead>\n",
       "  <tbody>\n",
       "    <tr>\n",
       "      <th>0</th>\n",
       "      <td>Cue</td>\n",
       "      <td>0.000447</td>\n",
       "      <td>1</td>\n",
       "      <td>20</td>\n",
       "      <td>0.000447</td>\n",
       "      <td>0.747251</td>\n",
       "      <td>0.397598</td>\n",
       "      <td>0.397598</td>\n",
       "      <td>0.001067</td>\n",
       "      <td>1.0</td>\n",
       "    </tr>\n",
       "    <tr>\n",
       "      <th>1</th>\n",
       "      <td>ROI</td>\n",
       "      <td>0.000648</td>\n",
       "      <td>1</td>\n",
       "      <td>20</td>\n",
       "      <td>0.000648</td>\n",
       "      <td>1.012863</td>\n",
       "      <td>0.326240</td>\n",
       "      <td>0.326240</td>\n",
       "      <td>0.001548</td>\n",
       "      <td>1.0</td>\n",
       "    </tr>\n",
       "    <tr>\n",
       "      <th>2</th>\n",
       "      <td>Cue * ROI</td>\n",
       "      <td>0.001568</td>\n",
       "      <td>1</td>\n",
       "      <td>20</td>\n",
       "      <td>0.001568</td>\n",
       "      <td>1.764861</td>\n",
       "      <td>0.198980</td>\n",
       "      <td>0.198980</td>\n",
       "      <td>0.003745</td>\n",
       "      <td>1.0</td>\n",
       "    </tr>\n",
       "  </tbody>\n",
       "</table>\n",
       "</div>"
      ],
      "text/plain": [
       "      Source        SS  ddof1  ddof2        MS         F     p-unc  p-GG-corr  \\\n",
       "0        Cue  0.000447      1     20  0.000447  0.747251  0.397598   0.397598   \n",
       "1        ROI  0.000648      1     20  0.000648  1.012863  0.326240   0.326240   \n",
       "2  Cue * ROI  0.001568      1     20  0.001568  1.764861  0.198980   0.198980   \n",
       "\n",
       "         n2  eps  \n",
       "0  0.001067  1.0  \n",
       "1  0.001548  1.0  \n",
       "2  0.003745  1.0  "
      ]
     },
     "metadata": {},
     "output_type": "display_data"
    },
    {
     "name": "stdout",
     "output_type": "stream",
     "text": [
      "NFB ROI\n"
     ]
    },
    {
     "data": {
      "text/html": [
       "<div>\n",
       "<style scoped>\n",
       "    .dataframe tbody tr th:only-of-type {\n",
       "        vertical-align: middle;\n",
       "    }\n",
       "\n",
       "    .dataframe tbody tr th {\n",
       "        vertical-align: top;\n",
       "    }\n",
       "\n",
       "    .dataframe thead th {\n",
       "        text-align: right;\n",
       "    }\n",
       "</style>\n",
       "<table border=\"1\" class=\"dataframe\">\n",
       "  <thead>\n",
       "    <tr style=\"text-align: right;\">\n",
       "      <th></th>\n",
       "      <th>Source</th>\n",
       "      <th>SS</th>\n",
       "      <th>ddof1</th>\n",
       "      <th>ddof2</th>\n",
       "      <th>MS</th>\n",
       "      <th>F</th>\n",
       "      <th>p-unc</th>\n",
       "      <th>p-GG-corr</th>\n",
       "      <th>n2</th>\n",
       "      <th>eps</th>\n",
       "    </tr>\n",
       "  </thead>\n",
       "  <tbody>\n",
       "    <tr>\n",
       "      <th>0</th>\n",
       "      <td>Cue</td>\n",
       "      <td>0.002318</td>\n",
       "      <td>1</td>\n",
       "      <td>20</td>\n",
       "      <td>0.002318</td>\n",
       "      <td>3.803848</td>\n",
       "      <td>0.065291</td>\n",
       "      <td>0.065291</td>\n",
       "      <td>0.006175</td>\n",
       "      <td>1.0</td>\n",
       "    </tr>\n",
       "    <tr>\n",
       "      <th>1</th>\n",
       "      <td>ROI</td>\n",
       "      <td>0.000487</td>\n",
       "      <td>1</td>\n",
       "      <td>20</td>\n",
       "      <td>0.000487</td>\n",
       "      <td>0.939377</td>\n",
       "      <td>0.344014</td>\n",
       "      <td>0.344014</td>\n",
       "      <td>0.001296</td>\n",
       "      <td>1.0</td>\n",
       "    </tr>\n",
       "    <tr>\n",
       "      <th>2</th>\n",
       "      <td>Cue * ROI</td>\n",
       "      <td>0.001030</td>\n",
       "      <td>1</td>\n",
       "      <td>20</td>\n",
       "      <td>0.001030</td>\n",
       "      <td>1.024667</td>\n",
       "      <td>0.323505</td>\n",
       "      <td>0.323505</td>\n",
       "      <td>0.002742</td>\n",
       "      <td>1.0</td>\n",
       "    </tr>\n",
       "  </tbody>\n",
       "</table>\n",
       "</div>"
      ],
      "text/plain": [
       "      Source        SS  ddof1  ddof2        MS         F     p-unc  p-GG-corr  \\\n",
       "0        Cue  0.002318      1     20  0.002318  3.803848  0.065291   0.065291   \n",
       "1        ROI  0.000487      1     20  0.000487  0.939377  0.344014   0.344014   \n",
       "2  Cue * ROI  0.001030      1     20  0.001030  1.024667  0.323505   0.323505   \n",
       "\n",
       "         n2  eps  \n",
       "0  0.006175  1.0  \n",
       "1  0.001296  1.0  \n",
       "2  0.002742  1.0  "
      ]
     },
     "metadata": {},
     "output_type": "display_data"
    }
   ],
   "source": [
    "metric = 'Normalised Power'\n",
    "hemisphere = ['left hemisphere', 'right hemisphere']\n",
    "nfb_roi =['left NFB roi', 'right NFB roi'] \n",
    "df1 = powers_baselines[powers_baselines['ROI'].isin(hemisphere)]\n",
    "df2 = powers_baselines[powers_baselines['ROI'].isin(nfb_roi)]\n",
    "df1_ = df1.groupby(['ROI', 'Cue'])[metric].mean().reset_index()\n",
    "df2_ = df2.groupby(['ROI', 'Cue'])[metric].mean().reset_index()\n",
    "\n",
    "fig, axes = plt.subplots(1, 2, figsize=(10, 4))\n",
    "\n",
    "df1_ = df1_.pivot(index='ROI', columns='Cue', values=metric)\n",
    "df1_.plot(kind='bar', ax=axes[0], color=tab10)\n",
    "df2_ = df2_.pivot(index='ROI', columns='Cue', values=metric)\n",
    "df2_.plot(kind='bar', ax=axes[1], color=tab10)\n",
    "axes[1].tick_params(axis='x', rotation=0)  # Rotate x-axis labels\n",
    "axes[0].tick_params(axis='x', rotation=0)  # Rotate x-axis labels\n",
    "axes[0].get_legend().remove()\n",
    "axes[1].legend(title='Cue direction', loc='upper left', bbox_to_anchor=(1, 1))\n",
    "axes[0].set_title('Hemisphere electrodes')\n",
    "axes[1].set_title('Neurofeedback electrodes')\n",
    "plt.tight_layout()  # To prevent overlapping of the subplots\n",
    "plt.show()\n",
    "\n",
    "print('Larger hemisphere ROI')\n",
    "display(df1.rm_anova(dv=metric, within=['Cue','ROI'], subject='Participant', effsize='n2'))\n",
    "print('NFB ROI')\n",
    "display(df2.rm_anova(dv=metric, within=['Cue','ROI'], subject='Participant', effsize='n2'))"
   ]
  },
  {
   "cell_type": "markdown",
   "metadata": {},
   "source": [
    "### Raw power"
   ]
  },
  {
   "cell_type": "code",
   "execution_count": 40,
   "metadata": {},
   "outputs": [
    {
     "data": {
      "image/png": "[encoded data removed]",
      "text/plain": [
       "<Figure size 1000x400 with 2 Axes>"
      ]
     },
     "metadata": {},
     "output_type": "display_data"
    },
    {
     "name": "stdout",
     "output_type": "stream",
     "text": [
      "Larger hemisphere ROI\n"
     ]
    },
    {
     "data": {
      "text/html": [
       "<div>\n",
       "<style scoped>\n",
       "    .dataframe tbody tr th:only-of-type {\n",
       "        vertical-align: middle;\n",
       "    }\n",
       "\n",
       "    .dataframe tbody tr th {\n",
       "        vertical-align: top;\n",
       "    }\n",
       "\n",
       "    .dataframe thead th {\n",
       "        text-align: right;\n",
       "    }\n",
       "</style>\n",
       "<table border=\"1\" class=\"dataframe\">\n",
       "  <thead>\n",
       "    <tr style=\"text-align: right;\">\n",
       "      <th></th>\n",
       "      <th>Source</th>\n",
       "      <th>SS</th>\n",
       "      <th>ddof1</th>\n",
       "      <th>ddof2</th>\n",
       "      <th>MS</th>\n",
       "      <th>F</th>\n",
       "      <th>p-unc</th>\n",
       "      <th>p-GG-corr</th>\n",
       "      <th>n2</th>\n",
       "      <th>eps</th>\n",
       "    </tr>\n",
       "  </thead>\n",
       "  <tbody>\n",
       "    <tr>\n",
       "      <th>0</th>\n",
       "      <td>Cue</td>\n",
       "      <td>2.119476e-26</td>\n",
       "      <td>1</td>\n",
       "      <td>20</td>\n",
       "      <td>2.119476e-26</td>\n",
       "      <td>4.346632</td>\n",
       "      <td>0.050110</td>\n",
       "      <td>0.050110</td>\n",
       "      <td>0.011328</td>\n",
       "      <td>1.0</td>\n",
       "    </tr>\n",
       "    <tr>\n",
       "      <th>1</th>\n",
       "      <td>ROI</td>\n",
       "      <td>5.437216e-27</td>\n",
       "      <td>1</td>\n",
       "      <td>20</td>\n",
       "      <td>5.437216e-27</td>\n",
       "      <td>3.985780</td>\n",
       "      <td>0.059680</td>\n",
       "      <td>0.059680</td>\n",
       "      <td>0.002906</td>\n",
       "      <td>1.0</td>\n",
       "    </tr>\n",
       "    <tr>\n",
       "      <th>2</th>\n",
       "      <td>Cue * ROI</td>\n",
       "      <td>2.270687e-26</td>\n",
       "      <td>1</td>\n",
       "      <td>20</td>\n",
       "      <td>2.270687e-26</td>\n",
       "      <td>6.604633</td>\n",
       "      <td>0.018275</td>\n",
       "      <td>0.018275</td>\n",
       "      <td>0.012136</td>\n",
       "      <td>1.0</td>\n",
       "    </tr>\n",
       "  </tbody>\n",
       "</table>\n",
       "</div>"
      ],
      "text/plain": [
       "      Source            SS  ddof1  ddof2            MS         F     p-unc  \\\n",
       "0        Cue  2.119476e-26      1     20  2.119476e-26  4.346632  0.050110   \n",
       "1        ROI  5.437216e-27      1     20  5.437216e-27  3.985780  0.059680   \n",
       "2  Cue * ROI  2.270687e-26      1     20  2.270687e-26  6.604633  0.018275   \n",
       "\n",
       "   p-GG-corr        n2  eps  \n",
       "0   0.050110  0.011328  1.0  \n",
       "1   0.059680  0.002906  1.0  \n",
       "2   0.018275  0.012136  1.0  "
      ]
     },
     "metadata": {},
     "output_type": "display_data"
    },
    {
     "name": "stdout",
     "output_type": "stream",
     "text": [
      "NFB ROI\n"
     ]
    },
    {
     "data": {
      "text/html": [
       "<div>\n",
       "<style scoped>\n",
       "    .dataframe tbody tr th:only-of-type {\n",
       "        vertical-align: middle;\n",
       "    }\n",
       "\n",
       "    .dataframe tbody tr th {\n",
       "        vertical-align: top;\n",
       "    }\n",
       "\n",
       "    .dataframe thead th {\n",
       "        text-align: right;\n",
       "    }\n",
       "</style>\n",
       "<table border=\"1\" class=\"dataframe\">\n",
       "  <thead>\n",
       "    <tr style=\"text-align: right;\">\n",
       "      <th></th>\n",
       "      <th>Source</th>\n",
       "      <th>SS</th>\n",
       "      <th>ddof1</th>\n",
       "      <th>ddof2</th>\n",
       "      <th>MS</th>\n",
       "      <th>F</th>\n",
       "      <th>p-unc</th>\n",
       "      <th>p-GG-corr</th>\n",
       "      <th>n2</th>\n",
       "      <th>eps</th>\n",
       "    </tr>\n",
       "  </thead>\n",
       "  <tbody>\n",
       "    <tr>\n",
       "      <th>0</th>\n",
       "      <td>Cue</td>\n",
       "      <td>2.352194e-26</td>\n",
       "      <td>1</td>\n",
       "      <td>20</td>\n",
       "      <td>2.352194e-26</td>\n",
       "      <td>5.695739</td>\n",
       "      <td>0.027001</td>\n",
       "      <td>0.027001</td>\n",
       "      <td>0.016620</td>\n",
       "      <td>1.0</td>\n",
       "    </tr>\n",
       "    <tr>\n",
       "      <th>1</th>\n",
       "      <td>ROI</td>\n",
       "      <td>2.716356e-27</td>\n",
       "      <td>1</td>\n",
       "      <td>20</td>\n",
       "      <td>2.716356e-27</td>\n",
       "      <td>3.046306</td>\n",
       "      <td>0.096267</td>\n",
       "      <td>0.096267</td>\n",
       "      <td>0.001919</td>\n",
       "      <td>1.0</td>\n",
       "    </tr>\n",
       "    <tr>\n",
       "      <th>2</th>\n",
       "      <td>Cue * ROI</td>\n",
       "      <td>1.363228e-26</td>\n",
       "      <td>1</td>\n",
       "      <td>20</td>\n",
       "      <td>1.363228e-26</td>\n",
       "      <td>5.369337</td>\n",
       "      <td>0.031214</td>\n",
       "      <td>0.031214</td>\n",
       "      <td>0.009632</td>\n",
       "      <td>1.0</td>\n",
       "    </tr>\n",
       "  </tbody>\n",
       "</table>\n",
       "</div>"
      ],
      "text/plain": [
       "      Source            SS  ddof1  ddof2            MS         F     p-unc  \\\n",
       "0        Cue  2.352194e-26      1     20  2.352194e-26  5.695739  0.027001   \n",
       "1        ROI  2.716356e-27      1     20  2.716356e-27  3.046306  0.096267   \n",
       "2  Cue * ROI  1.363228e-26      1     20  1.363228e-26  5.369337  0.031214   \n",
       "\n",
       "   p-GG-corr        n2  eps  \n",
       "0   0.027001  0.016620  1.0  \n",
       "1   0.096267  0.001919  1.0  \n",
       "2   0.031214  0.009632  1.0  "
      ]
     },
     "metadata": {},
     "output_type": "display_data"
    }
   ],
   "source": [
    "metric = 'Power'\n",
    "hemisphere = ['left hemisphere', 'right hemisphere']\n",
    "nfb_roi =['left NFB roi', 'right NFB roi'] \n",
    "df1 = powers_baselines[powers_baselines['ROI'].isin(hemisphere)]\n",
    "df2 = powers_baselines[powers_baselines['ROI'].isin(nfb_roi)]\n",
    "df1_ = df1.groupby(['ROI', 'Cue'])[metric].mean().reset_index()\n",
    "df2_ = df2.groupby(['ROI', 'Cue'])[metric].mean().reset_index()\n",
    "\n",
    "fig, axes = plt.subplots(1, 2, figsize=(10, 4))\n",
    "\n",
    "df1_ = df1_.pivot(index='ROI', columns='Cue', values=metric)\n",
    "df1_.plot(kind='bar', ax=axes[0], color=tab10)\n",
    "df2_ = df2_.pivot(index='ROI', columns='Cue', values=metric)\n",
    "df2_.plot(kind='bar', ax=axes[1], color=tab10)\n",
    "axes[1].tick_params(axis='x', rotation=0)  # Rotate x-axis labels\n",
    "axes[0].tick_params(axis='x', rotation=0)  # Rotate x-axis labels\n",
    "axes[0].get_legend().remove()\n",
    "axes[1].legend(title='Cue direction', loc='upper left', bbox_to_anchor=(1, 1))\n",
    "axes[0].set_title('Hemisphere electrodes')\n",
    "axes[1].set_title('Neurofeedback electrodes')\n",
    "plt.tight_layout()  # To prevent overlapping of the subplots\n",
    "plt.show()\n",
    "\n",
    "print('Larger hemisphere ROI')\n",
    "display(df1.rm_anova(dv=metric, within=['Cue','ROI'], subject='Participant', effsize='n2'))\n",
    "print('NFB ROI')\n",
    "display(df2.rm_anova(dv=metric, within=['Cue','ROI'], subject='Participant', effsize='n2'))"
   ]
  },
  {
   "cell_type": "markdown",
   "metadata": {},
   "source": [
    "### Power above baseline"
   ]
  },
  {
   "cell_type": "code",
   "execution_count": 43,
   "metadata": {},
   "outputs": [
    {
     "data": {
      "image/png": "[encoded data removed]",
      "text/plain": [
       "<Figure size 1000x400 with 2 Axes>"
      ]
     },
     "metadata": {},
     "output_type": "display_data"
    },
    {
     "name": "stdout",
     "output_type": "stream",
     "text": [
      "Larger hemisphere ROI\n"
     ]
    },
    {
     "data": {
      "text/html": [
       "<div>\n",
       "<style scoped>\n",
       "    .dataframe tbody tr th:only-of-type {\n",
       "        vertical-align: middle;\n",
       "    }\n",
       "\n",
       "    .dataframe tbody tr th {\n",
       "        vertical-align: top;\n",
       "    }\n",
       "\n",
       "    .dataframe thead th {\n",
       "        text-align: right;\n",
       "    }\n",
       "</style>\n",
       "<table border=\"1\" class=\"dataframe\">\n",
       "  <thead>\n",
       "    <tr style=\"text-align: right;\">\n",
       "      <th></th>\n",
       "      <th>Source</th>\n",
       "      <th>SS</th>\n",
       "      <th>ddof1</th>\n",
       "      <th>ddof2</th>\n",
       "      <th>MS</th>\n",
       "      <th>F</th>\n",
       "      <th>p-unc</th>\n",
       "      <th>p-GG-corr</th>\n",
       "      <th>n2</th>\n",
       "      <th>eps</th>\n",
       "    </tr>\n",
       "  </thead>\n",
       "  <tbody>\n",
       "    <tr>\n",
       "      <th>0</th>\n",
       "      <td>Cue</td>\n",
       "      <td>0.000447</td>\n",
       "      <td>1</td>\n",
       "      <td>20</td>\n",
       "      <td>0.000447</td>\n",
       "      <td>0.747251</td>\n",
       "      <td>0.397598</td>\n",
       "      <td>0.397598</td>\n",
       "      <td>0.000854</td>\n",
       "      <td>1.0</td>\n",
       "    </tr>\n",
       "    <tr>\n",
       "      <th>1</th>\n",
       "      <td>ROI</td>\n",
       "      <td>0.000090</td>\n",
       "      <td>1</td>\n",
       "      <td>20</td>\n",
       "      <td>0.000090</td>\n",
       "      <td>0.090597</td>\n",
       "      <td>0.766526</td>\n",
       "      <td>0.766526</td>\n",
       "      <td>0.000172</td>\n",
       "      <td>1.0</td>\n",
       "    </tr>\n",
       "    <tr>\n",
       "      <th>2</th>\n",
       "      <td>Cue * ROI</td>\n",
       "      <td>0.001568</td>\n",
       "      <td>1</td>\n",
       "      <td>20</td>\n",
       "      <td>0.001568</td>\n",
       "      <td>1.764861</td>\n",
       "      <td>0.198980</td>\n",
       "      <td>0.198980</td>\n",
       "      <td>0.002997</td>\n",
       "      <td>1.0</td>\n",
       "    </tr>\n",
       "  </tbody>\n",
       "</table>\n",
       "</div>"
      ],
      "text/plain": [
       "      Source        SS  ddof1  ddof2        MS         F     p-unc  p-GG-corr  \\\n",
       "0        Cue  0.000447      1     20  0.000447  0.747251  0.397598   0.397598   \n",
       "1        ROI  0.000090      1     20  0.000090  0.090597  0.766526   0.766526   \n",
       "2  Cue * ROI  0.001568      1     20  0.001568  1.764861  0.198980   0.198980   \n",
       "\n",
       "         n2  eps  \n",
       "0  0.000854  1.0  \n",
       "1  0.000172  1.0  \n",
       "2  0.002997  1.0  "
      ]
     },
     "metadata": {},
     "output_type": "display_data"
    },
    {
     "name": "stdout",
     "output_type": "stream",
     "text": [
      "NFB ROI\n"
     ]
    },
    {
     "data": {
      "text/html": [
       "<div>\n",
       "<style scoped>\n",
       "    .dataframe tbody tr th:only-of-type {\n",
       "        vertical-align: middle;\n",
       "    }\n",
       "\n",
       "    .dataframe tbody tr th {\n",
       "        vertical-align: top;\n",
       "    }\n",
       "\n",
       "    .dataframe thead th {\n",
       "        text-align: right;\n",
       "    }\n",
       "</style>\n",
       "<table border=\"1\" class=\"dataframe\">\n",
       "  <thead>\n",
       "    <tr style=\"text-align: right;\">\n",
       "      <th></th>\n",
       "      <th>Source</th>\n",
       "      <th>SS</th>\n",
       "      <th>ddof1</th>\n",
       "      <th>ddof2</th>\n",
       "      <th>MS</th>\n",
       "      <th>F</th>\n",
       "      <th>p-unc</th>\n",
       "      <th>p-GG-corr</th>\n",
       "      <th>n2</th>\n",
       "      <th>eps</th>\n",
       "    </tr>\n",
       "  </thead>\n",
       "  <tbody>\n",
       "    <tr>\n",
       "      <th>0</th>\n",
       "      <td>Cue</td>\n",
       "      <td>0.002318</td>\n",
       "      <td>1</td>\n",
       "      <td>20</td>\n",
       "      <td>0.002318</td>\n",
       "      <td>3.803848</td>\n",
       "      <td>0.065291</td>\n",
       "      <td>0.065291</td>\n",
       "      <td>0.004846</td>\n",
       "      <td>1.0</td>\n",
       "    </tr>\n",
       "    <tr>\n",
       "      <th>1</th>\n",
       "      <td>ROI</td>\n",
       "      <td>0.000037</td>\n",
       "      <td>1</td>\n",
       "      <td>20</td>\n",
       "      <td>0.000037</td>\n",
       "      <td>0.044947</td>\n",
       "      <td>0.834247</td>\n",
       "      <td>0.834247</td>\n",
       "      <td>0.000078</td>\n",
       "      <td>1.0</td>\n",
       "    </tr>\n",
       "    <tr>\n",
       "      <th>2</th>\n",
       "      <td>Cue * ROI</td>\n",
       "      <td>0.001030</td>\n",
       "      <td>1</td>\n",
       "      <td>20</td>\n",
       "      <td>0.001030</td>\n",
       "      <td>1.024667</td>\n",
       "      <td>0.323505</td>\n",
       "      <td>0.323505</td>\n",
       "      <td>0.002152</td>\n",
       "      <td>1.0</td>\n",
       "    </tr>\n",
       "  </tbody>\n",
       "</table>\n",
       "</div>"
      ],
      "text/plain": [
       "      Source        SS  ddof1  ddof2        MS         F     p-unc  p-GG-corr  \\\n",
       "0        Cue  0.002318      1     20  0.002318  3.803848  0.065291   0.065291   \n",
       "1        ROI  0.000037      1     20  0.000037  0.044947  0.834247   0.834247   \n",
       "2  Cue * ROI  0.001030      1     20  0.001030  1.024667  0.323505   0.323505   \n",
       "\n",
       "         n2  eps  \n",
       "0  0.004846  1.0  \n",
       "1  0.000078  1.0  \n",
       "2  0.002152  1.0  "
      ]
     },
     "metadata": {},
     "output_type": "display_data"
    }
   ],
   "source": [
    "metric = 'Baselined Power'\n",
    "hemisphere = ['left hemisphere', 'right hemisphere']\n",
    "nfb_roi =['left NFB roi', 'right NFB roi'] \n",
    "df1 = powers_baselines[powers_baselines['ROI'].isin(hemisphere)]\n",
    "df2 = powers_baselines[powers_baselines['ROI'].isin(nfb_roi)]\n",
    "df1_ = df1.groupby(['ROI', 'Cue'])[metric].mean().reset_index()\n",
    "df2_ = df2.groupby(['ROI', 'Cue'])[metric].mean().reset_index()\n",
    "\n",
    "fig, axes = plt.subplots(1, 2, figsize=(10, 4))\n",
    "\n",
    "df1_ = df1_.pivot(index='ROI', columns='Cue', values=metric)\n",
    "df1_.plot(kind='bar', ax=axes[0], color=tab10)\n",
    "df2_ = df2_.pivot(index='ROI', columns='Cue', values=metric)\n",
    "df2_.plot(kind='bar', ax=axes[1], color=tab10)\n",
    "axes[1].tick_params(axis='x', rotation=0)  # Rotate x-axis labels\n",
    "axes[0].tick_params(axis='x', rotation=0)  # Rotate x-axis labels\n",
    "axes[0].get_legend().remove()\n",
    "axes[1].legend(title='Cue direction', loc='upper left', bbox_to_anchor=(1, 1))\n",
    "axes[0].set_title('Hemisphere electrodes')\n",
    "axes[1].set_title('Neurofeedback electrodes')\n",
    "\n",
    "plt.tight_layout()  # To prevent overlapping of the subplots\n",
    "plt.show()\n",
    "\n",
    "print('Larger hemisphere ROI')\n",
    "display(df1.rm_anova(dv=metric, within=['Cue','ROI'], subject='Participant', effsize='n2'))\n",
    "print('NFB ROI')\n",
    "display(df2.rm_anova(dv=metric, within=['Cue','ROI'], subject='Participant', effsize='n2'))"
   ]
  }
 ],
 "metadata": {
  "kernelspec": {
   "display_name": "Python 3",
   "language": "python",
   "name": "python3"
  },
  "language_info": {
   "codemirror_mode": {
    "name": "ipython",
    "version": 3
   },
   "file_extension": ".py",
   "mimetype": "text/x-python",
   "name": "python",
   "nbconvert_exporter": "python",
   "pygments_lexer": "ipython3",
   "version": "3.10.10"
  },
  "orig_nbformat": 4
 },
 "nbformat": 4,
 "nbformat_minor": 2
}
