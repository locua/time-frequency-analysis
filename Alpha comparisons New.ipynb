{
 "cells": [
  {
   "cell_type": "code",
   "execution_count": 152,
   "metadata": {},
   "outputs": [],
   "source": [
    "import re\n",
    "import os\n",
    "import mne\n",
    "import math\n",
    "import scipy.stats\n",
    "import numpy as np\n",
    "import pandas as pd\n",
    "import seaborn as sns\n",
    "import scipy.stats as stats\n",
    "import matplotlib.colors as mc\n",
    "import matplotlib.pyplot as plt\n",
    "\n",
    "# Global variables\n",
    "tab10 = list(mc.TABLEAU_COLORS.values())\n",
    "\n",
    "event_map = {'Comment/101':101, \n",
    "             'Comment/109':109,\n",
    "             'Comment/30':30,\n",
    "             'Comment/40':40,\n",
    "             'Comment/50':50,\n",
    "             'Comment/51':51,\n",
    "             'Comment/52':52,\n",
    "             'Comment/60':60,\n",
    "             'Comment/70':70,\n",
    "             'Comment/80':80,\n",
    "             'New Segment/':99999}\n",
    "\n",
    "montage = mne.channels.read_custom_montage('./BC-MR3-64.bvef')"
   ]
  },
  {
   "cell_type": "code",
   "execution_count": 2,
   "metadata": {},
   "outputs": [],
   "source": [
    "# Get active and sham groups from main csv\n",
    "df = pd.read_csv('../joint/msc_collated_data_20230709.csv')\n",
    "df = df[[\"participant_number\", \"session_type\"]].drop_duplicates()\n",
    "\n",
    "def remove_doubles(x):\n",
    "    if(x.nunique()==2):\n",
    "        return 'sham group'\n",
    "    elif(x.nunique()==1):\n",
    "        return 'active group'\n",
    "\n",
    "df[\"condition\"] = df.groupby('participant_number')['session_type'].transform(remove_doubles)\n",
    "df = df.drop(columns=\"session_type\").drop_duplicates()\n",
    "df['participant_number'] = df['participant_number'].replace(r'sub-', r'm_', regex=True)\n",
    "\n",
    "active_ids = df[df.condition=='active group'].participant_number.to_list()\n",
    "sham_ids = df[df.condition=='sham group'].participant_number.to_list()\n",
    "# active_ids, sham_ids"
   ]
  },
  {
   "cell_type": "code",
   "execution_count": 3,
   "metadata": {},
   "outputs": [],
   "source": [
    "# Get list of filenames for each group:\n",
    "cleaned_dir = './ica_notebooks/cleaned'\n",
    "\n",
    "active_eeg_files = []\n",
    "sham_eeg_files = []\n",
    "\n",
    "for root, dirs, files in os.walk(cleaned_dir):\n",
    "    for file in files:\n",
    "        # Actives\n",
    "        if file.endswith('.vhdr') and any(id in file for id in active_ids):\n",
    "            active_eeg_files.append(os.path.join(root, file))\n",
    "        # Sham \n",
    "        elif file.endswith('.vhdr') and any(id in file for id in sham_ids):\n",
    "            sham_eeg_files.append(os.path.join(root, file))\n",
    "\n",
    "active2bs = []\n",
    "active2as = []\n",
    "active1as = []\n",
    "active1bs = []\n",
    "sham2bs = []\n",
    "sham2as = []\n",
    "sham1as = []\n",
    "sham1bs = []\n",
    "\n",
    "# Just look at Posner 2b\n",
    "for x in active_eeg_files:\n",
    "    if 'pos2b' in x:\n",
    "        active2bs.append(x)\n",
    "    if 'pos1a' in x:\n",
    "        active1as.append(x)\n",
    "    if 'pos1b' in x:\n",
    "        active1bs.append(x)\n",
    "    if 'pos2a' in x:\n",
    "        active2as.append(x)\n",
    "for x in sham_eeg_files:\n",
    "    if 'pos2b' in x:\n",
    "        sham2bs.append(x)\n",
    "    if 'pos1a' in x:\n",
    "        sham1as.append(x)\n",
    "    if 'pos1b' in x:\n",
    "        sham1bs.append(x)\n",
    "    if 'pos2a' in x:\n",
    "        sham2as.append(x)"
   ]
  },
  {
   "cell_type": "code",
   "execution_count": 4,
   "metadata": {},
   "outputs": [],
   "source": [
    "# All Posners tasks over all groups and sessions\n",
    "all_pos = active2bs+active1as+active2as+active1bs+sham2as+sham2bs+sham1as+sham2bs\n",
    "\n",
    "# Posners by condition\n",
    "actives = active2as + active2bs + active1as + active1bs\n",
    "shams = sham1as + sham1bs + sham2as +sham2bs\n",
    "\n",
    "# Session only Posner tasks\n",
    "all2s = active2bs+sham2bs+active2as+sham2as\n",
    "all1s = active1as+active1bs+sham1as+sham1bs\n",
    "\n",
    "# First or second only Posner\n",
    "allbs = active2bs + active1bs + sham2bs + sham1bs\n",
    "allas = active2as + active1as + sham2as + sham1as"
   ]
  },
  {
   "cell_type": "code",
   "execution_count": 123,
   "metadata": {},
   "outputs": [],
   "source": [
    "def gather_epochs(file_names, event_ids=event_map):\n",
    "    epochs_list = []\n",
    "    for file in file_names:\n",
    "        # Load raw\n",
    "        raw = mne.io.read_raw(file, preload=True)\n",
    "        print('dropping channel');raw.drop_channels('ECG')\n",
    "        # Filter ?\n",
    "        filt_raw = raw.copy().filter(l_freq=3, h_freq=30)\n",
    "        # Events\n",
    "        events, event_id = mne.events_from_annotations(filt_raw, event_map) # get events\n",
    "        # Re-reference\n",
    "        avg_ref = raw.copy().set_eeg_reference(ref_channels=\"average\")\n",
    "        # Epoch rejection rule\n",
    "        reject_criteria=dict(eeg=500e6)\n",
    "        # Get epochs\n",
    "        epochs = mne.Epochs(raw=avg_ref, \n",
    "                            events=events, \n",
    "                            event_id=event_ids, \n",
    "                            reject=reject_criteria,\n",
    "                            detrend=1, \n",
    "                            tmin=-0.5, \n",
    "                            tmax=2, \n",
    "                            # baseline=(-0.5, 0),\n",
    "                            baseline=(0, None),\n",
    "                            preload=True,\n",
    "                            # picks=picks,\n",
    "                            event_repeated='drop')\n",
    "\n",
    "        epochs.set_montage(montage)\n",
    "        epochs_list.append([epochs, file])\n",
    "        del raw\n",
    "    return epochs_list"
   ]
  },
  {
   "cell_type": "code",
   "execution_count": 6,
   "metadata": {},
   "outputs": [
    {
     "data": {
      "text/html": [
       "<div>\n",
       "<style scoped>\n",
       "    .dataframe tbody tr th:only-of-type {\n",
       "        vertical-align: middle;\n",
       "    }\n",
       "\n",
       "    .dataframe tbody tr th {\n",
       "        vertical-align: top;\n",
       "    }\n",
       "\n",
       "    .dataframe thead th {\n",
       "        text-align: right;\n",
       "    }\n",
       "</style>\n",
       "<table border=\"1\" class=\"dataframe\">\n",
       "  <thead>\n",
       "    <tr style=\"text-align: right;\">\n",
       "      <th></th>\n",
       "      <th>IAF</th>\n",
       "      <th>Participant</th>\n",
       "      <th>Session</th>\n",
       "    </tr>\n",
       "  </thead>\n",
       "  <tbody>\n",
       "    <tr>\n",
       "      <th>0</th>\n",
       "      <td>10.50</td>\n",
       "      <td>0</td>\n",
       "      <td>2</td>\n",
       "    </tr>\n",
       "    <tr>\n",
       "      <th>1</th>\n",
       "      <td>9.25</td>\n",
       "      <td>1</td>\n",
       "      <td>2</td>\n",
       "    </tr>\n",
       "    <tr>\n",
       "      <th>2</th>\n",
       "      <td>9.75</td>\n",
       "      <td>2</td>\n",
       "      <td>2</td>\n",
       "    </tr>\n",
       "    <tr>\n",
       "      <th>3</th>\n",
       "      <td>10.00</td>\n",
       "      <td>3</td>\n",
       "      <td>2</td>\n",
       "    </tr>\n",
       "    <tr>\n",
       "      <th>4</th>\n",
       "      <td>9.50</td>\n",
       "      <td>4</td>\n",
       "      <td>2</td>\n",
       "    </tr>\n",
       "  </tbody>\n",
       "</table>\n",
       "</div>"
      ],
      "text/plain": [
       "     IAF  Participant  Session\n",
       "0  10.50            0        2\n",
       "1   9.25            1        2\n",
       "2   9.75            2        2\n",
       "3  10.00            3        2\n",
       "4   9.50            4        2"
      ]
     },
     "execution_count": 6,
     "metadata": {},
     "output_type": "execute_result"
    }
   ],
   "source": [
    "# Import indivual alpha frequencies\n",
    "df_iaf = pd.read_csv('./participant_IAF_frequencies.csv')\n",
    "# Create a new DataFrame for iaf_2 values with session = 2\n",
    "df_iaf_2 = df_iaf[['IAF_2', 'participant_id']].rename(columns={'IAF_2': 'IAF', 'participant_id': 'Participant'})\n",
    "df_iaf_2['Session'] = 2\n",
    "\n",
    "# Create a new DataFrame for iaf_1 values with session = 1\n",
    "df_iaf_1 = df_iaf[['IAF_1', 'participant_id']].rename(columns={'IAF_1': 'IAF', 'participant_id': 'Participant'})\n",
    "df_iaf_1['Session'] = 1\n",
    "df_iaf = pd.concat([df_iaf_2, df_iaf_1], ignore_index=True)\n",
    "df_iaf.head()"
   ]
  },
  {
   "cell_type": "code",
   "execution_count": 132,
   "metadata": {},
   "outputs": [
    {
     "name": "stderr",
     "output_type": "stream",
     "text": [
      "/var/folders/2b/4tnqzv_x3x17pf4q1_n7m8h40000gn/T/ipykernel_936/1506380376.py:4: SettingWithCopyWarning: \n",
      "A value is trying to be set on a copy of a slice from a DataFrame.\n",
      "Try using .loc[row_indexer,col_indexer] = value instead\n",
      "\n",
      "See the caveats in the documentation: https://pandas.pydata.org/pandas-docs/stable/user_guide/indexing.html#returning-a-view-versus-a-copy\n",
      "  base_ec_powers['participant'] = base_ec_powers['participant'].astype(int)\n",
      "/var/folders/2b/4tnqzv_x3x17pf4q1_n7m8h40000gn/T/ipykernel_936/1506380376.py:5: SettingWithCopyWarning: \n",
      "A value is trying to be set on a copy of a slice from a DataFrame.\n",
      "Try using .loc[row_indexer,col_indexer] = value instead\n",
      "\n",
      "See the caveats in the documentation: https://pandas.pydata.org/pandas-docs/stable/user_guide/indexing.html#returning-a-view-versus-a-copy\n",
      "  base_ec_powers['session'] = base_ec_powers['session'].astype(int)\n"
     ]
    },
    {
     "data": {
      "text/html": [
       "<div>\n",
       "<style scoped>\n",
       "    .dataframe tbody tr th:only-of-type {\n",
       "        vertical-align: middle;\n",
       "    }\n",
       "\n",
       "    .dataframe tbody tr th {\n",
       "        vertical-align: top;\n",
       "    }\n",
       "\n",
       "    .dataframe thead th {\n",
       "        text-align: right;\n",
       "    }\n",
       "</style>\n",
       "<table border=\"1\" class=\"dataframe\">\n",
       "  <thead>\n",
       "    <tr style=\"text-align: right;\">\n",
       "      <th></th>\n",
       "      <th>Participant</th>\n",
       "      <th>Session</th>\n",
       "      <th>ROI</th>\n",
       "      <th>baseline_power</th>\n",
       "    </tr>\n",
       "  </thead>\n",
       "  <tbody>\n",
       "    <tr>\n",
       "      <th>4</th>\n",
       "      <td>0</td>\n",
       "      <td>1</td>\n",
       "      <td>left central, occipital parietal</td>\n",
       "      <td>0.030866</td>\n",
       "    </tr>\n",
       "    <tr>\n",
       "      <th>5</th>\n",
       "      <td>0</td>\n",
       "      <td>1</td>\n",
       "      <td>right central, occipital parietal</td>\n",
       "      <td>0.025412</td>\n",
       "    </tr>\n",
       "    <tr>\n",
       "      <th>6</th>\n",
       "      <td>0</td>\n",
       "      <td>1</td>\n",
       "      <td>left hemisphere</td>\n",
       "      <td>0.033111</td>\n",
       "    </tr>\n",
       "    <tr>\n",
       "      <th>7</th>\n",
       "      <td>0</td>\n",
       "      <td>1</td>\n",
       "      <td>right hemisphere</td>\n",
       "      <td>0.028484</td>\n",
       "    </tr>\n",
       "    <tr>\n",
       "      <th>12</th>\n",
       "      <td>0</td>\n",
       "      <td>2</td>\n",
       "      <td>left central, occipital parietal</td>\n",
       "      <td>0.026617</td>\n",
       "    </tr>\n",
       "    <tr>\n",
       "      <th>...</th>\n",
       "      <td>...</td>\n",
       "      <td>...</td>\n",
       "      <td>...</td>\n",
       "      <td>...</td>\n",
       "    </tr>\n",
       "    <tr>\n",
       "      <th>327</th>\n",
       "      <td>20</td>\n",
       "      <td>1</td>\n",
       "      <td>right hemisphere</td>\n",
       "      <td>0.393435</td>\n",
       "    </tr>\n",
       "    <tr>\n",
       "      <th>332</th>\n",
       "      <td>20</td>\n",
       "      <td>2</td>\n",
       "      <td>left central, occipital parietal</td>\n",
       "      <td>0.025782</td>\n",
       "    </tr>\n",
       "    <tr>\n",
       "      <th>333</th>\n",
       "      <td>20</td>\n",
       "      <td>2</td>\n",
       "      <td>right central, occipital parietal</td>\n",
       "      <td>0.040676</td>\n",
       "    </tr>\n",
       "    <tr>\n",
       "      <th>334</th>\n",
       "      <td>20</td>\n",
       "      <td>2</td>\n",
       "      <td>left hemisphere</td>\n",
       "      <td>0.030095</td>\n",
       "    </tr>\n",
       "    <tr>\n",
       "      <th>335</th>\n",
       "      <td>20</td>\n",
       "      <td>2</td>\n",
       "      <td>right hemisphere</td>\n",
       "      <td>0.043601</td>\n",
       "    </tr>\n",
       "  </tbody>\n",
       "</table>\n",
       "<p>168 rows × 4 columns</p>\n",
       "</div>"
      ],
      "text/plain": [
       "     Participant  Session                                ROI  baseline_power\n",
       "4              0        1   left central, occipital parietal        0.030866\n",
       "5              0        1  right central, occipital parietal        0.025412\n",
       "6              0        1                    left hemisphere        0.033111\n",
       "7              0        1                   right hemisphere        0.028484\n",
       "12             0        2   left central, occipital parietal        0.026617\n",
       "..           ...      ...                                ...             ...\n",
       "327           20        1                   right hemisphere        0.393435\n",
       "332           20        2   left central, occipital parietal        0.025782\n",
       "333           20        2  right central, occipital parietal        0.040676\n",
       "334           20        2                    left hemisphere        0.030095\n",
       "335           20        2                   right hemisphere        0.043601\n",
       "\n",
       "[168 rows x 4 columns]"
      ]
     },
     "execution_count": 132,
     "metadata": {},
     "output_type": "execute_result"
    }
   ],
   "source": [
    "# Import baseline alpha data\n",
    "baseline_powers = pd.read_csv('./baseline_powers.csv')\n",
    "base_ec_powers = baseline_powers[baseline_powers['baseline type']=='baseline_ec']\n",
    "base_ec_powers['participant'] = base_ec_powers['participant'].astype(int)\n",
    "base_ec_powers['session'] = base_ec_powers['session'].astype(int)\n",
    "base_ec_powers = base_ec_powers.drop(columns=['code', 'baseline', 'baseline type', 'time'])\n",
    "base_ec_powers.rename(columns={'power': 'baseline_power', 'participant':'Participant', 'session':'Session'}, inplace=True)\n",
    "base_ec_powers"
   ]
  },
  {
   "cell_type": "code",
   "execution_count": 7,
   "metadata": {},
   "outputs": [
    {
     "name": "stdout",
     "output_type": "stream",
     "text": [
      "Extracting parameters from ./ica_notebooks/cleaned/m_09_02/m_09_02_pos2b.vhdr...\n",
      "Setting channel info structure...\n",
      "Reading 0 ... 516619  =      0.000 ...   516.619 secs...\n",
      "dropping channel\n",
      "Filtering raw data in 1 contiguous segment\n",
      "Setting up band-pass filter from 3 - 40 Hz\n",
      "\n",
      "FIR filter parameters\n",
      "---------------------\n",
      "Designing a one-pass, zero-phase, non-causal bandpass filter:\n",
      "- Windowed time-domain design (firwin) method\n",
      "- Hamming window with 0.0194 passband ripple and 53 dB stopband attenuation\n",
      "- Lower passband edge: 3.00\n",
      "- Lower transition bandwidth: 2.00 Hz (-6 dB cutoff frequency: 2.00 Hz)\n",
      "- Upper passband edge: 40.00 Hz\n",
      "- Upper transition bandwidth: 10.00 Hz (-6 dB cutoff frequency: 45.00 Hz)\n",
      "- Filter length: 1651 samples (1.651 s)\n",
      "\n"
     ]
    },
    {
     "name": "stderr",
     "output_type": "stream",
     "text": [
      "[Parallel(n_jobs=1)]: Using backend SequentialBackend with 1 concurrent workers.\n",
      "[Parallel(n_jobs=1)]: Done   1 out of   1 | elapsed:    0.0s remaining:    0.0s\n",
      "[Parallel(n_jobs=1)]: Done   2 out of   2 | elapsed:    0.0s remaining:    0.0s\n",
      "[Parallel(n_jobs=1)]: Done   3 out of   3 | elapsed:    0.0s remaining:    0.0s\n",
      "[Parallel(n_jobs=1)]: Done   4 out of   4 | elapsed:    0.0s remaining:    0.0s\n"
     ]
    },
    {
     "name": "stdout",
     "output_type": "stream",
     "text": [
      "Used Annotations descriptions: ['Comment/101', 'Comment/109', 'Comment/30', 'Comment/40', 'Comment/50', 'Comment/51', 'Comment/52', 'Comment/60', 'Comment/70', 'Comment/80', 'New Segment/']\n",
      "EEG channel type selected for re-referencing\n",
      "Applying average reference.\n",
      "Applying a custom ('EEG',) reference.\n"
     ]
    },
    {
     "name": "stderr",
     "output_type": "stream",
     "text": [
      "[Parallel(n_jobs=1)]: Done  63 out of  63 | elapsed:    0.5s finished\n"
     ]
    },
    {
     "name": "stdout",
     "output_type": "stream",
     "text": [
      "Multiple event values for single event times found. Keeping the first occurrence and dropping all others.\n",
      "Not setting metadata\n",
      "308 matching events found\n",
      "Setting baseline interval to [0.0, 2.0] s\n",
      "Applying baseline correction (mode: mean)\n",
      "0 projection items activated\n",
      "Using data from preloaded Raw for 308 events and 2501 original time points ...\n",
      "2 bad epochs dropped\n",
      "Extracting parameters from ./ica_notebooks/cleaned/m_19_02/m_19_02_pos2b.vhdr...\n",
      "Setting channel info structure...\n",
      "Reading 0 ... 686119  =      0.000 ...   686.119 secs...\n"
     ]
    },
    {
     "name": "stderr",
     "output_type": "stream",
     "text": [
      "/var/folders/2b/4tnqzv_x3x17pf4q1_n7m8h40000gn/T/ipykernel_936/3128575474.py:29: RuntimeWarning: Fiducial point nasion not found, assuming identity unknown to head transformation\n",
      "  epochs.set_montage(montage)\n"
     ]
    },
    {
     "name": "stdout",
     "output_type": "stream",
     "text": [
      "dropping channel\n",
      "Filtering raw data in 1 contiguous segment\n",
      "Setting up band-pass filter from 3 - 40 Hz\n",
      "\n",
      "FIR filter parameters\n",
      "---------------------\n",
      "Designing a one-pass, zero-phase, non-causal bandpass filter:\n",
      "- Windowed time-domain design (firwin) method\n",
      "- Hamming window with 0.0194 passband ripple and 53 dB stopband attenuation\n",
      "- Lower passband edge: 3.00\n",
      "- Lower transition bandwidth: 2.00 Hz (-6 dB cutoff frequency: 2.00 Hz)\n",
      "- Upper passband edge: 40.00 Hz\n",
      "- Upper transition bandwidth: 10.00 Hz (-6 dB cutoff frequency: 45.00 Hz)\n",
      "- Filter length: 1651 samples (1.651 s)\n",
      "\n"
     ]
    },
    {
     "name": "stderr",
     "output_type": "stream",
     "text": [
      "[Parallel(n_jobs=1)]: Using backend SequentialBackend with 1 concurrent workers.\n",
      "[Parallel(n_jobs=1)]: Done   1 out of   1 | elapsed:    0.0s remaining:    0.0s\n",
      "[Parallel(n_jobs=1)]: Done   2 out of   2 | elapsed:    0.0s remaining:    0.0s\n",
      "[Parallel(n_jobs=1)]: Done   3 out of   3 | elapsed:    0.0s remaining:    0.0s\n",
      "[Parallel(n_jobs=1)]: Done   4 out of   4 | elapsed:    0.1s remaining:    0.0s\n"
     ]
    },
    {
     "name": "stdout",
     "output_type": "stream",
     "text": [
      "Used Annotations descriptions: ['Comment/101', 'Comment/109', 'Comment/30', 'Comment/40', 'Comment/50', 'Comment/51', 'Comment/52', 'Comment/60', 'Comment/70', 'Comment/80', 'New Segment/']\n",
      "EEG channel type selected for re-referencing\n",
      "Applying average reference.\n",
      "Applying a custom ('EEG',) reference.\n"
     ]
    },
    {
     "name": "stderr",
     "output_type": "stream",
     "text": [
      "[Parallel(n_jobs=1)]: Done  63 out of  63 | elapsed:    0.7s finished\n"
     ]
    },
    {
     "name": "stdout",
     "output_type": "stream",
     "text": [
      "Multiple event values for single event times found. Keeping the first occurrence and dropping all others.\n",
      "Not setting metadata\n",
      "410 matching events found\n",
      "Setting baseline interval to [0.0, 2.0] s\n",
      "Applying baseline correction (mode: mean)\n",
      "0 projection items activated\n",
      "Using data from preloaded Raw for 410 events and 2501 original time points ...\n",
      "3 bad epochs dropped\n",
      "Extracting parameters from ./ica_notebooks/cleaned/m_07_02/m_07_02_pos2b.vhdr...\n",
      "Setting channel info structure...\n",
      "Reading 0 ... 678635  =      0.000 ...   678.635 secs...\n"
     ]
    },
    {
     "name": "stderr",
     "output_type": "stream",
     "text": [
      "/var/folders/2b/4tnqzv_x3x17pf4q1_n7m8h40000gn/T/ipykernel_936/3128575474.py:29: RuntimeWarning: Fiducial point nasion not found, assuming identity unknown to head transformation\n",
      "  epochs.set_montage(montage)\n"
     ]
    },
    {
     "name": "stdout",
     "output_type": "stream",
     "text": [
      "dropping channel\n",
      "Filtering raw data in 1 contiguous segment\n",
      "Setting up band-pass filter from 3 - 40 Hz\n",
      "\n",
      "FIR filter parameters\n",
      "---------------------\n",
      "Designing a one-pass, zero-phase, non-causal bandpass filter:\n",
      "- Windowed time-domain design (firwin) method\n",
      "- Hamming window with 0.0194 passband ripple and 53 dB stopband attenuation\n",
      "- Lower passband edge: 3.00\n",
      "- Lower transition bandwidth: 2.00 Hz (-6 dB cutoff frequency: 2.00 Hz)\n",
      "- Upper passband edge: 40.00 Hz\n",
      "- Upper transition bandwidth: 10.00 Hz (-6 dB cutoff frequency: 45.00 Hz)\n",
      "- Filter length: 1651 samples (1.651 s)\n",
      "\n"
     ]
    },
    {
     "name": "stderr",
     "output_type": "stream",
     "text": [
      "[Parallel(n_jobs=1)]: Using backend SequentialBackend with 1 concurrent workers.\n",
      "[Parallel(n_jobs=1)]: Done   1 out of   1 | elapsed:    0.0s remaining:    0.0s\n",
      "[Parallel(n_jobs=1)]: Done   2 out of   2 | elapsed:    0.0s remaining:    0.0s\n",
      "[Parallel(n_jobs=1)]: Done   3 out of   3 | elapsed:    0.0s remaining:    0.0s\n",
      "[Parallel(n_jobs=1)]: Done   4 out of   4 | elapsed:    0.0s remaining:    0.0s\n"
     ]
    },
    {
     "name": "stdout",
     "output_type": "stream",
     "text": [
      "Used Annotations descriptions: ['Comment/101', 'Comment/109', 'Comment/30', 'Comment/40', 'Comment/50', 'Comment/51', 'Comment/52', 'Comment/60', 'Comment/70', 'Comment/80', 'New Segment/']\n",
      "EEG channel type selected for re-referencing\n",
      "Applying average reference.\n",
      "Applying a custom ('EEG',) reference.\n"
     ]
    },
    {
     "name": "stderr",
     "output_type": "stream",
     "text": [
      "[Parallel(n_jobs=1)]: Done  63 out of  63 | elapsed:    0.7s finished\n"
     ]
    },
    {
     "name": "stdout",
     "output_type": "stream",
     "text": [
      "Multiple event values for single event times found. Keeping the first occurrence and dropping all others.\n",
      "Not setting metadata\n",
      "410 matching events found\n",
      "Setting baseline interval to [0.0, 2.0] s\n",
      "Applying baseline correction (mode: mean)\n",
      "0 projection items activated\n",
      "Using data from preloaded Raw for 410 events and 2501 original time points ...\n",
      "2 bad epochs dropped\n",
      "Extracting parameters from ./ica_notebooks/cleaned/m_03_02/m_03_02_pos2b.vhdr...\n",
      "Setting channel info structure...\n",
      "Reading 0 ... 696262  =      0.000 ...   696.262 secs...\n"
     ]
    },
    {
     "name": "stderr",
     "output_type": "stream",
     "text": [
      "/var/folders/2b/4tnqzv_x3x17pf4q1_n7m8h40000gn/T/ipykernel_936/3128575474.py:29: RuntimeWarning: Fiducial point nasion not found, assuming identity unknown to head transformation\n",
      "  epochs.set_montage(montage)\n"
     ]
    },
    {
     "name": "stdout",
     "output_type": "stream",
     "text": [
      "dropping channel\n",
      "Filtering raw data in 1 contiguous segment\n",
      "Setting up band-pass filter from 3 - 40 Hz\n",
      "\n",
      "FIR filter parameters\n",
      "---------------------\n",
      "Designing a one-pass, zero-phase, non-causal bandpass filter:\n",
      "- Windowed time-domain design (firwin) method\n",
      "- Hamming window with 0.0194 passband ripple and 53 dB stopband attenuation\n",
      "- Lower passband edge: 3.00\n",
      "- Lower transition bandwidth: 2.00 Hz (-6 dB cutoff frequency: 2.00 Hz)\n",
      "- Upper passband edge: 40.00 Hz\n",
      "- Upper transition bandwidth: 10.00 Hz (-6 dB cutoff frequency: 45.00 Hz)\n",
      "- Filter length: 1651 samples (1.651 s)\n",
      "\n"
     ]
    },
    {
     "name": "stderr",
     "output_type": "stream",
     "text": [
      "[Parallel(n_jobs=1)]: Using backend SequentialBackend with 1 concurrent workers.\n",
      "[Parallel(n_jobs=1)]: Done   1 out of   1 | elapsed:    0.0s remaining:    0.0s\n",
      "[Parallel(n_jobs=1)]: Done   2 out of   2 | elapsed:    0.0s remaining:    0.0s\n",
      "[Parallel(n_jobs=1)]: Done   3 out of   3 | elapsed:    0.0s remaining:    0.0s\n",
      "[Parallel(n_jobs=1)]: Done   4 out of   4 | elapsed:    0.0s remaining:    0.0s\n"
     ]
    },
    {
     "name": "stdout",
     "output_type": "stream",
     "text": [
      "Used Annotations descriptions: ['Comment/101', 'Comment/109', 'Comment/30', 'Comment/40', 'Comment/50', 'Comment/51', 'Comment/52', 'Comment/60', 'Comment/70', 'Comment/80', 'New Segment/']\n",
      "EEG channel type selected for re-referencing\n",
      "Applying average reference.\n",
      "Applying a custom ('EEG',) reference.\n"
     ]
    },
    {
     "name": "stderr",
     "output_type": "stream",
     "text": [
      "[Parallel(n_jobs=1)]: Done  63 out of  63 | elapsed:    0.7s finished\n"
     ]
    },
    {
     "name": "stdout",
     "output_type": "stream",
     "text": [
      "Multiple event values for single event times found. Keeping the first occurrence and dropping all others.\n",
      "Not setting metadata\n",
      "411 matching events found\n",
      "Setting baseline interval to [0.0, 2.0] s\n",
      "Applying baseline correction (mode: mean)\n",
      "0 projection items activated\n",
      "Using data from preloaded Raw for 411 events and 2501 original time points ...\n",
      "2 bad epochs dropped\n",
      "Extracting parameters from ./ica_notebooks/cleaned/m_16_02/m_16_02_pos2b.vhdr...\n",
      "Setting channel info structure...\n",
      "Reading 0 ... 700376  =      0.000 ...   700.376 secs...\n"
     ]
    },
    {
     "name": "stderr",
     "output_type": "stream",
     "text": [
      "/var/folders/2b/4tnqzv_x3x17pf4q1_n7m8h40000gn/T/ipykernel_936/3128575474.py:29: RuntimeWarning: Fiducial point nasion not found, assuming identity unknown to head transformation\n",
      "  epochs.set_montage(montage)\n"
     ]
    },
    {
     "name": "stdout",
     "output_type": "stream",
     "text": [
      "dropping channel\n",
      "Filtering raw data in 1 contiguous segment\n",
      "Setting up band-pass filter from 3 - 40 Hz\n",
      "\n",
      "FIR filter parameters\n",
      "---------------------\n",
      "Designing a one-pass, zero-phase, non-causal bandpass filter:\n",
      "- Windowed time-domain design (firwin) method\n",
      "- Hamming window with 0.0194 passband ripple and 53 dB stopband attenuation\n",
      "- Lower passband edge: 3.00\n",
      "- Lower transition bandwidth: 2.00 Hz (-6 dB cutoff frequency: 2.00 Hz)\n",
      "- Upper passband edge: 40.00 Hz\n",
      "- Upper transition bandwidth: 10.00 Hz (-6 dB cutoff frequency: 45.00 Hz)\n",
      "- Filter length: 1651 samples (1.651 s)\n",
      "\n"
     ]
    },
    {
     "name": "stderr",
     "output_type": "stream",
     "text": [
      "[Parallel(n_jobs=1)]: Using backend SequentialBackend with 1 concurrent workers.\n",
      "[Parallel(n_jobs=1)]: Done   1 out of   1 | elapsed:    0.0s remaining:    0.0s\n",
      "[Parallel(n_jobs=1)]: Done   2 out of   2 | elapsed:    0.0s remaining:    0.0s\n",
      "[Parallel(n_jobs=1)]: Done   3 out of   3 | elapsed:    0.0s remaining:    0.0s\n",
      "[Parallel(n_jobs=1)]: Done   4 out of   4 | elapsed:    0.0s remaining:    0.0s\n"
     ]
    },
    {
     "name": "stdout",
     "output_type": "stream",
     "text": [
      "Used Annotations descriptions: ['Comment/101', 'Comment/109', 'Comment/30', 'Comment/40', 'Comment/50', 'Comment/51', 'Comment/52', 'Comment/60', 'Comment/70', 'Comment/80', 'New Segment/']\n",
      "EEG channel type selected for re-referencing\n",
      "Applying average reference.\n",
      "Applying a custom ('EEG',) reference.\n"
     ]
    },
    {
     "name": "stderr",
     "output_type": "stream",
     "text": [
      "[Parallel(n_jobs=1)]: Done  63 out of  63 | elapsed:    0.7s finished\n"
     ]
    },
    {
     "name": "stdout",
     "output_type": "stream",
     "text": [
      "Multiple event values for single event times found. Keeping the first occurrence and dropping all others.\n",
      "Not setting metadata\n",
      "410 matching events found\n",
      "Setting baseline interval to [0.0, 2.0] s\n",
      "Applying baseline correction (mode: mean)\n",
      "0 projection items activated\n",
      "Using data from preloaded Raw for 410 events and 2501 original time points ...\n",
      "2 bad epochs dropped\n",
      "Extracting parameters from ./ica_notebooks/cleaned/m_15_02/m_15_02_pos2b.vhdr...\n",
      "Setting channel info structure...\n",
      "Reading 0 ... 687590  =      0.000 ...   687.590 secs...\n"
     ]
    },
    {
     "name": "stderr",
     "output_type": "stream",
     "text": [
      "/var/folders/2b/4tnqzv_x3x17pf4q1_n7m8h40000gn/T/ipykernel_936/3128575474.py:29: RuntimeWarning: Fiducial point nasion not found, assuming identity unknown to head transformation\n",
      "  epochs.set_montage(montage)\n"
     ]
    },
    {
     "name": "stdout",
     "output_type": "stream",
     "text": [
      "dropping channel\n",
      "Filtering raw data in 1 contiguous segment\n",
      "Setting up band-pass filter from 3 - 40 Hz\n",
      "\n",
      "FIR filter parameters\n",
      "---------------------\n",
      "Designing a one-pass, zero-phase, non-causal bandpass filter:\n",
      "- Windowed time-domain design (firwin) method\n",
      "- Hamming window with 0.0194 passband ripple and 53 dB stopband attenuation\n",
      "- Lower passband edge: 3.00\n",
      "- Lower transition bandwidth: 2.00 Hz (-6 dB cutoff frequency: 2.00 Hz)\n",
      "- Upper passband edge: 40.00 Hz\n",
      "- Upper transition bandwidth: 10.00 Hz (-6 dB cutoff frequency: 45.00 Hz)\n",
      "- Filter length: 1651 samples (1.651 s)\n",
      "\n"
     ]
    },
    {
     "name": "stderr",
     "output_type": "stream",
     "text": [
      "[Parallel(n_jobs=1)]: Using backend SequentialBackend with 1 concurrent workers.\n",
      "[Parallel(n_jobs=1)]: Done   1 out of   1 | elapsed:    0.0s remaining:    0.0s\n",
      "[Parallel(n_jobs=1)]: Done   2 out of   2 | elapsed:    0.0s remaining:    0.0s\n",
      "[Parallel(n_jobs=1)]: Done   3 out of   3 | elapsed:    0.0s remaining:    0.0s\n",
      "[Parallel(n_jobs=1)]: Done   4 out of   4 | elapsed:    0.1s remaining:    0.0s\n"
     ]
    },
    {
     "name": "stdout",
     "output_type": "stream",
     "text": [
      "Used Annotations descriptions: ['Comment/101', 'Comment/109', 'Comment/30', 'Comment/40', 'Comment/50', 'Comment/51', 'Comment/52', 'Comment/60', 'Comment/70', 'Comment/80', 'New Segment/']\n",
      "EEG channel type selected for re-referencing\n",
      "Applying average reference.\n",
      "Applying a custom ('EEG',) reference.\n"
     ]
    },
    {
     "name": "stderr",
     "output_type": "stream",
     "text": [
      "[Parallel(n_jobs=1)]: Done  63 out of  63 | elapsed:    0.7s finished\n"
     ]
    },
    {
     "name": "stdout",
     "output_type": "stream",
     "text": [
      "Multiple event values for single event times found. Keeping the first occurrence and dropping all others.\n",
      "Not setting metadata\n",
      "409 matching events found\n",
      "Setting baseline interval to [0.0, 2.0] s\n",
      "Applying baseline correction (mode: mean)\n",
      "0 projection items activated\n",
      "Using data from preloaded Raw for 409 events and 2501 original time points ...\n",
      "3 bad epochs dropped\n",
      "Extracting parameters from ./ica_notebooks/cleaned/m_20_02/m_20_02_pos2b.vhdr...\n",
      "Setting channel info structure...\n",
      "Reading 0 ... 507628  =      0.000 ...   507.628 secs...\n"
     ]
    },
    {
     "name": "stderr",
     "output_type": "stream",
     "text": [
      "/var/folders/2b/4tnqzv_x3x17pf4q1_n7m8h40000gn/T/ipykernel_936/3128575474.py:29: RuntimeWarning: Fiducial point nasion not found, assuming identity unknown to head transformation\n",
      "  epochs.set_montage(montage)\n"
     ]
    },
    {
     "name": "stdout",
     "output_type": "stream",
     "text": [
      "dropping channel\n",
      "Filtering raw data in 1 contiguous segment\n",
      "Setting up band-pass filter from 3 - 40 Hz\n",
      "\n",
      "FIR filter parameters\n",
      "---------------------\n",
      "Designing a one-pass, zero-phase, non-causal bandpass filter:\n",
      "- Windowed time-domain design (firwin) method\n",
      "- Hamming window with 0.0194 passband ripple and 53 dB stopband attenuation\n",
      "- Lower passband edge: 3.00\n",
      "- Lower transition bandwidth: 2.00 Hz (-6 dB cutoff frequency: 2.00 Hz)\n",
      "- Upper passband edge: 40.00 Hz\n",
      "- Upper transition bandwidth: 10.00 Hz (-6 dB cutoff frequency: 45.00 Hz)\n",
      "- Filter length: 1651 samples (1.651 s)\n",
      "\n"
     ]
    },
    {
     "name": "stderr",
     "output_type": "stream",
     "text": [
      "[Parallel(n_jobs=1)]: Using backend SequentialBackend with 1 concurrent workers.\n",
      "[Parallel(n_jobs=1)]: Done   1 out of   1 | elapsed:    0.0s remaining:    0.0s\n",
      "[Parallel(n_jobs=1)]: Done   2 out of   2 | elapsed:    0.0s remaining:    0.0s\n",
      "[Parallel(n_jobs=1)]: Done   3 out of   3 | elapsed:    0.0s remaining:    0.0s\n",
      "[Parallel(n_jobs=1)]: Done   4 out of   4 | elapsed:    0.0s remaining:    0.0s\n"
     ]
    },
    {
     "name": "stdout",
     "output_type": "stream",
     "text": [
      "Used Annotations descriptions: ['Comment/101', 'Comment/109', 'Comment/30', 'Comment/40', 'Comment/50', 'Comment/51', 'Comment/52', 'Comment/60', 'Comment/70', 'Comment/80', 'New Segment/']\n",
      "EEG channel type selected for re-referencing\n",
      "Applying average reference.\n",
      "Applying a custom ('EEG',) reference.\n"
     ]
    },
    {
     "name": "stderr",
     "output_type": "stream",
     "text": [
      "[Parallel(n_jobs=1)]: Done  63 out of  63 | elapsed:    0.5s finished\n"
     ]
    },
    {
     "name": "stdout",
     "output_type": "stream",
     "text": [
      "Multiple event values for single event times found. Keeping the first occurrence and dropping all others.\n",
      "Not setting metadata\n",
      "308 matching events found\n",
      "Setting baseline interval to [0.0, 2.0] s\n",
      "Applying baseline correction (mode: mean)\n",
      "0 projection items activated\n",
      "Using data from preloaded Raw for 308 events and 2501 original time points ...\n",
      "2 bad epochs dropped\n",
      "Extracting parameters from ./ica_notebooks/cleaned/m_14_02/m_14_02_pos2b.vhdr...\n",
      "Setting channel info structure...\n",
      "Reading 0 ... 667933  =      0.000 ...   667.933 secs...\n"
     ]
    },
    {
     "name": "stderr",
     "output_type": "stream",
     "text": [
      "/var/folders/2b/4tnqzv_x3x17pf4q1_n7m8h40000gn/T/ipykernel_936/3128575474.py:29: RuntimeWarning: Fiducial point nasion not found, assuming identity unknown to head transformation\n",
      "  epochs.set_montage(montage)\n"
     ]
    },
    {
     "name": "stdout",
     "output_type": "stream",
     "text": [
      "dropping channel\n",
      "Filtering raw data in 1 contiguous segment\n",
      "Setting up band-pass filter from 3 - 40 Hz\n",
      "\n",
      "FIR filter parameters\n",
      "---------------------\n",
      "Designing a one-pass, zero-phase, non-causal bandpass filter:\n",
      "- Windowed time-domain design (firwin) method\n",
      "- Hamming window with 0.0194 passband ripple and 53 dB stopband attenuation\n",
      "- Lower passband edge: 3.00\n",
      "- Lower transition bandwidth: 2.00 Hz (-6 dB cutoff frequency: 2.00 Hz)\n",
      "- Upper passband edge: 40.00 Hz\n",
      "- Upper transition bandwidth: 10.00 Hz (-6 dB cutoff frequency: 45.00 Hz)\n",
      "- Filter length: 1651 samples (1.651 s)\n",
      "\n"
     ]
    },
    {
     "name": "stderr",
     "output_type": "stream",
     "text": [
      "[Parallel(n_jobs=1)]: Using backend SequentialBackend with 1 concurrent workers.\n",
      "[Parallel(n_jobs=1)]: Done   1 out of   1 | elapsed:    0.0s remaining:    0.0s\n",
      "[Parallel(n_jobs=1)]: Done   2 out of   2 | elapsed:    0.0s remaining:    0.0s\n",
      "[Parallel(n_jobs=1)]: Done   3 out of   3 | elapsed:    0.0s remaining:    0.0s\n",
      "[Parallel(n_jobs=1)]: Done   4 out of   4 | elapsed:    0.1s remaining:    0.0s\n"
     ]
    },
    {
     "name": "stdout",
     "output_type": "stream",
     "text": [
      "Used Annotations descriptions: ['Comment/101', 'Comment/109', 'Comment/30', 'Comment/40', 'Comment/50', 'Comment/51', 'Comment/52', 'Comment/60', 'Comment/70', 'Comment/80', 'New Segment/']\n",
      "EEG channel type selected for re-referencing\n",
      "Applying average reference.\n",
      "Applying a custom ('EEG',) reference.\n"
     ]
    },
    {
     "name": "stderr",
     "output_type": "stream",
     "text": [
      "[Parallel(n_jobs=1)]: Done  63 out of  63 | elapsed:    0.6s finished\n"
     ]
    },
    {
     "name": "stdout",
     "output_type": "stream",
     "text": [
      "Multiple event values for single event times found. Keeping the first occurrence and dropping all others.\n",
      "Not setting metadata\n",
      "410 matching events found\n",
      "Setting baseline interval to [0.0, 2.0] s\n",
      "Applying baseline correction (mode: mean)\n",
      "0 projection items activated\n",
      "Using data from preloaded Raw for 410 events and 2501 original time points ...\n",
      "2 bad epochs dropped\n",
      "Extracting parameters from ./ica_notebooks/cleaned/m_00_02/m_00_02_pos2b.vhdr...\n",
      "Setting channel info structure...\n",
      "Reading 0 ... 679689  =      0.000 ...   679.689 secs...\n"
     ]
    },
    {
     "name": "stderr",
     "output_type": "stream",
     "text": [
      "/var/folders/2b/4tnqzv_x3x17pf4q1_n7m8h40000gn/T/ipykernel_936/3128575474.py:29: RuntimeWarning: Fiducial point nasion not found, assuming identity unknown to head transformation\n",
      "  epochs.set_montage(montage)\n"
     ]
    },
    {
     "name": "stdout",
     "output_type": "stream",
     "text": [
      "dropping channel\n",
      "Filtering raw data in 1 contiguous segment\n",
      "Setting up band-pass filter from 3 - 40 Hz\n",
      "\n",
      "FIR filter parameters\n",
      "---------------------\n",
      "Designing a one-pass, zero-phase, non-causal bandpass filter:\n",
      "- Windowed time-domain design (firwin) method\n",
      "- Hamming window with 0.0194 passband ripple and 53 dB stopband attenuation\n",
      "- Lower passband edge: 3.00\n",
      "- Lower transition bandwidth: 2.00 Hz (-6 dB cutoff frequency: 2.00 Hz)\n",
      "- Upper passband edge: 40.00 Hz\n",
      "- Upper transition bandwidth: 10.00 Hz (-6 dB cutoff frequency: 45.00 Hz)\n",
      "- Filter length: 1651 samples (1.651 s)\n",
      "\n"
     ]
    },
    {
     "name": "stderr",
     "output_type": "stream",
     "text": [
      "[Parallel(n_jobs=1)]: Using backend SequentialBackend with 1 concurrent workers.\n",
      "[Parallel(n_jobs=1)]: Done   1 out of   1 | elapsed:    0.0s remaining:    0.0s\n",
      "[Parallel(n_jobs=1)]: Done   2 out of   2 | elapsed:    0.0s remaining:    0.0s\n",
      "[Parallel(n_jobs=1)]: Done   3 out of   3 | elapsed:    0.0s remaining:    0.0s\n",
      "[Parallel(n_jobs=1)]: Done   4 out of   4 | elapsed:    0.0s remaining:    0.0s\n"
     ]
    },
    {
     "name": "stdout",
     "output_type": "stream",
     "text": [
      "Used Annotations descriptions: ['Comment/101', 'Comment/109', 'Comment/30', 'Comment/40', 'Comment/50', 'Comment/51', 'Comment/52', 'Comment/60', 'Comment/70', 'Comment/80', 'New Segment/']\n",
      "EEG channel type selected for re-referencing\n",
      "Applying average reference.\n",
      "Applying a custom ('EEG',) reference.\n"
     ]
    },
    {
     "name": "stderr",
     "output_type": "stream",
     "text": [
      "[Parallel(n_jobs=1)]: Done  63 out of  63 | elapsed:    0.6s finished\n"
     ]
    },
    {
     "name": "stdout",
     "output_type": "stream",
     "text": [
      "Multiple event values for single event times found. Keeping the first occurrence and dropping all others.\n",
      "Not setting metadata\n",
      "411 matching events found\n",
      "Setting baseline interval to [0.0, 2.0] s\n",
      "Applying baseline correction (mode: mean)\n",
      "0 projection items activated\n",
      "Using data from preloaded Raw for 411 events and 2501 original time points ...\n",
      "2 bad epochs dropped\n",
      "Extracting parameters from ./ica_notebooks/cleaned/m_10_02/m_10_02_pos2b.vhdr...\n",
      "Setting channel info structure...\n",
      "Reading 0 ... 668899  =      0.000 ...   668.899 secs...\n"
     ]
    },
    {
     "name": "stderr",
     "output_type": "stream",
     "text": [
      "/var/folders/2b/4tnqzv_x3x17pf4q1_n7m8h40000gn/T/ipykernel_936/3128575474.py:29: RuntimeWarning: Fiducial point nasion not found, assuming identity unknown to head transformation\n",
      "  epochs.set_montage(montage)\n"
     ]
    },
    {
     "name": "stdout",
     "output_type": "stream",
     "text": [
      "dropping channel\n",
      "Filtering raw data in 1 contiguous segment\n",
      "Setting up band-pass filter from 3 - 40 Hz\n",
      "\n",
      "FIR filter parameters\n",
      "---------------------\n",
      "Designing a one-pass, zero-phase, non-causal bandpass filter:\n",
      "- Windowed time-domain design (firwin) method\n",
      "- Hamming window with 0.0194 passband ripple and 53 dB stopband attenuation\n",
      "- Lower passband edge: 3.00\n",
      "- Lower transition bandwidth: 2.00 Hz (-6 dB cutoff frequency: 2.00 Hz)\n",
      "- Upper passband edge: 40.00 Hz\n",
      "- Upper transition bandwidth: 10.00 Hz (-6 dB cutoff frequency: 45.00 Hz)\n",
      "- Filter length: 1651 samples (1.651 s)\n",
      "\n"
     ]
    },
    {
     "name": "stderr",
     "output_type": "stream",
     "text": [
      "[Parallel(n_jobs=1)]: Using backend SequentialBackend with 1 concurrent workers.\n",
      "[Parallel(n_jobs=1)]: Done   1 out of   1 | elapsed:    0.0s remaining:    0.0s\n",
      "[Parallel(n_jobs=1)]: Done   2 out of   2 | elapsed:    0.0s remaining:    0.0s\n",
      "[Parallel(n_jobs=1)]: Done   3 out of   3 | elapsed:    0.0s remaining:    0.0s\n",
      "[Parallel(n_jobs=1)]: Done   4 out of   4 | elapsed:    0.1s remaining:    0.0s\n"
     ]
    },
    {
     "name": "stdout",
     "output_type": "stream",
     "text": [
      "Used Annotations descriptions: ['Comment/101', 'Comment/109', 'Comment/30', 'Comment/40', 'Comment/50', 'Comment/51', 'Comment/52', 'Comment/60', 'Comment/70', 'Comment/80', 'New Segment/']\n",
      "EEG channel type selected for re-referencing\n",
      "Applying average reference.\n",
      "Applying a custom ('EEG',) reference.\n"
     ]
    },
    {
     "name": "stderr",
     "output_type": "stream",
     "text": [
      "[Parallel(n_jobs=1)]: Done  63 out of  63 | elapsed:    0.7s finished\n"
     ]
    },
    {
     "name": "stdout",
     "output_type": "stream",
     "text": [
      "Multiple event values for single event times found. Keeping the first occurrence and dropping all others.\n",
      "Not setting metadata\n",
      "409 matching events found\n",
      "Setting baseline interval to [0.0, 2.0] s\n",
      "Applying baseline correction (mode: mean)\n",
      "0 projection items activated\n",
      "Using data from preloaded Raw for 409 events and 2501 original time points ...\n",
      "2 bad epochs dropped\n",
      "Extracting parameters from ./ica_notebooks/cleaned/m_11_01/m_11_01_pos1a.vhdr...\n",
      "Setting channel info structure...\n",
      "Reading 0 ... 675030  =      0.000 ...   675.030 secs...\n"
     ]
    },
    {
     "name": "stderr",
     "output_type": "stream",
     "text": [
      "/var/folders/2b/4tnqzv_x3x17pf4q1_n7m8h40000gn/T/ipykernel_936/3128575474.py:29: RuntimeWarning: Fiducial point nasion not found, assuming identity unknown to head transformation\n",
      "  epochs.set_montage(montage)\n"
     ]
    },
    {
     "name": "stdout",
     "output_type": "stream",
     "text": [
      "dropping channel\n",
      "Filtering raw data in 1 contiguous segment\n",
      "Setting up band-pass filter from 3 - 40 Hz\n",
      "\n",
      "FIR filter parameters\n",
      "---------------------\n",
      "Designing a one-pass, zero-phase, non-causal bandpass filter:\n",
      "- Windowed time-domain design (firwin) method\n",
      "- Hamming window with 0.0194 passband ripple and 53 dB stopband attenuation\n",
      "- Lower passband edge: 3.00\n",
      "- Lower transition bandwidth: 2.00 Hz (-6 dB cutoff frequency: 2.00 Hz)\n",
      "- Upper passband edge: 40.00 Hz\n",
      "- Upper transition bandwidth: 10.00 Hz (-6 dB cutoff frequency: 45.00 Hz)\n",
      "- Filter length: 1651 samples (1.651 s)\n",
      "\n"
     ]
    },
    {
     "name": "stderr",
     "output_type": "stream",
     "text": [
      "[Parallel(n_jobs=1)]: Using backend SequentialBackend with 1 concurrent workers.\n",
      "[Parallel(n_jobs=1)]: Done   1 out of   1 | elapsed:    0.0s remaining:    0.0s\n",
      "[Parallel(n_jobs=1)]: Done   2 out of   2 | elapsed:    0.0s remaining:    0.0s\n",
      "[Parallel(n_jobs=1)]: Done   3 out of   3 | elapsed:    0.0s remaining:    0.0s\n",
      "[Parallel(n_jobs=1)]: Done   4 out of   4 | elapsed:    0.1s remaining:    0.0s\n"
     ]
    },
    {
     "name": "stdout",
     "output_type": "stream",
     "text": [
      "Used Annotations descriptions: ['Comment/101', 'Comment/109', 'Comment/30', 'Comment/40', 'Comment/50', 'Comment/51', 'Comment/52', 'Comment/60', 'Comment/70', 'Comment/80', 'New Segment/']\n",
      "EEG channel type selected for re-referencing\n",
      "Applying average reference.\n",
      "Applying a custom ('EEG',) reference.\n"
     ]
    },
    {
     "name": "stderr",
     "output_type": "stream",
     "text": [
      "[Parallel(n_jobs=1)]: Done  63 out of  63 | elapsed:    0.7s finished\n"
     ]
    },
    {
     "name": "stdout",
     "output_type": "stream",
     "text": [
      "Multiple event values for single event times found. Keeping the first occurrence and dropping all others.\n",
      "Not setting metadata\n",
      "411 matching events found\n",
      "Setting baseline interval to [0.0, 2.0] s\n",
      "Applying baseline correction (mode: mean)\n",
      "0 projection items activated\n",
      "Using data from preloaded Raw for 411 events and 2501 original time points ...\n",
      "2 bad epochs dropped\n",
      "Extracting parameters from ./ica_notebooks/cleaned/m_15_01/m_15_01_pos1a.vhdr...\n",
      "Setting channel info structure...\n",
      "Reading 0 ... 703100  =      0.000 ...   703.100 secs...\n"
     ]
    },
    {
     "name": "stderr",
     "output_type": "stream",
     "text": [
      "/var/folders/2b/4tnqzv_x3x17pf4q1_n7m8h40000gn/T/ipykernel_936/3128575474.py:29: RuntimeWarning: Fiducial point nasion not found, assuming identity unknown to head transformation\n",
      "  epochs.set_montage(montage)\n"
     ]
    },
    {
     "name": "stdout",
     "output_type": "stream",
     "text": [
      "dropping channel\n",
      "Filtering raw data in 1 contiguous segment\n",
      "Setting up band-pass filter from 3 - 40 Hz\n",
      "\n",
      "FIR filter parameters\n",
      "---------------------\n",
      "Designing a one-pass, zero-phase, non-causal bandpass filter:\n",
      "- Windowed time-domain design (firwin) method\n",
      "- Hamming window with 0.0194 passband ripple and 53 dB stopband attenuation\n",
      "- Lower passband edge: 3.00\n",
      "- Lower transition bandwidth: 2.00 Hz (-6 dB cutoff frequency: 2.00 Hz)\n",
      "- Upper passband edge: 40.00 Hz\n",
      "- Upper transition bandwidth: 10.00 Hz (-6 dB cutoff frequency: 45.00 Hz)\n",
      "- Filter length: 1651 samples (1.651 s)\n",
      "\n"
     ]
    },
    {
     "name": "stderr",
     "output_type": "stream",
     "text": [
      "[Parallel(n_jobs=1)]: Using backend SequentialBackend with 1 concurrent workers.\n",
      "[Parallel(n_jobs=1)]: Done   1 out of   1 | elapsed:    0.0s remaining:    0.0s\n",
      "[Parallel(n_jobs=1)]: Done   2 out of   2 | elapsed:    0.0s remaining:    0.0s\n",
      "[Parallel(n_jobs=1)]: Done   3 out of   3 | elapsed:    0.0s remaining:    0.0s\n",
      "[Parallel(n_jobs=1)]: Done   4 out of   4 | elapsed:    0.0s remaining:    0.0s\n"
     ]
    },
    {
     "name": "stdout",
     "output_type": "stream",
     "text": [
      "Used Annotations descriptions: ['Comment/101', 'Comment/109', 'Comment/30', 'Comment/40', 'Comment/50', 'Comment/51', 'Comment/52', 'Comment/60', 'Comment/70', 'Comment/80', 'New Segment/']\n",
      "EEG channel type selected for re-referencing\n",
      "Applying average reference.\n",
      "Applying a custom ('EEG',) reference.\n"
     ]
    },
    {
     "name": "stderr",
     "output_type": "stream",
     "text": [
      "[Parallel(n_jobs=1)]: Done  63 out of  63 | elapsed:    0.6s finished\n"
     ]
    },
    {
     "name": "stdout",
     "output_type": "stream",
     "text": [
      "Multiple event values for single event times found. Keeping the first occurrence and dropping all others.\n",
      "Not setting metadata\n",
      "411 matching events found\n",
      "Setting baseline interval to [0.0, 2.0] s\n",
      "Applying baseline correction (mode: mean)\n",
      "0 projection items activated\n",
      "Using data from preloaded Raw for 411 events and 2501 original time points ...\n",
      "2 bad epochs dropped\n",
      "Extracting parameters from ./ica_notebooks/cleaned/m_14_01/m_14_01_pos1a.vhdr...\n",
      "Setting channel info structure...\n",
      "Reading 0 ... 687981  =      0.000 ...   687.981 secs...\n"
     ]
    },
    {
     "name": "stderr",
     "output_type": "stream",
     "text": [
      "/var/folders/2b/4tnqzv_x3x17pf4q1_n7m8h40000gn/T/ipykernel_936/3128575474.py:29: RuntimeWarning: Fiducial point nasion not found, assuming identity unknown to head transformation\n",
      "  epochs.set_montage(montage)\n"
     ]
    },
    {
     "name": "stdout",
     "output_type": "stream",
     "text": [
      "dropping channel\n",
      "Filtering raw data in 1 contiguous segment\n",
      "Setting up band-pass filter from 3 - 40 Hz\n",
      "\n",
      "FIR filter parameters\n",
      "---------------------\n",
      "Designing a one-pass, zero-phase, non-causal bandpass filter:\n",
      "- Windowed time-domain design (firwin) method\n",
      "- Hamming window with 0.0194 passband ripple and 53 dB stopband attenuation\n",
      "- Lower passband edge: 3.00\n",
      "- Lower transition bandwidth: 2.00 Hz (-6 dB cutoff frequency: 2.00 Hz)\n",
      "- Upper passband edge: 40.00 Hz\n",
      "- Upper transition bandwidth: 10.00 Hz (-6 dB cutoff frequency: 45.00 Hz)\n",
      "- Filter length: 1651 samples (1.651 s)\n",
      "\n"
     ]
    },
    {
     "name": "stderr",
     "output_type": "stream",
     "text": [
      "[Parallel(n_jobs=1)]: Using backend SequentialBackend with 1 concurrent workers.\n",
      "[Parallel(n_jobs=1)]: Done   1 out of   1 | elapsed:    0.0s remaining:    0.0s\n",
      "[Parallel(n_jobs=1)]: Done   2 out of   2 | elapsed:    0.0s remaining:    0.0s\n",
      "[Parallel(n_jobs=1)]: Done   3 out of   3 | elapsed:    0.0s remaining:    0.0s\n",
      "[Parallel(n_jobs=1)]: Done   4 out of   4 | elapsed:    0.1s remaining:    0.0s\n"
     ]
    },
    {
     "name": "stdout",
     "output_type": "stream",
     "text": [
      "Used Annotations descriptions: ['Comment/101', 'Comment/109', 'Comment/30', 'Comment/40', 'Comment/50', 'Comment/51', 'Comment/52', 'Comment/60', 'Comment/70', 'Comment/80', 'New Segment/']\n",
      "EEG channel type selected for re-referencing\n",
      "Applying average reference.\n",
      "Applying a custom ('EEG',) reference.\n"
     ]
    },
    {
     "name": "stderr",
     "output_type": "stream",
     "text": [
      "[Parallel(n_jobs=1)]: Done  63 out of  63 | elapsed:    0.6s finished\n"
     ]
    },
    {
     "name": "stdout",
     "output_type": "stream",
     "text": [
      "Multiple event values for single event times found. Keeping the first occurrence and dropping all others.\n",
      "Not setting metadata\n",
      "409 matching events found\n",
      "Setting baseline interval to [0.0, 2.0] s\n",
      "Applying baseline correction (mode: mean)\n",
      "0 projection items activated\n",
      "Using data from preloaded Raw for 409 events and 2501 original time points ...\n",
      "2 bad epochs dropped\n",
      "Extracting parameters from ./ica_notebooks/cleaned/m_20_01/m_20_01_pos1a.vhdr...\n",
      "Setting channel info structure...\n",
      "Reading 0 ... 498570  =      0.000 ...   498.570 secs...\n",
      "dropping channel\n"
     ]
    },
    {
     "name": "stderr",
     "output_type": "stream",
     "text": [
      "/var/folders/2b/4tnqzv_x3x17pf4q1_n7m8h40000gn/T/ipykernel_936/3128575474.py:29: RuntimeWarning: Fiducial point nasion not found, assuming identity unknown to head transformation\n",
      "  epochs.set_montage(montage)\n"
     ]
    },
    {
     "name": "stdout",
     "output_type": "stream",
     "text": [
      "Filtering raw data in 1 contiguous segment\n",
      "Setting up band-pass filter from 3 - 40 Hz\n",
      "\n",
      "FIR filter parameters\n",
      "---------------------\n",
      "Designing a one-pass, zero-phase, non-causal bandpass filter:\n",
      "- Windowed time-domain design (firwin) method\n",
      "- Hamming window with 0.0194 passband ripple and 53 dB stopband attenuation\n",
      "- Lower passband edge: 3.00\n",
      "- Lower transition bandwidth: 2.00 Hz (-6 dB cutoff frequency: 2.00 Hz)\n",
      "- Upper passband edge: 40.00 Hz\n",
      "- Upper transition bandwidth: 10.00 Hz (-6 dB cutoff frequency: 45.00 Hz)\n",
      "- Filter length: 1651 samples (1.651 s)\n",
      "\n"
     ]
    },
    {
     "name": "stderr",
     "output_type": "stream",
     "text": [
      "[Parallel(n_jobs=1)]: Using backend SequentialBackend with 1 concurrent workers.\n",
      "[Parallel(n_jobs=1)]: Done   1 out of   1 | elapsed:    0.0s remaining:    0.0s\n",
      "[Parallel(n_jobs=1)]: Done   2 out of   2 | elapsed:    0.0s remaining:    0.0s\n",
      "[Parallel(n_jobs=1)]: Done   3 out of   3 | elapsed:    0.0s remaining:    0.0s\n",
      "[Parallel(n_jobs=1)]: Done   4 out of   4 | elapsed:    0.1s remaining:    0.0s\n"
     ]
    },
    {
     "name": "stdout",
     "output_type": "stream",
     "text": [
      "Used Annotations descriptions: ['Comment/101', 'Comment/109', 'Comment/30', 'Comment/40', 'Comment/50', 'Comment/51', 'Comment/52', 'Comment/60', 'Comment/70', 'Comment/80', 'New Segment/']\n",
      "EEG channel type selected for re-referencing\n",
      "Applying average reference.\n",
      "Applying a custom ('EEG',) reference.\n",
      "Multiple event values for single event times found. Keeping the first occurrence and dropping all others.\n",
      "Not setting metadata\n",
      "307 matching events found\n",
      "Setting baseline interval to [0.0, 2.0] s\n",
      "Applying baseline correction (mode: mean)\n",
      "0 projection items activated\n",
      "Using data from preloaded Raw for 307 events and 2501 original time points ...\n"
     ]
    },
    {
     "name": "stderr",
     "output_type": "stream",
     "text": [
      "[Parallel(n_jobs=1)]: Done  63 out of  63 | elapsed:    0.6s finished\n"
     ]
    },
    {
     "name": "stdout",
     "output_type": "stream",
     "text": [
      "3 bad epochs dropped\n",
      "Extracting parameters from ./ica_notebooks/cleaned/m_10_01/m_10_01_pos1a.vhdr...\n",
      "Setting channel info structure...\n",
      "Reading 0 ... 665561  =      0.000 ...   665.561 secs...\n"
     ]
    },
    {
     "name": "stderr",
     "output_type": "stream",
     "text": [
      "/var/folders/2b/4tnqzv_x3x17pf4q1_n7m8h40000gn/T/ipykernel_936/3128575474.py:29: RuntimeWarning: Fiducial point nasion not found, assuming identity unknown to head transformation\n",
      "  epochs.set_montage(montage)\n"
     ]
    },
    {
     "name": "stdout",
     "output_type": "stream",
     "text": [
      "dropping channel\n",
      "Filtering raw data in 1 contiguous segment\n",
      "Setting up band-pass filter from 3 - 40 Hz\n",
      "\n",
      "FIR filter parameters\n",
      "---------------------\n",
      "Designing a one-pass, zero-phase, non-causal bandpass filter:\n",
      "- Windowed time-domain design (firwin) method\n",
      "- Hamming window with 0.0194 passband ripple and 53 dB stopband attenuation\n",
      "- Lower passband edge: 3.00\n",
      "- Lower transition bandwidth: 2.00 Hz (-6 dB cutoff frequency: 2.00 Hz)\n",
      "- Upper passband edge: 40.00 Hz\n",
      "- Upper transition bandwidth: 10.00 Hz (-6 dB cutoff frequency: 45.00 Hz)\n",
      "- Filter length: 1651 samples (1.651 s)\n",
      "\n"
     ]
    },
    {
     "name": "stderr",
     "output_type": "stream",
     "text": [
      "[Parallel(n_jobs=1)]: Using backend SequentialBackend with 1 concurrent workers.\n",
      "[Parallel(n_jobs=1)]: Done   1 out of   1 | elapsed:    0.0s remaining:    0.0s\n",
      "[Parallel(n_jobs=1)]: Done   2 out of   2 | elapsed:    0.0s remaining:    0.0s\n",
      "[Parallel(n_jobs=1)]: Done   3 out of   3 | elapsed:    0.1s remaining:    0.0s\n",
      "[Parallel(n_jobs=1)]: Done   4 out of   4 | elapsed:    0.1s remaining:    0.0s\n"
     ]
    },
    {
     "name": "stdout",
     "output_type": "stream",
     "text": [
      "Used Annotations descriptions: ['Comment/101', 'Comment/109', 'Comment/30', 'Comment/40', 'Comment/50', 'Comment/51', 'Comment/52', 'Comment/60', 'Comment/70', 'Comment/80', 'New Segment/']\n",
      "EEG channel type selected for re-referencing\n",
      "Applying average reference.\n",
      "Applying a custom ('EEG',) reference.\n"
     ]
    },
    {
     "name": "stderr",
     "output_type": "stream",
     "text": [
      "[Parallel(n_jobs=1)]: Done  63 out of  63 | elapsed:    0.7s finished\n"
     ]
    },
    {
     "name": "stdout",
     "output_type": "stream",
     "text": [
      "Multiple event values for single event times found. Keeping the first occurrence and dropping all others.\n",
      "Not setting metadata\n",
      "411 matching events found\n",
      "Setting baseline interval to [0.0, 2.0] s\n",
      "Applying baseline correction (mode: mean)\n",
      "0 projection items activated\n",
      "Using data from preloaded Raw for 411 events and 2501 original time points ...\n",
      "2 bad epochs dropped\n",
      "Extracting parameters from ./ica_notebooks/cleaned/m_00_01/m_00_01_pos1a.vhdr...\n",
      "Setting channel info structure...\n",
      "Reading 0 ... 685731  =      0.000 ...   685.731 secs...\n"
     ]
    },
    {
     "name": "stderr",
     "output_type": "stream",
     "text": [
      "/var/folders/2b/4tnqzv_x3x17pf4q1_n7m8h40000gn/T/ipykernel_936/3128575474.py:29: RuntimeWarning: Fiducial point nasion not found, assuming identity unknown to head transformation\n",
      "  epochs.set_montage(montage)\n"
     ]
    },
    {
     "name": "stdout",
     "output_type": "stream",
     "text": [
      "dropping channel\n",
      "Filtering raw data in 1 contiguous segment\n",
      "Setting up band-pass filter from 3 - 40 Hz\n",
      "\n",
      "FIR filter parameters\n",
      "---------------------\n",
      "Designing a one-pass, zero-phase, non-causal bandpass filter:\n",
      "- Windowed time-domain design (firwin) method\n",
      "- Hamming window with 0.0194 passband ripple and 53 dB stopband attenuation\n",
      "- Lower passband edge: 3.00\n",
      "- Lower transition bandwidth: 2.00 Hz (-6 dB cutoff frequency: 2.00 Hz)\n",
      "- Upper passband edge: 40.00 Hz\n",
      "- Upper transition bandwidth: 10.00 Hz (-6 dB cutoff frequency: 45.00 Hz)\n",
      "- Filter length: 1651 samples (1.651 s)\n",
      "\n"
     ]
    },
    {
     "name": "stderr",
     "output_type": "stream",
     "text": [
      "[Parallel(n_jobs=1)]: Using backend SequentialBackend with 1 concurrent workers.\n",
      "[Parallel(n_jobs=1)]: Done   1 out of   1 | elapsed:    0.0s remaining:    0.0s\n",
      "[Parallel(n_jobs=1)]: Done   2 out of   2 | elapsed:    0.0s remaining:    0.0s\n",
      "[Parallel(n_jobs=1)]: Done   3 out of   3 | elapsed:    0.0s remaining:    0.0s\n",
      "[Parallel(n_jobs=1)]: Done   4 out of   4 | elapsed:    0.1s remaining:    0.0s\n"
     ]
    },
    {
     "name": "stdout",
     "output_type": "stream",
     "text": [
      "Used Annotations descriptions: ['Comment/101', 'Comment/109', 'Comment/30', 'Comment/40', 'Comment/50', 'Comment/51', 'Comment/52', 'Comment/60', 'Comment/70', 'Comment/80', 'New Segment/']\n",
      "EEG channel type selected for re-referencing\n",
      "Applying average reference.\n",
      "Applying a custom ('EEG',) reference.\n"
     ]
    },
    {
     "name": "stderr",
     "output_type": "stream",
     "text": [
      "[Parallel(n_jobs=1)]: Done  63 out of  63 | elapsed:    0.7s finished\n"
     ]
    },
    {
     "name": "stdout",
     "output_type": "stream",
     "text": [
      "Multiple event values for single event times found. Keeping the first occurrence and dropping all others.\n",
      "Not setting metadata\n",
      "409 matching events found\n",
      "Setting baseline interval to [0.0, 2.0] s\n",
      "Applying baseline correction (mode: mean)\n",
      "0 projection items activated\n",
      "Using data from preloaded Raw for 409 events and 2501 original time points ...\n",
      "2 bad epochs dropped\n",
      "Extracting parameters from ./ica_notebooks/cleaned/m_19_01/m_19_01_pos1a.vhdr...\n",
      "Setting channel info structure...\n",
      "Reading 0 ... 605579  =      0.000 ...   605.579 secs...\n"
     ]
    },
    {
     "name": "stderr",
     "output_type": "stream",
     "text": [
      "/var/folders/2b/4tnqzv_x3x17pf4q1_n7m8h40000gn/T/ipykernel_936/3128575474.py:29: RuntimeWarning: Fiducial point nasion not found, assuming identity unknown to head transformation\n",
      "  epochs.set_montage(montage)\n"
     ]
    },
    {
     "name": "stdout",
     "output_type": "stream",
     "text": [
      "dropping channel\n",
      "Filtering raw data in 1 contiguous segment\n",
      "Setting up band-pass filter from 3 - 40 Hz\n",
      "\n",
      "FIR filter parameters\n",
      "---------------------\n",
      "Designing a one-pass, zero-phase, non-causal bandpass filter:\n",
      "- Windowed time-domain design (firwin) method\n",
      "- Hamming window with 0.0194 passband ripple and 53 dB stopband attenuation\n",
      "- Lower passband edge: 3.00\n",
      "- Lower transition bandwidth: 2.00 Hz (-6 dB cutoff frequency: 2.00 Hz)\n",
      "- Upper passband edge: 40.00 Hz\n",
      "- Upper transition bandwidth: 10.00 Hz (-6 dB cutoff frequency: 45.00 Hz)\n",
      "- Filter length: 1651 samples (1.651 s)\n",
      "\n"
     ]
    },
    {
     "name": "stderr",
     "output_type": "stream",
     "text": [
      "[Parallel(n_jobs=1)]: Using backend SequentialBackend with 1 concurrent workers.\n",
      "[Parallel(n_jobs=1)]: Done   1 out of   1 | elapsed:    0.0s remaining:    0.0s\n",
      "[Parallel(n_jobs=1)]: Done   2 out of   2 | elapsed:    0.0s remaining:    0.0s\n",
      "[Parallel(n_jobs=1)]: Done   3 out of   3 | elapsed:    0.0s remaining:    0.0s\n",
      "[Parallel(n_jobs=1)]: Done   4 out of   4 | elapsed:    0.1s remaining:    0.0s\n"
     ]
    },
    {
     "name": "stdout",
     "output_type": "stream",
     "text": [
      "Used Annotations descriptions: ['Comment/101', 'Comment/109', 'Comment/30', 'Comment/40', 'Comment/50', 'Comment/51', 'Comment/52', 'Comment/60', 'Comment/70', 'Comment/80', 'New Segment/']\n",
      "EEG channel type selected for re-referencing\n",
      "Applying average reference.\n",
      "Applying a custom ('EEG',) reference.\n"
     ]
    },
    {
     "name": "stderr",
     "output_type": "stream",
     "text": [
      "[Parallel(n_jobs=1)]: Done  63 out of  63 | elapsed:    0.5s finished\n"
     ]
    },
    {
     "name": "stdout",
     "output_type": "stream",
     "text": [
      "Multiple event values for single event times found. Keeping the first occurrence and dropping all others.\n",
      "Not setting metadata\n",
      "306 matching events found\n",
      "Setting baseline interval to [0.0, 2.0] s\n",
      "Applying baseline correction (mode: mean)\n",
      "0 projection items activated\n",
      "Using data from preloaded Raw for 306 events and 2501 original time points ...\n",
      "2 bad epochs dropped\n",
      "Extracting parameters from ./ica_notebooks/cleaned/m_09_01/m_09_01_pos1a.vhdr...\n",
      "Setting channel info structure...\n",
      "Reading 0 ... 699340  =      0.000 ...   699.340 secs...\n"
     ]
    },
    {
     "name": "stderr",
     "output_type": "stream",
     "text": [
      "/var/folders/2b/4tnqzv_x3x17pf4q1_n7m8h40000gn/T/ipykernel_936/3128575474.py:29: RuntimeWarning: Fiducial point nasion not found, assuming identity unknown to head transformation\n",
      "  epochs.set_montage(montage)\n"
     ]
    },
    {
     "name": "stdout",
     "output_type": "stream",
     "text": [
      "dropping channel\n",
      "Filtering raw data in 1 contiguous segment\n",
      "Setting up band-pass filter from 3 - 40 Hz\n",
      "\n",
      "FIR filter parameters\n",
      "---------------------\n",
      "Designing a one-pass, zero-phase, non-causal bandpass filter:\n",
      "- Windowed time-domain design (firwin) method\n",
      "- Hamming window with 0.0194 passband ripple and 53 dB stopband attenuation\n",
      "- Lower passband edge: 3.00\n",
      "- Lower transition bandwidth: 2.00 Hz (-6 dB cutoff frequency: 2.00 Hz)\n",
      "- Upper passband edge: 40.00 Hz\n",
      "- Upper transition bandwidth: 10.00 Hz (-6 dB cutoff frequency: 45.00 Hz)\n",
      "- Filter length: 1651 samples (1.651 s)\n",
      "\n"
     ]
    },
    {
     "name": "stderr",
     "output_type": "stream",
     "text": [
      "[Parallel(n_jobs=1)]: Using backend SequentialBackend with 1 concurrent workers.\n",
      "[Parallel(n_jobs=1)]: Done   1 out of   1 | elapsed:    0.0s remaining:    0.0s\n",
      "[Parallel(n_jobs=1)]: Done   2 out of   2 | elapsed:    0.0s remaining:    0.0s\n",
      "[Parallel(n_jobs=1)]: Done   3 out of   3 | elapsed:    0.1s remaining:    0.0s\n",
      "[Parallel(n_jobs=1)]: Done   4 out of   4 | elapsed:    0.1s remaining:    0.0s\n"
     ]
    },
    {
     "name": "stdout",
     "output_type": "stream",
     "text": [
      "Used Annotations descriptions: ['Comment/101', 'Comment/109', 'Comment/30', 'Comment/40', 'Comment/50', 'Comment/51', 'Comment/52', 'Comment/60', 'Comment/70', 'Comment/80', 'New Segment/']\n",
      "EEG channel type selected for re-referencing\n",
      "Applying average reference.\n",
      "Applying a custom ('EEG',) reference.\n"
     ]
    },
    {
     "name": "stderr",
     "output_type": "stream",
     "text": [
      "[Parallel(n_jobs=1)]: Done  63 out of  63 | elapsed:    0.7s finished\n"
     ]
    },
    {
     "name": "stdout",
     "output_type": "stream",
     "text": [
      "Multiple event values for single event times found. Keeping the first occurrence and dropping all others.\n",
      "Not setting metadata\n",
      "410 matching events found\n",
      "Setting baseline interval to [0.0, 2.0] s\n",
      "Applying baseline correction (mode: mean)\n",
      "0 projection items activated\n",
      "Using data from preloaded Raw for 410 events and 2501 original time points ...\n",
      "2 bad epochs dropped\n",
      "Extracting parameters from ./ica_notebooks/cleaned/m_07_01/m_07_01_pos1a.vhdr...\n",
      "Setting channel info structure...\n",
      "Reading 0 ... 686560  =      0.000 ...   686.560 secs...\n"
     ]
    },
    {
     "name": "stderr",
     "output_type": "stream",
     "text": [
      "/var/folders/2b/4tnqzv_x3x17pf4q1_n7m8h40000gn/T/ipykernel_936/3128575474.py:29: RuntimeWarning: Fiducial point nasion not found, assuming identity unknown to head transformation\n",
      "  epochs.set_montage(montage)\n"
     ]
    },
    {
     "name": "stdout",
     "output_type": "stream",
     "text": [
      "dropping channel\n",
      "Filtering raw data in 1 contiguous segment\n",
      "Setting up band-pass filter from 3 - 40 Hz\n",
      "\n",
      "FIR filter parameters\n",
      "---------------------\n",
      "Designing a one-pass, zero-phase, non-causal bandpass filter:\n",
      "- Windowed time-domain design (firwin) method\n",
      "- Hamming window with 0.0194 passband ripple and 53 dB stopband attenuation\n",
      "- Lower passband edge: 3.00\n",
      "- Lower transition bandwidth: 2.00 Hz (-6 dB cutoff frequency: 2.00 Hz)\n",
      "- Upper passband edge: 40.00 Hz\n",
      "- Upper transition bandwidth: 10.00 Hz (-6 dB cutoff frequency: 45.00 Hz)\n",
      "- Filter length: 1651 samples (1.651 s)\n",
      "\n"
     ]
    },
    {
     "name": "stderr",
     "output_type": "stream",
     "text": [
      "[Parallel(n_jobs=1)]: Using backend SequentialBackend with 1 concurrent workers.\n",
      "[Parallel(n_jobs=1)]: Done   1 out of   1 | elapsed:    0.0s remaining:    0.0s\n",
      "[Parallel(n_jobs=1)]: Done   2 out of   2 | elapsed:    0.0s remaining:    0.0s\n",
      "[Parallel(n_jobs=1)]: Done   3 out of   3 | elapsed:    0.1s remaining:    0.0s\n",
      "[Parallel(n_jobs=1)]: Done   4 out of   4 | elapsed:    0.1s remaining:    0.0s\n"
     ]
    },
    {
     "name": "stdout",
     "output_type": "stream",
     "text": [
      "Used Annotations descriptions: ['Comment/101', 'Comment/109', 'Comment/30', 'Comment/40', 'Comment/50', 'Comment/51', 'Comment/52', 'Comment/60', 'Comment/70', 'Comment/80', 'New Segment/']\n",
      "EEG channel type selected for re-referencing\n",
      "Applying average reference.\n",
      "Applying a custom ('EEG',) reference.\n"
     ]
    },
    {
     "name": "stderr",
     "output_type": "stream",
     "text": [
      "[Parallel(n_jobs=1)]: Done  63 out of  63 | elapsed:    0.7s finished\n"
     ]
    },
    {
     "name": "stdout",
     "output_type": "stream",
     "text": [
      "Multiple event values for single event times found. Keeping the first occurrence and dropping all others.\n",
      "Not setting metadata\n",
      "410 matching events found\n",
      "Setting baseline interval to [0.0, 2.0] s\n",
      "Applying baseline correction (mode: mean)\n",
      "0 projection items activated\n",
      "Using data from preloaded Raw for 410 events and 2501 original time points ...\n",
      "2 bad epochs dropped\n",
      "Extracting parameters from ./ica_notebooks/cleaned/m_03_01/m_03_01_pos1a.vhdr...\n",
      "Setting channel info structure...\n",
      "Reading 0 ... 667374  =      0.000 ...   667.374 secs...\n"
     ]
    },
    {
     "name": "stderr",
     "output_type": "stream",
     "text": [
      "/var/folders/2b/4tnqzv_x3x17pf4q1_n7m8h40000gn/T/ipykernel_936/3128575474.py:29: RuntimeWarning: Fiducial point nasion not found, assuming identity unknown to head transformation\n",
      "  epochs.set_montage(montage)\n"
     ]
    },
    {
     "name": "stdout",
     "output_type": "stream",
     "text": [
      "dropping channel\n",
      "Filtering raw data in 1 contiguous segment\n",
      "Setting up band-pass filter from 3 - 40 Hz\n",
      "\n",
      "FIR filter parameters\n",
      "---------------------\n",
      "Designing a one-pass, zero-phase, non-causal bandpass filter:\n",
      "- Windowed time-domain design (firwin) method\n",
      "- Hamming window with 0.0194 passband ripple and 53 dB stopband attenuation\n",
      "- Lower passband edge: 3.00\n",
      "- Lower transition bandwidth: 2.00 Hz (-6 dB cutoff frequency: 2.00 Hz)\n",
      "- Upper passband edge: 40.00 Hz\n",
      "- Upper transition bandwidth: 10.00 Hz (-6 dB cutoff frequency: 45.00 Hz)\n",
      "- Filter length: 1651 samples (1.651 s)\n",
      "\n"
     ]
    },
    {
     "name": "stderr",
     "output_type": "stream",
     "text": [
      "[Parallel(n_jobs=1)]: Using backend SequentialBackend with 1 concurrent workers.\n",
      "[Parallel(n_jobs=1)]: Done   1 out of   1 | elapsed:    0.0s remaining:    0.0s\n",
      "[Parallel(n_jobs=1)]: Done   2 out of   2 | elapsed:    0.1s remaining:    0.0s\n",
      "[Parallel(n_jobs=1)]: Done   3 out of   3 | elapsed:    0.1s remaining:    0.0s\n",
      "[Parallel(n_jobs=1)]: Done   4 out of   4 | elapsed:    0.1s remaining:    0.0s\n"
     ]
    },
    {
     "name": "stdout",
     "output_type": "stream",
     "text": [
      "Used Annotations descriptions: ['Comment/101', 'Comment/109', 'Comment/30', 'Comment/40', 'Comment/50', 'Comment/51', 'Comment/52', 'Comment/60', 'Comment/70', 'Comment/80', 'New Segment/']\n",
      "EEG channel type selected for re-referencing\n",
      "Applying average reference.\n",
      "Applying a custom ('EEG',) reference.\n"
     ]
    },
    {
     "name": "stderr",
     "output_type": "stream",
     "text": [
      "[Parallel(n_jobs=1)]: Done  63 out of  63 | elapsed:    0.6s finished\n"
     ]
    },
    {
     "name": "stdout",
     "output_type": "stream",
     "text": [
      "Multiple event values for single event times found. Keeping the first occurrence and dropping all others.\n",
      "Not setting metadata\n",
      "409 matching events found\n",
      "Setting baseline interval to [0.0, 2.0] s\n",
      "Applying baseline correction (mode: mean)\n",
      "0 projection items activated\n",
      "Using data from preloaded Raw for 409 events and 2501 original time points ...\n",
      "2 bad epochs dropped\n",
      "Extracting parameters from ./ica_notebooks/cleaned/m_16_01/m_16_01_pos1a.vhdr...\n",
      "Setting channel info structure...\n",
      "Reading 0 ... 676029  =      0.000 ...   676.029 secs...\n"
     ]
    },
    {
     "name": "stderr",
     "output_type": "stream",
     "text": [
      "/var/folders/2b/4tnqzv_x3x17pf4q1_n7m8h40000gn/T/ipykernel_936/3128575474.py:29: RuntimeWarning: Fiducial point nasion not found, assuming identity unknown to head transformation\n",
      "  epochs.set_montage(montage)\n"
     ]
    },
    {
     "name": "stdout",
     "output_type": "stream",
     "text": [
      "dropping channel\n",
      "Filtering raw data in 1 contiguous segment\n",
      "Setting up band-pass filter from 3 - 40 Hz\n",
      "\n",
      "FIR filter parameters\n",
      "---------------------\n",
      "Designing a one-pass, zero-phase, non-causal bandpass filter:\n",
      "- Windowed time-domain design (firwin) method\n",
      "- Hamming window with 0.0194 passband ripple and 53 dB stopband attenuation\n",
      "- Lower passband edge: 3.00\n",
      "- Lower transition bandwidth: 2.00 Hz (-6 dB cutoff frequency: 2.00 Hz)\n",
      "- Upper passband edge: 40.00 Hz\n",
      "- Upper transition bandwidth: 10.00 Hz (-6 dB cutoff frequency: 45.00 Hz)\n",
      "- Filter length: 1651 samples (1.651 s)\n",
      "\n"
     ]
    },
    {
     "name": "stderr",
     "output_type": "stream",
     "text": [
      "[Parallel(n_jobs=1)]: Using backend SequentialBackend with 1 concurrent workers.\n",
      "[Parallel(n_jobs=1)]: Done   1 out of   1 | elapsed:    0.0s remaining:    0.0s\n",
      "[Parallel(n_jobs=1)]: Done   2 out of   2 | elapsed:    0.0s remaining:    0.0s\n",
      "[Parallel(n_jobs=1)]: Done   3 out of   3 | elapsed:    0.0s remaining:    0.0s\n",
      "[Parallel(n_jobs=1)]: Done   4 out of   4 | elapsed:    0.1s remaining:    0.0s\n"
     ]
    },
    {
     "name": "stdout",
     "output_type": "stream",
     "text": [
      "Used Annotations descriptions: ['Comment/101', 'Comment/109', 'Comment/30', 'Comment/40', 'Comment/50', 'Comment/51', 'Comment/52', 'Comment/60', 'Comment/70', 'Comment/80', 'New Segment/']\n",
      "EEG channel type selected for re-referencing\n",
      "Applying average reference.\n",
      "Applying a custom ('EEG',) reference.\n"
     ]
    },
    {
     "name": "stderr",
     "output_type": "stream",
     "text": [
      "[Parallel(n_jobs=1)]: Done  63 out of  63 | elapsed:    0.7s finished\n"
     ]
    },
    {
     "name": "stdout",
     "output_type": "stream",
     "text": [
      "Multiple event values for single event times found. Keeping the first occurrence and dropping all others.\n",
      "Not setting metadata\n",
      "411 matching events found\n",
      "Setting baseline interval to [0.0, 2.0] s\n",
      "Applying baseline correction (mode: mean)\n",
      "0 projection items activated\n",
      "Using data from preloaded Raw for 411 events and 2501 original time points ...\n",
      "2 bad epochs dropped\n",
      "Extracting parameters from ./ica_notebooks/cleaned/m_09_02/m_09_02_pos2a.vhdr...\n",
      "Setting channel info structure...\n",
      "Reading 0 ... 516738  =      0.000 ...   516.738 secs...\n"
     ]
    },
    {
     "name": "stderr",
     "output_type": "stream",
     "text": [
      "/var/folders/2b/4tnqzv_x3x17pf4q1_n7m8h40000gn/T/ipykernel_936/3128575474.py:29: RuntimeWarning: Fiducial point nasion not found, assuming identity unknown to head transformation\n",
      "  epochs.set_montage(montage)\n"
     ]
    },
    {
     "name": "stdout",
     "output_type": "stream",
     "text": [
      "dropping channel\n",
      "Filtering raw data in 1 contiguous segment\n",
      "Setting up band-pass filter from 3 - 40 Hz\n",
      "\n",
      "FIR filter parameters\n",
      "---------------------\n",
      "Designing a one-pass, zero-phase, non-causal bandpass filter:\n",
      "- Windowed time-domain design (firwin) method\n",
      "- Hamming window with 0.0194 passband ripple and 53 dB stopband attenuation\n",
      "- Lower passband edge: 3.00\n",
      "- Lower transition bandwidth: 2.00 Hz (-6 dB cutoff frequency: 2.00 Hz)\n",
      "- Upper passband edge: 40.00 Hz\n",
      "- Upper transition bandwidth: 10.00 Hz (-6 dB cutoff frequency: 45.00 Hz)\n",
      "- Filter length: 1651 samples (1.651 s)\n",
      "\n"
     ]
    },
    {
     "name": "stderr",
     "output_type": "stream",
     "text": [
      "[Parallel(n_jobs=1)]: Using backend SequentialBackend with 1 concurrent workers.\n",
      "[Parallel(n_jobs=1)]: Done   1 out of   1 | elapsed:    0.0s remaining:    0.0s\n",
      "[Parallel(n_jobs=1)]: Done   2 out of   2 | elapsed:    0.0s remaining:    0.0s\n",
      "[Parallel(n_jobs=1)]: Done   3 out of   3 | elapsed:    0.1s remaining:    0.0s\n",
      "[Parallel(n_jobs=1)]: Done   4 out of   4 | elapsed:    0.1s remaining:    0.0s\n"
     ]
    },
    {
     "name": "stdout",
     "output_type": "stream",
     "text": [
      "Used Annotations descriptions: ['Comment/101', 'Comment/109', 'Comment/30', 'Comment/40', 'Comment/50', 'Comment/51', 'Comment/52', 'Comment/60', 'Comment/70', 'Comment/80', 'New Segment/']\n",
      "EEG channel type selected for re-referencing\n",
      "Applying average reference.\n",
      "Applying a custom ('EEG',) reference.\n"
     ]
    },
    {
     "name": "stderr",
     "output_type": "stream",
     "text": [
      "[Parallel(n_jobs=1)]: Done  63 out of  63 | elapsed:    0.5s finished\n"
     ]
    },
    {
     "name": "stdout",
     "output_type": "stream",
     "text": [
      "Multiple event values for single event times found. Keeping the first occurrence and dropping all others.\n",
      "Not setting metadata\n",
      "307 matching events found\n",
      "Setting baseline interval to [0.0, 2.0] s\n",
      "Applying baseline correction (mode: mean)\n",
      "0 projection items activated\n",
      "Using data from preloaded Raw for 307 events and 2501 original time points ...\n",
      "2 bad epochs dropped\n",
      "Extracting parameters from ./ica_notebooks/cleaned/m_07_02/m_07_02_pos2a.vhdr...\n",
      "Setting channel info structure...\n",
      "Reading 0 ... 703313  =      0.000 ...   703.313 secs...\n"
     ]
    },
    {
     "name": "stderr",
     "output_type": "stream",
     "text": [
      "/var/folders/2b/4tnqzv_x3x17pf4q1_n7m8h40000gn/T/ipykernel_936/3128575474.py:29: RuntimeWarning: Fiducial point nasion not found, assuming identity unknown to head transformation\n",
      "  epochs.set_montage(montage)\n"
     ]
    },
    {
     "name": "stdout",
     "output_type": "stream",
     "text": [
      "dropping channel\n",
      "Filtering raw data in 1 contiguous segment\n",
      "Setting up band-pass filter from 3 - 40 Hz\n",
      "\n",
      "FIR filter parameters\n",
      "---------------------\n",
      "Designing a one-pass, zero-phase, non-causal bandpass filter:\n",
      "- Windowed time-domain design (firwin) method\n",
      "- Hamming window with 0.0194 passband ripple and 53 dB stopband attenuation\n",
      "- Lower passband edge: 3.00\n",
      "- Lower transition bandwidth: 2.00 Hz (-6 dB cutoff frequency: 2.00 Hz)\n",
      "- Upper passband edge: 40.00 Hz\n",
      "- Upper transition bandwidth: 10.00 Hz (-6 dB cutoff frequency: 45.00 Hz)\n",
      "- Filter length: 1651 samples (1.651 s)\n",
      "\n"
     ]
    },
    {
     "name": "stderr",
     "output_type": "stream",
     "text": [
      "[Parallel(n_jobs=1)]: Using backend SequentialBackend with 1 concurrent workers.\n",
      "[Parallel(n_jobs=1)]: Done   1 out of   1 | elapsed:    0.0s remaining:    0.0s\n",
      "[Parallel(n_jobs=1)]: Done   2 out of   2 | elapsed:    0.0s remaining:    0.0s\n",
      "[Parallel(n_jobs=1)]: Done   3 out of   3 | elapsed:    0.1s remaining:    0.0s\n",
      "[Parallel(n_jobs=1)]: Done   4 out of   4 | elapsed:    0.1s remaining:    0.0s\n"
     ]
    },
    {
     "name": "stdout",
     "output_type": "stream",
     "text": [
      "Used Annotations descriptions: ['Comment/101', 'Comment/109', 'Comment/30', 'Comment/40', 'Comment/50', 'Comment/51', 'Comment/52', 'Comment/60', 'Comment/70', 'Comment/80', 'New Segment/']\n",
      "EEG channel type selected for re-referencing\n",
      "Applying average reference.\n",
      "Applying a custom ('EEG',) reference.\n"
     ]
    },
    {
     "name": "stderr",
     "output_type": "stream",
     "text": [
      "[Parallel(n_jobs=1)]: Done  63 out of  63 | elapsed:    0.7s finished\n"
     ]
    },
    {
     "name": "stdout",
     "output_type": "stream",
     "text": [
      "Multiple event values for single event times found. Keeping the first occurrence and dropping all others.\n",
      "Not setting metadata\n",
      "411 matching events found\n",
      "Setting baseline interval to [0.0, 2.0] s\n",
      "Applying baseline correction (mode: mean)\n",
      "0 projection items activated\n",
      "Using data from preloaded Raw for 411 events and 2501 original time points ...\n",
      "2 bad epochs dropped\n",
      "Extracting parameters from ./ica_notebooks/cleaned/m_03_02/m_03_02_pos2a.vhdr...\n",
      "Setting channel info structure...\n",
      "Reading 0 ... 667497  =      0.000 ...   667.497 secs...\n"
     ]
    },
    {
     "name": "stderr",
     "output_type": "stream",
     "text": [
      "/var/folders/2b/4tnqzv_x3x17pf4q1_n7m8h40000gn/T/ipykernel_936/3128575474.py:29: RuntimeWarning: Fiducial point nasion not found, assuming identity unknown to head transformation\n",
      "  epochs.set_montage(montage)\n"
     ]
    },
    {
     "name": "stdout",
     "output_type": "stream",
     "text": [
      "dropping channel\n",
      "Filtering raw data in 1 contiguous segment\n",
      "Setting up band-pass filter from 3 - 40 Hz\n",
      "\n",
      "FIR filter parameters\n",
      "---------------------\n",
      "Designing a one-pass, zero-phase, non-causal bandpass filter:\n",
      "- Windowed time-domain design (firwin) method\n",
      "- Hamming window with 0.0194 passband ripple and 53 dB stopband attenuation\n",
      "- Lower passband edge: 3.00\n",
      "- Lower transition bandwidth: 2.00 Hz (-6 dB cutoff frequency: 2.00 Hz)\n",
      "- Upper passband edge: 40.00 Hz\n",
      "- Upper transition bandwidth: 10.00 Hz (-6 dB cutoff frequency: 45.00 Hz)\n",
      "- Filter length: 1651 samples (1.651 s)\n",
      "\n"
     ]
    },
    {
     "name": "stderr",
     "output_type": "stream",
     "text": [
      "[Parallel(n_jobs=1)]: Using backend SequentialBackend with 1 concurrent workers.\n",
      "[Parallel(n_jobs=1)]: Done   1 out of   1 | elapsed:    0.0s remaining:    0.0s\n",
      "[Parallel(n_jobs=1)]: Done   2 out of   2 | elapsed:    0.0s remaining:    0.0s\n",
      "[Parallel(n_jobs=1)]: Done   3 out of   3 | elapsed:    0.1s remaining:    0.0s\n",
      "[Parallel(n_jobs=1)]: Done   4 out of   4 | elapsed:    0.1s remaining:    0.0s\n"
     ]
    },
    {
     "name": "stdout",
     "output_type": "stream",
     "text": [
      "Used Annotations descriptions: ['Comment/101', 'Comment/109', 'Comment/30', 'Comment/40', 'Comment/50', 'Comment/51', 'Comment/52', 'Comment/60', 'Comment/70', 'Comment/80', 'New Segment/']\n",
      "EEG channel type selected for re-referencing\n",
      "Applying average reference.\n",
      "Applying a custom ('EEG',) reference.\n"
     ]
    },
    {
     "name": "stderr",
     "output_type": "stream",
     "text": [
      "[Parallel(n_jobs=1)]: Done  63 out of  63 | elapsed:    0.7s finished\n"
     ]
    },
    {
     "name": "stdout",
     "output_type": "stream",
     "text": [
      "Multiple event values for single event times found. Keeping the first occurrence and dropping all others.\n",
      "Not setting metadata\n",
      "410 matching events found\n",
      "Setting baseline interval to [0.0, 2.0] s\n",
      "Applying baseline correction (mode: mean)\n",
      "0 projection items activated\n",
      "Using data from preloaded Raw for 410 events and 2501 original time points ...\n",
      "2 bad epochs dropped\n",
      "Extracting parameters from ./ica_notebooks/cleaned/m_11_02/m_11_02_pos2a.vhdr...\n",
      "Setting channel info structure...\n",
      "Reading 0 ... 675340  =      0.000 ...   675.340 secs...\n"
     ]
    },
    {
     "name": "stderr",
     "output_type": "stream",
     "text": [
      "/var/folders/2b/4tnqzv_x3x17pf4q1_n7m8h40000gn/T/ipykernel_936/3128575474.py:29: RuntimeWarning: Fiducial point nasion not found, assuming identity unknown to head transformation\n",
      "  epochs.set_montage(montage)\n"
     ]
    },
    {
     "name": "stdout",
     "output_type": "stream",
     "text": [
      "dropping channel\n",
      "Filtering raw data in 1 contiguous segment\n",
      "Setting up band-pass filter from 3 - 40 Hz\n",
      "\n",
      "FIR filter parameters\n",
      "---------------------\n",
      "Designing a one-pass, zero-phase, non-causal bandpass filter:\n",
      "- Windowed time-domain design (firwin) method\n",
      "- Hamming window with 0.0194 passband ripple and 53 dB stopband attenuation\n",
      "- Lower passband edge: 3.00\n",
      "- Lower transition bandwidth: 2.00 Hz (-6 dB cutoff frequency: 2.00 Hz)\n",
      "- Upper passband edge: 40.00 Hz\n",
      "- Upper transition bandwidth: 10.00 Hz (-6 dB cutoff frequency: 45.00 Hz)\n",
      "- Filter length: 1651 samples (1.651 s)\n",
      "\n"
     ]
    },
    {
     "name": "stderr",
     "output_type": "stream",
     "text": [
      "[Parallel(n_jobs=1)]: Using backend SequentialBackend with 1 concurrent workers.\n",
      "[Parallel(n_jobs=1)]: Done   1 out of   1 | elapsed:    0.0s remaining:    0.0s\n",
      "[Parallel(n_jobs=1)]: Done   2 out of   2 | elapsed:    0.0s remaining:    0.0s\n",
      "[Parallel(n_jobs=1)]: Done   3 out of   3 | elapsed:    0.1s remaining:    0.0s\n",
      "[Parallel(n_jobs=1)]: Done   4 out of   4 | elapsed:    0.1s remaining:    0.0s\n"
     ]
    },
    {
     "name": "stdout",
     "output_type": "stream",
     "text": [
      "Used Annotations descriptions: ['Comment/101', 'Comment/109', 'Comment/30', 'Comment/40', 'Comment/50', 'Comment/51', 'Comment/52', 'Comment/60', 'Comment/70', 'Comment/80', 'New Segment/']\n",
      "EEG channel type selected for re-referencing\n",
      "Applying average reference.\n",
      "Applying a custom ('EEG',) reference.\n"
     ]
    },
    {
     "name": "stderr",
     "output_type": "stream",
     "text": [
      "[Parallel(n_jobs=1)]: Done  63 out of  63 | elapsed:    0.7s finished\n"
     ]
    },
    {
     "name": "stdout",
     "output_type": "stream",
     "text": [
      "Multiple event values for single event times found. Keeping the first occurrence and dropping all others.\n",
      "Not setting metadata\n",
      "411 matching events found\n",
      "Setting baseline interval to [0.0, 2.0] s\n",
      "Applying baseline correction (mode: mean)\n",
      "0 projection items activated\n",
      "Using data from preloaded Raw for 411 events and 2501 original time points ...\n",
      "2 bad epochs dropped\n",
      "Extracting parameters from ./ica_notebooks/cleaned/m_15_02/m_15_02_pos2a.vhdr...\n",
      "Setting channel info structure...\n",
      "Reading 0 ... 663436  =      0.000 ...   663.436 secs...\n"
     ]
    },
    {
     "name": "stderr",
     "output_type": "stream",
     "text": [
      "/var/folders/2b/4tnqzv_x3x17pf4q1_n7m8h40000gn/T/ipykernel_936/3128575474.py:29: RuntimeWarning: Fiducial point nasion not found, assuming identity unknown to head transformation\n",
      "  epochs.set_montage(montage)\n"
     ]
    },
    {
     "name": "stdout",
     "output_type": "stream",
     "text": [
      "dropping channel\n",
      "Filtering raw data in 1 contiguous segment\n",
      "Setting up band-pass filter from 3 - 40 Hz\n",
      "\n",
      "FIR filter parameters\n",
      "---------------------\n",
      "Designing a one-pass, zero-phase, non-causal bandpass filter:\n",
      "- Windowed time-domain design (firwin) method\n",
      "- Hamming window with 0.0194 passband ripple and 53 dB stopband attenuation\n",
      "- Lower passband edge: 3.00\n",
      "- Lower transition bandwidth: 2.00 Hz (-6 dB cutoff frequency: 2.00 Hz)\n",
      "- Upper passband edge: 40.00 Hz\n",
      "- Upper transition bandwidth: 10.00 Hz (-6 dB cutoff frequency: 45.00 Hz)\n",
      "- Filter length: 1651 samples (1.651 s)\n",
      "\n"
     ]
    },
    {
     "name": "stderr",
     "output_type": "stream",
     "text": [
      "[Parallel(n_jobs=1)]: Using backend SequentialBackend with 1 concurrent workers.\n",
      "[Parallel(n_jobs=1)]: Done   1 out of   1 | elapsed:    0.0s remaining:    0.0s\n",
      "[Parallel(n_jobs=1)]: Done   2 out of   2 | elapsed:    0.0s remaining:    0.0s\n",
      "[Parallel(n_jobs=1)]: Done   3 out of   3 | elapsed:    0.0s remaining:    0.0s\n",
      "[Parallel(n_jobs=1)]: Done   4 out of   4 | elapsed:    0.1s remaining:    0.0s\n"
     ]
    },
    {
     "name": "stdout",
     "output_type": "stream",
     "text": [
      "Used Annotations descriptions: ['Comment/101', 'Comment/109', 'Comment/30', 'Comment/40', 'Comment/50', 'Comment/51', 'Comment/52', 'Comment/60', 'Comment/70', 'Comment/80', 'New Segment/']\n",
      "EEG channel type selected for re-referencing\n",
      "Applying average reference.\n",
      "Applying a custom ('EEG',) reference.\n"
     ]
    },
    {
     "name": "stderr",
     "output_type": "stream",
     "text": [
      "[Parallel(n_jobs=1)]: Done  63 out of  63 | elapsed:    0.7s finished\n"
     ]
    },
    {
     "name": "stdout",
     "output_type": "stream",
     "text": [
      "Multiple event values for single event times found. Keeping the first occurrence and dropping all others.\n",
      "Not setting metadata\n",
      "410 matching events found\n",
      "Setting baseline interval to [0.0, 2.0] s\n",
      "Applying baseline correction (mode: mean)\n",
      "0 projection items activated\n",
      "Using data from preloaded Raw for 410 events and 2501 original time points ...\n",
      "3 bad epochs dropped\n",
      "Extracting parameters from ./ica_notebooks/cleaned/m_20_02/m_20_02_pos2a.vhdr...\n",
      "Setting channel info structure...\n",
      "Reading 0 ... 500248  =      0.000 ...   500.248 secs...\n",
      "dropping channel"
     ]
    },
    {
     "name": "stderr",
     "output_type": "stream",
     "text": [
      "/var/folders/2b/4tnqzv_x3x17pf4q1_n7m8h40000gn/T/ipykernel_936/3128575474.py:29: RuntimeWarning: Fiducial point nasion not found, assuming identity unknown to head transformation\n",
      "  epochs.set_montage(montage)\n"
     ]
    },
    {
     "name": "stdout",
     "output_type": "stream",
     "text": [
      "\n",
      "Filtering raw data in 1 contiguous segment\n",
      "Setting up band-pass filter from 3 - 40 Hz\n",
      "\n",
      "FIR filter parameters\n",
      "---------------------\n",
      "Designing a one-pass, zero-phase, non-causal bandpass filter:\n",
      "- Windowed time-domain design (firwin) method\n",
      "- Hamming window with 0.0194 passband ripple and 53 dB stopband attenuation\n",
      "- Lower passband edge: 3.00\n",
      "- Lower transition bandwidth: 2.00 Hz (-6 dB cutoff frequency: 2.00 Hz)\n",
      "- Upper passband edge: 40.00 Hz\n",
      "- Upper transition bandwidth: 10.00 Hz (-6 dB cutoff frequency: 45.00 Hz)\n",
      "- Filter length: 1651 samples (1.651 s)\n",
      "\n"
     ]
    },
    {
     "name": "stderr",
     "output_type": "stream",
     "text": [
      "[Parallel(n_jobs=1)]: Using backend SequentialBackend with 1 concurrent workers.\n",
      "[Parallel(n_jobs=1)]: Done   1 out of   1 | elapsed:    0.0s remaining:    0.0s\n",
      "[Parallel(n_jobs=1)]: Done   2 out of   2 | elapsed:    0.0s remaining:    0.0s\n",
      "[Parallel(n_jobs=1)]: Done   3 out of   3 | elapsed:    0.0s remaining:    0.0s\n",
      "[Parallel(n_jobs=1)]: Done   4 out of   4 | elapsed:    0.1s remaining:    0.0s\n"
     ]
    },
    {
     "name": "stdout",
     "output_type": "stream",
     "text": [
      "Used Annotations descriptions: ['Comment/101', 'Comment/109', 'Comment/30', 'Comment/40', 'Comment/50', 'Comment/51', 'Comment/52', 'Comment/60', 'Comment/70', 'Comment/80', 'New Segment/']\n",
      "EEG channel type selected for re-referencing\n",
      "Applying average reference.\n",
      "Applying a custom ('EEG',) reference.\n",
      "Multiple event values for single event times found. Keeping the first occurrence and dropping all others.\n",
      "Not setting metadata\n",
      "307 matching events found\n",
      "Setting baseline interval to [0.0, 2.0] s\n",
      "Applying baseline correction (mode: mean)\n",
      "0 projection items activated\n",
      "Using data from preloaded Raw for 307 events and 2501 original time points ...\n"
     ]
    },
    {
     "name": "stderr",
     "output_type": "stream",
     "text": [
      "[Parallel(n_jobs=1)]: Done  63 out of  63 | elapsed:    0.6s finished\n"
     ]
    },
    {
     "name": "stdout",
     "output_type": "stream",
     "text": [
      "2 bad epochs dropped\n",
      "Extracting parameters from ./ica_notebooks/cleaned/m_14_02/m_14_02_pos2a.vhdr...\n",
      "Setting channel info structure...\n",
      "Reading 0 ... 516705  =      0.000 ...   516.705 secs...\n"
     ]
    },
    {
     "name": "stderr",
     "output_type": "stream",
     "text": [
      "/var/folders/2b/4tnqzv_x3x17pf4q1_n7m8h40000gn/T/ipykernel_936/3128575474.py:29: RuntimeWarning: Fiducial point nasion not found, assuming identity unknown to head transformation\n",
      "  epochs.set_montage(montage)\n"
     ]
    },
    {
     "name": "stdout",
     "output_type": "stream",
     "text": [
      "dropping channel\n",
      "Filtering raw data in 1 contiguous segment\n",
      "Setting up band-pass filter from 3 - 40 Hz\n",
      "\n",
      "FIR filter parameters\n",
      "---------------------\n",
      "Designing a one-pass, zero-phase, non-causal bandpass filter:\n",
      "- Windowed time-domain design (firwin) method\n",
      "- Hamming window with 0.0194 passband ripple and 53 dB stopband attenuation\n",
      "- Lower passband edge: 3.00\n",
      "- Lower transition bandwidth: 2.00 Hz (-6 dB cutoff frequency: 2.00 Hz)\n",
      "- Upper passband edge: 40.00 Hz\n",
      "- Upper transition bandwidth: 10.00 Hz (-6 dB cutoff frequency: 45.00 Hz)\n",
      "- Filter length: 1651 samples (1.651 s)\n",
      "\n"
     ]
    },
    {
     "name": "stderr",
     "output_type": "stream",
     "text": [
      "[Parallel(n_jobs=1)]: Using backend SequentialBackend with 1 concurrent workers.\n",
      "[Parallel(n_jobs=1)]: Done   1 out of   1 | elapsed:    0.0s remaining:    0.0s\n",
      "[Parallel(n_jobs=1)]: Done   2 out of   2 | elapsed:    0.0s remaining:    0.0s\n",
      "[Parallel(n_jobs=1)]: Done   3 out of   3 | elapsed:    0.0s remaining:    0.0s\n",
      "[Parallel(n_jobs=1)]: Done   4 out of   4 | elapsed:    0.1s remaining:    0.0s\n"
     ]
    },
    {
     "name": "stdout",
     "output_type": "stream",
     "text": [
      "Used Annotations descriptions: ['Comment/101', 'Comment/109', 'Comment/30', 'Comment/40', 'Comment/50', 'Comment/51', 'Comment/52', 'Comment/60', 'Comment/70', 'Comment/80', 'New Segment/']\n",
      "EEG channel type selected for re-referencing\n",
      "Applying average reference.\n",
      "Applying a custom ('EEG',) reference.\n",
      "Multiple event values for single event times found. Keeping the first occurrence and dropping all others.\n",
      "Not setting metadata\n",
      "306 matching events found\n",
      "Setting baseline interval to [0.0, 2.0] s\n",
      "Applying baseline correction (mode: mean)\n",
      "0 projection items activated\n",
      "Using data from preloaded Raw for 306 events and 2501 original time points ...\n"
     ]
    },
    {
     "name": "stderr",
     "output_type": "stream",
     "text": [
      "[Parallel(n_jobs=1)]: Done  63 out of  63 | elapsed:    0.6s finished\n"
     ]
    },
    {
     "name": "stdout",
     "output_type": "stream",
     "text": [
      "2 bad epochs dropped\n",
      "Extracting parameters from ./ica_notebooks/cleaned/m_00_02/m_00_02_pos2a.vhdr...\n",
      "Setting channel info structure...\n",
      "Reading 0 ... 675588  =      0.000 ...   675.588 secs...\n"
     ]
    },
    {
     "name": "stderr",
     "output_type": "stream",
     "text": [
      "/var/folders/2b/4tnqzv_x3x17pf4q1_n7m8h40000gn/T/ipykernel_936/3128575474.py:29: RuntimeWarning: Fiducial point nasion not found, assuming identity unknown to head transformation\n",
      "  epochs.set_montage(montage)\n"
     ]
    },
    {
     "name": "stdout",
     "output_type": "stream",
     "text": [
      "dropping channel\n",
      "Filtering raw data in 1 contiguous segment\n",
      "Setting up band-pass filter from 3 - 40 Hz\n",
      "\n",
      "FIR filter parameters\n",
      "---------------------\n",
      "Designing a one-pass, zero-phase, non-causal bandpass filter:\n",
      "- Windowed time-domain design (firwin) method\n",
      "- Hamming window with 0.0194 passband ripple and 53 dB stopband attenuation\n",
      "- Lower passband edge: 3.00\n",
      "- Lower transition bandwidth: 2.00 Hz (-6 dB cutoff frequency: 2.00 Hz)\n",
      "- Upper passband edge: 40.00 Hz\n",
      "- Upper transition bandwidth: 10.00 Hz (-6 dB cutoff frequency: 45.00 Hz)\n",
      "- Filter length: 1651 samples (1.651 s)\n",
      "\n"
     ]
    },
    {
     "name": "stderr",
     "output_type": "stream",
     "text": [
      "[Parallel(n_jobs=1)]: Using backend SequentialBackend with 1 concurrent workers.\n",
      "[Parallel(n_jobs=1)]: Done   1 out of   1 | elapsed:    0.0s remaining:    0.0s\n",
      "[Parallel(n_jobs=1)]: Done   2 out of   2 | elapsed:    0.1s remaining:    0.0s\n",
      "[Parallel(n_jobs=1)]: Done   3 out of   3 | elapsed:    0.1s remaining:    0.0s\n",
      "[Parallel(n_jobs=1)]: Done   4 out of   4 | elapsed:    0.1s remaining:    0.0s\n"
     ]
    },
    {
     "name": "stdout",
     "output_type": "stream",
     "text": [
      "Used Annotations descriptions: ['Comment/101', 'Comment/109', 'Comment/30', 'Comment/40', 'Comment/50', 'Comment/51', 'Comment/52', 'Comment/60', 'Comment/70', 'Comment/80', 'New Segment/']\n",
      "EEG channel type selected for re-referencing\n",
      "Applying average reference.\n",
      "Applying a custom ('EEG',) reference.\n"
     ]
    },
    {
     "name": "stderr",
     "output_type": "stream",
     "text": [
      "[Parallel(n_jobs=1)]: Done  63 out of  63 | elapsed:    0.7s finished\n"
     ]
    },
    {
     "name": "stdout",
     "output_type": "stream",
     "text": [
      "Multiple event values for single event times found. Keeping the first occurrence and dropping all others.\n",
      "Not setting metadata\n",
      "410 matching events found\n",
      "Setting baseline interval to [0.0, 2.0] s\n",
      "Applying baseline correction (mode: mean)\n",
      "0 projection items activated\n",
      "Using data from preloaded Raw for 410 events and 2501 original time points ...\n",
      "2 bad epochs dropped\n",
      "Extracting parameters from ./ica_notebooks/cleaned/m_10_02/m_10_02_pos2a.vhdr...\n",
      "Setting channel info structure...\n",
      "Reading 0 ... 667992  =      0.000 ...   667.992 secs...\n"
     ]
    },
    {
     "name": "stderr",
     "output_type": "stream",
     "text": [
      "/var/folders/2b/4tnqzv_x3x17pf4q1_n7m8h40000gn/T/ipykernel_936/3128575474.py:29: RuntimeWarning: Fiducial point nasion not found, assuming identity unknown to head transformation\n",
      "  epochs.set_montage(montage)\n"
     ]
    },
    {
     "name": "stdout",
     "output_type": "stream",
     "text": [
      "dropping channel\n",
      "Filtering raw data in 1 contiguous segment\n",
      "Setting up band-pass filter from 3 - 40 Hz\n",
      "\n",
      "FIR filter parameters\n",
      "---------------------\n",
      "Designing a one-pass, zero-phase, non-causal bandpass filter:\n",
      "- Windowed time-domain design (firwin) method\n",
      "- Hamming window with 0.0194 passband ripple and 53 dB stopband attenuation\n",
      "- Lower passband edge: 3.00\n",
      "- Lower transition bandwidth: 2.00 Hz (-6 dB cutoff frequency: 2.00 Hz)\n",
      "- Upper passband edge: 40.00 Hz\n",
      "- Upper transition bandwidth: 10.00 Hz (-6 dB cutoff frequency: 45.00 Hz)\n",
      "- Filter length: 1651 samples (1.651 s)\n",
      "\n"
     ]
    },
    {
     "name": "stderr",
     "output_type": "stream",
     "text": [
      "[Parallel(n_jobs=1)]: Using backend SequentialBackend with 1 concurrent workers.\n",
      "[Parallel(n_jobs=1)]: Done   1 out of   1 | elapsed:    0.0s remaining:    0.0s\n",
      "[Parallel(n_jobs=1)]: Done   2 out of   2 | elapsed:    0.0s remaining:    0.0s\n",
      "[Parallel(n_jobs=1)]: Done   3 out of   3 | elapsed:    0.0s remaining:    0.0s\n",
      "[Parallel(n_jobs=1)]: Done   4 out of   4 | elapsed:    0.1s remaining:    0.0s\n"
     ]
    },
    {
     "name": "stdout",
     "output_type": "stream",
     "text": [
      "Used Annotations descriptions: ['Comment/101', 'Comment/109', 'Comment/30', 'Comment/40', 'Comment/50', 'Comment/51', 'Comment/52', 'Comment/60', 'Comment/70', 'Comment/80', 'New Segment/']\n",
      "EEG channel type selected for re-referencing\n",
      "Applying average reference.\n",
      "Applying a custom ('EEG',) reference.\n"
     ]
    },
    {
     "name": "stderr",
     "output_type": "stream",
     "text": [
      "[Parallel(n_jobs=1)]: Done  63 out of  63 | elapsed:    0.7s finished\n"
     ]
    },
    {
     "name": "stdout",
     "output_type": "stream",
     "text": [
      "Multiple event values for single event times found. Keeping the first occurrence and dropping all others.\n",
      "Not setting metadata\n",
      "411 matching events found\n",
      "Setting baseline interval to [0.0, 2.0] s\n",
      "Applying baseline correction (mode: mean)\n",
      "0 projection items activated\n",
      "Using data from preloaded Raw for 411 events and 2501 original time points ...\n",
      "2 bad epochs dropped\n",
      "Extracting parameters from ./ica_notebooks/cleaned/m_11_01/m_11_01_pos1b.vhdr...\n",
      "Setting channel info structure...\n",
      "Reading 0 ... 685241  =      0.000 ...   685.241 secs...\n"
     ]
    },
    {
     "name": "stderr",
     "output_type": "stream",
     "text": [
      "/var/folders/2b/4tnqzv_x3x17pf4q1_n7m8h40000gn/T/ipykernel_936/3128575474.py:29: RuntimeWarning: Fiducial point nasion not found, assuming identity unknown to head transformation\n",
      "  epochs.set_montage(montage)\n"
     ]
    },
    {
     "name": "stdout",
     "output_type": "stream",
     "text": [
      "dropping channel\n",
      "Filtering raw data in 1 contiguous segment\n",
      "Setting up band-pass filter from 3 - 40 Hz\n",
      "\n",
      "FIR filter parameters\n",
      "---------------------\n",
      "Designing a one-pass, zero-phase, non-causal bandpass filter:\n",
      "- Windowed time-domain design (firwin) method\n",
      "- Hamming window with 0.0194 passband ripple and 53 dB stopband attenuation\n",
      "- Lower passband edge: 3.00\n",
      "- Lower transition bandwidth: 2.00 Hz (-6 dB cutoff frequency: 2.00 Hz)\n",
      "- Upper passband edge: 40.00 Hz\n",
      "- Upper transition bandwidth: 10.00 Hz (-6 dB cutoff frequency: 45.00 Hz)\n",
      "- Filter length: 1651 samples (1.651 s)\n",
      "\n"
     ]
    },
    {
     "name": "stderr",
     "output_type": "stream",
     "text": [
      "[Parallel(n_jobs=1)]: Using backend SequentialBackend with 1 concurrent workers.\n",
      "[Parallel(n_jobs=1)]: Done   1 out of   1 | elapsed:    0.0s remaining:    0.0s\n",
      "[Parallel(n_jobs=1)]: Done   2 out of   2 | elapsed:    0.0s remaining:    0.0s\n",
      "[Parallel(n_jobs=1)]: Done   3 out of   3 | elapsed:    0.1s remaining:    0.0s\n",
      "[Parallel(n_jobs=1)]: Done   4 out of   4 | elapsed:    0.1s remaining:    0.0s\n"
     ]
    },
    {
     "name": "stdout",
     "output_type": "stream",
     "text": [
      "Used Annotations descriptions: ['Comment/101', 'Comment/109', 'Comment/30', 'Comment/40', 'Comment/50', 'Comment/51', 'Comment/52', 'Comment/60', 'Comment/70', 'Comment/80', 'New Segment/']\n",
      "EEG channel type selected for re-referencing\n",
      "Applying average reference.\n",
      "Applying a custom ('EEG',) reference.\n"
     ]
    },
    {
     "name": "stderr",
     "output_type": "stream",
     "text": [
      "[Parallel(n_jobs=1)]: Done  63 out of  63 | elapsed:    0.6s finished\n"
     ]
    },
    {
     "name": "stdout",
     "output_type": "stream",
     "text": [
      "Multiple event values for single event times found. Keeping the first occurrence and dropping all others.\n",
      "Not setting metadata\n",
      "411 matching events found\n",
      "Setting baseline interval to [0.0, 2.0] s\n",
      "Applying baseline correction (mode: mean)\n",
      "0 projection items activated\n",
      "Using data from preloaded Raw for 411 events and 2501 original time points ...\n",
      "2 bad epochs dropped\n",
      "Extracting parameters from ./ica_notebooks/cleaned/m_15_01/m_15_01_pos1b.vhdr...\n",
      "Setting channel info structure...\n",
      "Reading 0 ... 665711  =      0.000 ...   665.711 secs...\n"
     ]
    },
    {
     "name": "stderr",
     "output_type": "stream",
     "text": [
      "/var/folders/2b/4tnqzv_x3x17pf4q1_n7m8h40000gn/T/ipykernel_936/3128575474.py:29: RuntimeWarning: Fiducial point nasion not found, assuming identity unknown to head transformation\n",
      "  epochs.set_montage(montage)\n"
     ]
    },
    {
     "name": "stdout",
     "output_type": "stream",
     "text": [
      "dropping channel\n",
      "Filtering raw data in 1 contiguous segment\n",
      "Setting up band-pass filter from 3 - 40 Hz\n",
      "\n",
      "FIR filter parameters\n",
      "---------------------\n",
      "Designing a one-pass, zero-phase, non-causal bandpass filter:\n",
      "- Windowed time-domain design (firwin) method\n",
      "- Hamming window with 0.0194 passband ripple and 53 dB stopband attenuation\n",
      "- Lower passband edge: 3.00\n",
      "- Lower transition bandwidth: 2.00 Hz (-6 dB cutoff frequency: 2.00 Hz)\n",
      "- Upper passband edge: 40.00 Hz\n",
      "- Upper transition bandwidth: 10.00 Hz (-6 dB cutoff frequency: 45.00 Hz)\n",
      "- Filter length: 1651 samples (1.651 s)\n",
      "\n"
     ]
    },
    {
     "name": "stderr",
     "output_type": "stream",
     "text": [
      "[Parallel(n_jobs=1)]: Using backend SequentialBackend with 1 concurrent workers.\n",
      "[Parallel(n_jobs=1)]: Done   1 out of   1 | elapsed:    0.0s remaining:    0.0s\n",
      "[Parallel(n_jobs=1)]: Done   2 out of   2 | elapsed:    0.0s remaining:    0.0s\n",
      "[Parallel(n_jobs=1)]: Done   3 out of   3 | elapsed:    0.1s remaining:    0.0s\n",
      "[Parallel(n_jobs=1)]: Done   4 out of   4 | elapsed:    0.1s remaining:    0.0s\n"
     ]
    },
    {
     "name": "stdout",
     "output_type": "stream",
     "text": [
      "Used Annotations descriptions: ['Comment/101', 'Comment/109', 'Comment/30', 'Comment/40', 'Comment/50', 'Comment/51', 'Comment/52', 'Comment/60', 'Comment/70', 'Comment/80', 'New Segment/']\n",
      "EEG channel type selected for re-referencing\n",
      "Applying average reference.\n",
      "Applying a custom ('EEG',) reference.\n"
     ]
    },
    {
     "name": "stderr",
     "output_type": "stream",
     "text": [
      "[Parallel(n_jobs=1)]: Done  63 out of  63 | elapsed:    0.6s finished\n"
     ]
    },
    {
     "name": "stdout",
     "output_type": "stream",
     "text": [
      "Multiple event values for single event times found. Keeping the first occurrence and dropping all others.\n",
      "Not setting metadata\n",
      "411 matching events found\n",
      "Setting baseline interval to [0.0, 2.0] s\n",
      "Applying baseline correction (mode: mean)\n",
      "0 projection items activated\n",
      "Using data from preloaded Raw for 411 events and 2501 original time points ...\n",
      "2 bad epochs dropped\n",
      "Extracting parameters from ./ica_notebooks/cleaned/m_14_01/m_14_01_pos1b.vhdr...\n",
      "Setting channel info structure...\n",
      "Reading 0 ... 686370  =      0.000 ...   686.370 secs...\n"
     ]
    },
    {
     "name": "stderr",
     "output_type": "stream",
     "text": [
      "/var/folders/2b/4tnqzv_x3x17pf4q1_n7m8h40000gn/T/ipykernel_936/3128575474.py:29: RuntimeWarning: Fiducial point nasion not found, assuming identity unknown to head transformation\n",
      "  epochs.set_montage(montage)\n"
     ]
    },
    {
     "name": "stdout",
     "output_type": "stream",
     "text": [
      "dropping channel\n",
      "Filtering raw data in 1 contiguous segment\n",
      "Setting up band-pass filter from 3 - 40 Hz\n",
      "\n",
      "FIR filter parameters\n",
      "---------------------\n",
      "Designing a one-pass, zero-phase, non-causal bandpass filter:\n",
      "- Windowed time-domain design (firwin) method\n",
      "- Hamming window with 0.0194 passband ripple and 53 dB stopband attenuation\n",
      "- Lower passband edge: 3.00\n",
      "- Lower transition bandwidth: 2.00 Hz (-6 dB cutoff frequency: 2.00 Hz)\n",
      "- Upper passband edge: 40.00 Hz\n",
      "- Upper transition bandwidth: 10.00 Hz (-6 dB cutoff frequency: 45.00 Hz)\n",
      "- Filter length: 1651 samples (1.651 s)\n",
      "\n"
     ]
    },
    {
     "name": "stderr",
     "output_type": "stream",
     "text": [
      "[Parallel(n_jobs=1)]: Using backend SequentialBackend with 1 concurrent workers.\n",
      "[Parallel(n_jobs=1)]: Done   1 out of   1 | elapsed:    0.0s remaining:    0.0s\n",
      "[Parallel(n_jobs=1)]: Done   2 out of   2 | elapsed:    0.0s remaining:    0.0s\n",
      "[Parallel(n_jobs=1)]: Done   3 out of   3 | elapsed:    0.1s remaining:    0.0s\n",
      "[Parallel(n_jobs=1)]: Done   4 out of   4 | elapsed:    0.1s remaining:    0.0s\n"
     ]
    },
    {
     "name": "stdout",
     "output_type": "stream",
     "text": [
      "Used Annotations descriptions: ['Comment/101', 'Comment/109', 'Comment/30', 'Comment/40', 'Comment/50', 'Comment/51', 'Comment/52', 'Comment/60', 'Comment/70', 'Comment/80', 'New Segment/']\n",
      "EEG channel type selected for re-referencing\n",
      "Applying average reference.\n",
      "Applying a custom ('EEG',) reference.\n"
     ]
    },
    {
     "name": "stderr",
     "output_type": "stream",
     "text": [
      "[Parallel(n_jobs=1)]: Done  63 out of  63 | elapsed:    0.6s finished\n"
     ]
    },
    {
     "name": "stdout",
     "output_type": "stream",
     "text": [
      "Multiple event values for single event times found. Keeping the first occurrence and dropping all others.\n",
      "Not setting metadata\n",
      "409 matching events found\n",
      "Setting baseline interval to [0.0, 2.0] s\n",
      "Applying baseline correction (mode: mean)\n",
      "0 projection items activated\n",
      "Using data from preloaded Raw for 409 events and 2501 original time points ...\n",
      "2 bad epochs dropped\n",
      "Extracting parameters from ./ica_notebooks/cleaned/m_20_01/m_20_01_pos1b.vhdr...\n",
      "Setting channel info structure...\n",
      "Reading 0 ... 498009  =      0.000 ...   498.009 secs...\n"
     ]
    },
    {
     "name": "stderr",
     "output_type": "stream",
     "text": [
      "/var/folders/2b/4tnqzv_x3x17pf4q1_n7m8h40000gn/T/ipykernel_936/3128575474.py:29: RuntimeWarning: Fiducial point nasion not found, assuming identity unknown to head transformation\n",
      "  epochs.set_montage(montage)\n"
     ]
    },
    {
     "name": "stdout",
     "output_type": "stream",
     "text": [
      "dropping channel\n",
      "Filtering raw data in 1 contiguous segment\n",
      "Setting up band-pass filter from 3 - 40 Hz\n",
      "\n",
      "FIR filter parameters\n",
      "---------------------\n",
      "Designing a one-pass, zero-phase, non-causal bandpass filter:\n",
      "- Windowed time-domain design (firwin) method\n",
      "- Hamming window with 0.0194 passband ripple and 53 dB stopband attenuation\n",
      "- Lower passband edge: 3.00\n",
      "- Lower transition bandwidth: 2.00 Hz (-6 dB cutoff frequency: 2.00 Hz)\n",
      "- Upper passband edge: 40.00 Hz\n",
      "- Upper transition bandwidth: 10.00 Hz (-6 dB cutoff frequency: 45.00 Hz)\n",
      "- Filter length: 1651 samples (1.651 s)\n",
      "\n"
     ]
    },
    {
     "name": "stderr",
     "output_type": "stream",
     "text": [
      "[Parallel(n_jobs=1)]: Using backend SequentialBackend with 1 concurrent workers.\n",
      "[Parallel(n_jobs=1)]: Done   1 out of   1 | elapsed:    0.0s remaining:    0.0s\n",
      "[Parallel(n_jobs=1)]: Done   2 out of   2 | elapsed:    0.0s remaining:    0.0s\n",
      "[Parallel(n_jobs=1)]: Done   3 out of   3 | elapsed:    0.0s remaining:    0.0s\n",
      "[Parallel(n_jobs=1)]: Done   4 out of   4 | elapsed:    0.1s remaining:    0.0s\n"
     ]
    },
    {
     "name": "stdout",
     "output_type": "stream",
     "text": [
      "Used Annotations descriptions: ['Comment/101', 'Comment/109', 'Comment/30', 'Comment/40', 'Comment/50', 'Comment/51', 'Comment/52', 'Comment/60', 'Comment/70', 'Comment/80', 'New Segment/']\n",
      "EEG channel type selected for re-referencing\n",
      "Applying average reference.\n",
      "Applying a custom ('EEG',) reference.\n"
     ]
    },
    {
     "name": "stderr",
     "output_type": "stream",
     "text": [
      "[Parallel(n_jobs=1)]: Done  63 out of  63 | elapsed:    0.5s finished\n"
     ]
    },
    {
     "name": "stdout",
     "output_type": "stream",
     "text": [
      "Multiple event values for single event times found. Keeping the first occurrence and dropping all others.\n",
      "Not setting metadata\n",
      "307 matching events found\n",
      "Setting baseline interval to [0.0, 2.0] s\n",
      "Applying baseline correction (mode: mean)\n",
      "0 projection items activated\n",
      "Using data from preloaded Raw for 307 events and 2501 original time points ...\n",
      "2 bad epochs dropped\n",
      "Extracting parameters from ./ica_notebooks/cleaned/m_10_01/m_10_01_pos1b.vhdr...\n",
      "Setting channel info structure...\n",
      "Reading 0 ... 667363  =      0.000 ...   667.363 secs...\n"
     ]
    },
    {
     "name": "stderr",
     "output_type": "stream",
     "text": [
      "/var/folders/2b/4tnqzv_x3x17pf4q1_n7m8h40000gn/T/ipykernel_936/3128575474.py:29: RuntimeWarning: Fiducial point nasion not found, assuming identity unknown to head transformation\n",
      "  epochs.set_montage(montage)\n"
     ]
    },
    {
     "name": "stdout",
     "output_type": "stream",
     "text": [
      "dropping channel\n",
      "Filtering raw data in 1 contiguous segment\n",
      "Setting up band-pass filter from 3 - 40 Hz\n",
      "\n",
      "FIR filter parameters\n",
      "---------------------\n",
      "Designing a one-pass, zero-phase, non-causal bandpass filter:\n",
      "- Windowed time-domain design (firwin) method\n",
      "- Hamming window with 0.0194 passband ripple and 53 dB stopband attenuation\n",
      "- Lower passband edge: 3.00\n",
      "- Lower transition bandwidth: 2.00 Hz (-6 dB cutoff frequency: 2.00 Hz)\n",
      "- Upper passband edge: 40.00 Hz\n",
      "- Upper transition bandwidth: 10.00 Hz (-6 dB cutoff frequency: 45.00 Hz)\n",
      "- Filter length: 1651 samples (1.651 s)\n",
      "\n"
     ]
    },
    {
     "name": "stderr",
     "output_type": "stream",
     "text": [
      "[Parallel(n_jobs=1)]: Using backend SequentialBackend with 1 concurrent workers.\n",
      "[Parallel(n_jobs=1)]: Done   1 out of   1 | elapsed:    0.0s remaining:    0.0s\n",
      "[Parallel(n_jobs=1)]: Done   2 out of   2 | elapsed:    0.0s remaining:    0.0s\n",
      "[Parallel(n_jobs=1)]: Done   3 out of   3 | elapsed:    0.0s remaining:    0.0s\n",
      "[Parallel(n_jobs=1)]: Done   4 out of   4 | elapsed:    0.0s remaining:    0.0s\n"
     ]
    },
    {
     "name": "stdout",
     "output_type": "stream",
     "text": [
      "Used Annotations descriptions: ['Comment/101', 'Comment/109', 'Comment/30', 'Comment/40', 'Comment/50', 'Comment/51', 'Comment/52', 'Comment/60', 'Comment/70', 'Comment/80', 'New Segment/']\n",
      "EEG channel type selected for re-referencing\n",
      "Applying average reference.\n",
      "Applying a custom ('EEG',) reference.\n"
     ]
    },
    {
     "name": "stderr",
     "output_type": "stream",
     "text": [
      "[Parallel(n_jobs=1)]: Done  63 out of  63 | elapsed:    0.6s finished\n"
     ]
    },
    {
     "name": "stdout",
     "output_type": "stream",
     "text": [
      "Multiple event values for single event times found. Keeping the first occurrence and dropping all others.\n",
      "Not setting metadata\n",
      "410 matching events found\n",
      "Setting baseline interval to [0.0, 2.0] s\n",
      "Applying baseline correction (mode: mean)\n",
      "0 projection items activated\n",
      "Using data from preloaded Raw for 410 events and 2501 original time points ...\n",
      "2 bad epochs dropped\n",
      "Extracting parameters from ./ica_notebooks/cleaned/m_00_01/m_00_01_pos1b.vhdr...\n",
      "Setting channel info structure...\n",
      "Reading 0 ... 680309  =      0.000 ...   680.309 secs...\n"
     ]
    },
    {
     "name": "stderr",
     "output_type": "stream",
     "text": [
      "/var/folders/2b/4tnqzv_x3x17pf4q1_n7m8h40000gn/T/ipykernel_936/3128575474.py:29: RuntimeWarning: Fiducial point nasion not found, assuming identity unknown to head transformation\n",
      "  epochs.set_montage(montage)\n"
     ]
    },
    {
     "name": "stdout",
     "output_type": "stream",
     "text": [
      "dropping channel\n",
      "Filtering raw data in 1 contiguous segment\n",
      "Setting up band-pass filter from 3 - 40 Hz\n",
      "\n",
      "FIR filter parameters\n",
      "---------------------\n",
      "Designing a one-pass, zero-phase, non-causal bandpass filter:\n",
      "- Windowed time-domain design (firwin) method\n",
      "- Hamming window with 0.0194 passband ripple and 53 dB stopband attenuation\n",
      "- Lower passband edge: 3.00\n",
      "- Lower transition bandwidth: 2.00 Hz (-6 dB cutoff frequency: 2.00 Hz)\n",
      "- Upper passband edge: 40.00 Hz\n",
      "- Upper transition bandwidth: 10.00 Hz (-6 dB cutoff frequency: 45.00 Hz)\n",
      "- Filter length: 1651 samples (1.651 s)\n",
      "\n"
     ]
    },
    {
     "name": "stderr",
     "output_type": "stream",
     "text": [
      "[Parallel(n_jobs=1)]: Using backend SequentialBackend with 1 concurrent workers.\n",
      "[Parallel(n_jobs=1)]: Done   1 out of   1 | elapsed:    0.0s remaining:    0.0s\n",
      "[Parallel(n_jobs=1)]: Done   2 out of   2 | elapsed:    0.0s remaining:    0.0s\n",
      "[Parallel(n_jobs=1)]: Done   3 out of   3 | elapsed:    0.1s remaining:    0.0s\n",
      "[Parallel(n_jobs=1)]: Done   4 out of   4 | elapsed:    0.1s remaining:    0.0s\n"
     ]
    },
    {
     "name": "stdout",
     "output_type": "stream",
     "text": [
      "Used Annotations descriptions: ['Comment/101', 'Comment/109', 'Comment/30', 'Comment/40', 'Comment/50', 'Comment/51', 'Comment/52', 'Comment/60', 'Comment/70', 'Comment/80', 'New Segment/']\n",
      "EEG channel type selected for re-referencing\n",
      "Applying average reference.\n",
      "Applying a custom ('EEG',) reference.\n",
      "Multiple event values for single event times found. Keeping the first occurrence and dropping all others.\n",
      "Not setting metadata\n",
      "411 matching events found\n"
     ]
    },
    {
     "name": "stderr",
     "output_type": "stream",
     "text": [
      "[Parallel(n_jobs=1)]: Done  63 out of  63 | elapsed:    0.7s finished\n"
     ]
    },
    {
     "name": "stdout",
     "output_type": "stream",
     "text": [
      "Setting baseline interval to [0.0, 2.0] s\n",
      "Applying baseline correction (mode: mean)\n",
      "0 projection items activated\n",
      "Using data from preloaded Raw for 411 events and 2501 original time points ...\n",
      "2 bad epochs dropped\n",
      "Extracting parameters from ./ica_notebooks/cleaned/m_19_01/m_19_01_pos1b.vhdr...\n",
      "Setting channel info structure...\n",
      "Reading 0 ... 736370  =      0.000 ...   736.370 secs...\n"
     ]
    },
    {
     "name": "stderr",
     "output_type": "stream",
     "text": [
      "/var/folders/2b/4tnqzv_x3x17pf4q1_n7m8h40000gn/T/ipykernel_936/3128575474.py:29: RuntimeWarning: Fiducial point nasion not found, assuming identity unknown to head transformation\n",
      "  epochs.set_montage(montage)\n"
     ]
    },
    {
     "name": "stdout",
     "output_type": "stream",
     "text": [
      "dropping channel\n",
      "Filtering raw data in 1 contiguous segment\n",
      "Setting up band-pass filter from 3 - 40 Hz\n",
      "\n",
      "FIR filter parameters\n",
      "---------------------\n",
      "Designing a one-pass, zero-phase, non-causal bandpass filter:\n",
      "- Windowed time-domain design (firwin) method\n",
      "- Hamming window with 0.0194 passband ripple and 53 dB stopband attenuation\n",
      "- Lower passband edge: 3.00\n",
      "- Lower transition bandwidth: 2.00 Hz (-6 dB cutoff frequency: 2.00 Hz)\n",
      "- Upper passband edge: 40.00 Hz\n",
      "- Upper transition bandwidth: 10.00 Hz (-6 dB cutoff frequency: 45.00 Hz)\n",
      "- Filter length: 1651 samples (1.651 s)\n",
      "\n"
     ]
    },
    {
     "name": "stderr",
     "output_type": "stream",
     "text": [
      "[Parallel(n_jobs=1)]: Using backend SequentialBackend with 1 concurrent workers.\n",
      "[Parallel(n_jobs=1)]: Done   1 out of   1 | elapsed:    0.0s remaining:    0.0s\n",
      "[Parallel(n_jobs=1)]: Done   2 out of   2 | elapsed:    0.0s remaining:    0.0s\n",
      "[Parallel(n_jobs=1)]: Done   3 out of   3 | elapsed:    0.0s remaining:    0.0s\n",
      "[Parallel(n_jobs=1)]: Done   4 out of   4 | elapsed:    0.1s remaining:    0.0s\n"
     ]
    },
    {
     "name": "stdout",
     "output_type": "stream",
     "text": [
      "Used Annotations descriptions: ['Comment/101', 'Comment/109', 'Comment/30', 'Comment/40', 'Comment/50', 'Comment/51', 'Comment/52', 'Comment/60', 'Comment/70', 'Comment/80', 'New Segment/']\n",
      "EEG channel type selected for re-referencing\n",
      "Applying average reference.\n",
      "Applying a custom ('EEG',) reference.\n"
     ]
    },
    {
     "name": "stderr",
     "output_type": "stream",
     "text": [
      "[Parallel(n_jobs=1)]: Done  63 out of  63 | elapsed:    0.7s finished\n"
     ]
    },
    {
     "name": "stdout",
     "output_type": "stream",
     "text": [
      "Multiple event values for single event times found. Keeping the first occurrence and dropping all others.\n",
      "Not setting metadata\n",
      "410 matching events found\n",
      "Setting baseline interval to [0.0, 2.0] s\n",
      "Applying baseline correction (mode: mean)\n",
      "0 projection items activated\n",
      "Using data from preloaded Raw for 410 events and 2501 original time points ...\n",
      "2 bad epochs dropped\n",
      "Extracting parameters from ./ica_notebooks/cleaned/m_09_01/m_09_01_pos1b.vhdr...\n",
      "Setting channel info structure...\n",
      "Reading 0 ... 535139  =      0.000 ...   535.139 secs...\n"
     ]
    },
    {
     "name": "stderr",
     "output_type": "stream",
     "text": [
      "/var/folders/2b/4tnqzv_x3x17pf4q1_n7m8h40000gn/T/ipykernel_936/3128575474.py:29: RuntimeWarning: Fiducial point nasion not found, assuming identity unknown to head transformation\n",
      "  epochs.set_montage(montage)\n"
     ]
    },
    {
     "name": "stdout",
     "output_type": "stream",
     "text": [
      "dropping channel\n",
      "Filtering raw data in 1 contiguous segment\n",
      "Setting up band-pass filter from 3 - 40 Hz\n",
      "\n",
      "FIR filter parameters\n",
      "---------------------\n",
      "Designing a one-pass, zero-phase, non-causal bandpass filter:\n",
      "- Windowed time-domain design (firwin) method\n",
      "- Hamming window with 0.0194 passband ripple and 53 dB stopband attenuation\n",
      "- Lower passband edge: 3.00\n",
      "- Lower transition bandwidth: 2.00 Hz (-6 dB cutoff frequency: 2.00 Hz)\n",
      "- Upper passband edge: 40.00 Hz\n",
      "- Upper transition bandwidth: 10.00 Hz (-6 dB cutoff frequency: 45.00 Hz)\n",
      "- Filter length: 1651 samples (1.651 s)\n",
      "\n"
     ]
    },
    {
     "name": "stderr",
     "output_type": "stream",
     "text": [
      "[Parallel(n_jobs=1)]: Using backend SequentialBackend with 1 concurrent workers.\n",
      "[Parallel(n_jobs=1)]: Done   1 out of   1 | elapsed:    0.0s remaining:    0.0s\n",
      "[Parallel(n_jobs=1)]: Done   2 out of   2 | elapsed:    0.0s remaining:    0.0s\n",
      "[Parallel(n_jobs=1)]: Done   3 out of   3 | elapsed:    0.0s remaining:    0.0s\n",
      "[Parallel(n_jobs=1)]: Done   4 out of   4 | elapsed:    0.1s remaining:    0.0s\n"
     ]
    },
    {
     "name": "stdout",
     "output_type": "stream",
     "text": [
      "Used Annotations descriptions: ['Comment/101', 'Comment/109', 'Comment/30', 'Comment/40', 'Comment/50', 'Comment/51', 'Comment/52', 'Comment/60', 'Comment/70', 'Comment/80', 'New Segment/']\n",
      "EEG channel type selected for re-referencing\n",
      "Applying average reference.\n",
      "Applying a custom ('EEG',) reference.\n",
      "Multiple event values for single event times found. Keeping the first occurrence and dropping all others.\n",
      "Not setting metadata\n",
      "308 matching events found\n",
      "Setting baseline interval to [0.0, 2.0] s\n",
      "Applying baseline correction (mode: mean)\n",
      "0 projection items activated\n",
      "Using data from preloaded Raw for 308 events and 2501 original time points ...\n"
     ]
    },
    {
     "name": "stderr",
     "output_type": "stream",
     "text": [
      "[Parallel(n_jobs=1)]: Done  63 out of  63 | elapsed:    0.5s finished\n"
     ]
    },
    {
     "name": "stdout",
     "output_type": "stream",
     "text": [
      "2 bad epochs dropped\n",
      "Extracting parameters from ./ica_notebooks/cleaned/m_07_01/m_07_01_pos1b.vhdr...\n",
      "Setting channel info structure...\n",
      "Reading 0 ... 669191  =      0.000 ...   669.191 secs...\n"
     ]
    },
    {
     "name": "stderr",
     "output_type": "stream",
     "text": [
      "/var/folders/2b/4tnqzv_x3x17pf4q1_n7m8h40000gn/T/ipykernel_936/3128575474.py:29: RuntimeWarning: Fiducial point nasion not found, assuming identity unknown to head transformation\n",
      "  epochs.set_montage(montage)\n"
     ]
    },
    {
     "name": "stdout",
     "output_type": "stream",
     "text": [
      "dropping channel\n",
      "Filtering raw data in 1 contiguous segment\n",
      "Setting up band-pass filter from 3 - 40 Hz\n",
      "\n",
      "FIR filter parameters\n",
      "---------------------\n",
      "Designing a one-pass, zero-phase, non-causal bandpass filter:\n",
      "- Windowed time-domain design (firwin) method\n",
      "- Hamming window with 0.0194 passband ripple and 53 dB stopband attenuation\n",
      "- Lower passband edge: 3.00\n",
      "- Lower transition bandwidth: 2.00 Hz (-6 dB cutoff frequency: 2.00 Hz)\n",
      "- Upper passband edge: 40.00 Hz\n",
      "- Upper transition bandwidth: 10.00 Hz (-6 dB cutoff frequency: 45.00 Hz)\n",
      "- Filter length: 1651 samples (1.651 s)\n",
      "\n"
     ]
    },
    {
     "name": "stderr",
     "output_type": "stream",
     "text": [
      "[Parallel(n_jobs=1)]: Using backend SequentialBackend with 1 concurrent workers.\n",
      "[Parallel(n_jobs=1)]: Done   1 out of   1 | elapsed:    0.0s remaining:    0.0s\n",
      "[Parallel(n_jobs=1)]: Done   2 out of   2 | elapsed:    0.0s remaining:    0.0s\n",
      "[Parallel(n_jobs=1)]: Done   3 out of   3 | elapsed:    0.1s remaining:    0.0s\n",
      "[Parallel(n_jobs=1)]: Done   4 out of   4 | elapsed:    0.1s remaining:    0.0s\n"
     ]
    },
    {
     "name": "stdout",
     "output_type": "stream",
     "text": [
      "Used Annotations descriptions: ['Comment/101', 'Comment/109', 'Comment/30', 'Comment/40', 'Comment/50', 'Comment/51', 'Comment/52', 'Comment/60', 'Comment/70', 'Comment/80', 'New Segment/']\n",
      "EEG channel type selected for re-referencing\n",
      "Applying average reference.\n",
      "Applying a custom ('EEG',) reference.\n"
     ]
    },
    {
     "name": "stderr",
     "output_type": "stream",
     "text": [
      "[Parallel(n_jobs=1)]: Done  63 out of  63 | elapsed:    0.8s finished\n"
     ]
    },
    {
     "name": "stdout",
     "output_type": "stream",
     "text": [
      "Multiple event values for single event times found. Keeping the first occurrence and dropping all others.\n",
      "Not setting metadata\n",
      "409 matching events found\n",
      "Setting baseline interval to [0.0, 2.0] s\n",
      "Applying baseline correction (mode: mean)\n",
      "0 projection items activated\n",
      "Using data from preloaded Raw for 409 events and 2501 original time points ...\n",
      "2 bad epochs dropped\n",
      "Extracting parameters from ./ica_notebooks/cleaned/m_03_01/m_03_01_pos1b.vhdr...\n",
      "Setting channel info structure...\n",
      "Reading 0 ... 673432  =      0.000 ...   673.432 secs...\n"
     ]
    },
    {
     "name": "stderr",
     "output_type": "stream",
     "text": [
      "/var/folders/2b/4tnqzv_x3x17pf4q1_n7m8h40000gn/T/ipykernel_936/3128575474.py:29: RuntimeWarning: Fiducial point nasion not found, assuming identity unknown to head transformation\n",
      "  epochs.set_montage(montage)\n"
     ]
    },
    {
     "name": "stdout",
     "output_type": "stream",
     "text": [
      "dropping channel\n",
      "Filtering raw data in 1 contiguous segment\n",
      "Setting up band-pass filter from 3 - 40 Hz\n",
      "\n",
      "FIR filter parameters\n",
      "---------------------\n",
      "Designing a one-pass, zero-phase, non-causal bandpass filter:\n",
      "- Windowed time-domain design (firwin) method\n",
      "- Hamming window with 0.0194 passband ripple and 53 dB stopband attenuation\n",
      "- Lower passband edge: 3.00\n",
      "- Lower transition bandwidth: 2.00 Hz (-6 dB cutoff frequency: 2.00 Hz)\n",
      "- Upper passband edge: 40.00 Hz\n",
      "- Upper transition bandwidth: 10.00 Hz (-6 dB cutoff frequency: 45.00 Hz)\n",
      "- Filter length: 1651 samples (1.651 s)\n",
      "\n"
     ]
    },
    {
     "name": "stderr",
     "output_type": "stream",
     "text": [
      "[Parallel(n_jobs=1)]: Using backend SequentialBackend with 1 concurrent workers.\n",
      "[Parallel(n_jobs=1)]: Done   1 out of   1 | elapsed:    0.0s remaining:    0.0s\n",
      "[Parallel(n_jobs=1)]: Done   2 out of   2 | elapsed:    0.0s remaining:    0.0s\n",
      "[Parallel(n_jobs=1)]: Done   3 out of   3 | elapsed:    0.1s remaining:    0.0s\n",
      "[Parallel(n_jobs=1)]: Done   4 out of   4 | elapsed:    0.1s remaining:    0.0s\n"
     ]
    },
    {
     "name": "stdout",
     "output_type": "stream",
     "text": [
      "Used Annotations descriptions: ['Comment/101', 'Comment/109', 'Comment/30', 'Comment/40', 'Comment/50', 'Comment/51', 'Comment/52', 'Comment/60', 'Comment/70', 'Comment/80', 'New Segment/']\n",
      "EEG channel type selected for re-referencing\n",
      "Applying average reference.\n",
      "Applying a custom ('EEG',) reference.\n"
     ]
    },
    {
     "name": "stderr",
     "output_type": "stream",
     "text": [
      "[Parallel(n_jobs=1)]: Done  63 out of  63 | elapsed:    0.7s finished\n"
     ]
    },
    {
     "name": "stdout",
     "output_type": "stream",
     "text": [
      "Multiple event values for single event times found. Keeping the first occurrence and dropping all others.\n",
      "Not setting metadata\n",
      "409 matching events found\n",
      "Setting baseline interval to [0.0, 2.0] s\n",
      "Applying baseline correction (mode: mean)\n",
      "0 projection items activated\n",
      "Using data from preloaded Raw for 409 events and 2501 original time points ...\n",
      "2 bad epochs dropped\n",
      "Extracting parameters from ./ica_notebooks/cleaned/m_16_01/m_16_01_pos1b.vhdr...\n",
      "Setting channel info structure...\n",
      "Reading 0 ... 667352  =      0.000 ...   667.352 secs...\n"
     ]
    },
    {
     "name": "stderr",
     "output_type": "stream",
     "text": [
      "/var/folders/2b/4tnqzv_x3x17pf4q1_n7m8h40000gn/T/ipykernel_936/3128575474.py:29: RuntimeWarning: Fiducial point nasion not found, assuming identity unknown to head transformation\n",
      "  epochs.set_montage(montage)\n"
     ]
    },
    {
     "name": "stdout",
     "output_type": "stream",
     "text": [
      "dropping channel\n",
      "Filtering raw data in 1 contiguous segment\n",
      "Setting up band-pass filter from 3 - 40 Hz\n",
      "\n",
      "FIR filter parameters\n",
      "---------------------\n",
      "Designing a one-pass, zero-phase, non-causal bandpass filter:\n",
      "- Windowed time-domain design (firwin) method\n",
      "- Hamming window with 0.0194 passband ripple and 53 dB stopband attenuation\n",
      "- Lower passband edge: 3.00\n",
      "- Lower transition bandwidth: 2.00 Hz (-6 dB cutoff frequency: 2.00 Hz)\n",
      "- Upper passband edge: 40.00 Hz\n",
      "- Upper transition bandwidth: 10.00 Hz (-6 dB cutoff frequency: 45.00 Hz)\n",
      "- Filter length: 1651 samples (1.651 s)\n",
      "\n"
     ]
    },
    {
     "name": "stderr",
     "output_type": "stream",
     "text": [
      "[Parallel(n_jobs=1)]: Using backend SequentialBackend with 1 concurrent workers.\n",
      "[Parallel(n_jobs=1)]: Done   1 out of   1 | elapsed:    0.0s remaining:    0.0s\n",
      "[Parallel(n_jobs=1)]: Done   2 out of   2 | elapsed:    0.0s remaining:    0.0s\n",
      "[Parallel(n_jobs=1)]: Done   3 out of   3 | elapsed:    0.0s remaining:    0.0s\n",
      "[Parallel(n_jobs=1)]: Done   4 out of   4 | elapsed:    0.0s remaining:    0.0s\n"
     ]
    },
    {
     "name": "stdout",
     "output_type": "stream",
     "text": [
      "Used Annotations descriptions: ['Comment/101', 'Comment/109', 'Comment/30', 'Comment/40', 'Comment/50', 'Comment/51', 'Comment/52', 'Comment/60', 'Comment/70', 'Comment/80', 'New Segment/']\n",
      "EEG channel type selected for re-referencing\n",
      "Applying average reference.\n",
      "Applying a custom ('EEG',) reference.\n"
     ]
    },
    {
     "name": "stderr",
     "output_type": "stream",
     "text": [
      "[Parallel(n_jobs=1)]: Done  63 out of  63 | elapsed:    0.6s finished\n"
     ]
    },
    {
     "name": "stdout",
     "output_type": "stream",
     "text": [
      "Multiple event values for single event times found. Keeping the first occurrence and dropping all others.\n",
      "Not setting metadata\n",
      "410 matching events found\n",
      "Setting baseline interval to [0.0, 2.0] s\n",
      "Applying baseline correction (mode: mean)\n",
      "0 projection items activated\n",
      "Using data from preloaded Raw for 410 events and 2501 original time points ...\n",
      "3 bad epochs dropped\n",
      "Extracting parameters from ./ica_notebooks/cleaned/m_08_02/m_08_02_pos2a.vhdr...\n",
      "Setting channel info structure...\n",
      "Reading 0 ... 728771  =      0.000 ...   728.771 secs...\n"
     ]
    },
    {
     "name": "stderr",
     "output_type": "stream",
     "text": [
      "/var/folders/2b/4tnqzv_x3x17pf4q1_n7m8h40000gn/T/ipykernel_936/3128575474.py:29: RuntimeWarning: Fiducial point nasion not found, assuming identity unknown to head transformation\n",
      "  epochs.set_montage(montage)\n"
     ]
    },
    {
     "name": "stdout",
     "output_type": "stream",
     "text": [
      "dropping channel\n",
      "Filtering raw data in 1 contiguous segment\n",
      "Setting up band-pass filter from 3 - 40 Hz\n",
      "\n",
      "FIR filter parameters\n",
      "---------------------\n",
      "Designing a one-pass, zero-phase, non-causal bandpass filter:\n",
      "- Windowed time-domain design (firwin) method\n",
      "- Hamming window with 0.0194 passband ripple and 53 dB stopband attenuation\n",
      "- Lower passband edge: 3.00\n",
      "- Lower transition bandwidth: 2.00 Hz (-6 dB cutoff frequency: 2.00 Hz)\n",
      "- Upper passband edge: 40.00 Hz\n",
      "- Upper transition bandwidth: 10.00 Hz (-6 dB cutoff frequency: 45.00 Hz)\n",
      "- Filter length: 1651 samples (1.651 s)\n",
      "\n"
     ]
    },
    {
     "name": "stderr",
     "output_type": "stream",
     "text": [
      "[Parallel(n_jobs=1)]: Using backend SequentialBackend with 1 concurrent workers.\n",
      "[Parallel(n_jobs=1)]: Done   1 out of   1 | elapsed:    0.0s remaining:    0.0s\n",
      "[Parallel(n_jobs=1)]: Done   2 out of   2 | elapsed:    0.0s remaining:    0.0s\n",
      "[Parallel(n_jobs=1)]: Done   3 out of   3 | elapsed:    0.1s remaining:    0.0s\n",
      "[Parallel(n_jobs=1)]: Done   4 out of   4 | elapsed:    0.1s remaining:    0.0s\n"
     ]
    },
    {
     "name": "stdout",
     "output_type": "stream",
     "text": [
      "Used Annotations descriptions: ['Comment/101', 'Comment/109', 'Comment/30', 'Comment/40', 'Comment/50', 'Comment/51', 'Comment/52', 'Comment/60', 'Comment/70', 'Comment/80', 'New Segment/']\n",
      "EEG channel type selected for re-referencing\n",
      "Applying average reference.\n",
      "Applying a custom ('EEG',) reference.\n",
      "Multiple event values for single event times found. Keeping the first occurrence and dropping all others.\n",
      "Not setting metadata\n",
      "410 matching events found\n",
      "Setting baseline interval to [0.0, 2.0] s\n",
      "Applying baseline correction (mode: mean)\n",
      "0 projection items activated\n",
      "Using data from preloaded Raw for 410 events and 2501 original time points ...\n"
     ]
    },
    {
     "name": "stderr",
     "output_type": "stream",
     "text": [
      "[Parallel(n_jobs=1)]: Done  63 out of  63 | elapsed:    0.7s finished\n"
     ]
    },
    {
     "name": "stdout",
     "output_type": "stream",
     "text": [
      "2 bad epochs dropped\n",
      "Extracting parameters from ./ica_notebooks/cleaned/m_18_02/m_18_02_pos2a.vhdr...\n",
      "Setting channel info structure...\n",
      "Reading 0 ... 668340  =      0.000 ...   668.340 secs...\n"
     ]
    },
    {
     "name": "stderr",
     "output_type": "stream",
     "text": [
      "/var/folders/2b/4tnqzv_x3x17pf4q1_n7m8h40000gn/T/ipykernel_936/3128575474.py:29: RuntimeWarning: Fiducial point nasion not found, assuming identity unknown to head transformation\n",
      "  epochs.set_montage(montage)\n"
     ]
    },
    {
     "name": "stdout",
     "output_type": "stream",
     "text": [
      "dropping channel\n",
      "Filtering raw data in 1 contiguous segment\n",
      "Setting up band-pass filter from 3 - 40 Hz\n",
      "\n",
      "FIR filter parameters\n",
      "---------------------\n",
      "Designing a one-pass, zero-phase, non-causal bandpass filter:\n",
      "- Windowed time-domain design (firwin) method\n",
      "- Hamming window with 0.0194 passband ripple and 53 dB stopband attenuation\n",
      "- Lower passband edge: 3.00\n",
      "- Lower transition bandwidth: 2.00 Hz (-6 dB cutoff frequency: 2.00 Hz)\n",
      "- Upper passband edge: 40.00 Hz\n",
      "- Upper transition bandwidth: 10.00 Hz (-6 dB cutoff frequency: 45.00 Hz)\n",
      "- Filter length: 1651 samples (1.651 s)\n",
      "\n"
     ]
    },
    {
     "name": "stderr",
     "output_type": "stream",
     "text": [
      "[Parallel(n_jobs=1)]: Using backend SequentialBackend with 1 concurrent workers.\n",
      "[Parallel(n_jobs=1)]: Done   1 out of   1 | elapsed:    0.1s remaining:    0.0s\n",
      "[Parallel(n_jobs=1)]: Done   2 out of   2 | elapsed:    0.1s remaining:    0.0s\n",
      "[Parallel(n_jobs=1)]: Done   3 out of   3 | elapsed:    0.1s remaining:    0.0s\n",
      "[Parallel(n_jobs=1)]: Done   4 out of   4 | elapsed:    0.1s remaining:    0.0s\n"
     ]
    },
    {
     "name": "stdout",
     "output_type": "stream",
     "text": [
      "Used Annotations descriptions: ['Comment/101', 'Comment/109', 'Comment/30', 'Comment/40', 'Comment/50', 'Comment/51', 'Comment/52', 'Comment/60', 'Comment/70', 'Comment/80', 'New Segment/']\n",
      "EEG channel type selected for re-referencing\n",
      "Applying average reference.\n",
      "Applying a custom ('EEG',) reference.\n",
      "Multiple event values for single event times found. Keeping the first occurrence and dropping all others.\n",
      "Not setting metadata\n",
      "409 matching events found\n",
      "Setting baseline interval to [0.0, 2.0] s\n",
      "Applying baseline correction (mode: mean)\n",
      "0 projection items activated\n",
      "Using data from preloaded Raw for 409 events and 2501 original time points ...\n"
     ]
    },
    {
     "name": "stderr",
     "output_type": "stream",
     "text": [
      "[Parallel(n_jobs=1)]: Done  63 out of  63 | elapsed:    0.7s finished\n"
     ]
    },
    {
     "name": "stdout",
     "output_type": "stream",
     "text": [
      "3 bad epochs dropped\n",
      "Extracting parameters from ./ica_notebooks/cleaned/m_17_02/m_17_02_pos2a.vhdr...\n",
      "Setting channel info structure...\n",
      "Reading 0 ... 675771  =      0.000 ...   675.771 secs...\n"
     ]
    },
    {
     "name": "stderr",
     "output_type": "stream",
     "text": [
      "/var/folders/2b/4tnqzv_x3x17pf4q1_n7m8h40000gn/T/ipykernel_936/3128575474.py:29: RuntimeWarning: Fiducial point nasion not found, assuming identity unknown to head transformation\n",
      "  epochs.set_montage(montage)\n"
     ]
    },
    {
     "name": "stdout",
     "output_type": "stream",
     "text": [
      "dropping channel\n",
      "Filtering raw data in 1 contiguous segment\n",
      "Setting up band-pass filter from 3 - 40 Hz\n",
      "\n",
      "FIR filter parameters\n",
      "---------------------\n",
      "Designing a one-pass, zero-phase, non-causal bandpass filter:\n",
      "- Windowed time-domain design (firwin) method\n",
      "- Hamming window with 0.0194 passband ripple and 53 dB stopband attenuation\n",
      "- Lower passband edge: 3.00\n",
      "- Lower transition bandwidth: 2.00 Hz (-6 dB cutoff frequency: 2.00 Hz)\n",
      "- Upper passband edge: 40.00 Hz\n",
      "- Upper transition bandwidth: 10.00 Hz (-6 dB cutoff frequency: 45.00 Hz)\n",
      "- Filter length: 1651 samples (1.651 s)\n",
      "\n"
     ]
    },
    {
     "name": "stderr",
     "output_type": "stream",
     "text": [
      "[Parallel(n_jobs=1)]: Using backend SequentialBackend with 1 concurrent workers.\n",
      "[Parallel(n_jobs=1)]: Done   1 out of   1 | elapsed:    0.0s remaining:    0.0s\n",
      "[Parallel(n_jobs=1)]: Done   2 out of   2 | elapsed:    0.0s remaining:    0.0s\n",
      "[Parallel(n_jobs=1)]: Done   3 out of   3 | elapsed:    0.1s remaining:    0.0s\n",
      "[Parallel(n_jobs=1)]: Done   4 out of   4 | elapsed:    0.1s remaining:    0.0s\n"
     ]
    },
    {
     "name": "stdout",
     "output_type": "stream",
     "text": [
      "Used Annotations descriptions: ['Comment/101', 'Comment/109', 'Comment/30', 'Comment/40', 'Comment/50', 'Comment/51', 'Comment/52', 'Comment/60', 'Comment/70', 'Comment/80', 'New Segment/']\n",
      "EEG channel type selected for re-referencing\n",
      "Applying average reference.\n",
      "Applying a custom ('EEG',) reference.\n"
     ]
    },
    {
     "name": "stderr",
     "output_type": "stream",
     "text": [
      "[Parallel(n_jobs=1)]: Done  63 out of  63 | elapsed:    0.8s finished\n"
     ]
    },
    {
     "name": "stdout",
     "output_type": "stream",
     "text": [
      "Multiple event values for single event times found. Keeping the first occurrence and dropping all others.\n",
      "Not setting metadata\n",
      "413 matching events found\n",
      "Setting baseline interval to [0.0, 2.0] s\n",
      "Applying baseline correction (mode: mean)\n",
      "0 projection items activated\n",
      "Using data from preloaded Raw for 413 events and 2501 original time points ...\n",
      "2 bad epochs dropped\n",
      "Extracting parameters from ./ica_notebooks/cleaned/m_13_02/m_13_02_pos2a.vhdr...\n",
      "Setting channel info structure...\n",
      "Reading 0 ... 675770  =      0.000 ...   675.770 secs...\n"
     ]
    },
    {
     "name": "stderr",
     "output_type": "stream",
     "text": [
      "/var/folders/2b/4tnqzv_x3x17pf4q1_n7m8h40000gn/T/ipykernel_936/3128575474.py:29: RuntimeWarning: Fiducial point nasion not found, assuming identity unknown to head transformation\n",
      "  epochs.set_montage(montage)\n"
     ]
    },
    {
     "name": "stdout",
     "output_type": "stream",
     "text": [
      "dropping channel\n",
      "Filtering raw data in 1 contiguous segment\n",
      "Setting up band-pass filter from 3 - 40 Hz\n",
      "\n",
      "FIR filter parameters\n",
      "---------------------\n",
      "Designing a one-pass, zero-phase, non-causal bandpass filter:\n",
      "- Windowed time-domain design (firwin) method\n",
      "- Hamming window with 0.0194 passband ripple and 53 dB stopband attenuation\n",
      "- Lower passband edge: 3.00\n",
      "- Lower transition bandwidth: 2.00 Hz (-6 dB cutoff frequency: 2.00 Hz)\n",
      "- Upper passband edge: 40.00 Hz\n",
      "- Upper transition bandwidth: 10.00 Hz (-6 dB cutoff frequency: 45.00 Hz)\n",
      "- Filter length: 1651 samples (1.651 s)\n",
      "\n"
     ]
    },
    {
     "name": "stderr",
     "output_type": "stream",
     "text": [
      "[Parallel(n_jobs=1)]: Using backend SequentialBackend with 1 concurrent workers.\n",
      "[Parallel(n_jobs=1)]: Done   1 out of   1 | elapsed:    0.0s remaining:    0.0s\n",
      "[Parallel(n_jobs=1)]: Done   2 out of   2 | elapsed:    0.0s remaining:    0.0s\n",
      "[Parallel(n_jobs=1)]: Done   3 out of   3 | elapsed:    0.1s remaining:    0.0s\n",
      "[Parallel(n_jobs=1)]: Done   4 out of   4 | elapsed:    0.1s remaining:    0.0s\n"
     ]
    },
    {
     "name": "stdout",
     "output_type": "stream",
     "text": [
      "Used Annotations descriptions: ['Comment/101', 'Comment/109', 'Comment/30', 'Comment/40', 'Comment/50', 'Comment/51', 'Comment/52', 'Comment/60', 'Comment/70', 'Comment/80', 'New Segment/']\n",
      "EEG channel type selected for re-referencing\n",
      "Applying average reference.\n",
      "Applying a custom ('EEG',) reference.\n"
     ]
    },
    {
     "name": "stderr",
     "output_type": "stream",
     "text": [
      "[Parallel(n_jobs=1)]: Done  63 out of  63 | elapsed:    0.9s finished\n"
     ]
    },
    {
     "name": "stdout",
     "output_type": "stream",
     "text": [
      "Multiple event values for single event times found. Keeping the first occurrence and dropping all others.\n",
      "Not setting metadata\n",
      "410 matching events found\n",
      "Setting baseline interval to [0.0, 2.0] s\n",
      "Applying baseline correction (mode: mean)\n",
      "0 projection items activated\n",
      "Using data from preloaded Raw for 410 events and 2501 original time points ...\n",
      "2 bad epochs dropped\n",
      "Extracting parameters from ./ica_notebooks/cleaned/m_02_02/m_02_02_pos2a.vhdr...\n",
      "Setting channel info structure...\n",
      "Reading 0 ... 700777  =      0.000 ...   700.777 secs...\n"
     ]
    },
    {
     "name": "stderr",
     "output_type": "stream",
     "text": [
      "/var/folders/2b/4tnqzv_x3x17pf4q1_n7m8h40000gn/T/ipykernel_936/3128575474.py:29: RuntimeWarning: Fiducial point nasion not found, assuming identity unknown to head transformation\n",
      "  epochs.set_montage(montage)\n"
     ]
    },
    {
     "name": "stdout",
     "output_type": "stream",
     "text": [
      "dropping channel\n",
      "Filtering raw data in 1 contiguous segment\n",
      "Setting up band-pass filter from 3 - 40 Hz\n",
      "\n",
      "FIR filter parameters\n",
      "---------------------\n",
      "Designing a one-pass, zero-phase, non-causal bandpass filter:\n",
      "- Windowed time-domain design (firwin) method\n",
      "- Hamming window with 0.0194 passband ripple and 53 dB stopband attenuation\n",
      "- Lower passband edge: 3.00\n",
      "- Lower transition bandwidth: 2.00 Hz (-6 dB cutoff frequency: 2.00 Hz)\n",
      "- Upper passband edge: 40.00 Hz\n",
      "- Upper transition bandwidth: 10.00 Hz (-6 dB cutoff frequency: 45.00 Hz)\n",
      "- Filter length: 1651 samples (1.651 s)\n",
      "\n"
     ]
    },
    {
     "name": "stderr",
     "output_type": "stream",
     "text": [
      "[Parallel(n_jobs=1)]: Using backend SequentialBackend with 1 concurrent workers.\n",
      "[Parallel(n_jobs=1)]: Done   1 out of   1 | elapsed:    0.0s remaining:    0.0s\n",
      "[Parallel(n_jobs=1)]: Done   2 out of   2 | elapsed:    0.0s remaining:    0.0s\n",
      "[Parallel(n_jobs=1)]: Done   3 out of   3 | elapsed:    0.0s remaining:    0.0s\n",
      "[Parallel(n_jobs=1)]: Done   4 out of   4 | elapsed:    0.1s remaining:    0.0s\n"
     ]
    },
    {
     "name": "stdout",
     "output_type": "stream",
     "text": [
      "Used Annotations descriptions: ['Comment/101', 'Comment/109', 'Comment/30', 'Comment/40', 'Comment/50', 'Comment/51', 'Comment/52', 'Comment/60', 'Comment/70', 'Comment/80', 'New Segment/']\n",
      "EEG channel type selected for re-referencing\n",
      "Applying average reference.\n",
      "Applying a custom ('EEG',) reference.\n"
     ]
    },
    {
     "name": "stderr",
     "output_type": "stream",
     "text": [
      "[Parallel(n_jobs=1)]: Done  63 out of  63 | elapsed:    0.7s finished\n"
     ]
    },
    {
     "name": "stdout",
     "output_type": "stream",
     "text": [
      "Multiple event values for single event times found. Keeping the first occurrence and dropping all others.\n",
      "Not setting metadata\n",
      "410 matching events found\n",
      "Setting baseline interval to [0.0, 2.0] s\n",
      "Applying baseline correction (mode: mean)\n",
      "0 projection items activated\n",
      "Using data from preloaded Raw for 410 events and 2501 original time points ...\n",
      "2 bad epochs dropped\n",
      "Extracting parameters from ./ica_notebooks/cleaned/m_12_02/m_12_02_pos2a.vhdr...\n",
      "Setting channel info structure...\n",
      "Reading 0 ... 674207  =      0.000 ...   674.207 secs...\n"
     ]
    },
    {
     "name": "stderr",
     "output_type": "stream",
     "text": [
      "/var/folders/2b/4tnqzv_x3x17pf4q1_n7m8h40000gn/T/ipykernel_936/3128575474.py:29: RuntimeWarning: Fiducial point nasion not found, assuming identity unknown to head transformation\n",
      "  epochs.set_montage(montage)\n"
     ]
    },
    {
     "name": "stdout",
     "output_type": "stream",
     "text": [
      "dropping channel\n",
      "Filtering raw data in 1 contiguous segment\n",
      "Setting up band-pass filter from 3 - 40 Hz\n",
      "\n",
      "FIR filter parameters\n",
      "---------------------\n",
      "Designing a one-pass, zero-phase, non-causal bandpass filter:\n",
      "- Windowed time-domain design (firwin) method\n",
      "- Hamming window with 0.0194 passband ripple and 53 dB stopband attenuation\n",
      "- Lower passband edge: 3.00\n",
      "- Lower transition bandwidth: 2.00 Hz (-6 dB cutoff frequency: 2.00 Hz)\n",
      "- Upper passband edge: 40.00 Hz\n",
      "- Upper transition bandwidth: 10.00 Hz (-6 dB cutoff frequency: 45.00 Hz)\n",
      "- Filter length: 1651 samples (1.651 s)\n",
      "\n"
     ]
    },
    {
     "name": "stderr",
     "output_type": "stream",
     "text": [
      "[Parallel(n_jobs=1)]: Using backend SequentialBackend with 1 concurrent workers.\n",
      "[Parallel(n_jobs=1)]: Done   1 out of   1 | elapsed:    0.0s remaining:    0.0s\n",
      "[Parallel(n_jobs=1)]: Done   2 out of   2 | elapsed:    0.0s remaining:    0.0s\n",
      "[Parallel(n_jobs=1)]: Done   3 out of   3 | elapsed:    0.0s remaining:    0.0s\n",
      "[Parallel(n_jobs=1)]: Done   4 out of   4 | elapsed:    0.0s remaining:    0.0s\n"
     ]
    },
    {
     "name": "stdout",
     "output_type": "stream",
     "text": [
      "Used Annotations descriptions: ['Comment/101', 'Comment/109', 'Comment/30', 'Comment/40', 'Comment/50', 'Comment/51', 'Comment/52', 'Comment/60', 'Comment/70', 'Comment/80', 'New Segment/']\n",
      "EEG channel type selected for re-referencing\n",
      "Applying average reference.\n",
      "Applying a custom ('EEG',) reference.\n",
      "Multiple event values for single event times found. Keeping the first occurrence and dropping all others.\n",
      "Not setting metadata\n",
      "410 matching events found\n",
      "Setting baseline interval to [0.0, 2.0] s\n",
      "Applying baseline correction (mode: mean)\n",
      "0 projection items activated\n",
      "Using data from preloaded Raw for 410 events and 2501 original time points ...\n"
     ]
    },
    {
     "name": "stderr",
     "output_type": "stream",
     "text": [
      "[Parallel(n_jobs=1)]: Done  63 out of  63 | elapsed:    0.7s finished\n"
     ]
    },
    {
     "name": "stdout",
     "output_type": "stream",
     "text": [
      "2 bad epochs dropped\n",
      "Extracting parameters from ./ica_notebooks/cleaned/m_06_02/m_06_02_pos2a.vhdr...\n",
      "Setting channel info structure...\n",
      "Reading 0 ... 690202  =      0.000 ...   690.202 secs...\n"
     ]
    },
    {
     "name": "stderr",
     "output_type": "stream",
     "text": [
      "/var/folders/2b/4tnqzv_x3x17pf4q1_n7m8h40000gn/T/ipykernel_936/3128575474.py:29: RuntimeWarning: Fiducial point nasion not found, assuming identity unknown to head transformation\n",
      "  epochs.set_montage(montage)\n"
     ]
    },
    {
     "name": "stdout",
     "output_type": "stream",
     "text": [
      "dropping channel\n",
      "Filtering raw data in 1 contiguous segment\n",
      "Setting up band-pass filter from 3 - 40 Hz\n",
      "\n",
      "FIR filter parameters\n",
      "---------------------\n",
      "Designing a one-pass, zero-phase, non-causal bandpass filter:\n",
      "- Windowed time-domain design (firwin) method\n",
      "- Hamming window with 0.0194 passband ripple and 53 dB stopband attenuation\n",
      "- Lower passband edge: 3.00\n",
      "- Lower transition bandwidth: 2.00 Hz (-6 dB cutoff frequency: 2.00 Hz)\n",
      "- Upper passband edge: 40.00 Hz\n",
      "- Upper transition bandwidth: 10.00 Hz (-6 dB cutoff frequency: 45.00 Hz)\n",
      "- Filter length: 1651 samples (1.651 s)\n",
      "\n"
     ]
    },
    {
     "name": "stderr",
     "output_type": "stream",
     "text": [
      "[Parallel(n_jobs=1)]: Using backend SequentialBackend with 1 concurrent workers.\n",
      "[Parallel(n_jobs=1)]: Done   1 out of   1 | elapsed:    0.0s remaining:    0.0s\n",
      "[Parallel(n_jobs=1)]: Done   2 out of   2 | elapsed:    0.0s remaining:    0.0s\n",
      "[Parallel(n_jobs=1)]: Done   3 out of   3 | elapsed:    0.0s remaining:    0.0s\n",
      "[Parallel(n_jobs=1)]: Done   4 out of   4 | elapsed:    0.1s remaining:    0.0s\n"
     ]
    },
    {
     "name": "stdout",
     "output_type": "stream",
     "text": [
      "Used Annotations descriptions: ['Comment/101', 'Comment/109', 'Comment/30', 'Comment/40', 'Comment/50', 'Comment/51', 'Comment/52', 'Comment/60', 'Comment/70', 'Comment/80', 'New Segment/']\n",
      "EEG channel type selected for re-referencing\n",
      "Applying average reference.\n",
      "Applying a custom ('EEG',) reference.\n"
     ]
    },
    {
     "name": "stderr",
     "output_type": "stream",
     "text": [
      "[Parallel(n_jobs=1)]: Done  63 out of  63 | elapsed:    0.7s finished\n"
     ]
    },
    {
     "name": "stdout",
     "output_type": "stream",
     "text": [
      "Multiple event values for single event times found. Keeping the first occurrence and dropping all others.\n",
      "Not setting metadata\n",
      "410 matching events found\n",
      "Setting baseline interval to [0.0, 2.0] s\n",
      "Applying baseline correction (mode: mean)\n",
      "0 projection items activated\n",
      "Using data from preloaded Raw for 410 events and 2501 original time points ...\n",
      "2 bad epochs dropped\n",
      "Extracting parameters from ./ica_notebooks/cleaned/m_01_02/m_01_02_pos2a.vhdr...\n",
      "Setting channel info structure...\n",
      "Reading 0 ... 687606  =      0.000 ...   687.606 secs...\n"
     ]
    },
    {
     "name": "stderr",
     "output_type": "stream",
     "text": [
      "/var/folders/2b/4tnqzv_x3x17pf4q1_n7m8h40000gn/T/ipykernel_936/3128575474.py:29: RuntimeWarning: Fiducial point nasion not found, assuming identity unknown to head transformation\n",
      "  epochs.set_montage(montage)\n"
     ]
    },
    {
     "name": "stdout",
     "output_type": "stream",
     "text": [
      "dropping channel\n",
      "Filtering raw data in 1 contiguous segment\n",
      "Setting up band-pass filter from 3 - 40 Hz\n",
      "\n",
      "FIR filter parameters\n",
      "---------------------\n",
      "Designing a one-pass, zero-phase, non-causal bandpass filter:\n",
      "- Windowed time-domain design (firwin) method\n",
      "- Hamming window with 0.0194 passband ripple and 53 dB stopband attenuation\n",
      "- Lower passband edge: 3.00\n",
      "- Lower transition bandwidth: 2.00 Hz (-6 dB cutoff frequency: 2.00 Hz)\n",
      "- Upper passband edge: 40.00 Hz\n",
      "- Upper transition bandwidth: 10.00 Hz (-6 dB cutoff frequency: 45.00 Hz)\n",
      "- Filter length: 1651 samples (1.651 s)\n",
      "\n"
     ]
    },
    {
     "name": "stderr",
     "output_type": "stream",
     "text": [
      "[Parallel(n_jobs=1)]: Using backend SequentialBackend with 1 concurrent workers.\n",
      "[Parallel(n_jobs=1)]: Done   1 out of   1 | elapsed:    0.0s remaining:    0.0s\n",
      "[Parallel(n_jobs=1)]: Done   2 out of   2 | elapsed:    0.0s remaining:    0.0s\n",
      "[Parallel(n_jobs=1)]: Done   3 out of   3 | elapsed:    0.0s remaining:    0.0s\n",
      "[Parallel(n_jobs=1)]: Done   4 out of   4 | elapsed:    0.0s remaining:    0.0s\n"
     ]
    },
    {
     "name": "stdout",
     "output_type": "stream",
     "text": [
      "Used Annotations descriptions: ['Comment/101', 'Comment/109', 'Comment/30', 'Comment/40', 'Comment/50', 'Comment/51', 'Comment/52', 'Comment/60', 'Comment/70', 'Comment/80', 'New Segment/']\n",
      "EEG channel type selected for re-referencing\n",
      "Applying average reference.\n",
      "Applying a custom ('EEG',) reference.\n",
      "Multiple event values for single event times found. Keeping the first occurrence and dropping all others.\n",
      "Not setting metadata\n",
      "411 matching events found\n",
      "Setting baseline interval to [0.0, 2.0] s\n",
      "Applying baseline correction (mode: mean)\n",
      "0 projection items activated\n",
      "Using data from preloaded Raw for 411 events and 2501 original time points ...\n"
     ]
    },
    {
     "name": "stderr",
     "output_type": "stream",
     "text": [
      "[Parallel(n_jobs=1)]: Done  63 out of  63 | elapsed:    0.6s finished\n"
     ]
    },
    {
     "name": "stdout",
     "output_type": "stream",
     "text": [
      "2 bad epochs dropped\n",
      "Extracting parameters from ./ica_notebooks/cleaned/m_05_02/m_05_02_pos2a.vhdr...\n",
      "Setting channel info structure...\n",
      "Reading 0 ... 681642  =      0.000 ...   681.642 secs...\n"
     ]
    },
    {
     "name": "stderr",
     "output_type": "stream",
     "text": [
      "/var/folders/2b/4tnqzv_x3x17pf4q1_n7m8h40000gn/T/ipykernel_936/3128575474.py:29: RuntimeWarning: Fiducial point nasion not found, assuming identity unknown to head transformation\n",
      "  epochs.set_montage(montage)\n"
     ]
    },
    {
     "name": "stdout",
     "output_type": "stream",
     "text": [
      "dropping channel\n",
      "Filtering raw data in 1 contiguous segment\n",
      "Setting up band-pass filter from 3 - 40 Hz\n",
      "\n",
      "FIR filter parameters\n",
      "---------------------\n",
      "Designing a one-pass, zero-phase, non-causal bandpass filter:\n",
      "- Windowed time-domain design (firwin) method\n",
      "- Hamming window with 0.0194 passband ripple and 53 dB stopband attenuation\n",
      "- Lower passband edge: 3.00\n",
      "- Lower transition bandwidth: 2.00 Hz (-6 dB cutoff frequency: 2.00 Hz)\n",
      "- Upper passband edge: 40.00 Hz\n",
      "- Upper transition bandwidth: 10.00 Hz (-6 dB cutoff frequency: 45.00 Hz)\n",
      "- Filter length: 1651 samples (1.651 s)\n",
      "\n"
     ]
    },
    {
     "name": "stderr",
     "output_type": "stream",
     "text": [
      "[Parallel(n_jobs=1)]: Using backend SequentialBackend with 1 concurrent workers.\n",
      "[Parallel(n_jobs=1)]: Done   1 out of   1 | elapsed:    0.0s remaining:    0.0s\n",
      "[Parallel(n_jobs=1)]: Done   2 out of   2 | elapsed:    0.0s remaining:    0.0s\n",
      "[Parallel(n_jobs=1)]: Done   3 out of   3 | elapsed:    0.0s remaining:    0.0s\n",
      "[Parallel(n_jobs=1)]: Done   4 out of   4 | elapsed:    0.1s remaining:    0.0s\n",
      "[Parallel(n_jobs=1)]: Done  63 out of  63 | elapsed:    0.7s finished\n"
     ]
    },
    {
     "name": "stdout",
     "output_type": "stream",
     "text": [
      "Used Annotations descriptions: ['Comment/101', 'Comment/109', 'Comment/30', 'Comment/40', 'Comment/50', 'Comment/51', 'Comment/52', 'Comment/60', 'Comment/70', 'Comment/80', 'New Segment/']\n",
      "EEG channel type selected for re-referencing\n",
      "Applying average reference.\n",
      "Applying a custom ('EEG',) reference.\n",
      "Multiple event values for single event times found. Keeping the first occurrence and dropping all others.\n",
      "Not setting metadata\n",
      "410 matching events found\n",
      "Setting baseline interval to [0.0, 2.0] s\n",
      "Applying baseline correction (mode: mean)\n",
      "0 projection items activated\n",
      "Using data from preloaded Raw for 410 events and 2501 original time points ...\n",
      "2 bad epochs dropped\n",
      "Extracting parameters from ./ica_notebooks/cleaned/m_04_02/m_04_02_pos2a.vhdr...\n",
      "Setting channel info structure...\n",
      "Reading 0 ... 679230  =      0.000 ...   679.230 secs...\n"
     ]
    },
    {
     "name": "stderr",
     "output_type": "stream",
     "text": [
      "/var/folders/2b/4tnqzv_x3x17pf4q1_n7m8h40000gn/T/ipykernel_936/3128575474.py:29: RuntimeWarning: Fiducial point nasion not found, assuming identity unknown to head transformation\n",
      "  epochs.set_montage(montage)\n"
     ]
    },
    {
     "name": "stdout",
     "output_type": "stream",
     "text": [
      "dropping channel\n",
      "Filtering raw data in 1 contiguous segment\n",
      "Setting up band-pass filter from 3 - 40 Hz\n",
      "\n",
      "FIR filter parameters\n",
      "---------------------\n",
      "Designing a one-pass, zero-phase, non-causal bandpass filter:\n",
      "- Windowed time-domain design (firwin) method\n",
      "- Hamming window with 0.0194 passband ripple and 53 dB stopband attenuation\n",
      "- Lower passband edge: 3.00\n",
      "- Lower transition bandwidth: 2.00 Hz (-6 dB cutoff frequency: 2.00 Hz)\n",
      "- Upper passband edge: 40.00 Hz\n",
      "- Upper transition bandwidth: 10.00 Hz (-6 dB cutoff frequency: 45.00 Hz)\n",
      "- Filter length: 1651 samples (1.651 s)\n",
      "\n"
     ]
    },
    {
     "name": "stderr",
     "output_type": "stream",
     "text": [
      "[Parallel(n_jobs=1)]: Using backend SequentialBackend with 1 concurrent workers.\n",
      "[Parallel(n_jobs=1)]: Done   1 out of   1 | elapsed:    0.0s remaining:    0.0s\n",
      "[Parallel(n_jobs=1)]: Done   2 out of   2 | elapsed:    0.0s remaining:    0.0s\n",
      "[Parallel(n_jobs=1)]: Done   3 out of   3 | elapsed:    0.1s remaining:    0.0s\n",
      "[Parallel(n_jobs=1)]: Done   4 out of   4 | elapsed:    0.1s remaining:    0.0s\n"
     ]
    },
    {
     "name": "stdout",
     "output_type": "stream",
     "text": [
      "Used Annotations descriptions: ['Comment/101', 'Comment/109', 'Comment/30', 'Comment/40', 'Comment/50', 'Comment/51', 'Comment/52', 'Comment/60', 'Comment/70', 'Comment/80', 'New Segment/']\n",
      "EEG channel type selected for re-referencing\n",
      "Applying average reference.\n",
      "Applying a custom ('EEG',) reference.\n"
     ]
    },
    {
     "name": "stderr",
     "output_type": "stream",
     "text": [
      "[Parallel(n_jobs=1)]: Done  63 out of  63 | elapsed:    0.8s finished\n"
     ]
    },
    {
     "name": "stdout",
     "output_type": "stream",
     "text": [
      "Multiple event values for single event times found. Keeping the first occurrence and dropping all others.\n",
      "Not setting metadata\n",
      "410 matching events found\n",
      "Setting baseline interval to [0.0, 2.0] s\n",
      "Applying baseline correction (mode: mean)\n",
      "0 projection items activated\n",
      "Using data from preloaded Raw for 410 events and 2501 original time points ...\n",
      "3 bad epochs dropped\n",
      "Extracting parameters from ./ica_notebooks/cleaned/m_08_02/m_08_02_pos2b.vhdr...\n",
      "Setting channel info structure...\n",
      "Reading 0 ... 508821  =      0.000 ...   508.821 secs...\n"
     ]
    },
    {
     "name": "stderr",
     "output_type": "stream",
     "text": [
      "/var/folders/2b/4tnqzv_x3x17pf4q1_n7m8h40000gn/T/ipykernel_936/3128575474.py:29: RuntimeWarning: Fiducial point nasion not found, assuming identity unknown to head transformation\n",
      "  epochs.set_montage(montage)\n"
     ]
    },
    {
     "name": "stdout",
     "output_type": "stream",
     "text": [
      "dropping channel\n",
      "Filtering raw data in 1 contiguous segment\n",
      "Setting up band-pass filter from 3 - 40 Hz\n",
      "\n",
      "FIR filter parameters\n",
      "---------------------\n",
      "Designing a one-pass, zero-phase, non-causal bandpass filter:\n",
      "- Windowed time-domain design (firwin) method\n",
      "- Hamming window with 0.0194 passband ripple and 53 dB stopband attenuation\n",
      "- Lower passband edge: 3.00\n",
      "- Lower transition bandwidth: 2.00 Hz (-6 dB cutoff frequency: 2.00 Hz)\n",
      "- Upper passband edge: 40.00 Hz\n",
      "- Upper transition bandwidth: 10.00 Hz (-6 dB cutoff frequency: 45.00 Hz)\n",
      "- Filter length: 1651 samples (1.651 s)\n",
      "\n"
     ]
    },
    {
     "name": "stderr",
     "output_type": "stream",
     "text": [
      "[Parallel(n_jobs=1)]: Using backend SequentialBackend with 1 concurrent workers.\n",
      "[Parallel(n_jobs=1)]: Done   1 out of   1 | elapsed:    0.0s remaining:    0.0s\n",
      "[Parallel(n_jobs=1)]: Done   2 out of   2 | elapsed:    0.0s remaining:    0.0s\n",
      "[Parallel(n_jobs=1)]: Done   3 out of   3 | elapsed:    0.0s remaining:    0.0s\n",
      "[Parallel(n_jobs=1)]: Done   4 out of   4 | elapsed:    0.1s remaining:    0.0s\n"
     ]
    },
    {
     "name": "stdout",
     "output_type": "stream",
     "text": [
      "Used Annotations descriptions: ['Comment/101', 'Comment/109', 'Comment/30', 'Comment/40', 'Comment/50', 'Comment/51', 'Comment/52', 'Comment/60', 'Comment/70', 'Comment/80', 'New Segment/']\n",
      "EEG channel type selected for re-referencing\n",
      "Applying average reference.\n",
      "Applying a custom ('EEG',) reference.\n",
      "Multiple event values for single event times found. Keeping the first occurrence and dropping all others.\n",
      "Not setting metadata\n",
      "308 matching events found\n",
      "Setting baseline interval to [0.0, 2.0] s\n",
      "Applying baseline correction (mode: mean)\n",
      "0 projection items activated\n",
      "Using data from preloaded Raw for 308 events and 2501 original time points ...\n"
     ]
    },
    {
     "name": "stderr",
     "output_type": "stream",
     "text": [
      "[Parallel(n_jobs=1)]: Done  63 out of  63 | elapsed:    0.6s finished\n"
     ]
    },
    {
     "name": "stdout",
     "output_type": "stream",
     "text": [
      "2 bad epochs dropped\n",
      "Extracting parameters from ./ica_notebooks/cleaned/m_18_02/m_18_02_pos2b.vhdr...\n",
      "Setting channel info structure...\n",
      "Reading 0 ... 660150  =      0.000 ...   660.150 secs...\n"
     ]
    },
    {
     "name": "stderr",
     "output_type": "stream",
     "text": [
      "/var/folders/2b/4tnqzv_x3x17pf4q1_n7m8h40000gn/T/ipykernel_936/3128575474.py:29: RuntimeWarning: Fiducial point nasion not found, assuming identity unknown to head transformation\n",
      "  epochs.set_montage(montage)\n"
     ]
    },
    {
     "name": "stdout",
     "output_type": "stream",
     "text": [
      "dropping channel\n",
      "Filtering raw data in 1 contiguous segment\n",
      "Setting up band-pass filter from 3 - 40 Hz\n",
      "\n",
      "FIR filter parameters\n",
      "---------------------\n",
      "Designing a one-pass, zero-phase, non-causal bandpass filter:\n",
      "- Windowed time-domain design (firwin) method\n",
      "- Hamming window with 0.0194 passband ripple and 53 dB stopband attenuation\n",
      "- Lower passband edge: 3.00\n",
      "- Lower transition bandwidth: 2.00 Hz (-6 dB cutoff frequency: 2.00 Hz)\n",
      "- Upper passband edge: 40.00 Hz\n",
      "- Upper transition bandwidth: 10.00 Hz (-6 dB cutoff frequency: 45.00 Hz)\n",
      "- Filter length: 1651 samples (1.651 s)\n",
      "\n"
     ]
    },
    {
     "name": "stderr",
     "output_type": "stream",
     "text": [
      "[Parallel(n_jobs=1)]: Using backend SequentialBackend with 1 concurrent workers.\n",
      "[Parallel(n_jobs=1)]: Done   1 out of   1 | elapsed:    0.0s remaining:    0.0s\n",
      "[Parallel(n_jobs=1)]: Done   2 out of   2 | elapsed:    0.0s remaining:    0.0s\n",
      "[Parallel(n_jobs=1)]: Done   3 out of   3 | elapsed:    0.0s remaining:    0.0s\n",
      "[Parallel(n_jobs=1)]: Done   4 out of   4 | elapsed:    0.0s remaining:    0.0s\n"
     ]
    },
    {
     "name": "stdout",
     "output_type": "stream",
     "text": [
      "Used Annotations descriptions: ['Comment/101', 'Comment/109', 'Comment/30', 'Comment/40', 'Comment/50', 'Comment/51', 'Comment/52', 'Comment/60', 'Comment/70', 'Comment/80', 'New Segment/']\n",
      "EEG channel type selected for re-referencing\n",
      "Applying average reference.\n",
      "Applying a custom ('EEG',) reference.\n"
     ]
    },
    {
     "name": "stderr",
     "output_type": "stream",
     "text": [
      "[Parallel(n_jobs=1)]: Done  63 out of  63 | elapsed:    0.6s finished\n"
     ]
    },
    {
     "name": "stdout",
     "output_type": "stream",
     "text": [
      "Multiple event values for single event times found. Keeping the first occurrence and dropping all others.\n",
      "Not setting metadata\n",
      "411 matching events found\n",
      "Setting baseline interval to [0.0, 2.0] s\n",
      "Applying baseline correction (mode: mean)\n",
      "0 projection items activated\n",
      "Using data from preloaded Raw for 411 events and 2501 original time points ...\n",
      "3 bad epochs dropped\n",
      "Extracting parameters from ./ica_notebooks/cleaned/m_17_02/m_17_02_pos2b.vhdr...\n",
      "Setting channel info structure...\n",
      "Reading 0 ... 699563  =      0.000 ...   699.563 secs...\n"
     ]
    },
    {
     "name": "stderr",
     "output_type": "stream",
     "text": [
      "/var/folders/2b/4tnqzv_x3x17pf4q1_n7m8h40000gn/T/ipykernel_936/3128575474.py:29: RuntimeWarning: Fiducial point nasion not found, assuming identity unknown to head transformation\n",
      "  epochs.set_montage(montage)\n"
     ]
    },
    {
     "name": "stdout",
     "output_type": "stream",
     "text": [
      "dropping channel\n",
      "Filtering raw data in 1 contiguous segment\n",
      "Setting up band-pass filter from 3 - 40 Hz\n",
      "\n",
      "FIR filter parameters\n",
      "---------------------\n",
      "Designing a one-pass, zero-phase, non-causal bandpass filter:\n",
      "- Windowed time-domain design (firwin) method\n",
      "- Hamming window with 0.0194 passband ripple and 53 dB stopband attenuation\n",
      "- Lower passband edge: 3.00\n",
      "- Lower transition bandwidth: 2.00 Hz (-6 dB cutoff frequency: 2.00 Hz)\n",
      "- Upper passband edge: 40.00 Hz\n",
      "- Upper transition bandwidth: 10.00 Hz (-6 dB cutoff frequency: 45.00 Hz)\n",
      "- Filter length: 1651 samples (1.651 s)\n",
      "\n"
     ]
    },
    {
     "name": "stderr",
     "output_type": "stream",
     "text": [
      "[Parallel(n_jobs=1)]: Using backend SequentialBackend with 1 concurrent workers.\n",
      "[Parallel(n_jobs=1)]: Done   1 out of   1 | elapsed:    0.0s remaining:    0.0s\n",
      "[Parallel(n_jobs=1)]: Done   2 out of   2 | elapsed:    0.0s remaining:    0.0s\n",
      "[Parallel(n_jobs=1)]: Done   3 out of   3 | elapsed:    0.1s remaining:    0.0s\n",
      "[Parallel(n_jobs=1)]: Done   4 out of   4 | elapsed:    0.1s remaining:    0.0s\n"
     ]
    },
    {
     "name": "stdout",
     "output_type": "stream",
     "text": [
      "Used Annotations descriptions: ['Comment/101', 'Comment/109', 'Comment/30', 'Comment/40', 'Comment/50', 'Comment/51', 'Comment/52', 'Comment/60', 'Comment/70', 'Comment/80', 'New Segment/']\n",
      "EEG channel type selected for re-referencing\n",
      "Applying average reference.\n",
      "Applying a custom ('EEG',) reference.\n"
     ]
    },
    {
     "name": "stderr",
     "output_type": "stream",
     "text": [
      "[Parallel(n_jobs=1)]: Done  63 out of  63 | elapsed:    0.6s finished\n"
     ]
    },
    {
     "name": "stdout",
     "output_type": "stream",
     "text": [
      "Multiple event values for single event times found. Keeping the first occurrence and dropping all others.\n",
      "Not setting metadata\n",
      "411 matching events found\n",
      "Setting baseline interval to [0.0, 2.0] s\n",
      "Applying baseline correction (mode: mean)\n",
      "0 projection items activated\n",
      "Using data from preloaded Raw for 411 events and 2501 original time points ...\n",
      "2 bad epochs dropped\n",
      "Extracting parameters from ./ica_notebooks/cleaned/m_13_02/m_13_02_pos2b.vhdr...\n",
      "Setting channel info structure...\n",
      "Reading 0 ... 668631  =      0.000 ...   668.631 secs...\n"
     ]
    },
    {
     "name": "stderr",
     "output_type": "stream",
     "text": [
      "/var/folders/2b/4tnqzv_x3x17pf4q1_n7m8h40000gn/T/ipykernel_936/3128575474.py:29: RuntimeWarning: Fiducial point nasion not found, assuming identity unknown to head transformation\n",
      "  epochs.set_montage(montage)\n"
     ]
    },
    {
     "name": "stdout",
     "output_type": "stream",
     "text": [
      "dropping channel\n",
      "Filtering raw data in 1 contiguous segment\n",
      "Setting up band-pass filter from 3 - 40 Hz\n",
      "\n",
      "FIR filter parameters\n",
      "---------------------\n",
      "Designing a one-pass, zero-phase, non-causal bandpass filter:\n",
      "- Windowed time-domain design (firwin) method\n",
      "- Hamming window with 0.0194 passband ripple and 53 dB stopband attenuation\n",
      "- Lower passband edge: 3.00\n",
      "- Lower transition bandwidth: 2.00 Hz (-6 dB cutoff frequency: 2.00 Hz)\n",
      "- Upper passband edge: 40.00 Hz\n",
      "- Upper transition bandwidth: 10.00 Hz (-6 dB cutoff frequency: 45.00 Hz)\n",
      "- Filter length: 1651 samples (1.651 s)\n",
      "\n"
     ]
    },
    {
     "name": "stderr",
     "output_type": "stream",
     "text": [
      "[Parallel(n_jobs=1)]: Using backend SequentialBackend with 1 concurrent workers.\n",
      "[Parallel(n_jobs=1)]: Done   1 out of   1 | elapsed:    0.0s remaining:    0.0s\n",
      "[Parallel(n_jobs=1)]: Done   2 out of   2 | elapsed:    0.0s remaining:    0.0s\n",
      "[Parallel(n_jobs=1)]: Done   3 out of   3 | elapsed:    0.1s remaining:    0.0s\n",
      "[Parallel(n_jobs=1)]: Done   4 out of   4 | elapsed:    0.1s remaining:    0.0s\n"
     ]
    },
    {
     "name": "stdout",
     "output_type": "stream",
     "text": [
      "Used Annotations descriptions: ['Comment/101', 'Comment/109', 'Comment/30', 'Comment/40', 'Comment/50', 'Comment/51', 'Comment/52', 'Comment/60', 'Comment/70', 'Comment/80', 'New Segment/']\n",
      "EEG channel type selected for re-referencing\n",
      "Applying average reference.\n",
      "Applying a custom ('EEG',) reference.\n"
     ]
    },
    {
     "name": "stderr",
     "output_type": "stream",
     "text": [
      "[Parallel(n_jobs=1)]: Done  63 out of  63 | elapsed:    0.8s finished\n"
     ]
    },
    {
     "name": "stdout",
     "output_type": "stream",
     "text": [
      "Multiple event values for single event times found. Keeping the first occurrence and dropping all others.\n",
      "Not setting metadata\n",
      "410 matching events found\n",
      "Setting baseline interval to [0.0, 2.0] s\n",
      "Applying baseline correction (mode: mean)\n",
      "0 projection items activated\n",
      "Using data from preloaded Raw for 410 events and 2501 original time points ...\n",
      "2 bad epochs dropped\n",
      "Extracting parameters from ./ica_notebooks/cleaned/m_02_02/m_02_02_pos2b.vhdr...\n",
      "Setting channel info structure...\n",
      "Reading 0 ... 667422  =      0.000 ...   667.422 secs...\n"
     ]
    },
    {
     "name": "stderr",
     "output_type": "stream",
     "text": [
      "/var/folders/2b/4tnqzv_x3x17pf4q1_n7m8h40000gn/T/ipykernel_936/3128575474.py:29: RuntimeWarning: Fiducial point nasion not found, assuming identity unknown to head transformation\n",
      "  epochs.set_montage(montage)\n"
     ]
    },
    {
     "name": "stdout",
     "output_type": "stream",
     "text": [
      "dropping channel\n",
      "Filtering raw data in 1 contiguous segment\n",
      "Setting up band-pass filter from 3 - 40 Hz\n",
      "\n",
      "FIR filter parameters\n",
      "---------------------\n",
      "Designing a one-pass, zero-phase, non-causal bandpass filter:\n",
      "- Windowed time-domain design (firwin) method\n",
      "- Hamming window with 0.0194 passband ripple and 53 dB stopband attenuation\n",
      "- Lower passband edge: 3.00\n",
      "- Lower transition bandwidth: 2.00 Hz (-6 dB cutoff frequency: 2.00 Hz)\n",
      "- Upper passband edge: 40.00 Hz\n",
      "- Upper transition bandwidth: 10.00 Hz (-6 dB cutoff frequency: 45.00 Hz)\n",
      "- Filter length: 1651 samples (1.651 s)\n",
      "\n"
     ]
    },
    {
     "name": "stderr",
     "output_type": "stream",
     "text": [
      "[Parallel(n_jobs=1)]: Using backend SequentialBackend with 1 concurrent workers.\n",
      "[Parallel(n_jobs=1)]: Done   1 out of   1 | elapsed:    0.0s remaining:    0.0s\n",
      "[Parallel(n_jobs=1)]: Done   2 out of   2 | elapsed:    0.0s remaining:    0.0s\n",
      "[Parallel(n_jobs=1)]: Done   3 out of   3 | elapsed:    0.0s remaining:    0.0s\n",
      "[Parallel(n_jobs=1)]: Done   4 out of   4 | elapsed:    0.0s remaining:    0.0s\n"
     ]
    },
    {
     "name": "stdout",
     "output_type": "stream",
     "text": [
      "Used Annotations descriptions: ['Comment/101', 'Comment/109', 'Comment/30', 'Comment/40', 'Comment/50', 'Comment/51', 'Comment/52', 'Comment/60', 'Comment/70', 'Comment/80', 'New Segment/']\n",
      "EEG channel type selected for re-referencing\n",
      "Applying average reference.\n",
      "Applying a custom ('EEG',) reference.\n"
     ]
    },
    {
     "name": "stderr",
     "output_type": "stream",
     "text": [
      "[Parallel(n_jobs=1)]: Done  63 out of  63 | elapsed:    0.7s finished\n"
     ]
    },
    {
     "name": "stdout",
     "output_type": "stream",
     "text": [
      "Multiple event values for single event times found. Keeping the first occurrence and dropping all others.\n",
      "Not setting metadata\n",
      "411 matching events found\n",
      "Setting baseline interval to [0.0, 2.0] s\n",
      "Applying baseline correction (mode: mean)\n",
      "0 projection items activated\n",
      "Using data from preloaded Raw for 411 events and 2501 original time points ...\n",
      "2 bad epochs dropped\n",
      "Extracting parameters from ./ica_notebooks/cleaned/m_12_02/m_12_02_pos2b.vhdr...\n",
      "Setting channel info structure...\n",
      "Reading 0 ... 675910  =      0.000 ...   675.910 secs...\n"
     ]
    },
    {
     "name": "stderr",
     "output_type": "stream",
     "text": [
      "/var/folders/2b/4tnqzv_x3x17pf4q1_n7m8h40000gn/T/ipykernel_936/3128575474.py:29: RuntimeWarning: Fiducial point nasion not found, assuming identity unknown to head transformation\n",
      "  epochs.set_montage(montage)\n"
     ]
    },
    {
     "name": "stdout",
     "output_type": "stream",
     "text": [
      "dropping channel\n",
      "Filtering raw data in 1 contiguous segment\n",
      "Setting up band-pass filter from 3 - 40 Hz\n",
      "\n",
      "FIR filter parameters\n",
      "---------------------\n",
      "Designing a one-pass, zero-phase, non-causal bandpass filter:\n",
      "- Windowed time-domain design (firwin) method\n",
      "- Hamming window with 0.0194 passband ripple and 53 dB stopband attenuation\n",
      "- Lower passband edge: 3.00\n",
      "- Lower transition bandwidth: 2.00 Hz (-6 dB cutoff frequency: 2.00 Hz)\n",
      "- Upper passband edge: 40.00 Hz\n",
      "- Upper transition bandwidth: 10.00 Hz (-6 dB cutoff frequency: 45.00 Hz)\n",
      "- Filter length: 1651 samples (1.651 s)\n",
      "\n"
     ]
    },
    {
     "name": "stderr",
     "output_type": "stream",
     "text": [
      "[Parallel(n_jobs=1)]: Using backend SequentialBackend with 1 concurrent workers.\n",
      "[Parallel(n_jobs=1)]: Done   1 out of   1 | elapsed:    0.0s remaining:    0.0s\n",
      "[Parallel(n_jobs=1)]: Done   2 out of   2 | elapsed:    0.0s remaining:    0.0s\n",
      "[Parallel(n_jobs=1)]: Done   3 out of   3 | elapsed:    0.1s remaining:    0.0s\n",
      "[Parallel(n_jobs=1)]: Done   4 out of   4 | elapsed:    0.1s remaining:    0.0s\n"
     ]
    },
    {
     "name": "stdout",
     "output_type": "stream",
     "text": [
      "Used Annotations descriptions: ['Comment/101', 'Comment/109', 'Comment/30', 'Comment/40', 'Comment/50', 'Comment/51', 'Comment/52', 'Comment/60', 'Comment/70', 'Comment/80', 'New Segment/']\n",
      "EEG channel type selected for re-referencing\n",
      "Applying average reference.\n",
      "Applying a custom ('EEG',) reference.\n"
     ]
    },
    {
     "name": "stderr",
     "output_type": "stream",
     "text": [
      "[Parallel(n_jobs=1)]: Done  63 out of  63 | elapsed:    0.7s finished\n"
     ]
    },
    {
     "name": "stdout",
     "output_type": "stream",
     "text": [
      "Multiple event values for single event times found. Keeping the first occurrence and dropping all others.\n",
      "Not setting metadata\n",
      "413 matching events found\n",
      "Setting baseline interval to [0.0, 2.0] s\n",
      "Applying baseline correction (mode: mean)\n",
      "0 projection items activated\n",
      "Using data from preloaded Raw for 413 events and 2501 original time points ...\n",
      "2 bad epochs dropped\n",
      "Extracting parameters from ./ica_notebooks/cleaned/m_01_02/m_01_02_pos2b.vhdr...\n",
      "Setting channel info structure...\n",
      "Reading 0 ... 690070  =      0.000 ...   690.070 secs...\n"
     ]
    },
    {
     "name": "stderr",
     "output_type": "stream",
     "text": [
      "/var/folders/2b/4tnqzv_x3x17pf4q1_n7m8h40000gn/T/ipykernel_936/3128575474.py:29: RuntimeWarning: Fiducial point nasion not found, assuming identity unknown to head transformation\n",
      "  epochs.set_montage(montage)\n"
     ]
    },
    {
     "name": "stdout",
     "output_type": "stream",
     "text": [
      "dropping channel\n",
      "Filtering raw data in 1 contiguous segment\n",
      "Setting up band-pass filter from 3 - 40 Hz\n",
      "\n",
      "FIR filter parameters\n",
      "---------------------\n",
      "Designing a one-pass, zero-phase, non-causal bandpass filter:\n",
      "- Windowed time-domain design (firwin) method\n",
      "- Hamming window with 0.0194 passband ripple and 53 dB stopband attenuation\n",
      "- Lower passband edge: 3.00\n",
      "- Lower transition bandwidth: 2.00 Hz (-6 dB cutoff frequency: 2.00 Hz)\n",
      "- Upper passband edge: 40.00 Hz\n",
      "- Upper transition bandwidth: 10.00 Hz (-6 dB cutoff frequency: 45.00 Hz)\n",
      "- Filter length: 1651 samples (1.651 s)\n",
      "\n"
     ]
    },
    {
     "name": "stderr",
     "output_type": "stream",
     "text": [
      "[Parallel(n_jobs=1)]: Using backend SequentialBackend with 1 concurrent workers.\n",
      "[Parallel(n_jobs=1)]: Done   1 out of   1 | elapsed:    0.0s remaining:    0.0s\n",
      "[Parallel(n_jobs=1)]: Done   2 out of   2 | elapsed:    0.0s remaining:    0.0s\n",
      "[Parallel(n_jobs=1)]: Done   3 out of   3 | elapsed:    0.0s remaining:    0.0s\n",
      "[Parallel(n_jobs=1)]: Done   4 out of   4 | elapsed:    0.1s remaining:    0.0s\n"
     ]
    },
    {
     "name": "stdout",
     "output_type": "stream",
     "text": [
      "Used Annotations descriptions: ['Comment/101', 'Comment/109', 'Comment/30', 'Comment/40', 'Comment/50', 'Comment/51', 'Comment/52', 'Comment/60', 'Comment/70', 'Comment/80', 'New Segment/']\n",
      "EEG channel type selected for re-referencing\n",
      "Applying average reference.\n",
      "Applying a custom ('EEG',) reference.\n"
     ]
    },
    {
     "name": "stderr",
     "output_type": "stream",
     "text": [
      "[Parallel(n_jobs=1)]: Done  63 out of  63 | elapsed:    0.7s finished\n"
     ]
    },
    {
     "name": "stdout",
     "output_type": "stream",
     "text": [
      "Multiple event values for single event times found. Keeping the first occurrence and dropping all others.\n",
      "Not setting metadata\n",
      "409 matching events found\n",
      "Setting baseline interval to [0.0, 2.0] s\n",
      "Applying baseline correction (mode: mean)\n",
      "0 projection items activated\n",
      "Using data from preloaded Raw for 409 events and 2501 original time points ...\n",
      "3 bad epochs dropped\n",
      "Extracting parameters from ./ica_notebooks/cleaned/m_05_02/m_05_02_pos2b.vhdr...\n",
      "Setting channel info structure...\n",
      "Reading 0 ... 706851  =      0.000 ...   706.851 secs...\n"
     ]
    },
    {
     "name": "stderr",
     "output_type": "stream",
     "text": [
      "/var/folders/2b/4tnqzv_x3x17pf4q1_n7m8h40000gn/T/ipykernel_936/3128575474.py:29: RuntimeWarning: Fiducial point nasion not found, assuming identity unknown to head transformation\n",
      "  epochs.set_montage(montage)\n"
     ]
    },
    {
     "name": "stdout",
     "output_type": "stream",
     "text": [
      "dropping channel\n",
      "Filtering raw data in 1 contiguous segment\n",
      "Setting up band-pass filter from 3 - 40 Hz\n",
      "\n",
      "FIR filter parameters\n",
      "---------------------\n",
      "Designing a one-pass, zero-phase, non-causal bandpass filter:\n",
      "- Windowed time-domain design (firwin) method\n",
      "- Hamming window with 0.0194 passband ripple and 53 dB stopband attenuation\n",
      "- Lower passband edge: 3.00\n",
      "- Lower transition bandwidth: 2.00 Hz (-6 dB cutoff frequency: 2.00 Hz)\n",
      "- Upper passband edge: 40.00 Hz\n",
      "- Upper transition bandwidth: 10.00 Hz (-6 dB cutoff frequency: 45.00 Hz)\n",
      "- Filter length: 1651 samples (1.651 s)\n",
      "\n"
     ]
    },
    {
     "name": "stderr",
     "output_type": "stream",
     "text": [
      "[Parallel(n_jobs=1)]: Using backend SequentialBackend with 1 concurrent workers.\n",
      "[Parallel(n_jobs=1)]: Done   1 out of   1 | elapsed:    0.0s remaining:    0.0s\n",
      "[Parallel(n_jobs=1)]: Done   2 out of   2 | elapsed:    0.0s remaining:    0.0s\n",
      "[Parallel(n_jobs=1)]: Done   3 out of   3 | elapsed:    0.0s remaining:    0.0s\n",
      "[Parallel(n_jobs=1)]: Done   4 out of   4 | elapsed:    0.1s remaining:    0.0s\n"
     ]
    },
    {
     "name": "stdout",
     "output_type": "stream",
     "text": [
      "Used Annotations descriptions: ['Comment/101', 'Comment/109', 'Comment/30', 'Comment/40', 'Comment/50', 'Comment/51', 'Comment/52', 'Comment/60', 'Comment/70', 'Comment/80', 'New Segment/']\n",
      "EEG channel type selected for re-referencing\n",
      "Applying average reference.\n",
      "Applying a custom ('EEG',) reference.\n"
     ]
    },
    {
     "name": "stderr",
     "output_type": "stream",
     "text": [
      "[Parallel(n_jobs=1)]: Done  63 out of  63 | elapsed:    0.9s finished\n"
     ]
    },
    {
     "name": "stdout",
     "output_type": "stream",
     "text": [
      "Multiple event values for single event times found. Keeping the first occurrence and dropping all others.\n",
      "Not setting metadata\n",
      "410 matching events found\n",
      "Setting baseline interval to [0.0, 2.0] s\n",
      "Applying baseline correction (mode: mean)\n",
      "0 projection items activated\n",
      "Using data from preloaded Raw for 410 events and 2501 original time points ...\n",
      "2 bad epochs dropped\n",
      "Extracting parameters from ./ica_notebooks/cleaned/m_04_02/m_04_02_pos2b.vhdr...\n",
      "Setting channel info structure...\n",
      "Reading 0 ... 683430  =      0.000 ...   683.430 secs...\n"
     ]
    },
    {
     "name": "stderr",
     "output_type": "stream",
     "text": [
      "/var/folders/2b/4tnqzv_x3x17pf4q1_n7m8h40000gn/T/ipykernel_936/3128575474.py:29: RuntimeWarning: Fiducial point nasion not found, assuming identity unknown to head transformation\n",
      "  epochs.set_montage(montage)\n"
     ]
    },
    {
     "name": "stdout",
     "output_type": "stream",
     "text": [
      "dropping channel\n",
      "Filtering raw data in 1 contiguous segment\n",
      "Setting up band-pass filter from 3 - 40 Hz\n",
      "\n",
      "FIR filter parameters\n",
      "---------------------\n",
      "Designing a one-pass, zero-phase, non-causal bandpass filter:\n",
      "- Windowed time-domain design (firwin) method\n",
      "- Hamming window with 0.0194 passband ripple and 53 dB stopband attenuation\n",
      "- Lower passband edge: 3.00\n",
      "- Lower transition bandwidth: 2.00 Hz (-6 dB cutoff frequency: 2.00 Hz)\n",
      "- Upper passband edge: 40.00 Hz\n",
      "- Upper transition bandwidth: 10.00 Hz (-6 dB cutoff frequency: 45.00 Hz)\n",
      "- Filter length: 1651 samples (1.651 s)\n",
      "\n"
     ]
    },
    {
     "name": "stderr",
     "output_type": "stream",
     "text": [
      "[Parallel(n_jobs=1)]: Using backend SequentialBackend with 1 concurrent workers.\n",
      "[Parallel(n_jobs=1)]: Done   1 out of   1 | elapsed:    0.0s remaining:    0.0s\n",
      "[Parallel(n_jobs=1)]: Done   2 out of   2 | elapsed:    0.0s remaining:    0.0s\n",
      "[Parallel(n_jobs=1)]: Done   3 out of   3 | elapsed:    0.1s remaining:    0.0s\n",
      "[Parallel(n_jobs=1)]: Done   4 out of   4 | elapsed:    0.1s remaining:    0.0s\n"
     ]
    },
    {
     "name": "stdout",
     "output_type": "stream",
     "text": [
      "Used Annotations descriptions: ['Comment/101', 'Comment/109', 'Comment/30', 'Comment/40', 'Comment/50', 'Comment/51', 'Comment/52', 'Comment/60', 'Comment/70', 'Comment/80', 'New Segment/']\n",
      "EEG channel type selected for re-referencing\n",
      "Applying average reference.\n",
      "Applying a custom ('EEG',) reference.\n",
      "Multiple event values for single event times found. Keeping the first occurrence and dropping all others.\n",
      "Not setting metadata\n",
      "410 matching events found\n",
      "Setting baseline interval to [0.0, 2.0] s\n",
      "Applying baseline correction (mode: mean)\n",
      "0 projection items activated\n",
      "Using data from preloaded Raw for 410 events and 2501 original time points ...\n"
     ]
    },
    {
     "name": "stderr",
     "output_type": "stream",
     "text": [
      "[Parallel(n_jobs=1)]: Done  63 out of  63 | elapsed:    0.8s finished\n"
     ]
    },
    {
     "name": "stdout",
     "output_type": "stream",
     "text": [
      "2 bad epochs dropped\n",
      "Extracting parameters from ./ica_notebooks/cleaned/m_01_01/m_01_01_pos1a.vhdr...\n",
      "Setting channel info structure...\n",
      "Reading 0 ... 691051  =      0.000 ...   691.051 secs...\n"
     ]
    },
    {
     "name": "stderr",
     "output_type": "stream",
     "text": [
      "/var/folders/2b/4tnqzv_x3x17pf4q1_n7m8h40000gn/T/ipykernel_936/3128575474.py:29: RuntimeWarning: Fiducial point nasion not found, assuming identity unknown to head transformation\n",
      "  epochs.set_montage(montage)\n"
     ]
    },
    {
     "name": "stdout",
     "output_type": "stream",
     "text": [
      "dropping channel\n",
      "Filtering raw data in 1 contiguous segment\n",
      "Setting up band-pass filter from 3 - 40 Hz\n",
      "\n",
      "FIR filter parameters\n",
      "---------------------\n",
      "Designing a one-pass, zero-phase, non-causal bandpass filter:\n",
      "- Windowed time-domain design (firwin) method\n",
      "- Hamming window with 0.0194 passband ripple and 53 dB stopband attenuation\n",
      "- Lower passband edge: 3.00\n",
      "- Lower transition bandwidth: 2.00 Hz (-6 dB cutoff frequency: 2.00 Hz)\n",
      "- Upper passband edge: 40.00 Hz\n",
      "- Upper transition bandwidth: 10.00 Hz (-6 dB cutoff frequency: 45.00 Hz)\n",
      "- Filter length: 1651 samples (1.651 s)\n",
      "\n"
     ]
    },
    {
     "name": "stderr",
     "output_type": "stream",
     "text": [
      "[Parallel(n_jobs=1)]: Using backend SequentialBackend with 1 concurrent workers.\n",
      "[Parallel(n_jobs=1)]: Done   1 out of   1 | elapsed:    0.0s remaining:    0.0s\n",
      "[Parallel(n_jobs=1)]: Done   2 out of   2 | elapsed:    0.0s remaining:    0.0s\n",
      "[Parallel(n_jobs=1)]: Done   3 out of   3 | elapsed:    0.1s remaining:    0.0s\n",
      "[Parallel(n_jobs=1)]: Done   4 out of   4 | elapsed:    0.1s remaining:    0.0s\n"
     ]
    },
    {
     "name": "stdout",
     "output_type": "stream",
     "text": [
      "Used Annotations descriptions: ['Comment/101', 'Comment/109', 'Comment/30', 'Comment/40', 'Comment/50', 'Comment/51', 'Comment/52', 'Comment/60', 'Comment/70', 'Comment/80', 'New Segment/']\n",
      "EEG channel type selected for re-referencing\n",
      "Applying average reference.\n",
      "Applying a custom ('EEG',) reference.\n"
     ]
    },
    {
     "name": "stderr",
     "output_type": "stream",
     "text": [
      "[Parallel(n_jobs=1)]: Done  63 out of  63 | elapsed:    0.8s finished\n"
     ]
    },
    {
     "name": "stdout",
     "output_type": "stream",
     "text": [
      "Multiple event values for single event times found. Keeping the first occurrence and dropping all others.\n",
      "Not setting metadata\n",
      "411 matching events found\n",
      "Setting baseline interval to [0.0, 2.0] s\n",
      "Applying baseline correction (mode: mean)\n",
      "0 projection items activated\n",
      "Using data from preloaded Raw for 411 events and 2501 original time points ...\n",
      "2 bad epochs dropped\n",
      "Extracting parameters from ./ica_notebooks/cleaned/m_05_01/m_05_01_pos1a.vhdr...\n",
      "Setting channel info structure...\n",
      "Reading 0 ... 689190  =      0.000 ...   689.190 secs...\n"
     ]
    },
    {
     "name": "stderr",
     "output_type": "stream",
     "text": [
      "/var/folders/2b/4tnqzv_x3x17pf4q1_n7m8h40000gn/T/ipykernel_936/3128575474.py:29: RuntimeWarning: Fiducial point nasion not found, assuming identity unknown to head transformation\n",
      "  epochs.set_montage(montage)\n"
     ]
    },
    {
     "name": "stdout",
     "output_type": "stream",
     "text": [
      "dropping channel\n",
      "Filtering raw data in 1 contiguous segment\n",
      "Setting up band-pass filter from 3 - 40 Hz\n",
      "\n",
      "FIR filter parameters\n",
      "---------------------\n",
      "Designing a one-pass, zero-phase, non-causal bandpass filter:\n",
      "- Windowed time-domain design (firwin) method\n",
      "- Hamming window with 0.0194 passband ripple and 53 dB stopband attenuation\n",
      "- Lower passband edge: 3.00\n",
      "- Lower transition bandwidth: 2.00 Hz (-6 dB cutoff frequency: 2.00 Hz)\n",
      "- Upper passband edge: 40.00 Hz\n",
      "- Upper transition bandwidth: 10.00 Hz (-6 dB cutoff frequency: 45.00 Hz)\n",
      "- Filter length: 1651 samples (1.651 s)\n",
      "\n"
     ]
    },
    {
     "name": "stderr",
     "output_type": "stream",
     "text": [
      "[Parallel(n_jobs=1)]: Using backend SequentialBackend with 1 concurrent workers.\n",
      "[Parallel(n_jobs=1)]: Done   1 out of   1 | elapsed:    0.0s remaining:    0.0s\n",
      "[Parallel(n_jobs=1)]: Done   2 out of   2 | elapsed:    0.0s remaining:    0.0s\n",
      "[Parallel(n_jobs=1)]: Done   3 out of   3 | elapsed:    0.1s remaining:    0.0s\n",
      "[Parallel(n_jobs=1)]: Done   4 out of   4 | elapsed:    0.1s remaining:    0.0s\n"
     ]
    },
    {
     "name": "stdout",
     "output_type": "stream",
     "text": [
      "Used Annotations descriptions: ['Comment/101', 'Comment/109', 'Comment/30', 'Comment/40', 'Comment/50', 'Comment/51', 'Comment/52', 'Comment/60', 'Comment/70', 'Comment/80', 'New Segment/']\n",
      "EEG channel type selected for re-referencing\n",
      "Applying average reference.\n",
      "Applying a custom ('EEG',) reference.\n"
     ]
    },
    {
     "name": "stderr",
     "output_type": "stream",
     "text": [
      "[Parallel(n_jobs=1)]: Done  63 out of  63 | elapsed:    0.8s finished\n"
     ]
    },
    {
     "name": "stdout",
     "output_type": "stream",
     "text": [
      "Multiple event values for single event times found. Keeping the first occurrence and dropping all others.\n",
      "Not setting metadata\n",
      "411 matching events found\n",
      "Setting baseline interval to [0.0, 2.0] s\n",
      "Applying baseline correction (mode: mean)\n",
      "0 projection items activated\n",
      "Using data from preloaded Raw for 411 events and 2501 original time points ...\n",
      "2 bad epochs dropped\n",
      "Extracting parameters from ./ica_notebooks/cleaned/m_04_01/m_04_01_pos1a.vhdr...\n",
      "Setting channel info structure...\n",
      "Reading 0 ... 670980  =      0.000 ...   670.980 secs...\n"
     ]
    },
    {
     "name": "stderr",
     "output_type": "stream",
     "text": [
      "/var/folders/2b/4tnqzv_x3x17pf4q1_n7m8h40000gn/T/ipykernel_936/3128575474.py:29: RuntimeWarning: Fiducial point nasion not found, assuming identity unknown to head transformation\n",
      "  epochs.set_montage(montage)\n"
     ]
    },
    {
     "name": "stdout",
     "output_type": "stream",
     "text": [
      "dropping channel\n",
      "Filtering raw data in 1 contiguous segment\n",
      "Setting up band-pass filter from 3 - 40 Hz\n",
      "\n",
      "FIR filter parameters\n",
      "---------------------\n",
      "Designing a one-pass, zero-phase, non-causal bandpass filter:\n",
      "- Windowed time-domain design (firwin) method\n",
      "- Hamming window with 0.0194 passband ripple and 53 dB stopband attenuation\n",
      "- Lower passband edge: 3.00\n",
      "- Lower transition bandwidth: 2.00 Hz (-6 dB cutoff frequency: 2.00 Hz)\n",
      "- Upper passband edge: 40.00 Hz\n",
      "- Upper transition bandwidth: 10.00 Hz (-6 dB cutoff frequency: 45.00 Hz)\n",
      "- Filter length: 1651 samples (1.651 s)\n",
      "\n"
     ]
    },
    {
     "name": "stderr",
     "output_type": "stream",
     "text": [
      "[Parallel(n_jobs=1)]: Using backend SequentialBackend with 1 concurrent workers.\n",
      "[Parallel(n_jobs=1)]: Done   1 out of   1 | elapsed:    0.0s remaining:    0.0s\n",
      "[Parallel(n_jobs=1)]: Done   2 out of   2 | elapsed:    0.0s remaining:    0.0s\n",
      "[Parallel(n_jobs=1)]: Done   3 out of   3 | elapsed:    0.1s remaining:    0.0s\n",
      "[Parallel(n_jobs=1)]: Done   4 out of   4 | elapsed:    0.1s remaining:    0.0s\n"
     ]
    },
    {
     "name": "stdout",
     "output_type": "stream",
     "text": [
      "Used Annotations descriptions: ['Comment/101', 'Comment/109', 'Comment/30', 'Comment/40', 'Comment/50', 'Comment/51', 'Comment/52', 'Comment/60', 'Comment/70', 'Comment/80', 'New Segment/']\n",
      "EEG channel type selected for re-referencing\n",
      "Applying average reference.\n",
      "Applying a custom ('EEG',) reference.\n"
     ]
    },
    {
     "name": "stderr",
     "output_type": "stream",
     "text": [
      "[Parallel(n_jobs=1)]: Done  63 out of  63 | elapsed:    0.7s finished\n"
     ]
    },
    {
     "name": "stdout",
     "output_type": "stream",
     "text": [
      "Multiple event values for single event times found. Keeping the first occurrence and dropping all others.\n",
      "Not setting metadata\n",
      "410 matching events found\n",
      "Setting baseline interval to [0.0, 2.0] s\n",
      "Applying baseline correction (mode: mean)\n",
      "0 projection items activated\n",
      "Using data from preloaded Raw for 410 events and 2501 original time points ...\n",
      "2 bad epochs dropped\n",
      "Extracting parameters from ./ica_notebooks/cleaned/m_18_01/m_18_01_pos1a.vhdr...\n",
      "Setting channel info structure...\n",
      "Reading 0 ... 663110  =      0.000 ...   663.110 secs...\n"
     ]
    },
    {
     "name": "stderr",
     "output_type": "stream",
     "text": [
      "/var/folders/2b/4tnqzv_x3x17pf4q1_n7m8h40000gn/T/ipykernel_936/3128575474.py:29: RuntimeWarning: Fiducial point nasion not found, assuming identity unknown to head transformation\n",
      "  epochs.set_montage(montage)\n"
     ]
    },
    {
     "name": "stdout",
     "output_type": "stream",
     "text": [
      "dropping channel\n",
      "Filtering raw data in 1 contiguous segment\n",
      "Setting up band-pass filter from 3 - 40 Hz\n",
      "\n",
      "FIR filter parameters\n",
      "---------------------\n",
      "Designing a one-pass, zero-phase, non-causal bandpass filter:\n",
      "- Windowed time-domain design (firwin) method\n",
      "- Hamming window with 0.0194 passband ripple and 53 dB stopband attenuation\n",
      "- Lower passband edge: 3.00\n",
      "- Lower transition bandwidth: 2.00 Hz (-6 dB cutoff frequency: 2.00 Hz)\n",
      "- Upper passband edge: 40.00 Hz\n",
      "- Upper transition bandwidth: 10.00 Hz (-6 dB cutoff frequency: 45.00 Hz)\n",
      "- Filter length: 1651 samples (1.651 s)\n",
      "\n"
     ]
    },
    {
     "name": "stderr",
     "output_type": "stream",
     "text": [
      "[Parallel(n_jobs=1)]: Using backend SequentialBackend with 1 concurrent workers.\n",
      "[Parallel(n_jobs=1)]: Done   1 out of   1 | elapsed:    0.0s remaining:    0.0s\n",
      "[Parallel(n_jobs=1)]: Done   2 out of   2 | elapsed:    0.0s remaining:    0.0s\n",
      "[Parallel(n_jobs=1)]: Done   3 out of   3 | elapsed:    0.0s remaining:    0.0s\n",
      "[Parallel(n_jobs=1)]: Done   4 out of   4 | elapsed:    0.1s remaining:    0.0s\n"
     ]
    },
    {
     "name": "stdout",
     "output_type": "stream",
     "text": [
      "Used Annotations descriptions: ['Comment/101', 'Comment/109', 'Comment/30', 'Comment/40', 'Comment/50', 'Comment/51', 'Comment/52', 'Comment/60', 'Comment/70', 'Comment/80', 'New Segment/']\n",
      "EEG channel type selected for re-referencing\n",
      "Applying average reference.\n",
      "Applying a custom ('EEG',) reference.\n"
     ]
    },
    {
     "name": "stderr",
     "output_type": "stream",
     "text": [
      "[Parallel(n_jobs=1)]: Done  63 out of  63 | elapsed:    0.7s finished\n"
     ]
    },
    {
     "name": "stdout",
     "output_type": "stream",
     "text": [
      "Multiple event values for single event times found. Keeping the first occurrence and dropping all others.\n",
      "Not setting metadata\n",
      "410 matching events found\n",
      "Setting baseline interval to [0.0, 2.0] s\n",
      "Applying baseline correction (mode: mean)\n",
      "0 projection items activated\n",
      "Using data from preloaded Raw for 410 events and 2501 original time points ...\n",
      "3 bad epochs dropped\n",
      "Extracting parameters from ./ica_notebooks/cleaned/m_08_01/m_08_01_pos1a.vhdr...\n",
      "Setting channel info structure...\n",
      "Reading 0 ... 699450  =      0.000 ...   699.450 secs...\n"
     ]
    },
    {
     "name": "stderr",
     "output_type": "stream",
     "text": [
      "/var/folders/2b/4tnqzv_x3x17pf4q1_n7m8h40000gn/T/ipykernel_936/3128575474.py:29: RuntimeWarning: Fiducial point nasion not found, assuming identity unknown to head transformation\n",
      "  epochs.set_montage(montage)\n"
     ]
    },
    {
     "name": "stdout",
     "output_type": "stream",
     "text": [
      "dropping channel\n",
      "Filtering raw data in 1 contiguous segment\n",
      "Setting up band-pass filter from 3 - 40 Hz\n",
      "\n",
      "FIR filter parameters\n",
      "---------------------\n",
      "Designing a one-pass, zero-phase, non-causal bandpass filter:\n",
      "- Windowed time-domain design (firwin) method\n",
      "- Hamming window with 0.0194 passband ripple and 53 dB stopband attenuation\n",
      "- Lower passband edge: 3.00\n",
      "- Lower transition bandwidth: 2.00 Hz (-6 dB cutoff frequency: 2.00 Hz)\n",
      "- Upper passband edge: 40.00 Hz\n",
      "- Upper transition bandwidth: 10.00 Hz (-6 dB cutoff frequency: 45.00 Hz)\n",
      "- Filter length: 1651 samples (1.651 s)\n",
      "\n"
     ]
    },
    {
     "name": "stderr",
     "output_type": "stream",
     "text": [
      "[Parallel(n_jobs=1)]: Using backend SequentialBackend with 1 concurrent workers.\n",
      "[Parallel(n_jobs=1)]: Done   1 out of   1 | elapsed:    0.0s remaining:    0.0s\n",
      "[Parallel(n_jobs=1)]: Done   2 out of   2 | elapsed:    0.0s remaining:    0.0s\n",
      "[Parallel(n_jobs=1)]: Done   3 out of   3 | elapsed:    0.1s remaining:    0.0s\n",
      "[Parallel(n_jobs=1)]: Done   4 out of   4 | elapsed:    0.1s remaining:    0.0s\n"
     ]
    },
    {
     "name": "stdout",
     "output_type": "stream",
     "text": [
      "Used Annotations descriptions: ['Comment/101', 'Comment/109', 'Comment/30', 'Comment/40', 'Comment/50', 'Comment/51', 'Comment/52', 'Comment/60', 'Comment/70', 'Comment/80', 'New Segment/']\n",
      "EEG channel type selected for re-referencing\n",
      "Applying average reference.\n",
      "Applying a custom ('EEG',) reference.\n"
     ]
    },
    {
     "name": "stderr",
     "output_type": "stream",
     "text": [
      "[Parallel(n_jobs=1)]: Done  63 out of  63 | elapsed:    0.8s finished\n"
     ]
    },
    {
     "name": "stdout",
     "output_type": "stream",
     "text": [
      "Multiple event values for single event times found. Keeping the first occurrence and dropping all others.\n",
      "Not setting metadata\n",
      "411 matching events found\n",
      "Setting baseline interval to [0.0, 2.0] s\n",
      "Applying baseline correction (mode: mean)\n",
      "0 projection items activated\n",
      "Using data from preloaded Raw for 411 events and 2501 original time points ...\n",
      "2 bad epochs dropped\n",
      "Extracting parameters from ./ica_notebooks/cleaned/m_17_01/m_17_01_pos1a.vhdr...\n",
      "Setting channel info structure...\n",
      "Reading 0 ... 671811  =      0.000 ...   671.811 secs...\n"
     ]
    },
    {
     "name": "stderr",
     "output_type": "stream",
     "text": [
      "/var/folders/2b/4tnqzv_x3x17pf4q1_n7m8h40000gn/T/ipykernel_936/3128575474.py:29: RuntimeWarning: Fiducial point nasion not found, assuming identity unknown to head transformation\n",
      "  epochs.set_montage(montage)\n"
     ]
    },
    {
     "name": "stdout",
     "output_type": "stream",
     "text": [
      "dropping channel\n",
      "Filtering raw data in 1 contiguous segment\n",
      "Setting up band-pass filter from 3 - 40 Hz\n",
      "\n",
      "FIR filter parameters\n",
      "---------------------\n",
      "Designing a one-pass, zero-phase, non-causal bandpass filter:\n",
      "- Windowed time-domain design (firwin) method\n",
      "- Hamming window with 0.0194 passband ripple and 53 dB stopband attenuation\n",
      "- Lower passband edge: 3.00\n",
      "- Lower transition bandwidth: 2.00 Hz (-6 dB cutoff frequency: 2.00 Hz)\n",
      "- Upper passband edge: 40.00 Hz\n",
      "- Upper transition bandwidth: 10.00 Hz (-6 dB cutoff frequency: 45.00 Hz)\n",
      "- Filter length: 1651 samples (1.651 s)\n",
      "\n"
     ]
    },
    {
     "name": "stderr",
     "output_type": "stream",
     "text": [
      "[Parallel(n_jobs=1)]: Using backend SequentialBackend with 1 concurrent workers.\n",
      "[Parallel(n_jobs=1)]: Done   1 out of   1 | elapsed:    0.0s remaining:    0.0s\n",
      "[Parallel(n_jobs=1)]: Done   2 out of   2 | elapsed:    0.0s remaining:    0.0s\n",
      "[Parallel(n_jobs=1)]: Done   3 out of   3 | elapsed:    0.1s remaining:    0.0s\n",
      "[Parallel(n_jobs=1)]: Done   4 out of   4 | elapsed:    0.1s remaining:    0.0s\n"
     ]
    },
    {
     "name": "stdout",
     "output_type": "stream",
     "text": [
      "Used Annotations descriptions: ['Comment/101', 'Comment/109', 'Comment/30', 'Comment/40', 'Comment/50', 'Comment/51', 'Comment/52', 'Comment/60', 'Comment/70', 'Comment/80', 'New Segment/']\n"
     ]
    },
    {
     "name": "stderr",
     "output_type": "stream",
     "text": [
      "[Parallel(n_jobs=1)]: Done  62 out of  62 | elapsed:    0.7s finished\n"
     ]
    },
    {
     "name": "stdout",
     "output_type": "stream",
     "text": [
      "EEG channel type selected for re-referencing\n",
      "Applying average reference.\n",
      "Applying a custom ('EEG',) reference.\n",
      "Multiple event values for single event times found. Keeping the first occurrence and dropping all others.\n",
      "Not setting metadata\n",
      "413 matching events found\n",
      "Setting baseline interval to [0.0, 2.0] s\n",
      "Applying baseline correction (mode: mean)\n",
      "0 projection items activated\n",
      "Using data from preloaded Raw for 413 events and 2501 original time points ...\n",
      "2 bad epochs dropped\n",
      "Extracting parameters from ./ica_notebooks/cleaned/m_13_01/m_13_01_pos1a.vhdr...\n",
      "Setting channel info structure...\n",
      "Reading 0 ... 665210  =      0.000 ...   665.210 secs...\n"
     ]
    },
    {
     "name": "stderr",
     "output_type": "stream",
     "text": [
      "/var/folders/2b/4tnqzv_x3x17pf4q1_n7m8h40000gn/T/ipykernel_936/3128575474.py:29: RuntimeWarning: Fiducial point nasion not found, assuming identity unknown to head transformation\n",
      "  epochs.set_montage(montage)\n"
     ]
    },
    {
     "name": "stdout",
     "output_type": "stream",
     "text": [
      "dropping channel\n",
      "Filtering raw data in 1 contiguous segment\n",
      "Setting up band-pass filter from 3 - 40 Hz\n",
      "\n",
      "FIR filter parameters\n",
      "---------------------\n",
      "Designing a one-pass, zero-phase, non-causal bandpass filter:\n",
      "- Windowed time-domain design (firwin) method\n",
      "- Hamming window with 0.0194 passband ripple and 53 dB stopband attenuation\n",
      "- Lower passband edge: 3.00\n",
      "- Lower transition bandwidth: 2.00 Hz (-6 dB cutoff frequency: 2.00 Hz)\n",
      "- Upper passband edge: 40.00 Hz\n",
      "- Upper transition bandwidth: 10.00 Hz (-6 dB cutoff frequency: 45.00 Hz)\n",
      "- Filter length: 1651 samples (1.651 s)\n",
      "\n"
     ]
    },
    {
     "name": "stderr",
     "output_type": "stream",
     "text": [
      "[Parallel(n_jobs=1)]: Using backend SequentialBackend with 1 concurrent workers.\n",
      "[Parallel(n_jobs=1)]: Done   1 out of   1 | elapsed:    0.0s remaining:    0.0s\n",
      "[Parallel(n_jobs=1)]: Done   2 out of   2 | elapsed:    0.0s remaining:    0.0s\n",
      "[Parallel(n_jobs=1)]: Done   3 out of   3 | elapsed:    0.0s remaining:    0.0s\n",
      "[Parallel(n_jobs=1)]: Done   4 out of   4 | elapsed:    0.1s remaining:    0.0s\n"
     ]
    },
    {
     "name": "stdout",
     "output_type": "stream",
     "text": [
      "Used Annotations descriptions: ['Comment/101', 'Comment/109', 'Comment/30', 'Comment/40', 'Comment/50', 'Comment/51', 'Comment/52', 'Comment/60', 'Comment/70', 'Comment/80', 'New Segment/']\n",
      "EEG channel type selected for re-referencing\n",
      "Applying average reference.\n",
      "Applying a custom ('EEG',) reference.\n"
     ]
    },
    {
     "name": "stderr",
     "output_type": "stream",
     "text": [
      "[Parallel(n_jobs=1)]: Done  63 out of  63 | elapsed:    0.6s finished\n"
     ]
    },
    {
     "name": "stdout",
     "output_type": "stream",
     "text": [
      "Multiple event values for single event times found. Keeping the first occurrence and dropping all others.\n",
      "Not setting metadata\n",
      "410 matching events found\n",
      "Setting baseline interval to [0.0, 2.0] s\n",
      "Applying baseline correction (mode: mean)\n",
      "0 projection items activated\n",
      "Using data from preloaded Raw for 410 events and 2501 original time points ...\n",
      "2 bad epochs dropped\n",
      "Extracting parameters from ./ica_notebooks/cleaned/m_12_01/m_12_01_pos1a.vhdr...\n",
      "Setting channel info structure...\n",
      "Reading 0 ... 686230  =      0.000 ...   686.230 secs...\n"
     ]
    },
    {
     "name": "stderr",
     "output_type": "stream",
     "text": [
      "/var/folders/2b/4tnqzv_x3x17pf4q1_n7m8h40000gn/T/ipykernel_936/3128575474.py:29: RuntimeWarning: Fiducial point nasion not found, assuming identity unknown to head transformation\n",
      "  epochs.set_montage(montage)\n"
     ]
    },
    {
     "name": "stdout",
     "output_type": "stream",
     "text": [
      "dropping channel\n",
      "Filtering raw data in 1 contiguous segment\n",
      "Setting up band-pass filter from 3 - 40 Hz\n",
      "\n",
      "FIR filter parameters\n",
      "---------------------\n",
      "Designing a one-pass, zero-phase, non-causal bandpass filter:\n",
      "- Windowed time-domain design (firwin) method\n",
      "- Hamming window with 0.0194 passband ripple and 53 dB stopband attenuation\n",
      "- Lower passband edge: 3.00\n",
      "- Lower transition bandwidth: 2.00 Hz (-6 dB cutoff frequency: 2.00 Hz)\n",
      "- Upper passband edge: 40.00 Hz\n",
      "- Upper transition bandwidth: 10.00 Hz (-6 dB cutoff frequency: 45.00 Hz)\n",
      "- Filter length: 1651 samples (1.651 s)\n",
      "\n"
     ]
    },
    {
     "name": "stderr",
     "output_type": "stream",
     "text": [
      "[Parallel(n_jobs=1)]: Using backend SequentialBackend with 1 concurrent workers.\n",
      "[Parallel(n_jobs=1)]: Done   1 out of   1 | elapsed:    0.0s remaining:    0.0s\n",
      "[Parallel(n_jobs=1)]: Done   2 out of   2 | elapsed:    0.0s remaining:    0.0s\n",
      "[Parallel(n_jobs=1)]: Done   3 out of   3 | elapsed:    0.1s remaining:    0.0s\n",
      "[Parallel(n_jobs=1)]: Done   4 out of   4 | elapsed:    0.1s remaining:    0.0s\n"
     ]
    },
    {
     "name": "stdout",
     "output_type": "stream",
     "text": [
      "Used Annotations descriptions: ['Comment/101', 'Comment/109', 'Comment/30', 'Comment/40', 'Comment/50', 'Comment/51', 'Comment/52', 'Comment/60', 'Comment/70', 'Comment/80', 'New Segment/']\n",
      "EEG channel type selected for re-referencing\n",
      "Applying average reference.\n",
      "Applying a custom ('EEG',) reference.\n"
     ]
    },
    {
     "name": "stderr",
     "output_type": "stream",
     "text": [
      "[Parallel(n_jobs=1)]: Done  63 out of  63 | elapsed:    0.7s finished\n"
     ]
    },
    {
     "name": "stdout",
     "output_type": "stream",
     "text": [
      "Multiple event values for single event times found. Keeping the first occurrence and dropping all others.\n",
      "Not setting metadata\n",
      "410 matching events found\n",
      "Setting baseline interval to [0.0, 2.0] s\n",
      "Applying baseline correction (mode: mean)\n",
      "0 projection items activated\n",
      "Using data from preloaded Raw for 410 events and 2501 original time points ...\n",
      "2 bad epochs dropped\n",
      "Extracting parameters from ./ica_notebooks/cleaned/m_02_01/m_02_01_pos1a.vhdr...\n",
      "Setting channel info structure...\n",
      "Reading 0 ... 680040  =      0.000 ...   680.040 secs...\n"
     ]
    },
    {
     "name": "stderr",
     "output_type": "stream",
     "text": [
      "/var/folders/2b/4tnqzv_x3x17pf4q1_n7m8h40000gn/T/ipykernel_936/3128575474.py:29: RuntimeWarning: Fiducial point nasion not found, assuming identity unknown to head transformation\n",
      "  epochs.set_montage(montage)\n"
     ]
    },
    {
     "name": "stdout",
     "output_type": "stream",
     "text": [
      "dropping channel\n",
      "Filtering raw data in 1 contiguous segment\n",
      "Setting up band-pass filter from 3 - 40 Hz\n",
      "\n",
      "FIR filter parameters\n",
      "---------------------\n",
      "Designing a one-pass, zero-phase, non-causal bandpass filter:\n",
      "- Windowed time-domain design (firwin) method\n",
      "- Hamming window with 0.0194 passband ripple and 53 dB stopband attenuation\n",
      "- Lower passband edge: 3.00\n",
      "- Lower transition bandwidth: 2.00 Hz (-6 dB cutoff frequency: 2.00 Hz)\n",
      "- Upper passband edge: 40.00 Hz\n",
      "- Upper transition bandwidth: 10.00 Hz (-6 dB cutoff frequency: 45.00 Hz)\n",
      "- Filter length: 1651 samples (1.651 s)\n",
      "\n"
     ]
    },
    {
     "name": "stderr",
     "output_type": "stream",
     "text": [
      "[Parallel(n_jobs=1)]: Using backend SequentialBackend with 1 concurrent workers.\n",
      "[Parallel(n_jobs=1)]: Done   1 out of   1 | elapsed:    0.0s remaining:    0.0s\n",
      "[Parallel(n_jobs=1)]: Done   2 out of   2 | elapsed:    0.0s remaining:    0.0s\n",
      "[Parallel(n_jobs=1)]: Done   3 out of   3 | elapsed:    0.0s remaining:    0.0s\n",
      "[Parallel(n_jobs=1)]: Done   4 out of   4 | elapsed:    0.0s remaining:    0.0s\n"
     ]
    },
    {
     "name": "stdout",
     "output_type": "stream",
     "text": [
      "Used Annotations descriptions: ['Comment/101', 'Comment/109', 'Comment/30', 'Comment/40', 'Comment/50', 'Comment/51', 'Comment/52', 'Comment/60', 'Comment/70', 'Comment/80', 'New Segment/']\n",
      "EEG channel type selected for re-referencing\n",
      "Applying average reference.\n",
      "Applying a custom ('EEG',) reference.\n"
     ]
    },
    {
     "name": "stderr",
     "output_type": "stream",
     "text": [
      "[Parallel(n_jobs=1)]: Done  63 out of  63 | elapsed:    0.7s finished\n"
     ]
    },
    {
     "name": "stdout",
     "output_type": "stream",
     "text": [
      "Multiple event values for single event times found. Keeping the first occurrence and dropping all others.\n",
      "Not setting metadata\n",
      "411 matching events found\n",
      "Setting baseline interval to [0.0, 2.0] s\n",
      "Applying baseline correction (mode: mean)\n",
      "0 projection items activated\n",
      "Using data from preloaded Raw for 411 events and 2501 original time points ...\n",
      "2 bad epochs dropped\n",
      "Extracting parameters from ./ica_notebooks/cleaned/m_06_01/m_06_01_pos1a.vhdr...\n",
      "Setting channel info structure...\n",
      "Reading 0 ... 689061  =      0.000 ...   689.061 secs...\n"
     ]
    },
    {
     "name": "stderr",
     "output_type": "stream",
     "text": [
      "/var/folders/2b/4tnqzv_x3x17pf4q1_n7m8h40000gn/T/ipykernel_936/3128575474.py:29: RuntimeWarning: Fiducial point nasion not found, assuming identity unknown to head transformation\n",
      "  epochs.set_montage(montage)\n"
     ]
    },
    {
     "name": "stdout",
     "output_type": "stream",
     "text": [
      "dropping channel\n",
      "Filtering raw data in 1 contiguous segment\n",
      "Setting up band-pass filter from 3 - 40 Hz\n",
      "\n",
      "FIR filter parameters\n",
      "---------------------\n",
      "Designing a one-pass, zero-phase, non-causal bandpass filter:\n",
      "- Windowed time-domain design (firwin) method\n",
      "- Hamming window with 0.0194 passband ripple and 53 dB stopband attenuation\n",
      "- Lower passband edge: 3.00\n",
      "- Lower transition bandwidth: 2.00 Hz (-6 dB cutoff frequency: 2.00 Hz)\n",
      "- Upper passband edge: 40.00 Hz\n",
      "- Upper transition bandwidth: 10.00 Hz (-6 dB cutoff frequency: 45.00 Hz)\n",
      "- Filter length: 1651 samples (1.651 s)\n",
      "\n"
     ]
    },
    {
     "name": "stderr",
     "output_type": "stream",
     "text": [
      "[Parallel(n_jobs=1)]: Using backend SequentialBackend with 1 concurrent workers.\n",
      "[Parallel(n_jobs=1)]: Done   1 out of   1 | elapsed:    0.0s remaining:    0.0s\n",
      "[Parallel(n_jobs=1)]: Done   2 out of   2 | elapsed:    0.0s remaining:    0.0s\n",
      "[Parallel(n_jobs=1)]: Done   3 out of   3 | elapsed:    0.1s remaining:    0.0s\n",
      "[Parallel(n_jobs=1)]: Done   4 out of   4 | elapsed:    0.1s remaining:    0.0s\n"
     ]
    },
    {
     "name": "stdout",
     "output_type": "stream",
     "text": [
      "Used Annotations descriptions: ['Comment/101', 'Comment/109', 'Comment/30', 'Comment/40', 'Comment/50', 'Comment/51', 'Comment/52', 'Comment/60', 'Comment/70', 'Comment/80', 'New Segment/']\n",
      "EEG channel type selected for re-referencing\n",
      "Applying average reference.\n",
      "Applying a custom ('EEG',) reference.\n"
     ]
    },
    {
     "name": "stderr",
     "output_type": "stream",
     "text": [
      "[Parallel(n_jobs=1)]: Done  63 out of  63 | elapsed:    0.8s finished\n"
     ]
    },
    {
     "name": "stdout",
     "output_type": "stream",
     "text": [
      "Multiple event values for single event times found. Keeping the first occurrence and dropping all others.\n",
      "Not setting metadata\n",
      "409 matching events found\n",
      "Setting baseline interval to [0.0, 2.0] s\n",
      "Applying baseline correction (mode: mean)\n",
      "0 projection items activated\n",
      "Using data from preloaded Raw for 409 events and 2501 original time points ...\n",
      "2 bad epochs dropped\n",
      "Extracting parameters from ./ica_notebooks/cleaned/m_08_02/m_08_02_pos2b.vhdr...\n",
      "Setting channel info structure...\n",
      "Reading 0 ... 508821  =      0.000 ...   508.821 secs...\n"
     ]
    },
    {
     "name": "stderr",
     "output_type": "stream",
     "text": [
      "/var/folders/2b/4tnqzv_x3x17pf4q1_n7m8h40000gn/T/ipykernel_936/3128575474.py:29: RuntimeWarning: Fiducial point nasion not found, assuming identity unknown to head transformation\n",
      "  epochs.set_montage(montage)\n"
     ]
    },
    {
     "name": "stdout",
     "output_type": "stream",
     "text": [
      "dropping channel\n",
      "Filtering raw data in 1 contiguous segment\n",
      "Setting up band-pass filter from 3 - 40 Hz\n",
      "\n",
      "FIR filter parameters\n",
      "---------------------\n",
      "Designing a one-pass, zero-phase, non-causal bandpass filter:\n",
      "- Windowed time-domain design (firwin) method\n",
      "- Hamming window with 0.0194 passband ripple and 53 dB stopband attenuation\n",
      "- Lower passband edge: 3.00\n",
      "- Lower transition bandwidth: 2.00 Hz (-6 dB cutoff frequency: 2.00 Hz)\n",
      "- Upper passband edge: 40.00 Hz\n",
      "- Upper transition bandwidth: 10.00 Hz (-6 dB cutoff frequency: 45.00 Hz)\n",
      "- Filter length: 1651 samples (1.651 s)\n",
      "\n"
     ]
    },
    {
     "name": "stderr",
     "output_type": "stream",
     "text": [
      "[Parallel(n_jobs=1)]: Using backend SequentialBackend with 1 concurrent workers.\n",
      "[Parallel(n_jobs=1)]: Done   1 out of   1 | elapsed:    0.0s remaining:    0.0s\n",
      "[Parallel(n_jobs=1)]: Done   2 out of   2 | elapsed:    0.0s remaining:    0.0s\n",
      "[Parallel(n_jobs=1)]: Done   3 out of   3 | elapsed:    0.0s remaining:    0.0s\n",
      "[Parallel(n_jobs=1)]: Done   4 out of   4 | elapsed:    0.1s remaining:    0.0s\n"
     ]
    },
    {
     "name": "stdout",
     "output_type": "stream",
     "text": [
      "Used Annotations descriptions: ['Comment/101', 'Comment/109', 'Comment/30', 'Comment/40', 'Comment/50', 'Comment/51', 'Comment/52', 'Comment/60', 'Comment/70', 'Comment/80', 'New Segment/']\n",
      "EEG channel type selected for re-referencing\n",
      "Applying average reference.\n",
      "Applying a custom ('EEG',) reference.\n"
     ]
    },
    {
     "name": "stderr",
     "output_type": "stream",
     "text": [
      "[Parallel(n_jobs=1)]: Done  63 out of  63 | elapsed:    0.6s finished\n"
     ]
    },
    {
     "name": "stdout",
     "output_type": "stream",
     "text": [
      "Multiple event values for single event times found. Keeping the first occurrence and dropping all others.\n",
      "Not setting metadata\n",
      "308 matching events found\n",
      "Setting baseline interval to [0.0, 2.0] s\n",
      "Applying baseline correction (mode: mean)\n",
      "0 projection items activated\n",
      "Using data from preloaded Raw for 308 events and 2501 original time points ...\n",
      "2 bad epochs dropped\n",
      "Extracting parameters from ./ica_notebooks/cleaned/m_18_02/m_18_02_pos2b.vhdr...\n",
      "Setting channel info structure...\n",
      "Reading 0 ... 660150  =      0.000 ...   660.150 secs...\n"
     ]
    },
    {
     "name": "stderr",
     "output_type": "stream",
     "text": [
      "/var/folders/2b/4tnqzv_x3x17pf4q1_n7m8h40000gn/T/ipykernel_936/3128575474.py:29: RuntimeWarning: Fiducial point nasion not found, assuming identity unknown to head transformation\n",
      "  epochs.set_montage(montage)\n"
     ]
    },
    {
     "name": "stdout",
     "output_type": "stream",
     "text": [
      "dropping channel\n",
      "Filtering raw data in 1 contiguous segment\n",
      "Setting up band-pass filter from 3 - 40 Hz\n",
      "\n",
      "FIR filter parameters\n",
      "---------------------\n",
      "Designing a one-pass, zero-phase, non-causal bandpass filter:\n",
      "- Windowed time-domain design (firwin) method\n",
      "- Hamming window with 0.0194 passband ripple and 53 dB stopband attenuation\n",
      "- Lower passband edge: 3.00\n",
      "- Lower transition bandwidth: 2.00 Hz (-6 dB cutoff frequency: 2.00 Hz)\n",
      "- Upper passband edge: 40.00 Hz\n",
      "- Upper transition bandwidth: 10.00 Hz (-6 dB cutoff frequency: 45.00 Hz)\n",
      "- Filter length: 1651 samples (1.651 s)\n",
      "\n"
     ]
    },
    {
     "name": "stderr",
     "output_type": "stream",
     "text": [
      "[Parallel(n_jobs=1)]: Using backend SequentialBackend with 1 concurrent workers.\n",
      "[Parallel(n_jobs=1)]: Done   1 out of   1 | elapsed:    0.0s remaining:    0.0s\n",
      "[Parallel(n_jobs=1)]: Done   2 out of   2 | elapsed:    0.0s remaining:    0.0s\n",
      "[Parallel(n_jobs=1)]: Done   3 out of   3 | elapsed:    0.0s remaining:    0.0s\n",
      "[Parallel(n_jobs=1)]: Done   4 out of   4 | elapsed:    0.0s remaining:    0.0s\n"
     ]
    },
    {
     "name": "stdout",
     "output_type": "stream",
     "text": [
      "Used Annotations descriptions: ['Comment/101', 'Comment/109', 'Comment/30', 'Comment/40', 'Comment/50', 'Comment/51', 'Comment/52', 'Comment/60', 'Comment/70', 'Comment/80', 'New Segment/']\n",
      "EEG channel type selected for re-referencing\n",
      "Applying average reference.\n",
      "Applying a custom ('EEG',) reference.\n"
     ]
    },
    {
     "name": "stderr",
     "output_type": "stream",
     "text": [
      "[Parallel(n_jobs=1)]: Done  63 out of  63 | elapsed:    0.6s finished\n"
     ]
    },
    {
     "name": "stdout",
     "output_type": "stream",
     "text": [
      "Multiple event values for single event times found. Keeping the first occurrence and dropping all others.\n",
      "Not setting metadata\n",
      "411 matching events found\n",
      "Setting baseline interval to [0.0, 2.0] s\n",
      "Applying baseline correction (mode: mean)\n",
      "0 projection items activated\n",
      "Using data from preloaded Raw for 411 events and 2501 original time points ...\n",
      "3 bad epochs dropped\n",
      "Extracting parameters from ./ica_notebooks/cleaned/m_17_02/m_17_02_pos2b.vhdr...\n",
      "Setting channel info structure...\n",
      "Reading 0 ... 699563  =      0.000 ...   699.563 secs...\n"
     ]
    },
    {
     "name": "stderr",
     "output_type": "stream",
     "text": [
      "/var/folders/2b/4tnqzv_x3x17pf4q1_n7m8h40000gn/T/ipykernel_936/3128575474.py:29: RuntimeWarning: Fiducial point nasion not found, assuming identity unknown to head transformation\n",
      "  epochs.set_montage(montage)\n"
     ]
    },
    {
     "name": "stdout",
     "output_type": "stream",
     "text": [
      "dropping channel\n",
      "Filtering raw data in 1 contiguous segment\n",
      "Setting up band-pass filter from 3 - 40 Hz\n",
      "\n",
      "FIR filter parameters\n",
      "---------------------\n",
      "Designing a one-pass, zero-phase, non-causal bandpass filter:\n",
      "- Windowed time-domain design (firwin) method\n",
      "- Hamming window with 0.0194 passband ripple and 53 dB stopband attenuation\n",
      "- Lower passband edge: 3.00\n",
      "- Lower transition bandwidth: 2.00 Hz (-6 dB cutoff frequency: 2.00 Hz)\n",
      "- Upper passband edge: 40.00 Hz\n",
      "- Upper transition bandwidth: 10.00 Hz (-6 dB cutoff frequency: 45.00 Hz)\n",
      "- Filter length: 1651 samples (1.651 s)\n",
      "\n"
     ]
    },
    {
     "name": "stderr",
     "output_type": "stream",
     "text": [
      "[Parallel(n_jobs=1)]: Using backend SequentialBackend with 1 concurrent workers.\n",
      "[Parallel(n_jobs=1)]: Done   1 out of   1 | elapsed:    0.0s remaining:    0.0s\n",
      "[Parallel(n_jobs=1)]: Done   2 out of   2 | elapsed:    0.0s remaining:    0.0s\n",
      "[Parallel(n_jobs=1)]: Done   3 out of   3 | elapsed:    0.0s remaining:    0.0s\n",
      "[Parallel(n_jobs=1)]: Done   4 out of   4 | elapsed:    0.1s remaining:    0.0s\n"
     ]
    },
    {
     "name": "stdout",
     "output_type": "stream",
     "text": [
      "Used Annotations descriptions: ['Comment/101', 'Comment/109', 'Comment/30', 'Comment/40', 'Comment/50', 'Comment/51', 'Comment/52', 'Comment/60', 'Comment/70', 'Comment/80', 'New Segment/']\n",
      "EEG channel type selected for re-referencing\n",
      "Applying average reference.\n",
      "Applying a custom ('EEG',) reference.\n"
     ]
    },
    {
     "name": "stderr",
     "output_type": "stream",
     "text": [
      "[Parallel(n_jobs=1)]: Done  63 out of  63 | elapsed:    0.7s finished\n"
     ]
    },
    {
     "name": "stdout",
     "output_type": "stream",
     "text": [
      "Multiple event values for single event times found. Keeping the first occurrence and dropping all others.\n",
      "Not setting metadata\n",
      "411 matching events found\n",
      "Setting baseline interval to [0.0, 2.0] s\n",
      "Applying baseline correction (mode: mean)\n",
      "0 projection items activated\n",
      "Using data from preloaded Raw for 411 events and 2501 original time points ...\n",
      "2 bad epochs dropped\n",
      "Extracting parameters from ./ica_notebooks/cleaned/m_13_02/m_13_02_pos2b.vhdr...\n",
      "Setting channel info structure...\n",
      "Reading 0 ... 668631  =      0.000 ...   668.631 secs...\n"
     ]
    },
    {
     "name": "stderr",
     "output_type": "stream",
     "text": [
      "/var/folders/2b/4tnqzv_x3x17pf4q1_n7m8h40000gn/T/ipykernel_936/3128575474.py:29: RuntimeWarning: Fiducial point nasion not found, assuming identity unknown to head transformation\n",
      "  epochs.set_montage(montage)\n"
     ]
    },
    {
     "name": "stdout",
     "output_type": "stream",
     "text": [
      "dropping channel\n",
      "Filtering raw data in 1 contiguous segment\n",
      "Setting up band-pass filter from 3 - 40 Hz\n",
      "\n",
      "FIR filter parameters\n",
      "---------------------\n",
      "Designing a one-pass, zero-phase, non-causal bandpass filter:\n",
      "- Windowed time-domain design (firwin) method\n",
      "- Hamming window with 0.0194 passband ripple and 53 dB stopband attenuation\n",
      "- Lower passband edge: 3.00\n",
      "- Lower transition bandwidth: 2.00 Hz (-6 dB cutoff frequency: 2.00 Hz)\n",
      "- Upper passband edge: 40.00 Hz\n",
      "- Upper transition bandwidth: 10.00 Hz (-6 dB cutoff frequency: 45.00 Hz)\n",
      "- Filter length: 1651 samples (1.651 s)\n",
      "\n"
     ]
    },
    {
     "name": "stderr",
     "output_type": "stream",
     "text": [
      "[Parallel(n_jobs=1)]: Using backend SequentialBackend with 1 concurrent workers.\n",
      "[Parallel(n_jobs=1)]: Done   1 out of   1 | elapsed:    0.0s remaining:    0.0s\n",
      "[Parallel(n_jobs=1)]: Done   2 out of   2 | elapsed:    0.0s remaining:    0.0s\n",
      "[Parallel(n_jobs=1)]: Done   3 out of   3 | elapsed:    0.1s remaining:    0.0s\n",
      "[Parallel(n_jobs=1)]: Done   4 out of   4 | elapsed:    0.1s remaining:    0.0s\n"
     ]
    },
    {
     "name": "stdout",
     "output_type": "stream",
     "text": [
      "Used Annotations descriptions: ['Comment/101', 'Comment/109', 'Comment/30', 'Comment/40', 'Comment/50', 'Comment/51', 'Comment/52', 'Comment/60', 'Comment/70', 'Comment/80', 'New Segment/']\n",
      "EEG channel type selected for re-referencing\n",
      "Applying average reference.\n",
      "Applying a custom ('EEG',) reference.\n"
     ]
    },
    {
     "name": "stderr",
     "output_type": "stream",
     "text": [
      "[Parallel(n_jobs=1)]: Done  63 out of  63 | elapsed:    0.9s finished\n"
     ]
    },
    {
     "name": "stdout",
     "output_type": "stream",
     "text": [
      "Multiple event values for single event times found. Keeping the first occurrence and dropping all others.\n",
      "Not setting metadata\n",
      "410 matching events found\n",
      "Setting baseline interval to [0.0, 2.0] s\n",
      "Applying baseline correction (mode: mean)\n",
      "0 projection items activated\n",
      "Using data from preloaded Raw for 410 events and 2501 original time points ...\n",
      "2 bad epochs dropped\n",
      "Extracting parameters from ./ica_notebooks/cleaned/m_02_02/m_02_02_pos2b.vhdr...\n",
      "Setting channel info structure...\n",
      "Reading 0 ... 667422  =      0.000 ...   667.422 secs...\n"
     ]
    },
    {
     "name": "stderr",
     "output_type": "stream",
     "text": [
      "/var/folders/2b/4tnqzv_x3x17pf4q1_n7m8h40000gn/T/ipykernel_936/3128575474.py:29: RuntimeWarning: Fiducial point nasion not found, assuming identity unknown to head transformation\n",
      "  epochs.set_montage(montage)\n"
     ]
    },
    {
     "name": "stdout",
     "output_type": "stream",
     "text": [
      "dropping channel\n",
      "Filtering raw data in 1 contiguous segment\n",
      "Setting up band-pass filter from 3 - 40 Hz\n",
      "\n",
      "FIR filter parameters\n",
      "---------------------\n",
      "Designing a one-pass, zero-phase, non-causal bandpass filter:\n",
      "- Windowed time-domain design (firwin) method\n",
      "- Hamming window with 0.0194 passband ripple and 53 dB stopband attenuation\n",
      "- Lower passband edge: 3.00\n",
      "- Lower transition bandwidth: 2.00 Hz (-6 dB cutoff frequency: 2.00 Hz)\n",
      "- Upper passband edge: 40.00 Hz\n",
      "- Upper transition bandwidth: 10.00 Hz (-6 dB cutoff frequency: 45.00 Hz)\n",
      "- Filter length: 1651 samples (1.651 s)\n",
      "\n"
     ]
    },
    {
     "name": "stderr",
     "output_type": "stream",
     "text": [
      "[Parallel(n_jobs=1)]: Using backend SequentialBackend with 1 concurrent workers.\n",
      "[Parallel(n_jobs=1)]: Done   1 out of   1 | elapsed:    0.0s remaining:    0.0s\n",
      "[Parallel(n_jobs=1)]: Done   2 out of   2 | elapsed:    0.0s remaining:    0.0s\n",
      "[Parallel(n_jobs=1)]: Done   3 out of   3 | elapsed:    0.0s remaining:    0.0s\n",
      "[Parallel(n_jobs=1)]: Done   4 out of   4 | elapsed:    0.1s remaining:    0.0s\n"
     ]
    },
    {
     "name": "stdout",
     "output_type": "stream",
     "text": [
      "Used Annotations descriptions: ['Comment/101', 'Comment/109', 'Comment/30', 'Comment/40', 'Comment/50', 'Comment/51', 'Comment/52', 'Comment/60', 'Comment/70', 'Comment/80', 'New Segment/']\n",
      "EEG channel type selected for re-referencing\n",
      "Applying average reference.\n",
      "Applying a custom ('EEG',) reference.\n"
     ]
    },
    {
     "name": "stderr",
     "output_type": "stream",
     "text": [
      "[Parallel(n_jobs=1)]: Done  63 out of  63 | elapsed:    0.7s finished\n"
     ]
    },
    {
     "name": "stdout",
     "output_type": "stream",
     "text": [
      "Multiple event values for single event times found. Keeping the first occurrence and dropping all others.\n",
      "Not setting metadata\n",
      "411 matching events found\n",
      "Setting baseline interval to [0.0, 2.0] s\n",
      "Applying baseline correction (mode: mean)\n",
      "0 projection items activated\n",
      "Using data from preloaded Raw for 411 events and 2501 original time points ...\n",
      "2 bad epochs dropped\n",
      "Extracting parameters from ./ica_notebooks/cleaned/m_12_02/m_12_02_pos2b.vhdr...\n",
      "Setting channel info structure...\n",
      "Reading 0 ... 675910  =      0.000 ...   675.910 secs...\n"
     ]
    },
    {
     "name": "stderr",
     "output_type": "stream",
     "text": [
      "/var/folders/2b/4tnqzv_x3x17pf4q1_n7m8h40000gn/T/ipykernel_936/3128575474.py:29: RuntimeWarning: Fiducial point nasion not found, assuming identity unknown to head transformation\n",
      "  epochs.set_montage(montage)\n"
     ]
    },
    {
     "name": "stdout",
     "output_type": "stream",
     "text": [
      "dropping channel\n",
      "Filtering raw data in 1 contiguous segment\n",
      "Setting up band-pass filter from 3 - 40 Hz\n",
      "\n",
      "FIR filter parameters\n",
      "---------------------\n",
      "Designing a one-pass, zero-phase, non-causal bandpass filter:\n",
      "- Windowed time-domain design (firwin) method\n",
      "- Hamming window with 0.0194 passband ripple and 53 dB stopband attenuation\n",
      "- Lower passband edge: 3.00\n",
      "- Lower transition bandwidth: 2.00 Hz (-6 dB cutoff frequency: 2.00 Hz)\n",
      "- Upper passband edge: 40.00 Hz\n",
      "- Upper transition bandwidth: 10.00 Hz (-6 dB cutoff frequency: 45.00 Hz)\n",
      "- Filter length: 1651 samples (1.651 s)\n",
      "\n"
     ]
    },
    {
     "name": "stderr",
     "output_type": "stream",
     "text": [
      "[Parallel(n_jobs=1)]: Using backend SequentialBackend with 1 concurrent workers.\n",
      "[Parallel(n_jobs=1)]: Done   1 out of   1 | elapsed:    0.0s remaining:    0.0s\n",
      "[Parallel(n_jobs=1)]: Done   2 out of   2 | elapsed:    0.0s remaining:    0.0s\n",
      "[Parallel(n_jobs=1)]: Done   3 out of   3 | elapsed:    0.1s remaining:    0.0s\n",
      "[Parallel(n_jobs=1)]: Done   4 out of   4 | elapsed:    0.1s remaining:    0.0s\n"
     ]
    },
    {
     "name": "stdout",
     "output_type": "stream",
     "text": [
      "Used Annotations descriptions: ['Comment/101', 'Comment/109', 'Comment/30', 'Comment/40', 'Comment/50', 'Comment/51', 'Comment/52', 'Comment/60', 'Comment/70', 'Comment/80', 'New Segment/']\n",
      "EEG channel type selected for re-referencing\n",
      "Applying average reference.\n",
      "Applying a custom ('EEG',) reference.\n"
     ]
    },
    {
     "name": "stderr",
     "output_type": "stream",
     "text": [
      "[Parallel(n_jobs=1)]: Done  63 out of  63 | elapsed:    0.7s finished\n"
     ]
    },
    {
     "name": "stdout",
     "output_type": "stream",
     "text": [
      "Multiple event values for single event times found. Keeping the first occurrence and dropping all others.\n",
      "Not setting metadata\n",
      "413 matching events found\n",
      "Setting baseline interval to [0.0, 2.0] s\n",
      "Applying baseline correction (mode: mean)\n",
      "0 projection items activated\n",
      "Using data from preloaded Raw for 413 events and 2501 original time points ...\n",
      "2 bad epochs dropped\n",
      "Extracting parameters from ./ica_notebooks/cleaned/m_01_02/m_01_02_pos2b.vhdr...\n",
      "Setting channel info structure...\n",
      "Reading 0 ... 690070  =      0.000 ...   690.070 secs...\n"
     ]
    },
    {
     "name": "stderr",
     "output_type": "stream",
     "text": [
      "/var/folders/2b/4tnqzv_x3x17pf4q1_n7m8h40000gn/T/ipykernel_936/3128575474.py:29: RuntimeWarning: Fiducial point nasion not found, assuming identity unknown to head transformation\n",
      "  epochs.set_montage(montage)\n"
     ]
    },
    {
     "name": "stdout",
     "output_type": "stream",
     "text": [
      "dropping channel\n",
      "Filtering raw data in 1 contiguous segment\n",
      "Setting up band-pass filter from 3 - 40 Hz\n",
      "\n",
      "FIR filter parameters\n",
      "---------------------\n",
      "Designing a one-pass, zero-phase, non-causal bandpass filter:\n",
      "- Windowed time-domain design (firwin) method\n",
      "- Hamming window with 0.0194 passband ripple and 53 dB stopband attenuation\n",
      "- Lower passband edge: 3.00\n",
      "- Lower transition bandwidth: 2.00 Hz (-6 dB cutoff frequency: 2.00 Hz)\n",
      "- Upper passband edge: 40.00 Hz\n",
      "- Upper transition bandwidth: 10.00 Hz (-6 dB cutoff frequency: 45.00 Hz)\n",
      "- Filter length: 1651 samples (1.651 s)\n",
      "\n"
     ]
    },
    {
     "name": "stderr",
     "output_type": "stream",
     "text": [
      "[Parallel(n_jobs=1)]: Using backend SequentialBackend with 1 concurrent workers.\n",
      "[Parallel(n_jobs=1)]: Done   1 out of   1 | elapsed:    0.0s remaining:    0.0s\n",
      "[Parallel(n_jobs=1)]: Done   2 out of   2 | elapsed:    0.0s remaining:    0.0s\n",
      "[Parallel(n_jobs=1)]: Done   3 out of   3 | elapsed:    0.1s remaining:    0.0s\n",
      "[Parallel(n_jobs=1)]: Done   4 out of   4 | elapsed:    0.1s remaining:    0.0s\n"
     ]
    },
    {
     "name": "stdout",
     "output_type": "stream",
     "text": [
      "Used Annotations descriptions: ['Comment/101', 'Comment/109', 'Comment/30', 'Comment/40', 'Comment/50', 'Comment/51', 'Comment/52', 'Comment/60', 'Comment/70', 'Comment/80', 'New Segment/']\n",
      "EEG channel type selected for re-referencing\n",
      "Applying average reference.\n",
      "Applying a custom ('EEG',) reference.\n"
     ]
    },
    {
     "name": "stderr",
     "output_type": "stream",
     "text": [
      "[Parallel(n_jobs=1)]: Done  63 out of  63 | elapsed:    0.8s finished\n"
     ]
    },
    {
     "name": "stdout",
     "output_type": "stream",
     "text": [
      "Multiple event values for single event times found. Keeping the first occurrence and dropping all others.\n",
      "Not setting metadata\n",
      "409 matching events found\n",
      "Setting baseline interval to [0.0, 2.0] s\n",
      "Applying baseline correction (mode: mean)\n",
      "0 projection items activated\n",
      "Using data from preloaded Raw for 409 events and 2501 original time points ...\n",
      "3 bad epochs dropped\n",
      "Extracting parameters from ./ica_notebooks/cleaned/m_05_02/m_05_02_pos2b.vhdr...\n",
      "Setting channel info structure...\n",
      "Reading 0 ... 706851  =      0.000 ...   706.851 secs...\n"
     ]
    },
    {
     "name": "stderr",
     "output_type": "stream",
     "text": [
      "/var/folders/2b/4tnqzv_x3x17pf4q1_n7m8h40000gn/T/ipykernel_936/3128575474.py:29: RuntimeWarning: Fiducial point nasion not found, assuming identity unknown to head transformation\n",
      "  epochs.set_montage(montage)\n"
     ]
    },
    {
     "name": "stdout",
     "output_type": "stream",
     "text": [
      "dropping channel\n",
      "Filtering raw data in 1 contiguous segment\n",
      "Setting up band-pass filter from 3 - 40 Hz\n",
      "\n",
      "FIR filter parameters\n",
      "---------------------\n",
      "Designing a one-pass, zero-phase, non-causal bandpass filter:\n",
      "- Windowed time-domain design (firwin) method\n",
      "- Hamming window with 0.0194 passband ripple and 53 dB stopband attenuation\n",
      "- Lower passband edge: 3.00\n",
      "- Lower transition bandwidth: 2.00 Hz (-6 dB cutoff frequency: 2.00 Hz)\n",
      "- Upper passband edge: 40.00 Hz\n",
      "- Upper transition bandwidth: 10.00 Hz (-6 dB cutoff frequency: 45.00 Hz)\n",
      "- Filter length: 1651 samples (1.651 s)\n",
      "\n"
     ]
    },
    {
     "name": "stderr",
     "output_type": "stream",
     "text": [
      "[Parallel(n_jobs=1)]: Using backend SequentialBackend with 1 concurrent workers.\n",
      "[Parallel(n_jobs=1)]: Done   1 out of   1 | elapsed:    0.0s remaining:    0.0s\n",
      "[Parallel(n_jobs=1)]: Done   2 out of   2 | elapsed:    0.0s remaining:    0.0s\n",
      "[Parallel(n_jobs=1)]: Done   3 out of   3 | elapsed:    0.1s remaining:    0.0s\n",
      "[Parallel(n_jobs=1)]: Done   4 out of   4 | elapsed:    0.1s remaining:    0.0s\n"
     ]
    },
    {
     "name": "stdout",
     "output_type": "stream",
     "text": [
      "Used Annotations descriptions: ['Comment/101', 'Comment/109', 'Comment/30', 'Comment/40', 'Comment/50', 'Comment/51', 'Comment/52', 'Comment/60', 'Comment/70', 'Comment/80', 'New Segment/']\n",
      "EEG channel type selected for re-referencing\n",
      "Applying average reference.\n",
      "Applying a custom ('EEG',) reference.\n"
     ]
    },
    {
     "name": "stderr",
     "output_type": "stream",
     "text": [
      "[Parallel(n_jobs=1)]: Done  63 out of  63 | elapsed:    0.8s finished\n"
     ]
    },
    {
     "name": "stdout",
     "output_type": "stream",
     "text": [
      "Multiple event values for single event times found. Keeping the first occurrence and dropping all others.\n",
      "Not setting metadata\n",
      "410 matching events found\n",
      "Setting baseline interval to [0.0, 2.0] s\n",
      "Applying baseline correction (mode: mean)\n",
      "0 projection items activated\n",
      "Using data from preloaded Raw for 410 events and 2501 original time points ...\n",
      "2 bad epochs dropped\n",
      "Extracting parameters from ./ica_notebooks/cleaned/m_04_02/m_04_02_pos2b.vhdr...\n",
      "Setting channel info structure...\n",
      "Reading 0 ... 683430  =      0.000 ...   683.430 secs...\n"
     ]
    },
    {
     "name": "stderr",
     "output_type": "stream",
     "text": [
      "/var/folders/2b/4tnqzv_x3x17pf4q1_n7m8h40000gn/T/ipykernel_936/3128575474.py:29: RuntimeWarning: Fiducial point nasion not found, assuming identity unknown to head transformation\n",
      "  epochs.set_montage(montage)\n"
     ]
    },
    {
     "name": "stdout",
     "output_type": "stream",
     "text": [
      "dropping channel\n",
      "Filtering raw data in 1 contiguous segment\n",
      "Setting up band-pass filter from 3 - 40 Hz\n",
      "\n",
      "FIR filter parameters\n",
      "---------------------\n",
      "Designing a one-pass, zero-phase, non-causal bandpass filter:\n",
      "- Windowed time-domain design (firwin) method\n",
      "- Hamming window with 0.0194 passband ripple and 53 dB stopband attenuation\n",
      "- Lower passband edge: 3.00\n",
      "- Lower transition bandwidth: 2.00 Hz (-6 dB cutoff frequency: 2.00 Hz)\n",
      "- Upper passband edge: 40.00 Hz\n",
      "- Upper transition bandwidth: 10.00 Hz (-6 dB cutoff frequency: 45.00 Hz)\n",
      "- Filter length: 1651 samples (1.651 s)\n",
      "\n"
     ]
    },
    {
     "name": "stderr",
     "output_type": "stream",
     "text": [
      "[Parallel(n_jobs=1)]: Using backend SequentialBackend with 1 concurrent workers.\n",
      "[Parallel(n_jobs=1)]: Done   1 out of   1 | elapsed:    0.0s remaining:    0.0s\n",
      "[Parallel(n_jobs=1)]: Done   2 out of   2 | elapsed:    0.0s remaining:    0.0s\n",
      "[Parallel(n_jobs=1)]: Done   3 out of   3 | elapsed:    0.0s remaining:    0.0s\n",
      "[Parallel(n_jobs=1)]: Done   4 out of   4 | elapsed:    0.0s remaining:    0.0s\n"
     ]
    },
    {
     "name": "stdout",
     "output_type": "stream",
     "text": [
      "Used Annotations descriptions: ['Comment/101', 'Comment/109', 'Comment/30', 'Comment/40', 'Comment/50', 'Comment/51', 'Comment/52', 'Comment/60', 'Comment/70', 'Comment/80', 'New Segment/']\n",
      "EEG channel type selected for re-referencing\n",
      "Applying average reference.\n",
      "Applying a custom ('EEG',) reference.\n"
     ]
    },
    {
     "name": "stderr",
     "output_type": "stream",
     "text": [
      "[Parallel(n_jobs=1)]: Done  63 out of  63 | elapsed:    0.8s finished\n"
     ]
    },
    {
     "name": "stdout",
     "output_type": "stream",
     "text": [
      "Multiple event values for single event times found. Keeping the first occurrence and dropping all others.\n",
      "Not setting metadata\n",
      "410 matching events found\n",
      "Setting baseline interval to [0.0, 2.0] s\n",
      "Applying baseline correction (mode: mean)\n",
      "0 projection items activated\n",
      "Using data from preloaded Raw for 410 events and 2501 original time points ...\n",
      "2 bad epochs dropped\n"
     ]
    },
    {
     "name": "stderr",
     "output_type": "stream",
     "text": [
      "/var/folders/2b/4tnqzv_x3x17pf4q1_n7m8h40000gn/T/ipykernel_936/3128575474.py:29: RuntimeWarning: Fiducial point nasion not found, assuming identity unknown to head transformation\n",
      "  epochs.set_montage(montage)\n"
     ]
    }
   ],
   "source": [
    "# Gather up all the epochs for the relevant tasks and groups\n",
    "all_pos_epochs = gather_epochs(all_pos)"
   ]
  },
  {
   "cell_type": "code",
   "execution_count": 124,
   "metadata": {},
   "outputs": [],
   "source": [
    "# Create power table and helpers\n",
    "def get_psd_power_norm(ep, roi, freq_range):\n",
    "    evoked = ep.average()\n",
    "    spectrum = evoked.compute_psd('welch', fmin=3, fmax=30, tmin=0, tmax=1, picks=roi)\n",
    "    psds, freqs = spectrum.get_data(return_freqs=True)\n",
    "    psds_band = psds[:, (freqs >= freq_range[0]) & (freqs < freq_range[1])].mean(axis=-1)\n",
    "    psds /= np.sum(psds,axis=-1, keepdims=True) # Normalise\n",
    "    psds_band_norm = psds[:, (freqs >= freq_range[0]) & (freqs < freq_range[1])].mean(axis=-1)\n",
    "    return psds_band.mean(), psds_band_norm.mean()\n",
    "\n",
    "def create_power_table(epoch_set, iaf_data):\n",
    "    \"\"\"Create a table of powers for each eeg file in the list supplied.\n",
    "    \"\"\"\n",
    "    return 0\n",
    "    output = {\n",
    "        'Participant':[],\n",
    "        'ROI':[],\n",
    "        'Cue':[],\n",
    "        'Session':[],\n",
    "        'Power':[],\n",
    "        'Normalised Power':[]\n",
    "    }\n",
    "\n",
    "    regions = {\n",
    "        'left central, occipital parietal' : [\"P7\", \"P5\", \"P3\", \"P1\", \"PO7\", \"PO3\", \"O1\", \"CP5\", \"CP3\", \"CP1\"],\n",
    "        'right central, occipital parietal' : [\"P2\", \"P4\", \"P6\", \"P8\", \"PO8\", \"PO4\", \"O2\", \"CP6\", \"CP4\", \"CP2\"],\n",
    "        'left hemisphere':[\"P7\", \"P5\", \"P3\", \"P1\", \"PO7\", \"PO3\", \"O1\"],\n",
    "        'right hemisphere':[\"P2\", \"P4\", \"P6\", \"P8\", \"PO8\", \"PO4\", \"O2\"]\n",
    "    }\n",
    "\n",
    "    cue_key = [\n",
    "        ['left','Comment/60'],\n",
    "        ['right','Comment/70'],\n",
    "    ]\n",
    "\n",
    "    for i in range(len(cue_key)):\n",
    "        # cue_epochs = gather_epochs(, cue_key[i][1])\n",
    "        cue_id = cue_key[i][1]\n",
    "        for key, value in regions.items():\n",
    "            for sub_epochs in epoch_set:\n",
    "                epochs = sub_epochs[0][cue_id]\n",
    "                sub_id=sub_epochs[1].strip('/ica_notebooks/cleaned/')\n",
    "                sub_id=re.search(r\"/([^/]*)$\", sub_id).group(1)\n",
    "                sub_id=re.findall(r'm_([^_]*)', sub_id)[0]\n",
    "                session=re.search(r\".*pos(\\d)\\D.*\", sub_epochs[1]).group(1)\n",
    "\n",
    "                ### USE individualised alpha range ###\n",
    "                # Get iaf and alpha range for subject\n",
    "                iaf = iaf_data[(iaf_data['Participant']==int(sub_id)) & (iaf_data['Session']==int(session))].IAF.iloc[0]\n",
    "                print('iaf', iaf)\n",
    "                a_min = math.floor(iaf - 1)\n",
    "                a_max = math.ceil(iaf + 1) \n",
    "                freq_range = (a_min, a_max)\n",
    "                ###\n",
    "\n",
    "                epochs=sub_epochs[0]\n",
    "                # mean_alpha_o, normed_mean_alpha_o = get_psd_power_normed(epochs, value, freq_range)\n",
    "                mean_alpha, normed_mean_alpha = get_psd_power_norm(epochs, value, freq_range)\n",
    "\n",
    "                output['Participant'].append(sub_id)\n",
    "                output['ROI'].append(key)\n",
    "                output['Power'].append(mean_alpha)\n",
    "                output['Normalised Power'].append(normed_mean_alpha)\n",
    "                output['Cue'].append(cue_key[i][0])\n",
    "                output['Session'].append(session)\n",
    "    return pd.DataFrame(output)"
   ]
  },
  {
   "cell_type": "code",
   "execution_count": 75,
   "metadata": {},
   "outputs": [],
   "source": [
    "# Custom function to determine the 'hemisphere' value\n",
    "def determine_hemisphere(roi):\n",
    "    if 'left' in roi:\n",
    "        return 'left'\n",
    "    elif 'right' in roi:\n",
    "        return 'right'\n",
    "    else:\n",
    "        return 'unknown'"
   ]
  },
  {
   "cell_type": "markdown",
   "metadata": {},
   "source": [
    "# Compare alpha power from different regions"
   ]
  },
  {
   "cell_type": "code",
   "execution_count": 147,
   "metadata": {},
   "outputs": [
    {
     "name": "stdout",
     "output_type": "stream",
     "text": [
      "iaf 9.75\n",
      "NOTE: pick_channels() is a legacy function. New code should use inst.pick(...).\n",
      "Effective window size : 1.001 (s)\n",
      "iaf 10.5\n",
      "NOTE: pick_channels() is a legacy function. New code should use inst.pick(...).\n",
      "Effective window size : 1.001 (s)\n",
      "iaf 9.0\n",
      "NOTE: pick_channels() is a legacy function. New code should use inst.pick(...).\n",
      "Effective window size : 1.001 (s)\n",
      "iaf 10.0\n",
      "NOTE: pick_channels() is a legacy function. New code should use inst.pick(...).\n",
      "Effective window size : 1.001 (s)\n",
      "iaf 10.5\n",
      "NOTE: pick_channels() is a legacy function. New code should use inst.pick(...).\n",
      "Effective window size : 1.001 (s)\n",
      "iaf 10.5\n",
      "NOTE: pick_channels() is a legacy function. New code should use inst.pick(...).\n",
      "Effective window size : 1.001 (s)\n",
      "iaf 11.0\n",
      "NOTE: pick_channels() is a legacy function. New code should use inst.pick(...).\n",
      "Effective window size : 1.001 (s)\n",
      "iaf 8.75\n",
      "NOTE: pick_channels() is a legacy function. New code should use inst.pick(...).\n",
      "Effective window size : 1.001 (s)\n",
      "iaf 10.5\n",
      "NOTE: pick_channels() is a legacy function. New code should use inst.pick(...).\n",
      "Effective window size : 1.001 (s)\n",
      "iaf 10.75\n",
      "NOTE: pick_channels() is a legacy function. New code should use inst.pick(...).\n",
      "Effective window size : 1.001 (s)\n",
      "iaf 10.25\n",
      "NOTE: pick_channels() is a legacy function. New code should use inst.pick(...).\n",
      "Effective window size : 1.001 (s)\n",
      "iaf 10.75\n",
      "NOTE: pick_channels() is a legacy function. New code should use inst.pick(...).\n",
      "Effective window size : 1.001 (s)\n",
      "iaf 8.5\n",
      "NOTE: pick_channels() is a legacy function. New code should use inst.pick(...).\n",
      "Effective window size : 1.001 (s)\n",
      "iaf 11.0\n",
      "NOTE: pick_channels() is a legacy function. New code should use inst.pick(...).\n",
      "Effective window size : 1.001 (s)\n",
      "iaf 10.25\n",
      "NOTE: pick_channels() is a legacy function. New code should use inst.pick(...).\n",
      "Effective window size : 1.001 (s)\n",
      "iaf 11.0\n",
      "NOTE: pick_channels() is a legacy function. New code should use inst.pick(...).\n",
      "Effective window size : 1.001 (s)\n",
      "iaf 10.5\n",
      "NOTE: pick_channels() is a legacy function. New code should use inst.pick(...).\n",
      "Effective window size : 1.001 (s)\n",
      "iaf 9.75\n",
      "NOTE: pick_channels() is a legacy function. New code should use inst.pick(...).\n",
      "Effective window size : 1.001 (s)\n",
      "iaf 9.75\n",
      "NOTE: pick_channels() is a legacy function. New code should use inst.pick(...).\n",
      "Effective window size : 1.001 (s)\n",
      "iaf 9.75\n",
      "NOTE: pick_channels() is a legacy function. New code should use inst.pick(...).\n",
      "Effective window size : 1.001 (s)\n",
      "iaf 10.5\n",
      "NOTE: pick_channels() is a legacy function. New code should use inst.pick(...).\n",
      "Effective window size : 1.001 (s)\n",
      "iaf 9.75\n",
      "NOTE: pick_channels() is a legacy function. New code should use inst.pick(...).\n",
      "Effective window size : 1.001 (s)\n",
      "iaf 9.0\n",
      "NOTE: pick_channels() is a legacy function. New code should use inst.pick(...).\n",
      "Effective window size : 1.001 (s)\n",
      "iaf 10.0\n",
      "NOTE: pick_channels() is a legacy function. New code should use inst.pick(...).\n",
      "Effective window size : 1.001 (s)\n",
      "iaf 10.75\n",
      "NOTE: pick_channels() is a legacy function. New code should use inst.pick(...).\n",
      "Effective window size : 1.001 (s)\n",
      "iaf 10.5\n",
      "NOTE: pick_channels() is a legacy function. New code should use inst.pick(...).\n",
      "Effective window size : 1.001 (s)\n",
      "iaf 11.0\n",
      "NOTE: pick_channels() is a legacy function. New code should use inst.pick(...).\n",
      "Effective window size : 1.001 (s)\n",
      "iaf 8.75\n",
      "NOTE: pick_channels() is a legacy function. New code should use inst.pick(...).\n",
      "Effective window size : 1.001 (s)\n",
      "iaf 10.5\n",
      "NOTE: pick_channels() is a legacy function. New code should use inst.pick(...).\n",
      "Effective window size : 1.001 (s)\n",
      "iaf 10.75\n",
      "NOTE: pick_channels() is a legacy function. New code should use inst.pick(...).\n",
      "Effective window size : 1.001 (s)\n",
      "iaf 10.25\n",
      "NOTE: pick_channels() is a legacy function. New code should use inst.pick(...).\n",
      "Effective window size : 1.001 (s)\n",
      "iaf 10.75\n",
      "NOTE: pick_channels() is a legacy function. New code should use inst.pick(...).\n",
      "Effective window size : 1.001 (s)\n",
      "iaf 8.5\n",
      "NOTE: pick_channels() is a legacy function. New code should use inst.pick(...).\n",
      "Effective window size : 1.001 (s)\n",
      "iaf 11.0\n",
      "NOTE: pick_channels() is a legacy function. New code should use inst.pick(...).\n",
      "Effective window size : 1.001 (s)\n",
      "iaf 10.25\n",
      "NOTE: pick_channels() is a legacy function. New code should use inst.pick(...).\n",
      "Effective window size : 1.001 (s)\n",
      "iaf 11.0\n",
      "NOTE: pick_channels() is a legacy function. New code should use inst.pick(...).\n",
      "Effective window size : 1.001 (s)\n",
      "iaf 10.5\n",
      "NOTE: pick_channels() is a legacy function. New code should use inst.pick(...).\n",
      "Effective window size : 1.001 (s)\n",
      "iaf 9.75\n",
      "NOTE: pick_channels() is a legacy function. New code should use inst.pick(...).\n",
      "Effective window size : 1.001 (s)\n",
      "iaf 9.75\n",
      "NOTE: pick_channels() is a legacy function. New code should use inst.pick(...).\n",
      "Effective window size : 1.001 (s)\n",
      "iaf 9.75\n",
      "NOTE: pick_channels() is a legacy function. New code should use inst.pick(...).\n",
      "Effective window size : 1.001 (s)\n",
      "iaf 10.5\n",
      "NOTE: pick_channels() is a legacy function. New code should use inst.pick(...).\n",
      "Effective window size : 1.001 (s)\n",
      "iaf 10.0\n",
      "NOTE: pick_channels() is a legacy function. New code should use inst.pick(...).\n",
      "Effective window size : 1.001 (s)\n",
      "iaf 10.5\n",
      "NOTE: pick_channels() is a legacy function. New code should use inst.pick(...).\n",
      "Effective window size : 1.001 (s)\n",
      "iaf 10.0\n",
      "NOTE: pick_channels() is a legacy function. New code should use inst.pick(...).\n",
      "Effective window size : 1.001 (s)\n",
      "iaf 10.0\n",
      "NOTE: pick_channels() is a legacy function. New code should use inst.pick(...).\n",
      "Effective window size : 1.001 (s)\n",
      "iaf 9.75\n",
      "NOTE: pick_channels() is a legacy function. New code should use inst.pick(...).\n",
      "Effective window size : 1.001 (s)\n",
      "iaf 10.0\n",
      "NOTE: pick_channels() is a legacy function. New code should use inst.pick(...).\n",
      "Effective window size : 1.001 (s)\n",
      "iaf 10.25\n",
      "NOTE: pick_channels() is a legacy function. New code should use inst.pick(...).\n",
      "Effective window size : 1.001 (s)\n",
      "iaf 9.25\n",
      "NOTE: pick_channels() is a legacy function. New code should use inst.pick(...).\n",
      "Effective window size : 1.001 (s)\n",
      "iaf 9.75\n",
      "NOTE: pick_channels() is a legacy function. New code should use inst.pick(...).\n",
      "Effective window size : 1.001 (s)\n",
      "iaf 9.5\n",
      "NOTE: pick_channels() is a legacy function. New code should use inst.pick(...).\n",
      "Effective window size : 1.001 (s)\n",
      "iaf 10.0\n",
      "NOTE: pick_channels() is a legacy function. New code should use inst.pick(...).\n",
      "Effective window size : 1.001 (s)\n",
      "iaf 10.5\n",
      "NOTE: pick_channels() is a legacy function. New code should use inst.pick(...).\n",
      "Effective window size : 1.001 (s)\n",
      "iaf 10.0\n",
      "NOTE: pick_channels() is a legacy function. New code should use inst.pick(...).\n",
      "Effective window size : 1.001 (s)\n",
      "iaf 10.0\n",
      "NOTE: pick_channels() is a legacy function. New code should use inst.pick(...).\n",
      "Effective window size : 1.001 (s)\n",
      "iaf 9.75\n",
      "NOTE: pick_channels() is a legacy function. New code should use inst.pick(...).\n",
      "Effective window size : 1.001 (s)\n",
      "iaf 10.0\n",
      "NOTE: pick_channels() is a legacy function. New code should use inst.pick(...).\n",
      "Effective window size : 1.001 (s)\n",
      "iaf 9.25\n",
      "NOTE: pick_channels() is a legacy function. New code should use inst.pick(...).\n",
      "Effective window size : 1.001 (s)\n",
      "iaf 9.75\n",
      "NOTE: pick_channels() is a legacy function. New code should use inst.pick(...).\n",
      "Effective window size : 1.001 (s)\n",
      "iaf 9.5\n",
      "NOTE: pick_channels() is a legacy function. New code should use inst.pick(...).\n",
      "Effective window size : 1.001 (s)\n",
      "iaf 9.75\n",
      "NOTE: pick_channels() is a legacy function. New code should use inst.pick(...).\n",
      "Effective window size : 1.001 (s)\n",
      "iaf 10.0\n",
      "NOTE: pick_channels() is a legacy function. New code should use inst.pick(...).\n",
      "Effective window size : 1.001 (s)\n",
      "iaf 10.25\n",
      "NOTE: pick_channels() is a legacy function. New code should use inst.pick(...).\n",
      "Effective window size : 1.001 (s)\n",
      "iaf 10.0\n",
      "NOTE: pick_channels() is a legacy function. New code should use inst.pick(...).\n",
      "Effective window size : 1.001 (s)\n",
      "iaf 10.25\n",
      "NOTE: pick_channels() is a legacy function. New code should use inst.pick(...).\n",
      "Effective window size : 1.001 (s)\n",
      "iaf 10.0\n",
      "NOTE: pick_channels() is a legacy function. New code should use inst.pick(...).\n",
      "Effective window size : 1.001 (s)\n",
      "iaf 9.75\n",
      "NOTE: pick_channels() is a legacy function. New code should use inst.pick(...).\n",
      "Effective window size : 1.001 (s)\n",
      "iaf 10.25\n",
      "NOTE: pick_channels() is a legacy function. New code should use inst.pick(...).\n",
      "Effective window size : 1.001 (s)\n",
      "iaf 10.0\n",
      "NOTE: pick_channels() is a legacy function. New code should use inst.pick(...).\n",
      "Effective window size : 1.001 (s)\n",
      "iaf 10.25\n",
      "NOTE: pick_channels() is a legacy function. New code should use inst.pick(...).\n",
      "Effective window size : 1.001 (s)\n",
      "iaf 10.0\n",
      "NOTE: pick_channels() is a legacy function. New code should use inst.pick(...).\n",
      "Effective window size : 1.001 (s)\n",
      "iaf 10.5\n",
      "NOTE: pick_channels() is a legacy function. New code should use inst.pick(...).\n",
      "Effective window size : 1.001 (s)\n",
      "iaf 10.0\n",
      "NOTE: pick_channels() is a legacy function. New code should use inst.pick(...).\n",
      "Effective window size : 1.001 (s)\n",
      "iaf 10.0\n",
      "NOTE: pick_channels() is a legacy function. New code should use inst.pick(...).\n",
      "Effective window size : 1.001 (s)\n",
      "iaf 9.75\n",
      "NOTE: pick_channels() is a legacy function. New code should use inst.pick(...).\n",
      "Effective window size : 1.001 (s)\n",
      "iaf 10.0\n",
      "NOTE: pick_channels() is a legacy function. New code should use inst.pick(...).\n",
      "Effective window size : 1.001 (s)\n",
      "iaf 9.25\n",
      "NOTE: pick_channels() is a legacy function. New code should use inst.pick(...).\n",
      "Effective window size : 1.001 (s)\n",
      "iaf 9.75\n",
      "NOTE: pick_channels() is a legacy function. New code should use inst.pick(...).\n",
      "Effective window size : 1.001 (s)\n",
      "iaf 9.5\n",
      "NOTE: pick_channels() is a legacy function. New code should use inst.pick(...).\n",
      "Effective window size : 1.001 (s)\n",
      "iaf 9.75\n",
      "NOTE: pick_channels() is a legacy function. New code should use inst.pick(...).\n",
      "Effective window size : 1.001 (s)\n",
      "iaf 10.5\n",
      "NOTE: pick_channels() is a legacy function. New code should use inst.pick(...).\n",
      "Effective window size : 1.001 (s)\n",
      "iaf 9.0\n",
      "NOTE: pick_channels() is a legacy function. New code should use inst.pick(...).\n",
      "Effective window size : 1.001 (s)\n",
      "iaf 10.0\n",
      "NOTE: pick_channels() is a legacy function. New code should use inst.pick(...).\n",
      "Effective window size : 1.001 (s)\n",
      "iaf 10.5\n",
      "NOTE: pick_channels() is a legacy function. New code should use inst.pick(...).\n",
      "Effective window size : 1.001 (s)\n",
      "iaf 10.5\n",
      "NOTE: pick_channels() is a legacy function. New code should use inst.pick(...).\n",
      "Effective window size : 1.001 (s)\n",
      "iaf 11.0\n",
      "NOTE: pick_channels() is a legacy function. New code should use inst.pick(...).\n",
      "Effective window size : 1.001 (s)\n",
      "iaf 8.75\n",
      "NOTE: pick_channels() is a legacy function. New code should use inst.pick(...).\n",
      "Effective window size : 1.001 (s)\n",
      "iaf 10.5\n",
      "NOTE: pick_channels() is a legacy function. New code should use inst.pick(...).\n",
      "Effective window size : 1.001 (s)\n",
      "iaf 10.75\n",
      "NOTE: pick_channels() is a legacy function. New code should use inst.pick(...).\n",
      "Effective window size : 1.001 (s)\n",
      "iaf 10.25\n",
      "NOTE: pick_channels() is a legacy function. New code should use inst.pick(...).\n",
      "Effective window size : 1.001 (s)\n",
      "iaf 10.75\n",
      "NOTE: pick_channels() is a legacy function. New code should use inst.pick(...).\n",
      "Effective window size : 1.001 (s)\n",
      "iaf 8.5\n",
      "NOTE: pick_channels() is a legacy function. New code should use inst.pick(...).\n",
      "Effective window size : 1.001 (s)\n",
      "iaf 11.0\n",
      "NOTE: pick_channels() is a legacy function. New code should use inst.pick(...).\n",
      "Effective window size : 1.001 (s)\n",
      "iaf 10.25\n",
      "NOTE: pick_channels() is a legacy function. New code should use inst.pick(...).\n",
      "Effective window size : 1.001 (s)\n",
      "iaf 11.0\n",
      "NOTE: pick_channels() is a legacy function. New code should use inst.pick(...).\n",
      "Effective window size : 1.001 (s)\n",
      "iaf 10.5\n",
      "NOTE: pick_channels() is a legacy function. New code should use inst.pick(...).\n",
      "Effective window size : 1.001 (s)\n",
      "iaf 9.75\n",
      "NOTE: pick_channels() is a legacy function. New code should use inst.pick(...).\n",
      "Effective window size : 1.001 (s)\n",
      "iaf 9.75\n",
      "NOTE: pick_channels() is a legacy function. New code should use inst.pick(...).\n",
      "Effective window size : 1.001 (s)\n",
      "iaf 9.75\n",
      "NOTE: pick_channels() is a legacy function. New code should use inst.pick(...).\n",
      "Effective window size : 1.001 (s)\n",
      "iaf 10.5\n",
      "NOTE: pick_channels() is a legacy function. New code should use inst.pick(...).\n",
      "Effective window size : 1.001 (s)\n",
      "iaf 9.75\n",
      "NOTE: pick_channels() is a legacy function. New code should use inst.pick(...).\n",
      "Effective window size : 1.001 (s)\n",
      "iaf 9.0\n",
      "NOTE: pick_channels() is a legacy function. New code should use inst.pick(...).\n",
      "Effective window size : 1.001 (s)\n",
      "iaf 10.0\n",
      "NOTE: pick_channels() is a legacy function. New code should use inst.pick(...).\n",
      "Effective window size : 1.001 (s)\n",
      "iaf 10.75\n",
      "NOTE: pick_channels() is a legacy function. New code should use inst.pick(...).\n",
      "Effective window size : 1.001 (s)\n",
      "iaf 10.5\n",
      "NOTE: pick_channels() is a legacy function. New code should use inst.pick(...).\n",
      "Effective window size : 1.001 (s)\n",
      "iaf 11.0\n",
      "NOTE: pick_channels() is a legacy function. New code should use inst.pick(...).\n",
      "Effective window size : 1.001 (s)\n",
      "iaf 8.75\n",
      "NOTE: pick_channels() is a legacy function. New code should use inst.pick(...).\n",
      "Effective window size : 1.001 (s)\n",
      "iaf 10.5\n",
      "NOTE: pick_channels() is a legacy function. New code should use inst.pick(...).\n",
      "Effective window size : 1.001 (s)\n",
      "iaf 10.75\n",
      "NOTE: pick_channels() is a legacy function. New code should use inst.pick(...).\n",
      "Effective window size : 1.001 (s)\n",
      "iaf 10.25\n",
      "NOTE: pick_channels() is a legacy function. New code should use inst.pick(...).\n",
      "Effective window size : 1.001 (s)\n",
      "iaf 10.75\n",
      "NOTE: pick_channels() is a legacy function. New code should use inst.pick(...).\n",
      "Effective window size : 1.001 (s)\n",
      "iaf 8.5\n",
      "NOTE: pick_channels() is a legacy function. New code should use inst.pick(...).\n",
      "Effective window size : 1.001 (s)\n",
      "iaf 11.0\n",
      "NOTE: pick_channels() is a legacy function. New code should use inst.pick(...).\n",
      "Effective window size : 1.001 (s)\n",
      "iaf 10.25\n",
      "NOTE: pick_channels() is a legacy function. New code should use inst.pick(...).\n",
      "Effective window size : 1.001 (s)\n",
      "iaf 11.0\n",
      "NOTE: pick_channels() is a legacy function. New code should use inst.pick(...).\n",
      "Effective window size : 1.001 (s)\n",
      "iaf 10.5\n",
      "NOTE: pick_channels() is a legacy function. New code should use inst.pick(...).\n",
      "Effective window size : 1.001 (s)\n",
      "iaf 9.75\n",
      "NOTE: pick_channels() is a legacy function. New code should use inst.pick(...).\n",
      "Effective window size : 1.001 (s)\n",
      "iaf 9.75\n",
      "NOTE: pick_channels() is a legacy function. New code should use inst.pick(...).\n",
      "Effective window size : 1.001 (s)\n",
      "iaf 9.75\n",
      "NOTE: pick_channels() is a legacy function. New code should use inst.pick(...).\n",
      "Effective window size : 1.001 (s)\n",
      "iaf 10.5\n",
      "NOTE: pick_channels() is a legacy function. New code should use inst.pick(...).\n",
      "Effective window size : 1.001 (s)\n",
      "iaf 10.0\n",
      "NOTE: pick_channels() is a legacy function. New code should use inst.pick(...).\n",
      "Effective window size : 1.001 (s)\n",
      "iaf 10.5\n",
      "NOTE: pick_channels() is a legacy function. New code should use inst.pick(...).\n",
      "Effective window size : 1.001 (s)\n",
      "iaf 10.0\n",
      "NOTE: pick_channels() is a legacy function. New code should use inst.pick(...).\n",
      "Effective window size : 1.001 (s)\n",
      "iaf 10.0\n",
      "NOTE: pick_channels() is a legacy function. New code should use inst.pick(...).\n",
      "Effective window size : 1.001 (s)\n",
      "iaf 9.75\n",
      "NOTE: pick_channels() is a legacy function. New code should use inst.pick(...).\n",
      "Effective window size : 1.001 (s)\n",
      "iaf 10.0\n",
      "NOTE: pick_channels() is a legacy function. New code should use inst.pick(...).\n",
      "Effective window size : 1.001 (s)\n",
      "iaf 10.25\n",
      "NOTE: pick_channels() is a legacy function. New code should use inst.pick(...).\n",
      "Effective window size : 1.001 (s)\n",
      "iaf 9.25\n",
      "NOTE: pick_channels() is a legacy function. New code should use inst.pick(...).\n",
      "Effective window size : 1.001 (s)\n",
      "iaf 9.75\n",
      "NOTE: pick_channels() is a legacy function. New code should use inst.pick(...).\n",
      "Effective window size : 1.001 (s)\n",
      "iaf 9.5\n",
      "NOTE: pick_channels() is a legacy function. New code should use inst.pick(...).\n",
      "Effective window size : 1.001 (s)\n",
      "iaf 10.0\n",
      "NOTE: pick_channels() is a legacy function. New code should use inst.pick(...).\n",
      "Effective window size : 1.001 (s)\n",
      "iaf 10.5\n",
      "NOTE: pick_channels() is a legacy function. New code should use inst.pick(...).\n",
      "Effective window size : 1.001 (s)\n",
      "iaf 10.0\n",
      "NOTE: pick_channels() is a legacy function. New code should use inst.pick(...).\n",
      "Effective window size : 1.001 (s)\n",
      "iaf 10.0\n",
      "NOTE: pick_channels() is a legacy function. New code should use inst.pick(...).\n",
      "Effective window size : 1.001 (s)\n",
      "iaf 9.75\n",
      "NOTE: pick_channels() is a legacy function. New code should use inst.pick(...).\n",
      "Effective window size : 1.001 (s)\n",
      "iaf 10.0\n",
      "NOTE: pick_channels() is a legacy function. New code should use inst.pick(...).\n",
      "Effective window size : 1.001 (s)\n",
      "iaf 9.25\n",
      "NOTE: pick_channels() is a legacy function. New code should use inst.pick(...).\n",
      "Effective window size : 1.001 (s)\n",
      "iaf 9.75\n",
      "NOTE: pick_channels() is a legacy function. New code should use inst.pick(...).\n",
      "Effective window size : 1.001 (s)\n",
      "iaf 9.5\n",
      "NOTE: pick_channels() is a legacy function. New code should use inst.pick(...).\n",
      "Effective window size : 1.001 (s)\n",
      "iaf 9.75\n",
      "NOTE: pick_channels() is a legacy function. New code should use inst.pick(...).\n",
      "Effective window size : 1.001 (s)\n",
      "iaf 10.0\n",
      "NOTE: pick_channels() is a legacy function. New code should use inst.pick(...).\n",
      "Effective window size : 1.001 (s)\n",
      "iaf 10.25\n",
      "NOTE: pick_channels() is a legacy function. New code should use inst.pick(...).\n",
      "Effective window size : 1.001 (s)\n",
      "iaf 10.0\n",
      "NOTE: pick_channels() is a legacy function. New code should use inst.pick(...).\n",
      "Effective window size : 1.001 (s)\n",
      "iaf 10.25\n",
      "NOTE: pick_channels() is a legacy function. New code should use inst.pick(...).\n",
      "Effective window size : 1.001 (s)\n",
      "iaf 10.0\n",
      "NOTE: pick_channels() is a legacy function. New code should use inst.pick(...).\n",
      "Effective window size : 1.001 (s)\n",
      "iaf 9.75\n",
      "NOTE: pick_channels() is a legacy function. New code should use inst.pick(...).\n",
      "Effective window size : 1.001 (s)\n",
      "iaf 10.25\n",
      "NOTE: pick_channels() is a legacy function. New code should use inst.pick(...).\n",
      "Effective window size : 1.001 (s)\n",
      "iaf 10.0\n",
      "NOTE: pick_channels() is a legacy function. New code should use inst.pick(...).\n",
      "Effective window size : 1.001 (s)\n",
      "iaf 10.25\n",
      "NOTE: pick_channels() is a legacy function. New code should use inst.pick(...).\n",
      "Effective window size : 1.001 (s)\n",
      "iaf 10.0\n",
      "NOTE: pick_channels() is a legacy function. New code should use inst.pick(...).\n",
      "Effective window size : 1.001 (s)\n",
      "iaf 10.5\n",
      "NOTE: pick_channels() is a legacy function. New code should use inst.pick(...).\n",
      "Effective window size : 1.001 (s)\n",
      "iaf 10.0\n",
      "NOTE: pick_channels() is a legacy function. New code should use inst.pick(...).\n",
      "Effective window size : 1.001 (s)\n",
      "iaf 10.0\n",
      "NOTE: pick_channels() is a legacy function. New code should use inst.pick(...).\n",
      "Effective window size : 1.001 (s)\n",
      "iaf 9.75\n",
      "NOTE: pick_channels() is a legacy function. New code should use inst.pick(...).\n",
      "Effective window size : 1.001 (s)\n",
      "iaf 10.0\n",
      "NOTE: pick_channels() is a legacy function. New code should use inst.pick(...).\n",
      "Effective window size : 1.001 (s)\n",
      "iaf 9.25\n",
      "NOTE: pick_channels() is a legacy function. New code should use inst.pick(...).\n",
      "Effective window size : 1.001 (s)\n",
      "iaf 9.75\n",
      "NOTE: pick_channels() is a legacy function. New code should use inst.pick(...).\n",
      "Effective window size : 1.001 (s)\n",
      "iaf 9.5\n",
      "NOTE: pick_channels() is a legacy function. New code should use inst.pick(...).\n",
      "Effective window size : 1.001 (s)\n",
      "iaf 9.75\n",
      "NOTE: pick_channels() is a legacy function. New code should use inst.pick(...).\n",
      "Effective window size : 1.001 (s)\n",
      "iaf 10.5\n",
      "NOTE: pick_channels() is a legacy function. New code should use inst.pick(...).\n",
      "Effective window size : 1.001 (s)\n",
      "iaf 9.0\n",
      "NOTE: pick_channels() is a legacy function. New code should use inst.pick(...).\n",
      "Effective window size : 1.001 (s)\n",
      "iaf 10.0\n",
      "NOTE: pick_channels() is a legacy function. New code should use inst.pick(...).\n",
      "Effective window size : 1.001 (s)\n",
      "iaf 10.5\n",
      "NOTE: pick_channels() is a legacy function. New code should use inst.pick(...).\n",
      "Effective window size : 1.001 (s)\n",
      "iaf 10.5\n",
      "NOTE: pick_channels() is a legacy function. New code should use inst.pick(...).\n",
      "Effective window size : 1.001 (s)\n",
      "iaf 11.0\n",
      "NOTE: pick_channels() is a legacy function. New code should use inst.pick(...).\n",
      "Effective window size : 1.001 (s)\n",
      "iaf 8.75\n",
      "NOTE: pick_channels() is a legacy function. New code should use inst.pick(...).\n",
      "Effective window size : 1.001 (s)\n",
      "iaf 10.5\n",
      "NOTE: pick_channels() is a legacy function. New code should use inst.pick(...).\n",
      "Effective window size : 1.001 (s)\n",
      "iaf 10.75\n",
      "NOTE: pick_channels() is a legacy function. New code should use inst.pick(...).\n",
      "Effective window size : 1.001 (s)\n",
      "iaf 10.25\n",
      "NOTE: pick_channels() is a legacy function. New code should use inst.pick(...).\n",
      "Effective window size : 1.001 (s)\n",
      "iaf 10.75\n",
      "NOTE: pick_channels() is a legacy function. New code should use inst.pick(...).\n",
      "Effective window size : 1.001 (s)\n",
      "iaf 8.5\n",
      "NOTE: pick_channels() is a legacy function. New code should use inst.pick(...).\n",
      "Effective window size : 1.001 (s)\n",
      "iaf 11.0\n",
      "NOTE: pick_channels() is a legacy function. New code should use inst.pick(...).\n",
      "Effective window size : 1.001 (s)\n",
      "iaf 10.25\n",
      "NOTE: pick_channels() is a legacy function. New code should use inst.pick(...).\n",
      "Effective window size : 1.001 (s)\n",
      "iaf 11.0\n",
      "NOTE: pick_channels() is a legacy function. New code should use inst.pick(...).\n",
      "Effective window size : 1.001 (s)\n",
      "iaf 10.5\n",
      "NOTE: pick_channels() is a legacy function. New code should use inst.pick(...).\n",
      "Effective window size : 1.001 (s)\n",
      "iaf 9.75\n",
      "NOTE: pick_channels() is a legacy function. New code should use inst.pick(...).\n",
      "Effective window size : 1.001 (s)\n",
      "iaf 9.75\n",
      "NOTE: pick_channels() is a legacy function. New code should use inst.pick(...).\n",
      "Effective window size : 1.001 (s)\n",
      "iaf 9.75\n",
      "NOTE: pick_channels() is a legacy function. New code should use inst.pick(...).\n",
      "Effective window size : 1.001 (s)\n",
      "iaf 10.5\n",
      "NOTE: pick_channels() is a legacy function. New code should use inst.pick(...).\n",
      "Effective window size : 1.001 (s)\n",
      "iaf 9.75\n",
      "NOTE: pick_channels() is a legacy function. New code should use inst.pick(...).\n",
      "Effective window size : 1.001 (s)\n",
      "iaf 9.0\n",
      "NOTE: pick_channels() is a legacy function. New code should use inst.pick(...).\n",
      "Effective window size : 1.001 (s)\n",
      "iaf 10.0\n",
      "NOTE: pick_channels() is a legacy function. New code should use inst.pick(...).\n",
      "Effective window size : 1.001 (s)\n",
      "iaf 10.75\n",
      "NOTE: pick_channels() is a legacy function. New code should use inst.pick(...).\n",
      "Effective window size : 1.001 (s)\n",
      "iaf 10.5\n",
      "NOTE: pick_channels() is a legacy function. New code should use inst.pick(...).\n",
      "Effective window size : 1.001 (s)\n",
      "iaf 11.0\n",
      "NOTE: pick_channels() is a legacy function. New code should use inst.pick(...).\n",
      "Effective window size : 1.001 (s)\n",
      "iaf 8.75\n",
      "NOTE: pick_channels() is a legacy function. New code should use inst.pick(...).\n",
      "Effective window size : 1.001 (s)\n",
      "iaf 10.5\n",
      "NOTE: pick_channels() is a legacy function. New code should use inst.pick(...).\n",
      "Effective window size : 1.001 (s)\n",
      "iaf 10.75\n",
      "NOTE: pick_channels() is a legacy function. New code should use inst.pick(...).\n",
      "Effective window size : 1.001 (s)\n",
      "iaf 10.25\n",
      "NOTE: pick_channels() is a legacy function. New code should use inst.pick(...).\n",
      "Effective window size : 1.001 (s)\n",
      "iaf 10.75\n",
      "NOTE: pick_channels() is a legacy function. New code should use inst.pick(...).\n",
      "Effective window size : 1.001 (s)\n",
      "iaf 8.5\n",
      "NOTE: pick_channels() is a legacy function. New code should use inst.pick(...).\n",
      "Effective window size : 1.001 (s)\n",
      "iaf 11.0\n",
      "NOTE: pick_channels() is a legacy function. New code should use inst.pick(...).\n",
      "Effective window size : 1.001 (s)\n",
      "iaf 10.25\n",
      "NOTE: pick_channels() is a legacy function. New code should use inst.pick(...).\n",
      "Effective window size : 1.001 (s)\n",
      "iaf 11.0\n",
      "NOTE: pick_channels() is a legacy function. New code should use inst.pick(...).\n",
      "Effective window size : 1.001 (s)\n",
      "iaf 10.5\n",
      "NOTE: pick_channels() is a legacy function. New code should use inst.pick(...).\n",
      "Effective window size : 1.001 (s)\n",
      "iaf 9.75\n",
      "NOTE: pick_channels() is a legacy function. New code should use inst.pick(...).\n",
      "Effective window size : 1.001 (s)\n",
      "iaf 9.75\n",
      "NOTE: pick_channels() is a legacy function. New code should use inst.pick(...).\n",
      "Effective window size : 1.001 (s)\n",
      "iaf 9.75\n",
      "NOTE: pick_channels() is a legacy function. New code should use inst.pick(...).\n",
      "Effective window size : 1.001 (s)\n",
      "iaf 10.5\n",
      "NOTE: pick_channels() is a legacy function. New code should use inst.pick(...).\n",
      "Effective window size : 1.001 (s)\n",
      "iaf 10.0\n",
      "NOTE: pick_channels() is a legacy function. New code should use inst.pick(...).\n",
      "Effective window size : 1.001 (s)\n",
      "iaf 10.5\n",
      "NOTE: pick_channels() is a legacy function. New code should use inst.pick(...).\n",
      "Effective window size : 1.001 (s)\n",
      "iaf 10.0\n",
      "NOTE: pick_channels() is a legacy function. New code should use inst.pick(...).\n",
      "Effective window size : 1.001 (s)\n",
      "iaf 10.0\n",
      "NOTE: pick_channels() is a legacy function. New code should use inst.pick(...).\n",
      "Effective window size : 1.001 (s)\n",
      "iaf 9.75\n",
      "NOTE: pick_channels() is a legacy function. New code should use inst.pick(...).\n",
      "Effective window size : 1.001 (s)\n",
      "iaf 10.0\n",
      "NOTE: pick_channels() is a legacy function. New code should use inst.pick(...).\n",
      "Effective window size : 1.001 (s)\n",
      "iaf 10.25\n",
      "NOTE: pick_channels() is a legacy function. New code should use inst.pick(...).\n",
      "Effective window size : 1.001 (s)\n",
      "iaf 9.25\n",
      "NOTE: pick_channels() is a legacy function. New code should use inst.pick(...).\n",
      "Effective window size : 1.001 (s)\n",
      "iaf 9.75\n",
      "NOTE: pick_channels() is a legacy function. New code should use inst.pick(...).\n",
      "Effective window size : 1.001 (s)\n",
      "iaf 9.5\n",
      "NOTE: pick_channels() is a legacy function. New code should use inst.pick(...).\n",
      "Effective window size : 1.001 (s)\n",
      "iaf 10.0\n",
      "NOTE: pick_channels() is a legacy function. New code should use inst.pick(...).\n",
      "Effective window size : 1.001 (s)\n",
      "iaf 10.5\n",
      "NOTE: pick_channels() is a legacy function. New code should use inst.pick(...).\n",
      "Effective window size : 1.001 (s)\n",
      "iaf 10.0\n",
      "NOTE: pick_channels() is a legacy function. New code should use inst.pick(...).\n",
      "Effective window size : 1.001 (s)\n",
      "iaf 10.0\n",
      "NOTE: pick_channels() is a legacy function. New code should use inst.pick(...).\n",
      "Effective window size : 1.001 (s)\n",
      "iaf 9.75\n",
      "NOTE: pick_channels() is a legacy function. New code should use inst.pick(...).\n",
      "Effective window size : 1.001 (s)\n",
      "iaf 10.0\n",
      "NOTE: pick_channels() is a legacy function. New code should use inst.pick(...).\n",
      "Effective window size : 1.001 (s)\n",
      "iaf 9.25\n",
      "NOTE: pick_channels() is a legacy function. New code should use inst.pick(...).\n",
      "Effective window size : 1.001 (s)\n",
      "iaf 9.75\n",
      "NOTE: pick_channels() is a legacy function. New code should use inst.pick(...).\n",
      "Effective window size : 1.001 (s)\n",
      "iaf 9.5\n",
      "NOTE: pick_channels() is a legacy function. New code should use inst.pick(...).\n",
      "Effective window size : 1.001 (s)\n",
      "iaf 9.75\n",
      "NOTE: pick_channels() is a legacy function. New code should use inst.pick(...).\n",
      "Effective window size : 1.001 (s)\n",
      "iaf 10.0\n",
      "NOTE: pick_channels() is a legacy function. New code should use inst.pick(...).\n",
      "Effective window size : 1.001 (s)\n",
      "iaf 10.25\n",
      "NOTE: pick_channels() is a legacy function. New code should use inst.pick(...).\n",
      "Effective window size : 1.001 (s)\n",
      "iaf 10.0\n",
      "NOTE: pick_channels() is a legacy function. New code should use inst.pick(...).\n",
      "Effective window size : 1.001 (s)\n",
      "iaf 10.25\n",
      "NOTE: pick_channels() is a legacy function. New code should use inst.pick(...).\n",
      "Effective window size : 1.001 (s)\n",
      "iaf 10.0\n",
      "NOTE: pick_channels() is a legacy function. New code should use inst.pick(...).\n",
      "Effective window size : 1.001 (s)\n",
      "iaf 9.75\n",
      "NOTE: pick_channels() is a legacy function. New code should use inst.pick(...).\n",
      "Effective window size : 1.001 (s)\n",
      "iaf 10.25\n",
      "NOTE: pick_channels() is a legacy function. New code should use inst.pick(...).\n",
      "Effective window size : 1.001 (s)\n",
      "iaf 10.0\n",
      "NOTE: pick_channels() is a legacy function. New code should use inst.pick(...).\n",
      "Effective window size : 1.001 (s)\n",
      "iaf 10.25\n",
      "NOTE: pick_channels() is a legacy function. New code should use inst.pick(...).\n",
      "Effective window size : 1.001 (s)\n",
      "iaf 10.0\n",
      "NOTE: pick_channels() is a legacy function. New code should use inst.pick(...).\n",
      "Effective window size : 1.001 (s)\n",
      "iaf 10.5\n",
      "NOTE: pick_channels() is a legacy function. New code should use inst.pick(...).\n",
      "Effective window size : 1.001 (s)\n",
      "iaf 10.0\n",
      "NOTE: pick_channels() is a legacy function. New code should use inst.pick(...).\n",
      "Effective window size : 1.001 (s)\n",
      "iaf 10.0\n",
      "NOTE: pick_channels() is a legacy function. New code should use inst.pick(...).\n",
      "Effective window size : 1.001 (s)\n",
      "iaf 9.75\n",
      "NOTE: pick_channels() is a legacy function. New code should use inst.pick(...).\n",
      "Effective window size : 1.001 (s)\n",
      "iaf 10.0\n",
      "NOTE: pick_channels() is a legacy function. New code should use inst.pick(...).\n",
      "Effective window size : 1.001 (s)\n",
      "iaf 9.25\n",
      "NOTE: pick_channels() is a legacy function. New code should use inst.pick(...).\n",
      "Effective window size : 1.001 (s)\n",
      "iaf 9.75\n",
      "NOTE: pick_channels() is a legacy function. New code should use inst.pick(...).\n",
      "Effective window size : 1.001 (s)\n",
      "iaf 9.5\n",
      "NOTE: pick_channels() is a legacy function. New code should use inst.pick(...).\n",
      "Effective window size : 1.001 (s)\n",
      "iaf 9.75\n",
      "NOTE: pick_channels() is a legacy function. New code should use inst.pick(...).\n",
      "Effective window size : 1.001 (s)\n",
      "iaf 10.5\n",
      "NOTE: pick_channels() is a legacy function. New code should use inst.pick(...).\n",
      "Effective window size : 1.001 (s)\n",
      "iaf 9.0\n",
      "NOTE: pick_channels() is a legacy function. New code should use inst.pick(...).\n",
      "Effective window size : 1.001 (s)\n",
      "iaf 10.0\n",
      "NOTE: pick_channels() is a legacy function. New code should use inst.pick(...).\n",
      "Effective window size : 1.001 (s)\n",
      "iaf 10.5\n",
      "NOTE: pick_channels() is a legacy function. New code should use inst.pick(...).\n",
      "Effective window size : 1.001 (s)\n",
      "iaf 10.5\n",
      "NOTE: pick_channels() is a legacy function. New code should use inst.pick(...).\n",
      "Effective window size : 1.001 (s)\n",
      "iaf 11.0\n",
      "NOTE: pick_channels() is a legacy function. New code should use inst.pick(...).\n",
      "Effective window size : 1.001 (s)\n",
      "iaf 8.75\n",
      "NOTE: pick_channels() is a legacy function. New code should use inst.pick(...).\n",
      "Effective window size : 1.001 (s)\n",
      "iaf 10.5\n",
      "NOTE: pick_channels() is a legacy function. New code should use inst.pick(...).\n",
      "Effective window size : 1.001 (s)\n",
      "iaf 10.75\n",
      "NOTE: pick_channels() is a legacy function. New code should use inst.pick(...).\n",
      "Effective window size : 1.001 (s)\n",
      "iaf 10.25\n",
      "NOTE: pick_channels() is a legacy function. New code should use inst.pick(...).\n",
      "Effective window size : 1.001 (s)\n",
      "iaf 10.75\n",
      "NOTE: pick_channels() is a legacy function. New code should use inst.pick(...).\n",
      "Effective window size : 1.001 (s)\n",
      "iaf 8.5\n",
      "NOTE: pick_channels() is a legacy function. New code should use inst.pick(...).\n",
      "Effective window size : 1.001 (s)\n",
      "iaf 11.0\n",
      "NOTE: pick_channels() is a legacy function. New code should use inst.pick(...).\n",
      "Effective window size : 1.001 (s)\n",
      "iaf 10.25\n",
      "NOTE: pick_channels() is a legacy function. New code should use inst.pick(...).\n",
      "Effective window size : 1.001 (s)\n",
      "iaf 11.0\n",
      "NOTE: pick_channels() is a legacy function. New code should use inst.pick(...).\n",
      "Effective window size : 1.001 (s)\n",
      "iaf 10.5\n",
      "NOTE: pick_channels() is a legacy function. New code should use inst.pick(...).\n",
      "Effective window size : 1.001 (s)\n",
      "iaf 9.75\n",
      "NOTE: pick_channels() is a legacy function. New code should use inst.pick(...).\n",
      "Effective window size : 1.001 (s)\n",
      "iaf 9.75\n",
      "NOTE: pick_channels() is a legacy function. New code should use inst.pick(...).\n",
      "Effective window size : 1.001 (s)\n",
      "iaf 9.75\n",
      "NOTE: pick_channels() is a legacy function. New code should use inst.pick(...).\n",
      "Effective window size : 1.001 (s)\n",
      "iaf 10.5\n",
      "NOTE: pick_channels() is a legacy function. New code should use inst.pick(...).\n",
      "Effective window size : 1.001 (s)\n",
      "iaf 9.75\n",
      "NOTE: pick_channels() is a legacy function. New code should use inst.pick(...).\n",
      "Effective window size : 1.001 (s)\n",
      "iaf 9.0\n",
      "NOTE: pick_channels() is a legacy function. New code should use inst.pick(...).\n",
      "Effective window size : 1.001 (s)\n",
      "iaf 10.0\n",
      "NOTE: pick_channels() is a legacy function. New code should use inst.pick(...).\n",
      "Effective window size : 1.001 (s)\n",
      "iaf 10.75\n",
      "NOTE: pick_channels() is a legacy function. New code should use inst.pick(...).\n",
      "Effective window size : 1.001 (s)\n",
      "iaf 10.5\n",
      "NOTE: pick_channels() is a legacy function. New code should use inst.pick(...).\n",
      "Effective window size : 1.001 (s)\n",
      "iaf 11.0\n",
      "NOTE: pick_channels() is a legacy function. New code should use inst.pick(...).\n",
      "Effective window size : 1.001 (s)\n",
      "iaf 8.75\n",
      "NOTE: pick_channels() is a legacy function. New code should use inst.pick(...).\n",
      "Effective window size : 1.001 (s)\n",
      "iaf 10.5\n",
      "NOTE: pick_channels() is a legacy function. New code should use inst.pick(...).\n",
      "Effective window size : 1.001 (s)\n",
      "iaf 10.75\n",
      "NOTE: pick_channels() is a legacy function. New code should use inst.pick(...).\n",
      "Effective window size : 1.001 (s)\n",
      "iaf 10.25\n",
      "NOTE: pick_channels() is a legacy function. New code should use inst.pick(...).\n",
      "Effective window size : 1.001 (s)\n",
      "iaf 10.75\n",
      "NOTE: pick_channels() is a legacy function. New code should use inst.pick(...).\n",
      "Effective window size : 1.001 (s)\n",
      "iaf 8.5\n",
      "NOTE: pick_channels() is a legacy function. New code should use inst.pick(...).\n",
      "Effective window size : 1.001 (s)\n",
      "iaf 11.0\n",
      "NOTE: pick_channels() is a legacy function. New code should use inst.pick(...).\n",
      "Effective window size : 1.001 (s)\n",
      "iaf 10.25\n",
      "NOTE: pick_channels() is a legacy function. New code should use inst.pick(...).\n",
      "Effective window size : 1.001 (s)\n",
      "iaf 11.0\n",
      "NOTE: pick_channels() is a legacy function. New code should use inst.pick(...).\n",
      "Effective window size : 1.001 (s)\n",
      "iaf 10.5\n",
      "NOTE: pick_channels() is a legacy function. New code should use inst.pick(...).\n",
      "Effective window size : 1.001 (s)\n",
      "iaf 9.75\n",
      "NOTE: pick_channels() is a legacy function. New code should use inst.pick(...).\n",
      "Effective window size : 1.001 (s)\n",
      "iaf 9.75\n",
      "NOTE: pick_channels() is a legacy function. New code should use inst.pick(...).\n",
      "Effective window size : 1.001 (s)\n",
      "iaf 9.75\n",
      "NOTE: pick_channels() is a legacy function. New code should use inst.pick(...).\n",
      "Effective window size : 1.001 (s)\n",
      "iaf 10.5\n",
      "NOTE: pick_channels() is a legacy function. New code should use inst.pick(...).\n",
      "Effective window size : 1.001 (s)\n",
      "iaf 10.0\n",
      "NOTE: pick_channels() is a legacy function. New code should use inst.pick(...).\n",
      "Effective window size : 1.001 (s)\n",
      "iaf 10.5\n",
      "NOTE: pick_channels() is a legacy function. New code should use inst.pick(...).\n",
      "Effective window size : 1.001 (s)\n",
      "iaf 10.0\n",
      "NOTE: pick_channels() is a legacy function. New code should use inst.pick(...).\n",
      "Effective window size : 1.001 (s)\n",
      "iaf 10.0\n",
      "NOTE: pick_channels() is a legacy function. New code should use inst.pick(...).\n",
      "Effective window size : 1.001 (s)\n",
      "iaf 9.75\n",
      "NOTE: pick_channels() is a legacy function. New code should use inst.pick(...).\n",
      "Effective window size : 1.001 (s)\n",
      "iaf 10.0\n",
      "NOTE: pick_channels() is a legacy function. New code should use inst.pick(...).\n",
      "Effective window size : 1.001 (s)\n",
      "iaf 10.25\n",
      "NOTE: pick_channels() is a legacy function. New code should use inst.pick(...).\n",
      "Effective window size : 1.001 (s)\n",
      "iaf 9.25\n",
      "NOTE: pick_channels() is a legacy function. New code should use inst.pick(...).\n",
      "Effective window size : 1.001 (s)\n",
      "iaf 9.75\n",
      "NOTE: pick_channels() is a legacy function. New code should use inst.pick(...).\n",
      "Effective window size : 1.001 (s)\n",
      "iaf 9.5\n",
      "NOTE: pick_channels() is a legacy function. New code should use inst.pick(...).\n",
      "Effective window size : 1.001 (s)\n",
      "iaf 10.0\n",
      "NOTE: pick_channels() is a legacy function. New code should use inst.pick(...).\n",
      "Effective window size : 1.001 (s)\n",
      "iaf 10.5\n",
      "NOTE: pick_channels() is a legacy function. New code should use inst.pick(...).\n",
      "Effective window size : 1.001 (s)\n",
      "iaf 10.0\n",
      "NOTE: pick_channels() is a legacy function. New code should use inst.pick(...).\n",
      "Effective window size : 1.001 (s)\n",
      "iaf 10.0\n",
      "NOTE: pick_channels() is a legacy function. New code should use inst.pick(...).\n",
      "Effective window size : 1.001 (s)\n",
      "iaf 9.75\n",
      "NOTE: pick_channels() is a legacy function. New code should use inst.pick(...).\n",
      "Effective window size : 1.001 (s)\n",
      "iaf 10.0\n",
      "NOTE: pick_channels() is a legacy function. New code should use inst.pick(...).\n",
      "Effective window size : 1.001 (s)\n",
      "iaf 9.25\n",
      "NOTE: pick_channels() is a legacy function. New code should use inst.pick(...).\n",
      "Effective window size : 1.001 (s)\n",
      "iaf 9.75\n",
      "NOTE: pick_channels() is a legacy function. New code should use inst.pick(...).\n",
      "Effective window size : 1.001 (s)\n",
      "iaf 9.5\n",
      "NOTE: pick_channels() is a legacy function. New code should use inst.pick(...).\n",
      "Effective window size : 1.001 (s)\n",
      "iaf 9.75\n",
      "NOTE: pick_channels() is a legacy function. New code should use inst.pick(...).\n",
      "Effective window size : 1.001 (s)\n",
      "iaf 10.0\n",
      "NOTE: pick_channels() is a legacy function. New code should use inst.pick(...).\n",
      "Effective window size : 1.001 (s)\n",
      "iaf 10.25\n",
      "NOTE: pick_channels() is a legacy function. New code should use inst.pick(...).\n",
      "Effective window size : 1.001 (s)\n",
      "iaf 10.0\n",
      "NOTE: pick_channels() is a legacy function. New code should use inst.pick(...).\n",
      "Effective window size : 1.001 (s)\n",
      "iaf 10.25\n",
      "NOTE: pick_channels() is a legacy function. New code should use inst.pick(...).\n",
      "Effective window size : 1.001 (s)\n",
      "iaf 10.0\n",
      "NOTE: pick_channels() is a legacy function. New code should use inst.pick(...).\n",
      "Effective window size : 1.001 (s)\n",
      "iaf 9.75\n",
      "NOTE: pick_channels() is a legacy function. New code should use inst.pick(...).\n",
      "Effective window size : 1.001 (s)\n",
      "iaf 10.25\n",
      "NOTE: pick_channels() is a legacy function. New code should use inst.pick(...).\n",
      "Effective window size : 1.001 (s)\n",
      "iaf 10.0\n",
      "NOTE: pick_channels() is a legacy function. New code should use inst.pick(...).\n",
      "Effective window size : 1.001 (s)\n",
      "iaf 10.25\n",
      "NOTE: pick_channels() is a legacy function. New code should use inst.pick(...).\n",
      "Effective window size : 1.001 (s)\n",
      "iaf 10.0\n",
      "NOTE: pick_channels() is a legacy function. New code should use inst.pick(...).\n",
      "Effective window size : 1.001 (s)\n",
      "iaf 10.5\n",
      "NOTE: pick_channels() is a legacy function. New code should use inst.pick(...).\n",
      "Effective window size : 1.001 (s)\n",
      "iaf 10.0\n",
      "NOTE: pick_channels() is a legacy function. New code should use inst.pick(...).\n",
      "Effective window size : 1.001 (s)\n",
      "iaf 10.0\n",
      "NOTE: pick_channels() is a legacy function. New code should use inst.pick(...).\n",
      "Effective window size : 1.001 (s)\n",
      "iaf 9.75\n",
      "NOTE: pick_channels() is a legacy function. New code should use inst.pick(...).\n",
      "Effective window size : 1.001 (s)\n",
      "iaf 10.0\n",
      "NOTE: pick_channels() is a legacy function. New code should use inst.pick(...).\n",
      "Effective window size : 1.001 (s)\n",
      "iaf 9.25\n",
      "NOTE: pick_channels() is a legacy function. New code should use inst.pick(...).\n",
      "Effective window size : 1.001 (s)\n",
      "iaf 9.75\n",
      "NOTE: pick_channels() is a legacy function. New code should use inst.pick(...).\n",
      "Effective window size : 1.001 (s)\n",
      "iaf 9.5\n",
      "NOTE: pick_channels() is a legacy function. New code should use inst.pick(...).\n",
      "Effective window size : 1.001 (s)\n",
      "iaf 9.75\n",
      "NOTE: pick_channels() is a legacy function. New code should use inst.pick(...).\n",
      "Effective window size : 1.001 (s)\n",
      "iaf 10.5\n",
      "NOTE: pick_channels() is a legacy function. New code should use inst.pick(...).\n",
      "Effective window size : 1.001 (s)\n",
      "iaf 9.0\n",
      "NOTE: pick_channels() is a legacy function. New code should use inst.pick(...).\n",
      "Effective window size : 1.001 (s)\n",
      "iaf 10.0\n",
      "NOTE: pick_channels() is a legacy function. New code should use inst.pick(...).\n",
      "Effective window size : 1.001 (s)\n",
      "iaf 10.5\n",
      "NOTE: pick_channels() is a legacy function. New code should use inst.pick(...).\n",
      "Effective window size : 1.001 (s)\n",
      "iaf 10.5\n",
      "NOTE: pick_channels() is a legacy function. New code should use inst.pick(...).\n",
      "Effective window size : 1.001 (s)\n",
      "iaf 11.0\n",
      "NOTE: pick_channels() is a legacy function. New code should use inst.pick(...).\n",
      "Effective window size : 1.001 (s)\n",
      "iaf 8.75\n",
      "NOTE: pick_channels() is a legacy function. New code should use inst.pick(...).\n",
      "Effective window size : 1.001 (s)\n",
      "iaf 10.5\n",
      "NOTE: pick_channels() is a legacy function. New code should use inst.pick(...).\n",
      "Effective window size : 1.001 (s)\n",
      "iaf 10.75\n",
      "NOTE: pick_channels() is a legacy function. New code should use inst.pick(...).\n",
      "Effective window size : 1.001 (s)\n",
      "iaf 10.25\n",
      "NOTE: pick_channels() is a legacy function. New code should use inst.pick(...).\n",
      "Effective window size : 1.001 (s)\n",
      "iaf 10.75\n",
      "NOTE: pick_channels() is a legacy function. New code should use inst.pick(...).\n",
      "Effective window size : 1.001 (s)\n",
      "iaf 8.5\n",
      "NOTE: pick_channels() is a legacy function. New code should use inst.pick(...).\n",
      "Effective window size : 1.001 (s)\n",
      "iaf 11.0\n",
      "NOTE: pick_channels() is a legacy function. New code should use inst.pick(...).\n",
      "Effective window size : 1.001 (s)\n",
      "iaf 10.25\n",
      "NOTE: pick_channels() is a legacy function. New code should use inst.pick(...).\n",
      "Effective window size : 1.001 (s)\n",
      "iaf 11.0\n",
      "NOTE: pick_channels() is a legacy function. New code should use inst.pick(...).\n",
      "Effective window size : 1.001 (s)\n",
      "iaf 10.5\n",
      "NOTE: pick_channels() is a legacy function. New code should use inst.pick(...).\n",
      "Effective window size : 1.001 (s)\n",
      "iaf 9.75\n",
      "NOTE: pick_channels() is a legacy function. New code should use inst.pick(...).\n",
      "Effective window size : 1.001 (s)\n",
      "iaf 9.75\n",
      "NOTE: pick_channels() is a legacy function. New code should use inst.pick(...).\n",
      "Effective window size : 1.001 (s)\n",
      "iaf 9.75\n",
      "NOTE: pick_channels() is a legacy function. New code should use inst.pick(...).\n",
      "Effective window size : 1.001 (s)\n",
      "iaf 10.5\n",
      "NOTE: pick_channels() is a legacy function. New code should use inst.pick(...).\n",
      "Effective window size : 1.001 (s)\n",
      "iaf 9.75\n",
      "NOTE: pick_channels() is a legacy function. New code should use inst.pick(...).\n",
      "Effective window size : 1.001 (s)\n",
      "iaf 9.0\n",
      "NOTE: pick_channels() is a legacy function. New code should use inst.pick(...).\n",
      "Effective window size : 1.001 (s)\n",
      "iaf 10.0\n",
      "NOTE: pick_channels() is a legacy function. New code should use inst.pick(...).\n",
      "Effective window size : 1.001 (s)\n",
      "iaf 10.75\n",
      "NOTE: pick_channels() is a legacy function. New code should use inst.pick(...).\n",
      "Effective window size : 1.001 (s)\n",
      "iaf 10.5\n",
      "NOTE: pick_channels() is a legacy function. New code should use inst.pick(...).\n",
      "Effective window size : 1.001 (s)\n",
      "iaf 11.0\n",
      "NOTE: pick_channels() is a legacy function. New code should use inst.pick(...).\n",
      "Effective window size : 1.001 (s)\n",
      "iaf 8.75\n",
      "NOTE: pick_channels() is a legacy function. New code should use inst.pick(...).\n",
      "Effective window size : 1.001 (s)\n",
      "iaf 10.5\n",
      "NOTE: pick_channels() is a legacy function. New code should use inst.pick(...).\n",
      "Effective window size : 1.001 (s)\n",
      "iaf 10.75\n",
      "NOTE: pick_channels() is a legacy function. New code should use inst.pick(...).\n",
      "Effective window size : 1.001 (s)\n",
      "iaf 10.25\n",
      "NOTE: pick_channels() is a legacy function. New code should use inst.pick(...).\n",
      "Effective window size : 1.001 (s)\n",
      "iaf 10.75\n",
      "NOTE: pick_channels() is a legacy function. New code should use inst.pick(...).\n",
      "Effective window size : 1.001 (s)\n",
      "iaf 8.5\n",
      "NOTE: pick_channels() is a legacy function. New code should use inst.pick(...).\n",
      "Effective window size : 1.001 (s)\n",
      "iaf 11.0\n",
      "NOTE: pick_channels() is a legacy function. New code should use inst.pick(...).\n",
      "Effective window size : 1.001 (s)\n",
      "iaf 10.25\n",
      "NOTE: pick_channels() is a legacy function. New code should use inst.pick(...).\n",
      "Effective window size : 1.001 (s)\n",
      "iaf 11.0\n",
      "NOTE: pick_channels() is a legacy function. New code should use inst.pick(...).\n",
      "Effective window size : 1.001 (s)\n",
      "iaf 10.5\n",
      "NOTE: pick_channels() is a legacy function. New code should use inst.pick(...).\n",
      "Effective window size : 1.001 (s)\n",
      "iaf 9.75\n",
      "NOTE: pick_channels() is a legacy function. New code should use inst.pick(...).\n",
      "Effective window size : 1.001 (s)\n",
      "iaf 9.75\n",
      "NOTE: pick_channels() is a legacy function. New code should use inst.pick(...).\n",
      "Effective window size : 1.001 (s)\n",
      "iaf 9.75\n",
      "NOTE: pick_channels() is a legacy function. New code should use inst.pick(...).\n",
      "Effective window size : 1.001 (s)\n",
      "iaf 10.5\n",
      "NOTE: pick_channels() is a legacy function. New code should use inst.pick(...).\n",
      "Effective window size : 1.001 (s)\n",
      "iaf 10.0\n",
      "NOTE: pick_channels() is a legacy function. New code should use inst.pick(...).\n",
      "Effective window size : 1.001 (s)\n",
      "iaf 10.5\n",
      "NOTE: pick_channels() is a legacy function. New code should use inst.pick(...).\n",
      "Effective window size : 1.001 (s)\n",
      "iaf 10.0\n",
      "NOTE: pick_channels() is a legacy function. New code should use inst.pick(...).\n",
      "Effective window size : 1.001 (s)\n",
      "iaf 10.0\n",
      "NOTE: pick_channels() is a legacy function. New code should use inst.pick(...).\n",
      "Effective window size : 1.001 (s)\n",
      "iaf 9.75\n",
      "NOTE: pick_channels() is a legacy function. New code should use inst.pick(...).\n",
      "Effective window size : 1.001 (s)\n",
      "iaf 10.0\n",
      "NOTE: pick_channels() is a legacy function. New code should use inst.pick(...).\n",
      "Effective window size : 1.001 (s)\n",
      "iaf 10.25\n",
      "NOTE: pick_channels() is a legacy function. New code should use inst.pick(...).\n",
      "Effective window size : 1.001 (s)\n",
      "iaf 9.25\n",
      "NOTE: pick_channels() is a legacy function. New code should use inst.pick(...).\n",
      "Effective window size : 1.001 (s)\n",
      "iaf 9.75\n",
      "NOTE: pick_channels() is a legacy function. New code should use inst.pick(...).\n",
      "Effective window size : 1.001 (s)\n",
      "iaf 9.5\n",
      "NOTE: pick_channels() is a legacy function. New code should use inst.pick(...).\n",
      "Effective window size : 1.001 (s)\n",
      "iaf 10.0\n",
      "NOTE: pick_channels() is a legacy function. New code should use inst.pick(...).\n",
      "Effective window size : 1.001 (s)\n",
      "iaf 10.5\n",
      "NOTE: pick_channels() is a legacy function. New code should use inst.pick(...).\n",
      "Effective window size : 1.001 (s)\n",
      "iaf 10.0\n",
      "NOTE: pick_channels() is a legacy function. New code should use inst.pick(...).\n",
      "Effective window size : 1.001 (s)\n",
      "iaf 10.0\n",
      "NOTE: pick_channels() is a legacy function. New code should use inst.pick(...).\n",
      "Effective window size : 1.001 (s)\n",
      "iaf 9.75\n",
      "NOTE: pick_channels() is a legacy function. New code should use inst.pick(...).\n",
      "Effective window size : 1.001 (s)\n",
      "iaf 10.0\n",
      "NOTE: pick_channels() is a legacy function. New code should use inst.pick(...).\n",
      "Effective window size : 1.001 (s)\n",
      "iaf 9.25\n",
      "NOTE: pick_channels() is a legacy function. New code should use inst.pick(...).\n",
      "Effective window size : 1.001 (s)\n",
      "iaf 9.75\n",
      "NOTE: pick_channels() is a legacy function. New code should use inst.pick(...).\n",
      "Effective window size : 1.001 (s)\n",
      "iaf 9.5\n",
      "NOTE: pick_channels() is a legacy function. New code should use inst.pick(...).\n",
      "Effective window size : 1.001 (s)\n",
      "iaf 9.75\n",
      "NOTE: pick_channels() is a legacy function. New code should use inst.pick(...).\n",
      "Effective window size : 1.001 (s)\n",
      "iaf 10.0\n",
      "NOTE: pick_channels() is a legacy function. New code should use inst.pick(...).\n",
      "Effective window size : 1.001 (s)\n",
      "iaf 10.25\n",
      "NOTE: pick_channels() is a legacy function. New code should use inst.pick(...).\n",
      "Effective window size : 1.001 (s)\n",
      "iaf 10.0\n",
      "NOTE: pick_channels() is a legacy function. New code should use inst.pick(...).\n",
      "Effective window size : 1.001 (s)\n",
      "iaf 10.25\n",
      "NOTE: pick_channels() is a legacy function. New code should use inst.pick(...).\n",
      "Effective window size : 1.001 (s)\n",
      "iaf 10.0\n",
      "NOTE: pick_channels() is a legacy function. New code should use inst.pick(...).\n",
      "Effective window size : 1.001 (s)\n",
      "iaf 9.75\n",
      "NOTE: pick_channels() is a legacy function. New code should use inst.pick(...).\n",
      "Effective window size : 1.001 (s)\n",
      "iaf 10.25\n",
      "NOTE: pick_channels() is a legacy function. New code should use inst.pick(...).\n",
      "Effective window size : 1.001 (s)\n",
      "iaf 10.0\n",
      "NOTE: pick_channels() is a legacy function. New code should use inst.pick(...).\n",
      "Effective window size : 1.001 (s)\n",
      "iaf 10.25\n",
      "NOTE: pick_channels() is a legacy function. New code should use inst.pick(...).\n",
      "Effective window size : 1.001 (s)\n",
      "iaf 10.0\n",
      "NOTE: pick_channels() is a legacy function. New code should use inst.pick(...).\n",
      "Effective window size : 1.001 (s)\n",
      "iaf 10.5\n",
      "NOTE: pick_channels() is a legacy function. New code should use inst.pick(...).\n",
      "Effective window size : 1.001 (s)\n",
      "iaf 10.0\n",
      "NOTE: pick_channels() is a legacy function. New code should use inst.pick(...).\n",
      "Effective window size : 1.001 (s)\n",
      "iaf 10.0\n",
      "NOTE: pick_channels() is a legacy function. New code should use inst.pick(...).\n",
      "Effective window size : 1.001 (s)\n",
      "iaf 9.75\n",
      "NOTE: pick_channels() is a legacy function. New code should use inst.pick(...).\n",
      "Effective window size : 1.001 (s)\n",
      "iaf 10.0\n",
      "NOTE: pick_channels() is a legacy function. New code should use inst.pick(...).\n",
      "Effective window size : 1.001 (s)\n",
      "iaf 9.25\n",
      "NOTE: pick_channels() is a legacy function. New code should use inst.pick(...).\n",
      "Effective window size : 1.001 (s)\n",
      "iaf 9.75\n",
      "NOTE: pick_channels() is a legacy function. New code should use inst.pick(...).\n",
      "Effective window size : 1.001 (s)\n",
      "iaf 9.5\n",
      "NOTE: pick_channels() is a legacy function. New code should use inst.pick(...).\n",
      "Effective window size : 1.001 (s)\n",
      "iaf 9.75\n",
      "NOTE: pick_channels() is a legacy function. New code should use inst.pick(...).\n",
      "Effective window size : 1.001 (s)\n",
      "iaf 10.5\n",
      "NOTE: pick_channels() is a legacy function. New code should use inst.pick(...).\n",
      "Effective window size : 1.001 (s)\n",
      "iaf 9.0\n",
      "NOTE: pick_channels() is a legacy function. New code should use inst.pick(...).\n",
      "Effective window size : 1.001 (s)\n",
      "iaf 10.0\n",
      "NOTE: pick_channels() is a legacy function. New code should use inst.pick(...).\n",
      "Effective window size : 1.001 (s)\n",
      "iaf 10.5\n",
      "NOTE: pick_channels() is a legacy function. New code should use inst.pick(...).\n",
      "Effective window size : 1.001 (s)\n",
      "iaf 10.5\n",
      "NOTE: pick_channels() is a legacy function. New code should use inst.pick(...).\n",
      "Effective window size : 1.001 (s)\n",
      "iaf 11.0\n",
      "NOTE: pick_channels() is a legacy function. New code should use inst.pick(...).\n",
      "Effective window size : 1.001 (s)\n",
      "iaf 8.75\n",
      "NOTE: pick_channels() is a legacy function. New code should use inst.pick(...).\n",
      "Effective window size : 1.001 (s)\n",
      "iaf 10.5\n",
      "NOTE: pick_channels() is a legacy function. New code should use inst.pick(...).\n",
      "Effective window size : 1.001 (s)\n",
      "iaf 10.75\n",
      "NOTE: pick_channels() is a legacy function. New code should use inst.pick(...).\n",
      "Effective window size : 1.001 (s)\n",
      "iaf 10.25\n",
      "NOTE: pick_channels() is a legacy function. New code should use inst.pick(...).\n",
      "Effective window size : 1.001 (s)\n",
      "iaf 10.75\n",
      "NOTE: pick_channels() is a legacy function. New code should use inst.pick(...).\n",
      "Effective window size : 1.001 (s)\n",
      "iaf 8.5\n",
      "NOTE: pick_channels() is a legacy function. New code should use inst.pick(...).\n",
      "Effective window size : 1.001 (s)\n",
      "iaf 11.0\n",
      "NOTE: pick_channels() is a legacy function. New code should use inst.pick(...).\n",
      "Effective window size : 1.001 (s)\n",
      "iaf 10.25\n",
      "NOTE: pick_channels() is a legacy function. New code should use inst.pick(...).\n",
      "Effective window size : 1.001 (s)\n",
      "iaf 11.0\n",
      "NOTE: pick_channels() is a legacy function. New code should use inst.pick(...).\n",
      "Effective window size : 1.001 (s)\n",
      "iaf 10.5\n",
      "NOTE: pick_channels() is a legacy function. New code should use inst.pick(...).\n",
      "Effective window size : 1.001 (s)\n",
      "iaf 9.75\n",
      "NOTE: pick_channels() is a legacy function. New code should use inst.pick(...).\n",
      "Effective window size : 1.001 (s)\n",
      "iaf 9.75\n",
      "NOTE: pick_channels() is a legacy function. New code should use inst.pick(...).\n",
      "Effective window size : 1.001 (s)\n",
      "iaf 9.75\n",
      "NOTE: pick_channels() is a legacy function. New code should use inst.pick(...).\n",
      "Effective window size : 1.001 (s)\n",
      "iaf 10.5\n",
      "NOTE: pick_channels() is a legacy function. New code should use inst.pick(...).\n",
      "Effective window size : 1.001 (s)\n",
      "iaf 9.75\n",
      "NOTE: pick_channels() is a legacy function. New code should use inst.pick(...).\n",
      "Effective window size : 1.001 (s)\n",
      "iaf 9.0\n",
      "NOTE: pick_channels() is a legacy function. New code should use inst.pick(...).\n",
      "Effective window size : 1.001 (s)\n",
      "iaf 10.0\n",
      "NOTE: pick_channels() is a legacy function. New code should use inst.pick(...).\n",
      "Effective window size : 1.001 (s)\n",
      "iaf 10.75\n",
      "NOTE: pick_channels() is a legacy function. New code should use inst.pick(...).\n",
      "Effective window size : 1.001 (s)\n",
      "iaf 10.5\n",
      "NOTE: pick_channels() is a legacy function. New code should use inst.pick(...).\n",
      "Effective window size : 1.001 (s)\n",
      "iaf 11.0\n",
      "NOTE: pick_channels() is a legacy function. New code should use inst.pick(...).\n",
      "Effective window size : 1.001 (s)\n",
      "iaf 8.75\n",
      "NOTE: pick_channels() is a legacy function. New code should use inst.pick(...).\n",
      "Effective window size : 1.001 (s)\n",
      "iaf 10.5\n",
      "NOTE: pick_channels() is a legacy function. New code should use inst.pick(...).\n",
      "Effective window size : 1.001 (s)\n",
      "iaf 10.75\n",
      "NOTE: pick_channels() is a legacy function. New code should use inst.pick(...).\n",
      "Effective window size : 1.001 (s)\n",
      "iaf 10.25\n",
      "NOTE: pick_channels() is a legacy function. New code should use inst.pick(...).\n",
      "Effective window size : 1.001 (s)\n",
      "iaf 10.75\n",
      "NOTE: pick_channels() is a legacy function. New code should use inst.pick(...).\n",
      "Effective window size : 1.001 (s)\n",
      "iaf 8.5\n",
      "NOTE: pick_channels() is a legacy function. New code should use inst.pick(...).\n",
      "Effective window size : 1.001 (s)\n",
      "iaf 11.0\n",
      "NOTE: pick_channels() is a legacy function. New code should use inst.pick(...).\n",
      "Effective window size : 1.001 (s)\n",
      "iaf 10.25\n",
      "NOTE: pick_channels() is a legacy function. New code should use inst.pick(...).\n",
      "Effective window size : 1.001 (s)\n",
      "iaf 11.0\n",
      "NOTE: pick_channels() is a legacy function. New code should use inst.pick(...).\n",
      "Effective window size : 1.001 (s)\n",
      "iaf 10.5\n",
      "NOTE: pick_channels() is a legacy function. New code should use inst.pick(...).\n",
      "Effective window size : 1.001 (s)\n",
      "iaf 9.75\n",
      "NOTE: pick_channels() is a legacy function. New code should use inst.pick(...).\n",
      "Effective window size : 1.001 (s)\n",
      "iaf 9.75\n",
      "NOTE: pick_channels() is a legacy function. New code should use inst.pick(...).\n",
      "Effective window size : 1.001 (s)\n",
      "iaf 9.75\n",
      "NOTE: pick_channels() is a legacy function. New code should use inst.pick(...).\n",
      "Effective window size : 1.001 (s)\n",
      "iaf 10.5\n",
      "NOTE: pick_channels() is a legacy function. New code should use inst.pick(...).\n",
      "Effective window size : 1.001 (s)\n",
      "iaf 10.0\n",
      "NOTE: pick_channels() is a legacy function. New code should use inst.pick(...).\n",
      "Effective window size : 1.001 (s)\n",
      "iaf 10.5\n",
      "NOTE: pick_channels() is a legacy function. New code should use inst.pick(...).\n",
      "Effective window size : 1.001 (s)\n",
      "iaf 10.0\n",
      "NOTE: pick_channels() is a legacy function. New code should use inst.pick(...).\n",
      "Effective window size : 1.001 (s)\n",
      "iaf 10.0\n",
      "NOTE: pick_channels() is a legacy function. New code should use inst.pick(...).\n",
      "Effective window size : 1.001 (s)\n",
      "iaf 9.75\n",
      "NOTE: pick_channels() is a legacy function. New code should use inst.pick(...).\n",
      "Effective window size : 1.001 (s)\n",
      "iaf 10.0\n",
      "NOTE: pick_channels() is a legacy function. New code should use inst.pick(...).\n",
      "Effective window size : 1.001 (s)\n",
      "iaf 10.25\n",
      "NOTE: pick_channels() is a legacy function. New code should use inst.pick(...).\n",
      "Effective window size : 1.001 (s)\n",
      "iaf 9.25\n",
      "NOTE: pick_channels() is a legacy function. New code should use inst.pick(...).\n",
      "Effective window size : 1.001 (s)\n",
      "iaf 9.75\n",
      "NOTE: pick_channels() is a legacy function. New code should use inst.pick(...).\n",
      "Effective window size : 1.001 (s)\n",
      "iaf 9.5\n",
      "NOTE: pick_channels() is a legacy function. New code should use inst.pick(...).\n",
      "Effective window size : 1.001 (s)\n",
      "iaf 10.0\n",
      "NOTE: pick_channels() is a legacy function. New code should use inst.pick(...).\n",
      "Effective window size : 1.001 (s)\n",
      "iaf 10.5\n",
      "NOTE: pick_channels() is a legacy function. New code should use inst.pick(...).\n",
      "Effective window size : 1.001 (s)\n",
      "iaf 10.0\n",
      "NOTE: pick_channels() is a legacy function. New code should use inst.pick(...).\n",
      "Effective window size : 1.001 (s)\n",
      "iaf 10.0\n",
      "NOTE: pick_channels() is a legacy function. New code should use inst.pick(...).\n",
      "Effective window size : 1.001 (s)\n",
      "iaf 9.75\n",
      "NOTE: pick_channels() is a legacy function. New code should use inst.pick(...).\n",
      "Effective window size : 1.001 (s)\n",
      "iaf 10.0\n",
      "NOTE: pick_channels() is a legacy function. New code should use inst.pick(...).\n",
      "Effective window size : 1.001 (s)\n",
      "iaf 9.25\n",
      "NOTE: pick_channels() is a legacy function. New code should use inst.pick(...).\n",
      "Effective window size : 1.001 (s)\n",
      "iaf 9.75\n",
      "NOTE: pick_channels() is a legacy function. New code should use inst.pick(...).\n",
      "Effective window size : 1.001 (s)\n",
      "iaf 9.5\n",
      "NOTE: pick_channels() is a legacy function. New code should use inst.pick(...).\n",
      "Effective window size : 1.001 (s)\n",
      "iaf 9.75\n",
      "NOTE: pick_channels() is a legacy function. New code should use inst.pick(...).\n",
      "Effective window size : 1.001 (s)\n",
      "iaf 10.0\n",
      "NOTE: pick_channels() is a legacy function. New code should use inst.pick(...).\n",
      "Effective window size : 1.001 (s)\n",
      "iaf 10.25\n",
      "NOTE: pick_channels() is a legacy function. New code should use inst.pick(...).\n",
      "Effective window size : 1.001 (s)\n",
      "iaf 10.0\n",
      "NOTE: pick_channels() is a legacy function. New code should use inst.pick(...).\n",
      "Effective window size : 1.001 (s)\n",
      "iaf 10.25\n",
      "NOTE: pick_channels() is a legacy function. New code should use inst.pick(...).\n",
      "Effective window size : 1.001 (s)\n",
      "iaf 10.0\n",
      "NOTE: pick_channels() is a legacy function. New code should use inst.pick(...).\n",
      "Effective window size : 1.001 (s)\n",
      "iaf 9.75\n",
      "NOTE: pick_channels() is a legacy function. New code should use inst.pick(...).\n",
      "Effective window size : 1.001 (s)\n",
      "iaf 10.25\n",
      "NOTE: pick_channels() is a legacy function. New code should use inst.pick(...).\n",
      "Effective window size : 1.001 (s)\n",
      "iaf 10.0\n",
      "NOTE: pick_channels() is a legacy function. New code should use inst.pick(...).\n",
      "Effective window size : 1.001 (s)\n",
      "iaf 10.25\n",
      "NOTE: pick_channels() is a legacy function. New code should use inst.pick(...).\n",
      "Effective window size : 1.001 (s)\n",
      "iaf 10.0\n",
      "NOTE: pick_channels() is a legacy function. New code should use inst.pick(...).\n",
      "Effective window size : 1.001 (s)\n",
      "iaf 10.5\n",
      "NOTE: pick_channels() is a legacy function. New code should use inst.pick(...).\n",
      "Effective window size : 1.001 (s)\n",
      "iaf 10.0\n",
      "NOTE: pick_channels() is a legacy function. New code should use inst.pick(...).\n",
      "Effective window size : 1.001 (s)\n",
      "iaf 10.0\n",
      "NOTE: pick_channels() is a legacy function. New code should use inst.pick(...).\n",
      "Effective window size : 1.001 (s)\n",
      "iaf 9.75\n",
      "NOTE: pick_channels() is a legacy function. New code should use inst.pick(...).\n",
      "Effective window size : 1.001 (s)\n",
      "iaf 10.0\n",
      "NOTE: pick_channels() is a legacy function. New code should use inst.pick(...).\n",
      "Effective window size : 1.001 (s)\n",
      "iaf 9.25\n",
      "NOTE: pick_channels() is a legacy function. New code should use inst.pick(...).\n",
      "Effective window size : 1.001 (s)\n",
      "iaf 9.75\n",
      "NOTE: pick_channels() is a legacy function. New code should use inst.pick(...).\n",
      "Effective window size : 1.001 (s)\n",
      "iaf 9.5\n",
      "NOTE: pick_channels() is a legacy function. New code should use inst.pick(...).\n",
      "Effective window size : 1.001 (s)\n",
      "iaf 9.75\n",
      "NOTE: pick_channels() is a legacy function. New code should use inst.pick(...).\n",
      "Effective window size : 1.001 (s)\n",
      "iaf 10.5\n",
      "NOTE: pick_channels() is a legacy function. New code should use inst.pick(...).\n",
      "Effective window size : 1.001 (s)\n",
      "iaf 9.0\n",
      "NOTE: pick_channels() is a legacy function. New code should use inst.pick(...).\n",
      "Effective window size : 1.001 (s)\n",
      "iaf 10.0\n",
      "NOTE: pick_channels() is a legacy function. New code should use inst.pick(...).\n",
      "Effective window size : 1.001 (s)\n",
      "iaf 10.5\n",
      "NOTE: pick_channels() is a legacy function. New code should use inst.pick(...).\n",
      "Effective window size : 1.001 (s)\n",
      "iaf 10.5\n",
      "NOTE: pick_channels() is a legacy function. New code should use inst.pick(...).\n",
      "Effective window size : 1.001 (s)\n",
      "iaf 11.0\n",
      "NOTE: pick_channels() is a legacy function. New code should use inst.pick(...).\n",
      "Effective window size : 1.001 (s)\n",
      "iaf 8.75\n",
      "NOTE: pick_channels() is a legacy function. New code should use inst.pick(...).\n",
      "Effective window size : 1.001 (s)\n",
      "iaf 10.5\n",
      "NOTE: pick_channels() is a legacy function. New code should use inst.pick(...).\n",
      "Effective window size : 1.001 (s)\n",
      "iaf 10.75\n",
      "NOTE: pick_channels() is a legacy function. New code should use inst.pick(...).\n",
      "Effective window size : 1.001 (s)\n",
      "iaf 10.25\n",
      "NOTE: pick_channels() is a legacy function. New code should use inst.pick(...).\n",
      "Effective window size : 1.001 (s)\n",
      "iaf 10.75\n",
      "NOTE: pick_channels() is a legacy function. New code should use inst.pick(...).\n",
      "Effective window size : 1.001 (s)\n",
      "iaf 8.5\n",
      "NOTE: pick_channels() is a legacy function. New code should use inst.pick(...).\n",
      "Effective window size : 1.001 (s)\n",
      "iaf 11.0\n",
      "NOTE: pick_channels() is a legacy function. New code should use inst.pick(...).\n",
      "Effective window size : 1.001 (s)\n",
      "iaf 10.25\n",
      "NOTE: pick_channels() is a legacy function. New code should use inst.pick(...).\n",
      "Effective window size : 1.001 (s)\n",
      "iaf 11.0\n",
      "NOTE: pick_channels() is a legacy function. New code should use inst.pick(...).\n",
      "Effective window size : 1.001 (s)\n",
      "iaf 10.5\n",
      "NOTE: pick_channels() is a legacy function. New code should use inst.pick(...).\n",
      "Effective window size : 1.001 (s)\n",
      "iaf 9.75\n",
      "NOTE: pick_channels() is a legacy function. New code should use inst.pick(...).\n",
      "Effective window size : 1.001 (s)\n",
      "iaf 9.75\n",
      "NOTE: pick_channels() is a legacy function. New code should use inst.pick(...).\n",
      "Effective window size : 1.001 (s)\n",
      "iaf 9.75\n",
      "NOTE: pick_channels() is a legacy function. New code should use inst.pick(...).\n",
      "Effective window size : 1.001 (s)\n",
      "iaf 10.5\n",
      "NOTE: pick_channels() is a legacy function. New code should use inst.pick(...).\n",
      "Effective window size : 1.001 (s)\n",
      "iaf 9.75\n",
      "NOTE: pick_channels() is a legacy function. New code should use inst.pick(...).\n",
      "Effective window size : 1.001 (s)\n",
      "iaf 9.0\n",
      "NOTE: pick_channels() is a legacy function. New code should use inst.pick(...).\n",
      "Effective window size : 1.001 (s)\n",
      "iaf 10.0\n",
      "NOTE: pick_channels() is a legacy function. New code should use inst.pick(...).\n",
      "Effective window size : 1.001 (s)\n",
      "iaf 10.75\n",
      "NOTE: pick_channels() is a legacy function. New code should use inst.pick(...).\n",
      "Effective window size : 1.001 (s)\n",
      "iaf 10.5\n",
      "NOTE: pick_channels() is a legacy function. New code should use inst.pick(...).\n",
      "Effective window size : 1.001 (s)\n",
      "iaf 11.0\n",
      "NOTE: pick_channels() is a legacy function. New code should use inst.pick(...).\n",
      "Effective window size : 1.001 (s)\n",
      "iaf 8.75\n",
      "NOTE: pick_channels() is a legacy function. New code should use inst.pick(...).\n",
      "Effective window size : 1.001 (s)\n",
      "iaf 10.5\n",
      "NOTE: pick_channels() is a legacy function. New code should use inst.pick(...).\n",
      "Effective window size : 1.001 (s)\n",
      "iaf 10.75\n",
      "NOTE: pick_channels() is a legacy function. New code should use inst.pick(...).\n",
      "Effective window size : 1.001 (s)\n",
      "iaf 10.25\n",
      "NOTE: pick_channels() is a legacy function. New code should use inst.pick(...).\n",
      "Effective window size : 1.001 (s)\n",
      "iaf 10.75\n",
      "NOTE: pick_channels() is a legacy function. New code should use inst.pick(...).\n",
      "Effective window size : 1.001 (s)\n",
      "iaf 8.5\n",
      "NOTE: pick_channels() is a legacy function. New code should use inst.pick(...).\n",
      "Effective window size : 1.001 (s)\n",
      "iaf 11.0\n",
      "NOTE: pick_channels() is a legacy function. New code should use inst.pick(...).\n",
      "Effective window size : 1.001 (s)\n",
      "iaf 10.25\n",
      "NOTE: pick_channels() is a legacy function. New code should use inst.pick(...).\n",
      "Effective window size : 1.001 (s)\n",
      "iaf 11.0\n",
      "NOTE: pick_channels() is a legacy function. New code should use inst.pick(...).\n",
      "Effective window size : 1.001 (s)\n",
      "iaf 10.5\n",
      "NOTE: pick_channels() is a legacy function. New code should use inst.pick(...).\n",
      "Effective window size : 1.001 (s)\n",
      "iaf 9.75\n",
      "NOTE: pick_channels() is a legacy function. New code should use inst.pick(...).\n",
      "Effective window size : 1.001 (s)\n",
      "iaf 9.75\n",
      "NOTE: pick_channels() is a legacy function. New code should use inst.pick(...).\n",
      "Effective window size : 1.001 (s)\n",
      "iaf 9.75\n",
      "NOTE: pick_channels() is a legacy function. New code should use inst.pick(...).\n",
      "Effective window size : 1.001 (s)\n",
      "iaf 10.5\n",
      "NOTE: pick_channels() is a legacy function. New code should use inst.pick(...).\n",
      "Effective window size : 1.001 (s)\n",
      "iaf 10.0\n",
      "NOTE: pick_channels() is a legacy function. New code should use inst.pick(...).\n",
      "Effective window size : 1.001 (s)\n",
      "iaf 10.5\n",
      "NOTE: pick_channels() is a legacy function. New code should use inst.pick(...).\n",
      "Effective window size : 1.001 (s)\n",
      "iaf 10.0\n",
      "NOTE: pick_channels() is a legacy function. New code should use inst.pick(...).\n",
      "Effective window size : 1.001 (s)\n",
      "iaf 10.0\n",
      "NOTE: pick_channels() is a legacy function. New code should use inst.pick(...).\n",
      "Effective window size : 1.001 (s)\n",
      "iaf 9.75\n",
      "NOTE: pick_channels() is a legacy function. New code should use inst.pick(...).\n",
      "Effective window size : 1.001 (s)\n",
      "iaf 10.0\n",
      "NOTE: pick_channels() is a legacy function. New code should use inst.pick(...).\n",
      "Effective window size : 1.001 (s)\n",
      "iaf 10.25\n",
      "NOTE: pick_channels() is a legacy function. New code should use inst.pick(...).\n",
      "Effective window size : 1.001 (s)\n",
      "iaf 9.25\n",
      "NOTE: pick_channels() is a legacy function. New code should use inst.pick(...).\n",
      "Effective window size : 1.001 (s)\n",
      "iaf 9.75\n",
      "NOTE: pick_channels() is a legacy function. New code should use inst.pick(...).\n",
      "Effective window size : 1.001 (s)\n",
      "iaf 9.5\n",
      "NOTE: pick_channels() is a legacy function. New code should use inst.pick(...).\n",
      "Effective window size : 1.001 (s)\n",
      "iaf 10.0\n",
      "NOTE: pick_channels() is a legacy function. New code should use inst.pick(...).\n",
      "Effective window size : 1.001 (s)\n",
      "iaf 10.5\n",
      "NOTE: pick_channels() is a legacy function. New code should use inst.pick(...).\n",
      "Effective window size : 1.001 (s)\n",
      "iaf 10.0\n",
      "NOTE: pick_channels() is a legacy function. New code should use inst.pick(...).\n",
      "Effective window size : 1.001 (s)\n",
      "iaf 10.0\n",
      "NOTE: pick_channels() is a legacy function. New code should use inst.pick(...).\n",
      "Effective window size : 1.001 (s)\n",
      "iaf 9.75\n",
      "NOTE: pick_channels() is a legacy function. New code should use inst.pick(...).\n",
      "Effective window size : 1.001 (s)\n",
      "iaf 10.0\n",
      "NOTE: pick_channels() is a legacy function. New code should use inst.pick(...).\n",
      "Effective window size : 1.001 (s)\n",
      "iaf 9.25\n",
      "NOTE: pick_channels() is a legacy function. New code should use inst.pick(...).\n",
      "Effective window size : 1.001 (s)\n",
      "iaf 9.75\n",
      "NOTE: pick_channels() is a legacy function. New code should use inst.pick(...).\n",
      "Effective window size : 1.001 (s)\n",
      "iaf 9.5\n",
      "NOTE: pick_channels() is a legacy function. New code should use inst.pick(...).\n",
      "Effective window size : 1.001 (s)\n",
      "iaf 9.75\n",
      "NOTE: pick_channels() is a legacy function. New code should use inst.pick(...).\n",
      "Effective window size : 1.001 (s)\n",
      "iaf 10.0\n",
      "NOTE: pick_channels() is a legacy function. New code should use inst.pick(...).\n",
      "Effective window size : 1.001 (s)\n",
      "iaf 10.25\n",
      "NOTE: pick_channels() is a legacy function. New code should use inst.pick(...).\n",
      "Effective window size : 1.001 (s)\n",
      "iaf 10.0\n",
      "NOTE: pick_channels() is a legacy function. New code should use inst.pick(...).\n",
      "Effective window size : 1.001 (s)\n",
      "iaf 10.25\n",
      "NOTE: pick_channels() is a legacy function. New code should use inst.pick(...).\n",
      "Effective window size : 1.001 (s)\n",
      "iaf 10.0\n",
      "NOTE: pick_channels() is a legacy function. New code should use inst.pick(...).\n",
      "Effective window size : 1.001 (s)\n",
      "iaf 9.75\n",
      "NOTE: pick_channels() is a legacy function. New code should use inst.pick(...).\n",
      "Effective window size : 1.001 (s)\n",
      "iaf 10.25\n",
      "NOTE: pick_channels() is a legacy function. New code should use inst.pick(...).\n",
      "Effective window size : 1.001 (s)\n",
      "iaf 10.0\n",
      "NOTE: pick_channels() is a legacy function. New code should use inst.pick(...).\n",
      "Effective window size : 1.001 (s)\n",
      "iaf 10.25\n",
      "NOTE: pick_channels() is a legacy function. New code should use inst.pick(...).\n",
      "Effective window size : 1.001 (s)\n",
      "iaf 10.0\n",
      "NOTE: pick_channels() is a legacy function. New code should use inst.pick(...).\n",
      "Effective window size : 1.001 (s)\n",
      "iaf 10.5\n",
      "NOTE: pick_channels() is a legacy function. New code should use inst.pick(...).\n",
      "Effective window size : 1.001 (s)\n",
      "iaf 10.0\n",
      "NOTE: pick_channels() is a legacy function. New code should use inst.pick(...).\n",
      "Effective window size : 1.001 (s)\n",
      "iaf 10.0\n",
      "NOTE: pick_channels() is a legacy function. New code should use inst.pick(...).\n",
      "Effective window size : 1.001 (s)\n",
      "iaf 9.75\n",
      "NOTE: pick_channels() is a legacy function. New code should use inst.pick(...).\n",
      "Effective window size : 1.001 (s)\n",
      "iaf 10.0\n",
      "NOTE: pick_channels() is a legacy function. New code should use inst.pick(...).\n",
      "Effective window size : 1.001 (s)\n",
      "iaf 9.25\n",
      "NOTE: pick_channels() is a legacy function. New code should use inst.pick(...).\n",
      "Effective window size : 1.001 (s)\n",
      "iaf 9.75\n",
      "NOTE: pick_channels() is a legacy function. New code should use inst.pick(...).\n",
      "Effective window size : 1.001 (s)\n",
      "iaf 9.5\n",
      "NOTE: pick_channels() is a legacy function. New code should use inst.pick(...).\n",
      "Effective window size : 1.001 (s)\n",
      "iaf 9.75\n",
      "NOTE: pick_channels() is a legacy function. New code should use inst.pick(...).\n",
      "Effective window size : 1.001 (s)\n",
      "iaf 10.5\n",
      "NOTE: pick_channels() is a legacy function. New code should use inst.pick(...).\n",
      "Effective window size : 1.001 (s)\n",
      "iaf 9.0\n",
      "NOTE: pick_channels() is a legacy function. New code should use inst.pick(...).\n",
      "Effective window size : 1.001 (s)\n",
      "iaf 10.0\n",
      "NOTE: pick_channels() is a legacy function. New code should use inst.pick(...).\n",
      "Effective window size : 1.001 (s)\n",
      "iaf 10.5\n",
      "NOTE: pick_channels() is a legacy function. New code should use inst.pick(...).\n",
      "Effective window size : 1.001 (s)\n",
      "iaf 10.5\n",
      "NOTE: pick_channels() is a legacy function. New code should use inst.pick(...).\n",
      "Effective window size : 1.001 (s)\n",
      "iaf 11.0\n",
      "NOTE: pick_channels() is a legacy function. New code should use inst.pick(...).\n",
      "Effective window size : 1.001 (s)\n",
      "iaf 8.75\n",
      "NOTE: pick_channels() is a legacy function. New code should use inst.pick(...).\n",
      "Effective window size : 1.001 (s)\n",
      "iaf 10.5\n",
      "NOTE: pick_channels() is a legacy function. New code should use inst.pick(...).\n",
      "Effective window size : 1.001 (s)\n",
      "iaf 10.75\n",
      "NOTE: pick_channels() is a legacy function. New code should use inst.pick(...).\n",
      "Effective window size : 1.001 (s)\n",
      "iaf 10.25\n",
      "NOTE: pick_channels() is a legacy function. New code should use inst.pick(...).\n",
      "Effective window size : 1.001 (s)\n",
      "iaf 10.75\n",
      "NOTE: pick_channels() is a legacy function. New code should use inst.pick(...).\n",
      "Effective window size : 1.001 (s)\n",
      "iaf 8.5\n",
      "NOTE: pick_channels() is a legacy function. New code should use inst.pick(...).\n",
      "Effective window size : 1.001 (s)\n",
      "iaf 11.0\n",
      "NOTE: pick_channels() is a legacy function. New code should use inst.pick(...).\n",
      "Effective window size : 1.001 (s)\n",
      "iaf 10.25\n",
      "NOTE: pick_channels() is a legacy function. New code should use inst.pick(...).\n",
      "Effective window size : 1.001 (s)\n",
      "iaf 11.0\n",
      "NOTE: pick_channels() is a legacy function. New code should use inst.pick(...).\n",
      "Effective window size : 1.001 (s)\n",
      "iaf 10.5\n",
      "NOTE: pick_channels() is a legacy function. New code should use inst.pick(...).\n",
      "Effective window size : 1.001 (s)\n",
      "iaf 9.75\n",
      "NOTE: pick_channels() is a legacy function. New code should use inst.pick(...).\n",
      "Effective window size : 1.001 (s)\n",
      "iaf 9.75\n",
      "NOTE: pick_channels() is a legacy function. New code should use inst.pick(...).\n",
      "Effective window size : 1.001 (s)\n",
      "iaf 9.75\n",
      "NOTE: pick_channels() is a legacy function. New code should use inst.pick(...).\n",
      "Effective window size : 1.001 (s)\n",
      "iaf 10.5\n",
      "NOTE: pick_channels() is a legacy function. New code should use inst.pick(...).\n",
      "Effective window size : 1.001 (s)\n",
      "iaf 9.75\n",
      "NOTE: pick_channels() is a legacy function. New code should use inst.pick(...).\n",
      "Effective window size : 1.001 (s)\n",
      "iaf 9.0\n",
      "NOTE: pick_channels() is a legacy function. New code should use inst.pick(...).\n",
      "Effective window size : 1.001 (s)\n",
      "iaf 10.0\n",
      "NOTE: pick_channels() is a legacy function. New code should use inst.pick(...).\n",
      "Effective window size : 1.001 (s)\n",
      "iaf 10.75\n",
      "NOTE: pick_channels() is a legacy function. New code should use inst.pick(...).\n",
      "Effective window size : 1.001 (s)\n",
      "iaf 10.5\n",
      "NOTE: pick_channels() is a legacy function. New code should use inst.pick(...).\n",
      "Effective window size : 1.001 (s)\n",
      "iaf 11.0\n",
      "NOTE: pick_channels() is a legacy function. New code should use inst.pick(...).\n",
      "Effective window size : 1.001 (s)\n",
      "iaf 8.75\n",
      "NOTE: pick_channels() is a legacy function. New code should use inst.pick(...).\n",
      "Effective window size : 1.001 (s)\n",
      "iaf 10.5\n",
      "NOTE: pick_channels() is a legacy function. New code should use inst.pick(...).\n",
      "Effective window size : 1.001 (s)\n",
      "iaf 10.75\n",
      "NOTE: pick_channels() is a legacy function. New code should use inst.pick(...).\n",
      "Effective window size : 1.001 (s)\n",
      "iaf 10.25\n",
      "NOTE: pick_channels() is a legacy function. New code should use inst.pick(...).\n",
      "Effective window size : 1.001 (s)\n",
      "iaf 10.75\n",
      "NOTE: pick_channels() is a legacy function. New code should use inst.pick(...).\n",
      "Effective window size : 1.001 (s)\n",
      "iaf 8.5\n",
      "NOTE: pick_channels() is a legacy function. New code should use inst.pick(...).\n",
      "Effective window size : 1.001 (s)\n",
      "iaf 11.0\n",
      "NOTE: pick_channels() is a legacy function. New code should use inst.pick(...).\n",
      "Effective window size : 1.001 (s)\n",
      "iaf 10.25\n",
      "NOTE: pick_channels() is a legacy function. New code should use inst.pick(...).\n",
      "Effective window size : 1.001 (s)\n",
      "iaf 11.0\n",
      "NOTE: pick_channels() is a legacy function. New code should use inst.pick(...).\n",
      "Effective window size : 1.001 (s)\n",
      "iaf 10.5\n",
      "NOTE: pick_channels() is a legacy function. New code should use inst.pick(...).\n",
      "Effective window size : 1.001 (s)\n",
      "iaf 9.75\n",
      "NOTE: pick_channels() is a legacy function. New code should use inst.pick(...).\n",
      "Effective window size : 1.001 (s)\n",
      "iaf 9.75\n",
      "NOTE: pick_channels() is a legacy function. New code should use inst.pick(...).\n",
      "Effective window size : 1.001 (s)\n",
      "iaf 9.75\n",
      "NOTE: pick_channels() is a legacy function. New code should use inst.pick(...).\n",
      "Effective window size : 1.001 (s)\n",
      "iaf 10.5\n",
      "NOTE: pick_channels() is a legacy function. New code should use inst.pick(...).\n",
      "Effective window size : 1.001 (s)\n",
      "iaf 10.0\n",
      "NOTE: pick_channels() is a legacy function. New code should use inst.pick(...).\n",
      "Effective window size : 1.001 (s)\n",
      "iaf 10.5\n",
      "NOTE: pick_channels() is a legacy function. New code should use inst.pick(...).\n",
      "Effective window size : 1.001 (s)\n",
      "iaf 10.0\n",
      "NOTE: pick_channels() is a legacy function. New code should use inst.pick(...).\n",
      "Effective window size : 1.001 (s)\n",
      "iaf 10.0\n",
      "NOTE: pick_channels() is a legacy function. New code should use inst.pick(...).\n",
      "Effective window size : 1.001 (s)\n",
      "iaf 9.75\n",
      "NOTE: pick_channels() is a legacy function. New code should use inst.pick(...).\n",
      "Effective window size : 1.001 (s)\n",
      "iaf 10.0\n",
      "NOTE: pick_channels() is a legacy function. New code should use inst.pick(...).\n",
      "Effective window size : 1.001 (s)\n",
      "iaf 10.25\n",
      "NOTE: pick_channels() is a legacy function. New code should use inst.pick(...).\n",
      "Effective window size : 1.001 (s)\n",
      "iaf 9.25\n",
      "NOTE: pick_channels() is a legacy function. New code should use inst.pick(...).\n",
      "Effective window size : 1.001 (s)\n",
      "iaf 9.75\n",
      "NOTE: pick_channels() is a legacy function. New code should use inst.pick(...).\n",
      "Effective window size : 1.001 (s)\n",
      "iaf 9.5\n",
      "NOTE: pick_channels() is a legacy function. New code should use inst.pick(...).\n",
      "Effective window size : 1.001 (s)\n",
      "iaf 10.0\n",
      "NOTE: pick_channels() is a legacy function. New code should use inst.pick(...).\n",
      "Effective window size : 1.001 (s)\n",
      "iaf 10.5\n",
      "NOTE: pick_channels() is a legacy function. New code should use inst.pick(...).\n",
      "Effective window size : 1.001 (s)\n",
      "iaf 10.0\n",
      "NOTE: pick_channels() is a legacy function. New code should use inst.pick(...).\n",
      "Effective window size : 1.001 (s)\n",
      "iaf 10.0\n",
      "NOTE: pick_channels() is a legacy function. New code should use inst.pick(...).\n",
      "Effective window size : 1.001 (s)\n",
      "iaf 9.75\n",
      "NOTE: pick_channels() is a legacy function. New code should use inst.pick(...).\n",
      "Effective window size : 1.001 (s)\n",
      "iaf 10.0\n",
      "NOTE: pick_channels() is a legacy function. New code should use inst.pick(...).\n",
      "Effective window size : 1.001 (s)\n",
      "iaf 9.25\n",
      "NOTE: pick_channels() is a legacy function. New code should use inst.pick(...).\n",
      "Effective window size : 1.001 (s)\n",
      "iaf 9.75\n",
      "NOTE: pick_channels() is a legacy function. New code should use inst.pick(...).\n",
      "Effective window size : 1.001 (s)\n",
      "iaf 9.5\n",
      "NOTE: pick_channels() is a legacy function. New code should use inst.pick(...).\n",
      "Effective window size : 1.001 (s)\n",
      "iaf 9.75\n",
      "NOTE: pick_channels() is a legacy function. New code should use inst.pick(...).\n",
      "Effective window size : 1.001 (s)\n",
      "iaf 10.0\n",
      "NOTE: pick_channels() is a legacy function. New code should use inst.pick(...).\n",
      "Effective window size : 1.001 (s)\n",
      "iaf 10.25\n",
      "NOTE: pick_channels() is a legacy function. New code should use inst.pick(...).\n",
      "Effective window size : 1.001 (s)\n",
      "iaf 10.0\n",
      "NOTE: pick_channels() is a legacy function. New code should use inst.pick(...).\n",
      "Effective window size : 1.001 (s)\n",
      "iaf 10.25\n",
      "NOTE: pick_channels() is a legacy function. New code should use inst.pick(...).\n",
      "Effective window size : 1.001 (s)\n",
      "iaf 10.0\n",
      "NOTE: pick_channels() is a legacy function. New code should use inst.pick(...).\n",
      "Effective window size : 1.001 (s)\n",
      "iaf 9.75\n",
      "NOTE: pick_channels() is a legacy function. New code should use inst.pick(...).\n",
      "Effective window size : 1.001 (s)\n",
      "iaf 10.25\n",
      "NOTE: pick_channels() is a legacy function. New code should use inst.pick(...).\n",
      "Effective window size : 1.001 (s)\n",
      "iaf 10.0\n",
      "NOTE: pick_channels() is a legacy function. New code should use inst.pick(...).\n",
      "Effective window size : 1.001 (s)\n",
      "iaf 10.25\n",
      "NOTE: pick_channels() is a legacy function. New code should use inst.pick(...).\n",
      "Effective window size : 1.001 (s)\n",
      "iaf 10.0\n",
      "NOTE: pick_channels() is a legacy function. New code should use inst.pick(...).\n",
      "Effective window size : 1.001 (s)\n",
      "iaf 10.5\n",
      "NOTE: pick_channels() is a legacy function. New code should use inst.pick(...).\n",
      "Effective window size : 1.001 (s)\n",
      "iaf 10.0\n",
      "NOTE: pick_channels() is a legacy function. New code should use inst.pick(...).\n",
      "Effective window size : 1.001 (s)\n",
      "iaf 10.0\n",
      "NOTE: pick_channels() is a legacy function. New code should use inst.pick(...).\n",
      "Effective window size : 1.001 (s)\n",
      "iaf 9.75\n",
      "NOTE: pick_channels() is a legacy function. New code should use inst.pick(...).\n",
      "Effective window size : 1.001 (s)\n",
      "iaf 10.0\n",
      "NOTE: pick_channels() is a legacy function. New code should use inst.pick(...).\n",
      "Effective window size : 1.001 (s)\n",
      "iaf 9.25\n",
      "NOTE: pick_channels() is a legacy function. New code should use inst.pick(...).\n",
      "Effective window size : 1.001 (s)\n",
      "iaf 9.75\n",
      "NOTE: pick_channels() is a legacy function. New code should use inst.pick(...).\n",
      "Effective window size : 1.001 (s)\n",
      "iaf 9.5\n",
      "NOTE: pick_channels() is a legacy function. New code should use inst.pick(...).\n",
      "Effective window size : 1.001 (s)\n"
     ]
    }
   ],
   "source": [
    "iaf_data = df_iaf\n",
    "cue_key = [\n",
    "        ['left','Comment/60'],\n",
    "        ['right','Comment/70'],\n",
    "        # ['central','Comment/80'],\n",
    "        # ['fixation','Comment/40'],\n",
    "]\n",
    "output = {\n",
    "        'Participant':[],\n",
    "        'ROI':[],\n",
    "        'Cue':[],\n",
    "        'Session':[],\n",
    "        'Power':[],\n",
    "        'Normalised Power':[]\n",
    "    }\n",
    "regions = {\n",
    "        'left central, occipital parietal' : [\"P7\", \"P5\", \"P3\", \"P1\", \"PO7\", \"PO3\", \"O1\", \"CP5\", \"CP3\", \"CP1\"],\n",
    "        'right central, occipital parietal' : [\"P2\", \"P4\", \"P6\", \"P8\", \"PO8\", \"PO4\", \"O2\", \"CP6\", \"CP4\", \"CP2\"],\n",
    "        'left hemisphere':[\"P7\", \"P5\", \"P3\", \"P1\", \"PO7\", \"PO3\", \"O1\"],\n",
    "        'right hemisphere':[\"P2\", \"P4\", \"P6\", \"P8\", \"PO8\", \"PO4\", \"O2\"]\n",
    "}\n",
    "for k in range(len(cue_key)): \n",
    "    cue_id = cue_key[k][1]\n",
    "    for key, value in regions.items():\n",
    "        for e in all_pos_epochs:\n",
    "            sub_id=e[1].strip('/ica_notebooks/cleaned/')\n",
    "            sub_id=re.search(r\"/([^/]*)$\", sub_id).group(1)\n",
    "            sub_id=re.findall(r'm_([^_]*)', sub_id)[0]\n",
    "            session=re.search(r\".*pos(\\d)\\D.*\", e[1]).group(1)\n",
    "            ## USE individualised alpha range ###\n",
    "            # Get iaf and alpha range for subject\n",
    "            iaf = iaf_data[(iaf_data['Participant']==int(sub_id)) & (iaf_data['Session']==int(session))].IAF.iloc[0]\n",
    "            print('iaf', iaf)\n",
    "            a_min = math.floor(iaf - 0.5)\n",
    "            a_max = math.ceil(iaf + 0.5) \n",
    "            freq_range = (a_min, a_max)\n",
    "            ###\n",
    "            a, na = get_psd_power_norm(e[0][cue_id], value, freq_range)\n",
    "            output['Participant'].append(sub_id)\n",
    "            output['ROI'].append(key)\n",
    "            output['Power'].append(a)\n",
    "            output['Normalised Power'].append(na)\n",
    "            output['Cue'].append(cue_key[k][0])\n",
    "            output['Session'].append(session)\n",
    "\n",
    "powers_all = pd.DataFrame(output)"
   ]
  },
  {
   "cell_type": "code",
   "execution_count": 160,
   "metadata": {},
   "outputs": [
    {
     "data": {
      "text/html": [
       "<div>\n",
       "<style scoped>\n",
       "    .dataframe tbody tr th:only-of-type {\n",
       "        vertical-align: middle;\n",
       "    }\n",
       "\n",
       "    .dataframe tbody tr th {\n",
       "        vertical-align: top;\n",
       "    }\n",
       "\n",
       "    .dataframe thead th {\n",
       "        text-align: right;\n",
       "    }\n",
       "</style>\n",
       "<table border=\"1\" class=\"dataframe\">\n",
       "  <thead>\n",
       "    <tr style=\"text-align: right;\">\n",
       "      <th></th>\n",
       "      <th>Participant</th>\n",
       "      <th>ROI</th>\n",
       "      <th>Cue</th>\n",
       "      <th>Session</th>\n",
       "      <th>Power</th>\n",
       "      <th>Normalised Power</th>\n",
       "      <th>baseline_power</th>\n",
       "      <th>Baselined Power</th>\n",
       "      <th>hemisphere</th>\n",
       "    </tr>\n",
       "  </thead>\n",
       "  <tbody>\n",
       "    <tr>\n",
       "      <th>316</th>\n",
       "      <td>9</td>\n",
       "      <td>left hemisphere</td>\n",
       "      <td>left</td>\n",
       "      <td>2</td>\n",
       "      <td>7.418739e-14</td>\n",
       "      <td>0.128692</td>\n",
       "      <td>0.322296</td>\n",
       "      <td>-0.193603</td>\n",
       "      <td>left</td>\n",
       "    </tr>\n",
       "    <tr>\n",
       "      <th>317</th>\n",
       "      <td>9</td>\n",
       "      <td>left hemisphere</td>\n",
       "      <td>left</td>\n",
       "      <td>2</td>\n",
       "      <td>1.119850e-14</td>\n",
       "      <td>0.023748</td>\n",
       "      <td>0.322296</td>\n",
       "      <td>-0.298548</td>\n",
       "      <td>left</td>\n",
       "    </tr>\n",
       "    <tr>\n",
       "      <th>318</th>\n",
       "      <td>9</td>\n",
       "      <td>left hemisphere</td>\n",
       "      <td>right</td>\n",
       "      <td>2</td>\n",
       "      <td>9.982475e-14</td>\n",
       "      <td>0.148738</td>\n",
       "      <td>0.322296</td>\n",
       "      <td>-0.173558</td>\n",
       "      <td>left</td>\n",
       "    </tr>\n",
       "    <tr>\n",
       "      <th>319</th>\n",
       "      <td>9</td>\n",
       "      <td>left hemisphere</td>\n",
       "      <td>right</td>\n",
       "      <td>2</td>\n",
       "      <td>7.363950e-14</td>\n",
       "      <td>0.176926</td>\n",
       "      <td>0.322296</td>\n",
       "      <td>-0.145370</td>\n",
       "      <td>left</td>\n",
       "    </tr>\n",
       "    <tr>\n",
       "      <th>320</th>\n",
       "      <td>19</td>\n",
       "      <td>left hemisphere</td>\n",
       "      <td>left</td>\n",
       "      <td>2</td>\n",
       "      <td>9.977171e-13</td>\n",
       "      <td>0.332360</td>\n",
       "      <td>0.048896</td>\n",
       "      <td>0.283463</td>\n",
       "      <td>left</td>\n",
       "    </tr>\n",
       "    <tr>\n",
       "      <th>...</th>\n",
       "      <td>...</td>\n",
       "      <td>...</td>\n",
       "      <td>...</td>\n",
       "      <td>...</td>\n",
       "      <td>...</td>\n",
       "      <td>...</td>\n",
       "      <td>...</td>\n",
       "      <td>...</td>\n",
       "      <td>...</td>\n",
       "    </tr>\n",
       "    <tr>\n",
       "      <th>627</th>\n",
       "      <td>12</td>\n",
       "      <td>right hemisphere</td>\n",
       "      <td>right</td>\n",
       "      <td>1</td>\n",
       "      <td>7.053065e-15</td>\n",
       "      <td>0.009175</td>\n",
       "      <td>0.190456</td>\n",
       "      <td>-0.181280</td>\n",
       "      <td>right</td>\n",
       "    </tr>\n",
       "    <tr>\n",
       "      <th>628</th>\n",
       "      <td>2</td>\n",
       "      <td>right hemisphere</td>\n",
       "      <td>left</td>\n",
       "      <td>1</td>\n",
       "      <td>5.753695e-14</td>\n",
       "      <td>0.076309</td>\n",
       "      <td>0.056173</td>\n",
       "      <td>0.020136</td>\n",
       "      <td>right</td>\n",
       "    </tr>\n",
       "    <tr>\n",
       "      <th>629</th>\n",
       "      <td>2</td>\n",
       "      <td>right hemisphere</td>\n",
       "      <td>right</td>\n",
       "      <td>1</td>\n",
       "      <td>2.466035e-13</td>\n",
       "      <td>0.225690</td>\n",
       "      <td>0.056173</td>\n",
       "      <td>0.169517</td>\n",
       "      <td>right</td>\n",
       "    </tr>\n",
       "    <tr>\n",
       "      <th>630</th>\n",
       "      <td>6</td>\n",
       "      <td>right hemisphere</td>\n",
       "      <td>left</td>\n",
       "      <td>1</td>\n",
       "      <td>2.609896e-14</td>\n",
       "      <td>0.084713</td>\n",
       "      <td>0.027491</td>\n",
       "      <td>0.057223</td>\n",
       "      <td>right</td>\n",
       "    </tr>\n",
       "    <tr>\n",
       "      <th>631</th>\n",
       "      <td>6</td>\n",
       "      <td>right hemisphere</td>\n",
       "      <td>right</td>\n",
       "      <td>1</td>\n",
       "      <td>9.887933e-15</td>\n",
       "      <td>0.033635</td>\n",
       "      <td>0.027491</td>\n",
       "      <td>0.006145</td>\n",
       "      <td>right</td>\n",
       "    </tr>\n",
       "  </tbody>\n",
       "</table>\n",
       "<p>316 rows × 9 columns</p>\n",
       "</div>"
      ],
      "text/plain": [
       "     Participant               ROI    Cue  Session         Power  \\\n",
       "316            9   left hemisphere   left        2  7.418739e-14   \n",
       "317            9   left hemisphere   left        2  1.119850e-14   \n",
       "318            9   left hemisphere  right        2  9.982475e-14   \n",
       "319            9   left hemisphere  right        2  7.363950e-14   \n",
       "320           19   left hemisphere   left        2  9.977171e-13   \n",
       "..           ...               ...    ...      ...           ...   \n",
       "627           12  right hemisphere  right        1  7.053065e-15   \n",
       "628            2  right hemisphere   left        1  5.753695e-14   \n",
       "629            2  right hemisphere  right        1  2.466035e-13   \n",
       "630            6  right hemisphere   left        1  2.609896e-14   \n",
       "631            6  right hemisphere  right        1  9.887933e-15   \n",
       "\n",
       "     Normalised Power  baseline_power  Baselined Power hemisphere  \n",
       "316          0.128692        0.322296        -0.193603       left  \n",
       "317          0.023748        0.322296        -0.298548       left  \n",
       "318          0.148738        0.322296        -0.173558       left  \n",
       "319          0.176926        0.322296        -0.145370       left  \n",
       "320          0.332360        0.048896         0.283463       left  \n",
       "..                ...             ...              ...        ...  \n",
       "627          0.009175        0.190456        -0.181280      right  \n",
       "628          0.076309        0.056173         0.020136      right  \n",
       "629          0.225690        0.056173         0.169517      right  \n",
       "630          0.084713        0.027491         0.057223      right  \n",
       "631          0.033635        0.027491         0.006145      right  \n",
       "\n",
       "[316 rows x 9 columns]"
      ]
     },
     "execution_count": 160,
     "metadata": {},
     "output_type": "execute_result"
    }
   ],
   "source": [
    "powers_all['Participant'] = powers_all['Participant'].astype(int)\n",
    "powers_all['Session'] = powers_all['Session'].astype(int)\n",
    "powers_baselines = pd.merge(powers_all, base_ec_powers, on=['Participant', 'ROI', 'Session'])\n",
    "powers_baselines['Baselined Power'] = powers_baselines['Normalised Power'] - powers_baselines['baseline_power']\n",
    "powers_baselines['hemisphere'] = powers_baselines['ROI'].apply(determine_hemisphere)\n",
    "powers_baselines = powers_baselines[powers_baselines['ROI'].isin(['left hemisphere', 'right hemisphere'])]\n",
    "powers_baselines"
   ]
  },
  {
   "cell_type": "code",
   "execution_count": 170,
   "metadata": {},
   "outputs": [
    {
     "data": {
      "image/png": "[encoded data removed]",
      "text/plain": [
       "<Figure size 600x400 with 1 Axes>"
      ]
     },
     "metadata": {},
     "output_type": "display_data"
    }
   ],
   "source": [
    "powers_grouped = powers_baselines.groupby(['ROI', 'Cue'])['Normalised Power'].mean().reset_index()\n",
    "\n",
    "powers_pivot = powers_grouped.pivot(index='ROI', columns='Cue', values='Normalised Power')\n",
    "powers_pivot.plot(kind='bar', figsize=(6, 4), color=tab10)\n",
    "\n",
    "# plt.ylabel(r'Alpha power $\\mu V^{2}$')\n",
    "plt.xlabel('Area')\n",
    "plt.xticks(rotation=0)\n",
    "# plt.ylim(-1.6e-17, 1.5e-17)\n",
    "plt.show()"
   ]
  },
  {
   "cell_type": "code",
   "execution_count": 162,
   "metadata": {},
   "outputs": [
    {
     "data": {
      "text/html": [
       "<div>\n",
       "<style scoped>\n",
       "    .dataframe tbody tr th:only-of-type {\n",
       "        vertical-align: middle;\n",
       "    }\n",
       "\n",
       "    .dataframe tbody tr th {\n",
       "        vertical-align: top;\n",
       "    }\n",
       "\n",
       "    .dataframe thead th {\n",
       "        text-align: right;\n",
       "    }\n",
       "</style>\n",
       "<table border=\"1\" class=\"dataframe\">\n",
       "  <thead>\n",
       "    <tr style=\"text-align: right;\">\n",
       "      <th></th>\n",
       "      <th>ROI</th>\n",
       "      <th>T-statistic</th>\n",
       "      <th>p-value</th>\n",
       "      <th>Mean Left</th>\n",
       "      <th>Mean Right</th>\n",
       "    </tr>\n",
       "  </thead>\n",
       "  <tbody>\n",
       "    <tr>\n",
       "      <th>0</th>\n",
       "      <td>left hemisphere</td>\n",
       "      <td>0.979322</td>\n",
       "      <td>0.328937</td>\n",
       "      <td>0.108103</td>\n",
       "      <td>0.096832</td>\n",
       "    </tr>\n",
       "    <tr>\n",
       "      <th>1</th>\n",
       "      <td>right hemisphere</td>\n",
       "      <td>-0.343864</td>\n",
       "      <td>0.731412</td>\n",
       "      <td>0.107303</td>\n",
       "      <td>0.111320</td>\n",
       "    </tr>\n",
       "  </tbody>\n",
       "</table>\n",
       "</div>"
      ],
      "text/plain": [
       "                ROI  T-statistic   p-value  Mean Left  Mean Right\n",
       "0   left hemisphere     0.979322  0.328937   0.108103    0.096832\n",
       "1  right hemisphere    -0.343864  0.731412   0.107303    0.111320"
      ]
     },
     "execution_count": 162,
     "metadata": {},
     "output_type": "execute_result"
    }
   ],
   "source": [
    "column = \"Normalised Power\"\n",
    "df = powers_baselines\n",
    "unique_rois = df['ROI'].unique()\n",
    "results = []\n",
    "\n",
    "for roi in unique_rois:\n",
    "    # Filter data for specific ROI\n",
    "    roi_df = df[df['ROI'] == roi]\n",
    "    \n",
    "    # Split data based on cue\n",
    "    left_cue = roi_df[roi_df['Cue'] == 'left'][column]\n",
    "    right_cue = roi_df[roi_df['Cue'] == 'right'][column]\n",
    "    \n",
    "    # Perform t-test\n",
    "    t_stat, p_value = stats.ttest_ind(left_cue, right_cue)\n",
    "    \n",
    "    # Store results\n",
    "    results.append((roi, t_stat, p_value, left_cue.mean(), right_cue.mean()))\n",
    "\n",
    "# Convert results into DataFrame for easier visualization\n",
    "results_df = pd.DataFrame(results, columns=['ROI', 'T-statistic', 'p-value', 'Mean Left', 'Mean Right'])\n",
    "results_df"
   ]
  },
  {
   "cell_type": "code",
   "execution_count": 169,
   "metadata": {},
   "outputs": [
    {
     "data": {
      "image/png": "[encoded data removed]",
      "text/plain": [
       "<Figure size 600x400 with 1 Axes>"
      ]
     },
     "metadata": {},
     "output_type": "display_data"
    }
   ],
   "source": [
    "powers_grouped = powers_baselines.groupby(['ROI', 'Cue'])['Power'].mean().reset_index()\n",
    "\n",
    "powers_pivot = powers_grouped.pivot(index='ROI', columns='Cue', values='Power')\n",
    "powers_pivot.plot(kind='bar', figsize=(6, 4), color=tab10)\n",
    "\n",
    "plt.ylabel(r'Alpha power $\\mu V^{2}$')\n",
    "plt.xlabel('Area')\n",
    "plt.xticks(rotation=0)\n",
    "# plt.ylim(-1.6e-17, 1.5e-17)\n",
    "plt.show()"
   ]
  },
  {
   "cell_type": "code",
   "execution_count": 176,
   "metadata": {},
   "outputs": [
    {
     "data": {
      "text/plain": [
       "array(['left', 'right'], dtype=object)"
      ]
     },
     "execution_count": 176,
     "metadata": {},
     "output_type": "execute_result"
    }
   ],
   "source": [
    "df.Cue.unique()"
   ]
  },
  {
   "cell_type": "code",
   "execution_count": 183,
   "metadata": {},
   "outputs": [
    {
     "data": {
      "text/html": [
       "<div>\n",
       "<style scoped>\n",
       "    .dataframe tbody tr th:only-of-type {\n",
       "        vertical-align: middle;\n",
       "    }\n",
       "\n",
       "    .dataframe tbody tr th {\n",
       "        vertical-align: top;\n",
       "    }\n",
       "\n",
       "    .dataframe thead th {\n",
       "        text-align: right;\n",
       "    }\n",
       "</style>\n",
       "<table border=\"1\" class=\"dataframe\">\n",
       "  <thead>\n",
       "    <tr style=\"text-align: right;\">\n",
       "      <th></th>\n",
       "      <th>Cue</th>\n",
       "      <th>T-statistic</th>\n",
       "      <th>p-value</th>\n",
       "      <th>Mean Left</th>\n",
       "      <th>Mean Right</th>\n",
       "    </tr>\n",
       "  </thead>\n",
       "  <tbody>\n",
       "    <tr>\n",
       "      <th>0</th>\n",
       "      <td>left</td>\n",
       "      <td>0.493748</td>\n",
       "      <td>0.622178</td>\n",
       "      <td>1.370328e-13</td>\n",
       "      <td>1.231077e-13</td>\n",
       "    </tr>\n",
       "    <tr>\n",
       "      <th>1</th>\n",
       "      <td>right</td>\n",
       "      <td>-1.962279</td>\n",
       "      <td>0.051509</td>\n",
       "      <td>8.446909e-14</td>\n",
       "      <td>1.249131e-13</td>\n",
       "    </tr>\n",
       "  </tbody>\n",
       "</table>\n",
       "</div>"
      ],
      "text/plain": [
       "     Cue  T-statistic   p-value     Mean Left    Mean Right\n",
       "0   left     0.493748  0.622178  1.370328e-13  1.231077e-13\n",
       "1  right    -1.962279  0.051509  8.446909e-14  1.249131e-13"
      ]
     },
     "execution_count": 183,
     "metadata": {},
     "output_type": "execute_result"
    }
   ],
   "source": [
    "column = \"Power\"\n",
    "df = powers_baselines\n",
    "unique_cues = df['Cue'].unique()\n",
    "results = []\n",
    "\n",
    "for cue in unique_cues:\n",
    "    # Filter data for specific ROI\n",
    "    roi_df = df[df['Cue'] == cue]\n",
    "    \n",
    "    # Split data based on cue\n",
    "    left_roi = roi_df[roi_df['ROI'] == 'left hemisphere'][column]\n",
    "    right_roi = roi_df[roi_df['ROI'] == 'right hemisphere'][column]\n",
    "    \n",
    "    # Perform t-test\n",
    "    t_stat, p_value = stats.ttest_ind(left_roi, right_roi)\n",
    "    \n",
    "    # Store results\n",
    "    results.append((cue, t_stat, p_value, left_roi.mean(), right_roi.mean()))\n",
    "\n",
    "# Convert results into DataFrame for easier visualization\n",
    "results_df = pd.DataFrame(results, columns=['Cue', 'T-statistic', 'p-value', 'Mean Left', 'Mean Right'])\n",
    "results_df"
   ]
  },
  {
   "cell_type": "code",
   "execution_count": 164,
   "metadata": {},
   "outputs": [
    {
     "data": {
      "text/html": [
       "<div>\n",
       "<style scoped>\n",
       "    .dataframe tbody tr th:only-of-type {\n",
       "        vertical-align: middle;\n",
       "    }\n",
       "\n",
       "    .dataframe tbody tr th {\n",
       "        vertical-align: top;\n",
       "    }\n",
       "\n",
       "    .dataframe thead th {\n",
       "        text-align: right;\n",
       "    }\n",
       "</style>\n",
       "<table border=\"1\" class=\"dataframe\">\n",
       "  <thead>\n",
       "    <tr style=\"text-align: right;\">\n",
       "      <th></th>\n",
       "      <th>ROI</th>\n",
       "      <th>T-statistic</th>\n",
       "      <th>p-value</th>\n",
       "      <th>Mean Left</th>\n",
       "      <th>Mean Right</th>\n",
       "    </tr>\n",
       "  </thead>\n",
       "  <tbody>\n",
       "    <tr>\n",
       "      <th>0</th>\n",
       "      <td>left hemisphere</td>\n",
       "      <td>2.013748</td>\n",
       "      <td>0.045755</td>\n",
       "      <td>1.370328e-13</td>\n",
       "      <td>8.446909e-14</td>\n",
       "    </tr>\n",
       "    <tr>\n",
       "      <th>1</th>\n",
       "      <td>right hemisphere</td>\n",
       "      <td>-0.077773</td>\n",
       "      <td>0.938108</td>\n",
       "      <td>1.231077e-13</td>\n",
       "      <td>1.249131e-13</td>\n",
       "    </tr>\n",
       "  </tbody>\n",
       "</table>\n",
       "</div>"
      ],
      "text/plain": [
       "                ROI  T-statistic   p-value     Mean Left    Mean Right\n",
       "0   left hemisphere     2.013748  0.045755  1.370328e-13  8.446909e-14\n",
       "1  right hemisphere    -0.077773  0.938108  1.231077e-13  1.249131e-13"
      ]
     },
     "execution_count": 164,
     "metadata": {},
     "output_type": "execute_result"
    }
   ],
   "source": [
    "column = \"Power\"\n",
    "df = powers_baselines\n",
    "unique_rois = df['ROI'].unique()\n",
    "results = []\n",
    "\n",
    "for roi in unique_rois:\n",
    "    # Filter data for specific ROI\n",
    "    roi_df = df[df['ROI'] == roi]\n",
    "    \n",
    "    # Split data based on cue\n",
    "    left_cue = roi_df[roi_df['Cue'] == 'left'][column]\n",
    "    right_cue = roi_df[roi_df['Cue'] == 'right'][column]\n",
    "    \n",
    "    # Perform t-test\n",
    "    t_stat, p_value = stats.ttest_ind(left_cue, right_cue)\n",
    "    \n",
    "    # Store results\n",
    "    results.append((roi, t_stat, p_value, left_cue.mean(), right_cue.mean()))\n",
    "\n",
    "# Convert results into DataFrame for easier visualization\n",
    "results_df = pd.DataFrame(results, columns=['ROI', 'T-statistic', 'p-value', 'Mean Left', 'Mean Right'])\n",
    "results_df"
   ]
  },
  {
   "cell_type": "code",
   "execution_count": 166,
   "metadata": {},
   "outputs": [
    {
     "data": {
      "image/png": "[encoded data removed]",
      "text/plain": [
       "<Figure size 600x400 with 1 Axes>"
      ]
     },
     "metadata": {},
     "output_type": "display_data"
    }
   ],
   "source": [
    "powers_grouped = powers_baselines.groupby(['ROI', 'Cue'])['Baselined Power'].mean().reset_index()\n",
    "\n",
    "# powers_grouped = powers_grouped[~powers_grouped['ROI'].isin(['left hemisphere', 'right hemisphere'])]\n",
    "\n",
    "powers_pivot = powers_grouped.pivot(index='ROI', columns='Cue', values='Baselined Power')\n",
    "powers_pivot.plot(kind='bar', figsize=(6, 4), color=tab10)\n",
    "\n",
    "# plt.ylabel(r'Alpha power $\\mu V^{2}$')\n",
    "plt.xlabel('Area')\n",
    "plt.xticks(rotation=0)\n",
    "# plt.ylim(1e-12, 3.6e-12)\n",
    "plt.show()"
   ]
  },
  {
   "cell_type": "code",
   "execution_count": 184,
   "metadata": {},
   "outputs": [
    {
     "data": {
      "text/html": [
       "<div>\n",
       "<style scoped>\n",
       "    .dataframe tbody tr th:only-of-type {\n",
       "        vertical-align: middle;\n",
       "    }\n",
       "\n",
       "    .dataframe tbody tr th {\n",
       "        vertical-align: top;\n",
       "    }\n",
       "\n",
       "    .dataframe thead th {\n",
       "        text-align: right;\n",
       "    }\n",
       "</style>\n",
       "<table border=\"1\" class=\"dataframe\">\n",
       "  <thead>\n",
       "    <tr style=\"text-align: right;\">\n",
       "      <th></th>\n",
       "      <th>Cue</th>\n",
       "      <th>T-statistic</th>\n",
       "      <th>p-value</th>\n",
       "      <th>Mean Left</th>\n",
       "      <th>Mean Right</th>\n",
       "    </tr>\n",
       "  </thead>\n",
       "  <tbody>\n",
       "    <tr>\n",
       "      <th>0</th>\n",
       "      <td>left</td>\n",
       "      <td>-0.260454</td>\n",
       "      <td>0.794857</td>\n",
       "      <td>0.018840</td>\n",
       "      <td>0.023481</td>\n",
       "    </tr>\n",
       "    <tr>\n",
       "      <th>1</th>\n",
       "      <td>right</td>\n",
       "      <td>-1.281903</td>\n",
       "      <td>0.201778</td>\n",
       "      <td>0.007568</td>\n",
       "      <td>0.027498</td>\n",
       "    </tr>\n",
       "  </tbody>\n",
       "</table>\n",
       "</div>"
      ],
      "text/plain": [
       "     Cue  T-statistic   p-value  Mean Left  Mean Right\n",
       "0   left    -0.260454  0.794857   0.018840    0.023481\n",
       "1  right    -1.281903  0.201778   0.007568    0.027498"
      ]
     },
     "execution_count": 184,
     "metadata": {},
     "output_type": "execute_result"
    }
   ],
   "source": [
    "column = \"Baselined Power\"\n",
    "df = powers_baselines\n",
    "unique_cues = df['Cue'].unique()\n",
    "results = []\n",
    "\n",
    "for cue in unique_cues:\n",
    "    # Filter data for specific ROI\n",
    "    roi_df = df[df['Cue'] == cue]\n",
    "    \n",
    "    # Split data based on cue\n",
    "    left_roi = roi_df[roi_df['ROI'] == 'left hemisphere'][column]\n",
    "    right_roi = roi_df[roi_df['ROI'] == 'right hemisphere'][column]\n",
    "    \n",
    "    # Perform t-test\n",
    "    t_stat, p_value = stats.ttest_ind(left_roi, right_roi)\n",
    "    \n",
    "    # Store results\n",
    "    results.append((cue, t_stat, p_value, left_roi.mean(), right_roi.mean()))\n",
    "\n",
    "# Convert results into DataFrame for easier visualization\n",
    "results_df = pd.DataFrame(results, columns=['Cue', 'T-statistic', 'p-value', 'Mean Left', 'Mean Right'])\n",
    "results_df"
   ]
  },
  {
   "cell_type": "code",
   "execution_count": 185,
   "metadata": {},
   "outputs": [
    {
     "data": {
      "text/html": [
       "<div>\n",
       "<style scoped>\n",
       "    .dataframe tbody tr th:only-of-type {\n",
       "        vertical-align: middle;\n",
       "    }\n",
       "\n",
       "    .dataframe tbody tr th {\n",
       "        vertical-align: top;\n",
       "    }\n",
       "\n",
       "    .dataframe thead th {\n",
       "        text-align: right;\n",
       "    }\n",
       "</style>\n",
       "<table border=\"1\" class=\"dataframe\">\n",
       "  <thead>\n",
       "    <tr style=\"text-align: right;\">\n",
       "      <th></th>\n",
       "      <th>ROI</th>\n",
       "      <th>T-statistic</th>\n",
       "      <th>p-value</th>\n",
       "      <th>Mean Left</th>\n",
       "      <th>Mean Right</th>\n",
       "    </tr>\n",
       "  </thead>\n",
       "  <tbody>\n",
       "    <tr>\n",
       "      <th>0</th>\n",
       "      <td>left hemisphere</td>\n",
       "      <td>0.657753</td>\n",
       "      <td>0.511666</td>\n",
       "      <td>0.018840</td>\n",
       "      <td>0.007568</td>\n",
       "    </tr>\n",
       "    <tr>\n",
       "      <th>1</th>\n",
       "      <td>right hemisphere</td>\n",
       "      <td>-0.246469</td>\n",
       "      <td>0.805643</td>\n",
       "      <td>0.023481</td>\n",
       "      <td>0.027498</td>\n",
       "    </tr>\n",
       "  </tbody>\n",
       "</table>\n",
       "</div>"
      ],
      "text/plain": [
       "                ROI  T-statistic   p-value  Mean Left  Mean Right\n",
       "0   left hemisphere     0.657753  0.511666   0.018840    0.007568\n",
       "1  right hemisphere    -0.246469  0.805643   0.023481    0.027498"
      ]
     },
     "execution_count": 185,
     "metadata": {},
     "output_type": "execute_result"
    }
   ],
   "source": [
    "column = \"Baselined Power\"\n",
    "df = powers_baselines\n",
    "unique_rois = df['ROI'].unique()\n",
    "results = []\n",
    "\n",
    "for roi in unique_rois:\n",
    "    # Filter data for specific ROI\n",
    "    roi_df = df[df['ROI'] == roi]\n",
    "    \n",
    "    # Split data based on cue\n",
    "    left_cue = roi_df[roi_df['Cue'] == 'left'][column]\n",
    "    right_cue = roi_df[roi_df['Cue'] == 'right'][column]\n",
    "    \n",
    "    # Perform t-test\n",
    "    t_stat, p_value = stats.ttest_ind(left_cue, right_cue)\n",
    "    \n",
    "    # Store results\n",
    "    results.append((roi, t_stat, p_value, left_cue.mean(), right_cue.mean()))\n",
    "\n",
    "# Convert results into DataFrame for easier visualization\n",
    "results_df = pd.DataFrame(results, columns=['ROI', 'T-statistic', 'p-value', 'Mean Left', 'Mean Right'])\n",
    "results_df"
   ]
  }
 ],
 "metadata": {
  "kernelspec": {
   "display_name": "Python 3",
   "language": "python",
   "name": "python3"
  },
  "language_info": {
   "codemirror_mode": {
    "name": "ipython",
    "version": 3
   },
   "file_extension": ".py",
   "mimetype": "text/x-python",
   "name": "python",
   "nbconvert_exporter": "python",
   "pygments_lexer": "ipython3",
   "version": "3.10.10"
  },
  "orig_nbformat": 4
 },
 "nbformat": 4,
 "nbformat_minor": 2
}
