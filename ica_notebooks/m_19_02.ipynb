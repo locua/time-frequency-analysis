{
 "cells": [
  {
   "cell_type": "code",
   "execution_count": 1,
   "id": "abc290bf",
   "metadata": {},
   "outputs": [
    {
     "name": "stdout",
     "output_type": "stream",
     "text": [
      "IMPORTED MODULES today: 2023-07-18 17:52:17.882184\n"
     ]
    }
   ],
   "source": [
    "## imports\n",
    "import pandas as pd\n",
    "import numpy as np\n",
    "import mne\n",
    "import re\n",
    "import os\n",
    "\n",
    "from mne.preprocessing import (\n",
    "    ICA, \n",
    "    create_ecg_epochs, \n",
    "    corrmap, \n",
    "    create_eog_epochs\n",
    ")\n",
    "\n",
    "# mne graphics config\n",
    "# from PySide6 import QtCore, QtGui, QtWidgets, __version__ \n",
    "\n",
    "rawa = None\n",
    "rawb = None\n",
    "\n",
    "import datetime\n",
    "print('IMPORTED MODULES today:', datetime.datetime.now())\n",
    "\n",
    "# Removed cached function import\n",
    "import sys\n",
    "try:\n",
    "    del sys.modules['rename_events']\n",
    "except KeyError:\n",
    "    pass\n",
    "\n",
    "from rename_events import relabel_events\n",
    "\n",
    "\n",
    "# setup\n",
    "\n",
    "# SESSION AND POSNER CODES\n",
    "session_id='m_19_02'\n",
    "posner_id ='pos2a'\n",
    "posner_id_b ='pos2b'"
   ]
  },
  {
   "cell_type": "code",
   "execution_count": 2,
   "id": "061e20c2",
   "metadata": {},
   "outputs": [],
   "source": [
    "%matplotlib qt"
   ]
  },
  {
   "cell_type": "markdown",
   "id": "f67cbf48",
   "metadata": {},
   "source": [
    "# Posner A"
   ]
  },
  {
   "cell_type": "code",
   "execution_count": 3,
   "id": "8d5439c2",
   "metadata": {},
   "outputs": [
    {
     "name": "stdout",
     "output_type": "stream",
     "text": [
      "Data file:  m_19_02/m_19_02_pos2a.vhdr\n"
     ]
    },
    {
     "name": "stderr",
     "output_type": "stream",
     "text": [
      "/Users/babe/src/gla/dissertation/go/ica_notebooks/rename_events.py:50: RuntimeWarning: No coordinate information found for channels ['ECG']. Setting channel types to misc. To avoid this warning, set channel types explicitly.\n",
      "  raw = mne.io.read_raw_brainvision(vhdr_file, preload=True, verbose=0)\n"
     ]
    },
    {
     "name": "stdout",
     "output_type": "stream",
     "text": [
      "Used Annotations descriptions: ['New Segment/', 'Stimulus/S  1', 'Stimulus/S  5', 'Stimulus/S 10', 'Stimulus/S 30', 'Stimulus/S 40', 'Stimulus/S 50', 'Stimulus/S 51', 'Stimulus/S 60', 'Stimulus/S 70', 'Stimulus/S 80', 'Stimulus/S101', 'Stimulus/S109']\n",
      "Found '2b' in file: m_19_02/19_2b_posner_task_2023-06-21_16h48.15.699/19_2b_posner_task_2023-06-21_16h48.15.699.csv\n",
      "********** 2a\n"
     ]
    },
    {
     "name": "stderr",
     "output_type": "stream",
     "text": [
      "/Users/babe/src/gla/dissertation/go/ica_notebooks/rename_events.py:50: RuntimeWarning: Not setting position of 1 misc channel found in montage:\n",
      "['ECG']\n",
      "Consider setting the channel types to be of EEG/sEEG/ECoG/DBS/fNIRS using inst.set_channel_types before calling inst.set_montage, or omit these channels when creating your montage.\n",
      "  raw = mne.io.read_raw_brainvision(vhdr_file, preload=True, verbose=0)\n"
     ]
    },
    {
     "ename": "KeyError",
     "evalue": "'2a'",
     "output_type": "error",
     "traceback": [
      "\u001b[0;31m---------------------------------------------------------------------------\u001b[0m",
      "\u001b[0;31mKeyError\u001b[0m                                  Traceback (most recent call last)",
      "Cell \u001b[0;32mIn[3], line 2\u001b[0m\n\u001b[1;32m      1\u001b[0m \u001b[39m# Relabel stim events and load raw data\u001b[39;00m\n\u001b[0;32m----> 2\u001b[0m raw_a \u001b[39m=\u001b[39m relabel_events(session_id, posner_id)\n",
      "File \u001b[0;32m~/src/gla/dissertation/go/ica_notebooks/rename_events.py:73\u001b[0m, in \u001b[0;36mrelabel_events\u001b[0;34m(session_id, pos_id)\u001b[0m\n\u001b[1;32m     70\u001b[0m pos_task \u001b[39m=\u001b[39m pos_id\u001b[39m.\u001b[39mstrip(\u001b[39m'\u001b[39m\u001b[39mpos\u001b[39m\u001b[39m'\u001b[39m)\n\u001b[1;32m     71\u001b[0m \u001b[39mprint\u001b[39m(\u001b[39m\"\u001b[39m\u001b[39m**********\u001b[39m\u001b[39m\"\u001b[39m, pos_task)\n\u001b[0;32m---> 73\u001b[0m posner_csv_file \u001b[39m=\u001b[39m csv_files[pos_task] \n\u001b[1;32m     74\u001b[0m posner_csv \u001b[39m=\u001b[39m pd\u001b[39m.\u001b[39mread_csv(posner_csv_file)\n\u001b[1;32m     75\u001b[0m cols \u001b[39m=\u001b[39m [\u001b[39m\"\u001b[39m\u001b[39mblock_name\u001b[39m\u001b[39m\"\u001b[39m, \u001b[39m\"\u001b[39m\u001b[39mcue_dir\u001b[39m\u001b[39m\"\u001b[39m, \u001b[39m\"\u001b[39m\u001b[39mstim_pos\u001b[39m\u001b[39m\"\u001b[39m, \u001b[39m\"\u001b[39m\u001b[39msession\u001b[39m\u001b[39m\"\u001b[39m, \u001b[39m\"\u001b[39m\u001b[39mvalid_cue\u001b[39m\u001b[39m\"\u001b[39m]\n",
      "\u001b[0;31mKeyError\u001b[0m: '2a'"
     ]
    }
   ],
   "source": [
    "# Relabel stim events and load raw data\n",
    "raw_a = relabel_events(session_id, posner_id)"
   ]
  },
  {
   "cell_type": "code",
   "execution_count": 29,
   "id": "7fdf55d4",
   "metadata": {},
   "outputs": [
    {
     "name": "stdout",
     "output_type": "stream",
     "text": [
      "Used Annotations descriptions: ['10', '101', '109', '117', '20', '30', '40', '50', '51', '52', '60', '70', '80', '99999']\n",
      "Filtering raw data in 1 contiguous segment\n",
      "Setting up band-pass filter from 1 - 40 Hz\n",
      "\n",
      "FIR filter parameters\n",
      "---------------------\n",
      "Designing a one-pass, zero-phase, non-causal bandpass filter:\n",
      "- Windowed time-domain design (firwin) method\n",
      "- Hamming window with 0.0194 passband ripple and 53 dB stopband attenuation\n",
      "- Lower passband edge: 1.00\n",
      "- Lower transition bandwidth: 1.00 Hz (-6 dB cutoff frequency: 0.50 Hz)\n",
      "- Upper passband edge: 40.00 Hz\n",
      "- Upper transition bandwidth: 10.00 Hz (-6 dB cutoff frequency: 45.00 Hz)\n",
      "- Filter length: 3301 samples (3.301 s)\n",
      "\n"
     ]
    },
    {
     "name": "stderr",
     "output_type": "stream",
     "text": [
      "[Parallel(n_jobs=1)]: Using backend SequentialBackend with 1 concurrent workers.\n",
      "[Parallel(n_jobs=1)]: Done   1 out of   1 | elapsed:    0.0s remaining:    0.0s\n",
      "[Parallel(n_jobs=1)]: Done   2 out of   2 | elapsed:    0.0s remaining:    0.0s\n",
      "[Parallel(n_jobs=1)]: Done   3 out of   3 | elapsed:    0.0s remaining:    0.0s\n",
      "[Parallel(n_jobs=1)]: Done   4 out of   4 | elapsed:    0.0s remaining:    0.0s\n"
     ]
    },
    {
     "name": "stdout",
     "output_type": "stream",
     "text": [
      "Not setting metadata\n",
      "414 matching events found\n",
      "Setting baseline interval to [-0.2, 0.0] s\n",
      "Applying baseline correction (mode: mean)\n",
      "0 projection items activated\n",
      "Using data from preloaded Raw for 414 events and 701 original time points ...\n",
      "6 bad epochs dropped\n"
     ]
    },
    {
     "name": "stderr",
     "output_type": "stream",
     "text": [
      "[Parallel(n_jobs=1)]: Done  63 out of  63 | elapsed:    0.7s finished\n"
     ]
    }
   ],
   "source": [
    "event_map = {'1': 11, '10': 10, '101': 101, '109': 109, '11': 11, '117': 117, '20': 20, '30': 30, '40': 40, '5': 5, '50': 50, '51': 51, '52': 52, '60': 60, '70': 70, '80': 80, '99999': 99999}\n",
    "\n",
    "# get events and times\n",
    "events, event_id = mne.events_from_annotations(raw_a, event_map)\n",
    "\n",
    "e_a = events\n",
    "# all rows with fixation (code 40)\n",
    "e_40_a = e_a[e_a[:, 2] == 40]\n",
    "# all rows with trial end (code 101)\n",
    "e_101_a = e_a[e_a[:,2]==101]\n",
    "\n",
    "a_tmin= e_40_a[0][0]/1000\n",
    "a_tmax= e_101_a[-1][0]/1000\n",
    "\n",
    "# Crop and make a copy and filter\n",
    "filt_raw_a = raw_a.crop(tmin=a_tmin, tmax=a_tmax).copy().filter(l_freq=1.0, h_freq=40)\n",
    "\n",
    "epochs_a = mne.Epochs(filt_raw_a, \n",
    "                    e_a, \n",
    "                    event_id=None, \n",
    "                    tmin=-0.2, \n",
    "                    tmax=0.5, \n",
    "                    preload=True, \n",
    "                    baseline=(None, 0))"
   ]
  },
  {
   "cell_type": "code",
   "execution_count": 50,
   "id": "482280da",
   "metadata": {},
   "outputs": [
    {
     "name": "stdout",
     "output_type": "stream",
     "text": [
      "Using pyopengl with version 3.1.6\n"
     ]
    },
    {
     "data": {
      "text/plain": [
       "<mne_qt_browser._pg_figure.MNEQtBrowser at 0x2c6311480>"
      ]
     },
     "execution_count": 50,
     "metadata": {},
     "output_type": "execute_result"
    },
    {
     "name": "stdout",
     "output_type": "stream",
     "text": [
      "Channels marked as bad:\n",
      "none\n",
      "Channels marked as bad:\n",
      "none\n"
     ]
    }
   ],
   "source": [
    "raw_a.plot()"
   ]
  },
  {
   "cell_type": "code",
   "execution_count": 31,
   "id": "dd900d04",
   "metadata": {
    "scrolled": true
   },
   "outputs": [
    {
     "name": "stdout",
     "output_type": "stream",
     "text": [
      "Fitting ICA to data using 63 channels (please be patient, this may take a while)\n",
      "Selecting by number: 63 components\n",
      "Fitting ICA took 107.7s.\n"
     ]
    },
    {
     "data": {
      "text/html": [
       "<table class=\"table table-hover table-striped table-sm table-responsive small\">\n",
       "    <tr>\n",
       "        <th>Method</th>\n",
       "        <td>fastica</td>\n",
       "    </tr>\n",
       "    <tr>\n",
       "        <th>Fit</th>\n",
       "        <td>75 iterations on raw data (685732 samples)</td>\n",
       "    </tr>\n",
       "    \n",
       "    <tr>\n",
       "        <th>ICA components</th>\n",
       "        <td>63</td>\n",
       "    </tr>\n",
       "    <tr>\n",
       "        <th>Available PCA components</th>\n",
       "        <td>63</td>\n",
       "    </tr>\n",
       "    <tr>\n",
       "        <th>Channel types</th>\n",
       "        <td>eeg</td>\n",
       "    </tr>\n",
       "    <tr>\n",
       "        <th>ICA components marked for exclusion</th>\n",
       "        <td>&mdash;</td>\n",
       "    </tr>\n",
       "    \n",
       "</table>"
      ],
      "text/plain": [
       "<ICA | raw data decomposition, method: fastica (fit in 75 iterations on 685732 samples), 63 ICA components (63 PCA components available), channel types: eeg, no sources marked for exclusion>"
      ]
     },
     "execution_count": 31,
     "metadata": {},
     "output_type": "execute_result"
    }
   ],
   "source": [
    "# Fitting ICA\n",
    "ica = ICA(n_components=len(filt_raw_a.ch_names)-1, max_iter=\"auto\", random_state=999)\n",
    "ica.fit(filt_raw_a)\n",
    "ica"
   ]
  },
  {
   "cell_type": "code",
   "execution_count": 32,
   "id": "a77d2828",
   "metadata": {},
   "outputs": [
    {
     "name": "stdout",
     "output_type": "stream",
     "text": [
      "Creating RawArray with float64 data, n_channels=63, n_times=685732\n",
      "    Range : 131125 ... 816856 =    131.125 ...   816.856 secs\n",
      "Ready.\n",
      "Using pyopengl with version 3.1.6\n"
     ]
    },
    {
     "data": {
      "text/plain": [
       "<mne_qt_browser._pg_figure.MNEQtBrowser at 0x2d0a2f5b0>"
      ]
     },
     "execution_count": 32,
     "metadata": {},
     "output_type": "execute_result"
    },
    {
     "name": "stdout",
     "output_type": "stream",
     "text": [
      "    Using multitaper spectrum estimation with 7 DPSS windows\n",
      "Not setting metadata\n",
      "342 matching events found\n",
      "No baseline correction applied\n",
      "0 projection items activated\n",
      "    Using multitaper spectrum estimation with 7 DPSS windows\n",
      "Not setting metadata\n",
      "342 matching events found\n",
      "No baseline correction applied\n",
      "0 projection items activated\n",
      "    Using multitaper spectrum estimation with 7 DPSS windows\n",
      "Not setting metadata\n",
      "342 matching events found\n",
      "No baseline correction applied\n",
      "0 projection items activated\n",
      "    Using multitaper spectrum estimation with 7 DPSS windows\n",
      "Not setting metadata\n",
      "342 matching events found\n",
      "No baseline correction applied\n",
      "0 projection items activated\n",
      "    Using multitaper spectrum estimation with 7 DPSS windows\n",
      "Not setting metadata\n",
      "342 matching events found\n",
      "No baseline correction applied\n",
      "0 projection items activated\n"
     ]
    }
   ],
   "source": [
    "raw_a.load_data()\n",
    "ica.plot_sources(raw_a)"
   ]
  },
  {
   "cell_type": "code",
   "execution_count": 33,
   "id": "9644a510",
   "metadata": {},
   "outputs": [
    {
     "name": "stdout",
     "output_type": "stream",
     "text": [
      "[5, 4, 3, 2, 1, 0]\n"
     ]
    }
   ],
   "source": [
    "print(ica.exclude)"
   ]
  },
  {
   "cell_type": "code",
   "execution_count": 34,
   "id": "fdd3ea51",
   "metadata": {},
   "outputs": [
    {
     "name": "stdout",
     "output_type": "stream",
     "text": [
      "Applying ICA to Raw instance\n",
      "    Transforming to ICA space (63 components)\n",
      "    Zeroing out 6 ICA components\n",
      "    Projecting back using 63 PCA components\n",
      "Using pyopengl with version 3.1.6\n",
      "Using pyopengl with version 3.1.6\n"
     ]
    },
    {
     "data": {
      "text/plain": [
       "<mne_qt_browser._pg_figure.MNEQtBrowser at 0x2c9ecb0a0>"
      ]
     },
     "execution_count": 34,
     "metadata": {},
     "output_type": "execute_result"
    },
    {
     "name": "stdout",
     "output_type": "stream",
     "text": [
      "Channels marked as bad:\n",
      "none\n",
      "Channels marked as bad:\n",
      "none\n"
     ]
    }
   ],
   "source": [
    "reconstr_raw = raw_a.copy()\n",
    "# Apply ica to copy\n",
    "ica.apply(reconstr_raw)\n",
    "# Plot\n",
    "raw_a.plot(title=\"Raw data\")\n",
    "reconstr_raw.plot(title=\"ICA applied\")"
   ]
  },
  {
   "cell_type": "code",
   "execution_count": 42,
   "id": "f9b0d9bd",
   "metadata": {},
   "outputs": [
    {
     "name": "stdout",
     "output_type": "stream",
     "text": [
      "m_00_01_pos1a.vhdr\n",
      "/Users/babe/src/gla/dissertation/go/cleaned/m_00_01\n",
      "\n",
      "**** Saving file to:  /Users/babe/src/gla/dissertation/go/cleaned/m_00_01/m_00_01_pos1a.vhdr\n"
     ]
    },
    {
     "name": "stderr",
     "output_type": "stream",
     "text": [
      "/Applications/MNE-Python/.mne-python/lib/python3.10/site-packages/pybv/_export.py:61: RuntimeWarning: Encountered data in 'short' format. Converting to float32.\n",
      "  warn(\n",
      "/Applications/MNE-Python/.mne-python/lib/python3.10/site-packages/pybv/io.py:690: UserWarning: Encountered unsupported non-voltage units: n/a\n",
      "Note that the BrainVision format specification supports only µV.\n",
      "  warn(msg)\n"
     ]
    }
   ],
   "source": [
    "# Save file\n",
    "file_name = session_id+'_'+posner_id+'.vhdr'\n",
    "output_dir='cleaned'\n",
    "\n",
    "print(file_name)\n",
    "cur_dir = os.getcwd()\n",
    "session_dir = os.path.join(cur_dir, output_dir, session_id)\n",
    "print(session_dir)\n",
    "\n",
    "if not os.path.exists(session_dir):\n",
    "   os.makedirs(session_dir)\n",
    "\n",
    "print(\"\\n**** Saving file to: \", session_dir+'/'+file_name) \n",
    "mne.export.export_raw(session_dir+'/'+file_name, reconstr_raw, verbose=1)"
   ]
  },
  {
   "cell_type": "code",
   "execution_count": 23,
   "id": "7a7ebf86",
   "metadata": {},
   "outputs": [
    {
     "name": "stdout",
     "output_type": "stream",
     "text": [
      "\u001b[1;36m/Users/babe/src/gla/dissertation/go/cleaned/m_00_01\u001b[0m\n",
      "├── m_00_01_pos1a.eeg\n",
      "├── m_00_01_pos1a.vhdr\n",
      "├── m_00_01_pos1a.vmrk\n",
      "├── m_00_01_pos1b.eeg\n",
      "├── m_00_01_pos1b.vhdr\n",
      "└── m_00_01_pos1b.vmrk\n",
      "\n",
      "1 directory, 6 files\n"
     ]
    }
   ],
   "source": [
    "!tree {session_dir}"
   ]
  },
  {
   "cell_type": "code",
   "execution_count": null,
   "id": "7a874b32",
   "metadata": {},
   "outputs": [],
   "source": [
    "del raw_a\n",
    "del reconstr_raw\n",
    "del ica\n",
    "del filt_raw_a"
   ]
  },
  {
   "cell_type": "code",
   "execution_count": 15,
   "id": "38b0e1c3",
   "metadata": {},
   "outputs": [
    {
     "ename": "",
     "evalue": "",
     "output_type": "error",
     "traceback": [
      "\u001b[1;31mThe Kernel crashed while executing code in the the current cell or a previous cell. Please review the code in the cell(s) to identify a possible cause of the failure. Click <a href='https://aka.ms/vscodeJupyterKernelCrash'>here</a> for more info. View Jupyter <a href='command:jupyter.viewOutput'>log</a> for further details."
     ]
    }
   ],
   "source": [
    "### TESTING ###\n",
    "# test = mne.io.read_raw_brainvision(session_dir+'/'+file_name, preload=True)"
   ]
  },
  {
   "cell_type": "code",
   "execution_count": 53,
   "id": "6662d92a",
   "metadata": {},
   "outputs": [],
   "source": [
    "# test.plot()"
   ]
  },
  {
   "cell_type": "markdown",
   "id": "92dec6d3",
   "metadata": {},
   "source": [
    "# Posner B"
   ]
  },
  {
   "cell_type": "code",
   "execution_count": 4,
   "id": "c55bb7fb",
   "metadata": {},
   "outputs": [
    {
     "name": "stdout",
     "output_type": "stream",
     "text": [
      "Data file:  m_19_02/m_19_02_pos2b.vhdr\n"
     ]
    },
    {
     "name": "stderr",
     "output_type": "stream",
     "text": [
      "/Users/babe/src/gla/dissertation/go/ica_notebooks/rename_events.py:50: RuntimeWarning: No coordinate information found for channels ['ECG']. Setting channel types to misc. To avoid this warning, set channel types explicitly.\n",
      "  raw = mne.io.read_raw_brainvision(vhdr_file, preload=True, verbose=0)\n"
     ]
    },
    {
     "name": "stdout",
     "output_type": "stream",
     "text": [
      "Used Annotations descriptions: ['New Segment/', 'Stimulus/S 10', 'Stimulus/S 20', 'Stimulus/S 30', 'Stimulus/S 40', 'Stimulus/S 50', 'Stimulus/S 51', 'Stimulus/S 60', 'Stimulus/S 70', 'Stimulus/S 80', 'Stimulus/S101', 'Stimulus/S109', 'Stimulus/S111']\n",
      "Found '2b' in file: m_19_02/19_2b_posner_task_2023-06-21_16h48.15.699/19_2b_posner_task_2023-06-21_16h48.15.699.csv\n",
      "********** 2b\n",
      "Used Annotations descriptions: ['New Segment/', 'Stimulus/S 10', 'Stimulus/S 20', 'Stimulus/S 30', 'Stimulus/S 40', 'Stimulus/S 50', 'Stimulus/S 51', 'Stimulus/S 60', 'Stimulus/S 70', 'Stimulus/S 80', 'Stimulus/S101', 'Stimulus/S109', 'Stimulus/S111']\n",
      "Cropping annotations 2023-06-21 16:48:48.267309+00:00 - 2023-06-21 17:02:09.047309+00:00\n",
      "  [0] Keeping  (2023-06-21 16:48:48.267309+00:00 - 2023-06-21 16:48:48.267309+00:00 -> 0.0 - 0.0)\n",
      "  [1] Keeping  (2023-06-21 16:50:26.498309+00:00 - 2023-06-21 16:50:26.498309+00:00 -> 98.231 - 98.231)\n",
      "  [2] Keeping  (2023-06-21 16:50:28.237309+00:00 - 2023-06-21 16:50:28.237309+00:00 -> 99.97 - 99.97)\n",
      "  [3] Keeping  (2023-06-21 16:50:29.737309+00:00 - 2023-06-21 16:50:29.737309+00:00 -> 101.47 - 101.47)\n",
      "  [4] Keeping  (2023-06-21 16:50:32.277309+00:00 - 2023-06-21 16:50:32.277309+00:00 -> 104.01 - 104.01)\n",
      "  [5] Keeping  (2023-06-21 16:50:32.377309+00:00 - 2023-06-21 16:50:32.377309+00:00 -> 104.11 - 104.11)\n",
      "  [6] Keeping  (2023-06-21 16:50:34.737309+00:00 - 2023-06-21 16:50:34.737309+00:00 -> 106.47 - 106.47)\n",
      "  [7] Keeping  (2023-06-21 16:50:36.237309+00:00 - 2023-06-21 16:50:36.237309+00:00 -> 107.97 - 107.97)\n",
      "  [8] Keeping  (2023-06-21 16:50:38.797309+00:00 - 2023-06-21 16:50:38.797309+00:00 -> 110.53 - 110.53)\n",
      "  [9] Keeping  (2023-06-21 16:50:38.897309+00:00 - 2023-06-21 16:50:38.897309+00:00 -> 110.63 - 110.63)\n",
      "  [10] Keeping  (2023-06-21 16:50:41.237309+00:00 - 2023-06-21 16:50:41.237309+00:00 -> 112.97 - 112.97)\n",
      "  [11] Keeping  (2023-06-21 16:50:42.737309+00:00 - 2023-06-21 16:50:42.737309+00:00 -> 114.47 - 114.47)\n",
      "  [12] Keeping  (2023-06-21 16:50:46.317309+00:00 - 2023-06-21 16:50:46.317309+00:00 -> 118.05 - 118.05)\n",
      "  [13] Keeping  (2023-06-21 16:50:46.417309+00:00 - 2023-06-21 16:50:46.417309+00:00 -> 118.15 - 118.15)\n",
      "  [14] Keeping  (2023-06-21 16:50:47.737309+00:00 - 2023-06-21 16:50:47.737309+00:00 -> 119.47 - 119.47)\n",
      "  [15] Keeping  (2023-06-21 16:50:49.237309+00:00 - 2023-06-21 16:50:49.237309+00:00 -> 120.97 - 120.97)\n",
      "  [16] Keeping  (2023-06-21 16:50:52.647309+00:00 - 2023-06-21 16:50:52.647309+00:00 -> 124.38 - 124.38)\n",
      "  [17] Keeping  (2023-06-21 16:50:52.747309+00:00 - 2023-06-21 16:50:52.747309+00:00 -> 124.48 - 124.48)\n",
      "  [18] Keeping  (2023-06-21 16:50:54.247309+00:00 - 2023-06-21 16:50:54.247309+00:00 -> 125.98 - 125.98)\n",
      "  [19] Keeping  (2023-06-21 16:50:55.747309+00:00 - 2023-06-21 16:50:55.747309+00:00 -> 127.48 - 127.48)\n",
      "  [20] Keeping  (2023-06-21 16:50:59.217309+00:00 - 2023-06-21 16:50:59.217309+00:00 -> 130.95 - 130.95)\n",
      "  [21] Keeping  (2023-06-21 16:50:59.317309+00:00 - 2023-06-21 16:50:59.317309+00:00 -> 131.05 - 131.05)\n",
      "  [22] Keeping  (2023-06-21 16:51:00.747309+00:00 - 2023-06-21 16:51:00.747309+00:00 -> 132.48 - 132.48)\n",
      "  [23] Keeping  (2023-06-21 16:51:02.247309+00:00 - 2023-06-21 16:51:02.247309+00:00 -> 133.98 - 133.98)\n",
      "  [24] Keeping  (2023-06-21 16:51:04.947309+00:00 - 2023-06-21 16:51:04.947309+00:00 -> 136.68 - 136.68)\n",
      "  [25] Keeping  (2023-06-21 16:51:05.047309+00:00 - 2023-06-21 16:51:05.047309+00:00 -> 136.78 - 136.78)\n",
      "  [26] Keeping  (2023-06-21 16:51:07.247309+00:00 - 2023-06-21 16:51:07.247309+00:00 -> 138.98 - 138.98)\n",
      "  [27] Keeping  (2023-06-21 16:51:08.747309+00:00 - 2023-06-21 16:51:08.747309+00:00 -> 140.48 - 140.48)\n",
      "  [28] Keeping  (2023-06-21 16:51:11.397309+00:00 - 2023-06-21 16:51:11.397309+00:00 -> 143.13 - 143.13)\n",
      "  [29] Keeping  (2023-06-21 16:51:11.497309+00:00 - 2023-06-21 16:51:11.497309+00:00 -> 143.23 - 143.23)\n",
      "  [30] Keeping  (2023-06-21 16:51:13.747309+00:00 - 2023-06-21 16:51:13.747309+00:00 -> 145.48 - 145.48)\n",
      "  [31] Keeping  (2023-06-21 16:51:15.247309+00:00 - 2023-06-21 16:51:15.247309+00:00 -> 146.98 - 146.98)\n",
      "  [32] Keeping  (2023-06-21 16:51:18.407309+00:00 - 2023-06-21 16:51:18.407309+00:00 -> 150.14 - 150.14)\n",
      "  [33] Keeping  (2023-06-21 16:51:18.507309+00:00 - 2023-06-21 16:51:18.507309+00:00 -> 150.24 - 150.24)\n",
      "  [34] Keeping  (2023-06-21 16:51:20.247309+00:00 - 2023-06-21 16:51:20.247309+00:00 -> 151.98 - 151.98)\n",
      "  [35] Keeping  (2023-06-21 16:51:21.747309+00:00 - 2023-06-21 16:51:21.747309+00:00 -> 153.48 - 153.48)\n",
      "  [36] Keeping  (2023-06-21 16:51:24.487309+00:00 - 2023-06-21 16:51:24.487309+00:00 -> 156.22 - 156.22)\n",
      "  [37] Keeping  (2023-06-21 16:51:24.587309+00:00 - 2023-06-21 16:51:24.587309+00:00 -> 156.32 - 156.32)\n",
      "  [38] Keeping  (2023-06-21 16:51:26.757309+00:00 - 2023-06-21 16:51:26.757309+00:00 -> 158.49 - 158.49)\n",
      "  [39] Keeping  (2023-06-21 16:51:28.257309+00:00 - 2023-06-21 16:51:28.257309+00:00 -> 159.99 - 159.99)\n",
      "  [40] Keeping  (2023-06-21 16:51:31.657309+00:00 - 2023-06-21 16:51:31.657309+00:00 -> 163.39 - 163.39)\n",
      "  [41] Keeping  (2023-06-21 16:51:31.757309+00:00 - 2023-06-21 16:51:31.757309+00:00 -> 163.49 - 163.49)\n",
      "  [42] Keeping  (2023-06-21 16:51:33.257309+00:00 - 2023-06-21 16:51:33.257309+00:00 -> 164.99 - 164.99)\n",
      "  [43] Keeping  (2023-06-21 16:51:34.757309+00:00 - 2023-06-21 16:51:34.757309+00:00 -> 166.49 - 166.49)\n",
      "  [44] Keeping  (2023-06-21 16:51:37.397309+00:00 - 2023-06-21 16:51:37.397309+00:00 -> 169.13 - 169.13)\n",
      "  [45] Keeping  (2023-06-21 16:51:37.497309+00:00 - 2023-06-21 16:51:37.497309+00:00 -> 169.23 - 169.23)\n",
      "  [46] Keeping  (2023-06-21 16:51:39.757309+00:00 - 2023-06-21 16:51:39.757309+00:00 -> 171.49 - 171.49)\n",
      "  [47] Keeping  (2023-06-21 16:51:41.257309+00:00 - 2023-06-21 16:51:41.257309+00:00 -> 172.99 - 172.99)\n",
      "  [48] Keeping  (2023-06-21 16:51:44.117309+00:00 - 2023-06-21 16:51:44.117309+00:00 -> 175.85 - 175.85)\n",
      "  [49] Keeping  (2023-06-21 16:51:44.217309+00:00 - 2023-06-21 16:51:44.217309+00:00 -> 175.95 - 175.95)\n",
      "  [50] Keeping  (2023-06-21 16:51:46.267309+00:00 - 2023-06-21 16:51:46.267309+00:00 -> 178.0 - 178.0)\n",
      "  [51] Keeping  (2023-06-21 16:51:47.767309+00:00 - 2023-06-21 16:51:47.767309+00:00 -> 179.5 - 179.5)\n",
      "  [52] Keeping  (2023-06-21 16:51:51.337309+00:00 - 2023-06-21 16:51:51.337309+00:00 -> 183.07 - 183.07)\n",
      "  [53] Keeping  (2023-06-21 16:51:51.437309+00:00 - 2023-06-21 16:51:51.437309+00:00 -> 183.17 - 183.17)\n",
      "  [54] Keeping  (2023-06-21 16:51:52.767309+00:00 - 2023-06-21 16:51:52.767309+00:00 -> 184.5 - 184.5)\n",
      "  [55] Keeping  (2023-06-21 16:51:54.267309+00:00 - 2023-06-21 16:51:54.267309+00:00 -> 186.0 - 186.0)\n",
      "  [56] Keeping  (2023-06-21 16:51:57.907309+00:00 - 2023-06-21 16:51:57.907309+00:00 -> 189.64 - 189.64)\n",
      "  [57] Keeping  (2023-06-21 16:51:58.007309+00:00 - 2023-06-21 16:51:58.007309+00:00 -> 189.74 - 189.74)\n",
      "  [58] Keeping  (2023-06-21 16:51:59.267309+00:00 - 2023-06-21 16:51:59.267309+00:00 -> 191.0 - 191.0)\n",
      "  [59] Keeping  (2023-06-21 16:52:00.767309+00:00 - 2023-06-21 16:52:00.767309+00:00 -> 192.5 - 192.5)\n",
      "  [60] Keeping  (2023-06-21 16:52:03.917309+00:00 - 2023-06-21 16:52:03.917309+00:00 -> 195.65 - 195.65)\n",
      "  [61] Keeping  (2023-06-21 16:52:04.017309+00:00 - 2023-06-21 16:52:04.017309+00:00 -> 195.75 - 195.75)\n",
      "  [62] Keeping  (2023-06-21 16:52:05.767309+00:00 - 2023-06-21 16:52:05.767309+00:00 -> 197.5 - 197.5)\n",
      "  [63] Keeping  (2023-06-21 16:52:07.267309+00:00 - 2023-06-21 16:52:07.267309+00:00 -> 199.0 - 199.0)\n",
      "  [64] Keeping  (2023-06-21 16:52:10.027309+00:00 - 2023-06-21 16:52:10.027309+00:00 -> 201.76 - 201.76)\n",
      "  [65] Keeping  (2023-06-21 16:52:10.127309+00:00 - 2023-06-21 16:52:10.127309+00:00 -> 201.86 - 201.86)\n",
      "  [66] Keeping  (2023-06-21 16:52:12.277309+00:00 - 2023-06-21 16:52:12.277309+00:00 -> 204.01 - 204.01)\n",
      "  [67] Keeping  (2023-06-21 16:52:13.777309+00:00 - 2023-06-21 16:52:13.777309+00:00 -> 205.51 - 205.51)\n",
      "  [68] Keeping  (2023-06-21 16:52:16.597309+00:00 - 2023-06-21 16:52:16.597309+00:00 -> 208.33 - 208.33)\n",
      "  [69] Keeping  (2023-06-21 16:52:16.697309+00:00 - 2023-06-21 16:52:16.697309+00:00 -> 208.43 - 208.43)\n",
      "  [70] Keeping  (2023-06-21 16:52:18.777309+00:00 - 2023-06-21 16:52:18.777309+00:00 -> 210.51 - 210.51)\n",
      "  [71] Keeping  (2023-06-21 16:52:20.277309+00:00 - 2023-06-21 16:52:20.277309+00:00 -> 212.01 - 212.01)\n",
      "  [72] Keeping  (2023-06-21 16:52:23.997309+00:00 - 2023-06-21 16:52:23.997309+00:00 -> 215.73 - 215.73)\n",
      "  [73] Keeping  (2023-06-21 16:52:24.097309+00:00 - 2023-06-21 16:52:24.097309+00:00 -> 215.83 - 215.83)\n",
      "  [74] Keeping  (2023-06-21 16:52:25.277309+00:00 - 2023-06-21 16:52:25.277309+00:00 -> 217.01 - 217.01)\n",
      "  [75] Keeping  (2023-06-21 16:52:26.777309+00:00 - 2023-06-21 16:52:26.777309+00:00 -> 218.51 - 218.51)\n",
      "  [76] Keeping  (2023-06-21 16:52:29.427309+00:00 - 2023-06-21 16:52:29.427309+00:00 -> 221.16 - 221.16)\n",
      "  [77] Keeping  (2023-06-21 16:52:29.527309+00:00 - 2023-06-21 16:52:29.527309+00:00 -> 221.26 - 221.26)\n",
      "  [78] Keeping  (2023-06-21 16:52:31.777309+00:00 - 2023-06-21 16:52:31.777309+00:00 -> 223.51 - 223.51)\n",
      "  [79] Keeping  (2023-06-21 16:52:33.278309+00:00 - 2023-06-21 16:52:33.278309+00:00 -> 225.011 - 225.011)\n",
      "  [80] Keeping  (2023-06-21 16:52:35.817309+00:00 - 2023-06-21 16:52:35.817309+00:00 -> 227.55 - 227.55)\n",
      "  [81] Keeping  (2023-06-21 16:52:35.918309+00:00 - 2023-06-21 16:52:35.918309+00:00 -> 227.651 - 227.651)\n",
      "  [82] Keeping  (2023-06-21 16:52:38.278309+00:00 - 2023-06-21 16:52:38.278309+00:00 -> 230.011 - 230.011)\n",
      "  [83] Keeping  (2023-06-21 16:52:39.778309+00:00 - 2023-06-21 16:52:39.778309+00:00 -> 231.511 - 231.511)\n",
      "  [84] Keeping  (2023-06-21 16:52:43.168309+00:00 - 2023-06-21 16:52:43.168309+00:00 -> 234.901 - 234.901)\n",
      "  [85] Keeping  (2023-06-21 16:52:43.267309+00:00 - 2023-06-21 16:52:43.267309+00:00 -> 235.0 - 235.0)\n",
      "  [86] Keeping  (2023-06-21 16:52:44.778309+00:00 - 2023-06-21 16:52:44.778309+00:00 -> 236.511 - 236.511)\n",
      "  [87] Keeping  (2023-06-21 16:52:46.277309+00:00 - 2023-06-21 16:52:46.277309+00:00 -> 238.01 - 238.01)\n",
      "  [88] Keeping  (2023-06-21 16:52:49.717309+00:00 - 2023-06-21 16:52:49.717309+00:00 -> 241.45 - 241.45)\n",
      "  [89] Keeping  (2023-06-21 16:52:49.817309+00:00 - 2023-06-21 16:52:49.817309+00:00 -> 241.55 - 241.55)\n",
      "  [90] Keeping  (2023-06-21 16:52:51.278309+00:00 - 2023-06-21 16:52:51.278309+00:00 -> 243.011 - 243.011)\n",
      "  [91] Keeping  (2023-06-21 16:52:52.777309+00:00 - 2023-06-21 16:52:52.777309+00:00 -> 244.51 - 244.51)\n",
      "  [92] Keeping  (2023-06-21 16:52:56.128309+00:00 - 2023-06-21 16:52:56.128309+00:00 -> 247.861 - 247.861)\n",
      "  [93] Keeping  (2023-06-21 16:52:56.228309+00:00 - 2023-06-21 16:52:56.228309+00:00 -> 247.961 - 247.961)\n",
      "  [94] Keeping  (2023-06-21 16:52:57.778309+00:00 - 2023-06-21 16:52:57.778309+00:00 -> 249.511 - 249.511)\n",
      "  [95] Keeping  (2023-06-21 16:52:59.278309+00:00 - 2023-06-21 16:52:59.278309+00:00 -> 251.011 - 251.011)\n",
      "  [96] Keeping  (2023-06-21 16:53:02.088309+00:00 - 2023-06-21 16:53:02.088309+00:00 -> 253.821 - 253.821)\n",
      "  [97] Keeping  (2023-06-21 16:53:02.188309+00:00 - 2023-06-21 16:53:02.188309+00:00 -> 253.921 - 253.921)\n",
      "  [98] Keeping  (2023-06-21 16:53:04.278309+00:00 - 2023-06-21 16:53:04.278309+00:00 -> 256.011 - 256.011)\n",
      "  [99] Keeping  (2023-06-21 16:53:05.777309+00:00 - 2023-06-21 16:53:05.777309+00:00 -> 257.51 - 257.51)\n",
      "  [100] Keeping  (2023-06-21 16:53:09.538309+00:00 - 2023-06-21 16:53:09.538309+00:00 -> 261.271 - 261.271)\n",
      "  [101] Keeping  (2023-06-21 16:53:09.638309+00:00 - 2023-06-21 16:53:09.638309+00:00 -> 261.371 - 261.371)\n",
      "  [102] Keeping  (2023-06-21 16:53:10.782309+00:00 - 2023-06-21 16:53:10.782309+00:00 -> 262.515 - 262.515)\n",
      "  [103] Keeping  (2023-06-21 16:53:12.033309+00:00 - 2023-06-21 16:53:12.033309+00:00 -> 263.766 - 263.766)\n",
      "  [104] Keeping  (2023-06-21 16:53:16.517309+00:00 - 2023-06-21 16:53:16.517309+00:00 -> 268.25 - 268.25)\n",
      "  [105] Keeping  (2023-06-21 16:53:18.018309+00:00 - 2023-06-21 16:53:18.018309+00:00 -> 269.751 - 269.751)\n",
      "  [106] Keeping  (2023-06-21 16:53:21.698309+00:00 - 2023-06-21 16:53:21.698309+00:00 -> 273.431 - 273.431)\n",
      "  [107] Keeping  (2023-06-21 16:53:21.798309+00:00 - 2023-06-21 16:53:21.798309+00:00 -> 273.531 - 273.531)\n",
      "  [108] Keeping  (2023-06-21 16:53:23.028309+00:00 - 2023-06-21 16:53:23.028309+00:00 -> 274.761 - 274.761)\n",
      "  [109] Keeping  (2023-06-21 16:53:24.528309+00:00 - 2023-06-21 16:53:24.528309+00:00 -> 276.261 - 276.261)\n",
      "  [110] Keeping  (2023-06-21 16:53:27.668309+00:00 - 2023-06-21 16:53:27.668309+00:00 -> 279.401 - 279.401)\n",
      "  [111] Keeping  (2023-06-21 16:53:27.768309+00:00 - 2023-06-21 16:53:27.768309+00:00 -> 279.501 - 279.501)\n",
      "  [112] Keeping  (2023-06-21 16:53:29.528309+00:00 - 2023-06-21 16:53:29.528309+00:00 -> 281.261 - 281.261)\n",
      "  [113] Keeping  (2023-06-21 16:53:31.028309+00:00 - 2023-06-21 16:53:31.028309+00:00 -> 282.761 - 282.761)\n",
      "  [114] Keeping  (2023-06-21 16:53:33.808309+00:00 - 2023-06-21 16:53:33.808309+00:00 -> 285.541 - 285.541)\n",
      "  [115] Keeping  (2023-06-21 16:53:33.908309+00:00 - 2023-06-21 16:53:33.908309+00:00 -> 285.641 - 285.641)\n",
      "  [116] Keeping  (2023-06-21 16:53:36.028309+00:00 - 2023-06-21 16:53:36.028309+00:00 -> 287.761 - 287.761)\n",
      "  [117] Keeping  (2023-06-21 16:53:37.528309+00:00 - 2023-06-21 16:53:37.528309+00:00 -> 289.261 - 289.261)\n",
      "  [118] Keeping  (2023-06-21 16:53:40.688309+00:00 - 2023-06-21 16:53:40.688309+00:00 -> 292.421 - 292.421)\n",
      "  [119] Keeping  (2023-06-21 16:53:40.788309+00:00 - 2023-06-21 16:53:40.788309+00:00 -> 292.521 - 292.521)\n",
      "  [120] Keeping  (2023-06-21 16:53:42.528309+00:00 - 2023-06-21 16:53:42.528309+00:00 -> 294.261 - 294.261)\n",
      "  [121] Keeping  (2023-06-21 16:53:44.028309+00:00 - 2023-06-21 16:53:44.028309+00:00 -> 295.761 - 295.761)\n",
      "  [122] Keeping  (2023-06-21 16:53:47.128309+00:00 - 2023-06-21 16:53:47.128309+00:00 -> 298.861 - 298.861)\n",
      "  [123] Keeping  (2023-06-21 16:53:47.228309+00:00 - 2023-06-21 16:53:47.228309+00:00 -> 298.961 - 298.961)\n",
      "  [124] Keeping  (2023-06-21 16:53:49.028309+00:00 - 2023-06-21 16:53:49.028309+00:00 -> 300.761 - 300.761)\n",
      "  [125] Keeping  (2023-06-21 16:53:50.528309+00:00 - 2023-06-21 16:53:50.528309+00:00 -> 302.261 - 302.261)\n",
      "  [126] Keeping  (2023-06-21 16:53:53.258309+00:00 - 2023-06-21 16:53:53.258309+00:00 -> 304.991 - 304.991)\n",
      "  [127] Keeping  (2023-06-21 16:53:53.358309+00:00 - 2023-06-21 16:53:53.358309+00:00 -> 305.091 - 305.091)\n",
      "  [128] Keeping  (2023-06-21 16:53:55.528309+00:00 - 2023-06-21 16:53:55.528309+00:00 -> 307.261 - 307.261)\n",
      "  [129] Keeping  (2023-06-21 16:53:57.028309+00:00 - 2023-06-21 16:53:57.028309+00:00 -> 308.761 - 308.761)\n",
      "  [130] Keeping  (2023-06-21 16:54:00.258309+00:00 - 2023-06-21 16:54:00.258309+00:00 -> 311.991 - 311.991)\n",
      "  [131] Keeping  (2023-06-21 16:54:00.358309+00:00 - 2023-06-21 16:54:00.358309+00:00 -> 312.091 - 312.091)\n",
      "  [132] Keeping  (2023-06-21 16:54:02.028309+00:00 - 2023-06-21 16:54:02.028309+00:00 -> 313.761 - 313.761)\n",
      "  [133] Keeping  (2023-06-21 16:54:03.528309+00:00 - 2023-06-21 16:54:03.528309+00:00 -> 315.261 - 315.261)\n",
      "  [134] Keeping  (2023-06-21 16:54:07.188309+00:00 - 2023-06-21 16:54:07.188309+00:00 -> 318.921 - 318.921)\n",
      "  [135] Keeping  (2023-06-21 16:54:07.288309+00:00 - 2023-06-21 16:54:07.288309+00:00 -> 319.021 - 319.021)\n",
      "  [136] Keeping  (2023-06-21 16:54:08.528309+00:00 - 2023-06-21 16:54:08.528309+00:00 -> 320.261 - 320.261)\n",
      "  [137] Keeping  (2023-06-21 16:54:10.028309+00:00 - 2023-06-21 16:54:10.028309+00:00 -> 321.761 - 321.761)\n",
      "  [138] Keeping  (2023-06-21 16:54:13.818309+00:00 - 2023-06-21 16:54:13.818309+00:00 -> 325.551 - 325.551)\n",
      "  [139] Keeping  (2023-06-21 16:54:13.918309+00:00 - 2023-06-21 16:54:13.918309+00:00 -> 325.651 - 325.651)\n",
      "  [140] Keeping  (2023-06-21 16:54:15.028309+00:00 - 2023-06-21 16:54:15.028309+00:00 -> 326.761 - 326.761)\n",
      "  [141] Keeping  (2023-06-21 16:54:16.528309+00:00 - 2023-06-21 16:54:16.528309+00:00 -> 328.261 - 328.261)\n",
      "  [142] Keeping  (2023-06-21 16:54:19.388309+00:00 - 2023-06-21 16:54:19.388309+00:00 -> 331.121 - 331.121)\n",
      "  [143] Keeping  (2023-06-21 16:54:19.488309+00:00 - 2023-06-21 16:54:19.488309+00:00 -> 331.221 - 331.221)\n",
      "  [144] Keeping  (2023-06-21 16:54:21.528309+00:00 - 2023-06-21 16:54:21.528309+00:00 -> 333.261 - 333.261)\n",
      "  [145] Keeping  (2023-06-21 16:54:23.028309+00:00 - 2023-06-21 16:54:23.028309+00:00 -> 334.761 - 334.761)\n",
      "  [146] Keeping  (2023-06-21 16:54:26.338309+00:00 - 2023-06-21 16:54:26.338309+00:00 -> 338.071 - 338.071)\n",
      "  [147] Keeping  (2023-06-21 16:54:26.438309+00:00 - 2023-06-21 16:54:26.438309+00:00 -> 338.171 - 338.171)\n",
      "  [148] Keeping  (2023-06-21 16:54:28.028309+00:00 - 2023-06-21 16:54:28.028309+00:00 -> 339.761 - 339.761)\n",
      "  [149] Keeping  (2023-06-21 16:54:29.528309+00:00 - 2023-06-21 16:54:29.528309+00:00 -> 341.261 - 341.261)\n",
      "  [150] Keeping  (2023-06-21 16:54:32.478309+00:00 - 2023-06-21 16:54:32.478309+00:00 -> 344.211 - 344.211)\n",
      "  [151] Keeping  (2023-06-21 16:54:32.578309+00:00 - 2023-06-21 16:54:32.578309+00:00 -> 344.311 - 344.311)\n",
      "  [152] Keeping  (2023-06-21 16:54:34.528309+00:00 - 2023-06-21 16:54:34.528309+00:00 -> 346.261 - 346.261)\n",
      "  [153] Keeping  (2023-06-21 16:54:36.028309+00:00 - 2023-06-21 16:54:36.028309+00:00 -> 347.761 - 347.761)\n",
      "  [154] Keeping  (2023-06-21 16:54:38.558309+00:00 - 2023-06-21 16:54:38.558309+00:00 -> 350.291 - 350.291)\n",
      "  [155] Keeping  (2023-06-21 16:54:38.658309+00:00 - 2023-06-21 16:54:38.658309+00:00 -> 350.391 - 350.391)\n",
      "  [156] Keeping  (2023-06-21 16:54:41.038309+00:00 - 2023-06-21 16:54:41.038309+00:00 -> 352.771 - 352.771)\n",
      "  [157] Keeping  (2023-06-21 16:54:42.538309+00:00 - 2023-06-21 16:54:42.538309+00:00 -> 354.271 - 354.271)\n",
      "  [158] Keeping  (2023-06-21 16:54:46.198309+00:00 - 2023-06-21 16:54:46.198309+00:00 -> 357.931 - 357.931)\n",
      "  [159] Keeping  (2023-06-21 16:54:46.298309+00:00 - 2023-06-21 16:54:46.298309+00:00 -> 358.031 - 358.031)\n",
      "  [160] Keeping  (2023-06-21 16:54:47.548309+00:00 - 2023-06-21 16:54:47.548309+00:00 -> 359.281 - 359.281)\n",
      "  [161] Keeping  (2023-06-21 16:54:49.048309+00:00 - 2023-06-21 16:54:49.048309+00:00 -> 360.781 - 360.781)\n",
      "  [162] Keeping  (2023-06-21 16:54:51.708309+00:00 - 2023-06-21 16:54:51.708309+00:00 -> 363.441 - 363.441)\n",
      "  [163] Keeping  (2023-06-21 16:54:51.808309+00:00 - 2023-06-21 16:54:51.808309+00:00 -> 363.541 - 363.541)\n",
      "  [164] Keeping  (2023-06-21 16:54:54.058309+00:00 - 2023-06-21 16:54:54.058309+00:00 -> 365.791 - 365.791)\n",
      "  [165] Keeping  (2023-06-21 16:54:55.558309+00:00 - 2023-06-21 16:54:55.558309+00:00 -> 367.291 - 367.291)\n",
      "  [166] Keeping  (2023-06-21 16:54:59.388309+00:00 - 2023-06-21 16:54:59.388309+00:00 -> 371.121 - 371.121)\n",
      "  [167] Keeping  (2023-06-21 16:54:59.488309+00:00 - 2023-06-21 16:54:59.488309+00:00 -> 371.221 - 371.221)\n",
      "  [168] Keeping  (2023-06-21 16:55:00.558309+00:00 - 2023-06-21 16:55:00.558309+00:00 -> 372.291 - 372.291)\n",
      "  [169] Keeping  (2023-06-21 16:55:02.058309+00:00 - 2023-06-21 16:55:02.058309+00:00 -> 373.791 - 373.791)\n",
      "  [170] Keeping  (2023-06-21 16:55:04.998309+00:00 - 2023-06-21 16:55:04.998309+00:00 -> 376.731 - 376.731)\n",
      "  [171] Keeping  (2023-06-21 16:55:05.098309+00:00 - 2023-06-21 16:55:05.098309+00:00 -> 376.831 - 376.831)\n",
      "  [172] Keeping  (2023-06-21 16:55:07.059309+00:00 - 2023-06-21 16:55:07.059309+00:00 -> 378.792 - 378.792)\n",
      "  [173] Keeping  (2023-06-21 16:55:08.558309+00:00 - 2023-06-21 16:55:08.558309+00:00 -> 380.291 - 380.291)\n",
      "  [174] Keeping  (2023-06-21 16:55:12.388309+00:00 - 2023-06-21 16:55:12.388309+00:00 -> 384.121 - 384.121)\n",
      "  [175] Keeping  (2023-06-21 16:55:12.488309+00:00 - 2023-06-21 16:55:12.488309+00:00 -> 384.221 - 384.221)\n",
      "  [176] Keeping  (2023-06-21 16:55:13.558309+00:00 - 2023-06-21 16:55:13.558309+00:00 -> 385.291 - 385.291)\n",
      "  [177] Keeping  (2023-06-21 16:55:15.058309+00:00 - 2023-06-21 16:55:15.058309+00:00 -> 386.791 - 386.791)\n",
      "  [178] Keeping  (2023-06-21 16:55:17.908309+00:00 - 2023-06-21 16:55:17.908309+00:00 -> 389.641 - 389.641)\n",
      "  [179] Keeping  (2023-06-21 16:55:18.008309+00:00 - 2023-06-21 16:55:18.008309+00:00 -> 389.741 - 389.741)\n",
      "  [180] Keeping  (2023-06-21 16:55:20.058309+00:00 - 2023-06-21 16:55:20.058309+00:00 -> 391.791 - 391.791)\n",
      "  [181] Keeping  (2023-06-21 16:55:21.558309+00:00 - 2023-06-21 16:55:21.558309+00:00 -> 393.291 - 393.291)\n",
      "  [182] Keeping  (2023-06-21 16:55:25.078309+00:00 - 2023-06-21 16:55:25.078309+00:00 -> 396.811 - 396.811)\n",
      "  [183] Keeping  (2023-06-21 16:55:25.178309+00:00 - 2023-06-21 16:55:25.178309+00:00 -> 396.911 - 396.911)\n",
      "  [184] Keeping  (2023-06-21 16:55:26.558309+00:00 - 2023-06-21 16:55:26.558309+00:00 -> 398.291 - 398.291)\n",
      "  [185] Keeping  (2023-06-21 16:55:28.058309+00:00 - 2023-06-21 16:55:28.058309+00:00 -> 399.791 - 399.791)\n",
      "  [186] Keeping  (2023-06-21 16:55:31.078309+00:00 - 2023-06-21 16:55:31.078309+00:00 -> 402.811 - 402.811)\n",
      "  [187] Keeping  (2023-06-21 16:55:31.178309+00:00 - 2023-06-21 16:55:31.178309+00:00 -> 402.911 - 402.911)\n",
      "  [188] Keeping  (2023-06-21 16:55:33.059309+00:00 - 2023-06-21 16:55:33.059309+00:00 -> 404.792 - 404.792)\n",
      "  [189] Keeping  (2023-06-21 16:55:34.558309+00:00 - 2023-06-21 16:55:34.558309+00:00 -> 406.291 - 406.291)\n",
      "  [190] Keeping  (2023-06-21 16:55:37.428309+00:00 - 2023-06-21 16:55:37.428309+00:00 -> 409.161 - 409.161)\n",
      "  [191] Keeping  (2023-06-21 16:55:37.529309+00:00 - 2023-06-21 16:55:37.529309+00:00 -> 409.262 - 409.262)\n",
      "  [192] Keeping  (2023-06-21 16:55:39.559309+00:00 - 2023-06-21 16:55:39.559309+00:00 -> 411.292 - 411.292)\n",
      "  [193] Keeping  (2023-06-21 16:55:41.059309+00:00 - 2023-06-21 16:55:41.059309+00:00 -> 412.792 - 412.792)\n",
      "  [194] Keeping  (2023-06-21 16:55:43.818309+00:00 - 2023-06-21 16:55:43.818309+00:00 -> 415.551 - 415.551)\n",
      "  [195] Keeping  (2023-06-21 16:55:43.918309+00:00 - 2023-06-21 16:55:43.918309+00:00 -> 415.651 - 415.651)\n",
      "  [196] Keeping  (2023-06-21 16:55:46.059309+00:00 - 2023-06-21 16:55:46.059309+00:00 -> 417.792 - 417.792)\n",
      "  [197] Keeping  (2023-06-21 16:55:47.559309+00:00 - 2023-06-21 16:55:47.559309+00:00 -> 419.292 - 419.292)\n",
      "  [198] Keeping  (2023-06-21 16:55:50.518309+00:00 - 2023-06-21 16:55:50.518309+00:00 -> 422.251 - 422.251)\n",
      "  [199] Keeping  (2023-06-21 16:55:50.618309+00:00 - 2023-06-21 16:55:50.618309+00:00 -> 422.351 - 422.351)\n",
      "  [200] Keeping  (2023-06-21 16:55:52.568309+00:00 - 2023-06-21 16:55:52.568309+00:00 -> 424.301 - 424.301)\n",
      "  [201] Keeping  (2023-06-21 16:55:54.068309+00:00 - 2023-06-21 16:55:54.068309+00:00 -> 425.801 - 425.801)\n",
      "  [202] Keeping  (2023-06-21 16:55:57.509309+00:00 - 2023-06-21 16:55:57.509309+00:00 -> 429.242 - 429.242)\n",
      "  [203] Keeping  (2023-06-21 16:55:57.608309+00:00 - 2023-06-21 16:55:57.608309+00:00 -> 429.341 - 429.341)\n",
      "  [204] Keeping  (2023-06-21 16:55:59.072309+00:00 - 2023-06-21 16:55:59.072309+00:00 -> 430.805 - 430.805)\n",
      "  [205] Keeping  (2023-06-21 16:56:03.016309+00:00 - 2023-06-21 16:56:03.016309+00:00 -> 434.749 - 434.749)\n",
      "  [206] Keeping  (2023-06-21 16:56:15.570309+00:00 - 2023-06-21 16:56:15.570309+00:00 -> 447.303 - 447.303)\n",
      "  [207] Keeping  (2023-06-21 16:56:15.571309+00:00 - 2023-06-21 16:56:15.571309+00:00 -> 447.304 - 447.304)\n",
      "  [208] Keeping  (2023-06-21 16:56:17.068309+00:00 - 2023-06-21 16:56:17.068309+00:00 -> 448.801 - 448.801)\n",
      "  [209] Keeping  (2023-06-21 16:56:20.829309+00:00 - 2023-06-21 16:56:20.829309+00:00 -> 452.562 - 452.562)\n",
      "  [210] Keeping  (2023-06-21 16:56:20.929309+00:00 - 2023-06-21 16:56:20.929309+00:00 -> 452.662 - 452.662)\n",
      "  [211] Keeping  (2023-06-21 16:56:22.079309+00:00 - 2023-06-21 16:56:22.079309+00:00 -> 453.812 - 453.812)\n",
      "  [212] Keeping  (2023-06-21 16:56:23.579309+00:00 - 2023-06-21 16:56:23.579309+00:00 -> 455.312 - 455.312)\n",
      "  [213] Keeping  (2023-06-21 16:56:26.149309+00:00 - 2023-06-21 16:56:26.149309+00:00 -> 457.882 - 457.882)\n",
      "  [214] Keeping  (2023-06-21 16:56:26.249309+00:00 - 2023-06-21 16:56:26.249309+00:00 -> 457.982 - 457.982)\n",
      "  [215] Keeping  (2023-06-21 16:56:28.579309+00:00 - 2023-06-21 16:56:28.579309+00:00 -> 460.312 - 460.312)\n",
      "  [216] Keeping  (2023-06-21 16:56:30.079309+00:00 - 2023-06-21 16:56:30.079309+00:00 -> 461.812 - 461.812)\n",
      "  [217] Keeping  (2023-06-21 16:56:32.719309+00:00 - 2023-06-21 16:56:32.719309+00:00 -> 464.452 - 464.452)\n",
      "  [218] Keeping  (2023-06-21 16:56:32.819309+00:00 - 2023-06-21 16:56:32.819309+00:00 -> 464.552 - 464.552)\n",
      "  [219] Keeping  (2023-06-21 16:56:35.079309+00:00 - 2023-06-21 16:56:35.079309+00:00 -> 466.812 - 466.812)\n",
      "  [220] Keeping  (2023-06-21 16:56:36.579309+00:00 - 2023-06-21 16:56:36.579309+00:00 -> 468.312 - 468.312)\n",
      "  [221] Keeping  (2023-06-21 16:56:39.229309+00:00 - 2023-06-21 16:56:39.229309+00:00 -> 470.962 - 470.962)\n",
      "  [222] Keeping  (2023-06-21 16:56:39.329309+00:00 - 2023-06-21 16:56:39.329309+00:00 -> 471.062 - 471.062)\n",
      "  [223] Keeping  (2023-06-21 16:56:41.579309+00:00 - 2023-06-21 16:56:41.579309+00:00 -> 473.312 - 473.312)\n",
      "  [224] Keeping  (2023-06-21 16:56:43.079309+00:00 - 2023-06-21 16:56:43.079309+00:00 -> 474.812 - 474.812)\n",
      "  [225] Keeping  (2023-06-21 16:56:46.699309+00:00 - 2023-06-21 16:56:46.699309+00:00 -> 478.432 - 478.432)\n",
      "  [226] Keeping  (2023-06-21 16:56:46.799309+00:00 - 2023-06-21 16:56:46.799309+00:00 -> 478.532 - 478.532)\n",
      "  [227] Keeping  (2023-06-21 16:56:48.079309+00:00 - 2023-06-21 16:56:48.079309+00:00 -> 479.812 - 479.812)\n",
      "  [228] Keeping  (2023-06-21 16:56:49.579309+00:00 - 2023-06-21 16:56:49.579309+00:00 -> 481.312 - 481.312)\n",
      "  [229] Keeping  (2023-06-21 16:56:52.619309+00:00 - 2023-06-21 16:56:52.619309+00:00 -> 484.352 - 484.352)\n",
      "  [230] Keeping  (2023-06-21 16:56:52.719309+00:00 - 2023-06-21 16:56:52.719309+00:00 -> 484.452 - 484.452)\n",
      "  [231] Keeping  (2023-06-21 16:56:54.579309+00:00 - 2023-06-21 16:56:54.579309+00:00 -> 486.312 - 486.312)\n",
      "  [232] Keeping  (2023-06-21 16:56:56.079309+00:00 - 2023-06-21 16:56:56.079309+00:00 -> 487.812 - 487.812)\n",
      "  [233] Keeping  (2023-06-21 16:56:58.829309+00:00 - 2023-06-21 16:56:58.829309+00:00 -> 490.562 - 490.562)\n",
      "  [234] Keeping  (2023-06-21 16:56:58.929309+00:00 - 2023-06-21 16:56:58.929309+00:00 -> 490.662 - 490.662)\n",
      "  [235] Keeping  (2023-06-21 16:57:01.079309+00:00 - 2023-06-21 16:57:01.079309+00:00 -> 492.812 - 492.812)\n",
      "  [236] Keeping  (2023-06-21 16:57:02.579309+00:00 - 2023-06-21 16:57:02.579309+00:00 -> 494.312 - 494.312)\n",
      "  [237] Keeping  (2023-06-21 16:57:06.439309+00:00 - 2023-06-21 16:57:06.439309+00:00 -> 498.172 - 498.172)\n",
      "  [238] Keeping  (2023-06-21 16:57:06.539309+00:00 - 2023-06-21 16:57:06.539309+00:00 -> 498.272 - 498.272)\n",
      "  [239] Keeping  (2023-06-21 16:57:07.579309+00:00 - 2023-06-21 16:57:07.579309+00:00 -> 499.312 - 499.312)\n",
      "  [240] Keeping  (2023-06-21 16:57:09.079309+00:00 - 2023-06-21 16:57:09.079309+00:00 -> 500.812 - 500.812)\n",
      "  [241] Keeping  (2023-06-21 16:57:11.579309+00:00 - 2023-06-21 16:57:11.579309+00:00 -> 503.312 - 503.312)\n",
      "  [242] Keeping  (2023-06-21 16:57:11.679309+00:00 - 2023-06-21 16:57:11.679309+00:00 -> 503.412 - 503.412)\n",
      "  [243] Keeping  (2023-06-21 16:57:14.079309+00:00 - 2023-06-21 16:57:14.079309+00:00 -> 505.812 - 505.812)\n",
      "  [244] Keeping  (2023-06-21 16:57:15.579309+00:00 - 2023-06-21 16:57:15.579309+00:00 -> 507.312 - 507.312)\n",
      "  [245] Keeping  (2023-06-21 16:57:18.929309+00:00 - 2023-06-21 16:57:18.929309+00:00 -> 510.662 - 510.662)\n",
      "  [246] Keeping  (2023-06-21 16:57:19.029309+00:00 - 2023-06-21 16:57:19.029309+00:00 -> 510.762 - 510.762)\n",
      "  [247] Keeping  (2023-06-21 16:57:20.579309+00:00 - 2023-06-21 16:57:20.579309+00:00 -> 512.312 - 512.312)\n",
      "  [248] Keeping  (2023-06-21 16:57:22.079309+00:00 - 2023-06-21 16:57:22.079309+00:00 -> 513.812 - 513.812)\n",
      "  [249] Keeping  (2023-06-21 16:57:25.719309+00:00 - 2023-06-21 16:57:25.719309+00:00 -> 517.452 - 517.452)\n",
      "  [250] Keeping  (2023-06-21 16:57:25.819309+00:00 - 2023-06-21 16:57:25.819309+00:00 -> 517.552 - 517.552)\n",
      "  [251] Keeping  (2023-06-21 16:57:27.079309+00:00 - 2023-06-21 16:57:27.079309+00:00 -> 518.812 - 518.812)\n",
      "  [252] Keeping  (2023-06-21 16:57:28.579309+00:00 - 2023-06-21 16:57:28.579309+00:00 -> 520.312 - 520.312)\n",
      "  [253] Keeping  (2023-06-21 16:57:31.169309+00:00 - 2023-06-21 16:57:31.169309+00:00 -> 522.902 - 522.902)\n",
      "  [254] Keeping  (2023-06-21 16:57:31.269309+00:00 - 2023-06-21 16:57:31.269309+00:00 -> 523.002 - 523.002)\n",
      "  [255] Keeping  (2023-06-21 16:57:33.579309+00:00 - 2023-06-21 16:57:33.579309+00:00 -> 525.312 - 525.312)\n",
      "  [256] Keeping  (2023-06-21 16:57:35.079309+00:00 - 2023-06-21 16:57:35.079309+00:00 -> 526.812 - 526.812)\n",
      "  [257] Keeping  (2023-06-21 16:57:38.319309+00:00 - 2023-06-21 16:57:38.319309+00:00 -> 530.052 - 530.052)\n",
      "  [258] Keeping  (2023-06-21 16:57:38.419309+00:00 - 2023-06-21 16:57:38.419309+00:00 -> 530.152 - 530.152)\n",
      "  [259] Keeping  (2023-06-21 16:57:40.079309+00:00 - 2023-06-21 16:57:40.079309+00:00 -> 531.812 - 531.812)\n",
      "  [260] Keeping  (2023-06-21 16:57:41.579309+00:00 - 2023-06-21 16:57:41.579309+00:00 -> 533.312 - 533.312)\n",
      "  [261] Keeping  (2023-06-21 16:57:45.439309+00:00 - 2023-06-21 16:57:45.439309+00:00 -> 537.172 - 537.172)\n",
      "  [262] Keeping  (2023-06-21 16:57:45.539309+00:00 - 2023-06-21 16:57:45.539309+00:00 -> 537.272 - 537.272)\n",
      "  [263] Keeping  (2023-06-21 16:57:46.589309+00:00 - 2023-06-21 16:57:46.589309+00:00 -> 538.322 - 538.322)\n",
      "  [264] Keeping  (2023-06-21 16:57:48.089309+00:00 - 2023-06-21 16:57:48.089309+00:00 -> 539.822 - 539.822)\n",
      "  [265] Keeping  (2023-06-21 16:57:50.719309+00:00 - 2023-06-21 16:57:50.719309+00:00 -> 542.452 - 542.452)\n",
      "  [266] Keeping  (2023-06-21 16:57:50.819309+00:00 - 2023-06-21 16:57:50.819309+00:00 -> 542.552 - 542.552)\n",
      "  [267] Keeping  (2023-06-21 16:57:53.089309+00:00 - 2023-06-21 16:57:53.089309+00:00 -> 544.822 - 544.822)\n",
      "  [268] Keeping  (2023-06-21 16:57:54.589309+00:00 - 2023-06-21 16:57:54.589309+00:00 -> 546.322 - 546.322)\n",
      "  [269] Keeping  (2023-06-21 16:57:58.339309+00:00 - 2023-06-21 16:57:58.339309+00:00 -> 550.072 - 550.072)\n",
      "  [270] Keeping  (2023-06-21 16:57:58.439309+00:00 - 2023-06-21 16:57:58.439309+00:00 -> 550.172 - 550.172)\n",
      "  [271] Keeping  (2023-06-21 16:57:59.589309+00:00 - 2023-06-21 16:57:59.589309+00:00 -> 551.322 - 551.322)\n",
      "  [272] Keeping  (2023-06-21 16:58:01.089309+00:00 - 2023-06-21 16:58:01.089309+00:00 -> 552.822 - 552.822)\n",
      "  [273] Keeping  (2023-06-21 16:58:04.529309+00:00 - 2023-06-21 16:58:04.529309+00:00 -> 556.262 - 556.262)\n",
      "  [274] Keeping  (2023-06-21 16:58:04.629309+00:00 - 2023-06-21 16:58:04.629309+00:00 -> 556.362 - 556.362)\n",
      "  [275] Keeping  (2023-06-21 16:58:06.099309+00:00 - 2023-06-21 16:58:06.099309+00:00 -> 557.832 - 557.832)\n",
      "  [276] Keeping  (2023-06-21 16:58:07.599309+00:00 - 2023-06-21 16:58:07.599309+00:00 -> 559.332 - 559.332)\n",
      "  [277] Keeping  (2023-06-21 16:58:10.549309+00:00 - 2023-06-21 16:58:10.549309+00:00 -> 562.282 - 562.282)\n",
      "  [278] Keeping  (2023-06-21 16:58:10.649309+00:00 - 2023-06-21 16:58:10.649309+00:00 -> 562.382 - 562.382)\n",
      "  [279] Keeping  (2023-06-21 16:58:12.599309+00:00 - 2023-06-21 16:58:12.599309+00:00 -> 564.332 - 564.332)\n",
      "  [280] Keeping  (2023-06-21 16:58:14.099309+00:00 - 2023-06-21 16:58:14.099309+00:00 -> 565.832 - 565.832)\n",
      "  [281] Keeping  (2023-06-21 16:58:16.829309+00:00 - 2023-06-21 16:58:16.829309+00:00 -> 568.562 - 568.562)\n",
      "  [282] Keeping  (2023-06-21 16:58:16.929309+00:00 - 2023-06-21 16:58:16.929309+00:00 -> 568.662 - 568.662)\n",
      "  [283] Keeping  (2023-06-21 16:58:19.099309+00:00 - 2023-06-21 16:58:19.099309+00:00 -> 570.832 - 570.832)\n",
      "  [284] Keeping  (2023-06-21 16:58:20.599309+00:00 - 2023-06-21 16:58:20.599309+00:00 -> 572.332 - 572.332)\n",
      "  [285] Keeping  (2023-06-21 16:58:24.399309+00:00 - 2023-06-21 16:58:24.399309+00:00 -> 576.132 - 576.132)\n",
      "  [286] Keeping  (2023-06-21 16:58:24.499309+00:00 - 2023-06-21 16:58:24.499309+00:00 -> 576.232 - 576.232)\n",
      "  [287] Keeping  (2023-06-21 16:58:25.600309+00:00 - 2023-06-21 16:58:25.600309+00:00 -> 577.333 - 577.333)\n",
      "  [288] Keeping  (2023-06-21 16:58:27.099309+00:00 - 2023-06-21 16:58:27.099309+00:00 -> 578.832 - 578.832)\n",
      "  [289] Keeping  (2023-06-21 16:58:30.589309+00:00 - 2023-06-21 16:58:30.589309+00:00 -> 582.322 - 582.322)\n",
      "  [290] Keeping  (2023-06-21 16:58:30.689309+00:00 - 2023-06-21 16:58:30.689309+00:00 -> 582.422 - 582.422)\n",
      "  [291] Keeping  (2023-06-21 16:58:32.100309+00:00 - 2023-06-21 16:58:32.100309+00:00 -> 583.833 - 583.833)\n",
      "  [292] Keeping  (2023-06-21 16:58:33.599309+00:00 - 2023-06-21 16:58:33.599309+00:00 -> 585.332 - 585.332)\n",
      "  [293] Keeping  (2023-06-21 16:58:37.109309+00:00 - 2023-06-21 16:58:37.109309+00:00 -> 588.842 - 588.842)\n",
      "  [294] Keeping  (2023-06-21 16:58:37.209309+00:00 - 2023-06-21 16:58:37.209309+00:00 -> 588.942 - 588.942)\n",
      "  [295] Keeping  (2023-06-21 16:58:38.600309+00:00 - 2023-06-21 16:58:38.600309+00:00 -> 590.333 - 590.333)\n",
      "  [296] Keeping  (2023-06-21 16:58:40.099309+00:00 - 2023-06-21 16:58:40.099309+00:00 -> 591.832 - 591.832)\n",
      "  [297] Keeping  (2023-06-21 16:58:43.509309+00:00 - 2023-06-21 16:58:43.509309+00:00 -> 595.242 - 595.242)\n",
      "  [298] Keeping  (2023-06-21 16:58:43.609309+00:00 - 2023-06-21 16:58:43.609309+00:00 -> 595.342 - 595.342)\n",
      "  [299] Keeping  (2023-06-21 16:58:45.100309+00:00 - 2023-06-21 16:58:45.100309+00:00 -> 596.833 - 596.833)\n",
      "  [300] Keeping  (2023-06-21 16:58:46.600309+00:00 - 2023-06-21 16:58:46.600309+00:00 -> 598.333 - 598.333)\n",
      "  [301] Keeping  (2023-06-21 16:58:49.360309+00:00 - 2023-06-21 16:58:49.360309+00:00 -> 601.093 - 601.093)\n",
      "  [302] Keeping  (2023-06-21 16:58:49.460309+00:00 - 2023-06-21 16:58:49.460309+00:00 -> 601.193 - 601.193)\n",
      "  [303] Keeping  (2023-06-21 16:58:51.600309+00:00 - 2023-06-21 16:58:51.600309+00:00 -> 603.333 - 603.333)\n",
      "  [304] Keeping  (2023-06-21 16:58:53.099309+00:00 - 2023-06-21 16:58:53.099309+00:00 -> 604.832 - 604.832)\n",
      "  [305] Keeping  (2023-06-21 16:58:56.460309+00:00 - 2023-06-21 16:58:56.460309+00:00 -> 608.193 - 608.193)\n",
      "  [306] Keeping  (2023-06-21 16:58:56.560309+00:00 - 2023-06-21 16:58:56.560309+00:00 -> 608.293 - 608.293)\n",
      "  [307] Keeping  (2023-06-21 16:58:58.102309+00:00 - 2023-06-21 16:58:58.102309+00:00 -> 609.835 - 609.835)\n",
      "  [308] Keeping  (2023-06-21 16:58:59.647309+00:00 - 2023-06-21 16:58:59.647309+00:00 -> 611.38 - 611.38)\n",
      "  [309] Keeping  (2023-06-21 16:59:10.003309+00:00 - 2023-06-21 16:59:10.003309+00:00 -> 621.736 - 621.736)\n",
      "  [310] Keeping  (2023-06-21 16:59:10.004309+00:00 - 2023-06-21 16:59:10.004309+00:00 -> 621.737 - 621.737)\n",
      "  [311] Keeping  (2023-06-21 16:59:11.510309+00:00 - 2023-06-21 16:59:11.510309+00:00 -> 623.243 - 623.243)\n",
      "  [312] Keeping  (2023-06-21 16:59:15.060309+00:00 - 2023-06-21 16:59:15.060309+00:00 -> 626.793 - 626.793)\n",
      "  [313] Keeping  (2023-06-21 16:59:15.160309+00:00 - 2023-06-21 16:59:15.160309+00:00 -> 626.893 - 626.893)\n",
      "  [314] Keeping  (2023-06-21 16:59:16.510309+00:00 - 2023-06-21 16:59:16.510309+00:00 -> 628.243 - 628.243)\n",
      "  [315] Keeping  (2023-06-21 16:59:18.010309+00:00 - 2023-06-21 16:59:18.010309+00:00 -> 629.743 - 629.743)\n",
      "  [316] Keeping  (2023-06-21 16:59:21.450309+00:00 - 2023-06-21 16:59:21.450309+00:00 -> 633.183 - 633.183)\n",
      "  [317] Keeping  (2023-06-21 16:59:21.550309+00:00 - 2023-06-21 16:59:21.550309+00:00 -> 633.283 - 633.283)\n",
      "  [318] Keeping  (2023-06-21 16:59:23.010309+00:00 - 2023-06-21 16:59:23.010309+00:00 -> 634.743 - 634.743)\n",
      "  [319] Keeping  (2023-06-21 16:59:24.510309+00:00 - 2023-06-21 16:59:24.510309+00:00 -> 636.243 - 636.243)\n",
      "  [320] Keeping  (2023-06-21 16:59:28.080309+00:00 - 2023-06-21 16:59:28.080309+00:00 -> 639.813 - 639.813)\n",
      "  [321] Keeping  (2023-06-21 16:59:28.180309+00:00 - 2023-06-21 16:59:28.180309+00:00 -> 639.913 - 639.913)\n",
      "  [322] Keeping  (2023-06-21 16:59:29.510309+00:00 - 2023-06-21 16:59:29.510309+00:00 -> 641.243 - 641.243)\n",
      "  [323] Keeping  (2023-06-21 16:59:31.010309+00:00 - 2023-06-21 16:59:31.010309+00:00 -> 642.743 - 642.743)\n",
      "  [324] Keeping  (2023-06-21 16:59:34.190309+00:00 - 2023-06-21 16:59:34.190309+00:00 -> 645.923 - 645.923)\n",
      "  [325] Keeping  (2023-06-21 16:59:34.290309+00:00 - 2023-06-21 16:59:34.290309+00:00 -> 646.023 - 646.023)\n",
      "  [326] Keeping  (2023-06-21 16:59:36.010309+00:00 - 2023-06-21 16:59:36.010309+00:00 -> 647.743 - 647.743)\n",
      "  [327] Keeping  (2023-06-21 16:59:37.510309+00:00 - 2023-06-21 16:59:37.510309+00:00 -> 649.243 - 649.243)\n",
      "  [328] Keeping  (2023-06-21 16:59:40.940309+00:00 - 2023-06-21 16:59:40.940309+00:00 -> 652.673 - 652.673)\n",
      "  [329] Keeping  (2023-06-21 16:59:41.040309+00:00 - 2023-06-21 16:59:41.040309+00:00 -> 652.773 - 652.773)\n",
      "  [330] Keeping  (2023-06-21 16:59:42.510309+00:00 - 2023-06-21 16:59:42.510309+00:00 -> 654.243 - 654.243)\n",
      "  [331] Keeping  (2023-06-21 16:59:44.010309+00:00 - 2023-06-21 16:59:44.010309+00:00 -> 655.743 - 655.743)\n",
      "  [332] Keeping  (2023-06-21 16:59:46.940309+00:00 - 2023-06-21 16:59:46.940309+00:00 -> 658.673 - 658.673)\n",
      "  [333] Keeping  (2023-06-21 16:59:47.040309+00:00 - 2023-06-21 16:59:47.040309+00:00 -> 658.773 - 658.773)\n",
      "  [334] Keeping  (2023-06-21 16:59:49.010309+00:00 - 2023-06-21 16:59:49.010309+00:00 -> 660.743 - 660.743)\n",
      "  [335] Keeping  (2023-06-21 16:59:50.510309+00:00 - 2023-06-21 16:59:50.510309+00:00 -> 662.243 - 662.243)\n",
      "  [336] Keeping  (2023-06-21 16:59:53.930309+00:00 - 2023-06-21 16:59:53.930309+00:00 -> 665.663 - 665.663)\n",
      "  [337] Keeping  (2023-06-21 16:59:54.030309+00:00 - 2023-06-21 16:59:54.030309+00:00 -> 665.763 - 665.763)\n",
      "  [338] Keeping  (2023-06-21 16:59:55.520309+00:00 - 2023-06-21 16:59:55.520309+00:00 -> 667.253 - 667.253)\n",
      "  [339] Keeping  (2023-06-21 16:59:57.020309+00:00 - 2023-06-21 16:59:57.020309+00:00 -> 668.753 - 668.753)\n",
      "  [340] Keeping  (2023-06-21 17:00:00.190309+00:00 - 2023-06-21 17:00:00.190309+00:00 -> 671.923 - 671.923)\n",
      "  [341] Keeping  (2023-06-21 17:00:00.290309+00:00 - 2023-06-21 17:00:00.290309+00:00 -> 672.023 - 672.023)\n",
      "  [342] Keeping  (2023-06-21 17:00:02.020309+00:00 - 2023-06-21 17:00:02.020309+00:00 -> 673.753 - 673.753)\n",
      "  [343] Keeping  (2023-06-21 17:00:03.520309+00:00 - 2023-06-21 17:00:03.520309+00:00 -> 675.253 - 675.253)\n",
      "  [344] Keeping  (2023-06-21 17:00:07.280309+00:00 - 2023-06-21 17:00:07.280309+00:00 -> 679.013 - 679.013)\n",
      "  [345] Keeping  (2023-06-21 17:00:07.380309+00:00 - 2023-06-21 17:00:07.380309+00:00 -> 679.113 - 679.113)\n",
      "  [346] Keeping  (2023-06-21 17:00:08.520309+00:00 - 2023-06-21 17:00:08.520309+00:00 -> 680.253 - 680.253)\n",
      "  [347] Keeping  (2023-06-21 17:00:10.020309+00:00 - 2023-06-21 17:00:10.020309+00:00 -> 681.753 - 681.753)\n",
      "  [348] Keeping  (2023-06-21 17:00:12.710309+00:00 - 2023-06-21 17:00:12.710309+00:00 -> 684.443 - 684.443)\n",
      "  [349] Keeping  (2023-06-21 17:00:12.810309+00:00 - 2023-06-21 17:00:12.810309+00:00 -> 684.543 - 684.543)\n",
      "  [350] Keeping  (2023-06-21 17:00:15.020309+00:00 - 2023-06-21 17:00:15.020309+00:00 -> 686.753 - 686.753)\n",
      "  [351] Keeping  (2023-06-21 17:00:16.520309+00:00 - 2023-06-21 17:00:16.520309+00:00 -> 688.253 - 688.253)\n",
      "  [352] Keeping  (2023-06-21 17:00:19.070309+00:00 - 2023-06-21 17:00:19.070309+00:00 -> 690.803 - 690.803)\n",
      "  [353] Keeping  (2023-06-21 17:00:19.170309+00:00 - 2023-06-21 17:00:19.170309+00:00 -> 690.903 - 690.903)\n",
      "  [354] Keeping  (2023-06-21 17:00:21.530309+00:00 - 2023-06-21 17:00:21.530309+00:00 -> 693.263 - 693.263)\n",
      "  [355] Keeping  (2023-06-21 17:00:23.030309+00:00 - 2023-06-21 17:00:23.030309+00:00 -> 694.763 - 694.763)\n",
      "  [356] Keeping  (2023-06-21 17:00:25.650309+00:00 - 2023-06-21 17:00:25.650309+00:00 -> 697.383 - 697.383)\n",
      "  [357] Keeping  (2023-06-21 17:00:25.750309+00:00 - 2023-06-21 17:00:25.750309+00:00 -> 697.483 - 697.483)\n",
      "  [358] Keeping  (2023-06-21 17:00:28.030309+00:00 - 2023-06-21 17:00:28.030309+00:00 -> 699.763 - 699.763)\n",
      "  [359] Keeping  (2023-06-21 17:00:29.530309+00:00 - 2023-06-21 17:00:29.530309+00:00 -> 701.263 - 701.263)\n",
      "  [360] Keeping  (2023-06-21 17:00:32.220309+00:00 - 2023-06-21 17:00:32.220309+00:00 -> 703.953 - 703.953)\n",
      "  [361] Keeping  (2023-06-21 17:00:32.320309+00:00 - 2023-06-21 17:00:32.320309+00:00 -> 704.053 - 704.053)\n",
      "  [362] Keeping  (2023-06-21 17:00:34.530309+00:00 - 2023-06-21 17:00:34.530309+00:00 -> 706.263 - 706.263)\n",
      "  [363] Keeping  (2023-06-21 17:00:36.030309+00:00 - 2023-06-21 17:00:36.030309+00:00 -> 707.763 - 707.763)\n",
      "  [364] Keeping  (2023-06-21 17:00:39.930309+00:00 - 2023-06-21 17:00:39.930309+00:00 -> 711.663 - 711.663)\n",
      "  [365] Keeping  (2023-06-21 17:00:40.030309+00:00 - 2023-06-21 17:00:40.030309+00:00 -> 711.763 - 711.763)\n",
      "  [366] Keeping  (2023-06-21 17:00:41.040309+00:00 - 2023-06-21 17:00:41.040309+00:00 -> 712.773 - 712.773)\n",
      "  [367] Keeping  (2023-06-21 17:00:42.540309+00:00 - 2023-06-21 17:00:42.540309+00:00 -> 714.273 - 714.273)\n",
      "  [368] Keeping  (2023-06-21 17:00:45.690309+00:00 - 2023-06-21 17:00:45.690309+00:00 -> 717.423 - 717.423)\n",
      "  [369] Keeping  (2023-06-21 17:00:45.790309+00:00 - 2023-06-21 17:00:45.790309+00:00 -> 717.523 - 717.523)\n",
      "  [370] Keeping  (2023-06-21 17:00:47.540309+00:00 - 2023-06-21 17:00:47.540309+00:00 -> 719.273 - 719.273)\n",
      "  [371] Keeping  (2023-06-21 17:00:49.040309+00:00 - 2023-06-21 17:00:49.040309+00:00 -> 720.773 - 720.773)\n",
      "  [372] Keeping  (2023-06-21 17:00:52.920309+00:00 - 2023-06-21 17:00:52.920309+00:00 -> 724.653 - 724.653)\n",
      "  [373] Keeping  (2023-06-21 17:00:53.020309+00:00 - 2023-06-21 17:00:53.020309+00:00 -> 724.753 - 724.753)\n",
      "  [374] Keeping  (2023-06-21 17:00:54.040309+00:00 - 2023-06-21 17:00:54.040309+00:00 -> 725.773 - 725.773)\n",
      "  [375] Keeping  (2023-06-21 17:00:55.540309+00:00 - 2023-06-21 17:00:55.540309+00:00 -> 727.273 - 727.273)\n",
      "  [376] Keeping  (2023-06-21 17:00:59.040309+00:00 - 2023-06-21 17:00:59.040309+00:00 -> 730.773 - 730.773)\n",
      "  [377] Keeping  (2023-06-21 17:00:59.140309+00:00 - 2023-06-21 17:00:59.140309+00:00 -> 730.873 - 730.873)\n",
      "  [378] Keeping  (2023-06-21 17:01:00.540309+00:00 - 2023-06-21 17:01:00.540309+00:00 -> 732.273 - 732.273)\n",
      "  [379] Keeping  (2023-06-21 17:01:02.040309+00:00 - 2023-06-21 17:01:02.040309+00:00 -> 733.773 - 733.773)\n",
      "  [380] Keeping  (2023-06-21 17:01:05.910309+00:00 - 2023-06-21 17:01:05.910309+00:00 -> 737.643 - 737.643)\n",
      "  [381] Keeping  (2023-06-21 17:01:06.010309+00:00 - 2023-06-21 17:01:06.010309+00:00 -> 737.743 - 737.743)\n",
      "  [382] Keeping  (2023-06-21 17:01:07.050309+00:00 - 2023-06-21 17:01:07.050309+00:00 -> 738.783 - 738.783)\n",
      "  [383] Keeping  (2023-06-21 17:01:08.550309+00:00 - 2023-06-21 17:01:08.550309+00:00 -> 740.283 - 740.283)\n",
      "  [384] Keeping  (2023-06-21 17:01:11.400309+00:00 - 2023-06-21 17:01:11.400309+00:00 -> 743.133 - 743.133)\n",
      "  [385] Keeping  (2023-06-21 17:01:11.500309+00:00 - 2023-06-21 17:01:11.500309+00:00 -> 743.233 - 743.233)\n",
      "  [386] Keeping  (2023-06-21 17:01:13.550309+00:00 - 2023-06-21 17:01:13.550309+00:00 -> 745.283 - 745.283)\n",
      "  [387] Keeping  (2023-06-21 17:01:15.050309+00:00 - 2023-06-21 17:01:15.050309+00:00 -> 746.783 - 746.783)\n",
      "  [388] Keeping  (2023-06-21 17:01:17.590309+00:00 - 2023-06-21 17:01:17.590309+00:00 -> 749.323 - 749.323)\n",
      "  [389] Keeping  (2023-06-21 17:01:17.690309+00:00 - 2023-06-21 17:01:17.690309+00:00 -> 749.423 - 749.423)\n",
      "  [390] Keeping  (2023-06-21 17:01:20.060309+00:00 - 2023-06-21 17:01:20.060309+00:00 -> 751.793 - 751.793)\n",
      "  [391] Keeping  (2023-06-21 17:01:21.560309+00:00 - 2023-06-21 17:01:21.560309+00:00 -> 753.293 - 753.293)\n",
      "  [392] Keeping  (2023-06-21 17:01:25.390309+00:00 - 2023-06-21 17:01:25.390309+00:00 -> 757.123 - 757.123)\n",
      "  [393] Keeping  (2023-06-21 17:01:25.490309+00:00 - 2023-06-21 17:01:25.490309+00:00 -> 757.223 - 757.223)\n",
      "  [394] Keeping  (2023-06-21 17:01:26.561309+00:00 - 2023-06-21 17:01:26.561309+00:00 -> 758.294 - 758.294)\n",
      "  [395] Keeping  (2023-06-21 17:01:28.061309+00:00 - 2023-06-21 17:01:28.061309+00:00 -> 759.794 - 759.794)\n",
      "  [396] Keeping  (2023-06-21 17:01:31.390309+00:00 - 2023-06-21 17:01:31.390309+00:00 -> 763.123 - 763.123)\n",
      "  [397] Keeping  (2023-06-21 17:01:31.490309+00:00 - 2023-06-21 17:01:31.490309+00:00 -> 763.223 - 763.223)\n",
      "  [398] Keeping  (2023-06-21 17:01:33.070309+00:00 - 2023-06-21 17:01:33.070309+00:00 -> 764.803 - 764.803)\n",
      "  [399] Keeping  (2023-06-21 17:01:34.570309+00:00 - 2023-06-21 17:01:34.570309+00:00 -> 766.303 - 766.303)\n",
      "  [400] Keeping  (2023-06-21 17:01:38.410309+00:00 - 2023-06-21 17:01:38.410309+00:00 -> 770.143 - 770.143)\n",
      "  [401] Keeping  (2023-06-21 17:01:38.510309+00:00 - 2023-06-21 17:01:38.510309+00:00 -> 770.243 - 770.243)\n",
      "  [402] Keeping  (2023-06-21 17:01:39.570309+00:00 - 2023-06-21 17:01:39.570309+00:00 -> 771.303 - 771.303)\n",
      "  [403] Keeping  (2023-06-21 17:01:41.071309+00:00 - 2023-06-21 17:01:41.071309+00:00 -> 772.804 - 772.804)\n",
      "  [404] Keeping  (2023-06-21 17:01:44.170309+00:00 - 2023-06-21 17:01:44.170309+00:00 -> 775.903 - 775.903)\n",
      "  [405] Keeping  (2023-06-21 17:01:44.271309+00:00 - 2023-06-21 17:01:44.271309+00:00 -> 776.004 - 776.004)\n",
      "  [406] Keeping  (2023-06-21 17:01:46.071309+00:00 - 2023-06-21 17:01:46.071309+00:00 -> 777.804 - 777.804)\n",
      "  [407] Keeping  (2023-06-21 17:01:47.570309+00:00 - 2023-06-21 17:01:47.570309+00:00 -> 779.303 - 779.303)\n",
      "  [408] Keeping  (2023-06-21 17:01:50.271309+00:00 - 2023-06-21 17:01:50.271309+00:00 -> 782.004 - 782.004)\n",
      "  [409] Keeping  (2023-06-21 17:01:50.370309+00:00 - 2023-06-21 17:01:50.370309+00:00 -> 782.103 - 782.103)\n",
      "  [410] Keeping  (2023-06-21 17:01:52.572309+00:00 - 2023-06-21 17:01:52.572309+00:00 -> 784.305 - 784.305)\n",
      "  [411] Keeping  (2023-06-21 17:01:54.356309+00:00 - 2023-06-21 17:01:54.356309+00:00 -> 786.089 - 786.089)\n",
      "  [412] Keeping  (2023-06-21 17:01:56.894309+00:00 - 2023-06-21 17:01:56.894309+00:00 -> 788.627 - 788.627)\n",
      "Cropping complete (kept 413)\n"
     ]
    },
    {
     "name": "stderr",
     "output_type": "stream",
     "text": [
      "/Users/babe/src/gla/dissertation/go/ica_notebooks/rename_events.py:50: RuntimeWarning: Not setting position of 1 misc channel found in montage:\n",
      "['ECG']\n",
      "Consider setting the channel types to be of EEG/sEEG/ECoG/DBS/fNIRS using inst.set_channel_types before calling inst.set_montage, or omit these channels when creating your montage.\n",
      "  raw = mne.io.read_raw_brainvision(vhdr_file, preload=True, verbose=0)\n"
     ]
    }
   ],
   "source": [
    "# Relabel stim events and load raw data\n",
    "raw_b = relabel_events(session_id, posner_id_b)"
   ]
  },
  {
   "cell_type": "code",
   "execution_count": 5,
   "id": "2750d696",
   "metadata": {},
   "outputs": [
    {
     "name": "stdout",
     "output_type": "stream",
     "text": [
      "Used Annotations descriptions: ['10', '101', '109', '20', '30', '40', '50', '51', '52', '60', '70', '80', '99999']\n",
      "Filtering raw data in 1 contiguous segment\n",
      "Setting up band-pass filter from 1 - 40 Hz\n",
      "\n",
      "FIR filter parameters\n",
      "---------------------\n",
      "Designing a one-pass, zero-phase, non-causal bandpass filter:\n",
      "- Windowed time-domain design (firwin) method\n",
      "- Hamming window with 0.0194 passband ripple and 53 dB stopband attenuation\n",
      "- Lower passband edge: 1.00\n",
      "- Lower transition bandwidth: 1.00 Hz (-6 dB cutoff frequency: 0.50 Hz)\n",
      "- Upper passband edge: 40.00 Hz\n",
      "- Upper transition bandwidth: 10.00 Hz (-6 dB cutoff frequency: 45.00 Hz)\n",
      "- Filter length: 3301 samples (3.301 s)\n",
      "\n"
     ]
    },
    {
     "name": "stderr",
     "output_type": "stream",
     "text": [
      "[Parallel(n_jobs=1)]: Using backend SequentialBackend with 1 concurrent workers.\n",
      "[Parallel(n_jobs=1)]: Done   1 out of   1 | elapsed:    0.0s remaining:    0.0s\n",
      "[Parallel(n_jobs=1)]: Done   2 out of   2 | elapsed:    0.0s remaining:    0.0s\n",
      "[Parallel(n_jobs=1)]: Done   3 out of   3 | elapsed:    0.0s remaining:    0.0s\n",
      "[Parallel(n_jobs=1)]: Done   4 out of   4 | elapsed:    0.0s remaining:    0.0s\n"
     ]
    },
    {
     "name": "stdout",
     "output_type": "stream",
     "text": [
      "Not setting metadata\n",
      "413 matching events found\n",
      "Setting baseline interval to [-0.2, 0.0] s\n",
      "Applying baseline correction (mode: mean)\n",
      "0 projection items activated\n",
      "Using data from preloaded Raw for 413 events and 701 original time points ...\n",
      "5 bad epochs dropped\n"
     ]
    },
    {
     "name": "stderr",
     "output_type": "stream",
     "text": [
      "[Parallel(n_jobs=1)]: Done  63 out of  63 | elapsed:    0.7s finished\n"
     ]
    }
   ],
   "source": [
    "event_map = {'1': 11, '10': 10, '101': 101, '109': 109, '11': 11, '117': 117, '20': 20, '30': 30, '40': 40, '5': 5, '50': 50, '51': 51, '52': 52, '60': 60, '70': 70, '80': 80, '99999': 99999}\n",
    "\n",
    "# get events and times\n",
    "events_b, event_id_b = mne.events_from_annotations(raw_b, event_map)\n",
    "\n",
    "e_b = events_b\n",
    "# all rows with fixation (code 40)\n",
    "e_40_b = e_b[e_b[:, 2] == 40]\n",
    "# all rows with trial end (code 101)\n",
    "e_101_b = e_b[e_b[:,2]==101]\n",
    "\n",
    "b_tmin= e_40_b[0][0]/1000\n",
    "b_tmax= e_101_b[-1][0]/1000\n",
    "\n",
    "# Crop and make a copy and filter\n",
    "filt_raw_b = raw_b.crop(tmin=b_tmin, tmax=b_tmax).copy().filter(l_freq=1.0, h_freq=40)\n",
    "\n",
    "epochs_b = mne.Epochs(filt_raw_b, \n",
    "                    e_b, \n",
    "                    event_id=None, \n",
    "                    tmin=-0.2, \n",
    "                    tmax=0.5, \n",
    "                    preload=True, \n",
    "                    baseline=(None, 0))"
   ]
  },
  {
   "cell_type": "code",
   "execution_count": 5,
   "id": "3889ed0e",
   "metadata": {},
   "outputs": [
    {
     "name": "stdout",
     "output_type": "stream",
     "text": [
      "Using qt as 2D backend.\n",
      "Using pyopengl with version 3.1.6\n"
     ]
    },
    {
     "data": {
      "text/plain": [
       "<mne_qt_browser._pg_figure.MNEQtBrowser at 0x15b4d1f30>"
      ]
     },
     "execution_count": 5,
     "metadata": {},
     "output_type": "execute_result"
    },
    {
     "name": "stdout",
     "output_type": "stream",
     "text": [
      "Channels marked as bad:\n",
      "none\n"
     ]
    }
   ],
   "source": [
    "raw_b.plot()"
   ]
  },
  {
   "cell_type": "code",
   "execution_count": 7,
   "id": "0f546211",
   "metadata": {},
   "outputs": [
    {
     "name": "stdout",
     "output_type": "stream",
     "text": [
      "Fitting ICA to data using 63 channels (please be patient, this may take a while)\n",
      "Selecting by number: 63 components\n",
      "Cropping annotations 2023-06-21 16:50:28.237309+00:00 - 2023-06-21 17:01:54.357309+00:00\n",
      "  [0] Keeping  (2023-06-21 16:50:28.237309+00:00 - 2023-06-21 16:50:28.237309+00:00 -> 99.97 - 99.97)\n",
      "  [1] Keeping  (2023-06-21 16:50:29.737309+00:00 - 2023-06-21 16:50:29.737309+00:00 -> 101.47 - 101.47)\n",
      "  [2] Keeping  (2023-06-21 16:50:32.277309+00:00 - 2023-06-21 16:50:32.277309+00:00 -> 104.01 - 104.01)\n",
      "  [3] Keeping  (2023-06-21 16:50:32.377309+00:00 - 2023-06-21 16:50:32.377309+00:00 -> 104.11 - 104.11)\n",
      "  [4] Keeping  (2023-06-21 16:50:34.737309+00:00 - 2023-06-21 16:50:34.737309+00:00 -> 106.47 - 106.47)\n",
      "  [5] Keeping  (2023-06-21 16:50:36.237309+00:00 - 2023-06-21 16:50:36.237309+00:00 -> 107.97 - 107.97)\n",
      "  [6] Keeping  (2023-06-21 16:50:38.797309+00:00 - 2023-06-21 16:50:38.797309+00:00 -> 110.53 - 110.53)\n",
      "  [7] Keeping  (2023-06-21 16:50:38.897309+00:00 - 2023-06-21 16:50:38.897309+00:00 -> 110.63 - 110.63)\n",
      "  [8] Keeping  (2023-06-21 16:50:41.237309+00:00 - 2023-06-21 16:50:41.237309+00:00 -> 112.97 - 112.97)\n",
      "  [9] Keeping  (2023-06-21 16:50:42.737309+00:00 - 2023-06-21 16:50:42.737309+00:00 -> 114.47 - 114.47)\n",
      "  [10] Keeping  (2023-06-21 16:50:46.317309+00:00 - 2023-06-21 16:50:46.317309+00:00 -> 118.05 - 118.05)\n",
      "  [11] Keeping  (2023-06-21 16:50:46.417309+00:00 - 2023-06-21 16:50:46.417309+00:00 -> 118.15 - 118.15)\n",
      "  [12] Keeping  (2023-06-21 16:50:47.737309+00:00 - 2023-06-21 16:50:47.737309+00:00 -> 119.47 - 119.47)\n",
      "  [13] Keeping  (2023-06-21 16:50:49.237309+00:00 - 2023-06-21 16:50:49.237309+00:00 -> 120.97 - 120.97)\n",
      "  [14] Keeping  (2023-06-21 16:50:52.647309+00:00 - 2023-06-21 16:50:52.647309+00:00 -> 124.38 - 124.38)\n",
      "  [15] Keeping  (2023-06-21 16:50:52.747309+00:00 - 2023-06-21 16:50:52.747309+00:00 -> 124.48 - 124.48)\n",
      "  [16] Keeping  (2023-06-21 16:50:54.247309+00:00 - 2023-06-21 16:50:54.247309+00:00 -> 125.98 - 125.98)\n",
      "  [17] Keeping  (2023-06-21 16:50:55.747309+00:00 - 2023-06-21 16:50:55.747309+00:00 -> 127.48 - 127.48)\n",
      "  [18] Keeping  (2023-06-21 16:50:59.217309+00:00 - 2023-06-21 16:50:59.217309+00:00 -> 130.95 - 130.95)\n",
      "  [19] Keeping  (2023-06-21 16:50:59.317309+00:00 - 2023-06-21 16:50:59.317309+00:00 -> 131.05 - 131.05)\n",
      "  [20] Keeping  (2023-06-21 16:51:00.747309+00:00 - 2023-06-21 16:51:00.747309+00:00 -> 132.48 - 132.48)\n",
      "  [21] Keeping  (2023-06-21 16:51:02.247309+00:00 - 2023-06-21 16:51:02.247309+00:00 -> 133.98 - 133.98)\n",
      "  [22] Keeping  (2023-06-21 16:51:04.947309+00:00 - 2023-06-21 16:51:04.947309+00:00 -> 136.68 - 136.68)\n",
      "  [23] Keeping  (2023-06-21 16:51:05.047309+00:00 - 2023-06-21 16:51:05.047309+00:00 -> 136.78 - 136.78)\n",
      "  [24] Keeping  (2023-06-21 16:51:07.247309+00:00 - 2023-06-21 16:51:07.247309+00:00 -> 138.98 - 138.98)\n",
      "  [25] Keeping  (2023-06-21 16:51:08.747309+00:00 - 2023-06-21 16:51:08.747309+00:00 -> 140.48 - 140.48)\n",
      "  [26] Keeping  (2023-06-21 16:51:11.397309+00:00 - 2023-06-21 16:51:11.397309+00:00 -> 143.13 - 143.13)\n",
      "  [27] Keeping  (2023-06-21 16:51:11.497309+00:00 - 2023-06-21 16:51:11.497309+00:00 -> 143.23 - 143.23)\n",
      "  [28] Keeping  (2023-06-21 16:51:13.747309+00:00 - 2023-06-21 16:51:13.747309+00:00 -> 145.48 - 145.48)\n",
      "  [29] Keeping  (2023-06-21 16:51:15.247309+00:00 - 2023-06-21 16:51:15.247309+00:00 -> 146.98 - 146.98)\n",
      "  [30] Keeping  (2023-06-21 16:51:18.407309+00:00 - 2023-06-21 16:51:18.407309+00:00 -> 150.14 - 150.14)\n",
      "  [31] Keeping  (2023-06-21 16:51:18.507309+00:00 - 2023-06-21 16:51:18.507309+00:00 -> 150.24 - 150.24)\n",
      "  [32] Keeping  (2023-06-21 16:51:20.247309+00:00 - 2023-06-21 16:51:20.247309+00:00 -> 151.98 - 151.98)\n",
      "  [33] Keeping  (2023-06-21 16:51:21.747309+00:00 - 2023-06-21 16:51:21.747309+00:00 -> 153.48 - 153.48)\n",
      "  [34] Keeping  (2023-06-21 16:51:24.487309+00:00 - 2023-06-21 16:51:24.487309+00:00 -> 156.22 - 156.22)\n",
      "  [35] Keeping  (2023-06-21 16:51:24.587309+00:00 - 2023-06-21 16:51:24.587309+00:00 -> 156.32 - 156.32)\n",
      "  [36] Keeping  (2023-06-21 16:51:26.757309+00:00 - 2023-06-21 16:51:26.757309+00:00 -> 158.49 - 158.49)\n",
      "  [37] Keeping  (2023-06-21 16:51:28.257309+00:00 - 2023-06-21 16:51:28.257309+00:00 -> 159.99 - 159.99)\n",
      "  [38] Keeping  (2023-06-21 16:51:31.657309+00:00 - 2023-06-21 16:51:31.657309+00:00 -> 163.39 - 163.39)\n",
      "  [39] Keeping  (2023-06-21 16:51:31.757309+00:00 - 2023-06-21 16:51:31.757309+00:00 -> 163.49 - 163.49)\n",
      "  [40] Keeping  (2023-06-21 16:51:33.257309+00:00 - 2023-06-21 16:51:33.257309+00:00 -> 164.99 - 164.99)\n",
      "  [41] Keeping  (2023-06-21 16:51:34.757309+00:00 - 2023-06-21 16:51:34.757309+00:00 -> 166.49 - 166.49)\n",
      "  [42] Keeping  (2023-06-21 16:51:37.397309+00:00 - 2023-06-21 16:51:37.397309+00:00 -> 169.13 - 169.13)\n",
      "  [43] Keeping  (2023-06-21 16:51:37.497309+00:00 - 2023-06-21 16:51:37.497309+00:00 -> 169.23 - 169.23)\n",
      "  [44] Keeping  (2023-06-21 16:51:39.757309+00:00 - 2023-06-21 16:51:39.757309+00:00 -> 171.49 - 171.49)\n",
      "  [45] Keeping  (2023-06-21 16:51:41.257309+00:00 - 2023-06-21 16:51:41.257309+00:00 -> 172.99 - 172.99)\n",
      "  [46] Keeping  (2023-06-21 16:51:44.117309+00:00 - 2023-06-21 16:51:44.117309+00:00 -> 175.85 - 175.85)\n",
      "  [47] Keeping  (2023-06-21 16:51:44.217309+00:00 - 2023-06-21 16:51:44.217309+00:00 -> 175.95 - 175.95)\n",
      "  [48] Keeping  (2023-06-21 16:51:46.267309+00:00 - 2023-06-21 16:51:46.267309+00:00 -> 178.0 - 178.0)\n",
      "  [49] Keeping  (2023-06-21 16:51:47.767309+00:00 - 2023-06-21 16:51:47.767309+00:00 -> 179.5 - 179.5)\n",
      "  [50] Keeping  (2023-06-21 16:51:51.337309+00:00 - 2023-06-21 16:51:51.337309+00:00 -> 183.07 - 183.07)\n",
      "  [51] Keeping  (2023-06-21 16:51:51.437309+00:00 - 2023-06-21 16:51:51.437309+00:00 -> 183.17 - 183.17)\n",
      "  [52] Keeping  (2023-06-21 16:51:52.767309+00:00 - 2023-06-21 16:51:52.767309+00:00 -> 184.5 - 184.5)\n",
      "  [53] Keeping  (2023-06-21 16:51:54.267309+00:00 - 2023-06-21 16:51:54.267309+00:00 -> 186.0 - 186.0)\n",
      "  [54] Keeping  (2023-06-21 16:51:57.907309+00:00 - 2023-06-21 16:51:57.907309+00:00 -> 189.64 - 189.64)\n",
      "  [55] Keeping  (2023-06-21 16:51:58.007309+00:00 - 2023-06-21 16:51:58.007309+00:00 -> 189.74 - 189.74)\n",
      "  [56] Keeping  (2023-06-21 16:51:59.267309+00:00 - 2023-06-21 16:51:59.267309+00:00 -> 191.0 - 191.0)\n",
      "  [57] Keeping  (2023-06-21 16:52:00.767309+00:00 - 2023-06-21 16:52:00.767309+00:00 -> 192.5 - 192.5)\n",
      "  [58] Keeping  (2023-06-21 16:52:03.917309+00:00 - 2023-06-21 16:52:03.917309+00:00 -> 195.65 - 195.65)\n",
      "  [59] Keeping  (2023-06-21 16:52:04.017309+00:00 - 2023-06-21 16:52:04.017309+00:00 -> 195.75 - 195.75)\n",
      "  [60] Keeping  (2023-06-21 16:52:05.767309+00:00 - 2023-06-21 16:52:05.767309+00:00 -> 197.5 - 197.5)\n",
      "  [61] Keeping  (2023-06-21 16:52:07.267309+00:00 - 2023-06-21 16:52:07.267309+00:00 -> 199.0 - 199.0)\n",
      "  [62] Keeping  (2023-06-21 16:52:10.027309+00:00 - 2023-06-21 16:52:10.027309+00:00 -> 201.76 - 201.76)\n",
      "  [63] Keeping  (2023-06-21 16:52:10.127309+00:00 - 2023-06-21 16:52:10.127309+00:00 -> 201.86 - 201.86)\n",
      "  [64] Keeping  (2023-06-21 16:52:12.277309+00:00 - 2023-06-21 16:52:12.277309+00:00 -> 204.01 - 204.01)\n",
      "  [65] Keeping  (2023-06-21 16:52:13.777309+00:00 - 2023-06-21 16:52:13.777309+00:00 -> 205.51 - 205.51)\n",
      "  [66] Keeping  (2023-06-21 16:52:16.597309+00:00 - 2023-06-21 16:52:16.597309+00:00 -> 208.33 - 208.33)\n",
      "  [67] Keeping  (2023-06-21 16:52:16.697309+00:00 - 2023-06-21 16:52:16.697309+00:00 -> 208.43 - 208.43)\n",
      "  [68] Keeping  (2023-06-21 16:52:18.777309+00:00 - 2023-06-21 16:52:18.777309+00:00 -> 210.51 - 210.51)\n",
      "  [69] Keeping  (2023-06-21 16:52:20.277309+00:00 - 2023-06-21 16:52:20.277309+00:00 -> 212.01 - 212.01)\n",
      "  [70] Keeping  (2023-06-21 16:52:23.997309+00:00 - 2023-06-21 16:52:23.997309+00:00 -> 215.73 - 215.73)\n",
      "  [71] Keeping  (2023-06-21 16:52:24.097309+00:00 - 2023-06-21 16:52:24.097309+00:00 -> 215.83 - 215.83)\n",
      "  [72] Keeping  (2023-06-21 16:52:25.277309+00:00 - 2023-06-21 16:52:25.277309+00:00 -> 217.01 - 217.01)\n",
      "  [73] Keeping  (2023-06-21 16:52:26.777309+00:00 - 2023-06-21 16:52:26.777309+00:00 -> 218.51 - 218.51)\n",
      "  [74] Keeping  (2023-06-21 16:52:29.427309+00:00 - 2023-06-21 16:52:29.427309+00:00 -> 221.16 - 221.16)\n",
      "  [75] Keeping  (2023-06-21 16:52:29.527309+00:00 - 2023-06-21 16:52:29.527309+00:00 -> 221.26 - 221.26)\n",
      "  [76] Keeping  (2023-06-21 16:52:31.777309+00:00 - 2023-06-21 16:52:31.777309+00:00 -> 223.51 - 223.51)\n",
      "  [77] Keeping  (2023-06-21 16:52:33.278309+00:00 - 2023-06-21 16:52:33.278309+00:00 -> 225.011 - 225.011)\n",
      "  [78] Keeping  (2023-06-21 16:52:35.817309+00:00 - 2023-06-21 16:52:35.817309+00:00 -> 227.55 - 227.55)\n",
      "  [79] Keeping  (2023-06-21 16:52:35.918309+00:00 - 2023-06-21 16:52:35.918309+00:00 -> 227.651 - 227.651)\n",
      "  [80] Keeping  (2023-06-21 16:52:38.278309+00:00 - 2023-06-21 16:52:38.278309+00:00 -> 230.011 - 230.011)\n",
      "  [81] Keeping  (2023-06-21 16:52:39.778309+00:00 - 2023-06-21 16:52:39.778309+00:00 -> 231.511 - 231.511)\n",
      "  [82] Keeping  (2023-06-21 16:52:43.168309+00:00 - 2023-06-21 16:52:43.168309+00:00 -> 234.901 - 234.901)\n",
      "  [83] Keeping  (2023-06-21 16:52:43.267309+00:00 - 2023-06-21 16:52:43.267309+00:00 -> 235.0 - 235.0)\n",
      "  [84] Keeping  (2023-06-21 16:52:44.778309+00:00 - 2023-06-21 16:52:44.778309+00:00 -> 236.511 - 236.511)\n",
      "  [85] Keeping  (2023-06-21 16:52:46.277309+00:00 - 2023-06-21 16:52:46.277309+00:00 -> 238.01 - 238.01)\n",
      "  [86] Keeping  (2023-06-21 16:52:49.717309+00:00 - 2023-06-21 16:52:49.717309+00:00 -> 241.45 - 241.45)\n",
      "  [87] Keeping  (2023-06-21 16:52:49.817309+00:00 - 2023-06-21 16:52:49.817309+00:00 -> 241.55 - 241.55)\n",
      "  [88] Keeping  (2023-06-21 16:52:51.278309+00:00 - 2023-06-21 16:52:51.278309+00:00 -> 243.011 - 243.011)\n",
      "  [89] Keeping  (2023-06-21 16:52:52.777309+00:00 - 2023-06-21 16:52:52.777309+00:00 -> 244.51 - 244.51)\n",
      "  [90] Keeping  (2023-06-21 16:52:56.128309+00:00 - 2023-06-21 16:52:56.128309+00:00 -> 247.861 - 247.861)\n",
      "  [91] Keeping  (2023-06-21 16:52:56.228309+00:00 - 2023-06-21 16:52:56.228309+00:00 -> 247.961 - 247.961)\n",
      "  [92] Keeping  (2023-06-21 16:52:57.778309+00:00 - 2023-06-21 16:52:57.778309+00:00 -> 249.511 - 249.511)\n",
      "  [93] Keeping  (2023-06-21 16:52:59.278309+00:00 - 2023-06-21 16:52:59.278309+00:00 -> 251.011 - 251.011)\n",
      "  [94] Keeping  (2023-06-21 16:53:02.088309+00:00 - 2023-06-21 16:53:02.088309+00:00 -> 253.821 - 253.821)\n",
      "  [95] Keeping  (2023-06-21 16:53:02.188309+00:00 - 2023-06-21 16:53:02.188309+00:00 -> 253.921 - 253.921)\n",
      "  [96] Keeping  (2023-06-21 16:53:04.278309+00:00 - 2023-06-21 16:53:04.278309+00:00 -> 256.011 - 256.011)\n",
      "  [97] Keeping  (2023-06-21 16:53:05.777309+00:00 - 2023-06-21 16:53:05.777309+00:00 -> 257.51 - 257.51)\n",
      "  [98] Keeping  (2023-06-21 16:53:09.538309+00:00 - 2023-06-21 16:53:09.538309+00:00 -> 261.271 - 261.271)\n",
      "  [99] Keeping  (2023-06-21 16:53:09.638309+00:00 - 2023-06-21 16:53:09.638309+00:00 -> 261.371 - 261.371)\n",
      "  [100] Keeping  (2023-06-21 16:53:10.782309+00:00 - 2023-06-21 16:53:10.782309+00:00 -> 262.515 - 262.515)\n",
      "  [101] Keeping  (2023-06-21 16:53:12.033309+00:00 - 2023-06-21 16:53:12.033309+00:00 -> 263.766 - 263.766)\n",
      "  [102] Keeping  (2023-06-21 16:53:16.517309+00:00 - 2023-06-21 16:53:16.517309+00:00 -> 268.25 - 268.25)\n",
      "  [103] Keeping  (2023-06-21 16:53:18.018309+00:00 - 2023-06-21 16:53:18.018309+00:00 -> 269.751 - 269.751)\n",
      "  [104] Keeping  (2023-06-21 16:53:21.698309+00:00 - 2023-06-21 16:53:21.698309+00:00 -> 273.431 - 273.431)\n",
      "  [105] Keeping  (2023-06-21 16:53:21.798309+00:00 - 2023-06-21 16:53:21.798309+00:00 -> 273.531 - 273.531)\n",
      "  [106] Keeping  (2023-06-21 16:53:23.028309+00:00 - 2023-06-21 16:53:23.028309+00:00 -> 274.761 - 274.761)\n",
      "  [107] Keeping  (2023-06-21 16:53:24.528309+00:00 - 2023-06-21 16:53:24.528309+00:00 -> 276.261 - 276.261)\n",
      "  [108] Keeping  (2023-06-21 16:53:27.668309+00:00 - 2023-06-21 16:53:27.668309+00:00 -> 279.401 - 279.401)\n",
      "  [109] Keeping  (2023-06-21 16:53:27.768309+00:00 - 2023-06-21 16:53:27.768309+00:00 -> 279.501 - 279.501)\n",
      "  [110] Keeping  (2023-06-21 16:53:29.528309+00:00 - 2023-06-21 16:53:29.528309+00:00 -> 281.261 - 281.261)\n",
      "  [111] Keeping  (2023-06-21 16:53:31.028309+00:00 - 2023-06-21 16:53:31.028309+00:00 -> 282.761 - 282.761)\n",
      "  [112] Keeping  (2023-06-21 16:53:33.808309+00:00 - 2023-06-21 16:53:33.808309+00:00 -> 285.541 - 285.541)\n",
      "  [113] Keeping  (2023-06-21 16:53:33.908309+00:00 - 2023-06-21 16:53:33.908309+00:00 -> 285.641 - 285.641)\n",
      "  [114] Keeping  (2023-06-21 16:53:36.028309+00:00 - 2023-06-21 16:53:36.028309+00:00 -> 287.761 - 287.761)\n",
      "  [115] Keeping  (2023-06-21 16:53:37.528309+00:00 - 2023-06-21 16:53:37.528309+00:00 -> 289.261 - 289.261)\n",
      "  [116] Keeping  (2023-06-21 16:53:40.688309+00:00 - 2023-06-21 16:53:40.688309+00:00 -> 292.421 - 292.421)\n",
      "  [117] Keeping  (2023-06-21 16:53:40.788309+00:00 - 2023-06-21 16:53:40.788309+00:00 -> 292.521 - 292.521)\n",
      "  [118] Keeping  (2023-06-21 16:53:42.528309+00:00 - 2023-06-21 16:53:42.528309+00:00 -> 294.261 - 294.261)\n",
      "  [119] Keeping  (2023-06-21 16:53:44.028309+00:00 - 2023-06-21 16:53:44.028309+00:00 -> 295.761 - 295.761)\n",
      "  [120] Keeping  (2023-06-21 16:53:47.128309+00:00 - 2023-06-21 16:53:47.128309+00:00 -> 298.861 - 298.861)\n",
      "  [121] Keeping  (2023-06-21 16:53:47.228309+00:00 - 2023-06-21 16:53:47.228309+00:00 -> 298.961 - 298.961)\n",
      "  [122] Keeping  (2023-06-21 16:53:49.028309+00:00 - 2023-06-21 16:53:49.028309+00:00 -> 300.761 - 300.761)\n",
      "  [123] Keeping  (2023-06-21 16:53:50.528309+00:00 - 2023-06-21 16:53:50.528309+00:00 -> 302.261 - 302.261)\n",
      "  [124] Keeping  (2023-06-21 16:53:53.258309+00:00 - 2023-06-21 16:53:53.258309+00:00 -> 304.991 - 304.991)\n",
      "  [125] Keeping  (2023-06-21 16:53:53.358309+00:00 - 2023-06-21 16:53:53.358309+00:00 -> 305.091 - 305.091)\n",
      "  [126] Keeping  (2023-06-21 16:53:55.528309+00:00 - 2023-06-21 16:53:55.528309+00:00 -> 307.261 - 307.261)\n",
      "  [127] Keeping  (2023-06-21 16:53:57.028309+00:00 - 2023-06-21 16:53:57.028309+00:00 -> 308.761 - 308.761)\n",
      "  [128] Keeping  (2023-06-21 16:54:00.258309+00:00 - 2023-06-21 16:54:00.258309+00:00 -> 311.991 - 311.991)\n",
      "  [129] Keeping  (2023-06-21 16:54:00.358309+00:00 - 2023-06-21 16:54:00.358309+00:00 -> 312.091 - 312.091)\n",
      "  [130] Keeping  (2023-06-21 16:54:02.028309+00:00 - 2023-06-21 16:54:02.028309+00:00 -> 313.761 - 313.761)\n",
      "  [131] Keeping  (2023-06-21 16:54:03.528309+00:00 - 2023-06-21 16:54:03.528309+00:00 -> 315.261 - 315.261)\n",
      "  [132] Keeping  (2023-06-21 16:54:07.188309+00:00 - 2023-06-21 16:54:07.188309+00:00 -> 318.921 - 318.921)\n",
      "  [133] Keeping  (2023-06-21 16:54:07.288309+00:00 - 2023-06-21 16:54:07.288309+00:00 -> 319.021 - 319.021)\n",
      "  [134] Keeping  (2023-06-21 16:54:08.528309+00:00 - 2023-06-21 16:54:08.528309+00:00 -> 320.261 - 320.261)\n",
      "  [135] Keeping  (2023-06-21 16:54:10.028309+00:00 - 2023-06-21 16:54:10.028309+00:00 -> 321.761 - 321.761)\n",
      "  [136] Keeping  (2023-06-21 16:54:13.818309+00:00 - 2023-06-21 16:54:13.818309+00:00 -> 325.551 - 325.551)\n",
      "  [137] Keeping  (2023-06-21 16:54:13.918309+00:00 - 2023-06-21 16:54:13.918309+00:00 -> 325.651 - 325.651)\n",
      "  [138] Keeping  (2023-06-21 16:54:15.028309+00:00 - 2023-06-21 16:54:15.028309+00:00 -> 326.761 - 326.761)\n",
      "  [139] Keeping  (2023-06-21 16:54:16.528309+00:00 - 2023-06-21 16:54:16.528309+00:00 -> 328.261 - 328.261)\n",
      "  [140] Keeping  (2023-06-21 16:54:19.388309+00:00 - 2023-06-21 16:54:19.388309+00:00 -> 331.121 - 331.121)\n",
      "  [141] Keeping  (2023-06-21 16:54:19.488309+00:00 - 2023-06-21 16:54:19.488309+00:00 -> 331.221 - 331.221)\n",
      "  [142] Keeping  (2023-06-21 16:54:21.528309+00:00 - 2023-06-21 16:54:21.528309+00:00 -> 333.261 - 333.261)\n",
      "  [143] Keeping  (2023-06-21 16:54:23.028309+00:00 - 2023-06-21 16:54:23.028309+00:00 -> 334.761 - 334.761)\n",
      "  [144] Keeping  (2023-06-21 16:54:26.338309+00:00 - 2023-06-21 16:54:26.338309+00:00 -> 338.071 - 338.071)\n",
      "  [145] Keeping  (2023-06-21 16:54:26.438309+00:00 - 2023-06-21 16:54:26.438309+00:00 -> 338.171 - 338.171)\n",
      "  [146] Keeping  (2023-06-21 16:54:28.028309+00:00 - 2023-06-21 16:54:28.028309+00:00 -> 339.761 - 339.761)\n",
      "  [147] Keeping  (2023-06-21 16:54:29.528309+00:00 - 2023-06-21 16:54:29.528309+00:00 -> 341.261 - 341.261)\n",
      "  [148] Keeping  (2023-06-21 16:54:32.478309+00:00 - 2023-06-21 16:54:32.478309+00:00 -> 344.211 - 344.211)\n",
      "  [149] Keeping  (2023-06-21 16:54:32.578309+00:00 - 2023-06-21 16:54:32.578309+00:00 -> 344.311 - 344.311)\n",
      "  [150] Keeping  (2023-06-21 16:54:34.528309+00:00 - 2023-06-21 16:54:34.528309+00:00 -> 346.261 - 346.261)\n",
      "  [151] Keeping  (2023-06-21 16:54:36.028309+00:00 - 2023-06-21 16:54:36.028309+00:00 -> 347.761 - 347.761)\n",
      "  [152] Keeping  (2023-06-21 16:54:38.558309+00:00 - 2023-06-21 16:54:38.558309+00:00 -> 350.291 - 350.291)\n",
      "  [153] Keeping  (2023-06-21 16:54:38.658309+00:00 - 2023-06-21 16:54:38.658309+00:00 -> 350.391 - 350.391)\n",
      "  [154] Keeping  (2023-06-21 16:54:41.038309+00:00 - 2023-06-21 16:54:41.038309+00:00 -> 352.771 - 352.771)\n",
      "  [155] Keeping  (2023-06-21 16:54:42.538309+00:00 - 2023-06-21 16:54:42.538309+00:00 -> 354.271 - 354.271)\n",
      "  [156] Keeping  (2023-06-21 16:54:46.198309+00:00 - 2023-06-21 16:54:46.198309+00:00 -> 357.931 - 357.931)\n",
      "  [157] Keeping  (2023-06-21 16:54:46.298309+00:00 - 2023-06-21 16:54:46.298309+00:00 -> 358.031 - 358.031)\n",
      "  [158] Keeping  (2023-06-21 16:54:47.548309+00:00 - 2023-06-21 16:54:47.548309+00:00 -> 359.281 - 359.281)\n",
      "  [159] Keeping  (2023-06-21 16:54:49.048309+00:00 - 2023-06-21 16:54:49.048309+00:00 -> 360.781 - 360.781)\n",
      "  [160] Keeping  (2023-06-21 16:54:51.708309+00:00 - 2023-06-21 16:54:51.708309+00:00 -> 363.441 - 363.441)\n",
      "  [161] Keeping  (2023-06-21 16:54:51.808309+00:00 - 2023-06-21 16:54:51.808309+00:00 -> 363.541 - 363.541)\n",
      "  [162] Keeping  (2023-06-21 16:54:54.058309+00:00 - 2023-06-21 16:54:54.058309+00:00 -> 365.791 - 365.791)\n",
      "  [163] Keeping  (2023-06-21 16:54:55.558309+00:00 - 2023-06-21 16:54:55.558309+00:00 -> 367.291 - 367.291)\n",
      "  [164] Keeping  (2023-06-21 16:54:59.388309+00:00 - 2023-06-21 16:54:59.388309+00:00 -> 371.121 - 371.121)\n",
      "  [165] Keeping  (2023-06-21 16:54:59.488309+00:00 - 2023-06-21 16:54:59.488309+00:00 -> 371.221 - 371.221)\n",
      "  [166] Keeping  (2023-06-21 16:55:00.558309+00:00 - 2023-06-21 16:55:00.558309+00:00 -> 372.291 - 372.291)\n",
      "  [167] Keeping  (2023-06-21 16:55:02.058309+00:00 - 2023-06-21 16:55:02.058309+00:00 -> 373.791 - 373.791)\n",
      "  [168] Keeping  (2023-06-21 16:55:04.998309+00:00 - 2023-06-21 16:55:04.998309+00:00 -> 376.731 - 376.731)\n",
      "  [169] Keeping  (2023-06-21 16:55:05.098309+00:00 - 2023-06-21 16:55:05.098309+00:00 -> 376.831 - 376.831)\n",
      "  [170] Keeping  (2023-06-21 16:55:07.059309+00:00 - 2023-06-21 16:55:07.059309+00:00 -> 378.792 - 378.792)\n",
      "  [171] Keeping  (2023-06-21 16:55:08.558309+00:00 - 2023-06-21 16:55:08.558309+00:00 -> 380.291 - 380.291)\n",
      "  [172] Keeping  (2023-06-21 16:55:12.388309+00:00 - 2023-06-21 16:55:12.388309+00:00 -> 384.121 - 384.121)\n",
      "  [173] Keeping  (2023-06-21 16:55:12.488309+00:00 - 2023-06-21 16:55:12.488309+00:00 -> 384.221 - 384.221)\n",
      "  [174] Keeping  (2023-06-21 16:55:13.558309+00:00 - 2023-06-21 16:55:13.558309+00:00 -> 385.291 - 385.291)\n",
      "  [175] Keeping  (2023-06-21 16:55:15.058309+00:00 - 2023-06-21 16:55:15.058309+00:00 -> 386.791 - 386.791)\n",
      "  [176] Keeping  (2023-06-21 16:55:17.908309+00:00 - 2023-06-21 16:55:17.908309+00:00 -> 389.641 - 389.641)\n",
      "  [177] Keeping  (2023-06-21 16:55:18.008309+00:00 - 2023-06-21 16:55:18.008309+00:00 -> 389.741 - 389.741)\n",
      "  [178] Keeping  (2023-06-21 16:55:20.058309+00:00 - 2023-06-21 16:55:20.058309+00:00 -> 391.791 - 391.791)\n",
      "  [179] Keeping  (2023-06-21 16:55:21.558309+00:00 - 2023-06-21 16:55:21.558309+00:00 -> 393.291 - 393.291)\n",
      "  [180] Keeping  (2023-06-21 16:55:25.078309+00:00 - 2023-06-21 16:55:25.078309+00:00 -> 396.811 - 396.811)\n",
      "  [181] Keeping  (2023-06-21 16:55:25.178309+00:00 - 2023-06-21 16:55:25.178309+00:00 -> 396.911 - 396.911)\n",
      "  [182] Keeping  (2023-06-21 16:55:26.558309+00:00 - 2023-06-21 16:55:26.558309+00:00 -> 398.291 - 398.291)\n",
      "  [183] Keeping  (2023-06-21 16:55:28.058309+00:00 - 2023-06-21 16:55:28.058309+00:00 -> 399.791 - 399.791)\n",
      "  [184] Keeping  (2023-06-21 16:55:31.078309+00:00 - 2023-06-21 16:55:31.078309+00:00 -> 402.811 - 402.811)\n",
      "  [185] Keeping  (2023-06-21 16:55:31.178309+00:00 - 2023-06-21 16:55:31.178309+00:00 -> 402.911 - 402.911)\n",
      "  [186] Keeping  (2023-06-21 16:55:33.059309+00:00 - 2023-06-21 16:55:33.059309+00:00 -> 404.792 - 404.792)\n",
      "  [187] Keeping  (2023-06-21 16:55:34.558309+00:00 - 2023-06-21 16:55:34.558309+00:00 -> 406.291 - 406.291)\n",
      "  [188] Keeping  (2023-06-21 16:55:37.428309+00:00 - 2023-06-21 16:55:37.428309+00:00 -> 409.161 - 409.161)\n",
      "  [189] Keeping  (2023-06-21 16:55:37.529309+00:00 - 2023-06-21 16:55:37.529309+00:00 -> 409.262 - 409.262)\n",
      "  [190] Keeping  (2023-06-21 16:55:39.559309+00:00 - 2023-06-21 16:55:39.559309+00:00 -> 411.292 - 411.292)\n",
      "  [191] Keeping  (2023-06-21 16:55:41.059309+00:00 - 2023-06-21 16:55:41.059309+00:00 -> 412.792 - 412.792)\n",
      "  [192] Keeping  (2023-06-21 16:55:43.818309+00:00 - 2023-06-21 16:55:43.818309+00:00 -> 415.551 - 415.551)\n",
      "  [193] Keeping  (2023-06-21 16:55:43.918309+00:00 - 2023-06-21 16:55:43.918309+00:00 -> 415.651 - 415.651)\n",
      "  [194] Keeping  (2023-06-21 16:55:46.059309+00:00 - 2023-06-21 16:55:46.059309+00:00 -> 417.792 - 417.792)\n",
      "  [195] Keeping  (2023-06-21 16:55:47.559309+00:00 - 2023-06-21 16:55:47.559309+00:00 -> 419.292 - 419.292)\n",
      "  [196] Keeping  (2023-06-21 16:55:50.518309+00:00 - 2023-06-21 16:55:50.518309+00:00 -> 422.251 - 422.251)\n",
      "  [197] Keeping  (2023-06-21 16:55:50.618309+00:00 - 2023-06-21 16:55:50.618309+00:00 -> 422.351 - 422.351)\n",
      "  [198] Keeping  (2023-06-21 16:55:52.568309+00:00 - 2023-06-21 16:55:52.568309+00:00 -> 424.301 - 424.301)\n",
      "  [199] Keeping  (2023-06-21 16:55:54.068309+00:00 - 2023-06-21 16:55:54.068309+00:00 -> 425.801 - 425.801)\n",
      "  [200] Keeping  (2023-06-21 16:55:57.509309+00:00 - 2023-06-21 16:55:57.509309+00:00 -> 429.242 - 429.242)\n",
      "  [201] Keeping  (2023-06-21 16:55:57.608309+00:00 - 2023-06-21 16:55:57.608309+00:00 -> 429.341 - 429.341)\n",
      "  [202] Keeping  (2023-06-21 16:55:59.072309+00:00 - 2023-06-21 16:55:59.072309+00:00 -> 430.805 - 430.805)\n",
      "  [203] Keeping  (2023-06-21 16:56:03.016309+00:00 - 2023-06-21 16:56:03.016309+00:00 -> 434.749 - 434.749)\n",
      "  [204] Keeping  (2023-06-21 16:56:15.570309+00:00 - 2023-06-21 16:56:15.570309+00:00 -> 447.303 - 447.303)\n",
      "  [205] Keeping  (2023-06-21 16:56:15.571309+00:00 - 2023-06-21 16:56:15.571309+00:00 -> 447.304 - 447.304)\n",
      "  [206] Keeping  (2023-06-21 16:56:17.068309+00:00 - 2023-06-21 16:56:17.068309+00:00 -> 448.801 - 448.801)\n",
      "  [207] Keeping  (2023-06-21 16:56:20.829309+00:00 - 2023-06-21 16:56:20.829309+00:00 -> 452.562 - 452.562)\n",
      "  [208] Keeping  (2023-06-21 16:56:20.929309+00:00 - 2023-06-21 16:56:20.929309+00:00 -> 452.662 - 452.662)\n",
      "  [209] Keeping  (2023-06-21 16:56:22.079309+00:00 - 2023-06-21 16:56:22.079309+00:00 -> 453.812 - 453.812)\n",
      "  [210] Keeping  (2023-06-21 16:56:23.579309+00:00 - 2023-06-21 16:56:23.579309+00:00 -> 455.312 - 455.312)\n",
      "  [211] Keeping  (2023-06-21 16:56:26.149309+00:00 - 2023-06-21 16:56:26.149309+00:00 -> 457.882 - 457.882)\n",
      "  [212] Keeping  (2023-06-21 16:56:26.249309+00:00 - 2023-06-21 16:56:26.249309+00:00 -> 457.982 - 457.982)\n",
      "  [213] Keeping  (2023-06-21 16:56:28.579309+00:00 - 2023-06-21 16:56:28.579309+00:00 -> 460.312 - 460.312)\n",
      "  [214] Keeping  (2023-06-21 16:56:30.079309+00:00 - 2023-06-21 16:56:30.079309+00:00 -> 461.812 - 461.812)\n",
      "  [215] Keeping  (2023-06-21 16:56:32.719309+00:00 - 2023-06-21 16:56:32.719309+00:00 -> 464.452 - 464.452)\n",
      "  [216] Keeping  (2023-06-21 16:56:32.819309+00:00 - 2023-06-21 16:56:32.819309+00:00 -> 464.552 - 464.552)\n",
      "  [217] Keeping  (2023-06-21 16:56:35.079309+00:00 - 2023-06-21 16:56:35.079309+00:00 -> 466.812 - 466.812)\n",
      "  [218] Keeping  (2023-06-21 16:56:36.579309+00:00 - 2023-06-21 16:56:36.579309+00:00 -> 468.312 - 468.312)\n",
      "  [219] Keeping  (2023-06-21 16:56:39.229309+00:00 - 2023-06-21 16:56:39.229309+00:00 -> 470.962 - 470.962)\n",
      "  [220] Keeping  (2023-06-21 16:56:39.329309+00:00 - 2023-06-21 16:56:39.329309+00:00 -> 471.062 - 471.062)\n",
      "  [221] Keeping  (2023-06-21 16:56:41.579309+00:00 - 2023-06-21 16:56:41.579309+00:00 -> 473.312 - 473.312)\n",
      "  [222] Keeping  (2023-06-21 16:56:43.079309+00:00 - 2023-06-21 16:56:43.079309+00:00 -> 474.812 - 474.812)\n",
      "  [223] Keeping  (2023-06-21 16:56:46.699309+00:00 - 2023-06-21 16:56:46.699309+00:00 -> 478.432 - 478.432)\n",
      "  [224] Keeping  (2023-06-21 16:56:46.799309+00:00 - 2023-06-21 16:56:46.799309+00:00 -> 478.532 - 478.532)\n",
      "  [225] Keeping  (2023-06-21 16:56:48.079309+00:00 - 2023-06-21 16:56:48.079309+00:00 -> 479.812 - 479.812)\n",
      "  [226] Keeping  (2023-06-21 16:56:49.579309+00:00 - 2023-06-21 16:56:49.579309+00:00 -> 481.312 - 481.312)\n",
      "  [227] Keeping  (2023-06-21 16:56:52.619309+00:00 - 2023-06-21 16:56:52.619309+00:00 -> 484.352 - 484.352)\n",
      "  [228] Keeping  (2023-06-21 16:56:52.719309+00:00 - 2023-06-21 16:56:52.719309+00:00 -> 484.452 - 484.452)\n",
      "  [229] Keeping  (2023-06-21 16:56:54.579309+00:00 - 2023-06-21 16:56:54.579309+00:00 -> 486.312 - 486.312)\n",
      "  [230] Keeping  (2023-06-21 16:56:56.079309+00:00 - 2023-06-21 16:56:56.079309+00:00 -> 487.812 - 487.812)\n",
      "  [231] Keeping  (2023-06-21 16:56:58.829309+00:00 - 2023-06-21 16:56:58.829309+00:00 -> 490.562 - 490.562)\n",
      "  [232] Keeping  (2023-06-21 16:56:58.929309+00:00 - 2023-06-21 16:56:58.929309+00:00 -> 490.662 - 490.662)\n",
      "  [233] Keeping  (2023-06-21 16:57:01.079309+00:00 - 2023-06-21 16:57:01.079309+00:00 -> 492.812 - 492.812)\n",
      "  [234] Keeping  (2023-06-21 16:57:02.579309+00:00 - 2023-06-21 16:57:02.579309+00:00 -> 494.312 - 494.312)\n",
      "  [235] Keeping  (2023-06-21 16:57:06.439309+00:00 - 2023-06-21 16:57:06.439309+00:00 -> 498.172 - 498.172)\n",
      "  [236] Keeping  (2023-06-21 16:57:06.539309+00:00 - 2023-06-21 16:57:06.539309+00:00 -> 498.272 - 498.272)\n",
      "  [237] Keeping  (2023-06-21 16:57:07.579309+00:00 - 2023-06-21 16:57:07.579309+00:00 -> 499.312 - 499.312)\n",
      "  [238] Keeping  (2023-06-21 16:57:09.079309+00:00 - 2023-06-21 16:57:09.079309+00:00 -> 500.812 - 500.812)\n",
      "  [239] Keeping  (2023-06-21 16:57:11.579309+00:00 - 2023-06-21 16:57:11.579309+00:00 -> 503.312 - 503.312)\n",
      "  [240] Keeping  (2023-06-21 16:57:11.679309+00:00 - 2023-06-21 16:57:11.679309+00:00 -> 503.412 - 503.412)\n",
      "  [241] Keeping  (2023-06-21 16:57:14.079309+00:00 - 2023-06-21 16:57:14.079309+00:00 -> 505.812 - 505.812)\n",
      "  [242] Keeping  (2023-06-21 16:57:15.579309+00:00 - 2023-06-21 16:57:15.579309+00:00 -> 507.312 - 507.312)\n",
      "  [243] Keeping  (2023-06-21 16:57:18.929309+00:00 - 2023-06-21 16:57:18.929309+00:00 -> 510.662 - 510.662)\n",
      "  [244] Keeping  (2023-06-21 16:57:19.029309+00:00 - 2023-06-21 16:57:19.029309+00:00 -> 510.762 - 510.762)\n",
      "  [245] Keeping  (2023-06-21 16:57:20.579309+00:00 - 2023-06-21 16:57:20.579309+00:00 -> 512.312 - 512.312)\n",
      "  [246] Keeping  (2023-06-21 16:57:22.079309+00:00 - 2023-06-21 16:57:22.079309+00:00 -> 513.812 - 513.812)\n",
      "  [247] Keeping  (2023-06-21 16:57:25.719309+00:00 - 2023-06-21 16:57:25.719309+00:00 -> 517.452 - 517.452)\n",
      "  [248] Keeping  (2023-06-21 16:57:25.819309+00:00 - 2023-06-21 16:57:25.819309+00:00 -> 517.552 - 517.552)\n",
      "  [249] Keeping  (2023-06-21 16:57:27.079309+00:00 - 2023-06-21 16:57:27.079309+00:00 -> 518.812 - 518.812)\n",
      "  [250] Keeping  (2023-06-21 16:57:28.579309+00:00 - 2023-06-21 16:57:28.579309+00:00 -> 520.312 - 520.312)\n",
      "  [251] Keeping  (2023-06-21 16:57:31.169309+00:00 - 2023-06-21 16:57:31.169309+00:00 -> 522.902 - 522.902)\n",
      "  [252] Keeping  (2023-06-21 16:57:31.269309+00:00 - 2023-06-21 16:57:31.269309+00:00 -> 523.002 - 523.002)\n",
      "  [253] Keeping  (2023-06-21 16:57:33.579309+00:00 - 2023-06-21 16:57:33.579309+00:00 -> 525.312 - 525.312)\n",
      "  [254] Keeping  (2023-06-21 16:57:35.079309+00:00 - 2023-06-21 16:57:35.079309+00:00 -> 526.812 - 526.812)\n",
      "  [255] Keeping  (2023-06-21 16:57:38.319309+00:00 - 2023-06-21 16:57:38.319309+00:00 -> 530.052 - 530.052)\n",
      "  [256] Keeping  (2023-06-21 16:57:38.419309+00:00 - 2023-06-21 16:57:38.419309+00:00 -> 530.152 - 530.152)\n",
      "  [257] Keeping  (2023-06-21 16:57:40.079309+00:00 - 2023-06-21 16:57:40.079309+00:00 -> 531.812 - 531.812)\n",
      "  [258] Keeping  (2023-06-21 16:57:41.579309+00:00 - 2023-06-21 16:57:41.579309+00:00 -> 533.312 - 533.312)\n",
      "  [259] Keeping  (2023-06-21 16:57:45.439309+00:00 - 2023-06-21 16:57:45.439309+00:00 -> 537.172 - 537.172)\n",
      "  [260] Keeping  (2023-06-21 16:57:45.539309+00:00 - 2023-06-21 16:57:45.539309+00:00 -> 537.272 - 537.272)\n",
      "  [261] Keeping  (2023-06-21 16:57:46.589309+00:00 - 2023-06-21 16:57:46.589309+00:00 -> 538.322 - 538.322)\n",
      "  [262] Keeping  (2023-06-21 16:57:48.089309+00:00 - 2023-06-21 16:57:48.089309+00:00 -> 539.822 - 539.822)\n",
      "  [263] Keeping  (2023-06-21 16:57:50.719309+00:00 - 2023-06-21 16:57:50.719309+00:00 -> 542.452 - 542.452)\n",
      "  [264] Keeping  (2023-06-21 16:57:50.819309+00:00 - 2023-06-21 16:57:50.819309+00:00 -> 542.552 - 542.552)\n",
      "  [265] Keeping  (2023-06-21 16:57:53.089309+00:00 - 2023-06-21 16:57:53.089309+00:00 -> 544.822 - 544.822)\n",
      "  [266] Keeping  (2023-06-21 16:57:54.589309+00:00 - 2023-06-21 16:57:54.589309+00:00 -> 546.322 - 546.322)\n",
      "  [267] Keeping  (2023-06-21 16:57:58.339309+00:00 - 2023-06-21 16:57:58.339309+00:00 -> 550.072 - 550.072)\n",
      "  [268] Keeping  (2023-06-21 16:57:58.439309+00:00 - 2023-06-21 16:57:58.439309+00:00 -> 550.172 - 550.172)\n",
      "  [269] Keeping  (2023-06-21 16:57:59.589309+00:00 - 2023-06-21 16:57:59.589309+00:00 -> 551.322 - 551.322)\n",
      "  [270] Keeping  (2023-06-21 16:58:01.089309+00:00 - 2023-06-21 16:58:01.089309+00:00 -> 552.822 - 552.822)\n",
      "  [271] Keeping  (2023-06-21 16:58:04.529309+00:00 - 2023-06-21 16:58:04.529309+00:00 -> 556.262 - 556.262)\n",
      "  [272] Keeping  (2023-06-21 16:58:04.629309+00:00 - 2023-06-21 16:58:04.629309+00:00 -> 556.362 - 556.362)\n",
      "  [273] Keeping  (2023-06-21 16:58:06.099309+00:00 - 2023-06-21 16:58:06.099309+00:00 -> 557.832 - 557.832)\n",
      "  [274] Keeping  (2023-06-21 16:58:07.599309+00:00 - 2023-06-21 16:58:07.599309+00:00 -> 559.332 - 559.332)\n",
      "  [275] Keeping  (2023-06-21 16:58:10.549309+00:00 - 2023-06-21 16:58:10.549309+00:00 -> 562.282 - 562.282)\n",
      "  [276] Keeping  (2023-06-21 16:58:10.649309+00:00 - 2023-06-21 16:58:10.649309+00:00 -> 562.382 - 562.382)\n",
      "  [277] Keeping  (2023-06-21 16:58:12.599309+00:00 - 2023-06-21 16:58:12.599309+00:00 -> 564.332 - 564.332)\n",
      "  [278] Keeping  (2023-06-21 16:58:14.099309+00:00 - 2023-06-21 16:58:14.099309+00:00 -> 565.832 - 565.832)\n",
      "  [279] Keeping  (2023-06-21 16:58:16.829309+00:00 - 2023-06-21 16:58:16.829309+00:00 -> 568.562 - 568.562)\n",
      "  [280] Keeping  (2023-06-21 16:58:16.929309+00:00 - 2023-06-21 16:58:16.929309+00:00 -> 568.662 - 568.662)\n",
      "  [281] Keeping  (2023-06-21 16:58:19.099309+00:00 - 2023-06-21 16:58:19.099309+00:00 -> 570.832 - 570.832)\n",
      "  [282] Keeping  (2023-06-21 16:58:20.599309+00:00 - 2023-06-21 16:58:20.599309+00:00 -> 572.332 - 572.332)\n",
      "  [283] Keeping  (2023-06-21 16:58:24.399309+00:00 - 2023-06-21 16:58:24.399309+00:00 -> 576.132 - 576.132)\n",
      "  [284] Keeping  (2023-06-21 16:58:24.499309+00:00 - 2023-06-21 16:58:24.499309+00:00 -> 576.232 - 576.232)\n",
      "  [285] Keeping  (2023-06-21 16:58:25.600309+00:00 - 2023-06-21 16:58:25.600309+00:00 -> 577.333 - 577.333)\n",
      "  [286] Keeping  (2023-06-21 16:58:27.099309+00:00 - 2023-06-21 16:58:27.099309+00:00 -> 578.832 - 578.832)\n",
      "  [287] Keeping  (2023-06-21 16:58:30.589309+00:00 - 2023-06-21 16:58:30.589309+00:00 -> 582.322 - 582.322)\n",
      "  [288] Keeping  (2023-06-21 16:58:30.689309+00:00 - 2023-06-21 16:58:30.689309+00:00 -> 582.422 - 582.422)\n",
      "  [289] Keeping  (2023-06-21 16:58:32.100309+00:00 - 2023-06-21 16:58:32.100309+00:00 -> 583.833 - 583.833)\n",
      "  [290] Keeping  (2023-06-21 16:58:33.599309+00:00 - 2023-06-21 16:58:33.599309+00:00 -> 585.332 - 585.332)\n",
      "  [291] Keeping  (2023-06-21 16:58:37.109309+00:00 - 2023-06-21 16:58:37.109309+00:00 -> 588.842 - 588.842)\n",
      "  [292] Keeping  (2023-06-21 16:58:37.209309+00:00 - 2023-06-21 16:58:37.209309+00:00 -> 588.942 - 588.942)\n",
      "  [293] Keeping  (2023-06-21 16:58:38.600309+00:00 - 2023-06-21 16:58:38.600309+00:00 -> 590.333 - 590.333)\n",
      "  [294] Keeping  (2023-06-21 16:58:40.099309+00:00 - 2023-06-21 16:58:40.099309+00:00 -> 591.832 - 591.832)\n",
      "  [295] Keeping  (2023-06-21 16:58:43.509309+00:00 - 2023-06-21 16:58:43.509309+00:00 -> 595.242 - 595.242)\n",
      "  [296] Keeping  (2023-06-21 16:58:43.609309+00:00 - 2023-06-21 16:58:43.609309+00:00 -> 595.342 - 595.342)\n",
      "  [297] Keeping  (2023-06-21 16:58:45.100309+00:00 - 2023-06-21 16:58:45.100309+00:00 -> 596.833 - 596.833)\n",
      "  [298] Keeping  (2023-06-21 16:58:46.600309+00:00 - 2023-06-21 16:58:46.600309+00:00 -> 598.333 - 598.333)\n",
      "  [299] Keeping  (2023-06-21 16:58:49.360309+00:00 - 2023-06-21 16:58:49.360309+00:00 -> 601.093 - 601.093)\n",
      "  [300] Keeping  (2023-06-21 16:58:49.460309+00:00 - 2023-06-21 16:58:49.460309+00:00 -> 601.193 - 601.193)\n",
      "  [301] Keeping  (2023-06-21 16:58:51.600309+00:00 - 2023-06-21 16:58:51.600309+00:00 -> 603.333 - 603.333)\n",
      "  [302] Keeping  (2023-06-21 16:58:53.099309+00:00 - 2023-06-21 16:58:53.099309+00:00 -> 604.832 - 604.832)\n",
      "  [303] Keeping  (2023-06-21 16:58:56.460309+00:00 - 2023-06-21 16:58:56.460309+00:00 -> 608.193 - 608.193)\n",
      "  [304] Keeping  (2023-06-21 16:58:56.560309+00:00 - 2023-06-21 16:58:56.560309+00:00 -> 608.293 - 608.293)\n",
      "  [305] Keeping  (2023-06-21 16:58:58.102309+00:00 - 2023-06-21 16:58:58.102309+00:00 -> 609.835 - 609.835)\n",
      "  [306] Keeping  (2023-06-21 16:58:59.647309+00:00 - 2023-06-21 16:58:59.647309+00:00 -> 611.38 - 611.38)\n",
      "  [307] Keeping  (2023-06-21 16:59:10.003309+00:00 - 2023-06-21 16:59:10.003309+00:00 -> 621.736 - 621.736)\n",
      "  [308] Keeping  (2023-06-21 16:59:10.004309+00:00 - 2023-06-21 16:59:10.004309+00:00 -> 621.737 - 621.737)\n",
      "  [309] Keeping  (2023-06-21 16:59:11.510309+00:00 - 2023-06-21 16:59:11.510309+00:00 -> 623.243 - 623.243)\n",
      "  [310] Keeping  (2023-06-21 16:59:15.060309+00:00 - 2023-06-21 16:59:15.060309+00:00 -> 626.793 - 626.793)\n",
      "  [311] Keeping  (2023-06-21 16:59:15.160309+00:00 - 2023-06-21 16:59:15.160309+00:00 -> 626.893 - 626.893)\n",
      "  [312] Keeping  (2023-06-21 16:59:16.510309+00:00 - 2023-06-21 16:59:16.510309+00:00 -> 628.243 - 628.243)\n",
      "  [313] Keeping  (2023-06-21 16:59:18.010309+00:00 - 2023-06-21 16:59:18.010309+00:00 -> 629.743 - 629.743)\n",
      "  [314] Keeping  (2023-06-21 16:59:21.450309+00:00 - 2023-06-21 16:59:21.450309+00:00 -> 633.183 - 633.183)\n",
      "  [315] Keeping  (2023-06-21 16:59:21.550309+00:00 - 2023-06-21 16:59:21.550309+00:00 -> 633.283 - 633.283)\n",
      "  [316] Keeping  (2023-06-21 16:59:23.010309+00:00 - 2023-06-21 16:59:23.010309+00:00 -> 634.743 - 634.743)\n",
      "  [317] Keeping  (2023-06-21 16:59:24.510309+00:00 - 2023-06-21 16:59:24.510309+00:00 -> 636.243 - 636.243)\n",
      "  [318] Keeping  (2023-06-21 16:59:28.080309+00:00 - 2023-06-21 16:59:28.080309+00:00 -> 639.813 - 639.813)\n",
      "  [319] Keeping  (2023-06-21 16:59:28.180309+00:00 - 2023-06-21 16:59:28.180309+00:00 -> 639.913 - 639.913)\n",
      "  [320] Keeping  (2023-06-21 16:59:29.510309+00:00 - 2023-06-21 16:59:29.510309+00:00 -> 641.243 - 641.243)\n",
      "  [321] Keeping  (2023-06-21 16:59:31.010309+00:00 - 2023-06-21 16:59:31.010309+00:00 -> 642.743 - 642.743)\n",
      "  [322] Keeping  (2023-06-21 16:59:34.190309+00:00 - 2023-06-21 16:59:34.190309+00:00 -> 645.923 - 645.923)\n",
      "  [323] Keeping  (2023-06-21 16:59:34.290309+00:00 - 2023-06-21 16:59:34.290309+00:00 -> 646.023 - 646.023)\n",
      "  [324] Keeping  (2023-06-21 16:59:36.010309+00:00 - 2023-06-21 16:59:36.010309+00:00 -> 647.743 - 647.743)\n",
      "  [325] Keeping  (2023-06-21 16:59:37.510309+00:00 - 2023-06-21 16:59:37.510309+00:00 -> 649.243 - 649.243)\n",
      "  [326] Keeping  (2023-06-21 16:59:40.940309+00:00 - 2023-06-21 16:59:40.940309+00:00 -> 652.673 - 652.673)\n",
      "  [327] Keeping  (2023-06-21 16:59:41.040309+00:00 - 2023-06-21 16:59:41.040309+00:00 -> 652.773 - 652.773)\n",
      "  [328] Keeping  (2023-06-21 16:59:42.510309+00:00 - 2023-06-21 16:59:42.510309+00:00 -> 654.243 - 654.243)\n",
      "  [329] Keeping  (2023-06-21 16:59:44.010309+00:00 - 2023-06-21 16:59:44.010309+00:00 -> 655.743 - 655.743)\n",
      "  [330] Keeping  (2023-06-21 16:59:46.940309+00:00 - 2023-06-21 16:59:46.940309+00:00 -> 658.673 - 658.673)\n",
      "  [331] Keeping  (2023-06-21 16:59:47.040309+00:00 - 2023-06-21 16:59:47.040309+00:00 -> 658.773 - 658.773)\n",
      "  [332] Keeping  (2023-06-21 16:59:49.010309+00:00 - 2023-06-21 16:59:49.010309+00:00 -> 660.743 - 660.743)\n",
      "  [333] Keeping  (2023-06-21 16:59:50.510309+00:00 - 2023-06-21 16:59:50.510309+00:00 -> 662.243 - 662.243)\n",
      "  [334] Keeping  (2023-06-21 16:59:53.930309+00:00 - 2023-06-21 16:59:53.930309+00:00 -> 665.663 - 665.663)\n",
      "  [335] Keeping  (2023-06-21 16:59:54.030309+00:00 - 2023-06-21 16:59:54.030309+00:00 -> 665.763 - 665.763)\n",
      "  [336] Keeping  (2023-06-21 16:59:55.520309+00:00 - 2023-06-21 16:59:55.520309+00:00 -> 667.253 - 667.253)\n",
      "  [337] Keeping  (2023-06-21 16:59:57.020309+00:00 - 2023-06-21 16:59:57.020309+00:00 -> 668.753 - 668.753)\n",
      "  [338] Keeping  (2023-06-21 17:00:00.190309+00:00 - 2023-06-21 17:00:00.190309+00:00 -> 671.923 - 671.923)\n",
      "  [339] Keeping  (2023-06-21 17:00:00.290309+00:00 - 2023-06-21 17:00:00.290309+00:00 -> 672.023 - 672.023)\n",
      "  [340] Keeping  (2023-06-21 17:00:02.020309+00:00 - 2023-06-21 17:00:02.020309+00:00 -> 673.753 - 673.753)\n",
      "  [341] Keeping  (2023-06-21 17:00:03.520309+00:00 - 2023-06-21 17:00:03.520309+00:00 -> 675.253 - 675.253)\n",
      "  [342] Keeping  (2023-06-21 17:00:07.280309+00:00 - 2023-06-21 17:00:07.280309+00:00 -> 679.013 - 679.013)\n",
      "  [343] Keeping  (2023-06-21 17:00:07.380309+00:00 - 2023-06-21 17:00:07.380309+00:00 -> 679.113 - 679.113)\n",
      "  [344] Keeping  (2023-06-21 17:00:08.520309+00:00 - 2023-06-21 17:00:08.520309+00:00 -> 680.253 - 680.253)\n",
      "  [345] Keeping  (2023-06-21 17:00:10.020309+00:00 - 2023-06-21 17:00:10.020309+00:00 -> 681.753 - 681.753)\n",
      "  [346] Keeping  (2023-06-21 17:00:12.710309+00:00 - 2023-06-21 17:00:12.710309+00:00 -> 684.443 - 684.443)\n",
      "  [347] Keeping  (2023-06-21 17:00:12.810309+00:00 - 2023-06-21 17:00:12.810309+00:00 -> 684.543 - 684.543)\n",
      "  [348] Keeping  (2023-06-21 17:00:15.020309+00:00 - 2023-06-21 17:00:15.020309+00:00 -> 686.753 - 686.753)\n",
      "  [349] Keeping  (2023-06-21 17:00:16.520309+00:00 - 2023-06-21 17:00:16.520309+00:00 -> 688.253 - 688.253)\n",
      "  [350] Keeping  (2023-06-21 17:00:19.070309+00:00 - 2023-06-21 17:00:19.070309+00:00 -> 690.803 - 690.803)\n",
      "  [351] Keeping  (2023-06-21 17:00:19.170309+00:00 - 2023-06-21 17:00:19.170309+00:00 -> 690.903 - 690.903)\n",
      "  [352] Keeping  (2023-06-21 17:00:21.530309+00:00 - 2023-06-21 17:00:21.530309+00:00 -> 693.263 - 693.263)\n",
      "  [353] Keeping  (2023-06-21 17:00:23.030309+00:00 - 2023-06-21 17:00:23.030309+00:00 -> 694.763 - 694.763)\n",
      "  [354] Keeping  (2023-06-21 17:00:25.650309+00:00 - 2023-06-21 17:00:25.650309+00:00 -> 697.383 - 697.383)\n",
      "  [355] Keeping  (2023-06-21 17:00:25.750309+00:00 - 2023-06-21 17:00:25.750309+00:00 -> 697.483 - 697.483)\n",
      "  [356] Keeping  (2023-06-21 17:00:28.030309+00:00 - 2023-06-21 17:00:28.030309+00:00 -> 699.763 - 699.763)\n",
      "  [357] Keeping  (2023-06-21 17:00:29.530309+00:00 - 2023-06-21 17:00:29.530309+00:00 -> 701.263 - 701.263)\n",
      "  [358] Keeping  (2023-06-21 17:00:32.220309+00:00 - 2023-06-21 17:00:32.220309+00:00 -> 703.953 - 703.953)\n",
      "  [359] Keeping  (2023-06-21 17:00:32.320309+00:00 - 2023-06-21 17:00:32.320309+00:00 -> 704.053 - 704.053)\n",
      "  [360] Keeping  (2023-06-21 17:00:34.530309+00:00 - 2023-06-21 17:00:34.530309+00:00 -> 706.263 - 706.263)\n",
      "  [361] Keeping  (2023-06-21 17:00:36.030309+00:00 - 2023-06-21 17:00:36.030309+00:00 -> 707.763 - 707.763)\n",
      "  [362] Keeping  (2023-06-21 17:00:39.930309+00:00 - 2023-06-21 17:00:39.930309+00:00 -> 711.663 - 711.663)\n",
      "  [363] Keeping  (2023-06-21 17:00:40.030309+00:00 - 2023-06-21 17:00:40.030309+00:00 -> 711.763 - 711.763)\n",
      "  [364] Keeping  (2023-06-21 17:00:41.040309+00:00 - 2023-06-21 17:00:41.040309+00:00 -> 712.773 - 712.773)\n",
      "  [365] Keeping  (2023-06-21 17:00:42.540309+00:00 - 2023-06-21 17:00:42.540309+00:00 -> 714.273 - 714.273)\n",
      "  [366] Keeping  (2023-06-21 17:00:45.690309+00:00 - 2023-06-21 17:00:45.690309+00:00 -> 717.423 - 717.423)\n",
      "  [367] Keeping  (2023-06-21 17:00:45.790309+00:00 - 2023-06-21 17:00:45.790309+00:00 -> 717.523 - 717.523)\n",
      "  [368] Keeping  (2023-06-21 17:00:47.540309+00:00 - 2023-06-21 17:00:47.540309+00:00 -> 719.273 - 719.273)\n",
      "  [369] Keeping  (2023-06-21 17:00:49.040309+00:00 - 2023-06-21 17:00:49.040309+00:00 -> 720.773 - 720.773)\n",
      "  [370] Keeping  (2023-06-21 17:00:52.920309+00:00 - 2023-06-21 17:00:52.920309+00:00 -> 724.653 - 724.653)\n",
      "  [371] Keeping  (2023-06-21 17:00:53.020309+00:00 - 2023-06-21 17:00:53.020309+00:00 -> 724.753 - 724.753)\n",
      "  [372] Keeping  (2023-06-21 17:00:54.040309+00:00 - 2023-06-21 17:00:54.040309+00:00 -> 725.773 - 725.773)\n",
      "  [373] Keeping  (2023-06-21 17:00:55.540309+00:00 - 2023-06-21 17:00:55.540309+00:00 -> 727.273 - 727.273)\n",
      "  [374] Keeping  (2023-06-21 17:00:59.040309+00:00 - 2023-06-21 17:00:59.040309+00:00 -> 730.773 - 730.773)\n",
      "  [375] Keeping  (2023-06-21 17:00:59.140309+00:00 - 2023-06-21 17:00:59.140309+00:00 -> 730.873 - 730.873)\n",
      "  [376] Keeping  (2023-06-21 17:01:00.540309+00:00 - 2023-06-21 17:01:00.540309+00:00 -> 732.273 - 732.273)\n",
      "  [377] Keeping  (2023-06-21 17:01:02.040309+00:00 - 2023-06-21 17:01:02.040309+00:00 -> 733.773 - 733.773)\n",
      "  [378] Keeping  (2023-06-21 17:01:05.910309+00:00 - 2023-06-21 17:01:05.910309+00:00 -> 737.643 - 737.643)\n",
      "  [379] Keeping  (2023-06-21 17:01:06.010309+00:00 - 2023-06-21 17:01:06.010309+00:00 -> 737.743 - 737.743)\n",
      "  [380] Keeping  (2023-06-21 17:01:07.050309+00:00 - 2023-06-21 17:01:07.050309+00:00 -> 738.783 - 738.783)\n",
      "  [381] Keeping  (2023-06-21 17:01:08.550309+00:00 - 2023-06-21 17:01:08.550309+00:00 -> 740.283 - 740.283)\n",
      "  [382] Keeping  (2023-06-21 17:01:11.400309+00:00 - 2023-06-21 17:01:11.400309+00:00 -> 743.133 - 743.133)\n",
      "  [383] Keeping  (2023-06-21 17:01:11.500309+00:00 - 2023-06-21 17:01:11.500309+00:00 -> 743.233 - 743.233)\n",
      "  [384] Keeping  (2023-06-21 17:01:13.550309+00:00 - 2023-06-21 17:01:13.550309+00:00 -> 745.283 - 745.283)\n",
      "  [385] Keeping  (2023-06-21 17:01:15.050309+00:00 - 2023-06-21 17:01:15.050309+00:00 -> 746.783 - 746.783)\n",
      "  [386] Keeping  (2023-06-21 17:01:17.590309+00:00 - 2023-06-21 17:01:17.590309+00:00 -> 749.323 - 749.323)\n",
      "  [387] Keeping  (2023-06-21 17:01:17.690309+00:00 - 2023-06-21 17:01:17.690309+00:00 -> 749.423 - 749.423)\n",
      "  [388] Keeping  (2023-06-21 17:01:20.060309+00:00 - 2023-06-21 17:01:20.060309+00:00 -> 751.793 - 751.793)\n",
      "  [389] Keeping  (2023-06-21 17:01:21.560309+00:00 - 2023-06-21 17:01:21.560309+00:00 -> 753.293 - 753.293)\n",
      "  [390] Keeping  (2023-06-21 17:01:25.390309+00:00 - 2023-06-21 17:01:25.390309+00:00 -> 757.123 - 757.123)\n",
      "  [391] Keeping  (2023-06-21 17:01:25.490309+00:00 - 2023-06-21 17:01:25.490309+00:00 -> 757.223 - 757.223)\n",
      "  [392] Keeping  (2023-06-21 17:01:26.561309+00:00 - 2023-06-21 17:01:26.561309+00:00 -> 758.294 - 758.294)\n",
      "  [393] Keeping  (2023-06-21 17:01:28.061309+00:00 - 2023-06-21 17:01:28.061309+00:00 -> 759.794 - 759.794)\n",
      "  [394] Keeping  (2023-06-21 17:01:31.390309+00:00 - 2023-06-21 17:01:31.390309+00:00 -> 763.123 - 763.123)\n",
      "  [395] Keeping  (2023-06-21 17:01:31.490309+00:00 - 2023-06-21 17:01:31.490309+00:00 -> 763.223 - 763.223)\n",
      "  [396] Keeping  (2023-06-21 17:01:33.070309+00:00 - 2023-06-21 17:01:33.070309+00:00 -> 764.803 - 764.803)\n",
      "  [397] Keeping  (2023-06-21 17:01:34.570309+00:00 - 2023-06-21 17:01:34.570309+00:00 -> 766.303 - 766.303)\n",
      "  [398] Keeping  (2023-06-21 17:01:38.410309+00:00 - 2023-06-21 17:01:38.410309+00:00 -> 770.143 - 770.143)\n",
      "  [399] Keeping  (2023-06-21 17:01:38.510309+00:00 - 2023-06-21 17:01:38.510309+00:00 -> 770.243 - 770.243)\n",
      "  [400] Keeping  (2023-06-21 17:01:39.570309+00:00 - 2023-06-21 17:01:39.570309+00:00 -> 771.303 - 771.303)\n",
      "  [401] Keeping  (2023-06-21 17:01:41.071309+00:00 - 2023-06-21 17:01:41.071309+00:00 -> 772.804 - 772.804)\n",
      "  [402] Keeping  (2023-06-21 17:01:44.170309+00:00 - 2023-06-21 17:01:44.170309+00:00 -> 775.903 - 775.903)\n",
      "  [403] Keeping  (2023-06-21 17:01:44.271309+00:00 - 2023-06-21 17:01:44.271309+00:00 -> 776.004 - 776.004)\n",
      "  [404] Keeping  (2023-06-21 17:01:46.071309+00:00 - 2023-06-21 17:01:46.071309+00:00 -> 777.804 - 777.804)\n",
      "  [405] Keeping  (2023-06-21 17:01:47.570309+00:00 - 2023-06-21 17:01:47.570309+00:00 -> 779.303 - 779.303)\n",
      "  [406] Keeping  (2023-06-21 17:01:50.271309+00:00 - 2023-06-21 17:01:50.271309+00:00 -> 782.004 - 782.004)\n",
      "  [407] Keeping  (2023-06-21 17:01:50.370309+00:00 - 2023-06-21 17:01:50.370309+00:00 -> 782.103 - 782.103)\n",
      "  [408] Keeping  (2023-06-21 17:01:52.572309+00:00 - 2023-06-21 17:01:52.572309+00:00 -> 784.305 - 784.305)\n",
      "  [409] Keeping  (2023-06-21 17:01:54.356309+00:00 - 2023-06-21 17:01:54.356309+00:00 -> 786.089 - 786.089)\n",
      "Cropping complete (kept 410)\n",
      "Fitting ICA took 71.7s.\n"
     ]
    },
    {
     "data": {
      "text/html": [
       "<table class=\"table table-hover table-striped table-sm table-responsive small\">\n",
       "    <tr>\n",
       "        <th>Method</th>\n",
       "        <td>fastica</td>\n",
       "    </tr>\n",
       "    <tr>\n",
       "        <th>Fit</th>\n",
       "        <td>118 iterations on raw data (686120 samples)</td>\n",
       "    </tr>\n",
       "    \n",
       "    <tr>\n",
       "        <th>ICA components</th>\n",
       "        <td>63</td>\n",
       "    </tr>\n",
       "    <tr>\n",
       "        <th>Available PCA components</th>\n",
       "        <td>63</td>\n",
       "    </tr>\n",
       "    <tr>\n",
       "        <th>Channel types</th>\n",
       "        <td>eeg</td>\n",
       "    </tr>\n",
       "    <tr>\n",
       "        <th>ICA components marked for exclusion</th>\n",
       "        <td>&mdash;</td>\n",
       "    </tr>\n",
       "    \n",
       "</table>"
      ],
      "text/plain": [
       "<ICA | raw data decomposition, method: fastica (fit in 118 iterations on 686120 samples), 63 ICA components (63 PCA components available), channel types: eeg, no sources marked for exclusion>"
      ]
     },
     "execution_count": 7,
     "metadata": {},
     "output_type": "execute_result"
    }
   ],
   "source": [
    "# Fitting ICA\n",
    "ica_b = ICA(n_components=len(filt_raw_b.ch_names)-1, max_iter=\"auto\", random_state=999)\n",
    "ica_b.fit(filt_raw_b, verbose='DEBUG')\n",
    "ica_b"
   ]
  },
  {
   "cell_type": "code",
   "execution_count": 8,
   "id": "9738f030",
   "metadata": {},
   "outputs": [
    {
     "data": {
      "text/plain": [
       "[<MNEFigure size 975x967 with 20 Axes>,\n",
       " <MNEFigure size 975x967 with 20 Axes>,\n",
       " <MNEFigure size 975x967 with 20 Axes>,\n",
       " <MNEFigure size 585x260 with 3 Axes>]"
      ]
     },
     "execution_count": 8,
     "metadata": {},
     "output_type": "execute_result"
    }
   ],
   "source": [
    "ica_b.plot_components()"
   ]
  },
  {
   "cell_type": "code",
   "execution_count": null,
   "id": "6bd639be",
   "metadata": {},
   "outputs": [
    {
     "name": "stdout",
     "output_type": "stream",
     "text": [
      "Creating RawArray with float64 data, n_channels=63, n_times=686120\n",
      "    Range : 99970 ... 786089 =     99.970 ...   786.089 secs\n",
      "Ready.\n",
      "Using qt as 2D backend.\n",
      "Using pyopengl with version 3.1.6\n"
     ]
    },
    {
     "data": {
      "text/plain": [
       "<mne_qt_browser._pg_figure.MNEQtBrowser at 0x2b8124820>"
      ]
     },
     "execution_count": 7,
     "metadata": {},
     "output_type": "execute_result"
    },
    {
     "name": "stdout",
     "output_type": "stream",
     "text": [
      "    Using multitaper spectrum estimation with 7 DPSS windows\n",
      "Not setting metadata\n",
      "343 matching events found\n",
      "No baseline correction applied\n",
      "0 projection items activated\n",
      "    Using multitaper spectrum estimation with 7 DPSS windows\n",
      "Not setting metadata\n",
      "343 matching events found\n",
      "No baseline correction applied\n",
      "0 projection items activated\n",
      "    Using multitaper spectrum estimation with 7 DPSS windows\n",
      "Not setting metadata\n",
      "343 matching events found\n",
      "No baseline correction applied\n",
      "0 projection items activated\n",
      "    Using multitaper spectrum estimation with 7 DPSS windows\n",
      "Not setting metadata\n",
      "343 matching events found\n",
      "No baseline correction applied\n",
      "0 projection items activated\n",
      "    Using multitaper spectrum estimation with 7 DPSS windows\n",
      "Not setting metadata\n",
      "343 matching events found\n",
      "No baseline correction applied\n",
      "0 projection items activated\n",
      "    Using multitaper spectrum estimation with 7 DPSS windows\n",
      "Not setting metadata\n",
      "343 matching events found\n",
      "No baseline correction applied\n",
      "0 projection items activated\n",
      "    Using multitaper spectrum estimation with 7 DPSS windows\n",
      "Not setting metadata\n",
      "343 matching events found\n",
      "No baseline correction applied\n",
      "0 projection items activated\n",
      "    Using multitaper spectrum estimation with 7 DPSS windows\n",
      "Not setting metadata\n",
      "343 matching events found\n",
      "No baseline correction applied\n",
      "0 projection items activated\n",
      "    Using multitaper spectrum estimation with 7 DPSS windows\n",
      "Not setting metadata\n",
      "343 matching events found\n",
      "No baseline correction applied\n",
      "0 projection items activated\n",
      "    Using multitaper spectrum estimation with 7 DPSS windows\n",
      "Not setting metadata\n",
      "343 matching events found\n",
      "No baseline correction applied\n",
      "0 projection items activated\n",
      "    Using multitaper spectrum estimation with 7 DPSS windows\n",
      "Not setting metadata\n",
      "343 matching events found\n",
      "No baseline correction applied\n",
      "0 projection items activated\n",
      "    Using multitaper spectrum estimation with 7 DPSS windows\n",
      "Not setting metadata\n",
      "343 matching events found\n",
      "No baseline correction applied\n",
      "0 projection items activated\n",
      "    Using multitaper spectrum estimation with 7 DPSS windows\n",
      "Not setting metadata\n",
      "343 matching events found\n",
      "No baseline correction applied\n",
      "0 projection items activated\n",
      "    Using multitaper spectrum estimation with 7 DPSS windows\n",
      "Not setting metadata\n",
      "343 matching events found\n",
      "No baseline correction applied\n",
      "0 projection items activated\n",
      "    Using multitaper spectrum estimation with 7 DPSS windows\n",
      "Not setting metadata\n",
      "343 matching events found\n",
      "No baseline correction applied\n",
      "0 projection items activated\n",
      "    Using multitaper spectrum estimation with 7 DPSS windows\n",
      "Not setting metadata\n",
      "343 matching events found\n",
      "No baseline correction applied\n",
      "0 projection items activated\n",
      "    Using multitaper spectrum estimation with 7 DPSS windows\n",
      "Not setting metadata\n",
      "343 matching events found\n",
      "No baseline correction applied\n",
      "0 projection items activated\n",
      "    Using multitaper spectrum estimation with 7 DPSS windows\n",
      "Not setting metadata\n",
      "343 matching events found\n",
      "No baseline correction applied\n",
      "0 projection items activated\n"
     ]
    }
   ],
   "source": [
    "raw_b.load_data()\n",
    "ica_b.plot_sources(raw_b)"
   ]
  },
  {
   "cell_type": "code",
   "execution_count": 9,
   "id": "6164e5fb",
   "metadata": {},
   "outputs": [
    {
     "data": {
      "text/plain": [
       "[42, 40, 50, 21, 23, 26, 25, 1, 4, 6, 9, 15]"
      ]
     },
     "execution_count": 9,
     "metadata": {},
     "output_type": "execute_result"
    }
   ],
   "source": [
    "ica_b.exclude"
   ]
  },
  {
   "cell_type": "code",
   "execution_count": 10,
   "id": "d2563097",
   "metadata": {},
   "outputs": [
    {
     "name": "stdout",
     "output_type": "stream",
     "text": [
      "Applying ICA to Raw instance\n",
      "    Transforming to ICA space (63 components)\n",
      "    Zeroing out 12 ICA components\n",
      "    Projecting back using 63 PCA components\n",
      "Using qt as 2D backend.\n",
      "Using pyopengl with version 3.1.6\n",
      "Using pyopengl with version 3.1.6\n"
     ]
    },
    {
     "data": {
      "text/plain": [
       "<mne_qt_browser._pg_figure.MNEQtBrowser at 0x3046bbf40>"
      ]
     },
     "execution_count": 10,
     "metadata": {},
     "output_type": "execute_result"
    },
    {
     "name": "stdout",
     "output_type": "stream",
     "text": [
      "Channels marked as bad:\n",
      "none\n",
      "Channels marked as bad:\n",
      "none\n"
     ]
    }
   ],
   "source": [
    "reconstr_raw_b = raw_b.copy()\n",
    "# Apply ica to copy\n",
    "ica_b.apply(reconstr_raw_b)\n",
    "# Plot and compare\n",
    "raw_b.plot(title=\"Raw data (posner b)\")\n",
    "reconstr_raw_b.plot(title=\"ICA applied (posner b)\")"
   ]
  },
  {
   "cell_type": "code",
   "execution_count": 11,
   "id": "c827991d",
   "metadata": {},
   "outputs": [
    {
     "name": "stdout",
     "output_type": "stream",
     "text": [
      "\n",
      "**** Saving file to:  /Users/babe/src/gla/dissertation/go/ica_notebooks/cleaned/m_19_02/m_19_02_pos2b.vhdr\n"
     ]
    },
    {
     "name": "stderr",
     "output_type": "stream",
     "text": [
      "/Applications/MNE-Python/.mne-python/lib/python3.10/site-packages/pybv/_export.py:61: RuntimeWarning: Encountered data in 'short' format. Converting to float32.\n",
      "  warn(\n",
      "/Applications/MNE-Python/.mne-python/lib/python3.10/site-packages/pybv/io.py:690: UserWarning: Encountered unsupported non-voltage units: n/a\n",
      "Note that the BrainVision format specification supports only µV.\n",
      "  warn(msg)\n"
     ]
    }
   ],
   "source": [
    "# Save file\n",
    "file_name_b = session_id+'_'+posner_id_b+'.vhdr'\n",
    "output_dir_b='cleaned'\n",
    "cur_dir = os.getcwd()\n",
    "session_dir = os.path.join(cur_dir, output_dir_b, session_id)\n",
    "if not os.path.exists(session_dir):\n",
    "   os.makedirs(session_dir)\n",
    "\n",
    "print(\"\\n**** Saving file to: \", session_dir+'/'+file_name_b) \n",
    "mne.export.export_raw(session_dir+'/'+file_name_b, reconstr_raw_b, verbose=1)"
   ]
  },
  {
   "cell_type": "code",
   "execution_count": 12,
   "id": "f7ba5405",
   "metadata": {},
   "outputs": [
    {
     "name": "stdout",
     "output_type": "stream",
     "text": [
      "\u001b[1;36m/Users/babe/src/gla/dissertation/go/ica_notebooks/cleaned/m_19_02\u001b[0m\n",
      "├── m_19_02_pos2b.eeg\n",
      "├── m_19_02_pos2b.vhdr\n",
      "└── m_19_02_pos2b.vmrk\n",
      "\n",
      "1 directory, 3 files\n"
     ]
    }
   ],
   "source": [
    "!tree {session_dir}"
   ]
  },
  {
   "cell_type": "markdown",
   "id": "429ef3b3",
   "metadata": {},
   "source": [
    "# ..."
   ]
  },
  {
   "cell_type": "code",
   "execution_count": 13,
   "id": "1de1fbea",
   "metadata": {},
   "outputs": [],
   "source": [
    "del raw_b\n",
    "del reconstr_raw_b\n",
    "del ica_b\n",
    "del filt_raw_b"
   ]
  }
 ],
 "metadata": {
  "kernelspec": {
   "display_name": "Python 3 (ipykernel)",
   "language": "python",
   "name": "python3"
  },
  "language_info": {
   "codemirror_mode": {
    "name": "ipython",
    "version": 3
   },
   "file_extension": ".py",
   "mimetype": "text/x-python",
   "name": "python",
   "nbconvert_exporter": "python",
   "pygments_lexer": "ipython3",
   "version": "3.10.10"
  }
 },
 "nbformat": 4,
 "nbformat_minor": 5
}
