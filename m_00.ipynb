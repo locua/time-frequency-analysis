{
 "cells": [
  {
   "cell_type": "code",
   "execution_count": 7,
   "id": "1124a7db",
   "metadata": {},
   "outputs": [
    {
     "name": "stdout",
     "output_type": "stream",
     "text": [
      "\n"
     ]
    }
   ],
   "source": [
    "## imports\n",
    "import pandas as pd\n",
    "import numpy as np\n",
    "import mne\n",
    "import re\n",
    "import os\n",
    "\n",
    "from mne.preprocessing import (\n",
    "    ICA, \n",
    "    create_ecg_epochs, \n",
    "    corrmap, \n",
    "    create_eog_epochs\n",
    ")\n",
    "\n",
    "# mne graphics config\n",
    "from PySide6 import QtCore, QtGui, QtWidgets, __version__ \n",
    "%matplotlib qt\n",
    "\n",
    "rawa = None\n",
    "rawb = None\n",
    "\n",
    "print('')"
   ]
  },
  {
   "cell_type": "code",
   "execution_count": 6,
   "id": "660f587d",
   "metadata": {},
   "outputs": [],
   "source": [
    "session_id='m_00_01'"
   ]
  },
  {
   "cell_type": "code",
   "execution_count": 24,
   "id": "9f21d4ad",
   "metadata": {},
   "outputs": [
    {
     "name": "stdout",
     "output_type": "stream",
     "text": [
      "Data file:  m_00_01/m_00_01_pos1a.vhdr\n"
     ]
    },
    {
     "name": "stderr",
     "output_type": "stream",
     "text": [
      "/Users/babe/src/gla/dissertation/go/rename_events.py:20: RuntimeWarning: No coordinate information found for channels ['ECG']. Setting channel types to misc. To avoid this warning, set channel types explicitly.\n",
      "  raw = mne.io.read_raw_brainvision(vhdr_file, preload=True)\n"
     ]
    },
    {
     "name": "stdout",
     "output_type": "stream",
     "text": [
      "Used Annotations descriptions: ['New Segment/', 'Stimulus/S 10', 'Stimulus/S 20', 'Stimulus/S 30', 'Stimulus/S 40', 'Stimulus/S 50', 'Stimulus/S 51', 'Stimulus/S 60', 'Stimulus/S 70', 'Stimulus/S 80', 'Stimulus/S101', 'Stimulus/S109', 'Stimulus/S117']\n",
      "Found '1a' in file: m_00_01/00_1a_posner_task_2023-04-05_15h00.59.401/00_1a_posner_task_2023-04-05_15h00.59.401.csv\n",
      "Found '1b' in file: m_00_01/00_1b_posner_task_2023-04-05_16h08.54.140/00_1b_posner_task_2023-04-05_16h08.54.140.csv\n",
      "********** 1a\n",
      "m_00_01/00_1a_posner_task_2023-04-05_15h00.59.401/00_1a_posner_task_2023-04-05_15h00.59.401.csv\n"
     ]
    },
    {
     "name": "stderr",
     "output_type": "stream",
     "text": [
      "/Users/babe/src/gla/dissertation/go/rename_events.py:20: RuntimeWarning: Not setting position of 1 misc channel found in montage:\n",
      "['ECG']\n",
      "Consider setting the channel types to be of EEG/sEEG/ECoG/DBS/fNIRS using inst.set_channel_types before calling inst.set_montage, or omit these channels when creating your montage.\n",
      "  raw = mne.io.read_raw_brainvision(vhdr_file, preload=True)\n"
     ]
    }
   ],
   "source": [
    "# Removed cached function import\n",
    "import sys\n",
    "try:\n",
    "    del sys.modules['rename_events']\n",
    "except KeyError:\n",
    "    pass\n",
    "from rename_events import relabel_events\n",
    "\n",
    "relabel_events('m_00_01', 'pos1a')"
   ]
  },
  {
   "cell_type": "code",
   "execution_count": 3,
   "id": "7fdf55d4",
   "metadata": {},
   "outputs": [
    {
     "name": "stdout",
     "output_type": "stream",
     "text": [
      "Extracting parameters from m_00_01/m_00_01_pos1a.vhdr...\n",
      "Setting channel info structure...\n",
      "Reading 0 ... 1069219  =      0.000 ...  1069.219 secs...\n"
     ]
    },
    {
     "name": "stderr",
     "output_type": "stream",
     "text": [
      "/var/folders/2b/4tnqzv_x3x17pf4q1_n7m8h40000gn/T/ipykernel_60404/3535786573.py:4: RuntimeWarning: No coordinate information found for channels ['ECG']. Setting channel types to misc. To avoid this warning, set channel types explicitly.\n",
      "  raw_a = mne.io.read_raw_brainvision(session_id + '/'+session_id+'_pos1a.vhdr', preload=True)\n"
     ]
    },
    {
     "name": "stdout",
     "output_type": "stream",
     "text": [
      "Used Annotations descriptions: ['New Segment/', 'Stimulus/S 10', 'Stimulus/S 20', 'Stimulus/S 30', 'Stimulus/S 40', 'Stimulus/S 50', 'Stimulus/S 51', 'Stimulus/S 60', 'Stimulus/S 70', 'Stimulus/S 80', 'Stimulus/S101', 'Stimulus/S109', 'Stimulus/S117']\n",
      "Filtering raw data in 1 contiguous segment\n",
      "Setting up band-pass filter from 1 - 40 Hz\n",
      "\n",
      "FIR filter parameters\n",
      "---------------------\n",
      "Designing a one-pass, zero-phase, non-causal bandpass filter:\n",
      "- Windowed time-domain design (firwin) method\n",
      "- Hamming window with 0.0194 passband ripple and 53 dB stopband attenuation\n",
      "- Lower passband edge: 1.00\n",
      "- Lower transition bandwidth: 1.00 Hz (-6 dB cutoff frequency: 0.50 Hz)\n",
      "- Upper passband edge: 40.00 Hz\n",
      "- Upper transition bandwidth: 10.00 Hz (-6 dB cutoff frequency: 45.00 Hz)\n",
      "- Filter length: 3301 samples (3.301 sec)\n",
      "\n"
     ]
    },
    {
     "name": "stderr",
     "output_type": "stream",
     "text": [
      "/var/folders/2b/4tnqzv_x3x17pf4q1_n7m8h40000gn/T/ipykernel_60404/3535786573.py:4: RuntimeWarning: Not setting position of 1 misc channel found in montage:\n",
      "['ECG']\n",
      "Consider setting the channel types to be of EEG/sEEG/ECoG/DBS/fNIRS using inst.set_channel_types before calling inst.set_montage, or omit these channels when creating your montage.\n",
      "  raw_a = mne.io.read_raw_brainvision(session_id + '/'+session_id+'_pos1a.vhdr', preload=True)\n",
      "[Parallel(n_jobs=1)]: Using backend SequentialBackend with 1 concurrent workers.\n",
      "[Parallel(n_jobs=1)]: Done   1 out of   1 | elapsed:    0.0s remaining:    0.0s\n",
      "[Parallel(n_jobs=1)]: Done   2 out of   2 | elapsed:    0.0s remaining:    0.0s\n",
      "[Parallel(n_jobs=1)]: Done   3 out of   3 | elapsed:    0.0s remaining:    0.0s\n",
      "[Parallel(n_jobs=1)]: Done   4 out of   4 | elapsed:    0.0s remaining:    0.0s\n"
     ]
    },
    {
     "name": "stdout",
     "output_type": "stream",
     "text": [
      "Not setting metadata\n",
      "414 matching events found\n",
      "Setting baseline interval to [-0.2, 0.0] sec\n",
      "Applying baseline correction (mode: mean)\n",
      "0 projection items activated\n",
      "Using data from preloaded Raw for 414 events and 701 original time points ...\n",
      "6 bad epochs dropped\n"
     ]
    },
    {
     "name": "stderr",
     "output_type": "stream",
     "text": [
      "[Parallel(n_jobs=1)]: Done  63 out of  63 | elapsed:    0.7s finished\n"
     ]
    }
   ],
   "source": [
    "# Load data\n",
    "# Specify the path to your BrainVision data\n",
    "# Load the data\n",
    "raw_a = mne.io.read_raw_brainvision(session_id + '/'+session_id+'_pos1a.vhdr', preload=True)\n",
    "\n",
    "# get events and times\n",
    "events = mne.events_from_annotations(raw_a)\n",
    "e_a = events[0]\n",
    "# all rows with fixation (code 40)\n",
    "e_40_a = e_a[e_a[:, 2] == 40]\n",
    "# all rows with trial end (code 101)\n",
    "e_101_a = e_a[e_a[:,2]==101]\n",
    "\n",
    "a_tmin= e_40_a[0][0]/1000\n",
    "a_tmax= e_101_a[-1][0]/1000\n",
    "\n",
    "# Filter\n",
    "filt_raw_a = raw_a.crop(tmin=a_tmin, tmax=a_tmax).copy().filter(l_freq=1.0, h_freq=40)\n",
    "\n",
    "epochs_a = mne.Epochs(filt_raw_a, \n",
    "                    e_a, \n",
    "                    event_id=None, \n",
    "                    tmin=-0.2, \n",
    "                    tmax=0.5, \n",
    "                    preload=True, \n",
    "                    baseline=(None, 0))"
   ]
  },
  {
   "cell_type": "code",
   "execution_count": 7,
   "id": "e23ca021",
   "metadata": {},
   "outputs": [
    {
     "name": "stdout",
     "output_type": "stream",
     "text": [
      "Data file:  m_00_01/m_00_01_pos1a.vhdr\n",
      "Extracting parameters from m_00_01/m_00_01_pos1a.vhdr...\n",
      "Setting channel info structure...\n",
      "Reading 0 ... 1069219  =      0.000 ...  1069.219 secs...\n"
     ]
    },
    {
     "name": "stderr",
     "output_type": "stream",
     "text": [
      "/Users/babe/src/gla/dissertation/go/rename_events.py:10: RuntimeWarning: No coordinate information found for channels ['ECG']. Setting channel types to misc. To avoid this warning, set channel types explicitly.\n",
      "  raw = mne.io.read_raw_brainvision(session_id + '/'+session_id+'_'+pos_id+'.vhdr', preload=True)\n",
      "/Users/babe/src/gla/dissertation/go/rename_events.py:10: RuntimeWarning: Not setting position of 1 misc channel found in montage:\n",
      "['ECG']\n",
      "Consider setting the channel types to be of EEG/sEEG/ECoG/DBS/fNIRS using inst.set_channel_types before calling inst.set_montage, or omit these channels when creating your montage.\n",
      "  raw = mne.io.read_raw_brainvision(session_id + '/'+session_id+'_'+pos_id+'.vhdr', preload=True)\n"
     ]
    }
   ],
   "source": []
  },
  {
   "cell_type": "code",
   "execution_count": null,
   "id": "a8f11daf",
   "metadata": {},
   "outputs": [],
   "source": [
    "%matplotlib qt\n",
    "raw_a.plot()"
   ]
  },
  {
   "cell_type": "code",
   "execution_count": 6,
   "id": "74a62c10",
   "metadata": {},
   "outputs": [
    {
     "name": "stdout",
     "output_type": "stream",
     "text": [
      "Fitting ICA to data using 63 channels (please be patient, this may take a while)\n",
      "Selecting by number: 63 components\n",
      "Fitting ICA took 73.1s.\n"
     ]
    },
    {
     "data": {
      "text/html": [
       "<table class=\"table table-hover table-striped table-sm table-responsive small\">\n",
       "    <tr>\n",
       "        <th>Method</th>\n",
       "        <td>fastica</td>\n",
       "    </tr>\n",
       "    <tr>\n",
       "        <th>Fit</th>\n",
       "        <td>75 iterations on raw data (685732 samples)</td>\n",
       "    </tr>\n",
       "    \n",
       "    <tr>\n",
       "        <th>ICA components</th>\n",
       "        <td>63</td>\n",
       "    </tr>\n",
       "    <tr>\n",
       "        <th>Available PCA components</th>\n",
       "        <td>63</td>\n",
       "    </tr>\n",
       "    <tr>\n",
       "        <th>Channel types</th>\n",
       "        <td>eeg</td>\n",
       "    </tr>\n",
       "    <tr>\n",
       "        <th>ICA components marked for exclusion</th>\n",
       "        <td>&mdash;</td>\n",
       "    </tr>\n",
       "    \n",
       "</table>"
      ],
      "text/plain": [
       "<ICA | raw data decomposition, method: fastica (fit in 75 iterations on 685732 samples), 63 ICA components (63 PCA components available), channel types: eeg, no sources marked for exclusion>"
      ]
     },
     "execution_count": 6,
     "metadata": {},
     "output_type": "execute_result"
    }
   ],
   "source": [
    "# Fitting ICA\n",
    "ica = ICA(n_components=len(filt_raw_a.ch_names)-1, max_iter=\"auto\", random_state=999)\n",
    "ica.fit(filt_raw_a)\n",
    "ica"
   ]
  },
  {
   "cell_type": "code",
   "execution_count": null,
   "id": "95869ae4",
   "metadata": {},
   "outputs": [],
   "source": []
  }
 ],
 "metadata": {
  "kernelspec": {
   "display_name": "Python 3 (ipykernel)",
   "language": "python",
   "name": "python3"
  },
  "language_info": {
   "codemirror_mode": {
    "name": "ipython",
    "version": 3
   },
   "file_extension": ".py",
   "mimetype": "text/x-python",
   "name": "python",
   "nbconvert_exporter": "python",
   "pygments_lexer": "ipython3",
   "version": "3.10.10"
  }
 },
 "nbformat": 4,
 "nbformat_minor": 5
}
